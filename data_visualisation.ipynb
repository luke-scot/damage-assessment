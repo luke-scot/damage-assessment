{
 "metadata": {
  "language_info": {
   "codemirror_mode": {
    "name": "ipython",
    "version": 3
   },
   "file_extension": ".py",
   "mimetype": "text/x-python",
   "name": "python",
   "nbconvert_exporter": "python",
   "pygments_lexer": "ipython3",
   "version": "3.9.0-final"
  },
  "orig_nbformat": 2,
  "kernelspec": {
   "name": "python3",
   "display_name": "Python 3.9.0 64-bit",
   "metadata": {
    "interpreter": {
     "hash": "139694f306bb52b89b2582baaa1d782168b8e92b4bab3b8165b2808ea15893f2"
    }
   }
  }
 },
 "nbformat": 4,
 "nbformat_minor": 2,
 "cells": [
  {
   "source": [
    "# Data Visualisation\n",
    "This notebook shows visualisations of the various data sources used in this project.\n",
    "## 1 - Beirut Damage Assessment from GeoPal"
   ],
   "cell_type": "markdown",
   "metadata": {}
  },
  {
   "cell_type": "code",
   "execution_count": 2,
   "metadata": {},
   "outputs": [
    {
     "output_type": "error",
     "ename": "ModuleNotFoundError",
     "evalue": "No module named 'geopandas'",
     "traceback": [
      "\u001b[1;31m---------------------------------------------------------------------------\u001b[0m",
      "\u001b[1;31mModuleNotFoundError\u001b[0m                       Traceback (most recent call last)",
      "\u001b[1;32m<ipython-input-2-624b22874141>\u001b[0m in \u001b[0;36m<module>\u001b[1;34m\u001b[0m\n\u001b[0;32m      3\u001b[0m \u001b[1;32mimport\u001b[0m \u001b[0mnumpy\u001b[0m \u001b[1;32mas\u001b[0m \u001b[0mnp\u001b[0m\u001b[1;33m\u001b[0m\u001b[1;33m\u001b[0m\u001b[0m\n\u001b[0;32m      4\u001b[0m \u001b[1;32mimport\u001b[0m \u001b[0mpandas\u001b[0m \u001b[1;32mas\u001b[0m \u001b[0mpd\u001b[0m\u001b[1;33m\u001b[0m\u001b[1;33m\u001b[0m\u001b[0m\n\u001b[1;32m----> 5\u001b[1;33m \u001b[1;32mimport\u001b[0m \u001b[0mgeopandas\u001b[0m \u001b[1;32mas\u001b[0m \u001b[0mgpd\u001b[0m\u001b[1;33m\u001b[0m\u001b[1;33m\u001b[0m\u001b[0m\n\u001b[0m\u001b[0;32m      6\u001b[0m \u001b[1;32mfrom\u001b[0m \u001b[0mipyleaflet\u001b[0m \u001b[1;32mimport\u001b[0m \u001b[0mMap\u001b[0m\u001b[1;33m,\u001b[0m \u001b[0mbasemaps\u001b[0m\u001b[1;33m\u001b[0m\u001b[1;33m\u001b[0m\u001b[0m\n",
      "\u001b[1;31mModuleNotFoundError\u001b[0m: No module named 'geopandas'"
     ]
    }
   ],
   "source": [
    "# Package imports\n",
    "import math\n",
    "import numpy as np\n",
    "import pandas as pd\n",
    "import geopandas as gpd\n",
    "from ipyleaflet import Map, basemaps"
   ]
  },
  {
   "cell_type": "code",
   "execution_count": 3,
   "metadata": {},
   "outputs": [],
   "source": [
    "# Define variables\n",
    "lat, lon, zoom = 33.90, 35.50, 14 # Map properties\n",
    "dataFile = \"./data/geopalData.csv\""
   ]
  },
  {
   "cell_type": "code",
   "execution_count": 10,
   "metadata": {},
   "outputs": [
    {
     "output_type": "execute_result",
     "data": {
      "text/plain": [
       "Index(['Job ID', 'Job Name', 'Created By', 'Created On', 'Assigned To',\n",
       "       'Assigned Date Time', 'Preferred Start', 'Preferred End', 'Contact Id',\n",
       "       'First Name', 'Last Name', 'Address Line 1', 'Address Line 2',\n",
       "       'Address Line 3', 'City', 'Postal Code', 'Contact Phone Number',\n",
       "       'Contact Mobile Number', 'Contact Email', 'Company Id', 'Company Name',\n",
       "       'Start Time', 'End Time', 'Last Updated Date Time', 'Status', 'Notes',\n",
       "       'check in - بدء_w_2049197', 'get location - الموقع_w_2049198',\n",
       "       'point on map - الموقع على الخريطة_w_2049199',\n",
       "       'plot number - رقم العقار_w_2049200',\n",
       "       'plot area - المنطقة العقارية_w_2049201', 'street - الشارع_w_2049203',\n",
       "       'building status - وضع البناء_w_2049204',\n",
       "       'structural damage level - مستوى الضرر الأنشائي للمبنى_w_2049205',\n",
       "       'must be evacuated? - هل يتوجب إخلاؤه؟_w_2049206',\n",
       "       'evacuation note - ملاحظة عن ضرورة الإخلاء_w_2049207',\n",
       "       'number of floors - عدد الطوابق_w_2049208',\n",
       "       'number of units - عدد الشقق_w_2049209',\n",
       "       'building use - وجهة الاستعمال للمبنى_w_2049210',\n",
       "       'ground floor use - وجهة الاستعمال للطابق الأرضي_w_2049211',\n",
       "       'affected facades - واجهات البناء المتضررة_w_2049212',\n",
       "       'glass sqm (approximate quantity) - الكمية التقريبية للزجاج_w_2049213',\n",
       "       'glass and aluminum sqm (approximate quantity)  - الكمية التقريبية للألمنيوم و الزجاج_w_2049214',\n",
       "       'sliding doors sqm  (approximate quantity)  - الكمية التقريبية للأبواب الجرارة_w_2049215',\n",
       "       'balconies sqm (approximate quantity)  - الكمية التقريبية للشرفات_w_2049216',\n",
       "       'cladding sqm (approximate quantity)  -الكمية التقريبية للتلبيس_w_2049217',\n",
       "       'external walls sqm (approximate quantity)  - الكمية التقريبية للجدران الخارجية_w_2049218',\n",
       "       'brick pitched roof sqm (approximate quantity)  - الكمية التقريبية لتكنة قرميد_w_2049219',\n",
       "       'others (approximate quantity)  - الكمية التقريبية للواجهات الأخرى_w_2049220',\n",
       "       'heritage building - مبنى تراثي_w_2049221',\n",
       "       'take pictures - التقاط صور_w_2049222', 'upload photo_w_2049684',\n",
       "       'manual report picture_w_2049685',\n",
       "       'other notes - ملاحظات أخرى_w_2049223', 'decision - القرار_w_2049224',\n",
       "       'describe restrictions - وصف القيود_w_2049225', 'disclaimer_w_2051714',\n",
       "       'check out - إنهاء_w_2049226', 'Asset Identifier', 'Asset Name',\n",
       "       'Asset Type', 'Teams', 'Sites', 'Time Working', 'Time Paused',\n",
       "       'Time Active', 'Project Identifier', 'Project Name',\n",
       "       'Completed And Synced Date Time'],\n",
       "      dtype='object')"
      ]
     },
     "metadata": {},
     "execution_count": 10
    }
   ],
   "source": [
    "# View data information\n",
    "allData = pd.read_csv(dataFile)\n",
    "allData.columns"
   ]
  },
  {
   "cell_type": "code",
   "execution_count": 15,
   "metadata": {},
   "outputs": [
    {
     "output_type": "execute_result",
     "data": {
      "text/plain": [
       "  get location - الموقع_w_2049198 building status - وضع البناء_w_2049204  \\\n",
       "0           33.8830089 35.5577379                                    NaN   \n",
       "1                             NaN                                    NaN   \n",
       "2           33.8830024 35.5577550          Opened on 2020-08-12 10:40:12   \n",
       "3           33.8830063 35.5577587          Opened on 2020-08-11 20:07:31   \n",
       "4                             NaN                                    NaN   \n",
       "\n",
       "  structural damage level - مستوى الضرر الأنشائي للمبنى_w_2049205  \\\n",
       "0                                                NaN                \n",
       "1                                                NaN                \n",
       "2                                                NaN                \n",
       "3  Partially destroyed (poses a public safety haz...                \n",
       "4                                                NaN                \n",
       "\n",
       "   number of floors - عدد الطوابق_w_2049208  \\\n",
       "0                                       NaN   \n",
       "1                                       NaN   \n",
       "2                                       NaN   \n",
       "3                                       5.0   \n",
       "4                                       NaN   \n",
       "\n",
       "   number of units - عدد الشقق_w_2049209  \\\n",
       "0                                    NaN   \n",
       "1                                    NaN   \n",
       "2                                    NaN   \n",
       "3                                    5.0   \n",
       "4                                    NaN   \n",
       "\n",
       "  building use - وجهة الاستعمال للمبنى_w_2049210  \n",
       "0                                            NaN  \n",
       "1                                            NaN  \n",
       "2                                            NaN  \n",
       "3              Residential سكني,Commercial تجاري  \n",
       "4                                            NaN  "
      ],
      "text/html": "<div>\n<style scoped>\n    .dataframe tbody tr th:only-of-type {\n        vertical-align: middle;\n    }\n\n    .dataframe tbody tr th {\n        vertical-align: top;\n    }\n\n    .dataframe thead th {\n        text-align: right;\n    }\n</style>\n<table border=\"1\" class=\"dataframe\">\n  <thead>\n    <tr style=\"text-align: right;\">\n      <th></th>\n      <th>get location - الموقع_w_2049198</th>\n      <th>building status - وضع البناء_w_2049204</th>\n      <th>structural damage level - مستوى الضرر الأنشائي للمبنى_w_2049205</th>\n      <th>number of floors - عدد الطوابق_w_2049208</th>\n      <th>number of units - عدد الشقق_w_2049209</th>\n      <th>building use - وجهة الاستعمال للمبنى_w_2049210</th>\n    </tr>\n  </thead>\n  <tbody>\n    <tr>\n      <th>0</th>\n      <td>33.8830089 35.5577379</td>\n      <td>NaN</td>\n      <td>NaN</td>\n      <td>NaN</td>\n      <td>NaN</td>\n      <td>NaN</td>\n    </tr>\n    <tr>\n      <th>1</th>\n      <td>NaN</td>\n      <td>NaN</td>\n      <td>NaN</td>\n      <td>NaN</td>\n      <td>NaN</td>\n      <td>NaN</td>\n    </tr>\n    <tr>\n      <th>2</th>\n      <td>33.8830024 35.5577550</td>\n      <td>Opened on 2020-08-12 10:40:12</td>\n      <td>NaN</td>\n      <td>NaN</td>\n      <td>NaN</td>\n      <td>NaN</td>\n    </tr>\n    <tr>\n      <th>3</th>\n      <td>33.8830063 35.5577587</td>\n      <td>Opened on 2020-08-11 20:07:31</td>\n      <td>Partially destroyed (poses a public safety haz...</td>\n      <td>5.0</td>\n      <td>5.0</td>\n      <td>Residential سكني,Commercial تجاري</td>\n    </tr>\n    <tr>\n      <th>4</th>\n      <td>NaN</td>\n      <td>NaN</td>\n      <td>NaN</td>\n      <td>NaN</td>\n      <td>NaN</td>\n      <td>NaN</td>\n    </tr>\n  </tbody>\n</table>\n</div>"
     },
     "metadata": {},
     "execution_count": 15
    }
   ],
   "source": [
    "usefulData = allData[['get location - الموقع_w_2049198','building status - وضع البناء_w_2049204','structural damage level - مستوى الضرر الأنشائي للمبنى_w_2049205','number of floors - عدد الطوابق_w_2049208','number of units - عدد الشقق_w_2049209','building use - وجهة الاستعمال للمبنى_w_2049210']]\n",
    "usefulData.head()"
   ]
  },
  {
   "cell_type": "code",
   "execution_count": 16,
   "metadata": {},
   "outputs": [],
   "source": [
    "data['damage'] = allData['structural damage level - مستوى الضرر الأنشائي للمبنى_w_2049205']\n",
    "data['floors'] = allData['number of floors - عدد الطوابق_w_2049208']\n",
    "data['units'] = allData['number of units - عدد الشقق_w_2049209']\n",
    "data['use'] = allData['building use - وجهة الاستعمال للمبنى_w_2049210']\n",
    "data['decision'] = allData['decision - القرار_w_2049224']"
   ]
  },
  {
   "cell_type": "code",
   "execution_count": 55,
   "metadata": {
    "tags": []
   },
   "outputs": [
    {
     "output_type": "error",
     "ename": "NameError",
     "evalue": "name 'geopandas' is not defined",
     "traceback": [
      "\u001b[1;31m---------------------------------------------------------------------------\u001b[0m",
      "\u001b[1;31mNameError\u001b[0m                                 Traceback (most recent call last)",
      "\u001b[1;32m<ipython-input-55-3b98973fe53c>\u001b[0m in \u001b[0;36m<module>\u001b[1;34m\u001b[0m\n\u001b[0;32m     12\u001b[0m \u001b[1;33m\u001b[0m\u001b[0m\n\u001b[0;32m     13\u001b[0m \u001b[1;33m\u001b[0m\u001b[0m\n\u001b[1;32m---> 14\u001b[1;33m \u001b[0mgdf\u001b[0m \u001b[1;33m=\u001b[0m \u001b[0mgeopandas\u001b[0m\u001b[1;33m.\u001b[0m\u001b[0mGeoDataFrame\u001b[0m\u001b[1;33m(\u001b[0m\u001b[0mdf\u001b[0m\u001b[1;33m,\u001b[0m \u001b[0mgeometry\u001b[0m\u001b[1;33m=\u001b[0m\u001b[0mgeopandas\u001b[0m\u001b[1;33m.\u001b[0m\u001b[0mpoints_from_xy\u001b[0m\u001b[1;33m(\u001b[0m\u001b[0mlons\u001b[0m\u001b[1;33m,\u001b[0m \u001b[0mlats\u001b[0m\u001b[1;33m)\u001b[0m\u001b[1;33m)\u001b[0m\u001b[1;33m\u001b[0m\u001b[1;33m\u001b[0m\u001b[0m\n\u001b[0m\u001b[0;32m     15\u001b[0m \u001b[1;31m# Map(basemap=basemaps.OpenStreetMap.Mapnik, center=[lat, lon], zoom=zoom)\u001b[0m\u001b[1;33m\u001b[0m\u001b[1;33m\u001b[0m\u001b[1;33m\u001b[0m\u001b[0m\n",
      "\u001b[1;31mNameError\u001b[0m: name 'geopandas' is not defined"
     ]
    }
   ],
   "source": [
    "# Plot data on map\n",
    "locations, mapPoints = allData['get location - الموقع_w_2049198'], allData['point on map - الموقع على الخريطة_w_2049199']\n",
    "lats, lons = np.zeros([len(locations), 1]),  np.zeros([len(locations), 1])\n",
    "for i in range(len(locations)):\n",
    "    loc = locations[i]\n",
    "    if type(loc) is float or (type(loc) is str and loc[0].isalpha()):\n",
    "        mp = mapPoints[i]\n",
    "        if type(mp) is str and mp[0].isdigit():\n",
    "            try: lats[i], lons[i] = mp.split(' ')[0], mp.split(' ')[1]\n",
    "            except: lats[i], lons[i] = mp.split(',')[0], mp.split(',')[1] # Deal with rogue commas instead of space\n",
    "    else: lats[i], lons[i] = loc.split(' ')[0], loc.split(' ')[1]\n",
    "    \n",
    "\n",
    "geoData = gpd.GeoDataFrame(data, geometry=geopandas.points_from_xy(lons, lats))\n",
    "# Map(basemap=basemaps.OpenStreetMap.Mapnik, center=[lat, lon], zoom=zoom)\n"
   ]
  },
  {
   "cell_type": "code",
   "execution_count": 47,
   "metadata": {},
   "outputs": [
    {
     "output_type": "execute_result",
     "data": {
      "text/plain": [
       "True"
      ]
     },
     "metadata": {},
     "execution_count": 47
    }
   ],
   "source": [
    "str(2).isdigit()"
   ]
  },
  {
   "cell_type": "code",
   "execution_count": 54,
   "metadata": {},
   "outputs": [
    {
     "output_type": "execute_result",
     "data": {
      "text/plain": [
       "array([[33.8830089 ],\n",
       "       [ 0.        ],\n",
       "       [33.8830024 ],\n",
       "       ...,\n",
       "       [33.88788683],\n",
       "       [33.88646598],\n",
       "       [33.88714231]])"
      ]
     },
     "metadata": {},
     "execution_count": 54
    }
   ],
   "source": [
    "lats"
   ]
  },
  {
   "cell_type": "code",
   "execution_count": null,
   "metadata": {},
   "outputs": [],
   "source": []
  }
 ]
}