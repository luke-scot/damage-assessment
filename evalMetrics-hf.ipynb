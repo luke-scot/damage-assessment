{
 "cells": [
  {
   "cell_type": "markdown",
   "id": "entertaining-following",
   "metadata": {},
   "source": [
    "# Notebook evaluating metrics for particular node/edge configuration"
   ]
  },
  {
   "cell_type": "code",
   "execution_count": 1,
   "id": "narrow-curtis",
   "metadata": {},
   "outputs": [],
   "source": [
    "# Imprt helper functions\n",
    "# If new server on Descartes Labs, need to install rioxarray \n",
    "try: import rioxarray\n",
    "except: \n",
    "    %pip install rioxarray\n",
    "    \n",
    "# Import helper functions\n",
    "import helper_functions as hf\n",
    "import netconf.netconf as nc"
   ]
  },
  {
   "cell_type": "code",
   "execution_count": 8,
   "id": "legislative-saskatchewan",
   "metadata": {},
   "outputs": [],
   "source": [
    "# Define variables\n",
    "# Location variables\n",
    "lat, lon, zoom = 33.893, 35.512, 14 # Map properties\n",
    "\n",
    "# Building Footprints, damade assessments and interferogram file paths\n",
    "buildingFile = \"./data/beirutBuildingFootprints.geojson\" # OSM data\n",
    "assessmentFile = \"./data/geopalData.csv\" # GeoPal data\n",
    "ifgFile = \"./data/beirutPrePostExplosionIfg.tif\" # SNAP output\n",
    "\n",
    "# A priori damage beliefs (green, yellow, red decisions)\n",
    "decisions = {'GREEN (inspected) أخضر (تم دراسته)': False, 'YELLOW (restricted use) أصفر (لا يصلح للسكن)': True, 'RED (unsafe/evacuate) أحمر (غير آمن/للاخلاء)ء': True}\n",
    "beliefs = [0,0.9,1]\n",
    "\n",
    "# Edge creation\n",
    "adjacent, ifgValues, neighbours = True, True, 10\n",
    "\n",
    "# Train/test split\n",
    "testSplit, dmgThresh, stdTest, randomState = 0.3, 0.5, False, 42\n",
    "\n",
    "# Classifications\n",
    "targets = ['Undamaged', 'Damaged']"
   ]
  },
  {
   "cell_type": "code",
   "execution_count": 9,
   "id": "dimensional-blogger",
   "metadata": {},
   "outputs": [
    {
     "data": {
      "application/vnd.jupyter.widget-view+json": {
       "model_id": "9d20811f6f6d49af8d0c41e139d04db9",
       "version_major": 2,
       "version_minor": 0
      },
      "text/plain": [
       "Map(center=[33.893, 35.512], controls=(ZoomControl(options=['position', 'zoom_in_text', 'zoom_in_title', 'zoom…"
      ]
     },
     "metadata": {},
     "output_type": "display_data"
    }
   ],
   "source": [
    "## Import Ground Data and combine\n",
    "# Import footprints geojson\n",
    "footprints = hf.import_OSM_fps(buildingFile)\n",
    "\n",
    "# Import GeoPal assessments\n",
    "assessments = hf.import_located_geopal_data(assessmentFile)\n",
    "\n",
    "# Get joint geodataframe of building footprints with damage assessments\n",
    "joint = hf.join_gdfs(footprints, assessments, column='decision')\n",
    "\n",
    "# Display map of assessments upon which to draw Polygon for analysis\n",
    "m1 = hf.create_map(lat, lon, zoom)\n",
    "m1 = hf.plot_assessments(joint, m1)\n",
    "m1, testPoly = hf.draw_polygon(joint, m1, stdTest)\n",
    "m1"
   ]
  },
  {
   "cell_type": "code",
   "execution_count": 10,
   "id": "twelve-stuart",
   "metadata": {},
   "outputs": [
    {
     "name": "stdout",
     "output_type": "stream",
     "text": [
      "Train/Test set stratification not possible due to less than 2 members from smallest class.\n"
     ]
    }
   ],
   "source": [
    "# Import interferogram to dataframe\n",
    "ifg, poly = hf.ifg_to_df(ifgFile, testPoly)\n",
    "\n",
    "# Initialise beliefs for each pixel\n",
    "initial = hf.init_beliefs(ifg, columns=['noDmg','dmg','ifg'])\n",
    "\n",
    "# Split train/test set for located nodes\n",
    "X_train, X_test, y_train, y_test = hf.train_test_split(joint, poly, column = 'decision')\n",
    "\n",
    "# Create nodes\n",
    "nodes = hf.create_nodes(initial, X_train)\n",
    "\n",
    "# Assign prior beliefs from assessments\n",
    "priors = hf.prior_beliefs(nodes, decisions, beliefs, column = 'decision', beliefColumns = ['noDmg', 'dmg'])\n",
    "\n",
    "# Create edges\n",
    "edges = hf.create_edges(nodes, adjacent=adjacent, values=['ifg'] if ifgValues else False, neighbours=[neighbours])"
   ]
  },
  {
   "cell_type": "code",
   "execution_count": 11,
   "id": "expired-entrance",
   "metadata": {},
   "outputs": [
    {
     "name": "stdout",
     "output_type": "stream",
     "text": [
      "It\tmax{del(B)}\tdel(label)\n",
      "\n",
      "0\t3.78626e-01\t\t19\n",
      "\n",
      "1\t1.67227e-01\t\t37\n",
      "\n",
      "2\t8.58285e-02\t\t5\n",
      "\n",
      "3\t4.29040e-02\t\t8\n",
      "\n",
      "4\t2.18110e-02\t\t2\n",
      "\n",
      "5\t1.10226e-02\t\t1\n",
      "\n",
      "6\t5.53905e-03\t\t0\n",
      "\n",
      "7\t2.76772e-03\t\t0\n",
      "\n",
      "8\t1.37729e-03\t\t0\n",
      "\n",
      "9\t6.82945e-04\t\t0\n",
      "\n",
      "10\t3.37667e-04\t\t0\n",
      "\n",
      "11\t1.66538e-04\t\t0\n",
      "\n",
      "12\t8.19636e-05\t\t0\n",
      "\n"
     ]
    }
   ],
   "source": [
    "# Run belief propagation\n",
    "beliefs, _ = nc.netconf(edges,priors,verbose=True)"
   ]
  },
  {
   "cell_type": "code",
   "execution_count": 12,
   "id": "technical-response",
   "metadata": {},
   "outputs": [
    {
     "name": "stdout",
     "output_type": "stream",
     "text": [
      "              precision    recall  f1-score   support\n",
      "\n",
      "   Undamaged       0.88      0.82      0.85        17\n",
      "     Damaged       0.00      0.00      0.00         2\n",
      "\n",
      "    accuracy                           0.74        19\n",
      "   macro avg       0.44      0.41      0.42        19\n",
      "weighted avg       0.78      0.74      0.76        19\n",
      "\n"
     ]
    },
    {
     "data": {
      "image/png": "[encoded data removed]",
      "text/plain": [
       "<Figure size 1008x360 with 2 Axes>"
      ]
     },
     "metadata": {
      "needs_background": "light"
     },
     "output_type": "display_data"
    }
   ],
   "source": [
    "# Evaluation Metrics\n",
    "# Get y_true vs y_pred for test set\n",
    "y_true, y_pred = hf.get_labels(initial, X_test, beliefs, decisions, column='decision')\n",
    "\n",
    "# Classification metrics\n",
    "yp_clf = hf.class_metrics(y_true, y_pred, targets, threshold=dmgThresh)\n",
    "\n",
    "fig, axs = hf.create_subplots(1,2, figsize=[14,5])\n",
    "# Confusion matrix\n",
    "axs = hf.confusion_matrix(axs, y_true, yp_clf, targets)\n",
    "  \n",
    "# Cross entropy / Confidence metrics\n",
    "axs = hf.cross_entropy_metrics(axs, y_true, y_pred, targets)\n",
    "\n",
    "hf.show_plot()"
   ]
  },
  {
   "cell_type": "code",
   "execution_count": null,
   "id": "assumed-thailand",
   "metadata": {},
   "outputs": [],
   "source": []
  }
 ],
 "metadata": {
  "kernelspec": {
   "display_name": "Python 3",
   "language": "python",
   "name": "python3"
  },
  "language_info": {
   "codemirror_mode": {
    "name": "ipython",
    "version": 3
   },
   "file_extension": ".py",
   "mimetype": "text/x-python",
   "name": "python",
   "nbconvert_exporter": "python",
   "pygments_lexer": "ipython3",
   "version": "3.7.10"
  }
 },
 "nbformat": 4,
 "nbformat_minor": 5
}
