{
 "cells": [
  {
   "cell_type": "markdown",
   "id": "seven-cliff",
   "metadata": {},
   "source": [
    "# Notebook evaluating metrics for particular node/edge configuration"
   ]
  },
  {
   "cell_type": "code",
   "execution_count": 1,
   "id": "incorporated-rotation",
   "metadata": {},
   "outputs": [],
   "source": [
    "# If new server on Descartes Labs, need to install rioxarray \n",
    "try: import rioxarray\n",
    "except: \n",
    "    %pip install rioxarray\n",
    "    \n",
    "# Import helper functions\n",
    "import imports as ip\n",
    "import netconf as nc\n",
    "import plotting as pl\n",
    "import helper_functions as hf"
   ]
  },
  {
   "cell_type": "code",
   "execution_count": 2,
   "id": "retained-density",
   "metadata": {},
   "outputs": [],
   "source": [
    "## Define variables\n",
    "# Label imports\n",
    "groundTruth = \"./data/beirutDamages.shp\" # Damages shapefile\n",
    "crs = 'EPSG:4326' # Coordinate system to be used\n",
    "cn = 'decision' # Column for classes\n",
    "splitString = False # Only use first word in class column\n",
    "confidence = [0, 1] # Confidence in a priori labels (other classes, specified class)\n",
    "\n",
    "# Data imports\n",
    "dataTypes = ['hr','ifg']\n",
    "hrPreFile = \"data/highRes/20JUL31_HR_LatLon.tif\" # High Res image Pre\n",
    "hrPostFile = \"data/highRes/20AUG05_HR_LatLon.tif\" # High resolution img Post\n",
    "crsHr = 'epsg:4326'\n",
    "ifgPostFile = \"./data/beirutPrePostExplosionIfg.tif\" # SNAP output 2\n",
    "crsIfg = 'epsg:4326'\n",
    "\n",
    "# Map filtering of location\n",
    "lat, lon, zoom = 33.893, 35.512, 14 # Map properties\n",
    "stdTest = False # Use standard area for Beirut testing\n",
    "max_nodes = 20000\n",
    "\n",
    "# Class options\n",
    "nClasses = False # Enforce number of classes (False -> # classes in labels)\n",
    "classNames = False #['Undamaged','Damaged'] # Enforce names of classes (False -> cl0, cl1,...)\n",
    "classAssign = False #[['GREEN','LAND'],['YELLOW','RED','TOTAL']] # Enforce class grouping (False -> Clustering is performed)\n",
    "pca, pcaComps, meanCluster = False, 2, True # Clustering properties if used\n",
    "\n",
    "# Edge creation\n",
    "adjacent, geoNeighbours = False, 4 # geographical edges, n neighbours\n",
    "phase, neighbours = True, [3,3] # Data value edges, n neighbours for each data type"
   ]
  },
  {
   "cell_type": "code",
   "execution_count": 3,
   "id": "strategic-turkish",
   "metadata": {},
   "outputs": [
    {
     "data": {
      "application/vnd.jupyter.widget-view+json": {
       "model_id": "ae180c100d414a06bcc29bbfdf17c9e4",
       "version_major": 2,
       "version_minor": 0
      },
      "text/plain": [
       "Map(center=[33.893, 35.512], controls=(ZoomControl(options=['position', 'zoom_in_text', 'zoom_in_title', 'zoom…"
      ]
     },
     "metadata": {},
     "output_type": "display_data"
    }
   ],
   "source": [
    "## Import Labels and combine\n",
    "labels = ip.shape_to_gdf(groundTruth, splitString, cn, crs=crs)\n",
    "\n",
    "# Display map of assessments upon which to draw Polygon for analysis\n",
    "m1 = pl.create_map(lat, lon, zoom)\n",
    "m1 = pl.plot_assessments(labels, m1)\n",
    "m1, testPoly = pl.draw_polygon(labels, m1, stdTest)\n",
    "m1"
   ]
  },
  {
   "cell_type": "code",
   "execution_count": 4,
   "id": "moral-bryan",
   "metadata": {},
   "outputs": [],
   "source": [
    "# Change coordinate system if not crs\n",
    "import rasterio as ro\n",
    "import numpy as np\n",
    "import rasterio\n",
    "from rasterio.warp import calculate_default_transform, reproject, Resampling\n",
    "\n",
    "for i in dataTypes:\n",
    "    if crs not in str(ro.open(globals()[i + 'PostFile']).crs):\n",
    "        for num, file in enumerate([globals()[i + 'PreFile'], globals()[i + 'PostFile']]):\n",
    "            try:\n",
    "                with rasterio.open(file) as src:\n",
    "                    transform, width, height = calculate_default_transform(\n",
    "                        src.crs, crs, src.width, src.height, *src.bounds)\n",
    "                    kwargs = src.meta.copy()\n",
    "                    kwargs.update({\n",
    "                        'crs': crs,\n",
    "                        'transform': transform,\n",
    "                        'width': width,\n",
    "                        'height': height\n",
    "                    })\n",
    "\n",
    "                with rasterio.open([\"data/\"+i+\"PreConv.tif\",\"data/\"+i+\"PostConv.tif\"][num], 'w', **kwargs) as dst:\n",
    "                    for i in range(1, src.count + 1):\n",
    "                        reproject(\n",
    "                            source=rasterio.band(src, i),\n",
    "                            destination=rasterio.band(dst, i),\n",
    "                            src_transform=src.transform,\n",
    "                            src_crs=src.crs,\n",
    "                            dst_transform=transform,\n",
    "                            dst_crs=dst_crs,\n",
    "                            resampling=Resampling.nearest)\n",
    "            except: pass\n",
    "        globals()[i + 'PreFile'], globals()[i + 'PostFile'] = \"data/\"+i+\"PreConv.tif\",\"data/\"+i+\"PostConv.tif\" "
   ]
  },
  {
   "cell_type": "code",
   "execution_count": 5,
   "id": "following-indie",
   "metadata": {},
   "outputs": [
    {
     "name": "stderr",
     "output_type": "stream",
     "text": [
      "/opt/conda/lib/python3.7/site-packages/IPython/core/interactiveshell.py:2940: SerializationWarning: saving variable None with floating point data as an integer dtype without any _FillValue to use for NaNs\n",
      "  return runner(coro)\n"
     ]
    }
   ],
   "source": [
    "# Data Imports\n",
    "# Import first data type\n",
    "PreGdf, crop = ip.img_to_gdf(globals()[dataTypes[0]+'PreFile'], testPoly, crs=crs)#,  columns=dataTypes[1])\n",
    "PostGdf, _ = ip.img_to_gdf(globals()[dataTypes[0]+'PostFile'], testPoly, crs=crs)#,  columns=dataTypes[1])\n",
    "gdf = hf.subtract_gdfs(PostGdf, PreGdf)\n",
    "typesUsed = [list(gdf.columns.drop('geometry').values), dataTypes[1:]]\n",
    "crop.rio.to_raster(\"croptemp.tif\")\n",
    "\n",
    "# Resample other data types to first\n",
    "import rioxarray as rxr\n",
    "import rasterio as ro\n",
    "import shapely.geometry as sg\n",
    "from rasterio.enums import Resampling\n",
    "from rasterio.windows import from_bounds\n",
    "import resample\n",
    "import os\n",
    "\n",
    "def resample_tif(file, testPoly, out):\n",
    "    img = rxr.open_rasterio(file, masked=True).squeeze()\n",
    "    _, extent = hf.get_extent(testPoly)\n",
    "    imgCrop = img.rio.clip(extent.geometry.apply(sg.mapping))   \n",
    "    imgNm = imgCrop.rename('img')\n",
    "    imgNm.rio.to_raster(out)\n",
    "\n",
    "def tif_to_array(tifFile, cropFile):\n",
    "        tif, b = ro.open(tifFile), cropFile.data.labelled_bounds\n",
    "        array = tif.read(window=from_bounds(b[0],b[1],b[2],b[3],transform=tif.transform),\n",
    "                         out_shape=(tif.count, cropFile.data.height, cropFile.data.width),\n",
    "                         resampling=Resampling.bilinear)\n",
    "        tif.close()\n",
    "        return array.copy()\n",
    "\n",
    "if len(dataTypes) > 1:\n",
    "    for i, tp in enumerate(dataTypes[1:]):\n",
    "        resample_tif(globals()[tp+'PostFile'], testPoly, tp+'Posttemp.tif')\n",
    "        globals()[tp+'Array'] = tif_to_array(tp+'Posttemp.tif', resample)\n",
    "        if tp+'PreFile' in locals(): \n",
    "            resample_tif(globals()[tp+'PreFile'], testPoly, tp+'Pretemp.tif')\n",
    "            globals()[tp+'Array'] -= tif_to_array(tp+'Pretemp.tif', resample)\n",
    "\n",
    "for item in os.listdir(\".\"): \n",
    "    if item.endswith(\"temp.tif\"): os.remove(item)\n",
    "        \n",
    "# Concatenate data types\n",
    "data = gdf.copy()\n",
    "for tp in dataTypes[1:]: data[tp]=globals()[tp+'Array'].flatten()"
   ]
  },
  {
   "cell_type": "code",
   "execution_count": 6,
   "id": "rolled-islam",
   "metadata": {},
   "outputs": [],
   "source": [
    "# Assign Label classes to data\n",
    "defClasses, labelsUsed, dataUsed = len(labels[cn].unique()), labels.to_crs(crs).copy(), data.copy() # Default classes from labels\n",
    "usedNames = labels[cn].unique() if nClasses==defClasses or nClasses is False else classNames\n",
    "initial = hf.init_beliefs(dataUsed, classes=nClasses, columns=usedNames, crs=crs) # Initial class value for each data pixel\n",
    "\n",
    "if not nClasses: nClasses = defClasses # If default classes used\n",
    "elif nClasses > defClasses: raise NameError('Cannot assign more classes than in original data') # If invalid input\n",
    "elif nClasses < defClasses: # Perform class grouping\n",
    "    if not classAssign: # Perform clustering\n",
    "        # Assign labels to each pixel\n",
    "        allPixels = hf.create_nodes(initial, labelsUsed[['geometry',cn]][labelsUsed.within(poly)])\n",
    "        # Run PCA if set to True\n",
    "        X = hf.run_PCA(dataUsed[dataTypes[0]].values.transpose(), pcaComps).components_.transpose() if pca else dataUsed[dataTypes[0]]\n",
    "        # Run clustering\n",
    "        kmeans, clusterClasses, initLabels = hf.run_cluster(X[allPixels[cn].dropna().index].values.reshape(-1,1), allPixels[cn].dropna(), meanCluster, nClasses)\n",
    "        print('Clustered classes:{} , original classes:{}'.format(clusterClasses, initLabels))\n",
    "        # Create groups of classes\n",
    "        classesUsed = []\n",
    "        for j in range(nClasses): classesUsed.append([initLabels[i] for i, x in enumerate(list(clusterClasses)) if x==j])\n",
    "    else: \n",
    "        classesUsed = classAssign\n",
    "        #used = [i in flatten_list(classesUsed) for i in labelsUsed[cn]]\n",
    "        initial = hf.init_beliefs(dataUsed, classes=nClasses, columns=usedNames, crs=crs)\n",
    "    # Assign labels for each pixel after clustering\n",
    "    labelsUsed[cn] = hf.group_classes(labelsUsed[cn], classesUsed)"
   ]
  },
  {
   "cell_type": "code",
   "execution_count": 7,
   "id": "buried-registration",
   "metadata": {},
   "outputs": [
    {
     "name": "stderr",
     "output_type": "stream",
     "text": [
      "/opt/conda/lib/python3.7/site-packages/geopandas/tools/sjoin.py:56: UserWarning: CRS of frames being joined does not match!({'init': 'epsg:4326'} != EPSG:4326)\n",
      "  '(%s != %s)' % (left_df.crs, right_df.crs))\n"
     ]
    }
   ],
   "source": [
    "import random\n",
    "# Split train/test set for located nodes\n",
    "X_train, X_test, y_train, y_test = hf.train_test_split(labelsUsed, cn, hf.get_polygon(testPoly, conv=True))\n",
    "# Create nodes\n",
    "samples = initial.copy().iloc[random.sample(range(0, initial.shape[0]), max_nodes)].reset_index(drop=True) if len(initial) > max_nodes else intial.copy()\n",
    "\n",
    "nodes = hf.create_nodes(samples, X_train)\n",
    "#nodesamples = nodes.copy().iloc[random.sample(range(0, nodes.shape[0]), max_nodes)] if len(nodes) > max_nodes else nodes.copy()\n",
    "\n",
    "# Assign prior beliefs from assessments\n",
    "priors = hf.prior_beliefs(nodes, beliefColumns = initial.columns[-nClasses:], classNames=classNames, column = cn)\n",
    "\n",
    "# Create edges\n",
    "edges = hf.create_edges(nodes, adjacent=adjacent, geo_neighbors=geoNeighbours, values=typesUsed , neighbours=neighbours)"
   ]
  },
  {
   "cell_type": "code",
   "execution_count": 8,
   "id": "modern-relief",
   "metadata": {},
   "outputs": [
    {
     "name": "stdout",
     "output_type": "stream",
     "text": [
      "Nodes: 20000, Edges: 120000\n",
      "It\tLoss\tLabel change\n",
      "\n",
      "0\t4.68523e-01\t\t7747\n",
      "\n",
      "1\t1.74278e-01\t\t906\n",
      "\n",
      "2\t7.94079e-02\t\t229\n",
      "\n",
      "3\t3.42321e-02\t\t86\n",
      "\n",
      "4\t1.67130e-02\t\t46\n",
      "\n",
      "5\t7.61013e-03\t\t23\n",
      "\n",
      "6\t3.57950e-03\t\t13\n",
      "\n",
      "7\t1.71347e-03\t\t6\n",
      "\n",
      "8\t8.06865e-04\t\t0\n",
      "\n",
      "Time elapsed: 18.30380153656006 seconds\n"
     ]
    }
   ],
   "source": [
    "# Run belief propagation\n",
    "beliefs, _ = nc.netconf(edges,priors,verbose=True,limit=1e-3)"
   ]
  },
  {
   "cell_type": "code",
   "execution_count": 10,
   "id": "arbitrary-values",
   "metadata": {},
   "outputs": [
    {
     "name": "stderr",
     "output_type": "stream",
     "text": [
      "/opt/conda/lib/python3.7/site-packages/geopandas/tools/sjoin.py:56: UserWarning: CRS of frames being joined does not match!({'init': 'epsg:4326'} != EPSG:4326)\n",
      "  '(%s != %s)' % (left_df.crs, right_df.crs))\n"
     ]
    },
    {
     "name": "stdout",
     "output_type": "stream",
     "text": [
      "['GREEN' 'YELLOW' 'LAND' 'RED' 'TOTAL']\n",
      "              precision    recall  f1-score   support\n",
      "\n",
      "       GREEN       0.51      0.75      0.61      1663\n",
      "        LAND       0.09      0.03      0.04       156\n",
      "         RED       0.43      0.24      0.30       712\n",
      "       TOTAL       0.20      0.02      0.03       176\n",
      "      YELLOW       0.32      0.25      0.28       887\n",
      "\n",
      "    accuracy                           0.46      3594\n",
      "   macro avg       0.31      0.26      0.25      3594\n",
      "weighted avg       0.41      0.46      0.41      3594\n",
      "\n"
     ]
    },
    {
     "data": {
      "image/png": "[encoded data removed]",
      "text/plain": [
       "<Figure size 1008x360 with 2 Axes>"
      ]
     },
     "metadata": {
      "needs_background": "light"
     },
     "output_type": "display_data"
    }
   ],
   "source": [
    "# Evaluation Metrics\n",
    "# Get y_true vs y_pred for test set\n",
    "y_true, y_pred = hf.get_labels(samples, X_test, beliefs, column=cn)\n",
    "\n",
    "# Classification metrics\n",
    "yp_clf, classes = hf.class_metrics(y_true, y_pred, classes=usedNames, orig=classNames)\n",
    "\n",
    "fig, axs = pl.create_subplots(1,2, figsize=[14,5])\n",
    "\n",
    "# Confusion matrix\n",
    "axs = pl.confusion_matrix(axs, y_true, yp_clf, classes)\n",
    "  \n",
    "# Cross entropy / Confidence metrics\n",
    "if nClasses == 2: axs = pl.cross_entropy_metrics(axs, y_true, y_pred[:,1].reshape(-1,1), classes)\n",
    "else: axs[1] = pl.cross_entropy_multiclass(axs[1], y_true, y_pred)\n",
    "\n",
    "pl.show_plot()"
   ]
  },
  {
   "cell_type": "code",
   "execution_count": 11,
   "id": "gentle-default",
   "metadata": {},
   "outputs": [],
   "source": [
    "# Save figure\n",
    "pl.save_plot(fig, 'results/Beirut_UN_adj{}{}_tp{}_neighbours{}_cl{}_std{}'.format(str(adjacent),str(geoNeighbours),str(dataTypes),str(neighbours),str(nClasses),str(stdTest)))"
   ]
  },
  {
   "cell_type": "code",
   "execution_count": null,
   "id": "nasty-surprise",
   "metadata": {},
   "outputs": [],
   "source": [
    "# Visualise spatial results\n",
    "fig, axs = pl.create_subplots(2,2,figsize=[15,12])\n",
    "\n",
    "prePlot = pl.belief_plot(nodes, axs[0,0], 'RED', normalise=False)\n",
    "postPlot = pl.belief_plot(nodes, axs[0,1], beliefs, normalise=True)\n",
    "assessPlt = joint.loc[joint.within(poly)].plot(ax=axs[1,0], column='decision',cmap='RdYlGn_r')\n",
    "ifgPlot = (pl.cropped_ifg(ifgPreFile,testPoly)-pl.cropped_ifg(ifgPostFile,testPoly)).plot(ax=axs[1,1])\n",
    "prePlot.set_title('A priori damage likelihood'), postPlot.set_title('Updated damage likelihood'), assessPlt.set_title('Damage Assessments')\n",
    "\n",
    "pl.show_plot()"
   ]
  }
 ],
 "metadata": {
  "kernelspec": {
   "display_name": "Python 3",
   "language": "python",
   "name": "python3"
  },
  "language_info": {
   "codemirror_mode": {
    "name": "ipython",
    "version": 3
   },
   "file_extension": ".py",
   "mimetype": "text/x-python",
   "name": "python",
   "nbconvert_exporter": "python",
   "pygments_lexer": "ipython3",
   "version": "3.7.10"
  }
 },
 "nbformat": 4,
 "nbformat_minor": 5
}
