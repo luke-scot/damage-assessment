{
 "cells": [
  {
   "cell_type": "markdown",
   "id": "hired-meter",
   "metadata": {},
   "source": [
    "# Notebook evaluating metrics for particular node/edge configuration"
   ]
  },
  {
   "cell_type": "code",
   "execution_count": 1,
   "id": "imposed-firmware",
   "metadata": {},
   "outputs": [],
   "source": [
    "# If new server on Descartes Labs, need to install rioxarray \n",
    "try: import rioxarray\n",
    "except: \n",
    "    %pip install rioxarray\n",
    "    \n",
    "# Import helper functions\n",
    "import imports as ip\n",
    "import netconf as nc\n",
    "import plotting as pl\n",
    "import helper_functions as hf"
   ]
  },
  {
   "cell_type": "code",
   "execution_count": 11,
   "id": "verbal-emergency",
   "metadata": {},
   "outputs": [],
   "source": [
    "## Define variables\n",
    "# Label imports\n",
    "groundTruth = \"./data/beirutDamages.shp\" # Damages shapefile\n",
    "crs = 'EPSG:4326' # Coordinate system to be used\n",
    "cn = 'decision' # Column for classes\n",
    "splitString = False # Only use first word in class column\n",
    "confidence = [0, 1] # Confidence in a priori labels (other classes, specified class)\n",
    "\n",
    "# Data imports\n",
    "dataTypes = ['hr','ifg']\n",
    "hrPreFile = \"data/highRes/20JUL31_HR_LatLon.tif\" # High Res image Pre\n",
    "hrPostFile = \"data/highRes/20AUG05_HR_LatLon.tif\" # High resolution img Post\n",
    "ifgPreFile = \"./data/beirutPrePreExplosionIfg.tif\"\n",
    "ifgPostFile = \"./data/beirutPrePostExplosionIfg.tif\" # SNAP output 2\n",
    "\n",
    "# Map filtering of location\n",
    "lat, lon, zoom = 33.893, 35.512, 14 # Map properties\n",
    "stdTest = False # Use standard area for Beirut testing\n",
    "max_nodes = 20000\n",
    "\n",
    "# Class options\n",
    "nClasses = 2 # Enforce number of classes (False -> # classes in labels)\n",
    "classNames = False #['Undamaged','Damaged'] # Enforce names of classes (False -> cl0, cl1,...)\n",
    "classAssign = [['GREEN','LAND'],['YELLOW','RED','TOTAL']] # Enforce class grouping (False -> Clustering is performed)\n",
    "pca, pcaComps, meanCluster = False, 2, True # Clustering properties if used\n",
    "\n",
    "# Edge creation\n",
    "adjacent, geoNeighbours = False, 4 # geographical edges, n neighbours\n",
    "phase, neighbours = True, [3,3] # Data value edges, n neighbours for each data type"
   ]
  },
  {
   "cell_type": "code",
   "execution_count": 3,
   "id": "increased-provider",
   "metadata": {},
   "outputs": [
    {
     "data": {
      "application/vnd.jupyter.widget-view+json": {
       "model_id": "76303a61b5b14ff08179df03240c2a4d",
       "version_major": 2,
       "version_minor": 0
      },
      "text/plain": [
       "Map(center=[33.893, 35.512], controls=(ZoomControl(options=['position', 'zoom_in_text', 'zoom_in_title', 'zoom…"
      ]
     },
     "metadata": {},
     "output_type": "display_data"
    }
   ],
   "source": [
    "## Import Labels and combine\n",
    "labels = ip.shape_to_gdf(groundTruth, splitString, cn, crs=crs)\n",
    "\n",
    "# Display map of assessments upon which to draw Polygon for analysis\n",
    "m1 = pl.create_map(lat, lon, zoom)\n",
    "m1 = pl.plot_assessments(labels, m1)\n",
    "m1, testPoly = pl.draw_polygon(labels, m1, stdTest)\n",
    "m1"
   ]
  },
  {
   "cell_type": "code",
   "execution_count": 4,
   "id": "framed-passport",
   "metadata": {},
   "outputs": [],
   "source": [
    "# Reproject data to used crs\n",
    "for i in dataTypes:\n",
    "    if crs not in ip.get_crs(globals()[i + 'PostFile']):\n",
    "        globals()[i+'PostFile'] = ip.conv_coords([globals()[i+'PostFile']], [\"data/\"+i+\"PostConv.tif\"], crs)[0]\n",
    "        if i+'PreFile' in locals(): globals()[i+'PreFile'] = ip.conv_coords([globals()[i+'PreFile']], [\"data/\"+i+\"PreConv.tif\"], crs)[0]        "
   ]
  },
  {
   "cell_type": "code",
   "execution_count": 5,
   "id": "crude-police",
   "metadata": {},
   "outputs": [
    {
     "name": "stdout",
     "output_type": "stream",
     "text": [
      "data/highRes/20AUG05_HR_LatLon.tif read completed.\n",
      "data/highRes/20JUL31_HR_LatLon.tif read completed.\n"
     ]
    },
    {
     "name": "stderr",
     "output_type": "stream",
     "text": [
      "/opt/conda/lib/python3.7/site-packages/IPython/core/interactiveshell.py:2940: SerializationWarning: saving variable None with floating point data as an integer dtype without any _FillValue to use for NaNs\n",
      "  return runner(coro)\n"
     ]
    },
    {
     "name": "stdout",
     "output_type": "stream",
     "text": [
      "./data/beirutPrePostExplosionIfg.tif read completed.\n",
      "./data/beirutPrePreExplosionIfg.tif read completed.\n"
     ]
    }
   ],
   "source": [
    "# Data Imports\n",
    "# Import first data type\n",
    "df, crop = ip.img_to_df(globals()[dataTypes[0]+'PostFile'], testPoly, crs=crs)\n",
    "if dataTypes[0]+'PreFile' in locals():\n",
    "    preDf, _ = ip.img_to_df(globals()[dataTypes[0]+'PreFile'], testPoly, crs=crs)\n",
    "    df -= preDf\n",
    "\n",
    "# Import other data types\n",
    "if len(dataTypes) > 1:\n",
    "    crop.rio.to_raster(\"croptemp.tif\")\n",
    "    for tp in dataTypes[1:]:\n",
    "        ip.resample_tif(globals()[tp+'PostFile'], testPoly, tp+'Posttemp.tif')\n",
    "        globals()[tp+'Array'] = ip.tif_to_array(tp+'Posttemp.tif', 'resample')\n",
    "        if tp+'PreFile' in locals(): \n",
    "            ip.resample_tif(globals()[tp+'PreFile'], testPoly, tp+'Pretemp.tif')\n",
    "            globals()[tp+'Array'] -= ip.tif_to_array(tp+'Pretemp.tif', 'resample')\n",
    "    ip.del_file_endings(\".\", \"temp.tif\")\n",
    "\n",
    "# Concatenate data types\n",
    "data = df.copy()\n",
    "for tp in dataTypes[1:]: data[tp]=globals()[tp+'Array'].flatten()\n",
    "data.dropna(inplace=True)\n",
    "\n",
    "# Sample data and create geodataframe\n",
    "gdf = ip.get_sample_gdf(data, max_nodes, crs)\n",
    "typesUsed = [list(gdf.columns.drop('geometry').values), dataTypes[1:]]"
   ]
  },
  {
   "cell_type": "code",
   "execution_count": 12,
   "id": "agreed-prize",
   "metadata": {},
   "outputs": [],
   "source": [
    "## Assign Label classes to data\n",
    "defClasses, labelsUsed, dataUsed = len(labels[cn].unique()), labels.to_crs(crs).copy(), gdf.copy() # Default classes from labels\n",
    "usedNames = labels[cn].unique() if nClasses==defClasses or nClasses is False else classNames\n",
    "initial = hf.init_beliefs(dataUsed, classes=nClasses, columns=usedNames, crs=crs) # Initial class value for each data pixel\n",
    "\n",
    "if not nClasses: nClasses = defClasses # If default classes used\n",
    "elif nClasses > defClasses: raise NameError('Cannot assign more classes than in original data') # If invalid input\n",
    "elif nClasses < defClasses: # Perform class grouping\n",
    "    if not classAssign: # Perform clustering\n",
    "        # Assign labels to each pixel\n",
    "        allPixels = hf.create_nodes(initial, labelsUsed[['geometry',cn]][labelsUsed.within(hf.get_polygon(testPoly, conv=True))])\n",
    "        # Run PCA if set to True\n",
    "        X = hf.run_PCA(dataUsed[typesUsed[0]].values.transpose(), pcaComps).components_.transpose() if pca else dataUsed[typesUsed[0]]\n",
    "        # Run clustering\n",
    "        kmeans, clusterClasses, initLabels = hf.run_cluster(X.iloc[allPixels[cn].dropna().index].values.reshape(-1,len(typesUsed[0])), allPixels[cn].dropna(), meanCluster, nClasses)\n",
    "        print('Clustered classes:{} , original classes:{}'.format(clusterClasses, initLabels))\n",
    "        # Create groups of classes\n",
    "        classesUsed = []\n",
    "        for j in range(nClasses): classesUsed.append([initLabels[i] for i, x in enumerate(list(clusterClasses)) if x==j])\n",
    "    else: \n",
    "        classesUsed = classAssign\n",
    "        #used = [i in flatten_list(classesUsed) for i in labelsUsed[cn]]\n",
    "        initial = hf.init_beliefs(dataUsed, classes=nClasses, columns=usedNames, crs=crs)\n",
    "        \n",
    "    # Assign labels for each pixel after clustering\n",
    "    labelsUsed[cn] = hf.group_classes(labelsUsed[cn], classesUsed)"
   ]
  },
  {
   "cell_type": "code",
   "execution_count": 13,
   "id": "acoustic-college",
   "metadata": {},
   "outputs": [],
   "source": [
    "# Split train/test set for located nodes\n",
    "X_train, X_test, y_train, y_test = hf.train_test_split(labelsUsed, cn, hf.get_polygon(testPoly, conv=True))\n",
    "\n",
    "# Create nodes\n",
    "nodes = hf.create_nodes(initial, X_train)\n",
    "\n",
    "# Assign prior beliefs from assessments\n",
    "priors = hf.prior_beliefs(nodes, beliefColumns = initial.columns[-nClasses:], classNames=classNames, column = cn)\n",
    "\n",
    "# Create edges\n",
    "edges = hf.create_edges(nodes, adjacent=adjacent, geo_neighbors=geoNeighbours, values=typesUsed , neighbours=neighbours)"
   ]
  },
  {
   "cell_type": "code",
   "execution_count": 14,
   "id": "excellent-macedonia",
   "metadata": {},
   "outputs": [
    {
     "name": "stdout",
     "output_type": "stream",
     "text": [
      "Nodes: 20000, Edges: 120000\n",
      "It\tLoss\tLabel change\n",
      "\n",
      "0\t6.42867e-01\t\t1508\n",
      "\n",
      "1\t2.43808e-01\t\t111\n",
      "\n",
      "2\t1.20779e-01\t\t91\n",
      "\n",
      "3\t5.72519e-02\t\t64\n",
      "\n",
      "4\t2.78873e-02\t\t32\n",
      "\n",
      "5\t1.34068e-02\t\t14\n",
      "\n",
      "6\t6.42235e-03\t\t9\n",
      "\n",
      "7\t3.05738e-03\t\t6\n",
      "\n",
      "8\t1.45273e-03\t\t4\n",
      "\n",
      "9\t6.88028e-04\t\t1\n",
      "\n",
      "Time elapsed: 11.383647441864014 seconds\n"
     ]
    }
   ],
   "source": [
    "# Run belief propagation\n",
    "beliefs, _ = nc.netconf(edges,priors,verbose=True,limit=1e-3)"
   ]
  },
  {
   "cell_type": "code",
   "execution_count": 15,
   "id": "qualified-pharmacy",
   "metadata": {},
   "outputs": [
    {
     "name": "stdout",
     "output_type": "stream",
     "text": [
      "False\n",
      "              precision    recall  f1-score   support\n",
      "\n",
      "           0       0.92      0.96      0.94      2362\n",
      "           1       0.15      0.07      0.09       215\n",
      "\n",
      "    accuracy                           0.89      2577\n",
      "   macro avg       0.53      0.52      0.52      2577\n",
      "weighted avg       0.85      0.89      0.87      2577\n",
      "\n"
     ]
    },
    {
     "data": {
      "image/png": "[encoded data removed]",
      "text/plain": [
       "<Figure size 1008x360 with 2 Axes>"
      ]
     },
     "metadata": {
      "needs_background": "light"
     },
     "output_type": "display_data"
    }
   ],
   "source": [
    "# Evaluation Metrics\n",
    "# Get y_true vs y_pred for test set\n",
    "y_true, y_pred = hf.get_labels(initial, X_test, beliefs, column=cn)\n",
    "\n",
    "# Classification metrics\n",
    "yp_clf, classes = hf.class_metrics(y_true, y_pred, classes=usedNames, orig=classNames)\n",
    "\n",
    "fig, axs = pl.create_subplots(1,2, figsize=[14,5])\n",
    "\n",
    "# Confusion matrix\n",
    "axs = pl.confusion_matrix(axs, y_true, yp_clf,[0,1])\n",
    "  \n",
    "# Cross entropy / Confidence metrics\n",
    "if nClasses == 2: axs = pl.cross_entropy_metrics(axs, y_true, y_pred[:,1].reshape(-1,1), classes)\n",
    "else: axs[1] = pl.cross_entropy_multiclass(axs[1], y_true, y_pred)\n",
    "\n",
    "pl.show_plot()"
   ]
  },
  {
   "cell_type": "code",
   "execution_count": 10,
   "id": "considerable-measure",
   "metadata": {},
   "outputs": [],
   "source": [
    "# Save figure\n",
    "pl.save_plot(fig, 'results/Beirut_UN_adj{}{}_tp{}_neighbours{}_cl{}_std{}_nds{}'.format(str(adjacent),str(geoNeighbours),str(dataTypes),str(neighbours),str(nClasses),str(stdTest),str(len(nodes))))"
   ]
  },
  {
   "cell_type": "code",
   "execution_count": null,
   "id": "spectacular-intro",
   "metadata": {},
   "outputs": [],
   "source": [
    "# Visualise spatial results\n",
    "fig, axs = pl.create_subplots(2,2,figsize=[15,12])\n",
    "\n",
    "prePlot = pl.belief_plot(nodes, axs[0,0], 'RED', normalise=False)\n",
    "postPlot = pl.belief_plot(nodes, axs[0,1], beliefs, normalise=True)\n",
    "assessPlt = joint.loc[joint.within(poly)].plot(ax=axs[1,0], column='decision',cmap='RdYlGn_r')\n",
    "ifgPlot = (pl.cropped_ifg(ifgPreFile,testPoly)-pl.cropped_ifg(ifgPostFile,testPoly)).plot(ax=axs[1,1])\n",
    "prePlot.set_title('A priori damage likelihood'), postPlot.set_title('Updated damage likelihood'), assessPlt.set_title('Damage Assessments')\n",
    "\n",
    "pl.show_plot()"
   ]
  }
 ],
 "metadata": {
  "kernelspec": {
   "display_name": "Python 3",
   "language": "python",
   "name": "python3"
  },
  "language_info": {
   "codemirror_mode": {
    "name": "ipython",
    "version": 3
   },
   "file_extension": ".py",
   "mimetype": "text/x-python",
   "name": "python",
   "nbconvert_exporter": "python",
   "pygments_lexer": "ipython3",
   "version": "3.7.10"
  }
 },
 "nbformat": 4,
 "nbformat_minor": 5
}
