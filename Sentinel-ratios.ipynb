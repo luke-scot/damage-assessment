{
 "cells": [
  {
   "cell_type": "markdown",
   "id": "drawn-passage",
   "metadata": {},
   "source": [
    "____________\n",
    "## 3 - Get ratio of Sentinel-1 pixel intensities for AOI"
   ]
  },
  {
   "cell_type": "code",
   "execution_count": null,
   "id": "irish-wrestling",
   "metadata": {},
   "outputs": [],
   "source": [
    "# Define function for retrieving satellite imagery from Descartes platform and displaying on map\n",
    "def getImage(satellite,bands,st_date,end_date,time,opacity=1,mapNum=m1,cloudFraction=0.1):\n",
    "    img = wf.ImageCollection.from_id(satellite,start_datetime=st_date[time], end_datetime=end_date[time])\n",
    "    if 'sentinel-2' in satellite: # Use sentinel cloud-mask band if available\n",
    "        img = img.filter(lambda img: img.properties[\"cloud_fraction\"] <= cloudFraction)\n",
    "        img = img.map(lambda img: img.mask(img.pick_bands('cloud-mask')==1))\n",
    "    mos = (img.mosaic().pick_bands(bands))\n",
    "    globals()['mos_'+str(time+1)+str(bands)] = mos\n",
    "    display = mos.visualize('Image '+str(time+1)+str(bands), map=mapNum)\n",
    "    display.opacity = opacity"
   ]
  },
  {
   "cell_type": "code",
   "execution_count": null,
   "id": "promotional-speech",
   "metadata": {},
   "outputs": [],
   "source": [
    "# Initialise map\n",
    "m2 = wf.interactive.MapApp()\n",
    "m2.center, m2.zoom = (lat, lon), zoom\n",
    "\n",
    "satellite, bands = \"sentinel-1:GRD\", ['vh','vv']\n",
    "st_date, end_date = ['2020-07-30T00:00:00.000Z', '2020-08-05T00:00:00.000Z'], ['2020-07-30T14:00:00.000Z', '2020-08-05T14:00:00.000Z'] # Timeframes for before-after imagery: start 1, start 2; end 1 ,end 2\n",
    "\n",
    "# Loop over dates (time 1 & time 2)\n",
    "for i in range(len(st_date)):\n",
    "    getImage(satellite, bands, st_date, end_date, i, 0, m2)\n",
    "    for j in bands:\n",
    "        getImage(satellite, j, st_date, end_date, i, 0, m2)\n",
    "    \n",
    "# Calculate logarithmic ratio for RGB images and display\n",
    "ratio = wf.log10(globals()['mos_1'+str(bands)] / globals()['mos_2'+str(bands)])\n",
    "rdisplay = ratio.visualize('Ratio' ,map=m2)\n",
    "rdisplay.opacity = 1\n",
    "m2.add_layer(testPoly)\n",
    "m2"
   ]
  },
  {
   "cell_type": "code",
   "execution_count": null,
   "id": "grand-implement",
   "metadata": {},
   "outputs": [],
   "source": [
    "# Area of interest defined by test polygon\n",
    "AOI = dl.scenes.AOI(bounds = (testPoly.locations[0][0]['lng'], testPoly.locations[0][0]['lat'], testPoly.locations[0][2]['lng'], testPoly.locations[0][2]['lat']),\n",
    "                    resolution=20,\n",
    "                    crs=m2.geocontext().crs)\n",
    "\n",
    "# Compute values from ratio within AOI\n",
    "change = ratio.compute(geoctx = AOI)"
   ]
  },
  {
   "cell_type": "code",
   "execution_count": null,
   "id": "furnished-latex",
   "metadata": {},
   "outputs": [],
   "source": [
    "# Assign initial beliefs to each pixel\n",
    "bounds = AOI.bounds\n",
    "longs, lats = np.linspace(bounds[0],bounds[2],change.geocontext['arr_shape'][1]), np.linspace(bounds[3],bounds[1],change.geocontext['arr_shape'][0])\n",
    "xm, ym = np.meshgrid(longs,lats)\n",
    "initial = gpd.GeoDataFrame(pd.DataFrame(np.concatenate((np.ones([len(longs)*len(lats),2])*0.5, change.ndarray[0].reshape(-1,1), change.ndarray[1].reshape(-1,1)), axis=1), columns = ['noDmg','dmg','vh','vv']), geometry=gpd.points_from_xy(xm.reshape(-1), ym.reshape(-1)),crs={'init': 'epsg:4326'})"
   ]
  }
 ],
 "metadata": {
  "kernelspec": {
   "display_name": "Python 3",
   "language": "python",
   "name": "python3"
  },
  "language_info": {
   "codemirror_mode": {
    "name": "ipython",
    "version": 3
   },
   "file_extension": ".py",
   "mimetype": "text/x-python",
   "name": "python",
   "nbconvert_exporter": "python",
   "pygments_lexer": "ipython3",
   "version": "3.7.10"
  }
 },
 "nbformat": 4,
 "nbformat_minor": 5
}
