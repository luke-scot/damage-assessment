{
 "cells": [
  {
   "cell_type": "markdown",
   "id": "agricultural-yeast",
   "metadata": {},
   "source": [
    "# Confidence-aware belief propagation for multimodal data"
   ]
  },
  {
   "cell_type": "code",
   "execution_count": 3,
   "id": "lesbian-poison",
   "metadata": {},
   "outputs": [],
   "source": [
    "# Import packages"
   ]
  },
  {
   "cell_type": "code",
   "execution_count": 4,
   "id": "funky-enterprise",
   "metadata": {},
   "outputs": [],
   "source": [
    "# Define default labels\n",
    "# Standard defaults - change here to add more or modify existing\n",
    "# Beirut\n",
    "beirutDefs = {'gtFile':'./data/beirutDamages.shp',\n",
    "             'crs':'EPSG:4326',\n",
    "             'labelColumn':'decision',\n",
    "             'map':True,\n",
    "             'mapOption':False,\n",
    "             'lat':33.893,\n",
    "             'lon':35.512,\n",
    "             'zoom':14,\n",
    "             'dataTypes':['High resolution imagery','Interferometry'],\n",
    "             'dataFiles':[\"data/highRes/20JUL31_HR_LatLon.tif\",\"data/highRes/20AUG05_HR_LatLon.tif\",\"./data/beirutPrePreExplosionIfg.tif\",\"./data/beirutPrePostExplosionIfg.tif\"],\n",
    "             }\n",
    "# Houston\n",
    "houstonDefs = {'gtFile':'./data/2018IEEE_Contest/Phase2/TrainingGT/2018_IEEE_GRSS_DFC_GT_TR.tif',\n",
    "              'crs':'EPSG:6577',\n",
    "              'labelColumn':'class',\n",
    "              'map':False,\n",
    "              'dataTypes':['Hyperspectral imagery','LiDAR','High resolution imagery'],\n",
    "              'dataFiles':[None, './data/2018IEEE_Contest/Phase2/FullHSIDataset/20170218_UH_CASI_S4_NAD83.pix',None,'./data/2018IEEE_Contest/Phase2/Lidar GeoTiff Rasters/Intensity_C3/UH17_GI3F051.tif', None,'./data/2018IEEE_Contest/Phase2/Final RGB HR Imagery']\n",
    "              }\n",
    "# Other\n",
    "other = {'gtFile':None,\n",
    "        'crs':'EPSG:4326',\n",
    "        'labelColumn':'class',\n",
    "        'map':True,\n",
    "        'mapOption':False,\n",
    "        'lat':0,\n",
    "        'lon':0,\n",
    "        'zoom':14,\n",
    "        'mapOption':True,\n",
    "        'dataTypes':[],\n",
    "        'dataFiles':[]\n",
    "        }\n",
    "defs = beirutDefs"
   ]
  },
  {
   "cell_type": "code",
   "execution_count": null,
   "id": "built-fleece",
   "metadata": {},
   "outputs": [],
   "source": []
  }
 ],
 "metadata": {
  "kernelspec": {
   "display_name": "Python 3",
   "language": "python",
   "name": "python3"
  },
  "language_info": {
   "codemirror_mode": {
    "name": "ipython",
    "version": 3
   },
   "file_extension": ".py",
   "mimetype": "text/x-python",
   "name": "python",
   "nbconvert_exporter": "python",
   "pygments_lexer": "ipython3",
   "version": "3.7.10"
  }
 },
 "nbformat": 4,
 "nbformat_minor": 5
}
