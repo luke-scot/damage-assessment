{
 "cells": [
  {
   "cell_type": "markdown",
   "id": "ordinary-saskatchewan",
   "metadata": {},
   "source": [
    "# Notebook evaluating metrics for particular node/edge configuration"
   ]
  },
  {
   "cell_type": "code",
   "execution_count": 4,
   "id": "incident-blank",
   "metadata": {},
   "outputs": [],
   "source": [
    "# Installs \n",
    "#%pip install rioxarray xarray earthpy\n",
    "\n",
    "# Package imports\n",
    "import math\n",
    "import json\n",
    "import requests\n",
    "import os\n",
    "import ipyleaflet\n",
    "import PIL\n",
    "import numpy as np\n",
    "import pandas as pd\n",
    "import geopandas as gpd\n",
    "import rasterio as ro\n",
    "import rioxarray as rxr\n",
    "import xarray as xr\n",
    "import earthpy as et\n",
    "import earthpy.plot as ep\n",
    "import matplotlib.pyplot as plt\n",
    "from base64 import b64encode\n",
    "from io import BytesIO\n",
    "from tqdm import tqdm\n",
    "from ipywidgets import HTML\n",
    "from ipyleaflet import Map, basemaps, GeoData, CircleMarker, Popup, GeoJSON, LegendControl, ImageOverlay\n",
    "from rasterio.plot import show\n",
    "from IPython.display import Image, display\n",
    "from shapely.geometry import Polygon, Point, mapping\n",
    "\n",
    "import descarteslabs as dl\n",
    "import descarteslabs.workflows as wf\n",
    "\n",
    "import netconf.netconf as nc"
   ]
  },
  {
   "cell_type": "code",
   "execution_count": 7,
   "id": "statewide-daughter",
   "metadata": {},
   "outputs": [],
   "source": [
    "# Define variables\n",
    "# Location variables\n",
    "lat, lon, zoom = 33.8975, 35.5063, 14 # Map properties\n",
    "\n",
    "# Building Footprints variables\n",
    "buildings = \"./data/beirutBuildingFootprints.geojson\"\n",
    "\n",
    "# Damage Assessment variables\n",
    "dataFile = \"./data/geopalData.csv\" # GeoPal data\n",
    "\n",
    "# Interferogram paths\n",
    "ifgPath = \"./data/20200730_20200805_IW1_Stack_ifg_deb_dinsar_flt_ML_TC_big.tif\"\n",
    "croppedPath = \"./data/croppedIfg.png\"\n",
    "\n",
    "# A priori damage beliefs (green, yellow, red decisions)\n",
    "gb, yb, rb = 0.1, 0.7, 0.95\n",
    "ratioWeight = 1\n",
    "\n",
    "# Edge creation\n",
    "adjacent, ifgValues = True, True"
   ]
  },
  {
   "cell_type": "code",
   "execution_count": 5,
   "id": "understood-paintball",
   "metadata": {},
   "outputs": [
    {
     "data": {
      "application/vnd.jupyter.widget-view+json": {
       "model_id": "118fe9a4b6ad478c91a8b35c13f0c8cc",
       "version_major": 2,
       "version_minor": 0
      },
      "text/plain": [
       "Map(center=[33.8975, 35.5063], controls=(ZoomControl(options=['position', 'zoom_in_text', 'zoom_in_title', 'zo…"
      ]
     },
     "metadata": {},
     "output_type": "display_data"
    }
   ],
   "source": [
    "## Import Ground Data and combine\n",
    "# Import footprints geojson\n",
    "builds = gpd.read_file(buildings)\n",
    "pd.set_option('display.max_columns', None)\n",
    "fps = gpd.GeoDataFrame(builds[['id','building','name']], geometry=builds.geometry)\n",
    "\n",
    "# Import GeoPal data\n",
    "allData = pd.read_csv(dataFile)\n",
    "# Extract locations from joint column in database\n",
    "locations, mapPoints = allData['get location - الموقع_w_2049198'], allData['point on map - الموقع على الخريطة_w_2049199']\n",
    "lats, lons = np.zeros([len(locations), 1]),  np.zeros([len(locations), 1])\n",
    "for i in range(len(locations)):\n",
    "    loc = locations[i]\n",
    "    if type(loc) is float or (type(loc) is str and loc[0].isalpha()):\n",
    "        mp = mapPoints[i]\n",
    "        if type(mp) is str and mp[0].isdigit():\n",
    "            try: lats[i], lons[i] = mp.split(' ')[0], mp.split(' ')[1]\n",
    "            except: lats[i], lons[i] = mp.split(',')[0], mp.split(',')[1] # Deal with rogue commas instead of space\n",
    "    else: lats[i], lons[i] = loc.split(' ')[0], loc.split(' ')[1]\n",
    "\n",
    "# Extract columns of useful data\n",
    "data = pd.DataFrame({\n",
    "    'id': allData['Job ID'],\n",
    "    'area': allData['plot area - المنطقة العقارية_w_2049201'],\n",
    "    'damage': allData['structural damage level - مستوى الضرر الأنشائي للمبنى_w_2049205'],\n",
    "    'floors': allData['number of floors - عدد الطوابق_w_2049208'],\n",
    "    'units': allData['number of units - عدد الشقق_w_2049209'],\n",
    "    'use': allData['building use - وجهة الاستعمال للمبنى_w_2049210'],\n",
    "    'photos': allData['take pictures - التقاط صور_w_2049222'],\n",
    "    'decision': allData['decision - القرار_w_2049224']    \n",
    "})\n",
    "\n",
    "# Create geodatabase merging locations with useful data\n",
    "assessments = gpd.GeoDataFrame(data, geometry=gpd.points_from_xy(lons, lats),crs={'init': 'epsg:4326'})\n",
    "\n",
    "# Filter for non located values\n",
    "locs = assessments[assessments.geometry.x != 0]\n",
    "\n",
    "# Get joint geodataframe of building footprints with damage assessments\n",
    "joint = gpd.sjoin(fps, locs, how=\"left\", op='contains').dropna(subset=['decision'])\n",
    "\n",
    "def to_geodata(gdf, color):\n",
    "    plotGdf = GeoData(geo_dataframe = gdf,\n",
    "                          style={'color': color, 'radius':2, 'fillColor': color, 'opacity':0.9, 'weight':1.9, 'dashArray':'2', 'fillOpacity':0.7},\n",
    "                          hover_style={'fillColor': 'white' , 'fillOpacity': 0.2},\n",
    "                          point_style={'radius': 3, 'color': color, 'fillOpacity': 0.8, 'fillColor': color, 'weight': 3},\n",
    "                          name = 'Images')\n",
    "    return plotGdf\n",
    "\n",
    "m1 = Map(basemap=basemaps.OpenStreetMap.Mapnik, center=[lat, lon], zoom=zoom, scroll_wheel_zoom=True)\n",
    "m1.add_layer(to_geodata(joint.loc[joint['decision'] == 'GREEN (inspected) أخضر (تم دراسته)'],'green'))\n",
    "m1.add_layer(to_geodata(joint.loc[joint['decision'] == 'YELLOW (restricted use) أصفر (لا يصلح للسكن)'],'yellow'))\n",
    "m1.add_layer(to_geodata(joint.loc[joint['decision'] == 'RED (unsafe/evacuate) أحمر (غير آمن/للاخلاء)ء'],'red'))\n",
    "\n",
    "if not 'l1' in globals(): # Add legend if forming map for first time\n",
    "    l1 = legend = LegendControl({\"No Restrictions\":\"#008000\", \"Restricted Use\":\"#FFFF00\", \"Unsafe/Evacuated\":\"#FF0000\", \"No Decision\":\"#0000FF\"}, name=\"Decision\", position=\"bottomleft\")\n",
    "    m1.add_control(l1)\n",
    "\n",
    "# Display map upon which to draw Polygon for analysis\n",
    "r = 0.01\n",
    "testPoly = ipyleaflet.Polygon(locations=[(lat-r, lon-r), (lat-r, lon+r), (lat+r, lon+r),(lat+r, lon-r)], color=\"yellow\", fill_color=\"yellow\", transform=True)\n",
    "\n",
    "m1.add_layer(testPoly)\n",
    "m1"
   ]
  },
  {
   "cell_type": "code",
   "execution_count": 8,
   "id": "spoken-integration",
   "metadata": {},
   "outputs": [],
   "source": [
    "## Get interferogram data and combine with ground data\n",
    "# Import interferogram\n",
    "wholeIfg = rxr.open_rasterio(ifgPath, masked=True).squeeze()\n",
    "poly = Polygon([[p['lng'], p['lat']] for p in testPoly.locations[0]])\n",
    "extent = gpd.GeoSeries([poly])\n",
    "croppedIfg = wholeIfg.rio.clip(extent.geometry.apply(mapping), extent.crs)\n",
    "\n",
    "# Create nodes\n",
    "named = croppedIfg.rename('ifg')\n",
    "df = named.to_dataframe()\n",
    "coords = np.concatenate(np.array(df.axes[0]))\n",
    "initial = gpd.GeoDataFrame(pd.DataFrame(np.concatenate((np.ones([len(df),2])*0.5, np.array(df['ifg']).reshape(-1,1)), axis=1), columns = ['noDmg','dmg','ifg']), geometry=gpd.points_from_xy(coords[1::2], coords[0::2]),crs={'init': 'epsg:4326'})\n",
    "# Assign updated beliefs to pixels within assessed building footprints\n",
    "nodes = gpd.sjoin(initial, joint[['geometry','decision']], how='left', op='within')\n",
    "nodes = nodes[~nodes.index.duplicated(keep='first')]\n",
    "nodes.loc[nodes.decision == 'GREEN (inspected) أخضر (تم دراسته)', ['noDmg', 'dmg']] = 1-gb, gb\n",
    "nodes.loc[nodes.decision == 'YELLOW (restricted use) أصفر (لا يصلح للسكن)', ['noDmg', 'dmg']] = 1-yb, yb\n",
    "nodes.loc[nodes.decision == 'RED (unsafe/evacuate) أحمر (غير آمن/للاخلاء)ء', ['noDmg', 'dmg']] = 1-rb, rb\n",
    "\n",
    "# Create edges\n",
    "edges = []\n",
    "# Create edges between geographically adjacent nodes\n",
    "if adjacent:\n",
    "    x, l = len(df), len(nodes)\n",
    "    for i in nodes.index:\n",
    "        if not i % x == x-1: edges.append([i,i+1]) # Pixel to right (edge to left is equivalent to previous edge to right)\n",
    "        if not i > l-x-1: edges.append([i,i+x]) # Pixel below (edge above is accounted for is equivalent to previous edge below)\n",
    "\n",
    "# Create edges between most similar phase change pixels\n",
    "if ifgValues:\n",
    "    srt = nodes.sort_values(['ifg'])\n",
    "    for i in range(len(srt.index)-1):\n",
    "        edges.append([srt.index[i],srt.index[i+1]])"
   ]
  },
  {
   "cell_type": "code",
   "execution_count": 9,
   "id": "portuguese-effects",
   "metadata": {},
   "outputs": [
    {
     "name": "stdout",
     "output_type": "stream",
     "text": [
      "11  iterations\n"
     ]
    }
   ],
   "source": [
    "# Run belief propagation\n",
    "priors = np.array(nodes[['noDmg','dmg']])\n",
    "beliefs, _ = nc.netconf(np.array(edges),priors,verbose=False)"
   ]
  },
  {
   "cell_type": "code",
   "execution_count": null,
   "id": "aggregate-traffic",
   "metadata": {},
   "outputs": [],
   "source": []
  }
 ],
 "metadata": {
  "kernelspec": {
   "display_name": "Python 3",
   "language": "python",
   "name": "python3"
  },
  "language_info": {
   "codemirror_mode": {
    "name": "ipython",
    "version": 3
   },
   "file_extension": ".py",
   "mimetype": "text/x-python",
   "name": "python",
   "nbconvert_exporter": "python",
   "pygments_lexer": "ipython3",
   "version": "3.7.10"
  }
 },
 "nbformat": 4,
 "nbformat_minor": 5
}
