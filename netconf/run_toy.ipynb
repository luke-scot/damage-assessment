{
 "cells": [
  {
   "cell_type": "code",
   "execution_count": 3,
   "id": "cutting-consumer",
   "metadata": {},
   "outputs": [],
   "source": [
    "import numpy as np\n",
    "import netconf as nc"
   ]
  },
  {
   "cell_type": "code",
   "execution_count": 4,
   "id": "designing-national",
   "metadata": {},
   "outputs": [
    {
     "name": "stdout",
     "output_type": "stream",
     "text": [
      "It\tmax{del(B)}\tdel(label)\n",
      "\n",
      "0\t2.14839e+00\t\t11\n",
      "\n",
      "1\t4.31422e-01\t\t0\n",
      "\n",
      "2\t6.54561e-01\t\t0\n",
      "\n",
      "3\t2.79520e-01\t\t0\n",
      "\n",
      "4\t2.38179e-01\t\t0\n",
      "\n",
      "5\t1.32741e-01\t\t0\n",
      "\n",
      "6\t9.47955e-02\t\t0\n",
      "\n",
      "7\t5.82713e-02\t\t0\n",
      "\n",
      "8\t3.91542e-02\t\t0\n",
      "\n",
      "9\t2.49400e-02\t\t0\n",
      "\n",
      "10\t1.64007e-02\t\t0\n",
      "\n",
      "11\t1.05813e-02\t\t0\n",
      "\n",
      "12\t6.90508e-03\t\t0\n",
      "\n",
      "13\t4.47545e-03\t\t0\n",
      "\n",
      "14\t2.91257e-03\t\t0\n",
      "\n",
      "15\t1.89085e-03\t\t0\n",
      "\n",
      "16\t1.22934e-03\t\t0\n",
      "\n",
      "17\t7.98561e-04\t\t0\n",
      "\n",
      "18\t5.19004e-04\t\t0\n",
      "\n",
      "19\t3.37208e-04\t\t0\n",
      "\n",
      "20\t2.19132e-04\t\t0\n",
      "\n",
      "21\t1.42385e-04\t\t0\n",
      "\n",
      "22\t9.25238e-05\t\t0\n",
      "\n",
      "Output written to toy/dbeliefs.csv\n",
      "\n"
     ]
    }
   ],
   "source": [
    "edges = nc.csvread('toy/edges.csv')\n",
    "priors = nc.csvread('toy/dpriors.csv')\n",
    "beliefs = nc.netconf(edges,priors,verbose=True);\n",
    "np.savetxt('toy/dbeliefs.csv', beliefs, delimiter=\",\", fmt='%s')\n",
    "print('Output written to toy/dbeliefs.csv\\n')"
   ]
  },
  {
   "cell_type": "code",
   "execution_count": null,
   "id": "municipal-rider",
   "metadata": {},
   "outputs": [],
   "source": []
  }
 ],
 "metadata": {
  "kernelspec": {
   "display_name": "Python 3",
   "language": "python",
   "name": "python3"
  },
  "language_info": {
   "codemirror_mode": {
    "name": "ipython",
    "version": 3
   },
   "file_extension": ".py",
   "mimetype": "text/x-python",
   "name": "python",
   "nbconvert_exporter": "python",
   "pygments_lexer": "ipython3",
   "version": "3.7.10"
  }
 },
 "nbformat": 4,
 "nbformat_minor": 5
}
