{
 "cells": [
  {
   "cell_type": "code",
   "execution_count": 3,
   "id": "growing-housing",
   "metadata": {},
   "outputs": [],
   "source": [
    "import netconf as nc\n",
    "import numpy as np"
   ]
  },
  {
   "cell_type": "code",
   "execution_count": 4,
   "id": "collective-vietnamese",
   "metadata": {
    "collapsed": true,
    "jupyter": {
     "outputs_hidden": true
    }
   },
   "outputs": [
    {
     "name": "stdout",
     "output_type": "stream",
     "text": [
      "Nodes: 39, Edges: 40\n",
      "It\tLoss\tLabel change\n",
      "\n",
      "0\t2.11396e+00\t\t11\n",
      "\n",
      "1\t3.85848e-01\t\t0\n",
      "\n",
      "2\t6.13711e-01\t\t0\n",
      "\n",
      "3\t2.40071e-01\t\t0\n",
      "\n",
      "4\t2.08723e-01\t\t0\n",
      "\n",
      "5\t1.08672e-01\t\t0\n",
      "\n",
      "6\t7.73651e-02\t\t0\n",
      "\n",
      "7\t4.51740e-02\t\t0\n",
      "\n",
      "8\t2.98306e-02\t\t0\n",
      "\n",
      "9\t1.82314e-02\t\t0\n",
      "\n",
      "10\t1.16939e-02\t\t0\n",
      "\n",
      "11\t7.27677e-03\t\t0\n",
      "\n",
      "12\t4.61477e-03\t\t0\n",
      "\n",
      "13\t2.89204e-03\t\t0\n",
      "\n",
      "14\t1.82594e-03\t\t0\n",
      "\n",
      "15\t1.14748e-03\t\t0\n",
      "\n",
      "16\t7.23224e-04\t\t0\n",
      "\n",
      "17\t4.54995e-04\t\t0\n",
      "\n",
      "18\t2.86574e-04\t\t0\n",
      "\n",
      "19\t1.80367e-04\t\t0\n",
      "\n",
      "20\t1.13572e-04\t\t0\n",
      "\n",
      "21\t7.14928e-05\t\t0\n",
      "\n",
      "Time elapsed: 0.00680088996887207 seconds\n",
      "Output written to toy/dbeliefs.csv\n",
      "\n"
     ]
    }
   ],
   "source": [
    "edges = nc.csvread('toy/edges.csv')\n",
    "priors = nc.csvread('toy/dpriors.csv')\n",
    "beliefs, _ = nc.netconf(edges,priors,verbose=True);\n",
    "np.savetxt('toy/dbeliefs.csv', beliefs, delimiter=\",\", fmt='%s')\n",
    "print('Output written to toy/dbeliefs.csv\\n')"
   ]
  },
  {
   "cell_type": "code",
   "execution_count": 10,
   "id": "controversial-union",
   "metadata": {
    "collapsed": true,
    "jupyter": {
     "outputs_hidden": true
    }
   },
   "outputs": [
    {
     "name": "stdout",
     "output_type": "stream",
     "text": [
      "Nodes: 39, Edges: 40\n",
      "It\tLoss\tLabel change\n",
      "\n",
      "0\t2.11396e+00\t\t11\n",
      "\n",
      "1\t3.85848e-01\t\t0\n",
      "\n",
      "2\t6.13711e-01\t\t0\n",
      "\n",
      "3\t2.40071e-01\t\t0\n",
      "\n",
      "4\t2.08723e-01\t\t0\n",
      "\n",
      "5\t1.08672e-01\t\t0\n",
      "\n",
      "6\t7.73651e-02\t\t0\n",
      "\n",
      "7\t4.51740e-02\t\t0\n",
      "\n",
      "8\t2.98306e-02\t\t0\n",
      "\n",
      "9\t1.82314e-02\t\t0\n",
      "\n",
      "10\t1.16939e-02\t\t0\n",
      "\n",
      "11\t7.27677e-03\t\t0\n",
      "\n",
      "12\t4.61477e-03\t\t0\n",
      "\n",
      "13\t2.89204e-03\t\t0\n",
      "\n",
      "14\t1.82594e-03\t\t0\n",
      "\n",
      "15\t1.14748e-03\t\t0\n",
      "\n",
      "16\t7.23224e-04\t\t0\n",
      "\n",
      "17\t4.54995e-04\t\t0\n",
      "\n",
      "18\t2.86574e-04\t\t0\n",
      "\n",
      "19\t1.80367e-04\t\t0\n",
      "\n",
      "20\t1.13572e-04\t\t0\n",
      "\n",
      "21\t7.14928e-05\t\t0\n",
      "\n",
      "Time elapsed: 0.0075147151947021484 seconds\n",
      "Output written to toy/dbeliefsMulti.csv\n",
      "\n"
     ]
    }
   ],
   "source": [
    "edges = nc.csvread('toy/edgesMulti.csv')\n",
    "priors = nc.csvread('toy/dpriorsMulti.csv')\n",
    "mod = np.array([[1,0.1,0], [0.1,1,0.1],[0,0.1,1]])\n",
    "beliefs, _ = nc.netconf(edges,priors,verbose=True)\n",
    "np.savetxt('toy/dbeliefsMulti.csv', beliefs, delimiter=\",\", fmt='%s')\n",
    "print('Output written to toy/dbeliefsMulti.csv\\n')"
   ]
  },
  {
   "cell_type": "code",
   "execution_count": null,
   "id": "hairy-revolution",
   "metadata": {},
   "outputs": [],
   "source": []
  }
 ],
 "metadata": {
  "kernelspec": {
   "display_name": "Python 3",
   "language": "python",
   "name": "python3"
  },
  "language_info": {
   "codemirror_mode": {
    "name": "ipython",
    "version": 3
   },
   "file_extension": ".py",
   "mimetype": "text/x-python",
   "name": "python",
   "nbconvert_exporter": "python",
   "pygments_lexer": "ipython3",
   "version": "3.7.10"
  }
 },
 "nbformat": 4,
 "nbformat_minor": 5
}
