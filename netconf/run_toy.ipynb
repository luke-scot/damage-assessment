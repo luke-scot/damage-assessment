{
 "cells": [
  {
   "cell_type": "code",
   "execution_count": 1,
   "id": "aware-cover",
   "metadata": {},
   "outputs": [],
   "source": [
    "import numpy as np\n",
    "import netconf as nc"
   ]
  },
  {
   "cell_type": "code",
   "execution_count": 5,
   "id": "reflected-vacation",
   "metadata": {},
   "outputs": [
    {
     "name": "stdout",
     "output_type": "stream",
     "text": [
      "38\n",
      "39\n",
      "It\tmax{del(B)}\tdel(label)\n",
      "\n",
      "0\t2.17753e+00\t\t11\n",
      "\n",
      "1\t4.27692e-01\t\t0\n",
      "\n",
      "2\t6.80830e-01\t\t0\n",
      "\n",
      "3\t2.83748e-01\t\t0\n",
      "\n",
      "4\t2.51017e-01\t\t0\n",
      "\n",
      "5\t1.37942e-01\t\t0\n",
      "\n",
      "6\t1.00936e-01\t\t0\n",
      "\n",
      "7\t6.17783e-02\t\t0\n",
      "\n",
      "8\t4.21752e-02\t\t0\n",
      "\n",
      "9\t2.69092e-02\t\t0\n",
      "\n",
      "10\t1.78981e-02\t\t0\n",
      "\n",
      "11\t1.16027e-02\t\t0\n",
      "\n",
      "12\t7.64157e-03\t\t0\n",
      "\n",
      "13\t4.98388e-03\t\t0\n",
      "\n",
      "14\t3.27013e-03\t\t0\n",
      "\n",
      "15\t2.13773e-03\t\t0\n",
      "\n",
      "16\t1.40066e-03\t\t0\n",
      "\n",
      "17\t9.16431e-04\t\t0\n",
      "\n",
      "18\t6.00130e-04\t\t0\n",
      "\n",
      "19\t3.92787e-04\t\t0\n",
      "\n",
      "20\t2.57166e-04\t\t0\n",
      "\n",
      "21\t1.68338e-04\t\t0\n",
      "\n",
      "22\t1.10206e-04\t\t0\n",
      "\n",
      "23\t7.21427e-05\t\t0\n",
      "\n",
      "Output written to toy/dbeliefs.csv\n",
      "\n"
     ]
    }
   ],
   "source": [
    "edges = nc.csvread('toy/edges.csv')\n",
    "priors = nc.csvread('toy/dpriors.csv')\n",
    "print(np.max(edges))\n",
    "print(len(priors))\n",
    "beliefs = nc.netconf(edges,priors,verbose=True);\n",
    "np.savetxt('toy/dbeliefs.csv', beliefs, delimiter=\",\", fmt='%s')\n",
    "print('Output written to toy/dbeliefs.csv\\n')"
   ]
  },
  {
   "cell_type": "code",
   "execution_count": null,
   "id": "official-general",
   "metadata": {},
   "outputs": [],
   "source": []
  }
 ],
 "metadata": {
  "kernelspec": {
   "display_name": "Python 3",
   "language": "python",
   "name": "python3"
  },
  "language_info": {
   "codemirror_mode": {
    "name": "ipython",
    "version": 3
   },
   "file_extension": ".py",
   "mimetype": "text/x-python",
   "name": "python",
   "nbconvert_exporter": "python",
   "pygments_lexer": "ipython3",
   "version": "3.7.10"
  }
 },
 "nbformat": 4,
 "nbformat_minor": 5
}
