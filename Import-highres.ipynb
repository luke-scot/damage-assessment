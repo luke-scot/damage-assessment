{
 "cells": [
  {
   "cell_type": "code",
   "execution_count": 1,
   "id": "bibliographic-hacker",
   "metadata": {},
   "outputs": [],
   "source": [
    "imgFile2 = \"data/highRes/20AUG05084637-S2AS-MEDIA-Beirut-AUG05-25km.TIF\""
   ]
  },
  {
   "cell_type": "code",
   "execution_count": 12,
   "id": "tropical-permit",
   "metadata": {},
   "outputs": [
    {
     "data": {
      "text/plain": [
       "252.05661"
      ]
     },
     "execution_count": 12,
     "metadata": {},
     "output_type": "execute_result"
    }
   ],
   "source": [
    "import rioxarray as rxr\n",
    "import matplotlib.pyplot as plt\n",
    "wholeIfg = rxr.open_rasterio(imgFile2, masked=True).squeeze()\n",
    "wholeIfg.values.mean()"
   ]
  },
  {
   "cell_type": "code",
   "execution_count": 17,
   "id": "invalid-charm",
   "metadata": {},
   "outputs": [],
   "source": [
    "import rasterio\n",
    "a = rasterio.open(imgFile2)"
   ]
  },
  {
   "cell_type": "code",
   "execution_count": 18,
   "id": "twenty-safety",
   "metadata": {},
   "outputs": [
    {
     "data": {
      "text/plain": [
       "CRS.from_epsg(32636)"
      ]
     },
     "execution_count": 18,
     "metadata": {},
     "output_type": "execute_result"
    }
   ],
   "source": [
    "a.crs"
   ]
  },
  {
   "cell_type": "code",
   "execution_count": 7,
   "id": "preceding-canon",
   "metadata": {},
   "outputs": [
    {
     "name": "stderr",
     "output_type": "stream",
     "text": [
      "Clipping input data to the valid range for imshow with RGB data ([0..1] for floats or [0..255] for integers).\n"
     ]
    },
    {
     "data": {
      "text/plain": [
       "<matplotlib.image.AxesImage at 0x7f72ac873450>"
      ]
     },
     "execution_count": 7,
     "metadata": {},
     "output_type": "execute_result"
    },
    {
     "data": {
      "image/png": "[encoded data removed]",
      "text/plain": [
       "<Figure size 432x288 with 1 Axes>"
      ]
     },
     "metadata": {
      "needs_background": "light"
     },
     "output_type": "display_data"
    }
   ],
   "source": [
    "wholeIfg.plot.imshow()"
   ]
  },
  {
   "cell_type": "code",
   "execution_count": 1,
   "id": "another-three",
   "metadata": {},
   "outputs": [],
   "source": [
    "imgFile1 = \"data/highRes/20JUL31083035-S2AS-MEDIA-Beirut-JUL31-small.TIF\""
   ]
  },
  {
   "cell_type": "code",
   "execution_count": 3,
   "id": "focal-upper",
   "metadata": {},
   "outputs": [
    {
     "data": {
      "text/plain": [
       "285.9347"
      ]
     },
     "execution_count": 3,
     "metadata": {},
     "output_type": "execute_result"
    }
   ],
   "source": [
    "jul = rxr.open_rasterio(img2, masked=True).squeeze()\n",
    "jul.values.mean()"
   ]
  },
  {
   "cell_type": "code",
   "execution_count": 4,
   "id": "boring-biodiversity",
   "metadata": {},
   "outputs": [
    {
     "name": "stderr",
     "output_type": "stream",
     "text": [
      "Clipping input data to the valid range for imshow with RGB data ([0..1] for floats or [0..255] for integers).\n"
     ]
    },
    {
     "data": {
      "text/plain": [
       "<matplotlib.image.AxesImage at 0x7f3433532990>"
      ]
     },
     "execution_count": 4,
     "metadata": {},
     "output_type": "execute_result"
    },
    {
     "data": {
      "image/png": "[encoded data removed]",
      "text/plain": [
       "<Figure size 432x288 with 1 Axes>"
      ]
     },
     "metadata": {
      "needs_background": "light"
     },
     "output_type": "display_data"
    }
   ],
   "source": [
    "jul.plot.imshow()"
   ]
  },
  {
   "cell_type": "code",
   "execution_count": 9,
   "id": "transparent-thursday",
   "metadata": {},
   "outputs": [],
   "source": [
    "# If new server on Descartes Labs, need to install rioxarray \n",
    "try: import rioxarray\n",
    "except: \n",
    "    %pip install rioxarray\n",
    "    \n",
    "# Import helper functions\n",
    "import imports as ip\n",
    "import netconf as nc\n",
    "import plotting as pl\n",
    "import helper_functions as hf\n",
    "\n",
    "## Define variables\n",
    "# Label imports\n",
    "buildingFile = \"./data/beirutBuildingFootprints.geojson\" # OSM data\n",
    "assessmentFile = \"./data/geopalData.csv\" # GeoPal data\n",
    "bourjData = \"./data/bourjHammoud.csv\" # GeoPal Extra\n",
    "manualData = \"./data/manualDamageClasses.csv\" # GeoPal manual data\n",
    "crs = 'epsg:4326' # Coordinate system\n",
    "cn = 'decision' # Column for classes\n",
    "splitString = True # Only use first word in class column\n",
    "confidence = [0, 1] # Confidence in a priori labels (other classes, specified class)\n",
    "\n",
    "# Data imports\n",
    "dataTypes = ['ifg']\n",
    "ifgPreFile = \"./data/beirutPrePreExplosionIfg.tif\" # SNAP output 1\n",
    "ifgPostFile = \"./data/beirutPrePostExplosionIfg.tif\" # SNAP output 2\n",
    "ifgBoth = False # If false, only uses prePost rather than difference between two\n",
    "\n",
    "# Map filtering of location\n",
    "lat, lon, zoom = 33.893, 35.512, 14 # Map properties\n",
    "stdTest = False # Use standard area for Beirut testing\n",
    "\n",
    "# Class options\n",
    "nClasses = False # Enforce number of classes (False -> # classes in labels)\n",
    "classNames = False # Enforce names of classes (False -> cl0, cl1,...)\n",
    "classAssign = False # Enforce class grouping (False -> Clustering is performed)\n",
    "pca, pcaComps, meanCluster = False, 2, True # Clustering properties if used\n",
    "\n",
    "# Edge creation\n",
    "adjacent, geoNeighbours = False, 4 # geographical edges, n neighbours\n",
    "phase, neighbours = True, [3] # Data value edges, n neighbours for each data type"
   ]
  },
  {
   "cell_type": "code",
   "execution_count": 10,
   "id": "developing-northeast",
   "metadata": {},
   "outputs": [
    {
     "data": {
      "application/vnd.jupyter.widget-view+json": {
       "model_id": "34ec74845ef74c68a2a67ecf2d6e6c07",
       "version_major": 2,
       "version_minor": 0
      },
      "text/plain": [
       "Map(center=[33.893, 35.512], controls=(ZoomControl(options=['position', 'zoom_in_text', 'zoom_in_title', 'zoom…"
      ]
     },
     "metadata": {},
     "output_type": "display_data"
    }
   ],
   "source": [
    "## Import Labels and combine\n",
    "# Import OSM\n",
    "footprints = ip.import_OSM_fps(buildingFile)\n",
    "\n",
    "# Import GeoPal assessments\n",
    "assessments1 = ip.import_located_geopal_data(assessmentFile)\n",
    "assessments2 = ip.append_geopal_data(assessments1, bourjData, 'decision - القرار_w_2048411', True)\n",
    "assessments = ip.append_geopal_data(assessments2, manualData)\n",
    "\n",
    "# Get joint geodataframe of building footprints with damage assessments\n",
    "labels = hf.join_gdfs(footprints, assessments, column=cn)\n",
    "if splitString: labels[cn] = labels[cn].str.split(' ').str[0]\n",
    "\n",
    "# Display map of assessments upon which to draw Polygon for analysis\n",
    "m1 = pl.create_map(lat, lon, zoom)\n",
    "m1 = pl.plot_assessments(labels, m1)\n",
    "m1, testPoly = pl.draw_polygon(labels, m1, stdTest)\n",
    "m1"
   ]
  },
  {
   "cell_type": "code",
   "execution_count": 1,
   "id": "interpreted-bonus",
   "metadata": {},
   "outputs": [],
   "source": [
    "# File Name\n",
    "imgFile2 = \"data/highRes/20AUG05084637-S2AS-MEDIA-Beirut-AUG05-25km.TIF\"\n",
    "\n",
    "# Open image\n",
    "import rioxarray as rxr\n",
    "img = rxr.open_rasterio(imgFile2, masked=True).squeeze()\n",
    "\n",
    "# TO DO - Need to convert testPoly to epsg:32636\n",
    "import shapely.geometry as sg\n",
    "poly = sg.Polygon([[730454, 3751375], [730554, 3751375], [730554, 3751475], [730454, 3751475], [730454, 3751375]])\n",
    "\n",
    "# Trim image to polygon\n",
    "import geopandas as gpd\n",
    "extent = gpd.GeoSeries([poly])\n",
    "img = img.rio.clip(extent.geometry.apply(sg.mapping))\n",
    "named = img.rename('img')\n",
    "\n",
    "# Convert to index coords\n",
    "import numpy as np\n",
    "import pandas as pd\n",
    "xm, ym = np.meshgrid(np.array(named.coords['x']), np.array(named.coords['y']))\n",
    "mi = pd.MultiIndex.from_arrays([ym.flatten(),xm.flatten()],names=('y','x'))\n",
    "\n",
    "# Convert to geodataframe with lat/long\n",
    "df = pd.DataFrame(named.data.reshape(3,-1).transpose(), index=mi)\n",
    "import helper_functions as hf\n",
    "gdf = hf.df_to_gdf(df,df.columns,crs=\"epsg:32636\", reIndex=True)\n",
    "gdf = gdf.to_crs('epsg:4326')"
   ]
  },
  {
   "cell_type": "code",
   "execution_count": 13,
   "id": "active-frequency",
   "metadata": {},
   "outputs": [
    {
     "data": {
      "text/plain": [
       "0.0"
      ]
     },
     "execution_count": 13,
     "metadata": {},
     "output_type": "execute_result"
    }
   ],
   "source": [
    "gdf[2].max()"
   ]
  },
  {
   "cell_type": "code",
   "execution_count": null,
   "id": "infectious-premium",
   "metadata": {},
   "outputs": [],
   "source": []
  }
 ],
 "metadata": {
  "kernelspec": {
   "display_name": "Python 3",
   "language": "python",
   "name": "python3"
  },
  "language_info": {
   "codemirror_mode": {
    "name": "ipython",
    "version": 3
   },
   "file_extension": ".py",
   "mimetype": "text/x-python",
   "name": "python",
   "nbconvert_exporter": "python",
   "pygments_lexer": "ipython3",
   "version": "3.7.10"
  }
 },
 "nbformat": 4,
 "nbformat_minor": 5
}
