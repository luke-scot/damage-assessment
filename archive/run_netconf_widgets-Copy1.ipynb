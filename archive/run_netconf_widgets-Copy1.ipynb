{
 "cells": [
  {
   "cell_type": "markdown",
   "id": "previous-feeding",
   "metadata": {},
   "source": [
    "# Belief Propagation from Geo-Located Imagery"
   ]
  },
  {
   "cell_type": "code",
   "execution_count": 1,
   "id": "average-identity",
   "metadata": {},
   "outputs": [],
   "source": [
    "# If new server on Descartes Labs, need to install rioxarray \n",
    "try: import rioxarray\n",
    "except: \n",
    "    %pip install rioxarray\n",
    "\n",
    "import demo_functions as df"
   ]
  },
  {
   "cell_type": "markdown",
   "id": "acute-andorra",
   "metadata": {},
   "source": [
    "__________\n",
    "Let's begin with the input parameters. These include the label file, confidence in the labels and the data types we will use. Once we confirm the data types we will be asked for paths to the files containing the imagery. Post-event must be provided but pre-event is optional. If a pre-event image is provided the data used will be the difference between the images which contains more information than the post event image alone."
   ]
  },
  {
   "cell_type": "code",
   "execution_count": 2,
   "id": "retired-concord",
   "metadata": {},
   "outputs": [
    {
     "data": {
      "application/vnd.jupyter.widget-view+json": {
       "model_id": "e7cd1863e9c14f108e73603b16f8a974",
       "version_major": 2,
       "version_minor": 0
      },
      "text/plain": [
       "HTML(value='<b>Label Parameters</b>')"
      ]
     },
     "metadata": {},
     "output_type": "display_data"
    },
    {
     "data": {
      "application/vnd.jupyter.widget-view+json": {
       "model_id": "e2839f599645473aaeae76b9c80fb879",
       "version_major": 2,
       "version_minor": 0
      },
      "text/plain": [
       "Box(children=(Label(value='Damage Labels: Shapefile - '), Text(value='./data/beirutDamages.shp', layout=Layout…"
      ]
     },
     "metadata": {},
     "output_type": "display_data"
    },
    {
     "data": {
      "application/vnd.jupyter.widget-view+json": {
       "model_id": "961a7b505a454f649b07cd9015e03b6c",
       "version_major": 2,
       "version_minor": 0
      },
      "text/plain": [
       "Box(children=(Label(value='Label Confidence ($P_{other label}$, $P_{class}$)'), FloatRangeSlider(value=(0.0, 1…"
      ]
     },
     "metadata": {},
     "output_type": "display_data"
    },
    {
     "data": {
      "application/vnd.jupyter.widget-view+json": {
       "model_id": "0ae892ad12654a5e9126ebcbb6940827",
       "version_major": 2,
       "version_minor": 0
      },
      "text/plain": [
       "HTML(value='<b>Map Properties</b>')"
      ]
     },
     "metadata": {},
     "output_type": "display_data"
    },
    {
     "data": {
      "application/vnd.jupyter.widget-view+json": {
       "model_id": "750f1922d3d0489ba903897299a45ffc",
       "version_major": 2,
       "version_minor": 0
      },
      "text/plain": [
       "Box(children=(Label(value='Latitude - '), FloatText(value=33.893, layout=Layout(width='max-content')), Label(v…"
      ]
     },
     "metadata": {},
     "output_type": "display_data"
    },
    {
     "data": {
      "application/vnd.jupyter.widget-view+json": {
       "model_id": "ce22d9b8fef046d4abecffe8b276cbe8",
       "version_major": 2,
       "version_minor": 0
      },
      "text/plain": [
       "HTML(value='<b>Data Parameters</b>')"
      ]
     },
     "metadata": {},
     "output_type": "display_data"
    },
    {
     "data": {
      "application/vnd.jupyter.widget-view+json": {
       "model_id": "4451809c1a70433da207700a36d4b7a0",
       "version_major": 2,
       "version_minor": 0
      },
      "text/plain": [
       "Box(children=(Label(value='Enter Data Types:'), Combobox(value='HighRes Imagery', layout=Layout(width='max-con…"
      ]
     },
     "metadata": {},
     "output_type": "display_data"
    },
    {
     "data": {
      "application/vnd.jupyter.widget-view+json": {
       "model_id": "1e2208dce3074b219feb50736dcaef7c",
       "version_major": 2,
       "version_minor": 0
      },
      "text/plain": [
       "VBox(children=(Button(button_style='success', description='Confirm Types', icon='check', style=ButtonStyle(), …"
      ]
     },
     "metadata": {},
     "output_type": "display_data"
    }
   ],
   "source": [
    "inputs = df.parameter_input()"
   ]
  },
  {
   "cell_type": "markdown",
   "id": "stopped-radar",
   "metadata": {},
   "source": [
    "______\n",
    "Now let's load up the map of our ground labels and define an area for the model. Then below the map we'll pick the model parameter to run on the data from the selected area. If we wish to group classes together we will also be offered some clustering options."
   ]
  },
  {
   "cell_type": "code",
   "execution_count": 3,
   "id": "endless-novel",
   "metadata": {},
   "outputs": [
    {
     "data": {
      "application/vnd.jupyter.widget-view+json": {
       "model_id": "a361d87646a14ee19a1c276aec8e9db5",
       "version_major": 2,
       "version_minor": 0
      },
      "text/plain": [
       "Map(center=[33.893, 35.512], controls=(ZoomControl(options=['position', 'zoom_in_text', 'zoom_in_title', 'zoom…"
      ]
     },
     "metadata": {},
     "output_type": "display_data"
    },
    {
     "data": {
      "application/vnd.jupyter.widget-view+json": {
       "model_id": "ff5c2b2510b54e1b99d3000d2457ffd8",
       "version_major": 2,
       "version_minor": 0
      },
      "text/plain": [
       "HTML(value='<h3>Model Parameters</h3>')"
      ]
     },
     "metadata": {},
     "output_type": "display_data"
    },
    {
     "data": {
      "application/vnd.jupyter.widget-view+json": {
       "model_id": "125e59af45164282bdbd8e21971d919a",
       "version_major": 2,
       "version_minor": 0
      },
      "text/plain": [
       "HTML(value='<b>Node Properties</b>')"
      ]
     },
     "metadata": {},
     "output_type": "display_data"
    },
    {
     "data": {
      "application/vnd.jupyter.widget-view+json": {
       "model_id": "50db6c61a0ff4234bc3836a6459c24e0",
       "version_major": 2,
       "version_minor": 0
      },
      "text/plain": [
       "Box(children=(Label(value='Max nodes - Sampling occurs if < pixel number:'), IntText(value=20000, layout=Layou…"
      ]
     },
     "metadata": {},
     "output_type": "display_data"
    },
    {
     "data": {
      "application/vnd.jupyter.widget-view+json": {
       "model_id": "a4eaafc3143f4a11bdc39440806fcc37",
       "version_major": 2,
       "version_minor": 0
      },
      "text/plain": [
       "HTML(value='<b>Edge Properties</b>')"
      ]
     },
     "metadata": {},
     "output_type": "display_data"
    },
    {
     "data": {
      "application/vnd.jupyter.widget-view+json": {
       "model_id": "ef850b3752b8414a8aec0bde45fd9bb0",
       "version_major": 2,
       "version_minor": 0
      },
      "text/plain": [
       "Box(children=(Label(value='Neighbours - Edges to nearest values for each node: '), Box(children=(IntText(value…"
      ]
     },
     "metadata": {},
     "output_type": "display_data"
    },
    {
     "data": {
      "application/vnd.jupyter.widget-view+json": {
       "model_id": "a0cbfd84adf1451a8eabec08c2bbcdc4",
       "version_major": 2,
       "version_minor": 0
      },
      "text/plain": [
       "Box(children=(Label(value='Geographical Edges - '), Checkbox(value=False, indent=False, layout=Layout(width='m…"
      ]
     },
     "metadata": {},
     "output_type": "display_data"
    },
    {
     "data": {
      "application/vnd.jupyter.widget-view+json": {
       "model_id": "167aad9a86614e54b991ccbbbb435823",
       "version_major": 2,
       "version_minor": 0
      },
      "text/plain": [
       "HTML(value='<b>Class Properties</b>')"
      ]
     },
     "metadata": {},
     "output_type": "display_data"
    },
    {
     "data": {
      "application/vnd.jupyter.widget-view+json": {
       "model_id": "6322c17ee0e84015af5d6fdc3eec110a",
       "version_major": 2,
       "version_minor": 0
      },
      "text/plain": [
       "HTML(value=\"Label Classes - ['GREEN' 'YELLOW' 'LAND' 'RED' 'TOTAL']\")"
      ]
     },
     "metadata": {},
     "output_type": "display_data"
    },
    {
     "data": {
      "application/vnd.jupyter.widget-view+json": {
       "model_id": "84bcc32b98064f1badfa1430ad3a1e21",
       "version_major": 2,
       "version_minor": 0
      },
      "text/plain": [
       "Box(children=(Label(value='Classes for Model - '), Dropdown(index=3, options=(2, 3, 4, 5), value=5)))"
      ]
     },
     "metadata": {},
     "output_type": "display_data"
    },
    {
     "data": {
      "application/vnd.jupyter.widget-view+json": {
       "model_id": "050ad08179264a5fa81fdc395c8ae795",
       "version_major": 2,
       "version_minor": 0
      },
      "text/plain": [
       "VBox(children=(Button(button_style='success', description='Confirm Classes', icon='check', style=ButtonStyle()…"
      ]
     },
     "metadata": {},
     "output_type": "display_data"
    }
   ],
   "source": [
    "parameters = df.model_parameters(inputs)"
   ]
  },
  {
   "cell_type": "markdown",
   "id": "precise-tokyo",
   "metadata": {},
   "source": [
    "________\n",
    "Now we have all the parameters for the model, let's import and classify the data according to our selections. If you have already imported the data and just adjusted the model parameters then just re-classify rather than re-importing."
   ]
  },
  {
   "cell_type": "code",
   "execution_count": 4,
   "id": "supported-filename",
   "metadata": {},
   "outputs": [
    {
     "name": "stdout",
     "output_type": "stream",
     "text": [
      "------Checking Coordinate Systems-------\n",
      "------Finished Checking Coordinate Systems-------\n",
      "------Importing Data Files---------\n",
      "data/highRes/20AUG05_HR_LatLon.tif read completed.\n",
      "data/highRes/20JUL31_HR_LatLon.tif read completed.\n"
     ]
    },
    {
     "name": "stderr",
     "output_type": "stream",
     "text": [
      "/opt/conda/lib/python3.7/site-packages/IPython/core/async_helpers.py:68: SerializationWarning: saving variable None with floating point data as an integer dtype without any _FillValue to use for NaNs\n",
      "  coro.send(None)\n"
     ]
    },
    {
     "name": "stdout",
     "output_type": "stream",
     "text": [
      "./data/beirutPrePostExplosionIfg.tif read completed.\n",
      "./data/beirutPrePreExplosionIfg.tif read completed.\n",
      "------Finished Data Import---------\n"
     ]
    }
   ],
   "source": [
    "imports = df.import_data(parameters)"
   ]
  },
  {
   "cell_type": "code",
   "execution_count": 69,
   "id": "appropriate-shark",
   "metadata": {},
   "outputs": [],
   "source": [
    "import helper_functions as hf\n",
    "import imports as ip\n",
    "import pandas as pd\n",
    "import numpy as np\n",
    "## Assign Label classes to data\n",
    "def classify_data(v):\n",
    "    # Retrieve data from inputs\n",
    "    for i in v.keys(): globals()[i] = v[i]\n",
    "    max_nodes = bxNodes.trait_values()['children'][1].value\n",
    "    nClasses = bxNClasses.trait_values()['children'][1].value\n",
    "    classAssign = False if ('bxAssign' not in v) or (bxCluster.trait_values()['children'][1].value is True) else [list(i.value) for i in bxAssign.trait_values()['children']]\n",
    "    classNames = False if 'bxClNames' not in v else [i.value for i in bxClNames.trait_values()['children']]\n",
    "\n",
    "    # Sample data and create geodataframe\n",
    "    print(\"------Data Sampling---------\")\n",
    "    if max_nodes < 2: raise ValueError(\"Insufficient Nodes for belief propagation\")\n",
    "    gdf = ip.get_sample_gdf(data, max_nodes, crs)\n",
    "   \n",
    "    print(\"------Data Classification---------\")\n",
    "    \n",
    "    defClasses, labelsUsed, dataUsed = len(labels[cn].unique()), labels.to_crs(crs).copy(), gdf.copy() # Default classes from labels\n",
    "    usedNames = labels[cn].unique() if nClasses==defClasses or nClasses is False else classNames\n",
    "    initial = hf.init_beliefs(dataUsed, classes=nClasses, columns=usedNames, crs=crs) # Initial class value for each data pixel\n",
    "\n",
    "    if not nClasses or nClasses == defClasses: \n",
    "        nClasses = defClasses # If default classes used\n",
    "        classesUsed = usedNames.copy()\n",
    "    elif nClasses > defClasses: raise NameError('Cannot assign more classes than in original data') # If invalid input\n",
    "    elif nClasses < defClasses: # Perform class grouping\n",
    "        items = [item for sublist in classAssign for item in sublist] if classAssign is not False else False\n",
    "        if (classAssign is False) or not any(classAssign) or (len(items) is not (len(set(items)))): # Perform clustering\n",
    "            if classAssign is not False: print('Incorrect class assignment - Proceeding with clustering. Please assign a single class for each value.')\n",
    "            # Assign labels to each pixel\n",
    "            allPixels = hf.create_nodes(initial, labelsUsed[['geometry',cn]][labelsUsed.within(hf.get_polygon(testPoly, conv=True))])\n",
    "            # Run PCA if set to True\n",
    "            #X = hf.run_PCA(dataUsed[typesUsed[0]].values.transpose(), pcaComps).components_.transpose() if pca else dataUsed[typesUsed[0]]\n",
    "            types = [item for sublist in typesUsed for item in sublist]\n",
    "            X = dataUsed[types]\n",
    "            # Run clustering\n",
    "            meanCluster = True\n",
    "            kmeans, clusterClasses, initLabels = run_cluster(X.iloc[allPixels[cn].dropna().index].values.reshape(-1,len(types)), allPixels[cn].dropna(), meanCluster, nClasses)\n",
    "            print('Clustered classes:{} , original classes:{}'.format(clusterClasses, initLabels))\n",
    "            # Create groups of classes\n",
    "            classesUsed = []\n",
    "            for j in range(nClasses): classesUsed.append([initLabels[i] for i, x in enumerate(list(clusterClasses)) if x==j])\n",
    "        \n",
    "        else:\n",
    "            if len(set(items)) is not defClasses:\n",
    "                print('Not all labels have been assigned to class. Sampling data to include only labels selected.')\n",
    "                labelsUsed = labelsUsed.loc[labelsUsed[cn].isin(items)]\n",
    "            classesUsed = classAssign\n",
    "            #used = [i in flatten_list(classesUsed) for i in labelsUsed[cn]]\n",
    "            initial = hf.init_beliefs(dataUsed, classes=nClasses, columns=usedNames, crs=crs)\n",
    "\n",
    "        # Assign labels for each pixel after clustering\n",
    "        labelsUsed[cn] = hf.group_classes(labelsUsed[cn], classesUsed)\n",
    "    print(\"------Finished Data Classification---------\") \n",
    "\n",
    "    # Update variables\n",
    "    v.update({'max_nodes':max_nodes, 'nClasses':nClasses, 'classAssign':classAssign,'classNames':classNames, 'labelsUsed':labelsUsed,'initial':initial, 'usedNames':usedNames, 'classesUsed':classesUsed, 'dataUsed':dataUsed})\n",
    "    return v\n",
    "\n",
    "# Pre-process hyperspectral data\n",
    "def run_cluster(X, labels, meanCluster = True, nClasses = 2):\n",
    "    # Run clustering on all data\n",
    "    if meanCluster:\n",
    "        a = pd.DataFrame(X)\n",
    "        a['label']=labels.values.reshape(-1,1)\n",
    "        print(a.groupby(['label']).mean().values)\n",
    "        kmeans = hf.run_kmeans(a.groupby(['label']).mean().values, clusters=nClasses)\n",
    "        classes = kmeans.labels_\n",
    "        initLabels = list(np.array(a.groupby(['label']).mean().axes[0]))\n",
    "    else:\n",
    "        k1 = run_kmeans(X, clusters=nClasses)\n",
    "        a = pd.DataFrame(np.concatenate((k1.labels_.reshape(1,-1), labels.values.reshape(1,-1))).transpose(),columns=['group','label'])\n",
    "        kmeans = a.groupby(['label','group']).size()\n",
    "        b = np.zeros([len(labels.unique())+1,nClasses])\n",
    "        for i, val in enumerate(kmeans.axes[0]): b[i] = kmeans[i] \n",
    "        classes = run_kmeans(b[1:],nClasses).labels_\n",
    "    return kmeans, classes, initLabels"
   ]
  },
  {
   "cell_type": "code",
   "execution_count": 86,
   "id": "median-hydrogen",
   "metadata": {},
   "outputs": [
    {
     "name": "stdout",
     "output_type": "stream",
     "text": [
      "------Data Sampling---------\n",
      "------Data Classification---------\n",
      "Not all labels have been assigned to class. Sampling data to include only labels selected.\n",
      "------Finished Data Classification---------\n"
     ]
    }
   ],
   "source": [
    "classified = classify_data(imports)"
   ]
  },
  {
   "cell_type": "markdown",
   "id": "quarterly-communist",
   "metadata": {},
   "source": [
    "____________\n",
    "OK, the data is formatted the model parameters are all checked. Let's build the graph of nodes & edges and run the belief propagation!"
   ]
  },
  {
   "cell_type": "code",
   "execution_count": 87,
   "id": "educational-freeware",
   "metadata": {},
   "outputs": [
    {
     "name": "stdout",
     "output_type": "stream",
     "text": [
      "Nodes: 10000, Edges: 60000\n",
      "It\tLoss\tLabel change\n",
      "\n",
      "0\t4.22918e-01\t\t1629\n",
      "\n",
      "1\t1.94245e-01\t\t2607\n",
      "\n",
      "2\t9.86236e-02\t\t1213\n",
      "\n",
      "3\t4.84758e-02\t\t173\n",
      "\n",
      "4\t2.36049e-02\t\t22\n",
      "\n",
      "5\t1.13883e-02\t\t21\n",
      "\n",
      "6\t5.45125e-03\t\t9\n",
      "\n",
      "7\t2.60039e-03\t\t1\n",
      "\n",
      "8\t1.23480e-03\t\t3\n",
      "\n",
      "9\t5.85214e-04\t\t2\n",
      "\n",
      "Time elapsed: 4.823833465576172 seconds\n"
     ]
    }
   ],
   "source": [
    "output = df.run_bp(classified)"
   ]
  },
  {
   "cell_type": "markdown",
   "id": "coral-arbitration",
   "metadata": {},
   "source": [
    "_____\n",
    "Now let's use the test set to evaluate the effectiveness of the model."
   ]
  },
  {
   "cell_type": "code",
   "execution_count": 88,
   "id": "hairy-favor",
   "metadata": {},
   "outputs": [
    {
     "name": "stdout",
     "output_type": "stream",
     "text": [
      "              precision    recall  f1-score   support\n",
      "\n",
      "        Land       0.51      0.47      0.49       228\n",
      "         Red       0.56      0.60      0.57       252\n",
      "\n",
      "    accuracy                           0.54       480\n",
      "   macro avg       0.53      0.53      0.53       480\n",
      "weighted avg       0.54      0.54      0.54       480\n",
      "\n"
     ]
    },
    {
     "data": {
      "image/png": "[encoded data removed]",
      "text/plain": [
       "<Figure size 1008x360 with 2 Axes>"
      ]
     },
     "metadata": {
      "needs_background": "light"
     },
     "output_type": "display_data"
    }
   ],
   "source": [
    "plots = df.evaluate_output(output)"
   ]
  },
  {
   "cell_type": "markdown",
   "id": "contrary-smoke",
   "metadata": {},
   "source": [
    "Want to save the plot? Run the cell below. If you want to specify a location replace the False boolean with the filepath."
   ]
  },
  {
   "cell_type": "code",
   "execution_count": 89,
   "id": "equivalent-cursor",
   "metadata": {},
   "outputs": [],
   "source": [
    "df.save_plot(plots, location='results/ResultPlots-BeirutmostDiff-RTLand')"
   ]
  },
  {
   "cell_type": "code",
   "execution_count": 30,
   "id": "published-bumper",
   "metadata": {},
   "outputs": [
    {
     "data": {
      "application/vnd.jupyter.widget-view+json": {
       "model_id": "4747de9e4df14976b2de3ea1a381e704",
       "version_major": 2,
       "version_minor": 0
      },
      "text/plain": [
       "Map(center=[33.893, 35.512], controls=(ZoomControl(options=['position', 'zoom_in_text', 'zoom_in_title', 'zoom…"
      ]
     },
     "metadata": {},
     "output_type": "display_data"
    }
   ],
   "source": [
    "# Visualise spatial results\n",
    "import plotting as pl\n",
    "for i in plots.keys(): globals()[i] = plots[i] # Retrieve variables to use\n",
    "from ipyleaflet import LayersControl\n",
    "import ipywidgets as ipw\n",
    "\n",
    "mf = pl.create_map(lat, lon, zoom)\n",
    "\n",
    "plot_assessments(labels, mf, cn=cn, layer_name='Ground truth', layer_only=True)\n",
    "\n",
    "plot_assessments(nodes.to_crs({'init':crs}).dropna(), mf, layer_name='Train Locations', no_leg=True)\n",
    "\n",
    "import geopandas as gpd\n",
    "a = gpd.sjoin(initial, X_test, how='left', op='within').dropna(subset=[cn])\n",
    "a['prediction']=pred_clf\n",
    "plot_assessments(a.to_crs({'init':crs}).dropna(), mf, cn='prediction', layer_name='Test Predictions', no_leg=True)\n",
    "\n",
    "control = ipl.LayersControl(position='topright')\n",
    "\n",
    "mf.add_control(control)\n",
    "\n",
    "zoom_slider = ipw.IntSlider(description='Zoom level:', min=7, max=18, value=14)\n",
    "ipw.jslink((zoom_slider, 'value'), (mf, 'zoom'))\n",
    "widget_control1 = ipl.WidgetControl(widget=zoom_slider, position='topright')\n",
    "mf.add_control(widget_control1)\n",
    "mf.add_control(ipl.FullScreenControl())\n",
    "mf"
   ]
  },
  {
   "cell_type": "code",
   "execution_count": 29,
   "id": "israeli-luther",
   "metadata": {},
   "outputs": [],
   "source": [
    "import ipyleaflet as ipl\n",
    "# Converting gdf columns to GeoData for plotting\n",
    "def to_geodata(gdf, color, name='Data'):\n",
    "    plotGdf = ipl.GeoData(geo_dataframe = gdf,\n",
    "                          style={'color': color, 'radius':2, 'fillColor': color, 'opacity':0.9, 'weight':1.9, 'dashArray':'2', 'fillOpacity':0.7},\n",
    "                          hover_style={'fillColor': 'white' , 'fillOpacity': 0.2},\n",
    "                          point_style={'radius': 3, 'color': color, 'fillOpacity': 0.8, 'fillColor': color, 'weight': 3},\n",
    "                          name = name)\n",
    "    return plotGdf\n",
    "\n",
    "# Plotting for building footprints with attached assessments\n",
    "def plot_assessments(gdf, mapName, cn='decision', classes=['GREEN','YELLOW','RED','TOTAL','LAND'], colors=['green','yellow','red','maroon','cyan'], layer_name='Data', layer_only=False, no_leg=False):\n",
    "    classes = inputs['labels']['decision'].unique() if classes is False else classes \n",
    "    leg = {}\n",
    "    globals()['layer'+layer_name] = ipl.LayerGroup(name = layer_name)\n",
    "    for i, cl in enumerate(classes):\n",
    "#        globals()['layer'+layer_name].add_layer(to_geodata(gdf.loc[str(gdf[cn]).ds.contains(cl)],colors[i],layer_name))\n",
    "        globals()['layer'+layer_name].add_layer(to_geodata(gdf.loc[gdf[cn].str.contains(cl)],colors[i],layer_name))\n",
    "        leg.update({cl:colors[i]})\n",
    "    if not layer_only:\n",
    "        mapName.add_layer(globals()['layer'+layer_name])\n",
    "        if not 'l1' in globals() and no_leg is False: # Add legend if forming map for first time\n",
    "            l1 = ipl.LegendControl(leg, name=cn, position=\"bottomleft\")\n",
    "            mapName.add_control(l1)\n",
    "        return mapName\n",
    "    else: return globals()['layer'+layer_name]"
   ]
  },
  {
   "cell_type": "code",
   "execution_count": null,
   "id": "random-america",
   "metadata": {},
   "outputs": [],
   "source": []
  }
 ],
 "metadata": {
  "kernelspec": {
   "display_name": "Python 3",
   "language": "python",
   "name": "python3"
  },
  "language_info": {
   "codemirror_mode": {
    "name": "ipython",
    "version": 3
   },
   "file_extension": ".py",
   "mimetype": "text/x-python",
   "name": "python",
   "nbconvert_exporter": "python",
   "pygments_lexer": "ipython3",
   "version": "3.7.10"
  }
 },
 "nbformat": 4,
 "nbformat_minor": 5
}
