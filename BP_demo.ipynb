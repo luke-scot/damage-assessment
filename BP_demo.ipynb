{
  "nbformat": 4,
  "nbformat_minor": 0,
  "metadata": {
    "colab": {
      "name": "BP-Demo",
      "provenance": [],
      "collapsed_sections": [
        "x-tt9teSX7FZ",
        "pLx7_gipS9KU",
        "ry2GQg-6Xy5j",
        "CbOXR7BOdNJF",
        "tKvOGJupht2A",
        "IqzLqH4EiGlq",
        "HYWM6p_KipeW",
        "YknTtNTKdrJF",
        "DJYdRck6d1_K",
        "fBas9jdkd8Vq",
        "BvW9X9p2eEtH"
      ],
      "authorship_tag": "ABX9TyOAkxqMUZ2pCjnzFyUxC2lp",
      "include_colab_link": true
    },
    "kernelspec": {
      "name": "python3",
      "display_name": "Python 3"
    },
    "language_info": {
      "name": "python"
    }
  },
  "cells": [
    {
      "cell_type": "markdown",
      "metadata": {
        "id": "view-in-github",
        "colab_type": "text"
      },
      "source": [
        "<a href=\"https://colab.research.google.com/github/luke-scot/damage-assessment/blob/data-visualisation/BP_demo.ipynb\" target=\"_parent\"><img src=\"https://colab.research.google.com/assets/colab-badge.svg\" alt=\"Open In Colab\"/></a>"
      ]
    },
    {
      "cell_type": "markdown",
      "metadata": {
        "id": "H2xZVJa7RgQB"
      },
      "source": [
        "# Graph-based belief propagation for post-disaster damage assessments\n",
        "\n",
        "Run the first cell to download the latest version of the demo functions."
      ]
    },
    {
      "cell_type": "code",
      "metadata": {
        "id": "KvVdMWBdVzRa",
        "colab": {
          "base_uri": "https://localhost:8080/"
        },
        "outputId": "d4301206-4a12-4282-8f15-b66e5658e489"
      },
      "source": [
        "! git clone https://github.com/luke-scot/damage-assessment.git\n",
        "%cd damage-assessment"
      ],
      "execution_count": null,
      "outputs": [
        {
          "output_type": "stream",
          "text": [
            "Cloning into 'damage-assessment'...\n",
            "remote: Enumerating objects: 302, done.\u001b[K\n",
            "remote: Counting objects: 100% (302/302), done.\u001b[K\n",
            "remote: Compressing objects: 100% (233/233), done.\u001b[K\n",
            "remote: Total 302 (delta 161), reused 184 (delta 68), pack-reused 0\u001b[K\n",
            "Receiving objects: 100% (302/302), 4.41 MiB | 6.15 MiB/s, done.\n",
            "Resolving deltas: 100% (161/161), done.\n",
            "/content/damage-assessment\n"
          ],
          "name": "stdout"
        }
      ]
    },
    {
      "cell_type": "code",
      "metadata": {
        "id": "8dDP6IS1W-oD"
      },
      "source": [
        "from IPython.display import Markdown as md\n",
        "explanation, sections = disp_section()\n",
        "def disp_section():\n",
        "  exp = open('/content/damage-assessment/bp_report.md').read()\n",
        "  a, sections, left = exp.find('\\n## '), [], exp\n",
        "  while a > -1:\n",
        "    left = left[a+1:]\n",
        "    sections.append(left[:left.find('\\n## ')])\n",
        "    a = left.find('\\n## ')\n",
        "    \n",
        "  return exp, sections"
      ],
      "execution_count": null,
      "outputs": []
    },
    {
      "cell_type": "markdown",
      "metadata": {
        "id": "3KgBfgLCgOU3"
      },
      "source": [
        "## Introduction"
      ]
    },
    {
      "cell_type": "markdown",
      "metadata": {
        "id": "zn2z4yRJSTPG"
      },
      "source": [
        "In the immediate aftermath of a disaster, there are 2 priority tasks for recovery efforts:\n",
        "- Search & Rescue\n",
        "  - The area is sectorised according to prior knowledge including population density, building vulnerability.\n",
        "  - Sectors are prioritised for reconaissance missions according to intial reports of disaster effects.\n",
        "\n",
        "- Damage Assessment\n",
        "  - Buildings are classified to prevent further casualties from unsafe structures.\n",
        "  - Assessments are used to prioritise reconstruction and direct humanitarian aid.\n",
        "\n",
        "This project explores the possibility of using a novel belief propagation approach to rapidly assess infrastructure damage by combining multiple damage proxy datasets with initial structural assessments. The data extent and availability of remote sensing has led us to focus on satellite data. Rapid assessments with a just quantification of uncertainties could aid sector prioritisation for search and rescue efforts and help gain an initial understanding of damages to accelerate the benefits provided by damage assessment.\n",
        "\n",
        "[Click here](https://hackmd.io/OrUFc3xLT1yftbxL0k5QZg#Introduction) to open full background or run the cell below to display in this notebook."
      ]
    },
    {
      "cell_type": "code",
      "metadata": {
        "id": "GezN9WTcWlPW"
      },
      "source": [
        "md(sections[0])"
      ],
      "execution_count": null,
      "outputs": []
    },
    {
      "cell_type": "markdown",
      "metadata": {
        "id": "5xacXb8bSxis"
      },
      "source": [
        "## Method"
      ]
    },
    {
      "cell_type": "markdown",
      "metadata": {
        "id": "kXhBRXsAgcDz"
      },
      "source": [
        "An efficient representing"
      ]
    },
    {
      "cell_type": "markdown",
      "metadata": {
        "id": "x-tt9teSX7FZ"
      },
      "source": [
        "#### Link to more details - [click here](https://hackmd.io/R-eCVYw4SmypmLetE1QhYg?view#Methods) to open or run the next cell to render here"
      ]
    },
    {
      "cell_type": "code",
      "metadata": {
        "id": "j8PZw_MTYHQ9"
      },
      "source": [
        "md(open('/content/damage-assessment/README.md').read())"
      ],
      "execution_count": null,
      "outputs": []
    },
    {
      "cell_type": "markdown",
      "metadata": {
        "id": "pLx7_gipS9KU"
      },
      "source": [
        "#### NetConf Demonstration"
      ]
    },
    {
      "cell_type": "code",
      "metadata": {
        "id": "MVqEAZecSxM8"
      },
      "source": [
        "# Download demo files\n",
        "# %%bash \n",
        "# bash download_data.sh"
      ],
      "execution_count": null,
      "outputs": []
    },
    {
      "cell_type": "markdown",
      "metadata": {
        "id": "DgquuSFmXXi7"
      },
      "source": [
        "Link to edit sheets"
      ]
    },
    {
      "cell_type": "code",
      "metadata": {
        "id": "5G5xhxE7RaeX"
      },
      "source": [
        "# Print table or summary of current inputs or ideally image"
      ],
      "execution_count": null,
      "outputs": []
    },
    {
      "cell_type": "code",
      "metadata": {
        "id": "tlcUHLcFQqGc"
      },
      "source": [
        "# Run Netconf"
      ],
      "execution_count": null,
      "outputs": []
    },
    {
      "cell_type": "code",
      "metadata": {
        "id": "bsAptcu6QrBr"
      },
      "source": [
        "# Print output probabilities"
      ],
      "execution_count": null,
      "outputs": []
    },
    {
      "cell_type": "markdown",
      "metadata": {
        "id": "uDPvo2p9dasS"
      },
      "source": [
        ""
      ]
    },
    {
      "cell_type": "markdown",
      "metadata": {
        "id": "ry2GQg-6Xy5j"
      },
      "source": [
        "## Application to Damage Assessment"
      ]
    },
    {
      "cell_type": "markdown",
      "metadata": {
        "id": "CbOXR7BOdNJF"
      },
      "source": [
        "#### Houston Demonstration"
      ]
    },
    {
      "cell_type": "code",
      "metadata": {
        "id": "mNhV84L6dAq4"
      },
      "source": [
        "%%bash\n",
        "## bash download_houston.sh\n",
        "## Include results figures in download"
      ],
      "execution_count": null,
      "outputs": []
    },
    {
      "cell_type": "markdown",
      "metadata": {
        "id": "tKvOGJupht2A"
      },
      "source": [
        "###### Data Visualisation"
      ]
    },
    {
      "cell_type": "code",
      "metadata": {
        "id": "uP8q9l5GhzZq"
      },
      "source": [
        "## Houston data visualisation"
      ],
      "execution_count": null,
      "outputs": []
    },
    {
      "cell_type": "markdown",
      "metadata": {
        "id": "IqzLqH4EiGlq"
      },
      "source": [
        "###### Run with Pre-set thing - options to run with different classes etc..."
      ]
    },
    {
      "cell_type": "code",
      "metadata": {
        "id": "7JCWL6blihqi"
      },
      "source": [
        "# Code it up"
      ],
      "execution_count": null,
      "outputs": []
    },
    {
      "cell_type": "markdown",
      "metadata": {
        "id": "HYWM6p_KipeW"
      },
      "source": [
        "###### Conclusions and parameter optimisation"
      ]
    },
    {
      "cell_type": "code",
      "metadata": {
        "id": "053u8sWai0xn"
      },
      "source": [
        "# Display parameter results"
      ],
      "execution_count": null,
      "outputs": []
    },
    {
      "cell_type": "markdown",
      "metadata": {
        "id": "YknTtNTKdrJF"
      },
      "source": [
        "#### Beirut Results"
      ]
    },
    {
      "cell_type": "code",
      "metadata": {
        "id": "_7a_Lkbsdvnn"
      },
      "source": [
        "%%bash\n",
        "bash download_data.sh"
      ],
      "execution_count": null,
      "outputs": []
    },
    {
      "cell_type": "markdown",
      "metadata": {
        "id": "TNTngiX3jGBS"
      },
      "source": [
        "###### Data Visualisation"
      ]
    },
    {
      "cell_type": "code",
      "metadata": {
        "id": "BkaYxcoajGBT"
      },
      "source": [
        "## Beirut data visualisation"
      ],
      "execution_count": null,
      "outputs": []
    },
    {
      "cell_type": "markdown",
      "metadata": {
        "id": "bs9044ZTjGBU"
      },
      "source": [
        "###### Run with Pre-set thing - options to run with different classes etc..."
      ]
    },
    {
      "cell_type": "code",
      "metadata": {
        "id": "sS_8r49vjGBV"
      },
      "source": [
        "# Code it up"
      ],
      "execution_count": null,
      "outputs": []
    },
    {
      "cell_type": "markdown",
      "metadata": {
        "id": "_bSAful4jGBV"
      },
      "source": [
        "###### Conclusions and parameter optimisation"
      ]
    },
    {
      "cell_type": "code",
      "metadata": {
        "id": "ryzZ2NFhjGBW"
      },
      "source": [
        "# Display parameter results"
      ],
      "execution_count": null,
      "outputs": []
    },
    {
      "cell_type": "markdown",
      "metadata": {
        "id": "DJYdRck6d1_K"
      },
      "source": [
        "## Interactive tool\n",
        "\n",
        "Link to run in separate notebook"
      ]
    },
    {
      "cell_type": "code",
      "metadata": {
        "id": "QZ9psUrhdvMN"
      },
      "source": [
        "%pip install rasterio geopandas ipyleaflet rioxarray\n",
        "import helper_functions as hf"
      ],
      "execution_count": null,
      "outputs": []
    },
    {
      "cell_type": "code",
      "metadata": {
        "id": "Ucxvztueeqha"
      },
      "source": [
        ""
      ],
      "execution_count": null,
      "outputs": []
    },
    {
      "cell_type": "markdown",
      "metadata": {
        "id": "fBas9jdkd8Vq"
      },
      "source": [
        "## Discussion and Conclusions"
      ]
    },
    {
      "cell_type": "markdown",
      "metadata": {
        "id": "BvW9X9p2eEtH"
      },
      "source": [
        "#### Link to more details - [click here](https://hackmd.io/R-eCVYw4SmypmLetE1QhYg?view#Methods) to open or run the next cell to render here"
      ]
    },
    {
      "cell_type": "code",
      "metadata": {
        "id": "tmjrE4LUeApy"
      },
      "source": [
        "md(open('/content/damage-assessment/README.md').read())"
      ],
      "execution_count": null,
      "outputs": []
    },
    {
      "cell_type": "code",
      "metadata": {
        "id": "2F-dRO2heIzf"
      },
      "source": [
        ""
      ],
      "execution_count": null,
      "outputs": []
    }
  ]
}