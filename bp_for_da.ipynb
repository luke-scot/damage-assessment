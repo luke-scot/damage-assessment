{
 "cells": [
  {
   "cell_type": "markdown",
   "id": "wound-fifth",
   "metadata": {},
   "source": [
    "# Confidence-aware belief propagation for multimodal data\n",
    "This notebook runs a demonstration of the belief propagtion (BP) framework initially created for post-disaster damage assessment by Luke Cullen at the University of Cambridge.\n",
    "Please feel free to take this framework and build upon it for further applications. If you're having trouble please email me at lshc3@cam.ac.uk.\n",
    "\n",
    "To download the data for running either the Beirut or Houston examples, simply run the appropriate bash script in your terminal."
   ]
  },
  {
   "cell_type": "code",
   "execution_count": null,
   "id": "personal-district",
   "metadata": {},
   "outputs": [],
   "source": [
    "# Install uncommon package and import others\n",
    "try: import rioxarray\n",
    "except: \n",
    "    %pip install rioxarray\n",
    "\n",
    "import interactions as it\n",
    "defaults = it.get_defaults()"
   ]
  },
  {
   "cell_type": "code",
   "execution_count": null,
   "id": "homeless-sphere",
   "metadata": {},
   "outputs": [],
   "source": [
    "inputs = it.input_parameters(defaults)"
   ]
  },
  {
   "cell_type": "code",
   "execution_count": null,
   "id": "powered-sharing",
   "metadata": {},
   "outputs": [],
   "source": [
    "parameters = it.model_parameters(inputs)"
   ]
  },
  {
   "cell_type": "code",
   "execution_count": null,
   "id": "excessive-maintenance",
   "metadata": {},
   "outputs": [],
   "source": [
    "imports = it.import_data(parameters)"
   ]
  },
  {
   "cell_type": "code",
   "execution_count": null,
   "id": "owned-director",
   "metadata": {},
   "outputs": [],
   "source": [
    "classified = it.classify_data(imports)"
   ]
  },
  {
   "cell_type": "code",
   "execution_count": null,
   "id": "lightweight-freeze",
   "metadata": {},
   "outputs": [],
   "source": [
    "output = it.run_bp(classified)"
   ]
  },
  {
   "cell_type": "code",
   "execution_count": null,
   "id": "prostate-soundtrack",
   "metadata": {},
   "outputs": [],
   "source": [
    "plots = it.evaluate_output(output)"
   ]
  },
  {
   "cell_type": "code",
   "execution_count": null,
   "id": "intensive-elder",
   "metadata": {},
   "outputs": [],
   "source": [
    "it.save_plot(plots, location='results/performancePlot.png')"
   ]
  },
  {
   "cell_type": "code",
   "execution_count": null,
   "id": "allied-discipline",
   "metadata": {},
   "outputs": [],
   "source": [
    "mapping = it.map_result(plots)"
   ]
  }
 ],
 "metadata": {
  "kernelspec": {
   "display_name": "Python 3",
   "language": "python",
   "name": "python3"
  },
  "language_info": {
   "codemirror_mode": {
    "name": "ipython",
    "version": 3
   },
   "file_extension": ".py",
   "mimetype": "text/x-python",
   "name": "python",
   "nbconvert_exporter": "python",
   "pygments_lexer": "ipython3",
   "version": "3.7.10"
  }
 },
 "nbformat": 4,
 "nbformat_minor": 5
}
