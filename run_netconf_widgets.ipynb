{
 "cells": [
  {
   "cell_type": "markdown",
   "id": "synthetic-cabinet",
   "metadata": {},
   "source": [
    "# Belief Propagation from Geo-Located Imagery"
   ]
  },
  {
   "cell_type": "code",
   "execution_count": 1,
   "id": "fatal-maryland",
   "metadata": {},
   "outputs": [],
   "source": [
    "# If new server on Descartes Labs, need to install rioxarray \n",
    "try: import rioxarray\n",
    "except: \n",
    "    %pip install rioxarray\n",
    "\n",
    "import demo_functions as df"
   ]
  },
  {
   "cell_type": "markdown",
   "id": "expired-dancing",
   "metadata": {},
   "source": [
    "__________\n",
    "Let's begin with the input parameters. These include the label file, confidence in the labels and the data types we will use. Once we confirm the data types we will be asked for paths to the files containing the imagery. Post-event must be provided but pre-event is optional. If a pre-event image is provided the data used will be the difference between the images which contains more information than the post event image alone."
   ]
  },
  {
   "cell_type": "code",
   "execution_count": 2,
   "id": "rational-impossible",
   "metadata": {},
   "outputs": [
    {
     "data": {
      "application/vnd.jupyter.widget-view+json": {
       "model_id": "657abf65d0e1479997ea1037508b71ab",
       "version_major": 2,
       "version_minor": 0
      },
      "text/plain": [
       "HTML(value='<b>Label Parameters</b>')"
      ]
     },
     "metadata": {},
     "output_type": "display_data"
    },
    {
     "data": {
      "application/vnd.jupyter.widget-view+json": {
       "model_id": "f930d3ae5be24c3ba7906373d02e9b6f",
       "version_major": 2,
       "version_minor": 0
      },
      "text/plain": [
       "Box(children=(Label(value='Damage Labels: Shapefile - '), Text(value='./data/beirutDamages.shp', layout=Layout…"
      ]
     },
     "metadata": {},
     "output_type": "display_data"
    },
    {
     "data": {
      "application/vnd.jupyter.widget-view+json": {
       "model_id": "1124ac2982cd4591beab9255fa2c4dca",
       "version_major": 2,
       "version_minor": 0
      },
      "text/plain": [
       "Box(children=(Label(value='Label Confidence ($P_{other label}$, $P_{class}$)'), FloatRangeSlider(value=(0.0, 1…"
      ]
     },
     "metadata": {},
     "output_type": "display_data"
    },
    {
     "data": {
      "application/vnd.jupyter.widget-view+json": {
       "model_id": "69c331bf069545a697b532c86b782629",
       "version_major": 2,
       "version_minor": 0
      },
      "text/plain": [
       "HTML(value='<b>Map Properties</b>')"
      ]
     },
     "metadata": {},
     "output_type": "display_data"
    },
    {
     "data": {
      "application/vnd.jupyter.widget-view+json": {
       "model_id": "721c16eddcc441b899785a3e135d1eb2",
       "version_major": 2,
       "version_minor": 0
      },
      "text/plain": [
       "Box(children=(Label(value='Latitude - '), FloatText(value=33.893, layout=Layout(width='max-content')), Label(v…"
      ]
     },
     "metadata": {},
     "output_type": "display_data"
    },
    {
     "data": {
      "application/vnd.jupyter.widget-view+json": {
       "model_id": "90ef804676ba4559b1e19fd33b1e219c",
       "version_major": 2,
       "version_minor": 0
      },
      "text/plain": [
       "HTML(value='<b>Data Parameters</b>')"
      ]
     },
     "metadata": {},
     "output_type": "display_data"
    },
    {
     "data": {
      "application/vnd.jupyter.widget-view+json": {
       "model_id": "279135599ade4e99878380fc1474bc9c",
       "version_major": 2,
       "version_minor": 0
      },
      "text/plain": [
       "Box(children=(Label(value='Enter Data Types:'), Combobox(value='HighRes Imagery', layout=Layout(width='max-con…"
      ]
     },
     "metadata": {},
     "output_type": "display_data"
    },
    {
     "data": {
      "application/vnd.jupyter.widget-view+json": {
       "model_id": "0403c863998b4bcb91d90a281e8033b5",
       "version_major": 2,
       "version_minor": 0
      },
      "text/plain": [
       "VBox(children=(Button(button_style='success', description='Confirm Types', icon='check', style=ButtonStyle(), …"
      ]
     },
     "metadata": {},
     "output_type": "display_data"
    }
   ],
   "source": [
    "inputs = df.parameter_input()"
   ]
  },
  {
   "cell_type": "markdown",
   "id": "ignored-athens",
   "metadata": {},
   "source": [
    "______\n",
    "Now let's load up the map of our ground labels and define an area for the model. Then below the map we'll pick the model parameter to run on the data from the selected area. If we wish to group classes together we will also be offered some clustering options."
   ]
  },
  {
   "cell_type": "code",
   "execution_count": 3,
   "id": "constitutional-investigator",
   "metadata": {},
   "outputs": [
    {
     "data": {
      "application/vnd.jupyter.widget-view+json": {
       "model_id": "b4ff167dc8c2447e9fa07ff8c342b6fd",
       "version_major": 2,
       "version_minor": 0
      },
      "text/plain": [
       "Map(center=[33.893, 35.512], controls=(ZoomControl(options=['position', 'zoom_in_text', 'zoom_in_title', 'zoom…"
      ]
     },
     "metadata": {},
     "output_type": "display_data"
    },
    {
     "data": {
      "application/vnd.jupyter.widget-view+json": {
       "model_id": "eca83c65f53841f39d1713252045a08a",
       "version_major": 2,
       "version_minor": 0
      },
      "text/plain": [
       "HTML(value='<h3>Model Parameters</h3>')"
      ]
     },
     "metadata": {},
     "output_type": "display_data"
    },
    {
     "data": {
      "application/vnd.jupyter.widget-view+json": {
       "model_id": "32dc67e2125b4b8f9a0f944cf4bd53b8",
       "version_major": 2,
       "version_minor": 0
      },
      "text/plain": [
       "HTML(value='<b>Node Properties</b>')"
      ]
     },
     "metadata": {},
     "output_type": "display_data"
    },
    {
     "data": {
      "application/vnd.jupyter.widget-view+json": {
       "model_id": "ba5c029227ea450a91ddd1d62f02eba0",
       "version_major": 2,
       "version_minor": 0
      },
      "text/plain": [
       "Box(children=(Label(value='Maximum nodes - Sampling occurs if < pixel number: '), IntText(value=20000, layout=…"
      ]
     },
     "metadata": {},
     "output_type": "display_data"
    },
    {
     "data": {
      "application/vnd.jupyter.widget-view+json": {
       "model_id": "233ca5cbc55b4b17800319a3f4a698c3",
       "version_major": 2,
       "version_minor": 0
      },
      "text/plain": [
       "HTML(value='<b>Edge Properties</b>')"
      ]
     },
     "metadata": {},
     "output_type": "display_data"
    },
    {
     "data": {
      "application/vnd.jupyter.widget-view+json": {
       "model_id": "9992ca1bb4c64313b8a12b8c7fcf20f7",
       "version_major": 2,
       "version_minor": 0
      },
      "text/plain": [
       "Box(children=(Label(value='Neighbours - Edges to nearest values for each node: '), Box(children=(IntText(value…"
      ]
     },
     "metadata": {},
     "output_type": "display_data"
    },
    {
     "data": {
      "application/vnd.jupyter.widget-view+json": {
       "model_id": "db0257389f4a403faa5359f101e70ae6",
       "version_major": 2,
       "version_minor": 0
      },
      "text/plain": [
       "Box(children=(Label(value='Geographical Edges - '), Checkbox(value=False, indent=False, layout=Layout(width='m…"
      ]
     },
     "metadata": {},
     "output_type": "display_data"
    },
    {
     "data": {
      "application/vnd.jupyter.widget-view+json": {
       "model_id": "d3a8246b472e44558cc9e716de959aa7",
       "version_major": 2,
       "version_minor": 0
      },
      "text/plain": [
       "HTML(value='<b>Class Properties</b>')"
      ]
     },
     "metadata": {},
     "output_type": "display_data"
    },
    {
     "data": {
      "application/vnd.jupyter.widget-view+json": {
       "model_id": "1ff93a0db46f48198583873af6c6476b",
       "version_major": 2,
       "version_minor": 0
      },
      "text/plain": [
       "HTML(value=\"Label Classes - ['GREEN' 'YELLOW' 'LAND' 'RED' 'TOTAL']\")"
      ]
     },
     "metadata": {},
     "output_type": "display_data"
    },
    {
     "data": {
      "application/vnd.jupyter.widget-view+json": {
       "model_id": "ec64562bf60e47bcad2dbc88fbf3f3e5",
       "version_major": 2,
       "version_minor": 0
      },
      "text/plain": [
       "Box(children=(Label(value='Classes for Model - '), Dropdown(index=3, options=(2, 3, 4, 5), value=5)))"
      ]
     },
     "metadata": {},
     "output_type": "display_data"
    },
    {
     "data": {
      "application/vnd.jupyter.widget-view+json": {
       "model_id": "d5e3eaa2e1944f51bb1fcf32c29c990a",
       "version_major": 2,
       "version_minor": 0
      },
      "text/plain": [
       "VBox(children=(Button(button_style='success', description='Confirm Classes', icon='check', style=ButtonStyle()…"
      ]
     },
     "metadata": {},
     "output_type": "display_data"
    }
   ],
   "source": [
    "parameters = df.model_parameters(inputs)"
   ]
  },
  {
   "cell_type": "markdown",
   "id": "rapid-subscription",
   "metadata": {},
   "source": [
    "________\n",
    "Now we have all the parameters for the model, let's import and classify the data according to our selections. If you have already imported the data and just adjusted the model parameters then just re-classify rather than re-importing."
   ]
  },
  {
   "cell_type": "code",
   "execution_count": 6,
   "id": "interesting-accused",
   "metadata": {},
   "outputs": [
    {
     "name": "stdout",
     "output_type": "stream",
     "text": [
      "------Checking Coordinate Systems-------\n",
      "------Finished Checking Coordinate Systems-------\n",
      "------Importing Data Files---------\n",
      "data/highRes/20AUG05_HR_LatLon.tif read completed.\n",
      "data/highRes/20JUL31_HR_LatLon.tif read completed.\n"
     ]
    },
    {
     "name": "stderr",
     "output_type": "stream",
     "text": [
      "/opt/conda/lib/python3.7/site-packages/IPython/core/async_helpers.py:68: SerializationWarning: saving variable None with floating point data as an integer dtype without any _FillValue to use for NaNs\n",
      "  coro.send(None)\n"
     ]
    },
    {
     "name": "stdout",
     "output_type": "stream",
     "text": [
      "./data/beirutPrePostExplosionIfg.tif read completed.\n",
      "./data/beirutPrePreExplosionIfg.tif read completed.\n",
      "------Finished Data Import---------\n"
     ]
    }
   ],
   "source": [
    "imports = df.import_data(parameters)"
   ]
  },
  {
   "cell_type": "code",
   "execution_count": 7,
   "id": "arabic-approach",
   "metadata": {},
   "outputs": [
    {
     "name": "stdout",
     "output_type": "stream",
     "text": [
      "------Data Sampling---------\n",
      "------Data Classification---------\n",
      "------Finished Data Classification---------\n"
     ]
    }
   ],
   "source": [
    "classified = df.classify_data(imports)"
   ]
  },
  {
   "cell_type": "markdown",
   "id": "nuclear-reputation",
   "metadata": {},
   "source": [
    "____________\n",
    "OK, the data is formatted the model parameters are all checked. Let's build the graph of nodes & edges and run the belief propagation!"
   ]
  },
  {
   "cell_type": "code",
   "execution_count": 8,
   "id": "dependent-framework",
   "metadata": {},
   "outputs": [
    {
     "name": "stdout",
     "output_type": "stream",
     "text": [
      "Nodes: 20000, Edges: 120000\n",
      "It\tLoss\tLabel change\n",
      "\n",
      "0\t2.92663e+00\t\t1979\n",
      "\n",
      "1\t1.21071e-01\t\t97\n",
      "\n",
      "2\t6.80422e-01\t\t19\n",
      "\n",
      "3\t2.54815e-02\t\t0\n",
      "\n",
      "4\t1.60972e-01\t\t0\n",
      "\n",
      "5\t9.62540e-03\t\t0\n",
      "\n",
      "6\t3.84649e-02\t\t0\n",
      "\n",
      "7\t4.22631e-03\t\t0\n",
      "\n",
      "8\t9.28896e-03\t\t0\n",
      "\n",
      "9\t1.46927e-03\t\t0\n",
      "\n",
      "10\t2.26601e-03\t\t0\n",
      "\n",
      "11\t4.61816e-04\t\t0\n",
      "\n",
      "Time elapsed: 9.446805238723755 seconds\n"
     ]
    }
   ],
   "source": [
    "output = df.run_bp(classified)"
   ]
  },
  {
   "cell_type": "markdown",
   "id": "confidential-church",
   "metadata": {},
   "source": [
    "_____\n",
    "Now let's use the test set to evaluate the effectiveness of the model."
   ]
  },
  {
   "cell_type": "code",
   "execution_count": 9,
   "id": "constitutional-sleeping",
   "metadata": {},
   "outputs": [
    {
     "name": "stdout",
     "output_type": "stream",
     "text": [
      "              precision    recall  f1-score   support\n",
      "\n",
      "       GREEN       0.85      0.95      0.90      1923\n",
      "        LAND       0.15      0.04      0.06       138\n",
      "         RED       0.08      0.04      0.06        45\n",
      "       TOTAL       0.00      0.00      0.00         2\n",
      "      YELLOW       0.07      0.03      0.04       156\n",
      "\n",
      "    accuracy                           0.81      2264\n",
      "   macro avg       0.23      0.21      0.21      2264\n",
      "weighted avg       0.74      0.81      0.77      2264\n",
      "\n"
     ]
    },
    {
     "data": {
      "image/png": "[encoded data removed]",
      "text/plain": [
       "<Figure size 1008x360 with 2 Axes>"
      ]
     },
     "metadata": {
      "needs_background": "light"
     },
     "output_type": "display_data"
    }
   ],
   "source": [
    "plots = df.evaluate_output(output)"
   ]
  },
  {
   "cell_type": "markdown",
   "id": "deadly-egyptian",
   "metadata": {},
   "source": [
    "Want to save the plot? Run the cell below. If you want to specify a location replace the False boolean with the filepath."
   ]
  },
  {
   "cell_type": "code",
   "execution_count": null,
   "id": "funded-chancellor",
   "metadata": {},
   "outputs": [],
   "source": [
    "df.save_plot(plots, location=False)"
   ]
  },
  {
   "cell_type": "code",
   "execution_count": 167,
   "id": "smoking-subdivision",
   "metadata": {},
   "outputs": [
    {
     "data": {
      "application/vnd.jupyter.widget-view+json": {
       "model_id": "cde54b5915a242dd8ac63f29c1cc78cb",
       "version_major": 2,
       "version_minor": 0
      },
      "text/plain": [
       "Map(center=[33.893, 35.512], controls=(ZoomControl(options=['position', 'zoom_in_text', 'zoom_in_title', 'zoom…"
      ]
     },
     "metadata": {},
     "output_type": "display_data"
    }
   ],
   "source": [
    "# Visualise spatial results\n",
    "import plotting as pl\n",
    "for i in plots.keys(): globals()[i] = plots[i] # Retrieve variables to use\n",
    "from ipyleaflet import LayersControl\n",
    "import ipywidgets as ipw\n",
    "\n",
    "mf = pl.create_map(lat, lon, zoom)\n",
    "\n",
    "plot_assessments(labels, mf, cn=cn, layer_name='Ground truth', layer_only=True)\n",
    "\n",
    "plot_assessments(nodes.to_crs({'init':crs}).dropna(), mf, layer_name='Train Locations', no_leg=True)\n",
    "\n",
    "import geopandas as gpd\n",
    "a = gpd.sjoin(initial, X_test, how='left', op='within').dropna(subset=[cn])\n",
    "a['prediction']=pred_clf\n",
    "plot_assessments(a.to_crs({'init':crs}).dropna(), mf, cn='prediction', layer_name='Test Predictions', no_leg=True)\n",
    "\n",
    "control = ipl.LayersControl(position='topright')\n",
    "\n",
    "mf.add_control(control)\n",
    "\n",
    "zoom_slider = ipw.IntSlider(description='Zoom level:', min=7, max=18, value=14)\n",
    "ipw.jslink((zoom_slider, 'value'), (mf, 'zoom'))\n",
    "widget_control1 = ipl.WidgetControl(widget=zoom_slider, position='topright')\n",
    "mf.add_control(widget_control1)\n",
    "mf.add_control(ipl.FullScreenControl())\n",
    "mf"
   ]
  },
  {
   "cell_type": "code",
   "execution_count": 164,
   "id": "starting-night",
   "metadata": {},
   "outputs": [],
   "source": [
    "import ipyleaflet as ipl\n",
    "# Converting gdf columns to GeoData for plotting\n",
    "def to_geodata(gdf, color, name='Data'):\n",
    "    plotGdf = ipl.GeoData(geo_dataframe = gdf,\n",
    "                          style={'color': color, 'radius':2, 'fillColor': color, 'opacity':0.9, 'weight':1.9, 'dashArray':'2', 'fillOpacity':0.7},\n",
    "                          hover_style={'fillColor': 'white' , 'fillOpacity': 0.2},\n",
    "                          point_style={'radius': 3, 'color': color, 'fillOpacity': 0.8, 'fillColor': color, 'weight': 3},\n",
    "                          name = name)\n",
    "    return plotGdf\n",
    "\n",
    "# Plotting for building footprints with attached assessments\n",
    "def plot_assessments(gdf, mapName, cn='decision', classes=['GREEN','YELLOW','RED','TOTAL','LAND'], colors=['green','yellow','red','maroon','cyan'], layer_name='Data', layer_only=False, no_leg=False):\n",
    "    classes = inputs['labels']['decision'].unique() if classes is False else classes \n",
    "    leg = {}\n",
    "    globals()['layer'+layer_name] = ipl.LayerGroup(name = layer_name)\n",
    "    for i, cl in enumerate(classes):\n",
    "        globals()['layer'+layer_name].add_layer(to_geodata(gdf.loc[gdf[cn].str.contains(cl)],colors[i],layer_name))\n",
    "        leg.update({cl:colors[i]})\n",
    "    if not layer_only:\n",
    "        mapName.add_layer(globals()['layer'+layer_name])\n",
    "        if not 'l1' in globals() and no_leg is False: # Add legend if forming map for first time\n",
    "            l1 = ipl.LegendControl(leg, name=cn, position=\"bottomleft\")\n",
    "            mapName.add_control(l1)\n",
    "        return mapName\n",
    "    else: return globals()['layer'+layer_name]"
   ]
  },
  {
   "cell_type": "code",
   "execution_count": null,
   "id": "orange-bruce",
   "metadata": {},
   "outputs": [],
   "source": []
  }
 ],
 "metadata": {
  "kernelspec": {
   "display_name": "Python 3",
   "language": "python",
   "name": "python3"
  },
  "language_info": {
   "codemirror_mode": {
    "name": "ipython",
    "version": 3
   },
   "file_extension": ".py",
   "mimetype": "text/x-python",
   "name": "python",
   "nbconvert_exporter": "python",
   "pygments_lexer": "ipython3",
   "version": "3.7.10"
  }
 },
 "nbformat": 4,
 "nbformat_minor": 5
}
