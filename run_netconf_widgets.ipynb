{
 "cells": [
  {
   "cell_type": "markdown",
   "id": "executed-cannon",
   "metadata": {},
   "source": [
    "# Belief Propagation from Geo-Located Imagery"
   ]
  },
  {
   "cell_type": "code",
   "execution_count": 2,
   "id": "constant-andrews",
   "metadata": {},
   "outputs": [],
   "source": [
    "# If new server on Descartes Labs, need to install rioxarray \n",
    "try: import rioxarray\n",
    "except: \n",
    "    %pip install rioxarray\n",
    "\n",
    "import demo_functions as df"
   ]
  },
  {
   "cell_type": "markdown",
   "id": "communist-grill",
   "metadata": {},
   "source": [
    "__________\n",
    "Let's begin with the input parameters. These include the label file, confidence in the labels and the data types we will use. Once we confirm the data types we will be asked for paths to the files containing the imagery. Post-event must be provided but pre-event is optional. If a pre-event image is provided the data used will be the difference between the images which contains more information than the post event image alone."
   ]
  },
  {
   "cell_type": "code",
   "execution_count": 3,
   "id": "increased-organic",
   "metadata": {},
   "outputs": [
    {
     "data": {
      "application/vnd.jupyter.widget-view+json": {
       "model_id": "a33714ed0b114a9ba5301fc7d3d54d0c",
       "version_major": 2,
       "version_minor": 0
      },
      "text/plain": [
       "HTML(value='<b>Label Parameters</b>')"
      ]
     },
     "metadata": {},
     "output_type": "display_data"
    },
    {
     "data": {
      "application/vnd.jupyter.widget-view+json": {
       "model_id": "1f0ce65d0ffd4f2dbed1a869fe678d08",
       "version_major": 2,
       "version_minor": 0
      },
      "text/plain": [
       "Box(children=(Label(value='Damage Labels: Shapefile - '), Text(value='./data/beirutDamages.shp', layout=Layout…"
      ]
     },
     "metadata": {},
     "output_type": "display_data"
    },
    {
     "data": {
      "application/vnd.jupyter.widget-view+json": {
       "model_id": "4c8f93710ed1431486d2e19c55cb4aea",
       "version_major": 2,
       "version_minor": 0
      },
      "text/plain": [
       "Box(children=(Label(value='Label Confidence ($P_{other label}$, $P_{class}$)'), FloatRangeSlider(value=(0.0, 1…"
      ]
     },
     "metadata": {},
     "output_type": "display_data"
    },
    {
     "data": {
      "application/vnd.jupyter.widget-view+json": {
       "model_id": "73130e866651463caccc7f16d910e4ef",
       "version_major": 2,
       "version_minor": 0
      },
      "text/plain": [
       "HTML(value='<b>Map Properties</b>')"
      ]
     },
     "metadata": {},
     "output_type": "display_data"
    },
    {
     "data": {
      "application/vnd.jupyter.widget-view+json": {
       "model_id": "162657f05f54448086d25eff270c475a",
       "version_major": 2,
       "version_minor": 0
      },
      "text/plain": [
       "Box(children=(Label(value='Latitude - '), FloatText(value=33.893, layout=Layout(width='max-content')), Label(v…"
      ]
     },
     "metadata": {},
     "output_type": "display_data"
    },
    {
     "data": {
      "application/vnd.jupyter.widget-view+json": {
       "model_id": "2184be51c4bc4893ab4854f203703abb",
       "version_major": 2,
       "version_minor": 0
      },
      "text/plain": [
       "HTML(value='<b>Data Parameters</b>')"
      ]
     },
     "metadata": {},
     "output_type": "display_data"
    },
    {
     "data": {
      "application/vnd.jupyter.widget-view+json": {
       "model_id": "3f893262d5e94eed886d334957aa01e5",
       "version_major": 2,
       "version_minor": 0
      },
      "text/plain": [
       "Box(children=(Label(value='Enter Data Types:'), Combobox(value='HighRes Imagery', layout=Layout(width='max-con…"
      ]
     },
     "metadata": {},
     "output_type": "display_data"
    },
    {
     "data": {
      "application/vnd.jupyter.widget-view+json": {
       "model_id": "2862640422754c5eb1e129cecbb34ba0",
       "version_major": 2,
       "version_minor": 0
      },
      "text/plain": [
       "VBox(children=(Button(button_style='success', description='Confirm Types', icon='check', style=ButtonStyle(), …"
      ]
     },
     "metadata": {},
     "output_type": "display_data"
    }
   ],
   "source": [
    "inputs = df.parameter_input()"
   ]
  },
  {
   "cell_type": "markdown",
   "id": "foreign-thought",
   "metadata": {},
   "source": [
    "______\n",
    "Now let's load up the map of our ground labels and define an area for the model. Then below the map we'll pick the model parameter to run on the data from the selected area. If we wish to group classes together we will also be offered some clustering options."
   ]
  },
  {
   "cell_type": "code",
   "execution_count": 4,
   "id": "arctic-google",
   "metadata": {},
   "outputs": [
    {
     "data": {
      "application/vnd.jupyter.widget-view+json": {
       "model_id": "ce03734fcc2c44799df81b8ee882d4bc",
       "version_major": 2,
       "version_minor": 0
      },
      "text/plain": [
       "Map(center=[33.893, 35.512], controls=(ZoomControl(options=['position', 'zoom_in_text', 'zoom_in_title', 'zoom…"
      ]
     },
     "metadata": {},
     "output_type": "display_data"
    },
    {
     "data": {
      "application/vnd.jupyter.widget-view+json": {
       "model_id": "0640e50635874e0a8d309a90902854dd",
       "version_major": 2,
       "version_minor": 0
      },
      "text/plain": [
       "HTML(value='<h3>Model Parameters</h3>')"
      ]
     },
     "metadata": {},
     "output_type": "display_data"
    },
    {
     "data": {
      "application/vnd.jupyter.widget-view+json": {
       "model_id": "41964c1af13941eb8a6680afacb39fe9",
       "version_major": 2,
       "version_minor": 0
      },
      "text/plain": [
       "HTML(value='<b>Node Properties</b>')"
      ]
     },
     "metadata": {},
     "output_type": "display_data"
    },
    {
     "data": {
      "application/vnd.jupyter.widget-view+json": {
       "model_id": "ca4c6d48a2da4b1c8bc6bc1ce068b46b",
       "version_major": 2,
       "version_minor": 0
      },
      "text/plain": [
       "Box(children=(Label(value='Maximum nodes - Sampling occurs if < pixel number: '), IntText(value=20000, layout=…"
      ]
     },
     "metadata": {},
     "output_type": "display_data"
    },
    {
     "data": {
      "application/vnd.jupyter.widget-view+json": {
       "model_id": "571e78f9a4c74e5988e55e7425df5940",
       "version_major": 2,
       "version_minor": 0
      },
      "text/plain": [
       "HTML(value='<b>Edge Properties</b>')"
      ]
     },
     "metadata": {},
     "output_type": "display_data"
    },
    {
     "data": {
      "application/vnd.jupyter.widget-view+json": {
       "model_id": "e99e82737bf349e4a4fd63075a6692b5",
       "version_major": 2,
       "version_minor": 0
      },
      "text/plain": [
       "Box(children=(Label(value='Neighbours - Edges to nearest values for each node: '), Box(children=(IntText(value…"
      ]
     },
     "metadata": {},
     "output_type": "display_data"
    },
    {
     "data": {
      "application/vnd.jupyter.widget-view+json": {
       "model_id": "bb2c0ceecd7b47f9911402130e019f24",
       "version_major": 2,
       "version_minor": 0
      },
      "text/plain": [
       "Box(children=(Label(value='Geographical Edges - '), Checkbox(value=False, indent=False, layout=Layout(width='m…"
      ]
     },
     "metadata": {},
     "output_type": "display_data"
    },
    {
     "data": {
      "application/vnd.jupyter.widget-view+json": {
       "model_id": "2cbf978a2e184525a6b2387b71a3f283",
       "version_major": 2,
       "version_minor": 0
      },
      "text/plain": [
       "HTML(value='<b>Class Properties</b>')"
      ]
     },
     "metadata": {},
     "output_type": "display_data"
    },
    {
     "data": {
      "application/vnd.jupyter.widget-view+json": {
       "model_id": "f4b0139a9525499abb9fbd8670dd2ea6",
       "version_major": 2,
       "version_minor": 0
      },
      "text/plain": [
       "HTML(value=\"Label Classes - ['GREEN' 'YELLOW' 'LAND' 'RED' 'TOTAL']\")"
      ]
     },
     "metadata": {},
     "output_type": "display_data"
    },
    {
     "data": {
      "application/vnd.jupyter.widget-view+json": {
       "model_id": "71689512d000451e876aa038fc5c4618",
       "version_major": 2,
       "version_minor": 0
      },
      "text/plain": [
       "Box(children=(Label(value='Classes for Model - '), Dropdown(index=3, options=(2, 3, 4, 5), value=5)))"
      ]
     },
     "metadata": {},
     "output_type": "display_data"
    },
    {
     "data": {
      "application/vnd.jupyter.widget-view+json": {
       "model_id": "88d9ba8b8c334696b92a624d7021f512",
       "version_major": 2,
       "version_minor": 0
      },
      "text/plain": [
       "VBox(children=(Button(button_style='success', description='Confirm Classes', icon='check', style=ButtonStyle()…"
      ]
     },
     "metadata": {},
     "output_type": "display_data"
    }
   ],
   "source": [
    "parameters = df.model_parameters(inputs)"
   ]
  },
  {
   "cell_type": "markdown",
   "id": "alpha-maria",
   "metadata": {},
   "source": [
    "________\n",
    "Now we have all the parameters for the model, let's import and classify the data according to our selections. If you have already imported the data and just adjusted the model parameters then just re-classify rather than re-importing."
   ]
  },
  {
   "cell_type": "code",
   "execution_count": 11,
   "id": "psychological-compression",
   "metadata": {},
   "outputs": [
    {
     "name": "stdout",
     "output_type": "stream",
     "text": [
      "------Checking Coordinate Systems-------\n",
      "------Finished Checking Coordinate Systems-------\n",
      "------Importing Data Files---------\n",
      "data/highRes/20AUG05_HR_LatLon.tif read completed.\n",
      "data/highRes/20JUL31_HR_LatLon.tif read completed.\n"
     ]
    },
    {
     "name": "stderr",
     "output_type": "stream",
     "text": [
      "/opt/conda/lib/python3.7/site-packages/IPython/core/async_helpers.py:68: SerializationWarning: saving variable None with floating point data as an integer dtype without any _FillValue to use for NaNs\n",
      "  coro.send(None)\n"
     ]
    },
    {
     "name": "stdout",
     "output_type": "stream",
     "text": [
      "./data/beirutPrePostExplosionIfg.tif read completed.\n",
      "./data/beirutPrePreExplosionIfg.tif read completed.\n",
      "------Finished Data Import---------\n"
     ]
    }
   ],
   "source": [
    "imports = import_data(parameters)"
   ]
  },
  {
   "cell_type": "code",
   "execution_count": 48,
   "id": "painted-father",
   "metadata": {},
   "outputs": [
    {
     "name": "stdout",
     "output_type": "stream",
     "text": [
      "------Data Sampling---------\n",
      "------Data Classification---------\n",
      "------Finished Data Classification---------\n"
     ]
    }
   ],
   "source": [
    "classified = classify_data(imports)"
   ]
  },
  {
   "cell_type": "markdown",
   "id": "fitted-columbus",
   "metadata": {},
   "source": [
    "____________\n",
    "OK, the data is formatted the model parameters are all checked. Let's build the graph of nodes & edges and run the belief propagation!"
   ]
  },
  {
   "cell_type": "code",
   "execution_count": 49,
   "id": "fallen-photography",
   "metadata": {},
   "outputs": [
    {
     "name": "stdout",
     "output_type": "stream",
     "text": [
      "Nodes: 20000, Edges: 120000\n",
      "It\tLoss\tLabel change\n",
      "\n",
      "0\t3.06500e+00\t\t1908\n",
      "\n",
      "1\t1.17087e-01\t\t155\n",
      "\n",
      "2\t7.27710e-01\t\t17\n",
      "\n",
      "3\t3.63225e-02\t\t0\n",
      "\n",
      "4\t1.73776e-01\t\t0\n",
      "\n",
      "5\t1.75057e-02\t\t0\n",
      "\n",
      "6\t4.19318e-02\t\t0\n",
      "\n",
      "7\t6.28918e-03\t\t0\n",
      "\n",
      "8\t1.02241e-02\t\t0\n",
      "\n",
      "9\t2.01063e-03\t\t0\n",
      "\n",
      "10\t2.51743e-03\t\t0\n",
      "\n",
      "11\t6.04169e-04\t\t0\n",
      "\n",
      "Time elapsed: 9.464136362075806 seconds\n"
     ]
    }
   ],
   "source": [
    "output = run_bp(classified)"
   ]
  },
  {
   "cell_type": "markdown",
   "id": "athletic-silly",
   "metadata": {},
   "source": [
    "_____\n",
    "Now let's use the test set to evaluate the effectiveness of the model."
   ]
  },
  {
   "cell_type": "code",
   "execution_count": 14,
   "id": "reserved-accreditation",
   "metadata": {},
   "outputs": [
    {
     "name": "stdout",
     "output_type": "stream",
     "text": [
      "              precision    recall  f1-score   support\n",
      "\n",
      "       GREEN       0.87      0.96      0.91      1965\n",
      "      YELLOW       0.12      0.03      0.05       126\n",
      "        LAND       0.07      0.03      0.04        64\n",
      "         RED       0.00      0.00      0.00         3\n",
      "       TOTAL       0.18      0.07      0.10       130\n",
      "\n",
      "    accuracy                           0.83      2288\n",
      "   macro avg       0.25      0.22      0.22      2288\n",
      "weighted avg       0.76      0.83      0.79      2288\n",
      "\n"
     ]
    },
    {
     "data": {
      "image/png": "[encoded data removed]",
      "text/plain": [
       "<Figure size 1008x360 with 2 Axes>"
      ]
     },
     "metadata": {
      "needs_background": "light"
     },
     "output_type": "display_data"
    }
   ],
   "source": [
    "plots = evaluate_output(output)"
   ]
  },
  {
   "cell_type": "markdown",
   "id": "naked-rochester",
   "metadata": {},
   "source": [
    "Want to save the plot? Run the cell below. If you want to specify a location replace the False boolean with the filepath."
   ]
  },
  {
   "cell_type": "code",
   "execution_count": null,
   "id": "owned-teaching",
   "metadata": {},
   "outputs": [],
   "source": [
    "save_plot(plots, location=False)"
   ]
  },
  {
   "cell_type": "code",
   "execution_count": null,
   "id": "historic-london",
   "metadata": {},
   "outputs": [],
   "source": [
    "# Visualise spatial results\n",
    "fig, axs = pl.create_subplots(2,2,figsize=[15,12])\n",
    "\n",
    "prePlot = pl.belief_plot(nodes, axs[0,0], 'RED', normalise=False)\n",
    "postPlot = pl.belief_plot(nodes, axs[0,1], beliefs, normalise=True)\n",
    "assessPlt = joint.loc[joint.within(poly)].plot(ax=axs[1,0], column='decision',cmap='RdYlGn_r')\n",
    "ifgPlot = (pl.cropped_ifg(ifgPreFile,testPoly)-pl.cropped_ifg(ifgPostFile,testPoly)).plot(ax=axs[1,1])\n",
    "prePlot.set_title('A priori damage likelihood'), postPlot.set_title('Updated damage likelihood'), assessPlt.set_title('Damage Assessments')\n",
    "\n",
    "pl.show_plot()"
   ]
  }
 ],
 "metadata": {
  "kernelspec": {
   "display_name": "Python 3",
   "language": "python",
   "name": "python3"
  },
  "language_info": {
   "codemirror_mode": {
    "name": "ipython",
    "version": 3
   },
   "file_extension": ".py",
   "mimetype": "text/x-python",
   "name": "python",
   "nbconvert_exporter": "python",
   "pygments_lexer": "ipython3",
   "version": "3.7.10"
  }
 },
 "nbformat": 4,
 "nbformat_minor": 5
}
