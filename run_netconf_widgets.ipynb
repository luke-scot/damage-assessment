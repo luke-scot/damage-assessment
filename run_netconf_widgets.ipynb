{
 "cells": [
  {
   "cell_type": "markdown",
   "id": "prostate-radius",
   "metadata": {},
   "source": [
    "# Belief Propagation from Geo-Located Imagery"
   ]
  },
  {
   "cell_type": "code",
   "execution_count": null,
   "id": "alive-rotation",
   "metadata": {},
   "outputs": [],
   "source": [
    "# If new server on Descartes Labs, need to install rioxarray \n",
    "try: import rioxarray\n",
    "except: \n",
    "    %pip install rioxarray\n",
    "\n",
    "import demo_functions as df"
   ]
  },
  {
   "cell_type": "markdown",
   "id": "southern-clear",
   "metadata": {},
   "source": [
    "__________\n",
    "Let's begin with the input parameters. These include the label file, confidence in the labels and the data types we will use. Once we confirm the data types we will be asked for paths to the files containing the imagery. Post-event must be provided but pre-event is optional. If a pre-event image is provided the data used will be the difference between the images which contains more information than the post event image alone."
   ]
  },
  {
   "cell_type": "code",
   "execution_count": 3,
   "id": "advanced-destination",
   "metadata": {},
   "outputs": [
    {
     "data": {
      "application/vnd.jupyter.widget-view+json": {
       "model_id": "46d94a7f44364583b5fe7b51d686281e",
       "version_major": 2,
       "version_minor": 0
      },
      "text/plain": [
       "HTML(value='<b>Label Parameters</b>')"
      ]
     },
     "metadata": {},
     "output_type": "display_data"
    },
    {
     "data": {
      "application/vnd.jupyter.widget-view+json": {
       "model_id": "4d496348042f41a3bd0384a159631bb8",
       "version_major": 2,
       "version_minor": 0
      },
      "text/plain": [
       "Box(children=(Label(value='Damage Labels: Shapefile - '), Text(value='./data/beirutDamages.shp', layout=Layout…"
      ]
     },
     "metadata": {},
     "output_type": "display_data"
    },
    {
     "data": {
      "application/vnd.jupyter.widget-view+json": {
       "model_id": "36752817442144a7a7df2a8cf8ef71be",
       "version_major": 2,
       "version_minor": 0
      },
      "text/plain": [
       "Box(children=(Label(value='Label Confidence ($P_{other label}$, $P_{class}$)'), FloatRangeSlider(value=(0.0, 1…"
      ]
     },
     "metadata": {},
     "output_type": "display_data"
    },
    {
     "data": {
      "application/vnd.jupyter.widget-view+json": {
       "model_id": "d121e50c1b95461db014d334d8ccaaa6",
       "version_major": 2,
       "version_minor": 0
      },
      "text/plain": [
       "HTML(value='<b>Map Properties</b>')"
      ]
     },
     "metadata": {},
     "output_type": "display_data"
    },
    {
     "data": {
      "application/vnd.jupyter.widget-view+json": {
       "model_id": "066c0d32daad4ce5882ba57160fccc3f",
       "version_major": 2,
       "version_minor": 0
      },
      "text/plain": [
       "Box(children=(Label(value='Latitude - '), FloatText(value=33.893, layout=Layout(width='max-content')), Label(v…"
      ]
     },
     "metadata": {},
     "output_type": "display_data"
    },
    {
     "data": {
      "application/vnd.jupyter.widget-view+json": {
       "model_id": "16cefd84099d4efb865a0933444395c0",
       "version_major": 2,
       "version_minor": 0
      },
      "text/plain": [
       "HTML(value='<b>Data Parameters</b>')"
      ]
     },
     "metadata": {},
     "output_type": "display_data"
    },
    {
     "data": {
      "application/vnd.jupyter.widget-view+json": {
       "model_id": "2ab6bc148bb14a5299ee0f625bd38c42",
       "version_major": 2,
       "version_minor": 0
      },
      "text/plain": [
       "Box(children=(Label(value='Enter Data Types:'), Combobox(value='HighRes Imagery', layout=Layout(width='max-con…"
      ]
     },
     "metadata": {},
     "output_type": "display_data"
    },
    {
     "data": {
      "application/vnd.jupyter.widget-view+json": {
       "model_id": "28a71710c8cd4a4889d6b008fe1069aa",
       "version_major": 2,
       "version_minor": 0
      },
      "text/plain": [
       "VBox(children=(Button(button_style='success', description='Confirm Types', icon='check', style=ButtonStyle(), …"
      ]
     },
     "metadata": {},
     "output_type": "display_data"
    }
   ],
   "source": [
    "inputs = df.parameter_input()"
   ]
  },
  {
   "cell_type": "markdown",
   "id": "alleged-lightweight",
   "metadata": {},
   "source": [
    "______\n",
    "Now let's load up the map of our ground labels and define an area for the model. Then below the map we'll pick the model parameter to run on the data from the selected area. If we wish to group classes together we will also be offered some clustering options."
   ]
  },
  {
   "cell_type": "code",
   "execution_count": 4,
   "id": "hydraulic-reliance",
   "metadata": {},
   "outputs": [
    {
     "data": {
      "application/vnd.jupyter.widget-view+json": {
       "model_id": "1767b8f58df145488578070efc413d41",
       "version_major": 2,
       "version_minor": 0
      },
      "text/plain": [
       "Map(center=[33.893, 35.512], controls=(ZoomControl(options=['position', 'zoom_in_text', 'zoom_in_title', 'zoom…"
      ]
     },
     "metadata": {},
     "output_type": "display_data"
    },
    {
     "data": {
      "application/vnd.jupyter.widget-view+json": {
       "model_id": "d458617ad7844627a533a264e6102f2e",
       "version_major": 2,
       "version_minor": 0
      },
      "text/plain": [
       "HTML(value='<h3>Model Parameters</h3>')"
      ]
     },
     "metadata": {},
     "output_type": "display_data"
    },
    {
     "data": {
      "application/vnd.jupyter.widget-view+json": {
       "model_id": "c1c5528f17944399b3005445c6d1894c",
       "version_major": 2,
       "version_minor": 0
      },
      "text/plain": [
       "HTML(value='<b>Node Properties</b>')"
      ]
     },
     "metadata": {},
     "output_type": "display_data"
    },
    {
     "data": {
      "application/vnd.jupyter.widget-view+json": {
       "model_id": "b7ce2d351223456c93f716938ec6367e",
       "version_major": 2,
       "version_minor": 0
      },
      "text/plain": [
       "Box(children=(Label(value='Max nodes - Sampling occurs if < pixel number:'), IntText(value=20000, layout=Layou…"
      ]
     },
     "metadata": {},
     "output_type": "display_data"
    },
    {
     "data": {
      "application/vnd.jupyter.widget-view+json": {
       "model_id": "b5538ef0bd2e47c1be676cadc06dd198",
       "version_major": 2,
       "version_minor": 0
      },
      "text/plain": [
       "HTML(value='<b>Edge Properties</b>')"
      ]
     },
     "metadata": {},
     "output_type": "display_data"
    },
    {
     "data": {
      "application/vnd.jupyter.widget-view+json": {
       "model_id": "432d285c9a07462b87a7d533d2651b66",
       "version_major": 2,
       "version_minor": 0
      },
      "text/plain": [
       "Box(children=(Label(value='Neighbours - Edges to nearest values for each node: '), Box(children=(IntText(value…"
      ]
     },
     "metadata": {},
     "output_type": "display_data"
    },
    {
     "data": {
      "application/vnd.jupyter.widget-view+json": {
       "model_id": "3d9570e04c6343c99bcc81191969a9bd",
       "version_major": 2,
       "version_minor": 0
      },
      "text/plain": [
       "Box(children=(Label(value='Geographical Edges - '), Checkbox(value=False, indent=False, layout=Layout(width='m…"
      ]
     },
     "metadata": {},
     "output_type": "display_data"
    },
    {
     "data": {
      "application/vnd.jupyter.widget-view+json": {
       "model_id": "45a755c89f4842d0a8a9f814f3120f84",
       "version_major": 2,
       "version_minor": 0
      },
      "text/plain": [
       "HTML(value='<b>Class Properties</b>')"
      ]
     },
     "metadata": {},
     "output_type": "display_data"
    },
    {
     "data": {
      "application/vnd.jupyter.widget-view+json": {
       "model_id": "01c913376e1e419fb313d11014b89067",
       "version_major": 2,
       "version_minor": 0
      },
      "text/plain": [
       "HTML(value=\"Label Classes - ['GREEN' 'YELLOW' 'LAND' 'RED' 'TOTAL']\")"
      ]
     },
     "metadata": {},
     "output_type": "display_data"
    },
    {
     "data": {
      "application/vnd.jupyter.widget-view+json": {
       "model_id": "2b5785bcbb97479eae764f4d1d5815ae",
       "version_major": 2,
       "version_minor": 0
      },
      "text/plain": [
       "Box(children=(Label(value='Classes for Model - '), Dropdown(index=3, options=(2, 3, 4, 5), value=5)))"
      ]
     },
     "metadata": {},
     "output_type": "display_data"
    },
    {
     "data": {
      "application/vnd.jupyter.widget-view+json": {
       "model_id": "24cbb31e927a4f60b56a48c2a950889d",
       "version_major": 2,
       "version_minor": 0
      },
      "text/plain": [
       "VBox(children=(Button(button_style='success', description='Confirm Classes', icon='check', style=ButtonStyle()…"
      ]
     },
     "metadata": {},
     "output_type": "display_data"
    }
   ],
   "source": [
    "parameters = df.model_parameters(inputs)"
   ]
  },
  {
   "cell_type": "markdown",
   "id": "regulated-grammar",
   "metadata": {},
   "source": [
    "________\n",
    "Now we have all the parameters for the model, let's import and classify the data according to our selections. If you have already imported the data and just adjusted the model parameters then just re-classify rather than re-importing."
   ]
  },
  {
   "cell_type": "code",
   "execution_count": 56,
   "id": "adjacent-catholic",
   "metadata": {
    "jupyter": {
     "source_hidden": true
    }
   },
   "outputs": [],
   "source": [
    "import helper_functions as hf\n",
    "import imports as ip\n",
    "import demo_functions as demo\n",
    "\n",
    "def import_data(v):\n",
    "    # Retrieve file locations from inputs\n",
    "    for j in range(len(v['dataTypes'])):\n",
    "        try: v['preFile'+str(j)], v['postFile'+str(j)] = [i.value for i in v['bxfile'+str(j)].trait_values()['children'][1::2]]    \n",
    "        except KeyError: raise KeyError('Please make sure you have confirmed the data types.')\n",
    "    for i in v.keys(): globals()[i] = v[i] # Retrieve variables to use\n",
    "   \n",
    "    # Reproject Data if necessary\n",
    "    v = demo.reproject_data(v)\n",
    "    \n",
    "    # Import Files\n",
    "    print(\"------Importing Data Files---------\")\n",
    "    # Import first data type\n",
    "    df, crop = ip.img_to_df(postFile0, testPoly, crs=crs)\n",
    "    if preFile0:\n",
    "        preDf, _ = ip.img_to_df(preFile0, testPoly, crs=crs)\n",
    "        df -= preDf\n",
    "\n",
    "    # Import other data types\n",
    "    if len(dataTypes) > 1:\n",
    "        crop.rio.to_raster(\"croptemp.tif\")\n",
    "        for i in range(1, len(dataTypes)):\n",
    "            ip.resample_tif(globals()['postFile'+str(i)], testPoly, 'posttemp'+str(i)+'.tif')\n",
    "            globals()['dataArray'+str(i)] = ip.tif_to_array('posttemp'+str(i)+'.tif', 'resample')\n",
    "            if globals()['preFile'+str(i)]: \n",
    "                ip.resample_tif(globals()['preFile'+str(i)], testPoly, 'pretemp'+str(i)+'.tif')\n",
    "                globals()['dataArray'+str(i)] -= ip.tif_to_array('pretemp'+str(i)+'.tif', 'resample')\n",
    "        ip.del_file_endings(\".\", \"temp*.tif\")\n",
    "\n",
    "    # Concatenate data types\n",
    "    data = df.copy()\n",
    "    for j in range(1, len(dataTypes)): \n",
    "        da = globals()['dataArray'+str(1)]\n",
    "        for k in range(min(da.shape)):\n",
    "            data[str(dataTypes[j])+str(k)]=da.reshape(min(da.shape),-1)[k]\n",
    "    data.dropna(inplace=True)\n",
    "    print(\"------Finished Data Import---------\")\n",
    "    typesUsed = [list(df.columns.values)]\n",
    "    for j in range(1,len(dataTypes)): typesUsed.append(list(data.columns[[dataTypes[j] in str(i) for i in data.columns]]))\n",
    "    \n",
    "    v.update({'data':data, 'typesUsed':typesUsed})\n",
    "    return v\n",
    "\n",
    "import os\n",
    "import random\n",
    "import importlib\n",
    "import ground_truth\n",
    "import numpy as np\n",
    "import pandas as pd\n",
    "import rasterio as ro\n",
    "import rioxarray as rxr\n",
    "import geopandas as gpd\n",
    "import helper_functions as hf\n",
    "import shapely.geometry as sg\n",
    "from rasterio.io import MemoryFile\n",
    "from rasterio.enums import Resampling\n",
    "from rasterio.windows import from_bounds\n",
    "from rasterio.warp import calculate_default_transform, reproject, Resampling\n",
    "\n",
    "def img_to_df(file, poly=False, crs=False, label='img', columns=False, crsPoly='epsg:4326', verbose=True):\n",
    "    # Import raster\n",
    "    img = rxr.open_rasterio(file, masked=True).squeeze()\n",
    "    \n",
    "    # Crop image if polygon supplied\n",
    "    if poly:\n",
    "        _, extent = hf.get_extent(poly, crsPoly=crsPoly, crs=crs)\n",
    "        img = img.rio.clip(extent.geometry.apply(sg.mapping))   \n",
    "    named = img.rename('img')\n",
    "    \n",
    "    # Convert to dataframe\n",
    "    xm, ym = np.meshgrid(np.array(named.coords['x']), np.array(named.coords['y']))\n",
    "    mi = pd.MultiIndex.from_arrays([ym.flatten(),xm.flatten()],names=('y','x'))\n",
    "    size = min(named.shape) if len(named.shape) > 2 else 1 \n",
    "    df = pd.DataFrame(named.data.reshape(size,-1).transpose(), index=mi)\n",
    "    if verbose: print(file+\" read completed.\")\n",
    "    \n",
    "    return df, named\n",
    "  "
   ]
  },
  {
   "cell_type": "code",
   "execution_count": 5,
   "id": "accessible-person",
   "metadata": {},
   "outputs": [
    {
     "name": "stdout",
     "output_type": "stream",
     "text": [
      "------Checking Coordinate Systems-------\n",
      "------Finished Checking Coordinate Systems-------\n",
      "------Importing Data Files---------\n",
      "data/highRes/20AUG05_HR_LatLon.tif read completed.\n",
      "data/highRes/20JUL31_HR_LatLon.tif read completed.\n"
     ]
    },
    {
     "name": "stderr",
     "output_type": "stream",
     "text": [
      "/opt/conda/lib/python3.7/site-packages/IPython/core/async_helpers.py:68: SerializationWarning: saving variable None with floating point data as an integer dtype without any _FillValue to use for NaNs\n",
      "  coro.send(None)\n"
     ]
    },
    {
     "name": "stdout",
     "output_type": "stream",
     "text": [
      "./data/beirutPrePostExplosionIfg.tif read completed.\n",
      "./data/beirutPrePreExplosionIfg.tif read completed.\n",
      "------Finished Data Import---------\n"
     ]
    }
   ],
   "source": [
    "imports = df.import_data(parameters)"
   ]
  },
  {
   "cell_type": "code",
   "execution_count": 6,
   "id": "automatic-welding",
   "metadata": {},
   "outputs": [
    {
     "name": "stdout",
     "output_type": "stream",
     "text": [
      "------Data Sampling---------\n",
      "------Data Classification---------\n",
      "------Finished Data Classification---------\n"
     ]
    }
   ],
   "source": [
    "classified = df.classify_data(imports)"
   ]
  },
  {
   "cell_type": "markdown",
   "id": "alike-technology",
   "metadata": {},
   "source": [
    "____________\n",
    "OK, the data is formatted the model parameters are all checked. Let's build the graph of nodes & edges and run the belief propagation!"
   ]
  },
  {
   "cell_type": "code",
   "execution_count": 7,
   "id": "attractive-zimbabwe",
   "metadata": {},
   "outputs": [
    {
     "name": "stdout",
     "output_type": "stream",
     "text": [
      "Nodes: 20000, Edges: 120000\n",
      "It\tLoss\tLabel change\n",
      "\n",
      "0\t2.52041e+00\t\t1993\n",
      "\n",
      "1\t1.05738e-01\t\t345\n",
      "\n",
      "2\t5.96276e-01\t\t27\n",
      "\n",
      "3\t2.87816e-02\t\t2\n",
      "\n",
      "4\t1.41911e-01\t\t0\n",
      "\n",
      "5\t1.38189e-02\t\t0\n",
      "\n",
      "6\t3.41049e-02\t\t0\n",
      "\n",
      "7\t4.94726e-03\t\t0\n",
      "\n",
      "8\t8.27685e-03\t\t0\n",
      "\n",
      "9\t1.57592e-03\t\t0\n",
      "\n",
      "10\t2.02732e-03\t\t0\n",
      "\n",
      "11\t4.71753e-04\t\t0\n",
      "\n",
      "Time elapsed: 12.74878191947937 seconds\n"
     ]
    }
   ],
   "source": [
    "output = df.run_bp(classified)"
   ]
  },
  {
   "cell_type": "markdown",
   "id": "liquid-reliance",
   "metadata": {},
   "source": [
    "_____\n",
    "Now let's use the test set to evaluate the effectiveness of the model."
   ]
  },
  {
   "cell_type": "code",
   "execution_count": 8,
   "id": "entitled-narrow",
   "metadata": {},
   "outputs": [
    {
     "name": "stdout",
     "output_type": "stream",
     "text": [
      "              precision    recall  f1-score   support\n",
      "\n",
      "       GREEN       0.85      0.94      0.89      3209\n",
      "        LAND       0.07      0.03      0.04       193\n",
      "         RED       0.12      0.05      0.07       120\n",
      "       TOTAL       0.00      0.00      0.00         5\n",
      "      YELLOW       0.08      0.03      0.05       250\n",
      "\n",
      "    accuracy                           0.80      3777\n",
      "   macro avg       0.22      0.21      0.21      3777\n",
      "weighted avg       0.74      0.80      0.77      3777\n",
      "\n"
     ]
    },
    {
     "data": {
      "image/png": "[encoded data removed]",
      "text/plain": [
       "<Figure size 1008x360 with 2 Axes>"
      ]
     },
     "metadata": {
      "needs_background": "light"
     },
     "output_type": "display_data"
    }
   ],
   "source": [
    "plots = df.evaluate_output(output)"
   ]
  },
  {
   "cell_type": "markdown",
   "id": "ongoing-addiction",
   "metadata": {},
   "source": [
    "Want to save the plot? Run the cell below. If you want to specify a location replace the False boolean with the filepath."
   ]
  },
  {
   "cell_type": "code",
   "execution_count": 10,
   "id": "white-discharge",
   "metadata": {},
   "outputs": [],
   "source": [
    "df.save_plot(plots, location=False)"
   ]
  },
  {
   "cell_type": "code",
   "execution_count": 30,
   "id": "taken-desire",
   "metadata": {},
   "outputs": [
    {
     "data": {
      "application/vnd.jupyter.widget-view+json": {
       "model_id": "4747de9e4df14976b2de3ea1a381e704",
       "version_major": 2,
       "version_minor": 0
      },
      "text/plain": [
       "Map(center=[33.893, 35.512], controls=(ZoomControl(options=['position', 'zoom_in_text', 'zoom_in_title', 'zoom…"
      ]
     },
     "metadata": {},
     "output_type": "display_data"
    }
   ],
   "source": [
    "# Visualise spatial results\n",
    "import plotting as pl\n",
    "for i in plots.keys(): globals()[i] = plots[i] # Retrieve variables to use\n",
    "from ipyleaflet import LayersControl\n",
    "import ipywidgets as ipw\n",
    "\n",
    "mf = pl.create_map(lat, lon, zoom)\n",
    "\n",
    "plot_assessments(labels, mf, cn=cn, layer_name='Ground truth', layer_only=True)\n",
    "\n",
    "plot_assessments(nodes.to_crs({'init':crs}).dropna(), mf, layer_name='Train Locations', no_leg=True)\n",
    "\n",
    "import geopandas as gpd\n",
    "a = gpd.sjoin(initial, X_test, how='left', op='within').dropna(subset=[cn])\n",
    "a['prediction']=pred_clf\n",
    "plot_assessments(a.to_crs({'init':crs}).dropna(), mf, cn='prediction', layer_name='Test Predictions', no_leg=True)\n",
    "\n",
    "control = ipl.LayersControl(position='topright')\n",
    "\n",
    "mf.add_control(control)\n",
    "\n",
    "zoom_slider = ipw.IntSlider(description='Zoom level:', min=7, max=18, value=14)\n",
    "ipw.jslink((zoom_slider, 'value'), (mf, 'zoom'))\n",
    "widget_control1 = ipl.WidgetControl(widget=zoom_slider, position='topright')\n",
    "mf.add_control(widget_control1)\n",
    "mf.add_control(ipl.FullScreenControl())\n",
    "mf"
   ]
  },
  {
   "cell_type": "code",
   "execution_count": 29,
   "id": "particular-development",
   "metadata": {},
   "outputs": [],
   "source": [
    "import ipyleaflet as ipl\n",
    "# Converting gdf columns to GeoData for plotting\n",
    "def to_geodata(gdf, color, name='Data'):\n",
    "    plotGdf = ipl.GeoData(geo_dataframe = gdf,\n",
    "                          style={'color': color, 'radius':2, 'fillColor': color, 'opacity':0.9, 'weight':1.9, 'dashArray':'2', 'fillOpacity':0.7},\n",
    "                          hover_style={'fillColor': 'white' , 'fillOpacity': 0.2},\n",
    "                          point_style={'radius': 3, 'color': color, 'fillOpacity': 0.8, 'fillColor': color, 'weight': 3},\n",
    "                          name = name)\n",
    "    return plotGdf\n",
    "\n",
    "# Plotting for building footprints with attached assessments\n",
    "def plot_assessments(gdf, mapName, cn='decision', classes=['GREEN','YELLOW','RED','TOTAL','LAND'], colors=['green','yellow','red','maroon','cyan'], layer_name='Data', layer_only=False, no_leg=False):\n",
    "    classes = inputs['labels']['decision'].unique() if classes is False else classes \n",
    "    leg = {}\n",
    "    globals()['layer'+layer_name] = ipl.LayerGroup(name = layer_name)\n",
    "    for i, cl in enumerate(classes):\n",
    "#        globals()['layer'+layer_name].add_layer(to_geodata(gdf.loc[str(gdf[cn]).ds.contains(cl)],colors[i],layer_name))\n",
    "        globals()['layer'+layer_name].add_layer(to_geodata(gdf.loc[gdf[cn].str.contains(cl)],colors[i],layer_name))\n",
    "        leg.update({cl:colors[i]})\n",
    "    if not layer_only:\n",
    "        mapName.add_layer(globals()['layer'+layer_name])\n",
    "        if not 'l1' in globals() and no_leg is False: # Add legend if forming map for first time\n",
    "            l1 = ipl.LegendControl(leg, name=cn, position=\"bottomleft\")\n",
    "            mapName.add_control(l1)\n",
    "        return mapName\n",
    "    else: return globals()['layer'+layer_name]"
   ]
  },
  {
   "cell_type": "code",
   "execution_count": null,
   "id": "satisfactory-following",
   "metadata": {},
   "outputs": [],
   "source": []
  }
 ],
 "metadata": {
  "kernelspec": {
   "display_name": "Python 3",
   "language": "python",
   "name": "python3"
  },
  "language_info": {
   "codemirror_mode": {
    "name": "ipython",
    "version": 3
   },
   "file_extension": ".py",
   "mimetype": "text/x-python",
   "name": "python",
   "nbconvert_exporter": "python",
   "pygments_lexer": "ipython3",
   "version": "3.7.10"
  }
 },
 "nbformat": 4,
 "nbformat_minor": 5
}
