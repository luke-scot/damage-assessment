{
 "cells": [
  {
   "cell_type": "markdown",
   "id": "simple-spokesman",
   "metadata": {},
   "source": [
    "# Belief Propagation from Geo-Located Imagery"
   ]
  },
  {
   "cell_type": "code",
   "execution_count": 1,
   "id": "thirty-netherlands",
   "metadata": {},
   "outputs": [
    {
     "name": "stdout",
     "output_type": "stream",
     "text": [
      "Collecting rioxarray\n",
      "  Downloading rioxarray-0.4.3.tar.gz (45 kB)\n",
      "\u001b[K     |████████████████████████████████| 45 kB 940 kB/s eta 0:00:011\n",
      "\u001b[?25h  Installing build dependencies ... \u001b[?25ldone\n",
      "\u001b[?25h  Getting requirements to build wheel ... \u001b[?25ldone\n",
      "\u001b[?25h    Preparing wheel metadata ... \u001b[?25ldone\n",
      "\u001b[?25hRequirement already satisfied: rasterio in /opt/conda/lib/python3.7/site-packages (from rioxarray) (1.0.26)\n",
      "Collecting xarray>=0.17\n",
      "  Using cached xarray-0.18.2-py3-none-any.whl (807 kB)\n",
      "Requirement already satisfied: pyproj>=2.2 in /opt/conda/lib/python3.7/site-packages (from rioxarray) (2.4.1)\n",
      "Requirement already satisfied: scipy in /opt/conda/lib/python3.7/site-packages (from rioxarray) (1.4.1)\n",
      "Requirement already satisfied: setuptools>=40.4 in /opt/conda/lib/python3.7/site-packages (from xarray>=0.17->rioxarray) (49.6.0.post20210108)\n",
      "Requirement already satisfied: numpy>=1.17 in /opt/conda/lib/python3.7/site-packages (from xarray>=0.17->rioxarray) (1.18.5)\n",
      "Requirement already satisfied: pandas>=1.0 in /opt/conda/lib/python3.7/site-packages (from xarray>=0.17->rioxarray) (1.0.5)\n",
      "Requirement already satisfied: python-dateutil>=2.6.1 in /opt/conda/lib/python3.7/site-packages (from pandas>=1.0->xarray>=0.17->rioxarray) (2.8.1)\n",
      "Requirement already satisfied: pytz>=2017.2 in /opt/conda/lib/python3.7/site-packages (from pandas>=1.0->xarray>=0.17->rioxarray) (2021.1)\n",
      "Requirement already satisfied: six>=1.5 in /opt/conda/lib/python3.7/site-packages (from python-dateutil>=2.6.1->pandas>=1.0->xarray>=0.17->rioxarray) (1.15.0)\n",
      "Requirement already satisfied: cligj>=0.5 in /opt/conda/lib/python3.7/site-packages (from rasterio->rioxarray) (0.7.1)\n",
      "Requirement already satisfied: click<8,>=4.0 in /opt/conda/lib/python3.7/site-packages (from rasterio->rioxarray) (7.1.2)\n",
      "Requirement already satisfied: attrs in /opt/conda/lib/python3.7/site-packages (from rasterio->rioxarray) (20.3.0)\n",
      "Requirement already satisfied: affine in /opt/conda/lib/python3.7/site-packages (from rasterio->rioxarray) (2.3.0)\n",
      "Requirement already satisfied: click-plugins in /opt/conda/lib/python3.7/site-packages (from rasterio->rioxarray) (1.1.1)\n",
      "Requirement already satisfied: snuggs>=1.4.1 in /opt/conda/lib/python3.7/site-packages (from rasterio->rioxarray) (1.4.7)\n",
      "Requirement already satisfied: pyparsing>=2.1.6 in /opt/conda/lib/python3.7/site-packages (from snuggs>=1.4.1->rasterio->rioxarray) (2.4.7)\n",
      "Building wheels for collected packages: rioxarray\n",
      "  Building wheel for rioxarray (PEP 517) ... \u001b[?25ldone\n",
      "\u001b[?25h  Created wheel for rioxarray: filename=rioxarray-0.4.3-py3-none-any.whl size=52341 sha256=711a0b20d4032e3514ceb826d5c398df8a0f449b2c1a95a439588dc801d5e51b\n",
      "  Stored in directory: /home/jovyan/.cache/pip/wheels/54/06/fb/788f7e0042e1bf3ff85e96d2aec9377cf0099c033b7a24872e\n",
      "Successfully built rioxarray\n",
      "Installing collected packages: xarray, rioxarray\n",
      "Successfully installed rioxarray-0.4.3 xarray-0.18.2\n",
      "Note: you may need to restart the kernel to use updated packages.\n"
     ]
    }
   ],
   "source": [
    "# If new server on Descartes Labs, need to install rioxarray \n",
    "try: import rioxarray\n",
    "except: \n",
    "    %pip install rioxarray\n",
    "\n",
    "import demo_functions as df"
   ]
  },
  {
   "cell_type": "markdown",
   "id": "architectural-columbia",
   "metadata": {},
   "source": [
    "__________\n",
    "Let's begin with the input parameters. These include the label file, confidence in the labels and the data types we will use. Once we confirm the data types we will be asked for paths to the files containing the imagery. Post-event must be provided but pre-event is optional. If a pre-event image is provided the data used will be the difference between the images which contains more information than the post event image alone."
   ]
  },
  {
   "cell_type": "code",
   "execution_count": 2,
   "id": "egyptian-butler",
   "metadata": {},
   "outputs": [
    {
     "data": {
      "application/vnd.jupyter.widget-view+json": {
       "model_id": "a7cdb2b1beb445e58005d4f5d7e83e6a",
       "version_major": 2,
       "version_minor": 0
      },
      "text/plain": [
       "HTML(value='<b>Label Parameters</b>')"
      ]
     },
     "metadata": {},
     "output_type": "display_data"
    },
    {
     "data": {
      "application/vnd.jupyter.widget-view+json": {
       "model_id": "ee745e1ed3e2458497ef81a2dca18455",
       "version_major": 2,
       "version_minor": 0
      },
      "text/plain": [
       "Box(children=(Label(value='Damage Labels: Shapefile - '), Text(value='./data/beirutDamages.shp', layout=Layout…"
      ]
     },
     "metadata": {},
     "output_type": "display_data"
    },
    {
     "data": {
      "application/vnd.jupyter.widget-view+json": {
       "model_id": "0efa13ce8c9642db87440140d214c276",
       "version_major": 2,
       "version_minor": 0
      },
      "text/plain": [
       "Box(children=(Label(value='Label Confidence ($P_{other label}$, $P_{class}$)'), FloatRangeSlider(value=(0.0, 1…"
      ]
     },
     "metadata": {},
     "output_type": "display_data"
    },
    {
     "data": {
      "application/vnd.jupyter.widget-view+json": {
       "model_id": "da70085f8c0e4545929c48b2758f0dd2",
       "version_major": 2,
       "version_minor": 0
      },
      "text/plain": [
       "HTML(value='<b>Map Properties</b>')"
      ]
     },
     "metadata": {},
     "output_type": "display_data"
    },
    {
     "data": {
      "application/vnd.jupyter.widget-view+json": {
       "model_id": "752018a6c7a14f89aa5551898c1831f4",
       "version_major": 2,
       "version_minor": 0
      },
      "text/plain": [
       "Box(children=(Label(value='Latitude - '), FloatText(value=33.893, layout=Layout(width='max-content')), Label(v…"
      ]
     },
     "metadata": {},
     "output_type": "display_data"
    },
    {
     "data": {
      "application/vnd.jupyter.widget-view+json": {
       "model_id": "07e0f024e7c14a0a92fbd7a54610815e",
       "version_major": 2,
       "version_minor": 0
      },
      "text/plain": [
       "HTML(value='<b>Data Parameters</b>')"
      ]
     },
     "metadata": {},
     "output_type": "display_data"
    },
    {
     "data": {
      "application/vnd.jupyter.widget-view+json": {
       "model_id": "a9890b9123274d5da32e3e6e2947f51e",
       "version_major": 2,
       "version_minor": 0
      },
      "text/plain": [
       "Box(children=(Label(value='Enter Data Types:'), Combobox(value='HighRes Imagery', layout=Layout(width='max-con…"
      ]
     },
     "metadata": {},
     "output_type": "display_data"
    },
    {
     "data": {
      "application/vnd.jupyter.widget-view+json": {
       "model_id": "54e571e404584f139316fa94be4402e8",
       "version_major": 2,
       "version_minor": 0
      },
      "text/plain": [
       "VBox(children=(Button(button_style='success', description='Confirm Types', icon='check', style=ButtonStyle(), …"
      ]
     },
     "metadata": {},
     "output_type": "display_data"
    }
   ],
   "source": [
    "inputs = df.parameter_input()"
   ]
  },
  {
   "cell_type": "markdown",
   "id": "working-memphis",
   "metadata": {},
   "source": [
    "______\n",
    "Now let's load up the map of our ground labels and define an area for the model. Then below the map we'll pick the model parameter to run on the data from the selected area. If we wish to group classes together we will also be offered some clustering options."
   ]
  },
  {
   "cell_type": "code",
   "execution_count": 4,
   "id": "dirty-respondent",
   "metadata": {},
   "outputs": [
    {
     "data": {
      "application/vnd.jupyter.widget-view+json": {
       "model_id": "f0f50121ce5d46d7abe73c2677aff845",
       "version_major": 2,
       "version_minor": 0
      },
      "text/plain": [
       "Map(center=[33.893, 35.512], controls=(ZoomControl(options=['position', 'zoom_in_text', 'zoom_in_title', 'zoom…"
      ]
     },
     "metadata": {},
     "output_type": "display_data"
    },
    {
     "data": {
      "application/vnd.jupyter.widget-view+json": {
       "model_id": "2aeefc88cbde498da121631d196bab9b",
       "version_major": 2,
       "version_minor": 0
      },
      "text/plain": [
       "HTML(value='<h3>Model Parameters</h3>')"
      ]
     },
     "metadata": {},
     "output_type": "display_data"
    },
    {
     "data": {
      "application/vnd.jupyter.widget-view+json": {
       "model_id": "cd73c034eb9d48368356ee11476dfa77",
       "version_major": 2,
       "version_minor": 0
      },
      "text/plain": [
       "HTML(value='<b>Node Properties</b>')"
      ]
     },
     "metadata": {},
     "output_type": "display_data"
    },
    {
     "data": {
      "application/vnd.jupyter.widget-view+json": {
       "model_id": "8878e4f6b5a2413aa418d0eea57b3b60",
       "version_major": 2,
       "version_minor": 0
      },
      "text/plain": [
       "Box(children=(Label(value='Max nodes - Sampling occurs if < pixel number:'), IntText(value=20000, layout=Layou…"
      ]
     },
     "metadata": {},
     "output_type": "display_data"
    },
    {
     "data": {
      "application/vnd.jupyter.widget-view+json": {
       "model_id": "60db8e07473b40e3be1a68b4c699f336",
       "version_major": 2,
       "version_minor": 0
      },
      "text/plain": [
       "HTML(value='<b>Edge Properties</b>')"
      ]
     },
     "metadata": {},
     "output_type": "display_data"
    },
    {
     "data": {
      "application/vnd.jupyter.widget-view+json": {
       "model_id": "1eba997faa8f472880c11930ed7ca647",
       "version_major": 2,
       "version_minor": 0
      },
      "text/plain": [
       "Box(children=(Label(value='Neighbours - Edges to nearest values for each node: '), Box(children=(IntText(value…"
      ]
     },
     "metadata": {},
     "output_type": "display_data"
    },
    {
     "data": {
      "application/vnd.jupyter.widget-view+json": {
       "model_id": "79153d16cebe463386fbc52c8f69eb6a",
       "version_major": 2,
       "version_minor": 0
      },
      "text/plain": [
       "Box(children=(Label(value='Geographical Edges - '), Checkbox(value=False, indent=False, layout=Layout(width='m…"
      ]
     },
     "metadata": {},
     "output_type": "display_data"
    },
    {
     "data": {
      "application/vnd.jupyter.widget-view+json": {
       "model_id": "8ba5bde84f9d4766b1b23473e1be3266",
       "version_major": 2,
       "version_minor": 0
      },
      "text/plain": [
       "HTML(value='<b>Class Properties</b>')"
      ]
     },
     "metadata": {},
     "output_type": "display_data"
    },
    {
     "data": {
      "application/vnd.jupyter.widget-view+json": {
       "model_id": "a50f5a77212e4b708e8b18c15aed4f82",
       "version_major": 2,
       "version_minor": 0
      },
      "text/plain": [
       "HTML(value=\"Label Classes - ['GREEN' 'YELLOW' 'LAND' 'RED' 'TOTAL']\")"
      ]
     },
     "metadata": {},
     "output_type": "display_data"
    },
    {
     "data": {
      "application/vnd.jupyter.widget-view+json": {
       "model_id": "b55f38acc3d54ae8ae0242cbb318e88d",
       "version_major": 2,
       "version_minor": 0
      },
      "text/plain": [
       "Box(children=(Label(value='Classes for Model - '), Dropdown(index=3, options=(2, 3, 4, 5), value=5)))"
      ]
     },
     "metadata": {},
     "output_type": "display_data"
    },
    {
     "data": {
      "application/vnd.jupyter.widget-view+json": {
       "model_id": "993d77748458496cbe978812b0dd279a",
       "version_major": 2,
       "version_minor": 0
      },
      "text/plain": [
       "VBox(children=(Button(button_style='success', description='Confirm Classes', icon='check', style=ButtonStyle()…"
      ]
     },
     "metadata": {},
     "output_type": "display_data"
    }
   ],
   "source": [
    "parameters = df.model_parameters(inputs)"
   ]
  },
  {
   "cell_type": "markdown",
   "id": "elegant-crack",
   "metadata": {},
   "source": [
    "________\n",
    "Now we have all the parameters for the model, let's import and classify the data according to our selections. If you have already imported the data and just adjusted the model parameters then just re-classify rather than re-importing."
   ]
  },
  {
   "cell_type": "code",
   "execution_count": 5,
   "id": "lesbian-punishment",
   "metadata": {},
   "outputs": [],
   "source": [
    "import ipyleaflet as ipl\n",
    "p = ipl.Polygon(locations=[(33.892243658425194, 35.512407312180784), (33.892243658425194, 35.52800151162857), (33.90124240848098, 35.52800151162857), (33.90124240848098,35.512407312180784)])"
   ]
  },
  {
   "cell_type": "code",
   "execution_count": 8,
   "id": "published-singing",
   "metadata": {},
   "outputs": [
    {
     "data": {
      "application/vnd.jupyter.widget-view+json": {
       "model_id": "309c70268f10486eab5a7226d527d64e",
       "version_major": 2,
       "version_minor": 0
      },
      "text/plain": [
       "Polygon(locations=[(33.892243658425194, 35.512407312180784), (33.892243658425194, 35.52800151162857), (33.9012…"
      ]
     },
     "metadata": {},
     "output_type": "display_data"
    }
   ],
   "source": []
  },
  {
   "cell_type": "code",
   "execution_count": 56,
   "id": "upset-increase",
   "metadata": {
    "jupyter": {
     "source_hidden": true
    }
   },
   "outputs": [],
   "source": [
    "import helper_functions as hf\n",
    "import imports as ip\n",
    "import demo_functions as demo\n",
    "\n",
    "def import_data(v):\n",
    "    # Retrieve file locations from inputs\n",
    "    for j in range(len(v['dataTypes'])):\n",
    "        try: v['preFile'+str(j)], v['postFile'+str(j)] = [i.value for i in v['bxfile'+str(j)].trait_values()['children'][1::2]]    \n",
    "        except KeyError: raise KeyError('Please make sure you have confirmed the data types.')\n",
    "    for i in v.keys(): globals()[i] = v[i] # Retrieve variables to use\n",
    "   \n",
    "    # Reproject Data if necessary\n",
    "    v = demo.reproject_data(v)\n",
    "    \n",
    "    # Import Files\n",
    "    print(\"------Importing Data Files---------\")\n",
    "    # Import first data type\n",
    "    df, crop = ip.img_to_df(postFile0, testPoly, crs=crs)\n",
    "    if preFile0:\n",
    "        preDf, _ = ip.img_to_df(preFile0, testPoly, crs=crs)\n",
    "        df -= preDf\n",
    "\n",
    "    # Import other data types\n",
    "    if len(dataTypes) > 1:\n",
    "        crop.rio.to_raster(\"croptemp.tif\")\n",
    "        for i in range(1, len(dataTypes)):\n",
    "            ip.resample_tif(globals()['postFile'+str(i)], testPoly, 'posttemp'+str(i)+'.tif')\n",
    "            globals()['dataArray'+str(i)] = ip.tif_to_array('posttemp'+str(i)+'.tif', 'resample')\n",
    "            if globals()['preFile'+str(i)]: \n",
    "                ip.resample_tif(globals()['preFile'+str(i)], testPoly, 'pretemp'+str(i)+'.tif')\n",
    "                globals()['dataArray'+str(i)] -= ip.tif_to_array('pretemp'+str(i)+'.tif', 'resample')\n",
    "        ip.del_file_endings(\".\", \"temp*.tif\")\n",
    "\n",
    "    # Concatenate data types\n",
    "    data = df.copy()\n",
    "    for j in range(1, len(dataTypes)): \n",
    "        da = globals()['dataArray'+str(1)]\n",
    "        for k in range(min(da.shape)):\n",
    "            data[str(dataTypes[j])+str(k)]=da.reshape(min(da.shape),-1)[k]\n",
    "    data.dropna(inplace=True)\n",
    "    print(\"------Finished Data Import---------\")\n",
    "    typesUsed = [list(df.columns.values)]\n",
    "    for j in range(1,len(dataTypes)): typesUsed.append(list(data.columns[[dataTypes[j] in str(i) for i in data.columns]]))\n",
    "    \n",
    "    v.update({'data':data, 'typesUsed':typesUsed})\n",
    "    return v\n",
    "\n",
    "import os\n",
    "import random\n",
    "import importlib\n",
    "import ground_truth\n",
    "import numpy as np\n",
    "import pandas as pd\n",
    "import rasterio as ro\n",
    "import rioxarray as rxr\n",
    "import geopandas as gpd\n",
    "import helper_functions as hf\n",
    "import shapely.geometry as sg\n",
    "from rasterio.io import MemoryFile\n",
    "from rasterio.enums import Resampling\n",
    "from rasterio.windows import from_bounds\n",
    "from rasterio.warp import calculate_default_transform, reproject, Resampling\n",
    "\n",
    "def img_to_df(file, poly=False, crs=False, label='img', columns=False, crsPoly='epsg:4326', verbose=True):\n",
    "    # Import raster\n",
    "    img = rxr.open_rasterio(file, masked=True).squeeze()\n",
    "    \n",
    "    # Crop image if polygon supplied\n",
    "    if poly:\n",
    "        _, extent = hf.get_extent(poly, crsPoly=crsPoly, crs=crs)\n",
    "        img = img.rio.clip(extent.geometry.apply(sg.mapping))   \n",
    "    named = img.rename('img')\n",
    "    \n",
    "    # Convert to dataframe\n",
    "    xm, ym = np.meshgrid(np.array(named.coords['x']), np.array(named.coords['y']))\n",
    "    mi = pd.MultiIndex.from_arrays([ym.flatten(),xm.flatten()],names=('y','x'))\n",
    "    size = min(named.shape) if len(named.shape) > 2 else 1 \n",
    "    df = pd.DataFrame(named.data.reshape(size,-1).transpose(), index=mi)\n",
    "    if verbose: print(file+\" read completed.\")\n",
    "    \n",
    "    return df, named\n",
    "  "
   ]
  },
  {
   "cell_type": "code",
   "execution_count": 412,
   "id": "advance-talent",
   "metadata": {},
   "outputs": [
    {
     "name": "stdout",
     "output_type": "stream",
     "text": [
      "------Checking Coordinate Systems-------\n",
      "------Finished Checking Coordinate Systems-------\n",
      "------Importing Data Files---------\n",
      "data/highRes/20AUG05_HR_LatLon.tif read completed.\n",
      "data/highRes/20JUL31_HR_LatLon.tif read completed.\n"
     ]
    },
    {
     "name": "stderr",
     "output_type": "stream",
     "text": [
      "/opt/conda/lib/python3.7/site-packages/IPython/core/async_helpers.py:68: SerializationWarning: saving variable None with floating point data as an integer dtype without any _FillValue to use for NaNs\n",
      "  coro.send(None)\n"
     ]
    },
    {
     "name": "stdout",
     "output_type": "stream",
     "text": [
      "./data/beirutPrePostExplosionIfg.tif read completed.\n",
      "./data/beirutPrePreExplosionIfg.tif read completed.\n",
      "------Finished Data Import---------\n"
     ]
    }
   ],
   "source": [
    "imports = import_data(parameters)"
   ]
  },
  {
   "cell_type": "code",
   "execution_count": 437,
   "id": "occasional-monster",
   "metadata": {},
   "outputs": [
    {
     "name": "stdout",
     "output_type": "stream",
     "text": [
      "------Data Sampling---------\n",
      "------Data Classification---------\n",
      "------Finished Data Classification---------\n"
     ]
    }
   ],
   "source": [
    "classified = df.classify_data(imports)"
   ]
  },
  {
   "cell_type": "code",
   "execution_count": 406,
   "id": "american-concentrate",
   "metadata": {},
   "outputs": [],
   "source": [
    "classified['bxNodes'].trait_values()['children'][3].value = 2"
   ]
  },
  {
   "cell_type": "markdown",
   "id": "focal-concentration",
   "metadata": {},
   "source": [
    "____________\n",
    "OK, the data is formatted the model parameters are all checked. Let's build the graph of nodes & edges and run the belief propagation!"
   ]
  },
  {
   "cell_type": "code",
   "execution_count": null,
   "id": "amino-gamma",
   "metadata": {},
   "outputs": [
    {
     "name": "stdout",
     "output_type": "stream",
     "text": [
      "Nodes: 190819, Edges: 1144914\n"
     ]
    }
   ],
   "source": [
    "output = run_bp(classified,limit=1e-3)"
   ]
  },
  {
   "cell_type": "markdown",
   "id": "authorized-softball",
   "metadata": {},
   "source": [
    "_____\n",
    "Now let's use the test set to evaluate the effectiveness of the model."
   ]
  },
  {
   "cell_type": "code",
   "execution_count": 408,
   "id": "reliable-experiment",
   "metadata": {},
   "outputs": [
    {
     "name": "stdout",
     "output_type": "stream",
     "text": [
      "              precision    recall  f1-score   support\n",
      "\n",
      "     Damaged       0.50      0.50      0.50      1034\n",
      "   Undamaged       0.50      0.49      0.49      1034\n",
      "\n",
      "    accuracy                           0.50      2068\n",
      "   macro avg       0.50      0.50      0.50      2068\n",
      "weighted avg       0.50      0.50      0.50      2068\n",
      "\n"
     ]
    },
    {
     "data": {
      "image/png": "[encoded data removed]",
      "text/plain": [
       "<Figure size 864x360 with 2 Axes>"
      ]
     },
     "metadata": {
      "needs_background": "light"
     },
     "output_type": "display_data"
    }
   ],
   "source": [
    "plots = evaluate_output(output)"
   ]
  },
  {
   "cell_type": "markdown",
   "id": "broke-cleaning",
   "metadata": {},
   "source": [
    "Want to save the plot? Run the cell below. If you want to specify a location replace the False boolean with the filepath."
   ]
  },
  {
   "cell_type": "code",
   "execution_count": 385,
   "id": "widespread-design",
   "metadata": {},
   "outputs": [],
   "source": [
    "df.save_plot(plots, location=False)"
   ]
  },
  {
   "cell_type": "code",
   "execution_count": 9,
   "id": "modular-belly",
   "metadata": {},
   "outputs": [],
   "source": [
    "import geopandas as gpd\n",
    "import numpy as np\n",
    "import helper_functions as hf\n",
    "import netconf as nc\n",
    "def run_bp(v, limit=1e-5):\n",
    "    # Retrieve data from inputs\n",
    "    for i in v.keys(): globals()[i] = v[i]\n",
    "    initial = v['initial']\n",
    "    trainSplit = bxNodes.trait_values()['children'][3].value\n",
    "    confidence = list(bxConf.trait_values()['children'][1].value)\n",
    "    neighbours = [i.value for i in bxEdges.trait_values()['children'][1].trait_values()['children']]\n",
    "    adjacent, geoNeighbours = [i.value for i in bxAdjacent.trait_values()['children'][1::2]]\n",
    "\n",
    "    # Split pixels in to train and test sets    \n",
    "    X_train, X_test, y_train, y_test = hf.train_test_split(labelsUsed, cn, hf.get_polygon(testPoly, conv=True), testSplit=(1-(trainSplit/100)))\n",
    "    \n",
    "    # Create nodes\n",
    "    nodes = hf.create_nodes(initial, X_train)\n",
    "\n",
    "    import numpy as np\n",
    "    summary = nodes.groupby(cn).size()\n",
    "    equivUse = True\n",
    "    if equivUse:\n",
    "        equiv = gpd.GeoDataFrame()\n",
    "        for i in summary.index.values:\n",
    "            equiv = equiv.append(nodes[nodes[cn] == i][0:min(summary)])\n",
    "        equiv = equiv.append(nodes[[np.isnan(x) for x in nodes[cn]]])\n",
    "        nodes=equiv.copy()\n",
    "        initial = initial.loc[nodes.index.values].reset_index()\n",
    "    \n",
    "    # Assign prior beliefs from assessments\n",
    "    priors = hf.prior_beliefs(nodes, beliefColumns = initial.columns[-nClasses:], beliefs=confidence, classNames=classNames, column = cn)\n",
    "    \n",
    "    if all(values is 0 for values in neighbours) and (geoNeighbours is 0):\n",
    "        edges, beliefs = [], priors\n",
    "    else:\n",
    "        # Create edges\n",
    "        edges = hf.create_edges(nodes, adjacent=adjacent, geo_neighbours=geoNeighbours, values=typesUsed, neighbours=neighbours)\n",
    "\n",
    "        # Run belief propagation\n",
    "        beliefs, _ = nc.netconf(edges,priors,verbose=True,limit=limit)\n",
    "    \n",
    "    v.update({'trainSplit':trainSplit, 'confidence':confidence, 'neighbours':neighbours, 'adjacent':adjacent, 'geoNeighbours':geoNeighbours, 'X_train':X_train, 'X_test':X_test, 'nodes':nodes, 'priors':priors, 'edges':edges,'beliefs':beliefs,'initial':initial})\n",
    "    return v"
   ]
  },
  {
   "cell_type": "code",
   "execution_count": 10,
   "id": "exciting-objective",
   "metadata": {},
   "outputs": [],
   "source": [
    "import sklearn as skl\n",
    "import plotting as pl\n",
    "def evaluate_output(v):\n",
    "    for i in v.keys(): globals()[i] = v[i]\n",
    "    # Get y_true vs y_pred for test set\n",
    "    y_true, y_pred = get_labels(initial, X_test, beliefs, column=cn)\n",
    "    \n",
    "    # Classification metrics\n",
    "    true_clf, pred_clf = hf.class_metrics(y_true, y_pred, classes=usedNames, orig=unique)\n",
    "\n",
    "    fig, axs = pl.create_subplots(1,2, figsize=[12,5])\n",
    "    \n",
    "    # Confusion matrix\n",
    "    axs = pl.confusion_matrix(axs, true_clf, pred_clf, usedNames)\n",
    "\n",
    "    # Cross entropy / Confidence metrics\n",
    "    if nClasses == 2: axs = cross_entropy_metrics(axs, y_true, y_pred[:,1].reshape(-1,1), usedNames)\n",
    "    else: axs[1] = pl.cross_entropy_multiclass(axs[1], true_clf, y_pred, usedNames)\n",
    "\n",
    "    pl.show_plot()\n",
    "    \n",
    "    v.update({'y_true':y_true, 'y_pred':y_pred, 'true_clf':true_clf, 'pred_clf':pred_clf, 'fig':fig})\n",
    "    \n",
    "    return v\n",
    "\n",
    "def cross_entropy_metrics(axs, y_true, y_pred, classes, dmgThresh=0.5, initBelief=0.5):\n",
    "    try: ax = axs[1]\n",
    "    except: ax = axs\n",
    "    try: \n",
    "        int(classes[0]), int(classes[1])\n",
    "        label1, label2 = 'True class '+str(classes[0]), 'True class '+str(classes[1])\n",
    "    except: label1, label2 = 'True '+str(classes[0]), 'True '+str(classes[1])\n",
    "    p1 = ax.hist(y_pred[(np.array(1-y_true)*y_pred).nonzero()[0]], range = [0,1], bins = 100, label = label1, color = 'g', alpha = 0.5) \n",
    "    if len(classes) > 1:\n",
    "        p2 = ax.hist(y_pred[(np.array(y_true)*y_pred).nonzero()[0]], range = [0,1], bins = 100, label =  label2, color = 'r', alpha = 0.5)\n",
    "#   ax.axvline(x=dmgThresh, color='k',linestyle='--', linewidth=1, label='Classification Threshold')\n",
    "    ax.axvline(x=initBelief, color='b',linestyle='--', linewidth=1, label='Initial probability')\n",
    "    log_loss = skl.metrics.log_loss(y_true, y_pred, labels=[0,1])\n",
    "    ax.set_title('Belief Propagation\\nCross-entropy loss: {:.3f}'.format(log_loss),size=14)\n",
    "    ax.legend(loc='best',fontsize=12), \n",
    "    try: \n",
    "        int(classes[0]), int(classes[1])\n",
    "        ax.set_xlabel('Class '+str(classes[1])+' Probability',fontsize=12)\n",
    "        ax.text(dmgThresh/2, 0.6, 'Class '+str(classes[0])+'\\n Prediction', ha='center', va='center', transform=ax.transAxes,fontsize=12)\n",
    "        ax.text(dmgThresh+(1-dmgThresh)/2, 0.6, 'Class '+str(classes[1])+'\\n Prediction', ha='center', va='center', transform=ax.transAxes,fontsize=12)\n",
    "    except:\n",
    "        ax.set_xlabel(str(classes[1])+' Probability',fontsize=12)\n",
    "        ax.text(dmgThresh/2, 0.6, str(classes[0])+'\\n Prediction', ha='center', va='center', transform=ax.transAxes)\n",
    "        ax.text(dmgThresh+(1-dmgThresh)/2, 0.6, str(classes[1])+'\\n Prediction', ha='center', va='center', transform=ax.transAxes)\n",
    "    ax.set_ylabel('Number of predictions',fontsize=12)\n",
    "    return axs, log_loss\n",
    "  \n",
    "# Get y_true and y_pred for test set oof nodes\n",
    "def get_labels(init, X_test, beliefs, column, values = False):\n",
    "    gdf = gpd.sjoin(init, X_test, how='left', op='within').dropna(subset=[column])\n",
    "    summary = gdf.groupby(cn).size()\n",
    "    equivTest = True\n",
    "    if equivTest:\n",
    "        equiv = gpd.GeoDataFrame()\n",
    "        for i in summary.index.values:\n",
    "            equiv = equiv.append(gdf[gdf[cn] == i][0:min(summary)])\n",
    "        equiv = equiv.append(gdf[[np.isnan(x) for x in gdf[cn]]])\n",
    "        y_true = equiv[column]\n",
    "    else: y_true = gdf[column]\n",
    "\n",
    "    if values: y_true = y_true.map(values)\n",
    "    y_pred = skl.preprocessing.normalize(beliefs[y_true.index], norm='l1')\n",
    "    return np.array(y_true).reshape(-1,1).astype(type(y_true.values[0])), y_pred"
   ]
  },
  {
   "cell_type": "code",
   "execution_count": 27,
   "id": "starting-pulse",
   "metadata": {},
   "outputs": [],
   "source": [
    "import demo_functions as demo\n",
    "import imports as ip\n",
    "def import_data(v):\n",
    "    # Retrieve file locations from inputs\n",
    "    v['dataTypes'] = [i.value.split(' ')[0] for i in v['bxDataTypes'].trait_values()['children'][1:] if len(i.value) > 0]\n",
    "    for j in range(len(v['dataTypes'])):\n",
    "        try: v['preFile'+str(j)], v['postFile'+str(j)] = [i.value for i in v['bxfile'+str(j)].trait_values()['children'][1::2]]    \n",
    "        except KeyError: raise KeyError('Please make sure you have confirmed the data types.')\n",
    "    for i in v.keys(): globals()[i] = v[i] # Retrieve variables to use\n",
    "   \n",
    "    # Reproject Data if necessary\n",
    "    v = demo.reproject_data(v)\n",
    "    \n",
    "    # Import Files\n",
    "    print(\"------Importing Data Files---------\")\n",
    "    # Import first data type\n",
    "    df, crop = ip.img_to_df(postFile0, testPoly, crs=crs)\n",
    "    if preFile0:\n",
    "        preDf, _ = ip.img_to_df(preFile0, testPoly, crs=crs)\n",
    "        df -= preDf\n",
    "\n",
    "    # Import other data types\n",
    "    if len(dataTypes) > 1:\n",
    "        crop.rio.to_raster(\"croptemp.tif\")\n",
    "        for i in range(1, len(dataTypes)):\n",
    "            ip.resample_tif(globals()['postFile'+str(i)], testPoly, 'posttemp'+str(i)+'.tif')\n",
    "            globals()['dataArray'+str(i)] = ip.tif_to_array('posttemp'+str(i)+'.tif', 'resample')\n",
    "            if globals()['preFile'+str(i)]: \n",
    "                ip.resample_tif(globals()['preFile'+str(i)], testPoly, 'pretemp'+str(i)+'.tif')\n",
    "                globals()['dataArray'+str(i)] -= ip.tif_to_array('pretemp'+str(i)+'.tif', 'resample')\n",
    "        ip.del_file_endings(\".\", \"temp*.tif\")\n",
    "\n",
    "    # Concatenate data types\n",
    "    data = df.copy()\n",
    "    for j in range(1, len(dataTypes)): data[dataTypes[j]]=globals()['dataArray'+str(j)].flatten()\n",
    "    data.dropna(inplace=True)\n",
    "    print(\"------Finished Data Import---------\")\n",
    "    typesUsed = [list(df.columns.values)]\n",
    "    for j in range(1,len(dataTypes)): typesUsed.append(list(data.columns[[dataTypes[j] in str(i) for i in data.columns]]))\n",
    "\n",
    "    v.update({'data':data, 'typesUsed':typesUsed})\n",
    "    return v"
   ]
  },
  {
   "cell_type": "code",
   "execution_count": 260,
   "id": "conceptual-interference",
   "metadata": {},
   "outputs": [
    {
     "data": {
      "text/html": [
       "<div>\n",
       "<style scoped>\n",
       "    .dataframe tbody tr th:only-of-type {\n",
       "        vertical-align: middle;\n",
       "    }\n",
       "\n",
       "    .dataframe tbody tr th {\n",
       "        vertical-align: top;\n",
       "    }\n",
       "\n",
       "    .dataframe thead th {\n",
       "        text-align: right;\n",
       "    }\n",
       "</style>\n",
       "<table border=\"1\" class=\"dataframe\">\n",
       "  <thead>\n",
       "    <tr style=\"text-align: right;\">\n",
       "      <th></th>\n",
       "      <th>index</th>\n",
       "      <th>0</th>\n",
       "      <th>1</th>\n",
       "      <th>2</th>\n",
       "      <th>Interferogram</th>\n",
       "      <th>geometry</th>\n",
       "      <th>GREEN</th>\n",
       "      <th>RED</th>\n",
       "    </tr>\n",
       "  </thead>\n",
       "  <tbody>\n",
       "    <tr>\n",
       "      <th>0</th>\n",
       "      <td>1</td>\n",
       "      <td>110.0</td>\n",
       "      <td>150.0</td>\n",
       "      <td>70.0</td>\n",
       "      <td>-1.466011</td>\n",
       "      <td>POINT (33.89367274474693 35.51889501388001)</td>\n",
       "      <td>0.5</td>\n",
       "      <td>0.5</td>\n",
       "    </tr>\n",
       "    <tr>\n",
       "      <th>1</th>\n",
       "      <td>3</td>\n",
       "      <td>-107.0</td>\n",
       "      <td>-141.0</td>\n",
       "      <td>-67.0</td>\n",
       "      <td>4.183954</td>\n",
       "      <td>POINT (33.89782075593958 35.51336928809768)</td>\n",
       "      <td>0.5</td>\n",
       "      <td>0.5</td>\n",
       "    </tr>\n",
       "    <tr>\n",
       "      <th>2</th>\n",
       "      <td>19</td>\n",
       "      <td>-23.0</td>\n",
       "      <td>-3.0</td>\n",
       "      <td>13.0</td>\n",
       "      <td>4.198683</td>\n",
       "      <td>POINT (33.89767208170329 35.51365672495452)</td>\n",
       "      <td>0.5</td>\n",
       "      <td>0.5</td>\n",
       "    </tr>\n",
       "    <tr>\n",
       "      <th>3</th>\n",
       "      <td>20</td>\n",
       "      <td>76.0</td>\n",
       "      <td>103.0</td>\n",
       "      <td>59.0</td>\n",
       "      <td>0.515863</td>\n",
       "      <td>POINT (33.89817261829882 35.52704236202903)</td>\n",
       "      <td>0.5</td>\n",
       "      <td>0.5</td>\n",
       "    </tr>\n",
       "    <tr>\n",
       "      <th>4</th>\n",
       "      <td>36</td>\n",
       "      <td>1.0</td>\n",
       "      <td>5.0</td>\n",
       "      <td>9.0</td>\n",
       "      <td>-2.065124</td>\n",
       "      <td>POINT (33.89540727750371 35.51834491920572)</td>\n",
       "      <td>0.5</td>\n",
       "      <td>0.5</td>\n",
       "    </tr>\n",
       "    <tr>\n",
       "      <th>...</th>\n",
       "      <td>...</td>\n",
       "      <td>...</td>\n",
       "      <td>...</td>\n",
       "      <td>...</td>\n",
       "      <td>...</td>\n",
       "      <td>...</td>\n",
       "      <td>...</td>\n",
       "      <td>...</td>\n",
       "    </tr>\n",
       "    <tr>\n",
       "      <th>8718</th>\n",
       "      <td>9995</td>\n",
       "      <td>-59.0</td>\n",
       "      <td>-63.0</td>\n",
       "      <td>-34.0</td>\n",
       "      <td>0.332645</td>\n",
       "      <td>POINT (33.89398496064315 35.52558039870545)</td>\n",
       "      <td>0.5</td>\n",
       "      <td>0.5</td>\n",
       "    </tr>\n",
       "    <tr>\n",
       "      <th>8719</th>\n",
       "      <td>9996</td>\n",
       "      <td>-5.0</td>\n",
       "      <td>1.0</td>\n",
       "      <td>13.0</td>\n",
       "      <td>-4.981379</td>\n",
       "      <td>POINT (33.893107782649 35.51817642173791)</td>\n",
       "      <td>0.5</td>\n",
       "      <td>0.5</td>\n",
       "    </tr>\n",
       "    <tr>\n",
       "      <th>8720</th>\n",
       "      <td>9997</td>\n",
       "      <td>15.0</td>\n",
       "      <td>20.0</td>\n",
       "      <td>8.0</td>\n",
       "      <td>3.089128</td>\n",
       "      <td>POINT (33.89872766878099 35.51420681962881)</td>\n",
       "      <td>0.5</td>\n",
       "      <td>0.5</td>\n",
       "    </tr>\n",
       "    <tr>\n",
       "      <th>8721</th>\n",
       "      <td>9998</td>\n",
       "      <td>-3.0</td>\n",
       "      <td>6.0</td>\n",
       "      <td>3.0</td>\n",
       "      <td>0.742297</td>\n",
       "      <td>POINT (33.89813297183581 35.52741404761976)</td>\n",
       "      <td>0.5</td>\n",
       "      <td>0.5</td>\n",
       "    </tr>\n",
       "    <tr>\n",
       "      <th>8722</th>\n",
       "      <td>9999</td>\n",
       "      <td>-82.0</td>\n",
       "      <td>-88.0</td>\n",
       "      <td>-29.0</td>\n",
       "      <td>4.536957</td>\n",
       "      <td>POINT (33.89689401986667 35.52128866908437)</td>\n",
       "      <td>0.5</td>\n",
       "      <td>0.5</td>\n",
       "    </tr>\n",
       "  </tbody>\n",
       "</table>\n",
       "<p>8723 rows × 8 columns</p>\n",
       "</div>"
      ],
      "text/plain": [
       "      index      0      1     2  Interferogram  \\\n",
       "0         1  110.0  150.0  70.0      -1.466011   \n",
       "1         3 -107.0 -141.0 -67.0       4.183954   \n",
       "2        19  -23.0   -3.0  13.0       4.198683   \n",
       "3        20   76.0  103.0  59.0       0.515863   \n",
       "4        36    1.0    5.0   9.0      -2.065124   \n",
       "...     ...    ...    ...   ...            ...   \n",
       "8718   9995  -59.0  -63.0 -34.0       0.332645   \n",
       "8719   9996   -5.0    1.0  13.0      -4.981379   \n",
       "8720   9997   15.0   20.0   8.0       3.089128   \n",
       "8721   9998   -3.0    6.0   3.0       0.742297   \n",
       "8722   9999  -82.0  -88.0 -29.0       4.536957   \n",
       "\n",
       "                                         geometry  GREEN  RED  \n",
       "0     POINT (33.89367274474693 35.51889501388001)    0.5  0.5  \n",
       "1     POINT (33.89782075593958 35.51336928809768)    0.5  0.5  \n",
       "2     POINT (33.89767208170329 35.51365672495452)    0.5  0.5  \n",
       "3     POINT (33.89817261829882 35.52704236202903)    0.5  0.5  \n",
       "4     POINT (33.89540727750371 35.51834491920572)    0.5  0.5  \n",
       "...                                           ...    ...  ...  \n",
       "8718  POINT (33.89398496064315 35.52558039870545)    0.5  0.5  \n",
       "8719    POINT (33.893107782649 35.51817642173791)    0.5  0.5  \n",
       "8720  POINT (33.89872766878099 35.51420681962881)    0.5  0.5  \n",
       "8721  POINT (33.89813297183581 35.52741404761976)    0.5  0.5  \n",
       "8722  POINT (33.89689401986667 35.52128866908437)    0.5  0.5  \n",
       "\n",
       "[8723 rows x 8 columns]"
      ]
     },
     "execution_count": 260,
     "metadata": {},
     "output_type": "execute_result"
    }
   ],
   "source": [
    "output['initial'].loc[output['nodes'].index.values].reset_index()"
   ]
  },
  {
   "cell_type": "code",
   "execution_count": 98,
   "id": "affected-bacteria",
   "metadata": {},
   "outputs": [],
   "source": [
    "import ipyleaflet as ipl\n",
    "import sys\n",
    "# Converting gdf columns to GeoData for plotting\n",
    "def to_geodata(gdf, color, name='Data', fill=0.7):\n",
    "    plotGdf = ipl.GeoData(geo_dataframe = gdf,\n",
    "                          style={'color': color, 'radius':2, 'fillColor': color, 'opacity':fill+0.1, 'weight':1.9, 'dashArray':'2', 'fillOpacity':fill},\n",
    "                          hover_style={'fillColor': 'white' , 'fillOpacity': 0.2},\n",
    "                          point_style={'radius': 3, 'color': color, 'fillOpacity': 0.8, 'fillColor': color, 'weight': 3},\n",
    "                          name = name)\n",
    "    return plotGdf\n",
    "\n",
    "# Plotting for building footprints with attached assessments\n",
    "def plot_assessments(gdf, mapName, cn='decision', classes=['GREEN','YELLOW','RED','TOTAL','LAND'], colors=['green','yellow','red','maroon','cyan'],\n",
    "                     layer_name='Data', layer_only=False, no_leg=False, fill=0.7, legName=False,names=False,leg_pos='bottomleft'):\n",
    "    classes = inputs['labels']['decision'].unique() if classes is False else classes \n",
    "    leg = {}\n",
    "    globals()['layer'+layer_name] = ipl.LayerGroup(name = layer_name)\n",
    "    for i, cl in enumerate(classes):\n",
    "        try: globals()['layer'+layer_name].add_layer(to_geodata(gdf.loc[gdf[cn].str.contains(cl)],colors[i],layer_name,fill))\n",
    "        except: globals()['layer'+layer_name].add_layer(to_geodata(gdf.loc[gdf[cn] == cl],colors[i],layer_name,fill))\n",
    "        if names:   \n",
    "            namedCls = ['Undamaged', 'Damaged']\n",
    "            leg.update({namedCls[i]:colors[i]})\n",
    "        else: leg.update({cl:colors[i]})\n",
    "            \n",
    "    if not layer_only:\n",
    "        mapName.add_layer(globals()['layer'+layer_name])\n",
    "        if not 'l1' in globals() and no_leg is False: # Add legend if forming map for first time\n",
    "            l1 = ipl.LegendControl(leg, name=cn if legName is False else legName, position=leg_pos)\n",
    "            mapName.add_control(l1)\n",
    "        return mapName\n",
    "    else: return globals()['layer'+layer_name]"
   ]
  },
  {
   "cell_type": "code",
   "execution_count": 299,
   "id": "weird-joyce",
   "metadata": {},
   "outputs": [
    {
     "name": "stdout",
     "output_type": "stream",
     "text": [
      "32\n",
      "23\n"
     ]
    },
    {
     "data": {
      "application/vnd.jupyter.widget-view+json": {
       "model_id": "cb0c99fe197148d79e2ea3c4cc716ee3",
       "version_major": 2,
       "version_minor": 0
      },
      "text/plain": [
       "Map(center=[33.893, 35.512], controls=(AttributionControl(options=['position', 'prefix'], position='bottomrigh…"
      ]
     },
     "metadata": {},
     "output_type": "display_data"
    }
   ],
   "source": [
    "# Visualise spatial results\n",
    "import plotting as pl\n",
    "for i in plots.keys(): globals()[i] = plots[i] # Retrieve variables to use\n",
    "from ipyleaflet import LayersControl\n",
    "import ipywidgets as ipw\n",
    "from branca.colormap import linear\n",
    "import numpy as np\n",
    "import matplotlib.pyplot as plt\n",
    "import matplotlib.colors as clrs\n",
    "import math\n",
    "ngrid=100\n",
    "\n",
    "mf = pl.create_map(lat, lon, zoom, basemap=ipl.basemaps.OpenStreetMap.BlackAndWhite)\n",
    "\n",
    "plot_assessments(labels, mf, cn=cn, layer_name='Ground truth', fill=0.4, legName='Ground Truth')\n",
    "\n",
    "plot_assessments(nodes.to_crs({'init':crs}).dropna(), mf, layer_name='Train Locations', no_leg=True, classes=sorted([x for x in nodes.decision.unique() if str(x) != 'nan']), colors = ['green', 'red'] if nClasses==2 else None)\n",
    "\n",
    "\n",
    "\n",
    "import geopandas as gpd\n",
    "a = gpd.sjoin(initial, X_test, how='left', op='within').dropna(subset=[cn])\n",
    "summary = a.groupby(cn).size()\n",
    "equivTest=True\n",
    "if equivTest:\n",
    "    equiv = gpd.GeoDataFrame()\n",
    "    for i in summary.index.values:\n",
    "        equiv = equiv.append(a[a[cn] == i][0:min(summary)])\n",
    "    equiv = equiv.append(a[[np.isnan(x) for x in a[cn]]])\n",
    "    a = equiv.copy()\n",
    "a['prediction']=pred_clf\n",
    "plot_assessments(a.to_crs({'init':crs}).dropna(), mf, cn='prediction', layer_name='Test Predictions', no_leg=True, classes=[x for x in a.prediction.unique() if str(x) != 'nan'], colors = ['green', 'red'] if nClasses==2 else None)\n",
    "\n",
    "from scipy.interpolate import griddata\n",
    "xi, yi = np.linspace(nodes.geometry.x.min(), nodes.geometry.x.max(), ngrid), np.linspace(nodes.geometry.y.min(), nodes.geometry.y.max(), ngrid)\n",
    "zi = griddata((nodes.geometry.x, nodes.geometry.y), (beliefs[:,0]-beliefs[:,1]+0.5), (xi[None, :], yi[:, None]), method='nearest')\n",
    "#cs = plt.contourf(xi, yi, zi, norm=matplotlib.colors.Normalize(vmin=zi.min(), vmax=zi.max()),levels=20)\n",
    "levs = math.floor((zi.max()-zi.min())/0.1)\n",
    "print(levs)\n",
    "cs = plt.contourf(xi, yi, zi, levels=levs-1, extend='both')\n",
    "plt.close() \n",
    "        \n",
    "# add contours as polygons\n",
    "# hardwired colors for now: these correspons to the 8-level default of matplotlib with an added orange color\n",
    "# add contours as polygons\n",
    "# hardwired colors for now: these correspons to the 8-level default of matplotlib with an added orange color\n",
    "# colors10 = [\"#ff0000\", \"#ff3232\", \"#ff6666\", \"#ff9999\", \"#ffcccc\", \"#ccf5cc\", \"#99eb99\", \"#66e166\", \"#32d732\",\"#00cd00\"]\n",
    "# colors20 = [\"#ff0000\",\"#ff0000\", \"#ff1919\", \"#ff3232\",\"#ff4c4c\", \"#ff6666\", \"#ff7f7f\", \"#ff9999\",\"#ffb2b2\", \"#ffcccc\",\"#ccf5cc\",\"#ccf5cc\",\"#ccf5cc\",\"#ccf5cc\",\"#ccf5cc\",\"#b2f0b2\", \"#99eb99\",\"#7fe67f\",\"#66e166\",\"#4cdc4c\",\"#32d732\",\"#19d219\",\"#00cd00\",\"#00cd00\"]\n",
    "#\"#ffe5e5\",\"#ffffff\",\"#e5fae5\"\n",
    "colorsRed = ['#e50000','#ff0000','#ff3232','#ff6666','#ff9999']\n",
    "colorsGreen = ['#b2f0b2','#99eb99','#66e166','#32d732','#00b800']\n",
    "colors=[]\n",
    "print(len(cs.allsegs))\n",
    "for i in range(math.floor(len(cs.allsegs)/2-5)-math.floor(((zi.max()-1-(0-zi.min()))/0.1)/2)): colors.append('#ff0000')\n",
    "colors += colorsRed\n",
    "colors += colorsGreen\n",
    "for i in range(math.ceil(len(cs.allsegs)/2-5)+math.floor(((zi.max()-1-(0-zi.min()))/0.1)/2)): colors.append('#32d732')\n",
    "allsegs, allkinds = cs.allsegs, cs.allkinds\n",
    "contourLayer = ipl.LayerGroup(name = 'Assessment Contours')\n",
    "for clev in range(len(cs.allsegs)):\n",
    "    kinds = None if allkinds is None else allkinds[clev]\n",
    "    segs = split_contours(allsegs[clev], kinds)\n",
    "    polygons = ipl.Polygon(\n",
    "                    locations=[p.tolist() for p in segs],\n",
    "                    # locations=segs[14].tolist(),\n",
    "                    color=colors[clev],\n",
    "                    weight=1,\n",
    "                    opacity=0.5,\n",
    "                    fill_color=colors[clev],\n",
    "                    fill_opacity=0.4,\n",
    "                    name='layer_name'\n",
    "    )\n",
    "    contourLayer.add_layer(polygons)\n",
    "\n",
    "mf.add_layer(contourLayer)\n",
    "\n",
    "control = ipl.LayersControl(position='topright')\n",
    "\n",
    "leg = dict(zip([str(round(x-0.1,1))+'-'+str(round(x,1)) for x in np.linspace(1,0.1,10).tolist()],colorsRed+colorsGreen))\n",
    "l2 = ipl.LegendControl(leg, name='Damage Prob', position=\"topleft\")\n",
    "mf.add_control(l2)\n",
    "\n",
    "mf.add_control(control)\n",
    "\n",
    "zoom_slider = ipw.IntSlider(description='Zoom level:', min=7, max=18, value=14)\n",
    "ipw.jslink((zoom_slider, 'value'), (mf, 'zoom'))\n",
    "widget_control1 = ipl.WidgetControl(widget=zoom_slider, position='topright')\n",
    "mf.add_control(widget_control1)\n",
    "mf.add_control(ipl.FullScreenControl(position='topright'))\n",
    "mf.zoom_control = False\n",
    "mf\n"
   ]
  },
  {
   "cell_type": "code",
   "execution_count": 39,
   "id": "twenty-chancellor",
   "metadata": {},
   "outputs": [],
   "source": [
    "def split_contours(segs, kinds=None):\n",
    "    \"\"\"takes a list of polygons and vertex kinds and separates disconnected vertices into separate lists.\n",
    "    The input arrays can be derived from the allsegs and allkinds atributes of the result of a matplotlib\n",
    "    contour or contourf call. They correspond to the contours of one contour level.\n",
    "    \n",
    "    Example:\n",
    "    cs = plt.contourf(x, y, z)\n",
    "    allsegs = cs.allsegs\n",
    "    allkinds = cs.allkinds\n",
    "    for i, segs in enumerate(allsegs):\n",
    "        kinds = None if allkinds is None else allkinds[i]\n",
    "        new_segs = split_contours(segs, kinds)\n",
    "        # do something with new_segs\n",
    "        \n",
    "    More information:\n",
    "    https://matplotlib.org/3.3.3/_modules/matplotlib/contour.html#ClabelText\n",
    "    https://matplotlib.org/3.1.0/api/path_api.html#matplotlib.path.Path\n",
    "    \"\"\"\n",
    "    if kinds is None:\n",
    "        return segs    # nothing to be done\n",
    "    # search for kind=79 as this marks the end of one polygon segment\n",
    "    # Notes: \n",
    "    # 1. we ignore the different polygon styles of matplotlib Path here and only\n",
    "    # look for polygon segments.\n",
    "    # 2. the Path documentation recommends to use iter_segments instead of direct\n",
    "    # access to vertices and node types. However, since the ipyleaflet Polygon expects\n",
    "    # a complete polygon and not individual segments, this cannot be used here\n",
    "    # (it may be helpful to clean polygons before passing them into ipyleaflet's Polygon,\n",
    "    # but so far I don't see a necessity to do so)\n",
    "    new_segs = []\n",
    "    for i, seg in enumerate(segs):\n",
    "        segkinds = kinds[i]\n",
    "        boundaries = [0] + list(np.nonzero(segkinds == 79)[0])\n",
    "        for b in range(len(boundaries)-1):\n",
    "            new_segs.append(seg[boundaries[b]+(1 if b>0 else 0):boundaries[b+1]])\n",
    "    return new_segs"
   ]
  },
  {
   "cell_type": "code",
   "execution_count": 165,
   "id": "relevant-first",
   "metadata": {},
   "outputs": [
    {
     "data": {
      "text/plain": [
       "<matplotlib.colorbar.Colorbar at 0x7ff5cb509dd0>"
      ]
     },
     "execution_count": 165,
     "metadata": {},
     "output_type": "execute_result"
    },
    {
     "data": {
      "image/png": "[encoded data removed]",
      "text/plain": [
       "<Figure size 432x288 with 2 Axes>"
      ]
     },
     "metadata": {
      "needs_background": "light"
     },
     "output_type": "display_data"
    }
   ],
   "source": [
    "#contour = plt.contourf(xi, yi, zi, levels=14, cmap='RdYlGn')\n",
    "import math\n",
    "cs = plt.contourf(xi, yi, zi, levels=28, extend='both')\n",
    "plt.colorbar()"
   ]
  },
  {
   "cell_type": "code",
   "execution_count": 325,
   "id": "partial-district",
   "metadata": {},
   "outputs": [
    {
     "name": "stdout",
     "output_type": "stream",
     "text": [
      "33\n",
      "23\n"
     ]
    },
    {
     "data": {
      "application/vnd.jupyter.widget-view+json": {
       "model_id": "606fe85f512749c9843f5794e7696a7e",
       "version_major": 2,
       "version_minor": 0
      },
      "text/plain": [
       "Map(center=[33.895621904536384, 35.51954984664918], controls=(AttributionControl(options=['position', 'prefix'…"
      ]
     },
     "metadata": {},
     "output_type": "display_data"
    }
   ],
   "source": [
    "# Visualise spatial results\n",
    "import plotting as pl\n",
    "for i in plots.keys(): globals()[i] = plots[i] # Retrieve variables to use\n",
    "from ipyleaflet import LayersControl\n",
    "import ipywidgets as ipw\n",
    "from branca.colormap import linear\n",
    "import numpy as np\n",
    "import matplotlib.pyplot as plt\n",
    "import matplotlib.colors as clrs\n",
    "import math\n",
    "ngrid=100\n",
    "\n",
    "mf = pl.create_map(33.895621904536384, 35.51954984664918, 16, basemap=ipl.basemaps.OpenStreetMap.BlackAndWhite)\n",
    "\n",
    "#plot_assessments(labels, mf, cn=cn, layer_name='Ground truth', fill=0.4, legName='Ground Truth')\n",
    "\n",
    "plot_assessments(nodes.to_crs({'init':crs}).dropna(), mf, names = True, layer_name='Train Locations', legName='Training Nodes', classes=sorted([x for x in nodes.decision.unique() if str(x) != 'nan']), colors = ['green', 'red'] if nClasses==2 else None)\n",
    "\n",
    "\n",
    "\n",
    "import geopandas as gpd\n",
    "a = gpd.sjoin(initial, X_test, how='left', op='within').dropna(subset=[cn])\n",
    "summary = a.groupby(cn).size()\n",
    "equivTest=True\n",
    "if equivTest:\n",
    "    equiv = gpd.GeoDataFrame()\n",
    "    for i in summary.index.values:\n",
    "        equiv = equiv.append(a[a[cn] == i][0:min(summary)])\n",
    "    equiv = equiv.append(a[[np.isnan(x) for x in a[cn]]])\n",
    "    a = equiv.copy()\n",
    "a['prediction']=pred_clf\n",
    "#plot_assessments(a.to_crs({'init':crs}).dropna(), mf, cn='prediction', layer_name='Test Predictions', no_leg=True, classes=[x for x in a.prediction.unique() if str(x) != 'nan'], colors = ['green', 'red'] if nClasses==2 else None)\n",
    "\n",
    "from scipy.interpolate import griddata\n",
    "xi, yi = np.linspace(nodes.geometry.x.min(), nodes.geometry.x.max(), ngrid), np.linspace(nodes.geometry.y.min(), nodes.geometry.y.max(), ngrid)\n",
    "zi = griddata((nodes.geometry.x, nodes.geometry.y), (beliefs[:,0]-beliefs[:,1]+0.5), (xi[None, :], yi[:, None]), method='nearest')\n",
    "#cs = plt.contourf(xi, yi, zi, norm=matplotlib.colors.Normalize(vmin=zi.min(), vmax=zi.max()),levels=20)\n",
    "levs = math.floor((zi.max()-zi.min())/0.1)\n",
    "print(levs)\n",
    "cs = plt.contourf(xi, yi, zi, levels=levs-1, extend='both')\n",
    "plt.close() \n",
    "        \n",
    "# add contours as polygons\n",
    "# hardwired colors for now: these correspons to the 8-level default of matplotlib with an added orange color\n",
    "# add contours as polygons\n",
    "# hardwired colors for now: these correspons to the 8-level default of matplotlib with an added orange color\n",
    "# colors10 = [\"#ff0000\", \"#ff3232\", \"#ff6666\", \"#ff9999\", \"#ffcccc\", \"#ccf5cc\", \"#99eb99\", \"#66e166\", \"#32d732\",\"#00cd00\"]\n",
    "# colors20 = [\"#ff0000\",\"#ff0000\", \"#ff1919\", \"#ff3232\",\"#ff4c4c\", \"#ff6666\", \"#ff7f7f\", \"#ff9999\",\"#ffb2b2\", \"#ffcccc\",\"#ccf5cc\",\"#ccf5cc\",\"#ccf5cc\",\"#ccf5cc\",\"#ccf5cc\",\"#b2f0b2\", \"#99eb99\",\"#7fe67f\",\"#66e166\",\"#4cdc4c\",\"#32d732\",\"#19d219\",\"#00cd00\",\"#00cd00\"]\n",
    "#\"#ffe5e5\",\"#ffffff\",\"#e5fae5\"\n",
    "colorsRed = ['#e50000','#ff0000','#ff3232','#ff6666','#ff9999']\n",
    "#'#e5ffe5',\n",
    "colorsGreen = ['#b2f0b2','#99eb99','#66e166','#32d732','#00b800']\n",
    "colors=[]\n",
    "print(len(cs.allsegs))\n",
    "for i in range(math.floor(len(cs.allsegs)/2-6)-math.floor(((zi.max()-1-(0-zi.min()))/0.1)/2)): colors.append('#ff0000')\n",
    "colors += colorsRed\n",
    "colors += colorsGreen\n",
    "for i in range(math.ceil(len(cs.allsegs)/2-4)+math.floor(((zi.max()-1-(0-zi.min()))/0.1)/2)): colors.append('#32d732')\n",
    "allsegs, allkinds = cs.allsegs, cs.allkinds\n",
    "contourLayer = ipl.LayerGroup(name = 'Assessment Contours')\n",
    "for clev in range(len(cs.allsegs)):\n",
    "    kinds = None if allkinds is None else allkinds[clev]\n",
    "    segs = split_contours(allsegs[clev], kinds)\n",
    "    polygons = ipl.Polygon(\n",
    "                    locations=[p.tolist() for p in segs],\n",
    "                    # locations=segs[14].tolist(),\n",
    "                    color=colors[clev],\n",
    "                    weight=1,\n",
    "                    opacity=0.5,\n",
    "                    fill_color=colors[clev],\n",
    "                    fill_opacity=0.4,\n",
    "                    name='layer_name'\n",
    "    )\n",
    "    contourLayer.add_layer(polygons)\n",
    "\n",
    "mf.add_layer(contourLayer)\n",
    "\n",
    "#control = ipl.LayersControl(position='topright')\n",
    "\n",
    "leg = dict(zip([str(round(x-0.1,1))+'-'+str(round(x,1)) for x in np.linspace(1,0.1,10).tolist()],colorsRed+colorsGreen))\n",
    "l2 = ipl.LegendControl(leg, name='Damage Prob', position=\"topleft\")\n",
    "mf.add_control(l2)\n",
    "\n",
    "#mf.add_control(control)\n",
    "\n",
    "zoom_slider = ipw.IntSlider(description='Zoom level:', min=7, max=18, value=16)\n",
    "ipw.jslink((zoom_slider, 'value'), (mf, 'zoom'))\n",
    "# widget_control1 = ipl.WidgetControl(widget=zoom_slider, position='topright')\n",
    "# mf.add_control(widget_control1)\n",
    "# mf.add_control(ipl.FullScreenControl(position='topright'))\n",
    "mf.zoom_control = False\n",
    "mf\n"
   ]
  },
  {
   "cell_type": "code",
   "execution_count": 326,
   "id": "active-christopher",
   "metadata": {},
   "outputs": [
    {
     "name": "stdout",
     "output_type": "stream",
     "text": [
      "33\n"
     ]
    },
    {
     "data": {
      "application/vnd.jupyter.widget-view+json": {
       "model_id": "595013fe52864903bbb62cd28534ba80",
       "version_major": 2,
       "version_minor": 0
      },
      "text/plain": [
       "Map(center=[33.895621904536384, 35.51954984664918], controls=(AttributionControl(options=['position', 'prefix'…"
      ]
     },
     "metadata": {},
     "output_type": "display_data"
    }
   ],
   "source": [
    "# Visualise spatial results\n",
    "import plotting as pl\n",
    "for i in plots.keys(): globals()[i] = plots[i] # Retrieve variables to use\n",
    "from ipyleaflet import LayersControl\n",
    "import ipywidgets as ipw\n",
    "from branca.colormap import linear\n",
    "import numpy as np\n",
    "import matplotlib.pyplot as plt\n",
    "import matplotlib.colors as clrs\n",
    "import math\n",
    "ngrid=100\n",
    "\n",
    "mf = pl.create_map(33.895621904536384, 35.51954984664918, 16, basemap=ipl.basemaps.OpenStreetMap.BlackAndWhite)\n",
    "\n",
    "plot_assessments(labels, mf, cn=cn, layer_name='Ground truth', fill=0.3, legName='Ground Truth',leg_pos='topleft')\n",
    "\n",
    "#plot_assessments(nodes.to_crs({'init':crs}).dropna(), mf, layer_name='Train Locations', no_leg=True, classes=sorted([x for x in nodes.decision.unique() if str(x) != 'nan']), colors = ['green', 'red'] if nClasses==2 else None)\n",
    "\n",
    "\n",
    "\n",
    "import geopandas as gpd\n",
    "a = gpd.sjoin(initial, X_test, how='left', op='within').dropna(subset=[cn])\n",
    "summary = a.groupby(cn).size()\n",
    "equivTest=True\n",
    "if equivTest:\n",
    "    equiv = gpd.GeoDataFrame()\n",
    "    for i in summary.index.values:\n",
    "        equiv = equiv.append(a[a[cn] == i][0:min(summary)])\n",
    "    equiv = equiv.append(a[[np.isnan(x) for x in a[cn]]])\n",
    "    a = equiv.copy()\n",
    "a['prediction']=pred_clf\n",
    "plot_assessments(a.to_crs({'init':crs}).dropna(), mf, cn='prediction', names=True, layer_name='Test Predictions', legName='Test Predictions', classes=[x for x in a.prediction.unique() if str(x) != 'nan'], colors = ['green', 'red'] if nClasses==2 else None)\n",
    "\n",
    "from scipy.interpolate import griddata\n",
    "xi, yi = np.linspace(nodes.geometry.x.min(), nodes.geometry.x.max(), ngrid), np.linspace(nodes.geometry.y.min(), nodes.geometry.y.max(), ngrid)\n",
    "zi = griddata((nodes.geometry.x, nodes.geometry.y), (beliefs[:,0]-beliefs[:,1]+0.5), (xi[None, :], yi[:, None]), method='nearest')\n",
    "#cs = plt.contourf(xi, yi, zi, norm=matplotlib.colors.Normalize(vmin=zi.min(), vmax=zi.max()),levels=20)\n",
    "levs = math.floor((zi.max()-zi.min())/0.1)\n",
    "print(levs)\n",
    "cs = plt.contourf(xi, yi, zi, levels=levs-1, extend='both')\n",
    "plt.close() \n",
    "        \n",
    "# add contours as polygons\n",
    "# hardwired colors for now: these correspons to the 8-level default of matplotlib with an added orange color\n",
    "# add contours as polygons\n",
    "# hardwired colors for now: these correspons to the 8-level default of matplotlib with an added orange color\n",
    "# colors10 = [\"#ff0000\", \"#ff3232\", \"#ff6666\", \"#ff9999\", \"#ffcccc\", \"#ccf5cc\", \"#99eb99\", \"#66e166\", \"#32d732\",\"#00cd00\"]\n",
    "# colors20 = [\"#ff0000\",\"#ff0000\", \"#ff1919\", \"#ff3232\",\"#ff4c4c\", \"#ff6666\", \"#ff7f7f\", \"#ff9999\",\"#ffb2b2\", \"#ffcccc\",\"#ccf5cc\",\"#ccf5cc\",\"#ccf5cc\",\"#ccf5cc\",\"#ccf5cc\",\"#b2f0b2\", \"#99eb99\",\"#7fe67f\",\"#66e166\",\"#4cdc4c\",\"#32d732\",\"#19d219\",\"#00cd00\",\"#00cd00\"]\n",
    "#\"#ffe5e5\",\"#ffffff\",\"#e5fae5\"\n",
    "# colorsRed = ['#e50000','#ff0000','#ff3232','#ff6666','#ff9999']\n",
    "# colorsGreen = ['#b2f0b2','#99eb99','#66e166','#32d732','#00b800']\n",
    "# colors=[]\n",
    "# print(len(cs.allsegs))\n",
    "# for i in range(math.floor(len(cs.allsegs)/2-5)-math.floor(((zi.max()-1-(0-zi.min()))/0.1)/2)): colors.append('#ff0000')\n",
    "# colors += colorsRed\n",
    "# colors += colorsGreen\n",
    "# for i in range(math.ceil(len(cs.allsegs)/2-5)+math.floor(((zi.max()-1-(0-zi.min()))/0.1)/2)): colors.append('#32d732')\n",
    "# allsegs, allkinds = cs.allsegs, cs.allkinds\n",
    "# contourLayer = ipl.LayerGroup(name = 'Assessment Contours')\n",
    "# for clev in range(len(cs.allsegs)):\n",
    "#     kinds = None if allkinds is None else allkinds[clev]\n",
    "#     segs = split_contours(allsegs[clev], kinds)\n",
    "#     polygons = ipl.Polygon(\n",
    "#                     locations=[p.tolist() for p in segs],\n",
    "#                     # locations=segs[14].tolist(),\n",
    "#                     color=colors[clev],\n",
    "#                     weight=1,\n",
    "#                     opacity=0.5,\n",
    "#                     fill_color=colors[clev],\n",
    "#                     fill_opacity=0.4,\n",
    "#                     name='layer_name'\n",
    "#     )\n",
    "#     contourLayer.add_layer(polygons)\n",
    "\n",
    "# mf.add_layer(contourLayer)\n",
    "\n",
    "#control = ipl.LayersControl(position='topright')\n",
    "\n",
    "# leg = dict(zip([str(round(x-0.1,1))+'-'+str(round(x,1)) for x in np.linspace(1,0.1,10).tolist()],colorsRed+colorsGreen))\n",
    "# l2 = ipl.LegendControl(leg, name='Damage Prob', position=\"topleft\")\n",
    "# mf.add_control(l2)\n",
    "\n",
    "#mf.add_control(control)\n",
    "\n",
    "zoom_slider = ipw.IntSlider(description='Zoom level:', min=7, max=18, value=16)\n",
    "ipw.jslink((zoom_slider, 'value'), (mf, 'zoom'))\n",
    "# widget_control1 = ipl.WidgetControl(widget=zoom_slider, position='topright')\n",
    "# mf.add_control(widget_control1)\n",
    "# mf.add_control(ipl.FullScreenControl(position='topright'))\n",
    "mf.zoom_control = False\n",
    "#mf.set_bounds = ((33.892665219662625, 35.512082576751716),(33.89978958743299, 35.527875423431404))\n",
    "mf\n"
   ]
  },
  {
   "cell_type": "code",
   "execution_count": null,
   "id": "tutorial-mathematics",
   "metadata": {
    "jupyter": {
     "source_hidden": true
    }
   },
   "outputs": [],
   "source": [
    "# import imports as ip\n",
    "# def classify_data(v,seed=1):\n",
    "#     # Retrieve data from inputs\n",
    "#     for i in v.keys(): globals()[i] = v[i]\n",
    "#     max_nodes = bxNodes.trait_values()['children'][1].value\n",
    "#     nClasses = bxNClasses.trait_values()['children'][1].value\n",
    "#     classAssign = False if ('bxAssign' not in v) or (bxCluster.trait_values()['children'][1].value is True) else [list(i.value) for i in bxAssign.trait_values()['children']]\n",
    "#     classNames = False if 'bxClNames' not in v else [i.value for i in bxClNames.trait_values()['children']]\n",
    "\n",
    "#     # Sample data and create geodataframe\n",
    "#     print(\"------Data Sampling---------\")\n",
    "#     if max_nodes < 2: raise ValueError(\"Insufficient Nodes for belief propagation\")\n",
    "#     gdf = ip.get_sample_gdf(data, max_nodes, crs,seed=1)\n",
    "   \n",
    "#     print(\"------Data Classification---------\")\n",
    "    \n",
    "#     defClasses, labelsUsed, dataUsed = len(labels[cn].unique()), labels.to_crs(crs).copy(), gdf.copy() # Default classes from labels\n",
    "#     usedNames = labels[cn].unique() if nClasses==defClasses or nClasses is False else classNames\n",
    "#     initial = hf.init_beliefs(dataUsed, classes=nClasses, columns=usedNames, crs=crs) # Initial class value for each data pixel\n",
    "\n",
    "#     if not nClasses or nClasses == defClasses: \n",
    "#         nClasses = defClasses # If default classes used\n",
    "#         classesUsed = usedNames.copy()\n",
    "#     elif nClasses > defClasses: raise NameError('Cannot assign more classes than in original data') # If invalid input\n",
    "#     elif nClasses < defClasses: # Perform class grouping\n",
    "#         items = [item for sublist in classAssign for item in sublist] if classAssign is not False else False\n",
    "#         if (classAssign is False) or not any(classAssign) or (len(items) is not (len(set(items)))): # Perform clustering\n",
    "#             if classAssign is not False: print('Incorrect class assignment - Proceeding with clustering. Please assign a single class for each value.')\n",
    "#             # Assign labels to each pixel\n",
    "#             allPixels = hf.create_nodes(initial, labelsUsed[['geometry',cn]][labelsUsed.within(hf.get_polygon(testPoly, conv=True))])\n",
    "#             # Run PCA if set to True\n",
    "#             #X = hf.run_PCA(dataUsed[typesUsed[0]].values.transpose(), pcaComps).components_.transpose() if pca else dataUsed[typesUsed[0]]\n",
    "#             types = [item for sublist in typesUsed for item in sublist]\n",
    "#             X = dataUsed[types]\n",
    "#             # Run clustering\n",
    "#             meanCluster = True\n",
    "#             kmeans, clusterClasses, initLabels = hf.run_cluster(X.iloc[allPixels[cn].dropna().index].values.reshape(-1,len(types)), allPixels[cn].dropna(), meanCluster, nClasses)\n",
    "#             print('Clustered classes:{} , original classes:{}'.format(clusterClasses, initLabels))\n",
    "#             # Create groups of classes\n",
    "#             classesUsed = []\n",
    "#             for j in range(nClasses): classesUsed.append([initLabels[i] for i, x in enumerate(list(clusterClasses)) if x==j])\n",
    "        \n",
    "#         else:\n",
    "#             if len(set(items)) is not defClasses:\n",
    "#                 print('Not all labels have been assigned to class. Sampling data to include only labels selected.')\n",
    "#                 labelsUsed = labelsUsed.loc[labelsUsed[cn].isin(items)]\n",
    "#             classesUsed = classAssign\n",
    "#             #used = [i in flatten_list(classesUsed) for i in labelsUsed[cn]]\n",
    "#             initial = hf.init_beliefs(dataUsed, classes=nClasses, columns=usedNames, crs=crs)\n",
    "\n",
    "#         # Assign labels for each pixel after clustering\n",
    "#         labelsUsed[cn] = hf.group_classes(labelsUsed[cn], classesUsed)\n",
    "#     print(\"------Finished Data Classification---------\") \n",
    "\n",
    "#     # Update variables\n",
    "#     v.update({'max_nodes':max_nodes, 'nClasses':nClasses, 'classAssign':classAssign,'classNames':classNames, 'labelsUsed':labelsUsed,'initial':initial, 'usedNames':usedNames, 'classesUsed':classesUsed, 'dataUsed':dataUsed, 'X':X,'allPixels':allPixels})\n",
    "#     return v\n",
    "\n",
    "# import pandas as pd\n",
    "# types = [item for sublist in classified['typesUsed'] for item in sublist]\n",
    "\n",
    "# a = pd.DataFrame(classified['X'].iloc[classified['allPixels'][classified['cn']].dropna().index].values.reshape(-1,len(types)))\n",
    "# #a['label']=classified['allPixels'][classified['cn']].values.reshape(-1,1)\n",
    "# a.groupby(['label']).mean().values"
   ]
  },
  {
   "cell_type": "code",
   "execution_count": 31,
   "id": "military-desire",
   "metadata": {
    "jupyter": {
     "source_hidden": true
    }
   },
   "outputs": [
    {
     "data": {
      "application/vnd.jupyter.widget-view+json": {
       "model_id": "445f79a9daac4bdab8e9a930f41ff6fb",
       "version_major": 2,
       "version_minor": 0
      },
      "text/plain": [
       "Map(center=[33.893, 35.512], controls=(ZoomControl(options=['position', 'zoom_in_text', 'zoom_in_title', 'zoom…"
      ]
     },
     "metadata": {},
     "output_type": "display_data"
    }
   ],
   "source": [
    "# Visualise spatial results\n",
    "import plotting as pl\n",
    "for i in plots.keys(): globals()[i] = plots[i] # Retrieve variables to use\n",
    "from ipyleaflet import LayersControl\n",
    "import ipywidgets as ipw\n",
    "\n",
    "mf = pl.create_map(lat, lon, zoom, basemap=ipl.basemaps.OpenStreetMap.BlackAndWhite)\n",
    "\n",
    "plot_assessments(labels, mf, cn=cn, layer_name='Ground truth', fill=0.1)\n",
    "\n",
    "plot_assessments(nodes.to_crs({'init':crs}).dropna(), mf, layer_name='Train Locations', no_leg=True)\n",
    "\n",
    "import geopandas as gpd\n",
    "a = gpd.sjoin(initial, X_test, how='left', op='within').dropna(subset=[cn])\n",
    "a['prediction']=pred_clf\n",
    "plot_assessments(a.to_crs({'init':crs}).dropna(), mf, cn='prediction', layer_name='Test Predictions', no_leg=True)\n",
    "\n",
    "control = ipl.LayersControl(position='topright')\n",
    "\n",
    "mf.add_control(control)\n",
    "\n",
    "zoom_slider = ipw.IntSlider(description='Zoom level:', min=7, max=18, value=14)\n",
    "ipw.jslink((zoom_slider, 'value'), (mf, 'zoom'))\n",
    "widget_control1 = ipl.WidgetControl(widget=zoom_slider, position='topright')\n",
    "mf.add_control(widget_control1)\n",
    "mf.add_control(ipl.FullScreenControl())\n",
    "mf"
   ]
  }
 ],
 "metadata": {
  "kernelspec": {
   "display_name": "Python 3",
   "language": "python",
   "name": "python3"
  },
  "language_info": {
   "codemirror_mode": {
    "name": "ipython",
    "version": 3
   },
   "file_extension": ".py",
   "mimetype": "text/x-python",
   "name": "python",
   "nbconvert_exporter": "python",
   "pygments_lexer": "ipython3",
   "version": "3.7.10"
  }
 },
 "nbformat": 4,
 "nbformat_minor": 5
}
