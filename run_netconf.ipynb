{
 "cells": [
  {
   "cell_type": "markdown",
   "id": "manufactured-measurement",
   "metadata": {},
   "source": [
    "# Notebook evaluating metrics for particular node/edge configuration"
   ]
  },
  {
   "cell_type": "code",
   "execution_count": null,
   "id": "optimum-headset",
   "metadata": {},
   "outputs": [],
   "source": [
    "# Imprt helper functions\n",
    "# If new server on Descartes Labs, need to install rioxarray \n",
    "try: import rioxarray\n",
    "except: \n",
    "    %pip install rioxarray\n",
    "    \n",
    "# Import helper functions\n",
    "import helper_functions as hf\n",
    "import netconf.netconf as nc"
   ]
  },
  {
   "cell_type": "code",
   "execution_count": 2,
   "id": "designing-being",
   "metadata": {},
   "outputs": [],
   "source": [
    "# Define variables\n",
    "# Location variables\n",
    "lat, lon, zoom = 33.893, 35.512, 14 # Map properties\n",
    "\n",
    "# Building Footprints, damade assessments and interferogram file paths\n",
    "buildingFile = \"./data/beirutBuildingFootprints.geojson\" # OSM data\n",
    "assessmentFile = \"./data/geopalData.csv\" # GeoPal data\n",
    "ifgPreFile = \"./data/beirutPrePreExplosionIfg.tif\" # SNAP output 1\n",
    "ifgPostFile = \"./data/beirutPrePostExplosionIfg.tif\" # SNAP output 2\n",
    "ifgBoth = True # If false, only uses prePost rather than difference between two\n",
    "\n",
    "# A priori damage beliefs (green, yellow, red decisions)\n",
    "decisions = {'GREEN (inspected) أخضر (تم دراسته)': False, 'YELLOW (restricted use) أصفر (لا يصلح للسكن)': True, 'RED (unsafe/evacuate) أحمر (غير آمن/للاخلاء)ء': True}\n",
    "confidence = [0,0.9,1]\n",
    "\n",
    "# Edge creation\n",
    "adjacent, ifgValues, neighbours = True, True, 5\n",
    "\n",
    "# Train/test split\n",
    "testSplit, dmgThresh, stdTest, randomState = 0.3, 0.5, False, 42\n",
    "\n",
    "# Classifications\n",
    "targets = ['Undamaged', 'Damaged']"
   ]
  },
  {
   "cell_type": "code",
   "execution_count": 3,
   "id": "failing-customs",
   "metadata": {},
   "outputs": [
    {
     "data": {
      "application/vnd.jupyter.widget-view+json": {
       "model_id": "4a4aa05710214b64888d5afeb632136c",
       "version_major": 2,
       "version_minor": 0
      },
      "text/plain": [
       "Map(center=[33.893, 35.512], controls=(ZoomControl(options=['position', 'zoom_in_text', 'zoom_in_title', 'zoom…"
      ]
     },
     "metadata": {},
     "output_type": "display_data"
    }
   ],
   "source": [
    "## Import Ground Data and combine\n",
    "# Import footprints geojson\n",
    "footprints = hf.import_OSM_fps(buildingFile)\n",
    "\n",
    "# Import GeoPal assessments\n",
    "assessments = hf.import_located_geopal_data(assessmentFile)\n",
    "\n",
    "# Get joint geodataframe of building footprints with damage assessments\n",
    "joint = hf.join_gdfs(footprints, assessments, column='decision')\n",
    "\n",
    "# Display map of assessments upon which to draw Polygon for analysis\n",
    "m1 = hf.create_map(lat, lon, zoom)\n",
    "m1 = hf.plot_assessments(joint, m1)\n",
    "m1, testPoly = hf.draw_polygon(joint, m1, stdTest)\n",
    "m1"
   ]
  },
  {
   "cell_type": "code",
   "execution_count": 4,
   "id": "prerequisite-lighter",
   "metadata": {},
   "outputs": [],
   "source": [
    "# Import interferogram to dataframe\n",
    "ifg, poly = hf.ifg_to_df(ifgPostFile, testPoly)\n",
    "\n",
    "# If using both interferograms then subtract phase of second from first to get differecne\n",
    "if ifgBoth: \n",
    "    ifgPre, _ = hf.ifg_to_df(ifgPreFile, testPoly)\n",
    "    ifg = ifgPre-ifg\n",
    "\n",
    "# Initialise beliefs for each pixel\n",
    "initial = hf.init_beliefs(ifg, columns=['noDmg','dmg','ifg'])\n",
    "\n",
    "# Split train/test set for located nodes\n",
    "X_train, X_test, y_train, y_test = hf.train_test_split(joint, poly, column = 'decision')\n",
    "\n",
    "# Create nodes\n",
    "nodes = hf.create_nodes(initial, X_train)\n",
    "\n",
    "# Assign prior beliefs from assessments\n",
    "priors = hf.prior_beliefs(nodes, decisions, confidence, column = 'decision', beliefColumns = ['noDmg', 'dmg'])\n",
    "\n",
    "# Create edges\n",
    "edges = hf.create_edges(nodes, adjacent=adjacent, values=['ifg'] if ifgValues else False, neighbours=[neighbours])"
   ]
  },
  {
   "cell_type": "code",
   "execution_count": 5,
   "id": "demonstrated-store",
   "metadata": {},
   "outputs": [
    {
     "name": "stdout",
     "output_type": "stream",
     "text": [
      "Nodes: 67210, Edges: 403259\n",
      "It\tmax{del(B)}\tdel(label)\n",
      "\n",
      "0\t5.06328e-01\t\t275\n",
      "\n",
      "1\t1.76812e-01\t\t494\n",
      "\n",
      "2\t1.06698e-01\t\t253\n",
      "\n",
      "3\t4.48114e-02\t\t30\n",
      "\n",
      "4\t2.35128e-02\t\t17\n",
      "\n",
      "5\t1.05621e-02\t\t11\n",
      "\n",
      "6\t5.24035e-03\t\t6\n",
      "\n",
      "7\t2.42447e-03\t\t2\n",
      "\n",
      "8\t1.17379e-03\t\t0\n",
      "\n",
      "9\t5.50463e-04\t\t0\n",
      "\n",
      "10\t2.63589e-04\t\t0\n",
      "\n",
      "11\t1.24391e-04\t\t0\n",
      "\n",
      "12\t5.92688e-05\t\t0\n",
      "\n",
      "Time elapsed: 131.9132034778595\n"
     ]
    }
   ],
   "source": [
    "# Run belief propagation\n",
    "beliefs, _ = nc.netconf(edges,priors,verbose=True)"
   ]
  },
  {
   "cell_type": "code",
   "execution_count": 6,
   "id": "configured-arctic",
   "metadata": {},
   "outputs": [
    {
     "name": "stdout",
     "output_type": "stream",
     "text": [
      "              precision    recall  f1-score   support\n",
      "\n",
      "   Undamaged       0.95      0.97      0.96      1074\n",
      "     Damaged       0.09      0.05      0.06        58\n",
      "\n",
      "    accuracy                           0.92      1132\n",
      "   macro avg       0.52      0.51      0.51      1132\n",
      "weighted avg       0.91      0.92      0.91      1132\n",
      "\n"
     ]
    },
    {
     "data": {
      "image/png": "[encoded data removed]",
      "text/plain": [
       "<Figure size 1008x360 with 2 Axes>"
      ]
     },
     "metadata": {
      "needs_background": "light"
     },
     "output_type": "display_data"
    }
   ],
   "source": [
    "# Evaluation Metrics\n",
    "# Get y_true vs y_pred for test set\n",
    "y_true, y_pred = hf.get_labels(initial, X_test, beliefs, decisions, column='decision')\n",
    "\n",
    "# Classification metrics\n",
    "yp_clf, classes = hf.class_metrics(y_true, y_pred, targets, threshold=dmgThresh)\n",
    "\n",
    "fig, axs = hf.create_subplots(1,2, figsize=[14,5])\n",
    "# Confusion matrix\n",
    "axs = hf.confusion_matrix(axs, y_true, yp_clf, classes)\n",
    "  \n",
    "# Cross entropy / Confidence metrics\n",
    "axs = hf.cross_entropy_metrics(axs, y_true, y_pred, classes, dmgThresh)\n",
    "\n",
    "hf.show_plot()"
   ]
  },
  {
   "cell_type": "code",
   "execution_count": 10,
   "id": "purple-offer",
   "metadata": {},
   "outputs": [],
   "source": [
    "# Save figure\n",
    "save_plot(fig, 'results/Beirut_adj{}_ifg{}{}'.format(str(adjacent),str(ifgValues),str(neighbours)))"
   ]
  }
 ],
 "metadata": {
  "kernelspec": {
   "display_name": "Python 3",
   "language": "python",
   "name": "python3"
  },
  "language_info": {
   "codemirror_mode": {
    "name": "ipython",
    "version": 3
   },
   "file_extension": ".py",
   "mimetype": "text/x-python",
   "name": "python",
   "nbconvert_exporter": "python",
   "pygments_lexer": "ipython3",
   "version": "3.7.10"
  }
 },
 "nbformat": 4,
 "nbformat_minor": 5
}
