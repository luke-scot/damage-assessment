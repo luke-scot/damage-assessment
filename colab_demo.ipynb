{
 "cells": [
  {
   "cell_type": "markdown",
   "id": "american-quick",
   "metadata": {
    "colab_type": "text",
    "id": "view-in-github"
   },
   "source": [
    "<a href=\"https://colab.research.google.com/github/luke-scot/damage-assessment/blob/netconf/colab_demo.ipynb\" target=\"_parent\"><img src=\"https://colab.research.google.com/assets/colab-badge.svg\" alt=\"Open In Colab\"/></a>"
   ]
  },
  {
   "cell_type": "markdown",
   "id": "unsigned-injury",
   "metadata": {
    "id": "skilled-healthcare"
   },
   "source": [
    "# Confidence-aware belief propagation for multimodal data\n",
    "This notebook runs a demonstration of the belief propagtion (BP) framework initially created for post-disaster damage assessment by Luke Cullen at the University of Cambridge. For development, please see the [Github repository](https://github.com/luke-scot/damage-assessment). Alternatively for further details the full report accompanying this project is available [here](https://drive.google.com/file/d/1IZ3B0m5FrPybTsKMUQ52ExvheMin9WdB/view?usp=sharing).\n",
    "\n",
    "To run each cell simply press Shift+Enter.\n",
    "\n",
    "## Setup\n",
    "Run the first cell to download the latest version of the demo functions."
   ]
  },
  {
   "cell_type": "code",
   "execution_count": 1,
   "id": "compliant-concentration",
   "metadata": {
    "id": "swedish-given"
   },
   "outputs": [],
   "source": [
    "# Clone repository\n",
    "# ! git clone https://github.com/luke-scot/damage-assessment.git\n",
    "# %cd damage-assessment\n",
    "\n",
    "# Install uncommon package\n",
    "#%pip install install rioxarray geopandas ipyleaflet gdown\n",
    "\n",
    "import interactions as it"
   ]
  },
  {
   "cell_type": "markdown",
   "id": "dress-evanescence",
   "metadata": {},
   "source": [
    "## Introduction to Damage Assessment application"
   ]
  },
  {
   "cell_type": "markdown",
   "id": "virgin-pound",
   "metadata": {},
   "source": [
    "In the immediate aftermath of a disaster, there are 2 priority tasks for recovery efforts:\n",
    "- Search & Rescue\n",
    "  - The area is sectorised according to prior knowledge including population density, building vulnerability.\n",
    "  - Sectors are prioritised for reconaissance missions according to intial reports of disaster effects.\n",
    "\n",
    "- Damage Assessment\n",
    "  - Buildings are classified to prevent further casualties from unsafe structures.\n",
    "  - Assessments are used to prioritise reconstruction and direct humanitarian aid.\n",
    "\n",
    "This project explores the possibility of using a novel belief propagation approach to rapidly assess infrastructure damage by combining multiple damage proxy datasets with initial structural assessments. The data extent and availability of remote sensing has led us to focus on satellite data. Rapid assessments with a just quantification of uncertainties could aid sector prioritisation for search and rescue efforts and help gain an initial understanding of damages to accelerate the benefits provided by damage assessment."
   ]
  },
  {
   "cell_type": "markdown",
   "id": "surprised-income",
   "metadata": {},
   "source": [
    "## What is Belief Propagation?"
   ]
  },
  {
   "cell_type": "markdown",
   "id": "varied-british",
   "metadata": {},
   "source": [
    "Before delving in to large-scale spatial applications, let's have a look at what BP is doing at an interpretable level.\n",
    "\n",
    "Run the first cell to download demo data."
   ]
  },
  {
   "cell_type": "code",
   "execution_count": 1,
   "id": "inappropriate-pittsburgh",
   "metadata": {},
   "outputs": [
    {
     "name": "stdout",
     "output_type": "stream",
     "text": [
      "mkdir: cannot create directory ‘data’: File exists\n",
      "Downloading...\n",
      "From: https://drive.google.com/uc?export=download&id=1z5lRknsjqyvE3IWiirWxSO-Qj-g9lE9Q\n",
      "To: /home/jovyan/damage-assessment/data/Beirut/beirut-data.zip\n",
      "875MB [00:09, 91.4MB/s] \n",
      "Archive:  beirut-data.zip\n",
      " extracting: GroundTruth/allDamages.cpg  \n",
      "  inflating: GroundTruth/allDamages.dbf  \n",
      "  inflating: GroundTruth/allDamages.prj  \n",
      "  inflating: GroundTruth/allDamages.shp  \n",
      "  inflating: GroundTruth/allDamages.shx  \n",
      "  inflating: HighResolution/20AUG05_HR_LatLon.tif  \n",
      "  inflating: HighResolution/20JUL31_HR_LatLon.tif  \n",
      "  inflating: InSAR/beirutPrePostExplosionIfg.tif  \n",
      "  inflating: InSAR/beirutPrePreExplosionIfg.tif  \n"
     ]
    }
   ],
   "source": [
    "! bash download_beirut.sh"
   ]
  },
  {
   "cell_type": "code",
   "execution_count": 2,
   "id": "suitable-feeling",
   "metadata": {
    "colab": {
     "referenced_widgets": [
      "1d4f6154ddea489c9cf06280aaae9471"
     ]
    },
    "id": "spanish-masters",
    "outputId": "5ff02a68-1f44-41f1-a143-1557ca3283aa"
   },
   "outputs": [
    {
     "data": {
      "application/vnd.jupyter.widget-view+json": {
       "model_id": "65bd47e1ded14918b82c018bad0fded3",
       "version_major": 2,
       "version_minor": 0
      },
      "text/plain": [
       "Box(children=(Label(value='Please select default inputs: '), Dropdown(layout=Layout(width='max-content'), opti…"
      ]
     },
     "metadata": {},
     "output_type": "display_data"
    }
   ],
   "source": [
    "defaults = it.get_defaults()"
   ]
  },
  {
   "cell_type": "code",
   "execution_count": 3,
   "id": "confirmed-stock",
   "metadata": {
    "colab": {
     "referenced_widgets": [
      "fade8d5124634a20aa89731155ac0232",
      "b6336a49aa154a928314717bad5d557d",
      "505146a94d2e4172b9d16504a68ba6d9",
      "135df484144e4b259415b6d25b1cf7e6",
      "15bd3a4174c14710b5ab7b4a495d96be",
      "5d909fd9816a43e5a36b02939a9c3fe9",
      "c18d6e92aec7407baa9d7ecdd49272d3",
      "8a4c2824ce9b4898999dd1fcbbb60129",
      "c3ca86aefed9476cbad8012d542792af",
      "ef334ff67d434f2981f4206f574e9cc7"
     ]
    },
    "id": "inside-montana",
    "outputId": "2c911378-77a1-4e1b-d66e-e20332cb5c68"
   },
   "outputs": [
    {
     "data": {
      "application/vnd.jupyter.widget-view+json": {
       "model_id": "0a40e75bff2c44349f2076a9c392c5da",
       "version_major": 2,
       "version_minor": 0
      },
      "text/plain": [
       "HTML(value='<b>Label parameters</b>')"
      ]
     },
     "metadata": {},
     "output_type": "display_data"
    },
    {
     "data": {
      "application/vnd.jupyter.widget-view+json": {
       "model_id": "f5658ae755d04ae09a65eed8fda6155d",
       "version_major": 2,
       "version_minor": 0
      },
      "text/plain": [
       "Box(children=(Label(value='Ground truth: Shapefile - '), Text(value='./data/Beirut/GroundTruth/allDamages.shp'…"
      ]
     },
     "metadata": {},
     "output_type": "display_data"
    },
    {
     "data": {
      "application/vnd.jupyter.widget-view+json": {
       "model_id": "24881ce0c4dd4314ba832b0bd19c297d",
       "version_major": 2,
       "version_minor": 0
      },
      "text/plain": [
       "Box(children=(Label(value='Label column - '), Text(value='decision', layout=Layout(width='max-content'), place…"
      ]
     },
     "metadata": {},
     "output_type": "display_data"
    },
    {
     "data": {
      "application/vnd.jupyter.widget-view+json": {
       "model_id": "c403f0892b174ee0a2f4016d24e8bed8",
       "version_major": 2,
       "version_minor": 0
      },
      "text/plain": [
       "Box(children=(Label(value='Label confidence ($P_{other label}$, $P_{class}$)'), FloatRangeSlider(value=(0.0, 1…"
      ]
     },
     "metadata": {},
     "output_type": "display_data"
    },
    {
     "data": {
      "application/vnd.jupyter.widget-view+json": {
       "model_id": "8879986d4e874fbfbc0b06e25e546076",
       "version_major": 2,
       "version_minor": 0
      },
      "text/plain": [
       "HTML(value='<b>Map properties</b>')"
      ]
     },
     "metadata": {},
     "output_type": "display_data"
    },
    {
     "data": {
      "application/vnd.jupyter.widget-view+json": {
       "model_id": "b92dccec6c14443fa43dba7f769a0093",
       "version_major": 2,
       "version_minor": 0
      },
      "text/plain": [
       "Box(children=(Label(value='Latitude - '), FloatText(value=33.893, layout=Layout(width='max-content')), Label(v…"
      ]
     },
     "metadata": {},
     "output_type": "display_data"
    },
    {
     "data": {
      "application/vnd.jupyter.widget-view+json": {
       "model_id": "16d98ccf3cd24e50b531b72b72afa433",
       "version_major": 2,
       "version_minor": 0
      },
      "text/plain": [
       "Box(children=(Label(value='Standard test area - '), Checkbox(value=False, indent=False)))"
      ]
     },
     "metadata": {},
     "output_type": "display_data"
    },
    {
     "data": {
      "application/vnd.jupyter.widget-view+json": {
       "model_id": "c7d64e92aaab44ffb6e444231f268052",
       "version_major": 2,
       "version_minor": 0
      },
      "text/plain": [
       "HTML(value='<b>Data Parameters</b>')"
      ]
     },
     "metadata": {},
     "output_type": "display_data"
    },
    {
     "data": {
      "application/vnd.jupyter.widget-view+json": {
       "model_id": "3a9496964c674c73bd7af79ac91eabe8",
       "version_major": 2,
       "version_minor": 0
      },
      "text/plain": [
       "Box(children=(Label(value='Enter Data Types:'), Combobox(value='High resolution imagery', layout=Layout(width=…"
      ]
     },
     "metadata": {},
     "output_type": "display_data"
    },
    {
     "data": {
      "application/vnd.jupyter.widget-view+json": {
       "model_id": "8a0fe1caead34d28b8ad6112c08a1317",
       "version_major": 2,
       "version_minor": 0
      },
      "text/plain": [
       "VBox(children=(Button(button_style='success', description='Confirm Types', icon='check', style=ButtonStyle(), …"
      ]
     },
     "metadata": {},
     "output_type": "display_data"
    }
   ],
   "source": [
    "inputs = it.input_parameters(defaults)"
   ]
  },
  {
   "cell_type": "code",
   "execution_count": 5,
   "id": "conditional-saudi",
   "metadata": {
    "colab": {
     "referenced_widgets": [
      "28ae10f796a34bb594915587623d3b58",
      "08e9f4d8082d4898923382b6297d5ea3",
      "c90440f72c6b414ba5dfe4222938ebdc",
      "18d9719874e04866b0c93bfc6de22e21",
      "97bf80b074d245f48cedf3b9780bfc41",
      "4b875c1cd9e34706bc9bba1a8816f361",
      "e0e618ea56c14afea93850d156540a70",
      "bf1aa4b81f8d465db635c6cfb7c2719a",
      "e3af6701be7d46a3a88d47d8a29e4070",
      "3570a953f84d45a791863a957b90064a",
      "8505b488ff0e4929a0662841d8617218"
     ]
    },
    "id": "difficult-version",
    "outputId": "8f293422-c363-445a-fbb2-0a5a245bf02e"
   },
   "outputs": [
    {
     "data": {
      "application/vnd.jupyter.widget-view+json": {
       "model_id": "ac1def908ded4831aa543c9644a3d4d0",
       "version_major": 2,
       "version_minor": 0
      },
      "text/plain": [
       "Map(center=[33.893, 35.512], controls=(ZoomControl(options=['position', 'zoom_in_text', 'zoom_in_title', 'zoom…"
      ]
     },
     "metadata": {},
     "output_type": "display_data"
    },
    {
     "data": {
      "application/vnd.jupyter.widget-view+json": {
       "model_id": "899d0446b44b49e59770bb9216f19ede",
       "version_major": 2,
       "version_minor": 0
      },
      "text/plain": [
       "HTML(value='<h3>Model Parameters</h3>')"
      ]
     },
     "metadata": {},
     "output_type": "display_data"
    },
    {
     "data": {
      "application/vnd.jupyter.widget-view+json": {
       "model_id": "e1dc52c339ad4ac0850475b45ea41551",
       "version_major": 2,
       "version_minor": 0
      },
      "text/plain": [
       "HTML(value='<b>Node Properties - Sampling occurs if max nodes < input nodes.</b>')"
      ]
     },
     "metadata": {},
     "output_type": "display_data"
    },
    {
     "data": {
      "application/vnd.jupyter.widget-view+json": {
       "model_id": "c81149ad59f44dd9ae5fb5098c0306dd",
       "version_major": 2,
       "version_minor": 0
      },
      "text/plain": [
       "Box(children=(Label(value='Max nodes - '), IntText(value=10000, layout=Layout(width='max-content'), step=1000)…"
      ]
     },
     "metadata": {},
     "output_type": "display_data"
    },
    {
     "data": {
      "application/vnd.jupyter.widget-view+json": {
       "model_id": "6bfe2a13d28e472caedfa7262a8c1bfb",
       "version_major": 2,
       "version_minor": 0
      },
      "text/plain": [
       "HTML(value='<b>Edge Properties - Number of neighbours each node is connected to according to input types.</b>'…"
      ]
     },
     "metadata": {},
     "output_type": "display_data"
    },
    {
     "data": {
      "application/vnd.jupyter.widget-view+json": {
       "model_id": "bb1fd12f86d94df59215850dfe6bfc27",
       "version_major": 2,
       "version_minor": 0
      },
      "text/plain": [
       "Box(children=(IntText(value=2, description='High - ', layout=Layout(width='max-content')), IntText(value=2, de…"
      ]
     },
     "metadata": {},
     "output_type": "display_data"
    },
    {
     "data": {
      "application/vnd.jupyter.widget-view+json": {
       "model_id": "f34aa6ca31964709a4acf0ff7b0e182a",
       "version_major": 2,
       "version_minor": 0
      },
      "text/plain": [
       "Box(children=(Label(value='Geographical Edges - '), Checkbox(value=False, indent=False, layout=Layout(width='m…"
      ]
     },
     "metadata": {},
     "output_type": "display_data"
    },
    {
     "data": {
      "application/vnd.jupyter.widget-view+json": {
       "model_id": "ad78eff1ee954919af383ca9e9e762db",
       "version_major": 2,
       "version_minor": 0
      },
      "text/plain": [
       "HTML(value='<b>Class Properties</b>')"
      ]
     },
     "metadata": {},
     "output_type": "display_data"
    },
    {
     "data": {
      "application/vnd.jupyter.widget-view+json": {
       "model_id": "7b033395791a4c0d92f8d3a65179b769",
       "version_major": 2,
       "version_minor": 0
      },
      "text/plain": [
       "HTML(value=\"Labels - ['GREEN' 'LAND' 'RED' 'TOTAL' 'YELLOW']\")"
      ]
     },
     "metadata": {},
     "output_type": "display_data"
    },
    {
     "data": {
      "application/vnd.jupyter.widget-view+json": {
       "model_id": "3a5611e3d15b44adb1d40bda1ca50dc2",
       "version_major": 2,
       "version_minor": 0
      },
      "text/plain": [
       "Box(children=(Label(value='Remove labels - '), Text(value='', layout=Layout(width='max-content'), placeholder=…"
      ]
     },
     "metadata": {},
     "output_type": "display_data"
    },
    {
     "data": {
      "application/vnd.jupyter.widget-view+json": {
       "model_id": "9ca9ee63a0fd4599bc352188e4a2d591",
       "version_major": 2,
       "version_minor": 0
      },
      "text/plain": [
       "Box(children=(Label(value='Classes for Model - '), Dropdown(index=3, options=(2, 3, 4, 5), value=5)))"
      ]
     },
     "metadata": {},
     "output_type": "display_data"
    },
    {
     "data": {
      "application/vnd.jupyter.widget-view+json": {
       "model_id": "7de59793b7c047acb4ec376102848e9b",
       "version_major": 2,
       "version_minor": 0
      },
      "text/plain": [
       "VBox(children=(Button(button_style='success', description='Confirm Classes', icon='check', style=ButtonStyle()…"
      ]
     },
     "metadata": {},
     "output_type": "display_data"
    }
   ],
   "source": [
    "parameters = it.model_parameters(inputs)"
   ]
  },
  {
   "cell_type": "code",
   "execution_count": 26,
   "id": "imposed-length",
   "metadata": {
    "id": "recovered-spice",
    "outputId": "b1a46596-e2b6-4c7a-815a-46fae51a58f6"
   },
   "outputs": [
    {
     "name": "stdout",
     "output_type": "stream",
     "text": [
      "------Checking Coordinate Systems-------\n",
      "------Finished Checking Coordinate Systems-------\n",
      "------Importing Data Files---------\n",
      "./data/Beirut/HighResolution/20AUG05_HR_LatLon.tif read completed.\n",
      "./data/Beirut/HighResolution/20JUL31_HR_LatLon.tif read completed.\n"
     ]
    },
    {
     "name": "stderr",
     "output_type": "stream",
     "text": [
      "/opt/conda/lib/python3.7/site-packages/IPython/core/async_helpers.py:68: SerializationWarning: saving variable None with floating point data as an integer dtype without any _FillValue to use for NaNs\n",
      "  coro.send(None)\n"
     ]
    },
    {
     "name": "stdout",
     "output_type": "stream",
     "text": [
      "./data/Beirut/InSAR/beirutPrePostExplosionIfg.tif read completed.\n",
      "./data/Beirut/InSAR/beirutPrePreExplosionIfg.tif read completed.\n",
      "------Finished Importing Files---------\n"
     ]
    }
   ],
   "source": [
    "imports = it.import_data(parameters)"
   ]
  },
  {
   "cell_type": "code",
   "execution_count": 27,
   "id": "suspected-cheese",
   "metadata": {
    "id": "aquatic-cigarette",
    "outputId": "072eef1a-e25f-4c16-edff-2a1694106d6f"
   },
   "outputs": [
    {
     "name": "stdout",
     "output_type": "stream",
     "text": [
      "------Data Sampling---------\n",
      "------Data Classification---------\n",
      "Clustered classes:[2 0 1 2 0] , original classes:['GREEN', 'LAND', 'RED', 'TOTAL', 'YELLOW']\n",
      "------Finished Data Classification---------\n"
     ]
    },
    {
     "data": {
      "application/vnd.jupyter.widget-view+json": {
       "model_id": "ff4378c82f0d4187a949a12e77607bca",
       "version_major": 2,
       "version_minor": 0
      },
      "text/plain": [
       "Box(children=(Label(value='Balance classes - '), Checkbox(value=False, indent=False)))"
      ]
     },
     "metadata": {},
     "output_type": "display_data"
    },
    {
     "data": {
      "application/vnd.jupyter.widget-view+json": {
       "model_id": "54bd93953e1648f684714760951eceeb",
       "version_major": 2,
       "version_minor": 0
      },
      "text/plain": [
       "Box(children=(Label(value='Loss function limit (logarithmic) - '), FloatLogSlider(value=1e-15, max=0.0, min=-1…"
      ]
     },
     "metadata": {},
     "output_type": "display_data"
    }
   ],
   "source": [
    "classified = it.classify_data(imports)"
   ]
  },
  {
   "cell_type": "code",
   "execution_count": 28,
   "id": "serial-discussion",
   "metadata": {
    "id": "british-compact",
    "outputId": "b20edc79-7b70-440b-ffaf-97fe20258cec"
   },
   "outputs": [
    {
     "name": "stdout",
     "output_type": "stream",
     "text": [
      "Nodes: 10000, Edges: 38970\n",
      "It\tLoss\tLabel change\n",
      "\n",
      "0\t4.96500e-01\t\t4557\n",
      "\n",
      "1\t2.30722e-01\t\t1943\n",
      "\n",
      "2\t1.05953e-01\t\t502\n",
      "\n",
      "3\t4.90479e-02\t\t61\n",
      "\n",
      "4\t2.23610e-02\t\t43\n",
      "\n",
      "5\t1.04303e-02\t\t15\n",
      "\n",
      "6\t4.62859e-03\t\t8\n",
      "\n",
      "7\t2.21322e-03\t\t5\n",
      "\n",
      "8\t9.52647e-04\t\t0\n",
      "\n",
      "9\t4.67656e-04\t\t0\n",
      "\n",
      "10\t1.99767e-04\t\t1\n",
      "\n",
      "11\t9.84051e-05\t\t0\n",
      "\n",
      "12\t4.24705e-05\t\t0\n",
      "\n",
      "13\t2.06343e-05\t\t0\n",
      "\n",
      "14\t8.97388e-06\t\t0\n",
      "\n",
      "15\t4.31476e-06\t\t0\n",
      "\n",
      "16\t1.88780e-06\t\t0\n",
      "\n",
      "17\t9.00301e-07\t\t0\n",
      "\n",
      "18\t3.95838e-07\t\t0\n",
      "\n",
      "19\t1.87542e-07\t\t0\n",
      "\n",
      "20\t8.27977e-08\t\t0\n",
      "\n",
      "21\t3.90168e-08\t\t0\n",
      "\n",
      "22\t1.72865e-08\t\t0\n",
      "\n",
      "23\t8.10925e-09\t\t0\n",
      "\n",
      "24\t3.60386e-09\t\t0\n",
      "\n",
      "25\t1.68416e-09\t\t0\n",
      "\n",
      "26\t7.50478e-10\t\t0\n",
      "\n",
      "27\t3.49571e-10\t\t0\n",
      "\n",
      "28\t1.56142e-10\t\t0\n",
      "\n",
      "29\t7.25267e-11\t\t0\n",
      "\n",
      "30\t3.24636e-11\t\t0\n",
      "\n",
      "31\t1.50424e-11\t\t0\n",
      "\n",
      "32\t6.74549e-12\t\t0\n",
      "\n",
      "33\t3.11906e-12\t\t0\n",
      "\n",
      "34\t1.40132e-12\t\t0\n",
      "\n",
      "35\t6.46594e-13\t\t0\n",
      "\n",
      "36\t2.90656e-13\t\t0\n",
      "\n",
      "37\t1.34115e-13\t\t0\n",
      "\n",
      "38\t6.01741e-14\t\t0\n",
      "\n",
      "39\t2.79776e-14\t\t0\n",
      "\n",
      "40\t1.26565e-14\t\t0\n",
      "\n",
      "41\t5.77316e-15\t\t0\n",
      "\n",
      "42\t2.66454e-15\t\t0\n",
      "\n",
      "43\t1.33227e-15\t\t0\n",
      "\n",
      "44\t6.66134e-16\t\t0\n",
      "\n",
      "Time elapsed: 11.41597843170166 seconds\n"
     ]
    }
   ],
   "source": [
    "output = it.run_bp(classified)"
   ]
  },
  {
   "cell_type": "code",
   "execution_count": 29,
   "id": "unexpected-stroke",
   "metadata": {
    "id": "satisfied-marketplace",
    "outputId": "d2f31c7c-d54b-48f4-9d0a-7132e4e11f86"
   },
   "outputs": [
    {
     "name": "stdout",
     "output_type": "stream",
     "text": [
      "              precision    recall  f1-score   support\n",
      "\n",
      "         cl0       0.33      0.31      0.32       616\n",
      "         cl1       0.13      0.08      0.10       152\n",
      "         cl2       0.63      0.67      0.65      1211\n",
      "\n",
      "    accuracy                           0.51      1979\n",
      "   macro avg       0.36      0.35      0.36      1979\n",
      "weighted avg       0.50      0.51      0.50      1979\n",
      "\n"
     ]
    },
    {
     "data": {
      "image/png": "[encoded data removed]",
      "text/plain": [
       "<Figure size 864x360 with 2 Axes>"
      ]
     },
     "metadata": {
      "needs_background": "light"
     },
     "output_type": "display_data"
    }
   ],
   "source": [
    "plots = evaluate_output(output)"
   ]
  },
  {
   "cell_type": "code",
   "execution_count": null,
   "id": "comic-stanford",
   "metadata": {
    "id": "adjusted-southwest"
   },
   "outputs": [],
   "source": [
    "it.save_plot(plots, location='results/modelPerformance.png')"
   ]
  },
  {
   "cell_type": "code",
   "execution_count": 33,
   "id": "economic-elizabeth",
   "metadata": {
    "id": "martial-somalia",
    "outputId": "396567fe-058a-4ccf-81b7-8a817961d296"
   },
   "outputs": [
    {
     "name": "stdout",
     "output_type": "stream",
     "text": [
      "Not yet supported for more than two classes.\n"
     ]
    }
   ],
   "source": [
    "mapping = map_result(plots)"
   ]
  }
 ],
 "metadata": {
  "colab": {
   "include_colab_link": true,
   "name": "colab_demo.ipynb",
   "provenance": []
  },
  "kernelspec": {
   "display_name": "Python 3",
   "language": "python",
   "name": "python3"
  },
  "language_info": {
   "codemirror_mode": {
    "name": "ipython",
    "version": 3
   },
   "file_extension": ".py",
   "mimetype": "text/x-python",
   "name": "python",
   "nbconvert_exporter": "python",
   "pygments_lexer": "ipython3",
   "version": "3.7.10"
  }
 },
 "nbformat": 4,
 "nbformat_minor": 5
}
