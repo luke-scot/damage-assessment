{
<<<<<<< HEAD
 "cells": [
  {
   "cell_type": "markdown",
   "id": "american-quick",
   "metadata": {
    "colab_type": "text",
    "id": "view-in-github"
   },
   "source": [
    "<a href=\"https://colab.research.google.com/github/luke-scot/damage-assessment/blob/netconf/colab_demo.ipynb\" target=\"_parent\"><img src=\"https://colab.research.google.com/assets/colab-badge.svg\" alt=\"Open In Colab\"/></a>"
   ]
  },
  {
   "cell_type": "markdown",
   "id": "unsigned-injury",
   "metadata": {
    "id": "skilled-healthcare"
   },
   "source": [
    "# Confidence-aware belief propagation for multimodal data\n",
    "This notebook runs a demonstration of the belief propagtion (BP) framework initially created for post-disaster damage assessment by Luke Cullen at the University of Cambridge. For development, please see the [Github repository](https://github.com/luke-scot/damage-assessment). Alternatively for further details the full report accompanying this project is available [here](https://drive.google.com/file/d/1IZ3B0m5FrPybTsKMUQ52ExvheMin9WdB/view?usp=sharing).\n",
    "\n",
    "To run each cell simply press Shift+Enter.\n",
    "\n",
    "## Setup\n",
    "Run the first cell to download the latest version of the demo functions."
   ]
  },
  {
   "cell_type": "code",
   "execution_count": 1,
   "id": "compliant-concentration",
   "metadata": {
    "id": "swedish-given"
   },
   "outputs": [],
   "source": [
    "# Clone repository\n",
    "# ! git clone https://github.com/luke-scot/damage-assessment.git\n",
    "# %cd damage-assessment\n",
    "\n",
    "# Install uncommon package\n",
    "#%pip install install rioxarray geopandas ipyleaflet gdown\n",
    "\n",
    "import interactions as it"
   ]
  },
  {
   "cell_type": "markdown",
   "id": "dress-evanescence",
   "metadata": {},
   "source": [
    "## Introduction to Damage Assessment application"
   ]
  },
  {
   "cell_type": "markdown",
   "id": "virgin-pound",
   "metadata": {},
   "source": [
    "In the immediate aftermath of a disaster, there are 2 priority tasks for recovery efforts:\n",
    "- Search & Rescue\n",
    "  - The area is sectorised according to prior knowledge including population density, building vulnerability.\n",
    "  - Sectors are prioritised for reconaissance missions according to intial reports of disaster effects.\n",
    "\n",
    "- Damage Assessment\n",
    "  - Buildings are classified to prevent further casualties from unsafe structures.\n",
    "  - Assessments are used to prioritise reconstruction and direct humanitarian aid.\n",
    "\n",
    "This project explores the possibility of using a novel belief propagation approach to rapidly assess infrastructure damage by combining multiple damage proxy datasets with initial structural assessments. The data extent and availability of remote sensing has led us to focus on satellite data. Rapid assessments with a just quantification of uncertainties could aid sector prioritisation for search and rescue efforts and help gain an initial understanding of damages to accelerate the benefits provided by damage assessment."
   ]
  },
  {
   "cell_type": "markdown",
   "id": "surprised-income",
   "metadata": {},
   "source": [
    "## What is Belief Propagation?"
   ]
  },
  {
   "cell_type": "markdown",
   "id": "varied-british",
   "metadata": {},
   "source": [
    "Before delving in to large-scale spatial applications, let's have a look at what BP is doing at an interpretable level.\n",
    "\n",
    "Run the first cell to download demo data."
   ]
  },
  {
   "cell_type": "code",
   "execution_count": 1,
   "id": "inappropriate-pittsburgh",
   "metadata": {},
   "outputs": [
    {
     "name": "stdout",
     "output_type": "stream",
     "text": [
      "mkdir: cannot create directory ‘data’: File exists\n",
      "Downloading...\n",
      "From: https://drive.google.com/uc?export=download&id=1z5lRknsjqyvE3IWiirWxSO-Qj-g9lE9Q\n",
      "To: /home/jovyan/damage-assessment/data/Beirut/beirut-data.zip\n",
      "875MB [00:09, 91.4MB/s] \n",
      "Archive:  beirut-data.zip\n",
      " extracting: GroundTruth/allDamages.cpg  \n",
      "  inflating: GroundTruth/allDamages.dbf  \n",
      "  inflating: GroundTruth/allDamages.prj  \n",
      "  inflating: GroundTruth/allDamages.shp  \n",
      "  inflating: GroundTruth/allDamages.shx  \n",
      "  inflating: HighResolution/20AUG05_HR_LatLon.tif  \n",
      "  inflating: HighResolution/20JUL31_HR_LatLon.tif  \n",
      "  inflating: InSAR/beirutPrePostExplosionIfg.tif  \n",
      "  inflating: InSAR/beirutPrePreExplosionIfg.tif  \n"
     ]
    }
   ],
   "source": [
    "! bash download_beirut.sh"
   ]
  },
  {
   "cell_type": "code",
   "execution_count": 2,
   "id": "suitable-feeling",
   "metadata": {
    "colab": {
     "referenced_widgets": [
      "1d4f6154ddea489c9cf06280aaae9471"
     ]
=======
  "nbformat": 4,
  "nbformat_minor": 5,
  "metadata": {
    "colab": {
      "name": "colab_demo.ipynb",
      "provenance": [],
      "include_colab_link": true
    },
    "kernelspec": {
      "display_name": "Python 3",
      "language": "python",
      "name": "python3"
    },
    "language_info": {
      "codemirror_mode": {
        "name": "ipython",
        "version": 3
      },
      "file_extension": ".py",
      "mimetype": "text/x-python",
      "name": "python",
      "nbconvert_exporter": "python",
      "pygments_lexer": "ipython3",
      "version": "3.7.10"
    },
    "widgets": {
      "application/vnd.jupyter.widget-state+json": {
        "e2d9e5776e6c49d7bd2b5fae134ac472": {
          "model_module": "@jupyter-widgets/controls",
          "model_name": "BoxModel",
          "state": {
            "_view_name": "BoxView",
            "_dom_classes": [],
            "_model_name": "BoxModel",
            "_view_module": "@jupyter-widgets/controls",
            "_model_module_version": "1.5.0",
            "_view_count": null,
            "_view_module_version": "1.5.0",
            "box_style": "",
            "layout": "IPY_MODEL_1a66cc8f95af410692f13f15c75fa3d2",
            "_model_module": "@jupyter-widgets/controls",
            "children": [
              "IPY_MODEL_3aadbea9aecf4af788f464b14cac8c52",
              "IPY_MODEL_ce512aa119c44d35928fd4fbe06590bd"
            ]
          }
        },
        "1a66cc8f95af410692f13f15c75fa3d2": {
          "model_module": "@jupyter-widgets/base",
          "model_name": "LayoutModel",
          "state": {
            "_view_name": "LayoutView",
            "grid_template_rows": null,
            "right": null,
            "justify_content": null,
            "_view_module": "@jupyter-widgets/base",
            "overflow": null,
            "_model_module_version": "1.2.0",
            "_view_count": null,
            "flex_flow": null,
            "width": null,
            "min_width": null,
            "border": null,
            "align_items": null,
            "bottom": null,
            "_model_module": "@jupyter-widgets/base",
            "top": null,
            "grid_column": null,
            "overflow_y": null,
            "overflow_x": null,
            "grid_auto_flow": null,
            "grid_area": null,
            "grid_template_columns": null,
            "flex": null,
            "_model_name": "LayoutModel",
            "justify_items": null,
            "grid_row": null,
            "max_height": null,
            "align_content": null,
            "visibility": null,
            "align_self": null,
            "height": null,
            "min_height": null,
            "padding": null,
            "grid_auto_rows": null,
            "grid_gap": null,
            "max_width": null,
            "order": null,
            "_view_module_version": "1.2.0",
            "grid_template_areas": null,
            "object_position": null,
            "object_fit": null,
            "grid_auto_columns": null,
            "margin": null,
            "display": null,
            "left": null
          }
        },
        "3aadbea9aecf4af788f464b14cac8c52": {
          "model_module": "@jupyter-widgets/controls",
          "model_name": "LabelModel",
          "state": {
            "_view_name": "LabelView",
            "style": "IPY_MODEL_66b1702c8e7647bdbde2c81ebd270429",
            "_dom_classes": [],
            "description": "",
            "_model_name": "LabelModel",
            "placeholder": "​",
            "_view_module": "@jupyter-widgets/controls",
            "_model_module_version": "1.5.0",
            "value": "Please select default inputs: ",
            "_view_count": null,
            "_view_module_version": "1.5.0",
            "description_tooltip": null,
            "_model_module": "@jupyter-widgets/controls",
            "layout": "IPY_MODEL_5b6f132a86e24fec8d500a9aaff7be49"
          }
        },
        "ce512aa119c44d35928fd4fbe06590bd": {
          "model_module": "@jupyter-widgets/controls",
          "model_name": "DropdownModel",
          "state": {
            "_options_labels": [
              "Beirut damage assessment",
              "Houston land classification",
              "None"
            ],
            "_view_name": "DropdownView",
            "style": "IPY_MODEL_0a9d9b3fbc8f42038aff727339479269",
            "_dom_classes": [],
            "description": "",
            "_model_name": "DropdownModel",
            "index": 1,
            "_view_module": "@jupyter-widgets/controls",
            "_model_module_version": "1.5.0",
            "_view_count": null,
            "disabled": false,
            "_view_module_version": "1.5.0",
            "description_tooltip": null,
            "_model_module": "@jupyter-widgets/controls",
            "layout": "IPY_MODEL_00cb1be2ecad4a7d8796a8c9d0435832"
          }
        },
        "66b1702c8e7647bdbde2c81ebd270429": {
          "model_module": "@jupyter-widgets/controls",
          "model_name": "DescriptionStyleModel",
          "state": {
            "_view_name": "StyleView",
            "_model_name": "DescriptionStyleModel",
            "description_width": "",
            "_view_module": "@jupyter-widgets/base",
            "_model_module_version": "1.5.0",
            "_view_count": null,
            "_view_module_version": "1.2.0",
            "_model_module": "@jupyter-widgets/controls"
          }
        },
        "5b6f132a86e24fec8d500a9aaff7be49": {
          "model_module": "@jupyter-widgets/base",
          "model_name": "LayoutModel",
          "state": {
            "_view_name": "LayoutView",
            "grid_template_rows": null,
            "right": null,
            "justify_content": null,
            "_view_module": "@jupyter-widgets/base",
            "overflow": null,
            "_model_module_version": "1.2.0",
            "_view_count": null,
            "flex_flow": null,
            "width": null,
            "min_width": null,
            "border": null,
            "align_items": null,
            "bottom": null,
            "_model_module": "@jupyter-widgets/base",
            "top": null,
            "grid_column": null,
            "overflow_y": null,
            "overflow_x": null,
            "grid_auto_flow": null,
            "grid_area": null,
            "grid_template_columns": null,
            "flex": null,
            "_model_name": "LayoutModel",
            "justify_items": null,
            "grid_row": null,
            "max_height": null,
            "align_content": null,
            "visibility": null,
            "align_self": null,
            "height": null,
            "min_height": null,
            "padding": null,
            "grid_auto_rows": null,
            "grid_gap": null,
            "max_width": null,
            "order": null,
            "_view_module_version": "1.2.0",
            "grid_template_areas": null,
            "object_position": null,
            "object_fit": null,
            "grid_auto_columns": null,
            "margin": null,
            "display": null,
            "left": null
          }
        },
        "0a9d9b3fbc8f42038aff727339479269": {
          "model_module": "@jupyter-widgets/controls",
          "model_name": "DescriptionStyleModel",
          "state": {
            "_view_name": "StyleView",
            "_model_name": "DescriptionStyleModel",
            "description_width": "",
            "_view_module": "@jupyter-widgets/base",
            "_model_module_version": "1.5.0",
            "_view_count": null,
            "_view_module_version": "1.2.0",
            "_model_module": "@jupyter-widgets/controls"
          }
        },
        "00cb1be2ecad4a7d8796a8c9d0435832": {
          "model_module": "@jupyter-widgets/base",
          "model_name": "LayoutModel",
          "state": {
            "_view_name": "LayoutView",
            "grid_template_rows": null,
            "right": null,
            "justify_content": null,
            "_view_module": "@jupyter-widgets/base",
            "overflow": null,
            "_model_module_version": "1.2.0",
            "_view_count": null,
            "flex_flow": null,
            "width": "max-content",
            "min_width": null,
            "border": null,
            "align_items": null,
            "bottom": null,
            "_model_module": "@jupyter-widgets/base",
            "top": null,
            "grid_column": null,
            "overflow_y": null,
            "overflow_x": null,
            "grid_auto_flow": null,
            "grid_area": null,
            "grid_template_columns": null,
            "flex": null,
            "_model_name": "LayoutModel",
            "justify_items": null,
            "grid_row": null,
            "max_height": null,
            "align_content": null,
            "visibility": null,
            "align_self": null,
            "height": null,
            "min_height": null,
            "padding": null,
            "grid_auto_rows": null,
            "grid_gap": null,
            "max_width": null,
            "order": null,
            "_view_module_version": "1.2.0",
            "grid_template_areas": null,
            "object_position": null,
            "object_fit": null,
            "grid_auto_columns": null,
            "margin": null,
            "display": null,
            "left": null
          }
        },
        "910cce1a57dd4b38babfd75c22e1eb11": {
          "model_module": "@jupyter-widgets/controls",
          "model_name": "HTMLModel",
          "state": {
            "_view_name": "HTMLView",
            "style": "IPY_MODEL_e76755bc809440afa21bfde797249020",
            "_dom_classes": [],
            "description": "",
            "_model_name": "HTMLModel",
            "placeholder": "​",
            "_view_module": "@jupyter-widgets/controls",
            "_model_module_version": "1.5.0",
            "value": "<b>Label parameters</b>",
            "_view_count": null,
            "_view_module_version": "1.5.0",
            "description_tooltip": null,
            "_model_module": "@jupyter-widgets/controls",
            "layout": "IPY_MODEL_29a4cd049a734edbb7b7ac5e6aafefde"
          }
        },
        "e76755bc809440afa21bfde797249020": {
          "model_module": "@jupyter-widgets/controls",
          "model_name": "DescriptionStyleModel",
          "state": {
            "_view_name": "StyleView",
            "_model_name": "DescriptionStyleModel",
            "description_width": "",
            "_view_module": "@jupyter-widgets/base",
            "_model_module_version": "1.5.0",
            "_view_count": null,
            "_view_module_version": "1.2.0",
            "_model_module": "@jupyter-widgets/controls"
          }
        },
        "29a4cd049a734edbb7b7ac5e6aafefde": {
          "model_module": "@jupyter-widgets/base",
          "model_name": "LayoutModel",
          "state": {
            "_view_name": "LayoutView",
            "grid_template_rows": null,
            "right": null,
            "justify_content": null,
            "_view_module": "@jupyter-widgets/base",
            "overflow": null,
            "_model_module_version": "1.2.0",
            "_view_count": null,
            "flex_flow": null,
            "width": null,
            "min_width": null,
            "border": null,
            "align_items": null,
            "bottom": null,
            "_model_module": "@jupyter-widgets/base",
            "top": null,
            "grid_column": null,
            "overflow_y": null,
            "overflow_x": null,
            "grid_auto_flow": null,
            "grid_area": null,
            "grid_template_columns": null,
            "flex": null,
            "_model_name": "LayoutModel",
            "justify_items": null,
            "grid_row": null,
            "max_height": null,
            "align_content": null,
            "visibility": null,
            "align_self": null,
            "height": null,
            "min_height": null,
            "padding": null,
            "grid_auto_rows": null,
            "grid_gap": null,
            "max_width": null,
            "order": null,
            "_view_module_version": "1.2.0",
            "grid_template_areas": null,
            "object_position": null,
            "object_fit": null,
            "grid_auto_columns": null,
            "margin": null,
            "display": null,
            "left": null
          }
        },
        "de4e655bb952423ba8bf677480f9307d": {
          "model_module": "@jupyter-widgets/controls",
          "model_name": "BoxModel",
          "state": {
            "_view_name": "BoxView",
            "_dom_classes": [],
            "_model_name": "BoxModel",
            "_view_module": "@jupyter-widgets/controls",
            "_model_module_version": "1.5.0",
            "_view_count": null,
            "_view_module_version": "1.5.0",
            "box_style": "",
            "layout": "IPY_MODEL_acdc5ad490034661a47d685d9edb000d",
            "_model_module": "@jupyter-widgets/controls",
            "children": [
              "IPY_MODEL_9b8efc3b7ba2432e88d809cf7aac7001",
              "IPY_MODEL_3b35252454134f2d9fd34386fae7f6fa",
              "IPY_MODEL_7342b2abb34d457889b28b5431afd758",
              "IPY_MODEL_2ada2eab970143efb21d581c2f814097"
            ]
          }
        },
        "acdc5ad490034661a47d685d9edb000d": {
          "model_module": "@jupyter-widgets/base",
          "model_name": "LayoutModel",
          "state": {
            "_view_name": "LayoutView",
            "grid_template_rows": null,
            "right": null,
            "justify_content": null,
            "_view_module": "@jupyter-widgets/base",
            "overflow": null,
            "_model_module_version": "1.2.0",
            "_view_count": null,
            "flex_flow": null,
            "width": null,
            "min_width": null,
            "border": null,
            "align_items": null,
            "bottom": null,
            "_model_module": "@jupyter-widgets/base",
            "top": null,
            "grid_column": null,
            "overflow_y": null,
            "overflow_x": null,
            "grid_auto_flow": null,
            "grid_area": null,
            "grid_template_columns": null,
            "flex": null,
            "_model_name": "LayoutModel",
            "justify_items": null,
            "grid_row": null,
            "max_height": null,
            "align_content": null,
            "visibility": null,
            "align_self": null,
            "height": null,
            "min_height": null,
            "padding": null,
            "grid_auto_rows": null,
            "grid_gap": null,
            "max_width": null,
            "order": null,
            "_view_module_version": "1.2.0",
            "grid_template_areas": null,
            "object_position": null,
            "object_fit": null,
            "grid_auto_columns": null,
            "margin": null,
            "display": null,
            "left": null
          }
        },
        "9b8efc3b7ba2432e88d809cf7aac7001": {
          "model_module": "@jupyter-widgets/controls",
          "model_name": "LabelModel",
          "state": {
            "_view_name": "LabelView",
            "style": "IPY_MODEL_8302b4933d01437a9dc782ae6c40a4d9",
            "_dom_classes": [],
            "description": "",
            "_model_name": "LabelModel",
            "placeholder": "​",
            "_view_module": "@jupyter-widgets/controls",
            "_model_module_version": "1.5.0",
            "value": "Ground truth: Shapefile - ",
            "_view_count": null,
            "_view_module_version": "1.5.0",
            "description_tooltip": null,
            "_model_module": "@jupyter-widgets/controls",
            "layout": "IPY_MODEL_3b3019395abd4323a6c4ed506fa133ad"
          }
        },
        "3b35252454134f2d9fd34386fae7f6fa": {
          "model_module": "@jupyter-widgets/controls",
          "model_name": "TextModel",
          "state": {
            "_view_name": "TextView",
            "style": "IPY_MODEL_e784325974574ce5a3f6b8d1836bb9fd",
            "_dom_classes": [],
            "description": "",
            "_model_name": "TextModel",
            "placeholder": "groundtruth.shp",
            "_view_module": "@jupyter-widgets/controls",
            "_model_module_version": "1.5.0",
            "value": "./data/GroundTruth/2018_IEEE_GRSS_DFC_GT_TR.tif",
            "_view_count": null,
            "disabled": false,
            "_view_module_version": "1.5.0",
            "continuous_update": true,
            "description_tooltip": null,
            "_model_module": "@jupyter-widgets/controls",
            "layout": "IPY_MODEL_943e58b11fb54ef9be8c45a296e39ed9"
          }
        },
        "7342b2abb34d457889b28b5431afd758": {
          "model_module": "@jupyter-widgets/controls",
          "model_name": "LabelModel",
          "state": {
            "_view_name": "LabelView",
            "style": "IPY_MODEL_8aff80d853394f37953153168300439b",
            "_dom_classes": [],
            "description": "",
            "_model_name": "LabelModel",
            "placeholder": "​",
            "_view_module": "@jupyter-widgets/controls",
            "_model_module_version": "1.5.0",
            "value": "Coordinate system - ",
            "_view_count": null,
            "_view_module_version": "1.5.0",
            "description_tooltip": null,
            "_model_module": "@jupyter-widgets/controls",
            "layout": "IPY_MODEL_f304a5689a0647089be5e0829f229c25"
          }
        },
        "2ada2eab970143efb21d581c2f814097": {
          "model_module": "@jupyter-widgets/controls",
          "model_name": "TextModel",
          "state": {
            "_view_name": "TextView",
            "style": "IPY_MODEL_46bf8da189684246ac4d9540c7d113d8",
            "_dom_classes": [],
            "description": "",
            "_model_name": "TextModel",
            "placeholder": "EPSG:4326",
            "_view_module": "@jupyter-widgets/controls",
            "_model_module_version": "1.5.0",
            "value": "EPSG:26915",
            "_view_count": null,
            "disabled": false,
            "_view_module_version": "1.5.0",
            "continuous_update": true,
            "description_tooltip": null,
            "_model_module": "@jupyter-widgets/controls",
            "layout": "IPY_MODEL_3a446c063ceb413ba888decbb6e6b6df"
          }
        },
        "8302b4933d01437a9dc782ae6c40a4d9": {
          "model_module": "@jupyter-widgets/controls",
          "model_name": "DescriptionStyleModel",
          "state": {
            "_view_name": "StyleView",
            "_model_name": "DescriptionStyleModel",
            "description_width": "",
            "_view_module": "@jupyter-widgets/base",
            "_model_module_version": "1.5.0",
            "_view_count": null,
            "_view_module_version": "1.2.0",
            "_model_module": "@jupyter-widgets/controls"
          }
        },
        "3b3019395abd4323a6c4ed506fa133ad": {
          "model_module": "@jupyter-widgets/base",
          "model_name": "LayoutModel",
          "state": {
            "_view_name": "LayoutView",
            "grid_template_rows": null,
            "right": null,
            "justify_content": null,
            "_view_module": "@jupyter-widgets/base",
            "overflow": null,
            "_model_module_version": "1.2.0",
            "_view_count": null,
            "flex_flow": null,
            "width": null,
            "min_width": null,
            "border": null,
            "align_items": null,
            "bottom": null,
            "_model_module": "@jupyter-widgets/base",
            "top": null,
            "grid_column": null,
            "overflow_y": null,
            "overflow_x": null,
            "grid_auto_flow": null,
            "grid_area": null,
            "grid_template_columns": null,
            "flex": null,
            "_model_name": "LayoutModel",
            "justify_items": null,
            "grid_row": null,
            "max_height": null,
            "align_content": null,
            "visibility": null,
            "align_self": null,
            "height": null,
            "min_height": null,
            "padding": null,
            "grid_auto_rows": null,
            "grid_gap": null,
            "max_width": null,
            "order": null,
            "_view_module_version": "1.2.0",
            "grid_template_areas": null,
            "object_position": null,
            "object_fit": null,
            "grid_auto_columns": null,
            "margin": null,
            "display": null,
            "left": null
          }
        },
        "e784325974574ce5a3f6b8d1836bb9fd": {
          "model_module": "@jupyter-widgets/controls",
          "model_name": "DescriptionStyleModel",
          "state": {
            "_view_name": "StyleView",
            "_model_name": "DescriptionStyleModel",
            "description_width": "",
            "_view_module": "@jupyter-widgets/base",
            "_model_module_version": "1.5.0",
            "_view_count": null,
            "_view_module_version": "1.2.0",
            "_model_module": "@jupyter-widgets/controls"
          }
        },
        "943e58b11fb54ef9be8c45a296e39ed9": {
          "model_module": "@jupyter-widgets/base",
          "model_name": "LayoutModel",
          "state": {
            "_view_name": "LayoutView",
            "grid_template_rows": null,
            "right": null,
            "justify_content": null,
            "_view_module": "@jupyter-widgets/base",
            "overflow": null,
            "_model_module_version": "1.2.0",
            "_view_count": null,
            "flex_flow": null,
            "width": "max-content",
            "min_width": null,
            "border": null,
            "align_items": null,
            "bottom": null,
            "_model_module": "@jupyter-widgets/base",
            "top": null,
            "grid_column": null,
            "overflow_y": null,
            "overflow_x": null,
            "grid_auto_flow": null,
            "grid_area": null,
            "grid_template_columns": null,
            "flex": null,
            "_model_name": "LayoutModel",
            "justify_items": null,
            "grid_row": null,
            "max_height": null,
            "align_content": null,
            "visibility": null,
            "align_self": null,
            "height": null,
            "min_height": null,
            "padding": null,
            "grid_auto_rows": null,
            "grid_gap": null,
            "max_width": null,
            "order": null,
            "_view_module_version": "1.2.0",
            "grid_template_areas": null,
            "object_position": null,
            "object_fit": null,
            "grid_auto_columns": null,
            "margin": null,
            "display": null,
            "left": null
          }
        },
        "8aff80d853394f37953153168300439b": {
          "model_module": "@jupyter-widgets/controls",
          "model_name": "DescriptionStyleModel",
          "state": {
            "_view_name": "StyleView",
            "_model_name": "DescriptionStyleModel",
            "description_width": "",
            "_view_module": "@jupyter-widgets/base",
            "_model_module_version": "1.5.0",
            "_view_count": null,
            "_view_module_version": "1.2.0",
            "_model_module": "@jupyter-widgets/controls"
          }
        },
        "f304a5689a0647089be5e0829f229c25": {
          "model_module": "@jupyter-widgets/base",
          "model_name": "LayoutModel",
          "state": {
            "_view_name": "LayoutView",
            "grid_template_rows": null,
            "right": null,
            "justify_content": null,
            "_view_module": "@jupyter-widgets/base",
            "overflow": null,
            "_model_module_version": "1.2.0",
            "_view_count": null,
            "flex_flow": null,
            "width": null,
            "min_width": null,
            "border": null,
            "align_items": null,
            "bottom": null,
            "_model_module": "@jupyter-widgets/base",
            "top": null,
            "grid_column": null,
            "overflow_y": null,
            "overflow_x": null,
            "grid_auto_flow": null,
            "grid_area": null,
            "grid_template_columns": null,
            "flex": null,
            "_model_name": "LayoutModel",
            "justify_items": null,
            "grid_row": null,
            "max_height": null,
            "align_content": null,
            "visibility": null,
            "align_self": null,
            "height": null,
            "min_height": null,
            "padding": null,
            "grid_auto_rows": null,
            "grid_gap": null,
            "max_width": null,
            "order": null,
            "_view_module_version": "1.2.0",
            "grid_template_areas": null,
            "object_position": null,
            "object_fit": null,
            "grid_auto_columns": null,
            "margin": null,
            "display": null,
            "left": null
          }
        },
        "46bf8da189684246ac4d9540c7d113d8": {
          "model_module": "@jupyter-widgets/controls",
          "model_name": "DescriptionStyleModel",
          "state": {
            "_view_name": "StyleView",
            "_model_name": "DescriptionStyleModel",
            "description_width": "",
            "_view_module": "@jupyter-widgets/base",
            "_model_module_version": "1.5.0",
            "_view_count": null,
            "_view_module_version": "1.2.0",
            "_model_module": "@jupyter-widgets/controls"
          }
        },
        "3a446c063ceb413ba888decbb6e6b6df": {
          "model_module": "@jupyter-widgets/base",
          "model_name": "LayoutModel",
          "state": {
            "_view_name": "LayoutView",
            "grid_template_rows": null,
            "right": null,
            "justify_content": null,
            "_view_module": "@jupyter-widgets/base",
            "overflow": null,
            "_model_module_version": "1.2.0",
            "_view_count": null,
            "flex_flow": null,
            "width": "max-content",
            "min_width": null,
            "border": null,
            "align_items": null,
            "bottom": null,
            "_model_module": "@jupyter-widgets/base",
            "top": null,
            "grid_column": null,
            "overflow_y": null,
            "overflow_x": null,
            "grid_auto_flow": null,
            "grid_area": null,
            "grid_template_columns": null,
            "flex": null,
            "_model_name": "LayoutModel",
            "justify_items": null,
            "grid_row": null,
            "max_height": null,
            "align_content": null,
            "visibility": null,
            "align_self": null,
            "height": null,
            "min_height": null,
            "padding": null,
            "grid_auto_rows": null,
            "grid_gap": null,
            "max_width": null,
            "order": null,
            "_view_module_version": "1.2.0",
            "grid_template_areas": null,
            "object_position": null,
            "object_fit": null,
            "grid_auto_columns": null,
            "margin": null,
            "display": null,
            "left": null
          }
        },
        "12a2298e51f8452fbc27eb6b43013738": {
          "model_module": "@jupyter-widgets/controls",
          "model_name": "BoxModel",
          "state": {
            "_view_name": "BoxView",
            "_dom_classes": [],
            "_model_name": "BoxModel",
            "_view_module": "@jupyter-widgets/controls",
            "_model_module_version": "1.5.0",
            "_view_count": null,
            "_view_module_version": "1.5.0",
            "box_style": "",
            "layout": "IPY_MODEL_4120c275248c48cd8771219df9566710",
            "_model_module": "@jupyter-widgets/controls",
            "children": [
              "IPY_MODEL_57c0041e09f2472294161c76a445b882",
              "IPY_MODEL_2ce238243ede424589da13369ace50bd",
              "IPY_MODEL_966583914a6046439c36d4db64f3614e",
              "IPY_MODEL_c1f23376a0f54785b36e6b6f2c14e91b"
            ]
          }
        },
        "4120c275248c48cd8771219df9566710": {
          "model_module": "@jupyter-widgets/base",
          "model_name": "LayoutModel",
          "state": {
            "_view_name": "LayoutView",
            "grid_template_rows": null,
            "right": null,
            "justify_content": null,
            "_view_module": "@jupyter-widgets/base",
            "overflow": null,
            "_model_module_version": "1.2.0",
            "_view_count": null,
            "flex_flow": null,
            "width": null,
            "min_width": null,
            "border": null,
            "align_items": null,
            "bottom": null,
            "_model_module": "@jupyter-widgets/base",
            "top": null,
            "grid_column": null,
            "overflow_y": null,
            "overflow_x": null,
            "grid_auto_flow": null,
            "grid_area": null,
            "grid_template_columns": null,
            "flex": null,
            "_model_name": "LayoutModel",
            "justify_items": null,
            "grid_row": null,
            "max_height": null,
            "align_content": null,
            "visibility": null,
            "align_self": null,
            "height": null,
            "min_height": null,
            "padding": null,
            "grid_auto_rows": null,
            "grid_gap": null,
            "max_width": null,
            "order": null,
            "_view_module_version": "1.2.0",
            "grid_template_areas": null,
            "object_position": null,
            "object_fit": null,
            "grid_auto_columns": null,
            "margin": null,
            "display": null,
            "left": null
          }
        },
        "57c0041e09f2472294161c76a445b882": {
          "model_module": "@jupyter-widgets/controls",
          "model_name": "LabelModel",
          "state": {
            "_view_name": "LabelView",
            "style": "IPY_MODEL_b82c2274adb34529b7a977b5fd7754b1",
            "_dom_classes": [],
            "description": "",
            "_model_name": "LabelModel",
            "placeholder": "​",
            "_view_module": "@jupyter-widgets/controls",
            "_model_module_version": "1.5.0",
            "value": "Label column - ",
            "_view_count": null,
            "_view_module_version": "1.5.0",
            "description_tooltip": null,
            "_model_module": "@jupyter-widgets/controls",
            "layout": "IPY_MODEL_de4e96160580469c9180b6ba2b09a9cb"
          }
        },
        "2ce238243ede424589da13369ace50bd": {
          "model_module": "@jupyter-widgets/controls",
          "model_name": "TextModel",
          "state": {
            "_view_name": "TextView",
            "style": "IPY_MODEL_1427db8a0a7541259055d26b600c8fce",
            "_dom_classes": [],
            "description": "",
            "_model_name": "TextModel",
            "placeholder": "label column",
            "_view_module": "@jupyter-widgets/controls",
            "_model_module_version": "1.5.0",
            "value": "class",
            "_view_count": null,
            "disabled": false,
            "_view_module_version": "1.5.0",
            "continuous_update": true,
            "description_tooltip": null,
            "_model_module": "@jupyter-widgets/controls",
            "layout": "IPY_MODEL_2553edc604c64ae09c6f1daf9daee79a"
          }
        },
        "966583914a6046439c36d4db64f3614e": {
          "model_module": "@jupyter-widgets/controls",
          "model_name": "LabelModel",
          "state": {
            "_view_name": "LabelView",
            "style": "IPY_MODEL_667480edcfbc46f2a7054c5b32bb192b",
            "_dom_classes": [],
            "description": "",
            "_model_name": "LabelModel",
            "placeholder": "​",
            "_view_module": "@jupyter-widgets/controls",
            "_model_module_version": "1.5.0",
            "value": "First word only - ",
            "_view_count": null,
            "_view_module_version": "1.5.0",
            "description_tooltip": null,
            "_model_module": "@jupyter-widgets/controls",
            "layout": "IPY_MODEL_c4d017eeef674137894031e38b7ccdf7"
          }
        },
        "c1f23376a0f54785b36e6b6f2c14e91b": {
          "model_module": "@jupyter-widgets/controls",
          "model_name": "CheckboxModel",
          "state": {
            "_view_name": "CheckboxView",
            "style": "IPY_MODEL_1d2691963d604e818ff04d8987371cd9",
            "_dom_classes": [],
            "description": "",
            "_model_name": "CheckboxModel",
            "_view_module": "@jupyter-widgets/controls",
            "_model_module_version": "1.5.0",
            "value": false,
            "_view_count": null,
            "disabled": false,
            "_view_module_version": "1.5.0",
            "indent": false,
            "description_tooltip": null,
            "_model_module": "@jupyter-widgets/controls",
            "layout": "IPY_MODEL_d29615b1c32e47248e28c5df4d6a445e"
          }
        },
        "b82c2274adb34529b7a977b5fd7754b1": {
          "model_module": "@jupyter-widgets/controls",
          "model_name": "DescriptionStyleModel",
          "state": {
            "_view_name": "StyleView",
            "_model_name": "DescriptionStyleModel",
            "description_width": "",
            "_view_module": "@jupyter-widgets/base",
            "_model_module_version": "1.5.0",
            "_view_count": null,
            "_view_module_version": "1.2.0",
            "_model_module": "@jupyter-widgets/controls"
          }
        },
        "de4e96160580469c9180b6ba2b09a9cb": {
          "model_module": "@jupyter-widgets/base",
          "model_name": "LayoutModel",
          "state": {
            "_view_name": "LayoutView",
            "grid_template_rows": null,
            "right": null,
            "justify_content": null,
            "_view_module": "@jupyter-widgets/base",
            "overflow": null,
            "_model_module_version": "1.2.0",
            "_view_count": null,
            "flex_flow": null,
            "width": null,
            "min_width": null,
            "border": null,
            "align_items": null,
            "bottom": null,
            "_model_module": "@jupyter-widgets/base",
            "top": null,
            "grid_column": null,
            "overflow_y": null,
            "overflow_x": null,
            "grid_auto_flow": null,
            "grid_area": null,
            "grid_template_columns": null,
            "flex": null,
            "_model_name": "LayoutModel",
            "justify_items": null,
            "grid_row": null,
            "max_height": null,
            "align_content": null,
            "visibility": null,
            "align_self": null,
            "height": null,
            "min_height": null,
            "padding": null,
            "grid_auto_rows": null,
            "grid_gap": null,
            "max_width": null,
            "order": null,
            "_view_module_version": "1.2.0",
            "grid_template_areas": null,
            "object_position": null,
            "object_fit": null,
            "grid_auto_columns": null,
            "margin": null,
            "display": null,
            "left": null
          }
        },
        "1427db8a0a7541259055d26b600c8fce": {
          "model_module": "@jupyter-widgets/controls",
          "model_name": "DescriptionStyleModel",
          "state": {
            "_view_name": "StyleView",
            "_model_name": "DescriptionStyleModel",
            "description_width": "",
            "_view_module": "@jupyter-widgets/base",
            "_model_module_version": "1.5.0",
            "_view_count": null,
            "_view_module_version": "1.2.0",
            "_model_module": "@jupyter-widgets/controls"
          }
        },
        "2553edc604c64ae09c6f1daf9daee79a": {
          "model_module": "@jupyter-widgets/base",
          "model_name": "LayoutModel",
          "state": {
            "_view_name": "LayoutView",
            "grid_template_rows": null,
            "right": null,
            "justify_content": null,
            "_view_module": "@jupyter-widgets/base",
            "overflow": null,
            "_model_module_version": "1.2.0",
            "_view_count": null,
            "flex_flow": null,
            "width": "max-content",
            "min_width": null,
            "border": null,
            "align_items": null,
            "bottom": null,
            "_model_module": "@jupyter-widgets/base",
            "top": null,
            "grid_column": null,
            "overflow_y": null,
            "overflow_x": null,
            "grid_auto_flow": null,
            "grid_area": null,
            "grid_template_columns": null,
            "flex": null,
            "_model_name": "LayoutModel",
            "justify_items": null,
            "grid_row": null,
            "max_height": null,
            "align_content": null,
            "visibility": null,
            "align_self": null,
            "height": null,
            "min_height": null,
            "padding": null,
            "grid_auto_rows": null,
            "grid_gap": null,
            "max_width": null,
            "order": null,
            "_view_module_version": "1.2.0",
            "grid_template_areas": null,
            "object_position": null,
            "object_fit": null,
            "grid_auto_columns": null,
            "margin": null,
            "display": null,
            "left": null
          }
        },
        "667480edcfbc46f2a7054c5b32bb192b": {
          "model_module": "@jupyter-widgets/controls",
          "model_name": "DescriptionStyleModel",
          "state": {
            "_view_name": "StyleView",
            "_model_name": "DescriptionStyleModel",
            "description_width": "",
            "_view_module": "@jupyter-widgets/base",
            "_model_module_version": "1.5.0",
            "_view_count": null,
            "_view_module_version": "1.2.0",
            "_model_module": "@jupyter-widgets/controls"
          }
        },
        "c4d017eeef674137894031e38b7ccdf7": {
          "model_module": "@jupyter-widgets/base",
          "model_name": "LayoutModel",
          "state": {
            "_view_name": "LayoutView",
            "grid_template_rows": null,
            "right": null,
            "justify_content": null,
            "_view_module": "@jupyter-widgets/base",
            "overflow": null,
            "_model_module_version": "1.2.0",
            "_view_count": null,
            "flex_flow": null,
            "width": null,
            "min_width": null,
            "border": null,
            "align_items": null,
            "bottom": null,
            "_model_module": "@jupyter-widgets/base",
            "top": null,
            "grid_column": null,
            "overflow_y": null,
            "overflow_x": null,
            "grid_auto_flow": null,
            "grid_area": null,
            "grid_template_columns": null,
            "flex": null,
            "_model_name": "LayoutModel",
            "justify_items": null,
            "grid_row": null,
            "max_height": null,
            "align_content": null,
            "visibility": null,
            "align_self": null,
            "height": null,
            "min_height": null,
            "padding": null,
            "grid_auto_rows": null,
            "grid_gap": null,
            "max_width": null,
            "order": null,
            "_view_module_version": "1.2.0",
            "grid_template_areas": null,
            "object_position": null,
            "object_fit": null,
            "grid_auto_columns": null,
            "margin": null,
            "display": null,
            "left": null
          }
        },
        "1d2691963d604e818ff04d8987371cd9": {
          "model_module": "@jupyter-widgets/controls",
          "model_name": "DescriptionStyleModel",
          "state": {
            "_view_name": "StyleView",
            "_model_name": "DescriptionStyleModel",
            "description_width": "",
            "_view_module": "@jupyter-widgets/base",
            "_model_module_version": "1.5.0",
            "_view_count": null,
            "_view_module_version": "1.2.0",
            "_model_module": "@jupyter-widgets/controls"
          }
        },
        "d29615b1c32e47248e28c5df4d6a445e": {
          "model_module": "@jupyter-widgets/base",
          "model_name": "LayoutModel",
          "state": {
            "_view_name": "LayoutView",
            "grid_template_rows": null,
            "right": null,
            "justify_content": null,
            "_view_module": "@jupyter-widgets/base",
            "overflow": null,
            "_model_module_version": "1.2.0",
            "_view_count": null,
            "flex_flow": null,
            "width": null,
            "min_width": null,
            "border": null,
            "align_items": null,
            "bottom": null,
            "_model_module": "@jupyter-widgets/base",
            "top": null,
            "grid_column": null,
            "overflow_y": null,
            "overflow_x": null,
            "grid_auto_flow": null,
            "grid_area": null,
            "grid_template_columns": null,
            "flex": null,
            "_model_name": "LayoutModel",
            "justify_items": null,
            "grid_row": null,
            "max_height": null,
            "align_content": null,
            "visibility": null,
            "align_self": null,
            "height": null,
            "min_height": null,
            "padding": null,
            "grid_auto_rows": null,
            "grid_gap": null,
            "max_width": null,
            "order": null,
            "_view_module_version": "1.2.0",
            "grid_template_areas": null,
            "object_position": null,
            "object_fit": null,
            "grid_auto_columns": null,
            "margin": null,
            "display": null,
            "left": null
          }
        },
        "96ed3f9bf8da4dceac36f1dac7d7f068": {
          "model_module": "@jupyter-widgets/controls",
          "model_name": "BoxModel",
          "state": {
            "_view_name": "BoxView",
            "_dom_classes": [],
            "_model_name": "BoxModel",
            "_view_module": "@jupyter-widgets/controls",
            "_model_module_version": "1.5.0",
            "_view_count": null,
            "_view_module_version": "1.5.0",
            "box_style": "",
            "layout": "IPY_MODEL_da5b22a0489744e396e463ece63188e3",
            "_model_module": "@jupyter-widgets/controls",
            "children": [
              "IPY_MODEL_a30d244fc9d94fa1acd8b843e8513c37",
              "IPY_MODEL_4082d9fa61494eea84913090eeba3bae"
            ]
          }
        },
        "da5b22a0489744e396e463ece63188e3": {
          "model_module": "@jupyter-widgets/base",
          "model_name": "LayoutModel",
          "state": {
            "_view_name": "LayoutView",
            "grid_template_rows": null,
            "right": null,
            "justify_content": null,
            "_view_module": "@jupyter-widgets/base",
            "overflow": null,
            "_model_module_version": "1.2.0",
            "_view_count": null,
            "flex_flow": null,
            "width": null,
            "min_width": null,
            "border": null,
            "align_items": null,
            "bottom": null,
            "_model_module": "@jupyter-widgets/base",
            "top": null,
            "grid_column": null,
            "overflow_y": null,
            "overflow_x": null,
            "grid_auto_flow": null,
            "grid_area": null,
            "grid_template_columns": null,
            "flex": null,
            "_model_name": "LayoutModel",
            "justify_items": null,
            "grid_row": null,
            "max_height": null,
            "align_content": null,
            "visibility": null,
            "align_self": null,
            "height": null,
            "min_height": null,
            "padding": null,
            "grid_auto_rows": null,
            "grid_gap": null,
            "max_width": null,
            "order": null,
            "_view_module_version": "1.2.0",
            "grid_template_areas": null,
            "object_position": null,
            "object_fit": null,
            "grid_auto_columns": null,
            "margin": null,
            "display": null,
            "left": null
          }
        },
        "a30d244fc9d94fa1acd8b843e8513c37": {
          "model_module": "@jupyter-widgets/controls",
          "model_name": "LabelModel",
          "state": {
            "_view_name": "LabelView",
            "style": "IPY_MODEL_57ac3864810346729613497d6b00ffe7",
            "_dom_classes": [],
            "description": "",
            "_model_name": "LabelModel",
            "placeholder": "​",
            "_view_module": "@jupyter-widgets/controls",
            "_model_module_version": "1.5.0",
            "value": "Label confidence ($P_{other label}$, $P_{class}$)",
            "_view_count": null,
            "_view_module_version": "1.5.0",
            "description_tooltip": null,
            "_model_module": "@jupyter-widgets/controls",
            "layout": "IPY_MODEL_042fd9e364044ef989a06611a34a79d7"
          }
        },
        "4082d9fa61494eea84913090eeba3bae": {
          "model_module": "@jupyter-widgets/controls",
          "model_name": "FloatRangeSliderModel",
          "state": {
            "_view_name": "FloatRangeSliderView",
            "style": "IPY_MODEL_8e29f414b32f40afb15fbbba1f0019a2",
            "_dom_classes": [],
            "description": "",
            "step": 0.01,
            "_model_name": "FloatRangeSliderModel",
            "orientation": "horizontal",
            "max": 1,
            "_view_module": "@jupyter-widgets/controls",
            "_model_module_version": "1.5.0",
            "value": [
              0,
              1
            ],
            "_view_count": null,
            "disabled": false,
            "_view_module_version": "1.5.0",
            "min": 0,
            "continuous_update": true,
            "readout_format": ".2f",
            "description_tooltip": null,
            "readout": true,
            "_model_module": "@jupyter-widgets/controls",
            "layout": "IPY_MODEL_8262daef7df0497fb06fde36dd0848cd"
          }
        },
        "57ac3864810346729613497d6b00ffe7": {
          "model_module": "@jupyter-widgets/controls",
          "model_name": "DescriptionStyleModel",
          "state": {
            "_view_name": "StyleView",
            "_model_name": "DescriptionStyleModel",
            "description_width": "",
            "_view_module": "@jupyter-widgets/base",
            "_model_module_version": "1.5.0",
            "_view_count": null,
            "_view_module_version": "1.2.0",
            "_model_module": "@jupyter-widgets/controls"
          }
        },
        "042fd9e364044ef989a06611a34a79d7": {
          "model_module": "@jupyter-widgets/base",
          "model_name": "LayoutModel",
          "state": {
            "_view_name": "LayoutView",
            "grid_template_rows": null,
            "right": null,
            "justify_content": null,
            "_view_module": "@jupyter-widgets/base",
            "overflow": null,
            "_model_module_version": "1.2.0",
            "_view_count": null,
            "flex_flow": null,
            "width": null,
            "min_width": null,
            "border": null,
            "align_items": null,
            "bottom": null,
            "_model_module": "@jupyter-widgets/base",
            "top": null,
            "grid_column": null,
            "overflow_y": null,
            "overflow_x": null,
            "grid_auto_flow": null,
            "grid_area": null,
            "grid_template_columns": null,
            "flex": null,
            "_model_name": "LayoutModel",
            "justify_items": null,
            "grid_row": null,
            "max_height": null,
            "align_content": null,
            "visibility": null,
            "align_self": null,
            "height": null,
            "min_height": null,
            "padding": null,
            "grid_auto_rows": null,
            "grid_gap": null,
            "max_width": null,
            "order": null,
            "_view_module_version": "1.2.0",
            "grid_template_areas": null,
            "object_position": null,
            "object_fit": null,
            "grid_auto_columns": null,
            "margin": null,
            "display": null,
            "left": null
          }
        },
        "8e29f414b32f40afb15fbbba1f0019a2": {
          "model_module": "@jupyter-widgets/controls",
          "model_name": "SliderStyleModel",
          "state": {
            "_view_name": "StyleView",
            "handle_color": null,
            "_model_name": "SliderStyleModel",
            "description_width": "",
            "_view_module": "@jupyter-widgets/base",
            "_model_module_version": "1.5.0",
            "_view_count": null,
            "_view_module_version": "1.2.0",
            "_model_module": "@jupyter-widgets/controls"
          }
        },
        "8262daef7df0497fb06fde36dd0848cd": {
          "model_module": "@jupyter-widgets/base",
          "model_name": "LayoutModel",
          "state": {
            "_view_name": "LayoutView",
            "grid_template_rows": null,
            "right": null,
            "justify_content": null,
            "_view_module": "@jupyter-widgets/base",
            "overflow": null,
            "_model_module_version": "1.2.0",
            "_view_count": null,
            "flex_flow": null,
            "width": null,
            "min_width": null,
            "border": null,
            "align_items": null,
            "bottom": null,
            "_model_module": "@jupyter-widgets/base",
            "top": null,
            "grid_column": null,
            "overflow_y": null,
            "overflow_x": null,
            "grid_auto_flow": null,
            "grid_area": null,
            "grid_template_columns": null,
            "flex": null,
            "_model_name": "LayoutModel",
            "justify_items": null,
            "grid_row": null,
            "max_height": null,
            "align_content": null,
            "visibility": null,
            "align_self": null,
            "height": null,
            "min_height": null,
            "padding": null,
            "grid_auto_rows": null,
            "grid_gap": null,
            "max_width": null,
            "order": null,
            "_view_module_version": "1.2.0",
            "grid_template_areas": null,
            "object_position": null,
            "object_fit": null,
            "grid_auto_columns": null,
            "margin": null,
            "display": null,
            "left": null
          }
        },
        "20a1a6c8730b4aff9593ec9d4084caff": {
          "model_module": "@jupyter-widgets/controls",
          "model_name": "HTMLModel",
          "state": {
            "_view_name": "HTMLView",
            "style": "IPY_MODEL_8b4861a104134fcea58edf33185e9e19",
            "_dom_classes": [],
            "description": "",
            "_model_name": "HTMLModel",
            "placeholder": "​",
            "_view_module": "@jupyter-widgets/controls",
            "_model_module_version": "1.5.0",
            "value": "<b>Data Parameters</b>",
            "_view_count": null,
            "_view_module_version": "1.5.0",
            "description_tooltip": null,
            "_model_module": "@jupyter-widgets/controls",
            "layout": "IPY_MODEL_08fe71fd2a264384a4d4e22614f68726"
          }
        },
        "8b4861a104134fcea58edf33185e9e19": {
          "model_module": "@jupyter-widgets/controls",
          "model_name": "DescriptionStyleModel",
          "state": {
            "_view_name": "StyleView",
            "_model_name": "DescriptionStyleModel",
            "description_width": "",
            "_view_module": "@jupyter-widgets/base",
            "_model_module_version": "1.5.0",
            "_view_count": null,
            "_view_module_version": "1.2.0",
            "_model_module": "@jupyter-widgets/controls"
          }
        },
        "08fe71fd2a264384a4d4e22614f68726": {
          "model_module": "@jupyter-widgets/base",
          "model_name": "LayoutModel",
          "state": {
            "_view_name": "LayoutView",
            "grid_template_rows": null,
            "right": null,
            "justify_content": null,
            "_view_module": "@jupyter-widgets/base",
            "overflow": null,
            "_model_module_version": "1.2.0",
            "_view_count": null,
            "flex_flow": null,
            "width": null,
            "min_width": null,
            "border": null,
            "align_items": null,
            "bottom": null,
            "_model_module": "@jupyter-widgets/base",
            "top": null,
            "grid_column": null,
            "overflow_y": null,
            "overflow_x": null,
            "grid_auto_flow": null,
            "grid_area": null,
            "grid_template_columns": null,
            "flex": null,
            "_model_name": "LayoutModel",
            "justify_items": null,
            "grid_row": null,
            "max_height": null,
            "align_content": null,
            "visibility": null,
            "align_self": null,
            "height": null,
            "min_height": null,
            "padding": null,
            "grid_auto_rows": null,
            "grid_gap": null,
            "max_width": null,
            "order": null,
            "_view_module_version": "1.2.0",
            "grid_template_areas": null,
            "object_position": null,
            "object_fit": null,
            "grid_auto_columns": null,
            "margin": null,
            "display": null,
            "left": null
          }
        },
        "5674ca00ff6a43ba9cfd02560ebdbe51": {
          "model_module": "@jupyter-widgets/controls",
          "model_name": "BoxModel",
          "state": {
            "_view_name": "BoxView",
            "_dom_classes": [],
            "_model_name": "BoxModel",
            "_view_module": "@jupyter-widgets/controls",
            "_model_module_version": "1.5.0",
            "_view_count": null,
            "_view_module_version": "1.5.0",
            "box_style": "",
            "layout": "IPY_MODEL_af4aa8c7a4184712bf9a1770900a6a88",
            "_model_module": "@jupyter-widgets/controls",
            "children": [
              "IPY_MODEL_8b78e3611b184668a2970ea55f91a341",
              "IPY_MODEL_b781ac42163c4d2a89b6644cc2e8aa8b",
              "IPY_MODEL_0691b22de7104e0fb79e7f64531ada74",
              "IPY_MODEL_12bccce95821466f94c14851249a7ee0",
              "IPY_MODEL_9f3e2a2b43cc4ffbb9ba01854f72225f"
            ]
          }
        },
        "af4aa8c7a4184712bf9a1770900a6a88": {
          "model_module": "@jupyter-widgets/base",
          "model_name": "LayoutModel",
          "state": {
            "_view_name": "LayoutView",
            "grid_template_rows": null,
            "right": null,
            "justify_content": null,
            "_view_module": "@jupyter-widgets/base",
            "overflow": null,
            "_model_module_version": "1.2.0",
            "_view_count": null,
            "flex_flow": null,
            "width": null,
            "min_width": null,
            "border": null,
            "align_items": null,
            "bottom": null,
            "_model_module": "@jupyter-widgets/base",
            "top": null,
            "grid_column": null,
            "overflow_y": null,
            "overflow_x": null,
            "grid_auto_flow": null,
            "grid_area": null,
            "grid_template_columns": null,
            "flex": null,
            "_model_name": "LayoutModel",
            "justify_items": null,
            "grid_row": null,
            "max_height": null,
            "align_content": null,
            "visibility": null,
            "align_self": null,
            "height": null,
            "min_height": null,
            "padding": null,
            "grid_auto_rows": null,
            "grid_gap": null,
            "max_width": null,
            "order": null,
            "_view_module_version": "1.2.0",
            "grid_template_areas": null,
            "object_position": null,
            "object_fit": null,
            "grid_auto_columns": null,
            "margin": null,
            "display": null,
            "left": null
          }
        },
        "8b78e3611b184668a2970ea55f91a341": {
          "model_module": "@jupyter-widgets/controls",
          "model_name": "LabelModel",
          "state": {
            "_view_name": "LabelView",
            "style": "IPY_MODEL_4b29e841955f4e10b2c1994fd73eb9a1",
            "_dom_classes": [],
            "description": "",
            "_model_name": "LabelModel",
            "placeholder": "​",
            "_view_module": "@jupyter-widgets/controls",
            "_model_module_version": "1.5.0",
            "value": "Enter Data Types:",
            "_view_count": null,
            "_view_module_version": "1.5.0",
            "description_tooltip": null,
            "_model_module": "@jupyter-widgets/controls",
            "layout": "IPY_MODEL_f5aeba84e21d4a9f8220323dd69fed3d"
          }
        },
        "b781ac42163c4d2a89b6644cc2e8aa8b": {
          "model_module": "@jupyter-widgets/controls",
          "model_name": "ComboboxModel",
          "state": {
            "_view_name": "ComboboxView",
            "style": "IPY_MODEL_db99f4beb983441fa181f055203e3f90",
            "_dom_classes": [],
            "description": "",
            "_model_name": "ComboboxModel",
            "placeholder": "Data Type 1",
            "_view_module": "@jupyter-widgets/controls",
            "_model_module_version": "1.5.0",
            "value": "Hyperspectral imagery",
            "_view_count": null,
            "disabled": false,
            "_view_module_version": "1.5.0",
            "continuous_update": true,
            "description_tooltip": null,
            "ensure_option": false,
            "_model_module": "@jupyter-widgets/controls",
            "options": [
              "Hyperspectral imagery",
              "LiDAR",
              "High resolution imagery"
            ],
            "layout": "IPY_MODEL_964cc2da8d0947f7bf04cb89c8e9a351"
          }
        },
        "0691b22de7104e0fb79e7f64531ada74": {
          "model_module": "@jupyter-widgets/controls",
          "model_name": "ComboboxModel",
          "state": {
            "_view_name": "ComboboxView",
            "style": "IPY_MODEL_6f526c5fd9e04c46b8941f12490c1171",
            "_dom_classes": [],
            "description": "",
            "_model_name": "ComboboxModel",
            "placeholder": "Data Type 2",
            "_view_module": "@jupyter-widgets/controls",
            "_model_module_version": "1.5.0",
            "value": "LiDAR",
            "_view_count": null,
            "disabled": false,
            "_view_module_version": "1.5.0",
            "continuous_update": true,
            "description_tooltip": null,
            "ensure_option": false,
            "_model_module": "@jupyter-widgets/controls",
            "options": [
              "Hyperspectral imagery",
              "LiDAR",
              "High resolution imagery"
            ],
            "layout": "IPY_MODEL_3a6793b80c474639a3cef235139088a2"
          }
        },
        "12bccce95821466f94c14851249a7ee0": {
          "model_module": "@jupyter-widgets/controls",
          "model_name": "ComboboxModel",
          "state": {
            "_view_name": "ComboboxView",
            "style": "IPY_MODEL_706d14ff0ee54b5abad2a7f3db607418",
            "_dom_classes": [],
            "description": "",
            "_model_name": "ComboboxModel",
            "placeholder": "Data Type 3",
            "_view_module": "@jupyter-widgets/controls",
            "_model_module_version": "1.5.0",
            "value": "High resolution imagery",
            "_view_count": null,
            "disabled": false,
            "_view_module_version": "1.5.0",
            "continuous_update": true,
            "description_tooltip": null,
            "ensure_option": false,
            "_model_module": "@jupyter-widgets/controls",
            "options": [
              "Hyperspectral imagery",
              "LiDAR",
              "High resolution imagery"
            ],
            "layout": "IPY_MODEL_82a4ca8022584cee82683e8e0ee75c20"
          }
        },
        "9f3e2a2b43cc4ffbb9ba01854f72225f": {
          "model_module": "@jupyter-widgets/controls",
          "model_name": "ComboboxModel",
          "state": {
            "_view_name": "ComboboxView",
            "style": "IPY_MODEL_dd6bb62cebdf47ae91756a85f04c338e",
            "_dom_classes": [],
            "description": "",
            "_model_name": "ComboboxModel",
            "placeholder": "Data Type 4",
            "_view_module": "@jupyter-widgets/controls",
            "_model_module_version": "1.5.0",
            "value": "",
            "_view_count": null,
            "disabled": false,
            "_view_module_version": "1.5.0",
            "continuous_update": true,
            "description_tooltip": null,
            "ensure_option": false,
            "_model_module": "@jupyter-widgets/controls",
            "options": [
              "Hyperspectral imagery",
              "LiDAR",
              "High resolution imagery"
            ],
            "layout": "IPY_MODEL_fde69621ee1a4486af43fd9c8838379a"
          }
        },
        "4b29e841955f4e10b2c1994fd73eb9a1": {
          "model_module": "@jupyter-widgets/controls",
          "model_name": "DescriptionStyleModel",
          "state": {
            "_view_name": "StyleView",
            "_model_name": "DescriptionStyleModel",
            "description_width": "",
            "_view_module": "@jupyter-widgets/base",
            "_model_module_version": "1.5.0",
            "_view_count": null,
            "_view_module_version": "1.2.0",
            "_model_module": "@jupyter-widgets/controls"
          }
        },
        "f5aeba84e21d4a9f8220323dd69fed3d": {
          "model_module": "@jupyter-widgets/base",
          "model_name": "LayoutModel",
          "state": {
            "_view_name": "LayoutView",
            "grid_template_rows": null,
            "right": null,
            "justify_content": null,
            "_view_module": "@jupyter-widgets/base",
            "overflow": null,
            "_model_module_version": "1.2.0",
            "_view_count": null,
            "flex_flow": null,
            "width": null,
            "min_width": null,
            "border": null,
            "align_items": null,
            "bottom": null,
            "_model_module": "@jupyter-widgets/base",
            "top": null,
            "grid_column": null,
            "overflow_y": null,
            "overflow_x": null,
            "grid_auto_flow": null,
            "grid_area": null,
            "grid_template_columns": null,
            "flex": null,
            "_model_name": "LayoutModel",
            "justify_items": null,
            "grid_row": null,
            "max_height": null,
            "align_content": null,
            "visibility": null,
            "align_self": null,
            "height": null,
            "min_height": null,
            "padding": null,
            "grid_auto_rows": null,
            "grid_gap": null,
            "max_width": null,
            "order": null,
            "_view_module_version": "1.2.0",
            "grid_template_areas": null,
            "object_position": null,
            "object_fit": null,
            "grid_auto_columns": null,
            "margin": null,
            "display": null,
            "left": null
          }
        },
        "db99f4beb983441fa181f055203e3f90": {
          "model_module": "@jupyter-widgets/controls",
          "model_name": "DescriptionStyleModel",
          "state": {
            "_view_name": "StyleView",
            "_model_name": "DescriptionStyleModel",
            "description_width": "",
            "_view_module": "@jupyter-widgets/base",
            "_model_module_version": "1.5.0",
            "_view_count": null,
            "_view_module_version": "1.2.0",
            "_model_module": "@jupyter-widgets/controls"
          }
        },
        "964cc2da8d0947f7bf04cb89c8e9a351": {
          "model_module": "@jupyter-widgets/base",
          "model_name": "LayoutModel",
          "state": {
            "_view_name": "LayoutView",
            "grid_template_rows": null,
            "right": null,
            "justify_content": null,
            "_view_module": "@jupyter-widgets/base",
            "overflow": null,
            "_model_module_version": "1.2.0",
            "_view_count": null,
            "flex_flow": null,
            "width": "max-content",
            "min_width": null,
            "border": null,
            "align_items": null,
            "bottom": null,
            "_model_module": "@jupyter-widgets/base",
            "top": null,
            "grid_column": null,
            "overflow_y": null,
            "overflow_x": null,
            "grid_auto_flow": null,
            "grid_area": null,
            "grid_template_columns": null,
            "flex": null,
            "_model_name": "LayoutModel",
            "justify_items": null,
            "grid_row": null,
            "max_height": null,
            "align_content": null,
            "visibility": null,
            "align_self": null,
            "height": null,
            "min_height": null,
            "padding": null,
            "grid_auto_rows": null,
            "grid_gap": null,
            "max_width": null,
            "order": null,
            "_view_module_version": "1.2.0",
            "grid_template_areas": null,
            "object_position": null,
            "object_fit": null,
            "grid_auto_columns": null,
            "margin": null,
            "display": null,
            "left": null
          }
        },
        "6f526c5fd9e04c46b8941f12490c1171": {
          "model_module": "@jupyter-widgets/controls",
          "model_name": "DescriptionStyleModel",
          "state": {
            "_view_name": "StyleView",
            "_model_name": "DescriptionStyleModel",
            "description_width": "",
            "_view_module": "@jupyter-widgets/base",
            "_model_module_version": "1.5.0",
            "_view_count": null,
            "_view_module_version": "1.2.0",
            "_model_module": "@jupyter-widgets/controls"
          }
        },
        "3a6793b80c474639a3cef235139088a2": {
          "model_module": "@jupyter-widgets/base",
          "model_name": "LayoutModel",
          "state": {
            "_view_name": "LayoutView",
            "grid_template_rows": null,
            "right": null,
            "justify_content": null,
            "_view_module": "@jupyter-widgets/base",
            "overflow": null,
            "_model_module_version": "1.2.0",
            "_view_count": null,
            "flex_flow": null,
            "width": "max-content",
            "min_width": null,
            "border": null,
            "align_items": null,
            "bottom": null,
            "_model_module": "@jupyter-widgets/base",
            "top": null,
            "grid_column": null,
            "overflow_y": null,
            "overflow_x": null,
            "grid_auto_flow": null,
            "grid_area": null,
            "grid_template_columns": null,
            "flex": null,
            "_model_name": "LayoutModel",
            "justify_items": null,
            "grid_row": null,
            "max_height": null,
            "align_content": null,
            "visibility": null,
            "align_self": null,
            "height": null,
            "min_height": null,
            "padding": null,
            "grid_auto_rows": null,
            "grid_gap": null,
            "max_width": null,
            "order": null,
            "_view_module_version": "1.2.0",
            "grid_template_areas": null,
            "object_position": null,
            "object_fit": null,
            "grid_auto_columns": null,
            "margin": null,
            "display": null,
            "left": null
          }
        },
        "706d14ff0ee54b5abad2a7f3db607418": {
          "model_module": "@jupyter-widgets/controls",
          "model_name": "DescriptionStyleModel",
          "state": {
            "_view_name": "StyleView",
            "_model_name": "DescriptionStyleModel",
            "description_width": "",
            "_view_module": "@jupyter-widgets/base",
            "_model_module_version": "1.5.0",
            "_view_count": null,
            "_view_module_version": "1.2.0",
            "_model_module": "@jupyter-widgets/controls"
          }
        },
        "82a4ca8022584cee82683e8e0ee75c20": {
          "model_module": "@jupyter-widgets/base",
          "model_name": "LayoutModel",
          "state": {
            "_view_name": "LayoutView",
            "grid_template_rows": null,
            "right": null,
            "justify_content": null,
            "_view_module": "@jupyter-widgets/base",
            "overflow": null,
            "_model_module_version": "1.2.0",
            "_view_count": null,
            "flex_flow": null,
            "width": "max-content",
            "min_width": null,
            "border": null,
            "align_items": null,
            "bottom": null,
            "_model_module": "@jupyter-widgets/base",
            "top": null,
            "grid_column": null,
            "overflow_y": null,
            "overflow_x": null,
            "grid_auto_flow": null,
            "grid_area": null,
            "grid_template_columns": null,
            "flex": null,
            "_model_name": "LayoutModel",
            "justify_items": null,
            "grid_row": null,
            "max_height": null,
            "align_content": null,
            "visibility": null,
            "align_self": null,
            "height": null,
            "min_height": null,
            "padding": null,
            "grid_auto_rows": null,
            "grid_gap": null,
            "max_width": null,
            "order": null,
            "_view_module_version": "1.2.0",
            "grid_template_areas": null,
            "object_position": null,
            "object_fit": null,
            "grid_auto_columns": null,
            "margin": null,
            "display": null,
            "left": null
          }
        },
        "dd6bb62cebdf47ae91756a85f04c338e": {
          "model_module": "@jupyter-widgets/controls",
          "model_name": "DescriptionStyleModel",
          "state": {
            "_view_name": "StyleView",
            "_model_name": "DescriptionStyleModel",
            "description_width": "",
            "_view_module": "@jupyter-widgets/base",
            "_model_module_version": "1.5.0",
            "_view_count": null,
            "_view_module_version": "1.2.0",
            "_model_module": "@jupyter-widgets/controls"
          }
        },
        "fde69621ee1a4486af43fd9c8838379a": {
          "model_module": "@jupyter-widgets/base",
          "model_name": "LayoutModel",
          "state": {
            "_view_name": "LayoutView",
            "grid_template_rows": null,
            "right": null,
            "justify_content": null,
            "_view_module": "@jupyter-widgets/base",
            "overflow": null,
            "_model_module_version": "1.2.0",
            "_view_count": null,
            "flex_flow": null,
            "width": "max-content",
            "min_width": null,
            "border": null,
            "align_items": null,
            "bottom": null,
            "_model_module": "@jupyter-widgets/base",
            "top": null,
            "grid_column": null,
            "overflow_y": null,
            "overflow_x": null,
            "grid_auto_flow": null,
            "grid_area": null,
            "grid_template_columns": null,
            "flex": null,
            "_model_name": "LayoutModel",
            "justify_items": null,
            "grid_row": null,
            "max_height": null,
            "align_content": null,
            "visibility": null,
            "align_self": null,
            "height": null,
            "min_height": null,
            "padding": null,
            "grid_auto_rows": null,
            "grid_gap": null,
            "max_width": null,
            "order": null,
            "_view_module_version": "1.2.0",
            "grid_template_areas": null,
            "object_position": null,
            "object_fit": null,
            "grid_auto_columns": null,
            "margin": null,
            "display": null,
            "left": null
          }
        },
        "4a1dd761021843aab16ec6926734aad9": {
          "model_module": "@jupyter-widgets/controls",
          "model_name": "VBoxModel",
          "state": {
            "_view_name": "VBoxView",
            "_dom_classes": [],
            "_model_name": "VBoxModel",
            "_view_module": "@jupyter-widgets/controls",
            "_model_module_version": "1.5.0",
            "_view_count": null,
            "_view_module_version": "1.5.0",
            "box_style": "",
            "layout": "IPY_MODEL_d9248d7a3b524ed98dfb4dc2db60bb23",
            "_model_module": "@jupyter-widgets/controls",
            "children": [
              "IPY_MODEL_59cffc7756b84e2782ec85b16addbf0c",
              "IPY_MODEL_0a30446e86494103b0569f13b036cd0e"
            ]
          }
        },
        "d9248d7a3b524ed98dfb4dc2db60bb23": {
          "model_module": "@jupyter-widgets/base",
          "model_name": "LayoutModel",
          "state": {
            "_view_name": "LayoutView",
            "grid_template_rows": null,
            "right": null,
            "justify_content": null,
            "_view_module": "@jupyter-widgets/base",
            "overflow": null,
            "_model_module_version": "1.2.0",
            "_view_count": null,
            "flex_flow": null,
            "width": null,
            "min_width": null,
            "border": null,
            "align_items": null,
            "bottom": null,
            "_model_module": "@jupyter-widgets/base",
            "top": null,
            "grid_column": null,
            "overflow_y": null,
            "overflow_x": null,
            "grid_auto_flow": null,
            "grid_area": null,
            "grid_template_columns": null,
            "flex": null,
            "_model_name": "LayoutModel",
            "justify_items": null,
            "grid_row": null,
            "max_height": null,
            "align_content": null,
            "visibility": null,
            "align_self": null,
            "height": null,
            "min_height": null,
            "padding": null,
            "grid_auto_rows": null,
            "grid_gap": null,
            "max_width": null,
            "order": null,
            "_view_module_version": "1.2.0",
            "grid_template_areas": null,
            "object_position": null,
            "object_fit": null,
            "grid_auto_columns": null,
            "margin": null,
            "display": null,
            "left": null
          }
        },
        "59cffc7756b84e2782ec85b16addbf0c": {
          "model_module": "@jupyter-widgets/controls",
          "model_name": "ButtonModel",
          "state": {
            "_view_name": "ButtonView",
            "style": "IPY_MODEL_fb7bb4826ac24975b8cc1771f502f42b",
            "_dom_classes": [],
            "description": "Confirmed",
            "_model_name": "ButtonModel",
            "button_style": "success",
            "_view_module": "@jupyter-widgets/controls",
            "_model_module_version": "1.5.0",
            "tooltip": "Confirm",
            "_view_count": null,
            "disabled": false,
            "_view_module_version": "1.5.0",
            "layout": "IPY_MODEL_746998880f7e47818dce5ef6b2cba0ae",
            "_model_module": "@jupyter-widgets/controls",
            "icon": "check"
          }
        },
        "0a30446e86494103b0569f13b036cd0e": {
          "model_module": "@jupyter-widgets/output",
          "model_name": "OutputModel",
          "state": {
            "_view_name": "OutputView",
            "msg_id": "",
            "_dom_classes": [],
            "_model_name": "OutputModel",
            "outputs": [
              {
                "output_type": "stream",
                "metadata": {
                  "tags": []
                },
                "text": "--------------\n",
                "stream": "stdout"
              },
              {
                "output_type": "display_data",
                "metadata": {
                  "tags": []
                },
                "application/vnd.jupyter.widget-view+json": {
                  "model_id": "0c68a79e39f74321910a7b73d74e8b02",
                  "version_minor": 0,
                  "version_major": 2
                },
                "text/plain": "Box(children=(Label(value='Hyperspectral File Locations: Pre -'), Text(value='', placeholder='HyperspectralPre…"
              },
              {
                "output_type": "display_data",
                "metadata": {
                  "tags": []
                },
                "application/vnd.jupyter.widget-view+json": {
                  "model_id": "593e5737cea24651bc6cf1abd033d5f9",
                  "version_minor": 0,
                  "version_major": 2
                },
                "text/plain": "Box(children=(Label(value='LiDAR File Locations: Pre -'), Text(value='', placeholder='LiDARPreFile'), Label(va…"
              },
              {
                "output_type": "display_data",
                "metadata": {
                  "tags": []
                },
                "application/vnd.jupyter.widget-view+json": {
                  "model_id": "36e29fe980e946e9a15a6546825cf47e",
                  "version_minor": 0,
                  "version_major": 2
                },
                "text/plain": "Box(children=(Label(value='High File Locations: Pre -'), Text(value='', placeholder='HighPreFile'), Label(valu…"
              }
            ],
            "_view_module": "@jupyter-widgets/output",
            "_model_module_version": "1.0.0",
            "_view_count": null,
            "_view_module_version": "1.0.0",
            "layout": "IPY_MODEL_705729272c4846ad93ce992eee2ffec7",
            "_model_module": "@jupyter-widgets/output"
          }
        },
        "fb7bb4826ac24975b8cc1771f502f42b": {
          "model_module": "@jupyter-widgets/controls",
          "model_name": "ButtonStyleModel",
          "state": {
            "_view_name": "StyleView",
            "_model_name": "ButtonStyleModel",
            "_view_module": "@jupyter-widgets/base",
            "_model_module_version": "1.5.0",
            "_view_count": null,
            "button_color": null,
            "font_weight": "",
            "_view_module_version": "1.2.0",
            "_model_module": "@jupyter-widgets/controls"
          }
        },
        "746998880f7e47818dce5ef6b2cba0ae": {
          "model_module": "@jupyter-widgets/base",
          "model_name": "LayoutModel",
          "state": {
            "_view_name": "LayoutView",
            "grid_template_rows": null,
            "right": null,
            "justify_content": null,
            "_view_module": "@jupyter-widgets/base",
            "overflow": null,
            "_model_module_version": "1.2.0",
            "_view_count": null,
            "flex_flow": null,
            "width": null,
            "min_width": null,
            "border": null,
            "align_items": null,
            "bottom": null,
            "_model_module": "@jupyter-widgets/base",
            "top": null,
            "grid_column": null,
            "overflow_y": null,
            "overflow_x": null,
            "grid_auto_flow": null,
            "grid_area": null,
            "grid_template_columns": null,
            "flex": null,
            "_model_name": "LayoutModel",
            "justify_items": null,
            "grid_row": null,
            "max_height": null,
            "align_content": null,
            "visibility": null,
            "align_self": null,
            "height": null,
            "min_height": null,
            "padding": null,
            "grid_auto_rows": null,
            "grid_gap": null,
            "max_width": null,
            "order": null,
            "_view_module_version": "1.2.0",
            "grid_template_areas": null,
            "object_position": null,
            "object_fit": null,
            "grid_auto_columns": null,
            "margin": null,
            "display": null,
            "left": null
          }
        },
        "705729272c4846ad93ce992eee2ffec7": {
          "model_module": "@jupyter-widgets/base",
          "model_name": "LayoutModel",
          "state": {
            "_view_name": "LayoutView",
            "grid_template_rows": null,
            "right": null,
            "justify_content": null,
            "_view_module": "@jupyter-widgets/base",
            "overflow": null,
            "_model_module_version": "1.2.0",
            "_view_count": null,
            "flex_flow": null,
            "width": null,
            "min_width": null,
            "border": null,
            "align_items": null,
            "bottom": null,
            "_model_module": "@jupyter-widgets/base",
            "top": null,
            "grid_column": null,
            "overflow_y": null,
            "overflow_x": null,
            "grid_auto_flow": null,
            "grid_area": null,
            "grid_template_columns": null,
            "flex": null,
            "_model_name": "LayoutModel",
            "justify_items": null,
            "grid_row": null,
            "max_height": null,
            "align_content": null,
            "visibility": null,
            "align_self": null,
            "height": null,
            "min_height": null,
            "padding": null,
            "grid_auto_rows": null,
            "grid_gap": null,
            "max_width": null,
            "order": null,
            "_view_module_version": "1.2.0",
            "grid_template_areas": null,
            "object_position": null,
            "object_fit": null,
            "grid_auto_columns": null,
            "margin": null,
            "display": null,
            "left": null
          }
        },
        "0c68a79e39f74321910a7b73d74e8b02": {
          "model_module": "@jupyter-widgets/controls",
          "model_name": "BoxModel",
          "state": {
            "_view_name": "BoxView",
            "_dom_classes": [],
            "_model_name": "BoxModel",
            "_view_module": "@jupyter-widgets/controls",
            "_model_module_version": "1.5.0",
            "_view_count": null,
            "_view_module_version": "1.5.0",
            "box_style": "",
            "layout": "IPY_MODEL_5fba1babaa0b4989bfe598f12cba5ab4",
            "_model_module": "@jupyter-widgets/controls",
            "children": [
              "IPY_MODEL_07b69241b6a34b8894762b2ddf3e2383",
              "IPY_MODEL_9576458baa1a4f12a7da6b5f01fbd0e0",
              "IPY_MODEL_35e8384afeb844b3b9671ece796419ae",
              "IPY_MODEL_4726bdb93bca4ef2a4dff3aa3772eefd"
            ]
          }
        },
        "5fba1babaa0b4989bfe598f12cba5ab4": {
          "model_module": "@jupyter-widgets/base",
          "model_name": "LayoutModel",
          "state": {
            "_view_name": "LayoutView",
            "grid_template_rows": null,
            "right": null,
            "justify_content": null,
            "_view_module": "@jupyter-widgets/base",
            "overflow": null,
            "_model_module_version": "1.2.0",
            "_view_count": null,
            "flex_flow": null,
            "width": null,
            "min_width": null,
            "border": null,
            "align_items": null,
            "bottom": null,
            "_model_module": "@jupyter-widgets/base",
            "top": null,
            "grid_column": null,
            "overflow_y": null,
            "overflow_x": null,
            "grid_auto_flow": null,
            "grid_area": null,
            "grid_template_columns": null,
            "flex": null,
            "_model_name": "LayoutModel",
            "justify_items": null,
            "grid_row": null,
            "max_height": null,
            "align_content": null,
            "visibility": null,
            "align_self": null,
            "height": null,
            "min_height": null,
            "padding": null,
            "grid_auto_rows": null,
            "grid_gap": null,
            "max_width": null,
            "order": null,
            "_view_module_version": "1.2.0",
            "grid_template_areas": null,
            "object_position": null,
            "object_fit": null,
            "grid_auto_columns": null,
            "margin": null,
            "display": null,
            "left": null
          }
        },
        "07b69241b6a34b8894762b2ddf3e2383": {
          "model_module": "@jupyter-widgets/controls",
          "model_name": "LabelModel",
          "state": {
            "_view_name": "LabelView",
            "style": "IPY_MODEL_a72b58bd084246278cf87e34b3775144",
            "_dom_classes": [],
            "description": "",
            "_model_name": "LabelModel",
            "placeholder": "​",
            "_view_module": "@jupyter-widgets/controls",
            "_model_module_version": "1.5.0",
            "value": "Hyperspectral File Locations: Pre -",
            "_view_count": null,
            "_view_module_version": "1.5.0",
            "description_tooltip": null,
            "_model_module": "@jupyter-widgets/controls",
            "layout": "IPY_MODEL_d7cf09ff7c61403a8c324957b0472707"
          }
        },
        "9576458baa1a4f12a7da6b5f01fbd0e0": {
          "model_module": "@jupyter-widgets/controls",
          "model_name": "TextModel",
          "state": {
            "_view_name": "TextView",
            "style": "IPY_MODEL_9534040f61794a49ac37c5146ab3b236",
            "_dom_classes": [],
            "description": "",
            "_model_name": "TextModel",
            "placeholder": "HyperspectralPreFile",
            "_view_module": "@jupyter-widgets/controls",
            "_model_module_version": "1.5.0",
            "value": "",
            "_view_count": null,
            "disabled": false,
            "_view_module_version": "1.5.0",
            "continuous_update": true,
            "description_tooltip": null,
            "_model_module": "@jupyter-widgets/controls",
            "layout": "IPY_MODEL_593567b16edc4ebd944a84253d59dc4e"
          }
        },
        "35e8384afeb844b3b9671ece796419ae": {
          "model_module": "@jupyter-widgets/controls",
          "model_name": "LabelModel",
          "state": {
            "_view_name": "LabelView",
            "style": "IPY_MODEL_2f7d156a7cca48d4a4e6fd07ae749d4b",
            "_dom_classes": [],
            "description": "",
            "_model_name": "LabelModel",
            "placeholder": "​",
            "_view_module": "@jupyter-widgets/controls",
            "_model_module_version": "1.5.0",
            "value": " Post -",
            "_view_count": null,
            "_view_module_version": "1.5.0",
            "description_tooltip": null,
            "_model_module": "@jupyter-widgets/controls",
            "layout": "IPY_MODEL_b147154982344ebeacb988dad095059b"
          }
        },
        "4726bdb93bca4ef2a4dff3aa3772eefd": {
          "model_module": "@jupyter-widgets/controls",
          "model_name": "TextModel",
          "state": {
            "_view_name": "TextView",
            "style": "IPY_MODEL_fe99a551752e448484ccb2f6ddf852a8",
            "_dom_classes": [],
            "description": "",
            "_model_name": "TextModel",
            "placeholder": "HyperspectralPostFile",
            "_view_module": "@jupyter-widgets/controls",
            "_model_module_version": "1.5.0",
            "value": "./data/Hyperspectral/20170218_UH_CASI_S4_NAD83.pix",
            "_view_count": null,
            "disabled": false,
            "_view_module_version": "1.5.0",
            "continuous_update": true,
            "description_tooltip": null,
            "_model_module": "@jupyter-widgets/controls",
            "layout": "IPY_MODEL_c9b01e8cebbe4423baa7221a595c640e"
          }
        },
        "a72b58bd084246278cf87e34b3775144": {
          "model_module": "@jupyter-widgets/controls",
          "model_name": "DescriptionStyleModel",
          "state": {
            "_view_name": "StyleView",
            "_model_name": "DescriptionStyleModel",
            "description_width": "",
            "_view_module": "@jupyter-widgets/base",
            "_model_module_version": "1.5.0",
            "_view_count": null,
            "_view_module_version": "1.2.0",
            "_model_module": "@jupyter-widgets/controls"
          }
        },
        "d7cf09ff7c61403a8c324957b0472707": {
          "model_module": "@jupyter-widgets/base",
          "model_name": "LayoutModel",
          "state": {
            "_view_name": "LayoutView",
            "grid_template_rows": null,
            "right": null,
            "justify_content": null,
            "_view_module": "@jupyter-widgets/base",
            "overflow": null,
            "_model_module_version": "1.2.0",
            "_view_count": null,
            "flex_flow": null,
            "width": null,
            "min_width": null,
            "border": null,
            "align_items": null,
            "bottom": null,
            "_model_module": "@jupyter-widgets/base",
            "top": null,
            "grid_column": null,
            "overflow_y": null,
            "overflow_x": null,
            "grid_auto_flow": null,
            "grid_area": null,
            "grid_template_columns": null,
            "flex": null,
            "_model_name": "LayoutModel",
            "justify_items": null,
            "grid_row": null,
            "max_height": null,
            "align_content": null,
            "visibility": null,
            "align_self": null,
            "height": null,
            "min_height": null,
            "padding": null,
            "grid_auto_rows": null,
            "grid_gap": null,
            "max_width": null,
            "order": null,
            "_view_module_version": "1.2.0",
            "grid_template_areas": null,
            "object_position": null,
            "object_fit": null,
            "grid_auto_columns": null,
            "margin": null,
            "display": null,
            "left": null
          }
        },
        "9534040f61794a49ac37c5146ab3b236": {
          "model_module": "@jupyter-widgets/controls",
          "model_name": "DescriptionStyleModel",
          "state": {
            "_view_name": "StyleView",
            "_model_name": "DescriptionStyleModel",
            "description_width": "",
            "_view_module": "@jupyter-widgets/base",
            "_model_module_version": "1.5.0",
            "_view_count": null,
            "_view_module_version": "1.2.0",
            "_model_module": "@jupyter-widgets/controls"
          }
        },
        "593567b16edc4ebd944a84253d59dc4e": {
          "model_module": "@jupyter-widgets/base",
          "model_name": "LayoutModel",
          "state": {
            "_view_name": "LayoutView",
            "grid_template_rows": null,
            "right": null,
            "justify_content": null,
            "_view_module": "@jupyter-widgets/base",
            "overflow": null,
            "_model_module_version": "1.2.0",
            "_view_count": null,
            "flex_flow": null,
            "width": null,
            "min_width": null,
            "border": null,
            "align_items": null,
            "bottom": null,
            "_model_module": "@jupyter-widgets/base",
            "top": null,
            "grid_column": null,
            "overflow_y": null,
            "overflow_x": null,
            "grid_auto_flow": null,
            "grid_area": null,
            "grid_template_columns": null,
            "flex": null,
            "_model_name": "LayoutModel",
            "justify_items": null,
            "grid_row": null,
            "max_height": null,
            "align_content": null,
            "visibility": null,
            "align_self": null,
            "height": null,
            "min_height": null,
            "padding": null,
            "grid_auto_rows": null,
            "grid_gap": null,
            "max_width": null,
            "order": null,
            "_view_module_version": "1.2.0",
            "grid_template_areas": null,
            "object_position": null,
            "object_fit": null,
            "grid_auto_columns": null,
            "margin": null,
            "display": null,
            "left": null
          }
        },
        "2f7d156a7cca48d4a4e6fd07ae749d4b": {
          "model_module": "@jupyter-widgets/controls",
          "model_name": "DescriptionStyleModel",
          "state": {
            "_view_name": "StyleView",
            "_model_name": "DescriptionStyleModel",
            "description_width": "",
            "_view_module": "@jupyter-widgets/base",
            "_model_module_version": "1.5.0",
            "_view_count": null,
            "_view_module_version": "1.2.0",
            "_model_module": "@jupyter-widgets/controls"
          }
        },
        "b147154982344ebeacb988dad095059b": {
          "model_module": "@jupyter-widgets/base",
          "model_name": "LayoutModel",
          "state": {
            "_view_name": "LayoutView",
            "grid_template_rows": null,
            "right": null,
            "justify_content": null,
            "_view_module": "@jupyter-widgets/base",
            "overflow": null,
            "_model_module_version": "1.2.0",
            "_view_count": null,
            "flex_flow": null,
            "width": null,
            "min_width": null,
            "border": null,
            "align_items": null,
            "bottom": null,
            "_model_module": "@jupyter-widgets/base",
            "top": null,
            "grid_column": null,
            "overflow_y": null,
            "overflow_x": null,
            "grid_auto_flow": null,
            "grid_area": null,
            "grid_template_columns": null,
            "flex": null,
            "_model_name": "LayoutModel",
            "justify_items": null,
            "grid_row": null,
            "max_height": null,
            "align_content": null,
            "visibility": null,
            "align_self": null,
            "height": null,
            "min_height": null,
            "padding": null,
            "grid_auto_rows": null,
            "grid_gap": null,
            "max_width": null,
            "order": null,
            "_view_module_version": "1.2.0",
            "grid_template_areas": null,
            "object_position": null,
            "object_fit": null,
            "grid_auto_columns": null,
            "margin": null,
            "display": null,
            "left": null
          }
        },
        "fe99a551752e448484ccb2f6ddf852a8": {
          "model_module": "@jupyter-widgets/controls",
          "model_name": "DescriptionStyleModel",
          "state": {
            "_view_name": "StyleView",
            "_model_name": "DescriptionStyleModel",
            "description_width": "",
            "_view_module": "@jupyter-widgets/base",
            "_model_module_version": "1.5.0",
            "_view_count": null,
            "_view_module_version": "1.2.0",
            "_model_module": "@jupyter-widgets/controls"
          }
        },
        "c9b01e8cebbe4423baa7221a595c640e": {
          "model_module": "@jupyter-widgets/base",
          "model_name": "LayoutModel",
          "state": {
            "_view_name": "LayoutView",
            "grid_template_rows": null,
            "right": null,
            "justify_content": null,
            "_view_module": "@jupyter-widgets/base",
            "overflow": null,
            "_model_module_version": "1.2.0",
            "_view_count": null,
            "flex_flow": null,
            "width": null,
            "min_width": null,
            "border": null,
            "align_items": null,
            "bottom": null,
            "_model_module": "@jupyter-widgets/base",
            "top": null,
            "grid_column": null,
            "overflow_y": null,
            "overflow_x": null,
            "grid_auto_flow": null,
            "grid_area": null,
            "grid_template_columns": null,
            "flex": null,
            "_model_name": "LayoutModel",
            "justify_items": null,
            "grid_row": null,
            "max_height": null,
            "align_content": null,
            "visibility": null,
            "align_self": null,
            "height": null,
            "min_height": null,
            "padding": null,
            "grid_auto_rows": null,
            "grid_gap": null,
            "max_width": null,
            "order": null,
            "_view_module_version": "1.2.0",
            "grid_template_areas": null,
            "object_position": null,
            "object_fit": null,
            "grid_auto_columns": null,
            "margin": null,
            "display": null,
            "left": null
          }
        },
        "593e5737cea24651bc6cf1abd033d5f9": {
          "model_module": "@jupyter-widgets/controls",
          "model_name": "BoxModel",
          "state": {
            "_view_name": "BoxView",
            "_dom_classes": [],
            "_model_name": "BoxModel",
            "_view_module": "@jupyter-widgets/controls",
            "_model_module_version": "1.5.0",
            "_view_count": null,
            "_view_module_version": "1.5.0",
            "box_style": "",
            "layout": "IPY_MODEL_b41508a0c0f2493aad8ba870af0f25df",
            "_model_module": "@jupyter-widgets/controls",
            "children": [
              "IPY_MODEL_98d0183ee43d452b82641ebbde33ca2a",
              "IPY_MODEL_0d71248b0fb24244a5ea444e2351fee1",
              "IPY_MODEL_002349b8ae47414bbadc6f92f6979b10",
              "IPY_MODEL_49d5193b5690478b9f10ebff6f88342d"
            ]
          }
        },
        "b41508a0c0f2493aad8ba870af0f25df": {
          "model_module": "@jupyter-widgets/base",
          "model_name": "LayoutModel",
          "state": {
            "_view_name": "LayoutView",
            "grid_template_rows": null,
            "right": null,
            "justify_content": null,
            "_view_module": "@jupyter-widgets/base",
            "overflow": null,
            "_model_module_version": "1.2.0",
            "_view_count": null,
            "flex_flow": null,
            "width": null,
            "min_width": null,
            "border": null,
            "align_items": null,
            "bottom": null,
            "_model_module": "@jupyter-widgets/base",
            "top": null,
            "grid_column": null,
            "overflow_y": null,
            "overflow_x": null,
            "grid_auto_flow": null,
            "grid_area": null,
            "grid_template_columns": null,
            "flex": null,
            "_model_name": "LayoutModel",
            "justify_items": null,
            "grid_row": null,
            "max_height": null,
            "align_content": null,
            "visibility": null,
            "align_self": null,
            "height": null,
            "min_height": null,
            "padding": null,
            "grid_auto_rows": null,
            "grid_gap": null,
            "max_width": null,
            "order": null,
            "_view_module_version": "1.2.0",
            "grid_template_areas": null,
            "object_position": null,
            "object_fit": null,
            "grid_auto_columns": null,
            "margin": null,
            "display": null,
            "left": null
          }
        },
        "98d0183ee43d452b82641ebbde33ca2a": {
          "model_module": "@jupyter-widgets/controls",
          "model_name": "LabelModel",
          "state": {
            "_view_name": "LabelView",
            "style": "IPY_MODEL_22bf2a208d6442ab94260cf09faada39",
            "_dom_classes": [],
            "description": "",
            "_model_name": "LabelModel",
            "placeholder": "​",
            "_view_module": "@jupyter-widgets/controls",
            "_model_module_version": "1.5.0",
            "value": "LiDAR File Locations: Pre -",
            "_view_count": null,
            "_view_module_version": "1.5.0",
            "description_tooltip": null,
            "_model_module": "@jupyter-widgets/controls",
            "layout": "IPY_MODEL_183589b25177457dbc675f20a8e99d1a"
          }
        },
        "0d71248b0fb24244a5ea444e2351fee1": {
          "model_module": "@jupyter-widgets/controls",
          "model_name": "TextModel",
          "state": {
            "_view_name": "TextView",
            "style": "IPY_MODEL_8a4b2474c4164cb3b4e5d788a0d82b02",
            "_dom_classes": [],
            "description": "",
            "_model_name": "TextModel",
            "placeholder": "LiDARPreFile",
            "_view_module": "@jupyter-widgets/controls",
            "_model_module_version": "1.5.0",
            "value": "",
            "_view_count": null,
            "disabled": false,
            "_view_module_version": "1.5.0",
            "continuous_update": true,
            "description_tooltip": null,
            "_model_module": "@jupyter-widgets/controls",
            "layout": "IPY_MODEL_25d031ad8a204bd1a05d2aaf41006414"
          }
        },
        "002349b8ae47414bbadc6f92f6979b10": {
          "model_module": "@jupyter-widgets/controls",
          "model_name": "LabelModel",
          "state": {
            "_view_name": "LabelView",
            "style": "IPY_MODEL_8a4251ada9224212bbd535508298ce2a",
            "_dom_classes": [],
            "description": "",
            "_model_name": "LabelModel",
            "placeholder": "​",
            "_view_module": "@jupyter-widgets/controls",
            "_model_module_version": "1.5.0",
            "value": " Post -",
            "_view_count": null,
            "_view_module_version": "1.5.0",
            "description_tooltip": null,
            "_model_module": "@jupyter-widgets/controls",
            "layout": "IPY_MODEL_ea4cd42a528c4f5ab2564001f9b89a08"
          }
        },
        "49d5193b5690478b9f10ebff6f88342d": {
          "model_module": "@jupyter-widgets/controls",
          "model_name": "TextModel",
          "state": {
            "_view_name": "TextView",
            "style": "IPY_MODEL_2c8778bd4e3d43ea8e40e021042dcb8d",
            "_dom_classes": [],
            "description": "",
            "_model_name": "TextModel",
            "placeholder": "LiDARPostFile",
            "_view_module": "@jupyter-widgets/controls",
            "_model_module_version": "1.5.0",
            "value": "./data/LiDAR/UH17_GI3F051.tif",
            "_view_count": null,
            "disabled": false,
            "_view_module_version": "1.5.0",
            "continuous_update": true,
            "description_tooltip": null,
            "_model_module": "@jupyter-widgets/controls",
            "layout": "IPY_MODEL_30ebe2c8fffc4b0cb3b5af148804ea9e"
          }
        },
        "22bf2a208d6442ab94260cf09faada39": {
          "model_module": "@jupyter-widgets/controls",
          "model_name": "DescriptionStyleModel",
          "state": {
            "_view_name": "StyleView",
            "_model_name": "DescriptionStyleModel",
            "description_width": "",
            "_view_module": "@jupyter-widgets/base",
            "_model_module_version": "1.5.0",
            "_view_count": null,
            "_view_module_version": "1.2.0",
            "_model_module": "@jupyter-widgets/controls"
          }
        },
        "183589b25177457dbc675f20a8e99d1a": {
          "model_module": "@jupyter-widgets/base",
          "model_name": "LayoutModel",
          "state": {
            "_view_name": "LayoutView",
            "grid_template_rows": null,
            "right": null,
            "justify_content": null,
            "_view_module": "@jupyter-widgets/base",
            "overflow": null,
            "_model_module_version": "1.2.0",
            "_view_count": null,
            "flex_flow": null,
            "width": null,
            "min_width": null,
            "border": null,
            "align_items": null,
            "bottom": null,
            "_model_module": "@jupyter-widgets/base",
            "top": null,
            "grid_column": null,
            "overflow_y": null,
            "overflow_x": null,
            "grid_auto_flow": null,
            "grid_area": null,
            "grid_template_columns": null,
            "flex": null,
            "_model_name": "LayoutModel",
            "justify_items": null,
            "grid_row": null,
            "max_height": null,
            "align_content": null,
            "visibility": null,
            "align_self": null,
            "height": null,
            "min_height": null,
            "padding": null,
            "grid_auto_rows": null,
            "grid_gap": null,
            "max_width": null,
            "order": null,
            "_view_module_version": "1.2.0",
            "grid_template_areas": null,
            "object_position": null,
            "object_fit": null,
            "grid_auto_columns": null,
            "margin": null,
            "display": null,
            "left": null
          }
        },
        "8a4b2474c4164cb3b4e5d788a0d82b02": {
          "model_module": "@jupyter-widgets/controls",
          "model_name": "DescriptionStyleModel",
          "state": {
            "_view_name": "StyleView",
            "_model_name": "DescriptionStyleModel",
            "description_width": "",
            "_view_module": "@jupyter-widgets/base",
            "_model_module_version": "1.5.0",
            "_view_count": null,
            "_view_module_version": "1.2.0",
            "_model_module": "@jupyter-widgets/controls"
          }
        },
        "25d031ad8a204bd1a05d2aaf41006414": {
          "model_module": "@jupyter-widgets/base",
          "model_name": "LayoutModel",
          "state": {
            "_view_name": "LayoutView",
            "grid_template_rows": null,
            "right": null,
            "justify_content": null,
            "_view_module": "@jupyter-widgets/base",
            "overflow": null,
            "_model_module_version": "1.2.0",
            "_view_count": null,
            "flex_flow": null,
            "width": null,
            "min_width": null,
            "border": null,
            "align_items": null,
            "bottom": null,
            "_model_module": "@jupyter-widgets/base",
            "top": null,
            "grid_column": null,
            "overflow_y": null,
            "overflow_x": null,
            "grid_auto_flow": null,
            "grid_area": null,
            "grid_template_columns": null,
            "flex": null,
            "_model_name": "LayoutModel",
            "justify_items": null,
            "grid_row": null,
            "max_height": null,
            "align_content": null,
            "visibility": null,
            "align_self": null,
            "height": null,
            "min_height": null,
            "padding": null,
            "grid_auto_rows": null,
            "grid_gap": null,
            "max_width": null,
            "order": null,
            "_view_module_version": "1.2.0",
            "grid_template_areas": null,
            "object_position": null,
            "object_fit": null,
            "grid_auto_columns": null,
            "margin": null,
            "display": null,
            "left": null
          }
        },
        "8a4251ada9224212bbd535508298ce2a": {
          "model_module": "@jupyter-widgets/controls",
          "model_name": "DescriptionStyleModel",
          "state": {
            "_view_name": "StyleView",
            "_model_name": "DescriptionStyleModel",
            "description_width": "",
            "_view_module": "@jupyter-widgets/base",
            "_model_module_version": "1.5.0",
            "_view_count": null,
            "_view_module_version": "1.2.0",
            "_model_module": "@jupyter-widgets/controls"
          }
        },
        "ea4cd42a528c4f5ab2564001f9b89a08": {
          "model_module": "@jupyter-widgets/base",
          "model_name": "LayoutModel",
          "state": {
            "_view_name": "LayoutView",
            "grid_template_rows": null,
            "right": null,
            "justify_content": null,
            "_view_module": "@jupyter-widgets/base",
            "overflow": null,
            "_model_module_version": "1.2.0",
            "_view_count": null,
            "flex_flow": null,
            "width": null,
            "min_width": null,
            "border": null,
            "align_items": null,
            "bottom": null,
            "_model_module": "@jupyter-widgets/base",
            "top": null,
            "grid_column": null,
            "overflow_y": null,
            "overflow_x": null,
            "grid_auto_flow": null,
            "grid_area": null,
            "grid_template_columns": null,
            "flex": null,
            "_model_name": "LayoutModel",
            "justify_items": null,
            "grid_row": null,
            "max_height": null,
            "align_content": null,
            "visibility": null,
            "align_self": null,
            "height": null,
            "min_height": null,
            "padding": null,
            "grid_auto_rows": null,
            "grid_gap": null,
            "max_width": null,
            "order": null,
            "_view_module_version": "1.2.0",
            "grid_template_areas": null,
            "object_position": null,
            "object_fit": null,
            "grid_auto_columns": null,
            "margin": null,
            "display": null,
            "left": null
          }
        },
        "2c8778bd4e3d43ea8e40e021042dcb8d": {
          "model_module": "@jupyter-widgets/controls",
          "model_name": "DescriptionStyleModel",
          "state": {
            "_view_name": "StyleView",
            "_model_name": "DescriptionStyleModel",
            "description_width": "",
            "_view_module": "@jupyter-widgets/base",
            "_model_module_version": "1.5.0",
            "_view_count": null,
            "_view_module_version": "1.2.0",
            "_model_module": "@jupyter-widgets/controls"
          }
        },
        "30ebe2c8fffc4b0cb3b5af148804ea9e": {
          "model_module": "@jupyter-widgets/base",
          "model_name": "LayoutModel",
          "state": {
            "_view_name": "LayoutView",
            "grid_template_rows": null,
            "right": null,
            "justify_content": null,
            "_view_module": "@jupyter-widgets/base",
            "overflow": null,
            "_model_module_version": "1.2.0",
            "_view_count": null,
            "flex_flow": null,
            "width": null,
            "min_width": null,
            "border": null,
            "align_items": null,
            "bottom": null,
            "_model_module": "@jupyter-widgets/base",
            "top": null,
            "grid_column": null,
            "overflow_y": null,
            "overflow_x": null,
            "grid_auto_flow": null,
            "grid_area": null,
            "grid_template_columns": null,
            "flex": null,
            "_model_name": "LayoutModel",
            "justify_items": null,
            "grid_row": null,
            "max_height": null,
            "align_content": null,
            "visibility": null,
            "align_self": null,
            "height": null,
            "min_height": null,
            "padding": null,
            "grid_auto_rows": null,
            "grid_gap": null,
            "max_width": null,
            "order": null,
            "_view_module_version": "1.2.0",
            "grid_template_areas": null,
            "object_position": null,
            "object_fit": null,
            "grid_auto_columns": null,
            "margin": null,
            "display": null,
            "left": null
          }
        },
        "36e29fe980e946e9a15a6546825cf47e": {
          "model_module": "@jupyter-widgets/controls",
          "model_name": "BoxModel",
          "state": {
            "_view_name": "BoxView",
            "_dom_classes": [],
            "_model_name": "BoxModel",
            "_view_module": "@jupyter-widgets/controls",
            "_model_module_version": "1.5.0",
            "_view_count": null,
            "_view_module_version": "1.5.0",
            "box_style": "",
            "layout": "IPY_MODEL_5b4c99e94bc14b7fbb9a381755dc9ffc",
            "_model_module": "@jupyter-widgets/controls",
            "children": [
              "IPY_MODEL_51d61bb565af405b9cfca684b5d76dfc",
              "IPY_MODEL_6b2b938adf7d4486af475bd4356a1aaa",
              "IPY_MODEL_22525492f5284f1baeb2ab1c66e9f969",
              "IPY_MODEL_f2a42ca8d4bd41eab74d71cd02405d2c"
            ]
          }
        },
        "5b4c99e94bc14b7fbb9a381755dc9ffc": {
          "model_module": "@jupyter-widgets/base",
          "model_name": "LayoutModel",
          "state": {
            "_view_name": "LayoutView",
            "grid_template_rows": null,
            "right": null,
            "justify_content": null,
            "_view_module": "@jupyter-widgets/base",
            "overflow": null,
            "_model_module_version": "1.2.0",
            "_view_count": null,
            "flex_flow": null,
            "width": null,
            "min_width": null,
            "border": null,
            "align_items": null,
            "bottom": null,
            "_model_module": "@jupyter-widgets/base",
            "top": null,
            "grid_column": null,
            "overflow_y": null,
            "overflow_x": null,
            "grid_auto_flow": null,
            "grid_area": null,
            "grid_template_columns": null,
            "flex": null,
            "_model_name": "LayoutModel",
            "justify_items": null,
            "grid_row": null,
            "max_height": null,
            "align_content": null,
            "visibility": null,
            "align_self": null,
            "height": null,
            "min_height": null,
            "padding": null,
            "grid_auto_rows": null,
            "grid_gap": null,
            "max_width": null,
            "order": null,
            "_view_module_version": "1.2.0",
            "grid_template_areas": null,
            "object_position": null,
            "object_fit": null,
            "grid_auto_columns": null,
            "margin": null,
            "display": null,
            "left": null
          }
        },
        "51d61bb565af405b9cfca684b5d76dfc": {
          "model_module": "@jupyter-widgets/controls",
          "model_name": "LabelModel",
          "state": {
            "_view_name": "LabelView",
            "style": "IPY_MODEL_06e5d703d75c40e18abe64c1ee0895b6",
            "_dom_classes": [],
            "description": "",
            "_model_name": "LabelModel",
            "placeholder": "​",
            "_view_module": "@jupyter-widgets/controls",
            "_model_module_version": "1.5.0",
            "value": "High File Locations: Pre -",
            "_view_count": null,
            "_view_module_version": "1.5.0",
            "description_tooltip": null,
            "_model_module": "@jupyter-widgets/controls",
            "layout": "IPY_MODEL_58ff61b64a06429a8f02f1ee82e94aae"
          }
        },
        "6b2b938adf7d4486af475bd4356a1aaa": {
          "model_module": "@jupyter-widgets/controls",
          "model_name": "TextModel",
          "state": {
            "_view_name": "TextView",
            "style": "IPY_MODEL_d0021c1e6bef4353a59bc615ebac1629",
            "_dom_classes": [],
            "description": "",
            "_model_name": "TextModel",
            "placeholder": "HighPreFile",
            "_view_module": "@jupyter-widgets/controls",
            "_model_module_version": "1.5.0",
            "value": "",
            "_view_count": null,
            "disabled": false,
            "_view_module_version": "1.5.0",
            "continuous_update": true,
            "description_tooltip": null,
            "_model_module": "@jupyter-widgets/controls",
            "layout": "IPY_MODEL_11f40fefbf0e4f38b6153d2878ced087"
          }
        },
        "22525492f5284f1baeb2ab1c66e9f969": {
          "model_module": "@jupyter-widgets/controls",
          "model_name": "LabelModel",
          "state": {
            "_view_name": "LabelView",
            "style": "IPY_MODEL_c1d2d77338c34381a2f7be5b81d897c5",
            "_dom_classes": [],
            "description": "",
            "_model_name": "LabelModel",
            "placeholder": "​",
            "_view_module": "@jupyter-widgets/controls",
            "_model_module_version": "1.5.0",
            "value": " Post -",
            "_view_count": null,
            "_view_module_version": "1.5.0",
            "description_tooltip": null,
            "_model_module": "@jupyter-widgets/controls",
            "layout": "IPY_MODEL_eacc7af7c3eb4950a75f4c019e30ed33"
          }
        },
        "f2a42ca8d4bd41eab74d71cd02405d2c": {
          "model_module": "@jupyter-widgets/controls",
          "model_name": "TextModel",
          "state": {
            "_view_name": "TextView",
            "style": "IPY_MODEL_8c58808cd819498db5704b52e9307865",
            "_dom_classes": [],
            "description": "",
            "_model_name": "TextModel",
            "placeholder": "HighPostFile",
            "_view_module": "@jupyter-widgets/controls",
            "_model_module_version": "1.5.0",
            "value": "./data/HighResolution/houstonmosaic.tif",
            "_view_count": null,
            "disabled": false,
            "_view_module_version": "1.5.0",
            "continuous_update": true,
            "description_tooltip": null,
            "_model_module": "@jupyter-widgets/controls",
            "layout": "IPY_MODEL_9184b25cf7b0458c81ba81dfae4bc1b8"
          }
        },
        "06e5d703d75c40e18abe64c1ee0895b6": {
          "model_module": "@jupyter-widgets/controls",
          "model_name": "DescriptionStyleModel",
          "state": {
            "_view_name": "StyleView",
            "_model_name": "DescriptionStyleModel",
            "description_width": "",
            "_view_module": "@jupyter-widgets/base",
            "_model_module_version": "1.5.0",
            "_view_count": null,
            "_view_module_version": "1.2.0",
            "_model_module": "@jupyter-widgets/controls"
          }
        },
        "58ff61b64a06429a8f02f1ee82e94aae": {
          "model_module": "@jupyter-widgets/base",
          "model_name": "LayoutModel",
          "state": {
            "_view_name": "LayoutView",
            "grid_template_rows": null,
            "right": null,
            "justify_content": null,
            "_view_module": "@jupyter-widgets/base",
            "overflow": null,
            "_model_module_version": "1.2.0",
            "_view_count": null,
            "flex_flow": null,
            "width": null,
            "min_width": null,
            "border": null,
            "align_items": null,
            "bottom": null,
            "_model_module": "@jupyter-widgets/base",
            "top": null,
            "grid_column": null,
            "overflow_y": null,
            "overflow_x": null,
            "grid_auto_flow": null,
            "grid_area": null,
            "grid_template_columns": null,
            "flex": null,
            "_model_name": "LayoutModel",
            "justify_items": null,
            "grid_row": null,
            "max_height": null,
            "align_content": null,
            "visibility": null,
            "align_self": null,
            "height": null,
            "min_height": null,
            "padding": null,
            "grid_auto_rows": null,
            "grid_gap": null,
            "max_width": null,
            "order": null,
            "_view_module_version": "1.2.0",
            "grid_template_areas": null,
            "object_position": null,
            "object_fit": null,
            "grid_auto_columns": null,
            "margin": null,
            "display": null,
            "left": null
          }
        },
        "d0021c1e6bef4353a59bc615ebac1629": {
          "model_module": "@jupyter-widgets/controls",
          "model_name": "DescriptionStyleModel",
          "state": {
            "_view_name": "StyleView",
            "_model_name": "DescriptionStyleModel",
            "description_width": "",
            "_view_module": "@jupyter-widgets/base",
            "_model_module_version": "1.5.0",
            "_view_count": null,
            "_view_module_version": "1.2.0",
            "_model_module": "@jupyter-widgets/controls"
          }
        },
        "11f40fefbf0e4f38b6153d2878ced087": {
          "model_module": "@jupyter-widgets/base",
          "model_name": "LayoutModel",
          "state": {
            "_view_name": "LayoutView",
            "grid_template_rows": null,
            "right": null,
            "justify_content": null,
            "_view_module": "@jupyter-widgets/base",
            "overflow": null,
            "_model_module_version": "1.2.0",
            "_view_count": null,
            "flex_flow": null,
            "width": null,
            "min_width": null,
            "border": null,
            "align_items": null,
            "bottom": null,
            "_model_module": "@jupyter-widgets/base",
            "top": null,
            "grid_column": null,
            "overflow_y": null,
            "overflow_x": null,
            "grid_auto_flow": null,
            "grid_area": null,
            "grid_template_columns": null,
            "flex": null,
            "_model_name": "LayoutModel",
            "justify_items": null,
            "grid_row": null,
            "max_height": null,
            "align_content": null,
            "visibility": null,
            "align_self": null,
            "height": null,
            "min_height": null,
            "padding": null,
            "grid_auto_rows": null,
            "grid_gap": null,
            "max_width": null,
            "order": null,
            "_view_module_version": "1.2.0",
            "grid_template_areas": null,
            "object_position": null,
            "object_fit": null,
            "grid_auto_columns": null,
            "margin": null,
            "display": null,
            "left": null
          }
        },
        "c1d2d77338c34381a2f7be5b81d897c5": {
          "model_module": "@jupyter-widgets/controls",
          "model_name": "DescriptionStyleModel",
          "state": {
            "_view_name": "StyleView",
            "_model_name": "DescriptionStyleModel",
            "description_width": "",
            "_view_module": "@jupyter-widgets/base",
            "_model_module_version": "1.5.0",
            "_view_count": null,
            "_view_module_version": "1.2.0",
            "_model_module": "@jupyter-widgets/controls"
          }
        },
        "eacc7af7c3eb4950a75f4c019e30ed33": {
          "model_module": "@jupyter-widgets/base",
          "model_name": "LayoutModel",
          "state": {
            "_view_name": "LayoutView",
            "grid_template_rows": null,
            "right": null,
            "justify_content": null,
            "_view_module": "@jupyter-widgets/base",
            "overflow": null,
            "_model_module_version": "1.2.0",
            "_view_count": null,
            "flex_flow": null,
            "width": null,
            "min_width": null,
            "border": null,
            "align_items": null,
            "bottom": null,
            "_model_module": "@jupyter-widgets/base",
            "top": null,
            "grid_column": null,
            "overflow_y": null,
            "overflow_x": null,
            "grid_auto_flow": null,
            "grid_area": null,
            "grid_template_columns": null,
            "flex": null,
            "_model_name": "LayoutModel",
            "justify_items": null,
            "grid_row": null,
            "max_height": null,
            "align_content": null,
            "visibility": null,
            "align_self": null,
            "height": null,
            "min_height": null,
            "padding": null,
            "grid_auto_rows": null,
            "grid_gap": null,
            "max_width": null,
            "order": null,
            "_view_module_version": "1.2.0",
            "grid_template_areas": null,
            "object_position": null,
            "object_fit": null,
            "grid_auto_columns": null,
            "margin": null,
            "display": null,
            "left": null
          }
        },
        "8c58808cd819498db5704b52e9307865": {
          "model_module": "@jupyter-widgets/controls",
          "model_name": "DescriptionStyleModel",
          "state": {
            "_view_name": "StyleView",
            "_model_name": "DescriptionStyleModel",
            "description_width": "",
            "_view_module": "@jupyter-widgets/base",
            "_model_module_version": "1.5.0",
            "_view_count": null,
            "_view_module_version": "1.2.0",
            "_model_module": "@jupyter-widgets/controls"
          }
        },
        "9184b25cf7b0458c81ba81dfae4bc1b8": {
          "model_module": "@jupyter-widgets/base",
          "model_name": "LayoutModel",
          "state": {
            "_view_name": "LayoutView",
            "grid_template_rows": null,
            "right": null,
            "justify_content": null,
            "_view_module": "@jupyter-widgets/base",
            "overflow": null,
            "_model_module_version": "1.2.0",
            "_view_count": null,
            "flex_flow": null,
            "width": null,
            "min_width": null,
            "border": null,
            "align_items": null,
            "bottom": null,
            "_model_module": "@jupyter-widgets/base",
            "top": null,
            "grid_column": null,
            "overflow_y": null,
            "overflow_x": null,
            "grid_auto_flow": null,
            "grid_area": null,
            "grid_template_columns": null,
            "flex": null,
            "_model_name": "LayoutModel",
            "justify_items": null,
            "grid_row": null,
            "max_height": null,
            "align_content": null,
            "visibility": null,
            "align_self": null,
            "height": null,
            "min_height": null,
            "padding": null,
            "grid_auto_rows": null,
            "grid_gap": null,
            "max_width": null,
            "order": null,
            "_view_module_version": "1.2.0",
            "grid_template_areas": null,
            "object_position": null,
            "object_fit": null,
            "grid_auto_columns": null,
            "margin": null,
            "display": null,
            "left": null
          }
        },
        "3ddf4a7b2d31487583c1bcb7ab360649": {
          "model_module": "@jupyter-widgets/controls",
          "model_name": "HTMLModel",
          "state": {
            "_view_name": "HTMLView",
            "style": "IPY_MODEL_76e11611b37449088845f41ffe50b676",
            "_dom_classes": [],
            "description": "",
            "_model_name": "HTMLModel",
            "placeholder": "​",
            "_view_module": "@jupyter-widgets/controls",
            "_model_module_version": "1.5.0",
            "value": "<h3>Model Parameters</h3>",
            "_view_count": null,
            "_view_module_version": "1.5.0",
            "description_tooltip": null,
            "_model_module": "@jupyter-widgets/controls",
            "layout": "IPY_MODEL_8928b45b8a26405ba5bb31bdcee3845e"
          }
        },
        "76e11611b37449088845f41ffe50b676": {
          "model_module": "@jupyter-widgets/controls",
          "model_name": "DescriptionStyleModel",
          "state": {
            "_view_name": "StyleView",
            "_model_name": "DescriptionStyleModel",
            "description_width": "",
            "_view_module": "@jupyter-widgets/base",
            "_model_module_version": "1.5.0",
            "_view_count": null,
            "_view_module_version": "1.2.0",
            "_model_module": "@jupyter-widgets/controls"
          }
        },
        "8928b45b8a26405ba5bb31bdcee3845e": {
          "model_module": "@jupyter-widgets/base",
          "model_name": "LayoutModel",
          "state": {
            "_view_name": "LayoutView",
            "grid_template_rows": null,
            "right": null,
            "justify_content": null,
            "_view_module": "@jupyter-widgets/base",
            "overflow": null,
            "_model_module_version": "1.2.0",
            "_view_count": null,
            "flex_flow": null,
            "width": null,
            "min_width": null,
            "border": null,
            "align_items": null,
            "bottom": null,
            "_model_module": "@jupyter-widgets/base",
            "top": null,
            "grid_column": null,
            "overflow_y": null,
            "overflow_x": null,
            "grid_auto_flow": null,
            "grid_area": null,
            "grid_template_columns": null,
            "flex": null,
            "_model_name": "LayoutModel",
            "justify_items": null,
            "grid_row": null,
            "max_height": null,
            "align_content": null,
            "visibility": null,
            "align_self": null,
            "height": null,
            "min_height": null,
            "padding": null,
            "grid_auto_rows": null,
            "grid_gap": null,
            "max_width": null,
            "order": null,
            "_view_module_version": "1.2.0",
            "grid_template_areas": null,
            "object_position": null,
            "object_fit": null,
            "grid_auto_columns": null,
            "margin": null,
            "display": null,
            "left": null
          }
        },
        "318c8a70d0d74041a61bafeea0213e6c": {
          "model_module": "@jupyter-widgets/controls",
          "model_name": "HTMLModel",
          "state": {
            "_view_name": "HTMLView",
            "style": "IPY_MODEL_27a52ca7e5eb412391f3036a7001af22",
            "_dom_classes": [],
            "description": "",
            "_model_name": "HTMLModel",
            "placeholder": "​",
            "_view_module": "@jupyter-widgets/controls",
            "_model_module_version": "1.5.0",
            "value": "<b>Node Properties - Sampling occurs if max nodes < input nodes.</b>",
            "_view_count": null,
            "_view_module_version": "1.5.0",
            "description_tooltip": null,
            "_model_module": "@jupyter-widgets/controls",
            "layout": "IPY_MODEL_1b417abdb75940508b486828e8fa1601"
          }
        },
        "27a52ca7e5eb412391f3036a7001af22": {
          "model_module": "@jupyter-widgets/controls",
          "model_name": "DescriptionStyleModel",
          "state": {
            "_view_name": "StyleView",
            "_model_name": "DescriptionStyleModel",
            "description_width": "",
            "_view_module": "@jupyter-widgets/base",
            "_model_module_version": "1.5.0",
            "_view_count": null,
            "_view_module_version": "1.2.0",
            "_model_module": "@jupyter-widgets/controls"
          }
        },
        "1b417abdb75940508b486828e8fa1601": {
          "model_module": "@jupyter-widgets/base",
          "model_name": "LayoutModel",
          "state": {
            "_view_name": "LayoutView",
            "grid_template_rows": null,
            "right": null,
            "justify_content": null,
            "_view_module": "@jupyter-widgets/base",
            "overflow": null,
            "_model_module_version": "1.2.0",
            "_view_count": null,
            "flex_flow": null,
            "width": null,
            "min_width": null,
            "border": null,
            "align_items": null,
            "bottom": null,
            "_model_module": "@jupyter-widgets/base",
            "top": null,
            "grid_column": null,
            "overflow_y": null,
            "overflow_x": null,
            "grid_auto_flow": null,
            "grid_area": null,
            "grid_template_columns": null,
            "flex": null,
            "_model_name": "LayoutModel",
            "justify_items": null,
            "grid_row": null,
            "max_height": null,
            "align_content": null,
            "visibility": null,
            "align_self": null,
            "height": null,
            "min_height": null,
            "padding": null,
            "grid_auto_rows": null,
            "grid_gap": null,
            "max_width": null,
            "order": null,
            "_view_module_version": "1.2.0",
            "grid_template_areas": null,
            "object_position": null,
            "object_fit": null,
            "grid_auto_columns": null,
            "margin": null,
            "display": null,
            "left": null
          }
        },
        "728582c5d7924b03a4b1d32ec8558b07": {
          "model_module": "@jupyter-widgets/controls",
          "model_name": "BoxModel",
          "state": {
            "_view_name": "BoxView",
            "_dom_classes": [],
            "_model_name": "BoxModel",
            "_view_module": "@jupyter-widgets/controls",
            "_model_module_version": "1.5.0",
            "_view_count": null,
            "_view_module_version": "1.5.0",
            "box_style": "",
            "layout": "IPY_MODEL_9e431da90363436baf375e4b1052828f",
            "_model_module": "@jupyter-widgets/controls",
            "children": [
              "IPY_MODEL_f6fc14c282df40109b77e372f7d9567e",
              "IPY_MODEL_ca5b2d27cbc2439bb528695ebd069bdf",
              "IPY_MODEL_65268131b39b4a498381627ab7258dd1",
              "IPY_MODEL_795b1e61dc254e00804bc3c942f0eade"
            ]
          }
        },
        "9e431da90363436baf375e4b1052828f": {
          "model_module": "@jupyter-widgets/base",
          "model_name": "LayoutModel",
          "state": {
            "_view_name": "LayoutView",
            "grid_template_rows": null,
            "right": null,
            "justify_content": null,
            "_view_module": "@jupyter-widgets/base",
            "overflow": null,
            "_model_module_version": "1.2.0",
            "_view_count": null,
            "flex_flow": null,
            "width": null,
            "min_width": null,
            "border": null,
            "align_items": null,
            "bottom": null,
            "_model_module": "@jupyter-widgets/base",
            "top": null,
            "grid_column": null,
            "overflow_y": null,
            "overflow_x": null,
            "grid_auto_flow": null,
            "grid_area": null,
            "grid_template_columns": null,
            "flex": null,
            "_model_name": "LayoutModel",
            "justify_items": null,
            "grid_row": null,
            "max_height": null,
            "align_content": null,
            "visibility": null,
            "align_self": null,
            "height": null,
            "min_height": null,
            "padding": null,
            "grid_auto_rows": null,
            "grid_gap": null,
            "max_width": null,
            "order": null,
            "_view_module_version": "1.2.0",
            "grid_template_areas": null,
            "object_position": null,
            "object_fit": null,
            "grid_auto_columns": null,
            "margin": null,
            "display": null,
            "left": null
          }
        },
        "f6fc14c282df40109b77e372f7d9567e": {
          "model_module": "@jupyter-widgets/controls",
          "model_name": "LabelModel",
          "state": {
            "_view_name": "LabelView",
            "style": "IPY_MODEL_bffa5d2c14dc418a9fe7daa734b890c8",
            "_dom_classes": [],
            "description": "",
            "_model_name": "LabelModel",
            "placeholder": "​",
            "_view_module": "@jupyter-widgets/controls",
            "_model_module_version": "1.5.0",
            "value": "Max nodes - ",
            "_view_count": null,
            "_view_module_version": "1.5.0",
            "description_tooltip": null,
            "_model_module": "@jupyter-widgets/controls",
            "layout": "IPY_MODEL_541f2e018fc54502b662bf44e4327f2c"
          }
        },
        "ca5b2d27cbc2439bb528695ebd069bdf": {
          "model_module": "@jupyter-widgets/controls",
          "model_name": "IntTextModel",
          "state": {
            "_view_name": "IntTextView",
            "style": "IPY_MODEL_0d809a9500f74b989c116dfe1969089b",
            "_dom_classes": [],
            "description": "",
            "_model_name": "IntTextModel",
            "_view_module": "@jupyter-widgets/controls",
            "_model_module_version": "1.5.0",
            "value": 10000,
            "_view_count": null,
            "disabled": false,
            "_view_module_version": "1.5.0",
            "continuous_update": false,
            "step": 1000,
            "description_tooltip": null,
            "_model_module": "@jupyter-widgets/controls",
            "layout": "IPY_MODEL_d0ff6adc590943bdb24fb8a4d484ce8a"
          }
        },
        "65268131b39b4a498381627ab7258dd1": {
          "model_module": "@jupyter-widgets/controls",
          "model_name": "LabelModel",
          "state": {
            "_view_name": "LabelView",
            "style": "IPY_MODEL_097eff8c66324d14b15f24d9f7141c24",
            "_dom_classes": [],
            "description": "",
            "_model_name": "LabelModel",
            "placeholder": "​",
            "_view_module": "@jupyter-widgets/controls",
            "_model_module_version": "1.5.0",
            "value": "Ground Truth % - ",
            "_view_count": null,
            "_view_module_version": "1.5.0",
            "description_tooltip": null,
            "_model_module": "@jupyter-widgets/controls",
            "layout": "IPY_MODEL_962651f6a76a473ba6213c2f27635b11"
          }
        },
        "795b1e61dc254e00804bc3c942f0eade": {
          "model_module": "@jupyter-widgets/controls",
          "model_name": "FloatSliderModel",
          "state": {
            "_view_name": "FloatSliderView",
            "style": "IPY_MODEL_5d3e537c17aa4c7396fba6e17fab2320",
            "_dom_classes": [],
            "description": "",
            "step": 0.1,
            "_model_name": "FloatSliderModel",
            "orientation": "horizontal",
            "max": 99.9,
            "_view_module": "@jupyter-widgets/controls",
            "_model_module_version": "1.5.0",
            "value": 48,
            "_view_count": null,
            "disabled": false,
            "_view_module_version": "1.5.0",
            "min": 0.1,
            "continuous_update": true,
            "readout_format": ".1f",
            "description_tooltip": null,
            "readout": true,
            "_model_module": "@jupyter-widgets/controls",
            "layout": "IPY_MODEL_9bf120ea7c2146f1b6a94741b9e29164"
          }
        },
        "bffa5d2c14dc418a9fe7daa734b890c8": {
          "model_module": "@jupyter-widgets/controls",
          "model_name": "DescriptionStyleModel",
          "state": {
            "_view_name": "StyleView",
            "_model_name": "DescriptionStyleModel",
            "description_width": "",
            "_view_module": "@jupyter-widgets/base",
            "_model_module_version": "1.5.0",
            "_view_count": null,
            "_view_module_version": "1.2.0",
            "_model_module": "@jupyter-widgets/controls"
          }
        },
        "541f2e018fc54502b662bf44e4327f2c": {
          "model_module": "@jupyter-widgets/base",
          "model_name": "LayoutModel",
          "state": {
            "_view_name": "LayoutView",
            "grid_template_rows": null,
            "right": null,
            "justify_content": null,
            "_view_module": "@jupyter-widgets/base",
            "overflow": null,
            "_model_module_version": "1.2.0",
            "_view_count": null,
            "flex_flow": null,
            "width": null,
            "min_width": null,
            "border": null,
            "align_items": null,
            "bottom": null,
            "_model_module": "@jupyter-widgets/base",
            "top": null,
            "grid_column": null,
            "overflow_y": null,
            "overflow_x": null,
            "grid_auto_flow": null,
            "grid_area": null,
            "grid_template_columns": null,
            "flex": null,
            "_model_name": "LayoutModel",
            "justify_items": null,
            "grid_row": null,
            "max_height": null,
            "align_content": null,
            "visibility": null,
            "align_self": null,
            "height": null,
            "min_height": null,
            "padding": null,
            "grid_auto_rows": null,
            "grid_gap": null,
            "max_width": null,
            "order": null,
            "_view_module_version": "1.2.0",
            "grid_template_areas": null,
            "object_position": null,
            "object_fit": null,
            "grid_auto_columns": null,
            "margin": null,
            "display": null,
            "left": null
          }
        },
        "0d809a9500f74b989c116dfe1969089b": {
          "model_module": "@jupyter-widgets/controls",
          "model_name": "DescriptionStyleModel",
          "state": {
            "_view_name": "StyleView",
            "_model_name": "DescriptionStyleModel",
            "description_width": "",
            "_view_module": "@jupyter-widgets/base",
            "_model_module_version": "1.5.0",
            "_view_count": null,
            "_view_module_version": "1.2.0",
            "_model_module": "@jupyter-widgets/controls"
          }
        },
        "d0ff6adc590943bdb24fb8a4d484ce8a": {
          "model_module": "@jupyter-widgets/base",
          "model_name": "LayoutModel",
          "state": {
            "_view_name": "LayoutView",
            "grid_template_rows": null,
            "right": null,
            "justify_content": null,
            "_view_module": "@jupyter-widgets/base",
            "overflow": null,
            "_model_module_version": "1.2.0",
            "_view_count": null,
            "flex_flow": null,
            "width": "max-content",
            "min_width": null,
            "border": null,
            "align_items": null,
            "bottom": null,
            "_model_module": "@jupyter-widgets/base",
            "top": null,
            "grid_column": null,
            "overflow_y": null,
            "overflow_x": null,
            "grid_auto_flow": null,
            "grid_area": null,
            "grid_template_columns": null,
            "flex": null,
            "_model_name": "LayoutModel",
            "justify_items": null,
            "grid_row": null,
            "max_height": null,
            "align_content": null,
            "visibility": null,
            "align_self": null,
            "height": null,
            "min_height": null,
            "padding": null,
            "grid_auto_rows": null,
            "grid_gap": null,
            "max_width": null,
            "order": null,
            "_view_module_version": "1.2.0",
            "grid_template_areas": null,
            "object_position": null,
            "object_fit": null,
            "grid_auto_columns": null,
            "margin": null,
            "display": null,
            "left": null
          }
        },
        "097eff8c66324d14b15f24d9f7141c24": {
          "model_module": "@jupyter-widgets/controls",
          "model_name": "DescriptionStyleModel",
          "state": {
            "_view_name": "StyleView",
            "_model_name": "DescriptionStyleModel",
            "description_width": "",
            "_view_module": "@jupyter-widgets/base",
            "_model_module_version": "1.5.0",
            "_view_count": null,
            "_view_module_version": "1.2.0",
            "_model_module": "@jupyter-widgets/controls"
          }
        },
        "962651f6a76a473ba6213c2f27635b11": {
          "model_module": "@jupyter-widgets/base",
          "model_name": "LayoutModel",
          "state": {
            "_view_name": "LayoutView",
            "grid_template_rows": null,
            "right": null,
            "justify_content": null,
            "_view_module": "@jupyter-widgets/base",
            "overflow": null,
            "_model_module_version": "1.2.0",
            "_view_count": null,
            "flex_flow": null,
            "width": null,
            "min_width": null,
            "border": null,
            "align_items": null,
            "bottom": null,
            "_model_module": "@jupyter-widgets/base",
            "top": null,
            "grid_column": null,
            "overflow_y": null,
            "overflow_x": null,
            "grid_auto_flow": null,
            "grid_area": null,
            "grid_template_columns": null,
            "flex": null,
            "_model_name": "LayoutModel",
            "justify_items": null,
            "grid_row": null,
            "max_height": null,
            "align_content": null,
            "visibility": null,
            "align_self": null,
            "height": null,
            "min_height": null,
            "padding": null,
            "grid_auto_rows": null,
            "grid_gap": null,
            "max_width": null,
            "order": null,
            "_view_module_version": "1.2.0",
            "grid_template_areas": null,
            "object_position": null,
            "object_fit": null,
            "grid_auto_columns": null,
            "margin": null,
            "display": null,
            "left": null
          }
        },
        "5d3e537c17aa4c7396fba6e17fab2320": {
          "model_module": "@jupyter-widgets/controls",
          "model_name": "SliderStyleModel",
          "state": {
            "_view_name": "StyleView",
            "handle_color": null,
            "_model_name": "SliderStyleModel",
            "description_width": "",
            "_view_module": "@jupyter-widgets/base",
            "_model_module_version": "1.5.0",
            "_view_count": null,
            "_view_module_version": "1.2.0",
            "_model_module": "@jupyter-widgets/controls"
          }
        },
        "9bf120ea7c2146f1b6a94741b9e29164": {
          "model_module": "@jupyter-widgets/base",
          "model_name": "LayoutModel",
          "state": {
            "_view_name": "LayoutView",
            "grid_template_rows": null,
            "right": null,
            "justify_content": null,
            "_view_module": "@jupyter-widgets/base",
            "overflow": null,
            "_model_module_version": "1.2.0",
            "_view_count": null,
            "flex_flow": null,
            "width": null,
            "min_width": null,
            "border": null,
            "align_items": null,
            "bottom": null,
            "_model_module": "@jupyter-widgets/base",
            "top": null,
            "grid_column": null,
            "overflow_y": null,
            "overflow_x": null,
            "grid_auto_flow": null,
            "grid_area": null,
            "grid_template_columns": null,
            "flex": null,
            "_model_name": "LayoutModel",
            "justify_items": null,
            "grid_row": null,
            "max_height": null,
            "align_content": null,
            "visibility": null,
            "align_self": null,
            "height": null,
            "min_height": null,
            "padding": null,
            "grid_auto_rows": null,
            "grid_gap": null,
            "max_width": null,
            "order": null,
            "_view_module_version": "1.2.0",
            "grid_template_areas": null,
            "object_position": null,
            "object_fit": null,
            "grid_auto_columns": null,
            "margin": null,
            "display": null,
            "left": null
          }
        },
        "987f2d733f43424fbb4e96e50ea313f6": {
          "model_module": "@jupyter-widgets/controls",
          "model_name": "HTMLModel",
          "state": {
            "_view_name": "HTMLView",
            "style": "IPY_MODEL_b4303c47ebfa428886c0aab8fbf92f4f",
            "_dom_classes": [],
            "description": "",
            "_model_name": "HTMLModel",
            "placeholder": "​",
            "_view_module": "@jupyter-widgets/controls",
            "_model_module_version": "1.5.0",
            "value": "<b>Edge Properties - Number of neighbours each node is connected to according to input types.</b>",
            "_view_count": null,
            "_view_module_version": "1.5.0",
            "description_tooltip": null,
            "_model_module": "@jupyter-widgets/controls",
            "layout": "IPY_MODEL_cc208d89a5164ba983f60aa300321867"
          }
        },
        "b4303c47ebfa428886c0aab8fbf92f4f": {
          "model_module": "@jupyter-widgets/controls",
          "model_name": "DescriptionStyleModel",
          "state": {
            "_view_name": "StyleView",
            "_model_name": "DescriptionStyleModel",
            "description_width": "",
            "_view_module": "@jupyter-widgets/base",
            "_model_module_version": "1.5.0",
            "_view_count": null,
            "_view_module_version": "1.2.0",
            "_model_module": "@jupyter-widgets/controls"
          }
        },
        "cc208d89a5164ba983f60aa300321867": {
          "model_module": "@jupyter-widgets/base",
          "model_name": "LayoutModel",
          "state": {
            "_view_name": "LayoutView",
            "grid_template_rows": null,
            "right": null,
            "justify_content": null,
            "_view_module": "@jupyter-widgets/base",
            "overflow": null,
            "_model_module_version": "1.2.0",
            "_view_count": null,
            "flex_flow": null,
            "width": null,
            "min_width": null,
            "border": null,
            "align_items": null,
            "bottom": null,
            "_model_module": "@jupyter-widgets/base",
            "top": null,
            "grid_column": null,
            "overflow_y": null,
            "overflow_x": null,
            "grid_auto_flow": null,
            "grid_area": null,
            "grid_template_columns": null,
            "flex": null,
            "_model_name": "LayoutModel",
            "justify_items": null,
            "grid_row": null,
            "max_height": null,
            "align_content": null,
            "visibility": null,
            "align_self": null,
            "height": null,
            "min_height": null,
            "padding": null,
            "grid_auto_rows": null,
            "grid_gap": null,
            "max_width": null,
            "order": null,
            "_view_module_version": "1.2.0",
            "grid_template_areas": null,
            "object_position": null,
            "object_fit": null,
            "grid_auto_columns": null,
            "margin": null,
            "display": null,
            "left": null
          }
        },
        "bb08fed25a59412faf5294005b890206": {
          "model_module": "@jupyter-widgets/controls",
          "model_name": "BoxModel",
          "state": {
            "_view_name": "BoxView",
            "_dom_classes": [],
            "_model_name": "BoxModel",
            "_view_module": "@jupyter-widgets/controls",
            "_model_module_version": "1.5.0",
            "_view_count": null,
            "_view_module_version": "1.5.0",
            "box_style": "",
            "layout": "IPY_MODEL_36d5baee84a94192b3ebe445549a3dc2",
            "_model_module": "@jupyter-widgets/controls",
            "children": [
              "IPY_MODEL_c831b177a5004de4a21666ec65ee5f3b",
              "IPY_MODEL_9b944acfac4247fb9dd2fe4e1bed7d97",
              "IPY_MODEL_d6328dab868b415db4c78112baccb1c0"
            ]
          }
        },
        "36d5baee84a94192b3ebe445549a3dc2": {
          "model_module": "@jupyter-widgets/base",
          "model_name": "LayoutModel",
          "state": {
            "_view_name": "LayoutView",
            "grid_template_rows": null,
            "right": null,
            "justify_content": null,
            "_view_module": "@jupyter-widgets/base",
            "overflow": null,
            "_model_module_version": "1.2.0",
            "_view_count": null,
            "flex_flow": "row",
            "width": "900px",
            "min_width": null,
            "border": null,
            "align_items": null,
            "bottom": null,
            "_model_module": "@jupyter-widgets/base",
            "top": null,
            "grid_column": null,
            "overflow_y": null,
            "overflow_x": null,
            "grid_auto_flow": null,
            "grid_area": null,
            "grid_template_columns": null,
            "flex": null,
            "_model_name": "LayoutModel",
            "justify_items": null,
            "grid_row": null,
            "max_height": null,
            "align_content": null,
            "visibility": null,
            "align_self": null,
            "height": null,
            "min_height": null,
            "padding": null,
            "grid_auto_rows": null,
            "grid_gap": null,
            "max_width": null,
            "order": null,
            "_view_module_version": "1.2.0",
            "grid_template_areas": null,
            "object_position": null,
            "object_fit": null,
            "grid_auto_columns": null,
            "margin": null,
            "display": "flex",
            "left": null
          }
        },
        "c831b177a5004de4a21666ec65ee5f3b": {
          "model_module": "@jupyter-widgets/controls",
          "model_name": "IntTextModel",
          "state": {
            "_view_name": "IntTextView",
            "style": "IPY_MODEL_aa159d8973db43f289f128566138a26a",
            "_dom_classes": [],
            "description": "Hyperspectral - ",
            "_model_name": "IntTextModel",
            "_view_module": "@jupyter-widgets/controls",
            "_model_module_version": "1.5.0",
            "value": 2,
            "_view_count": null,
            "disabled": false,
            "_view_module_version": "1.5.0",
            "continuous_update": false,
            "step": 1,
            "description_tooltip": null,
            "_model_module": "@jupyter-widgets/controls",
            "layout": "IPY_MODEL_1b12da7dbf7f40439f8157dcd62dc165"
          }
        },
        "9b944acfac4247fb9dd2fe4e1bed7d97": {
          "model_module": "@jupyter-widgets/controls",
          "model_name": "IntTextModel",
          "state": {
            "_view_name": "IntTextView",
            "style": "IPY_MODEL_6c68ec7a90094aad9415046ac522122f",
            "_dom_classes": [],
            "description": "LiDAR - ",
            "_model_name": "IntTextModel",
            "_view_module": "@jupyter-widgets/controls",
            "_model_module_version": "1.5.0",
            "value": 2,
            "_view_count": null,
            "disabled": false,
            "_view_module_version": "1.5.0",
            "continuous_update": false,
            "step": 1,
            "description_tooltip": null,
            "_model_module": "@jupyter-widgets/controls",
            "layout": "IPY_MODEL_fb5bba434d1d44ef9cf9c0ee67328fd9"
          }
        },
        "d6328dab868b415db4c78112baccb1c0": {
          "model_module": "@jupyter-widgets/controls",
          "model_name": "IntTextModel",
          "state": {
            "_view_name": "IntTextView",
            "style": "IPY_MODEL_5877a52b1ec94f36a019b7016f01bb03",
            "_dom_classes": [],
            "description": "High - ",
            "_model_name": "IntTextModel",
            "_view_module": "@jupyter-widgets/controls",
            "_model_module_version": "1.5.0",
            "value": 2,
            "_view_count": null,
            "disabled": false,
            "_view_module_version": "1.5.0",
            "continuous_update": false,
            "step": 1,
            "description_tooltip": null,
            "_model_module": "@jupyter-widgets/controls",
            "layout": "IPY_MODEL_b00bedeb37a143569846516947d25e41"
          }
        },
        "aa159d8973db43f289f128566138a26a": {
          "model_module": "@jupyter-widgets/controls",
          "model_name": "DescriptionStyleModel",
          "state": {
            "_view_name": "StyleView",
            "_model_name": "DescriptionStyleModel",
            "description_width": "",
            "_view_module": "@jupyter-widgets/base",
            "_model_module_version": "1.5.0",
            "_view_count": null,
            "_view_module_version": "1.2.0",
            "_model_module": "@jupyter-widgets/controls"
          }
        },
        "1b12da7dbf7f40439f8157dcd62dc165": {
          "model_module": "@jupyter-widgets/base",
          "model_name": "LayoutModel",
          "state": {
            "_view_name": "LayoutView",
            "grid_template_rows": null,
            "right": null,
            "justify_content": null,
            "_view_module": "@jupyter-widgets/base",
            "overflow": null,
            "_model_module_version": "1.2.0",
            "_view_count": null,
            "flex_flow": null,
            "width": "max-content",
            "min_width": null,
            "border": null,
            "align_items": null,
            "bottom": null,
            "_model_module": "@jupyter-widgets/base",
            "top": null,
            "grid_column": null,
            "overflow_y": null,
            "overflow_x": null,
            "grid_auto_flow": null,
            "grid_area": null,
            "grid_template_columns": null,
            "flex": null,
            "_model_name": "LayoutModel",
            "justify_items": null,
            "grid_row": null,
            "max_height": null,
            "align_content": null,
            "visibility": null,
            "align_self": null,
            "height": null,
            "min_height": null,
            "padding": null,
            "grid_auto_rows": null,
            "grid_gap": null,
            "max_width": null,
            "order": null,
            "_view_module_version": "1.2.0",
            "grid_template_areas": null,
            "object_position": null,
            "object_fit": null,
            "grid_auto_columns": null,
            "margin": null,
            "display": null,
            "left": null
          }
        },
        "6c68ec7a90094aad9415046ac522122f": {
          "model_module": "@jupyter-widgets/controls",
          "model_name": "DescriptionStyleModel",
          "state": {
            "_view_name": "StyleView",
            "_model_name": "DescriptionStyleModel",
            "description_width": "",
            "_view_module": "@jupyter-widgets/base",
            "_model_module_version": "1.5.0",
            "_view_count": null,
            "_view_module_version": "1.2.0",
            "_model_module": "@jupyter-widgets/controls"
          }
        },
        "fb5bba434d1d44ef9cf9c0ee67328fd9": {
          "model_module": "@jupyter-widgets/base",
          "model_name": "LayoutModel",
          "state": {
            "_view_name": "LayoutView",
            "grid_template_rows": null,
            "right": null,
            "justify_content": null,
            "_view_module": "@jupyter-widgets/base",
            "overflow": null,
            "_model_module_version": "1.2.0",
            "_view_count": null,
            "flex_flow": null,
            "width": "max-content",
            "min_width": null,
            "border": null,
            "align_items": null,
            "bottom": null,
            "_model_module": "@jupyter-widgets/base",
            "top": null,
            "grid_column": null,
            "overflow_y": null,
            "overflow_x": null,
            "grid_auto_flow": null,
            "grid_area": null,
            "grid_template_columns": null,
            "flex": null,
            "_model_name": "LayoutModel",
            "justify_items": null,
            "grid_row": null,
            "max_height": null,
            "align_content": null,
            "visibility": null,
            "align_self": null,
            "height": null,
            "min_height": null,
            "padding": null,
            "grid_auto_rows": null,
            "grid_gap": null,
            "max_width": null,
            "order": null,
            "_view_module_version": "1.2.0",
            "grid_template_areas": null,
            "object_position": null,
            "object_fit": null,
            "grid_auto_columns": null,
            "margin": null,
            "display": null,
            "left": null
          }
        },
        "5877a52b1ec94f36a019b7016f01bb03": {
          "model_module": "@jupyter-widgets/controls",
          "model_name": "DescriptionStyleModel",
          "state": {
            "_view_name": "StyleView",
            "_model_name": "DescriptionStyleModel",
            "description_width": "",
            "_view_module": "@jupyter-widgets/base",
            "_model_module_version": "1.5.0",
            "_view_count": null,
            "_view_module_version": "1.2.0",
            "_model_module": "@jupyter-widgets/controls"
          }
        },
        "b00bedeb37a143569846516947d25e41": {
          "model_module": "@jupyter-widgets/base",
          "model_name": "LayoutModel",
          "state": {
            "_view_name": "LayoutView",
            "grid_template_rows": null,
            "right": null,
            "justify_content": null,
            "_view_module": "@jupyter-widgets/base",
            "overflow": null,
            "_model_module_version": "1.2.0",
            "_view_count": null,
            "flex_flow": null,
            "width": "max-content",
            "min_width": null,
            "border": null,
            "align_items": null,
            "bottom": null,
            "_model_module": "@jupyter-widgets/base",
            "top": null,
            "grid_column": null,
            "overflow_y": null,
            "overflow_x": null,
            "grid_auto_flow": null,
            "grid_area": null,
            "grid_template_columns": null,
            "flex": null,
            "_model_name": "LayoutModel",
            "justify_items": null,
            "grid_row": null,
            "max_height": null,
            "align_content": null,
            "visibility": null,
            "align_self": null,
            "height": null,
            "min_height": null,
            "padding": null,
            "grid_auto_rows": null,
            "grid_gap": null,
            "max_width": null,
            "order": null,
            "_view_module_version": "1.2.0",
            "grid_template_areas": null,
            "object_position": null,
            "object_fit": null,
            "grid_auto_columns": null,
            "margin": null,
            "display": null,
            "left": null
          }
        },
        "4d642936e36d4d9c93abd6f62b836928": {
          "model_module": "@jupyter-widgets/controls",
          "model_name": "BoxModel",
          "state": {
            "_view_name": "BoxView",
            "_dom_classes": [],
            "_model_name": "BoxModel",
            "_view_module": "@jupyter-widgets/controls",
            "_model_module_version": "1.5.0",
            "_view_count": null,
            "_view_module_version": "1.5.0",
            "box_style": "",
            "layout": "IPY_MODEL_6e302894a1e74d69afa8fa9e900117b7",
            "_model_module": "@jupyter-widgets/controls",
            "children": [
              "IPY_MODEL_a057e0b6f35246f2ba611fa9cd3e030b",
              "IPY_MODEL_282a0b009ff445bb9e4860c289b65f15",
              "IPY_MODEL_a6c091613d864ed090bd74dda4335679",
              "IPY_MODEL_61968c39de664b77aaf05ebb32318c05"
            ]
          }
        },
        "6e302894a1e74d69afa8fa9e900117b7": {
          "model_module": "@jupyter-widgets/base",
          "model_name": "LayoutModel",
          "state": {
            "_view_name": "LayoutView",
            "grid_template_rows": null,
            "right": null,
            "justify_content": null,
            "_view_module": "@jupyter-widgets/base",
            "overflow": null,
            "_model_module_version": "1.2.0",
            "_view_count": null,
            "flex_flow": null,
            "width": null,
            "min_width": null,
            "border": null,
            "align_items": null,
            "bottom": null,
            "_model_module": "@jupyter-widgets/base",
            "top": null,
            "grid_column": null,
            "overflow_y": null,
            "overflow_x": null,
            "grid_auto_flow": null,
            "grid_area": null,
            "grid_template_columns": null,
            "flex": null,
            "_model_name": "LayoutModel",
            "justify_items": null,
            "grid_row": null,
            "max_height": null,
            "align_content": null,
            "visibility": null,
            "align_self": null,
            "height": null,
            "min_height": null,
            "padding": null,
            "grid_auto_rows": null,
            "grid_gap": null,
            "max_width": null,
            "order": null,
            "_view_module_version": "1.2.0",
            "grid_template_areas": null,
            "object_position": null,
            "object_fit": null,
            "grid_auto_columns": null,
            "margin": null,
            "display": null,
            "left": null
          }
        },
        "a057e0b6f35246f2ba611fa9cd3e030b": {
          "model_module": "@jupyter-widgets/controls",
          "model_name": "LabelModel",
          "state": {
            "_view_name": "LabelView",
            "style": "IPY_MODEL_d9f23eee70cc4d5eac1f8ec5eaecdbd3",
            "_dom_classes": [],
            "description": "",
            "_model_name": "LabelModel",
            "placeholder": "​",
            "_view_module": "@jupyter-widgets/controls",
            "_model_module_version": "1.5.0",
            "value": "Geographical Edges - ",
            "_view_count": null,
            "_view_module_version": "1.5.0",
            "description_tooltip": null,
            "_model_module": "@jupyter-widgets/controls",
            "layout": "IPY_MODEL_ddefcc838b1c4c25a20a0754a1faa861"
          }
        },
        "282a0b009ff445bb9e4860c289b65f15": {
          "model_module": "@jupyter-widgets/controls",
          "model_name": "CheckboxModel",
          "state": {
            "_view_name": "CheckboxView",
            "style": "IPY_MODEL_769e5b1d3c6a4db6bac16904f568e968",
            "_dom_classes": [],
            "description": "",
            "_model_name": "CheckboxModel",
            "_view_module": "@jupyter-widgets/controls",
            "_model_module_version": "1.5.0",
            "value": false,
            "_view_count": null,
            "disabled": false,
            "_view_module_version": "1.5.0",
            "indent": false,
            "description_tooltip": null,
            "_model_module": "@jupyter-widgets/controls",
            "layout": "IPY_MODEL_1b2932cb419e4522b3f3b306c633a1ed"
          }
        },
        "a6c091613d864ed090bd74dda4335679": {
          "model_module": "@jupyter-widgets/controls",
          "model_name": "LabelModel",
          "state": {
            "_view_name": "LabelView",
            "style": "IPY_MODEL_73a546e3ee7e49f2a233aa009593e569",
            "_dom_classes": [],
            "description": "",
            "_model_name": "LabelModel",
            "placeholder": "​",
            "_view_module": "@jupyter-widgets/controls",
            "_model_module_version": "1.5.0",
            "value": "Geographical Neighbours - ",
            "_view_count": null,
            "_view_module_version": "1.5.0",
            "description_tooltip": null,
            "_model_module": "@jupyter-widgets/controls",
            "layout": "IPY_MODEL_f0697f7c940e4816a3d19bd783bbf381"
          }
        },
        "61968c39de664b77aaf05ebb32318c05": {
          "model_module": "@jupyter-widgets/controls",
          "model_name": "IntTextModel",
          "state": {
            "_view_name": "IntTextView",
            "style": "IPY_MODEL_5770a9070aa1403e96e7e25515ca0a58",
            "_dom_classes": [],
            "description": "",
            "_model_name": "IntTextModel",
            "_view_module": "@jupyter-widgets/controls",
            "_model_module_version": "1.5.0",
            "value": 2,
            "_view_count": null,
            "disabled": false,
            "_view_module_version": "1.5.0",
            "continuous_update": false,
            "step": 1,
            "description_tooltip": null,
            "_model_module": "@jupyter-widgets/controls",
            "layout": "IPY_MODEL_2d64b9a2e55e46fd85326542e367281f"
          }
        },
        "d9f23eee70cc4d5eac1f8ec5eaecdbd3": {
          "model_module": "@jupyter-widgets/controls",
          "model_name": "DescriptionStyleModel",
          "state": {
            "_view_name": "StyleView",
            "_model_name": "DescriptionStyleModel",
            "description_width": "",
            "_view_module": "@jupyter-widgets/base",
            "_model_module_version": "1.5.0",
            "_view_count": null,
            "_view_module_version": "1.2.0",
            "_model_module": "@jupyter-widgets/controls"
          }
        },
        "ddefcc838b1c4c25a20a0754a1faa861": {
          "model_module": "@jupyter-widgets/base",
          "model_name": "LayoutModel",
          "state": {
            "_view_name": "LayoutView",
            "grid_template_rows": null,
            "right": null,
            "justify_content": null,
            "_view_module": "@jupyter-widgets/base",
            "overflow": null,
            "_model_module_version": "1.2.0",
            "_view_count": null,
            "flex_flow": null,
            "width": null,
            "min_width": null,
            "border": null,
            "align_items": null,
            "bottom": null,
            "_model_module": "@jupyter-widgets/base",
            "top": null,
            "grid_column": null,
            "overflow_y": null,
            "overflow_x": null,
            "grid_auto_flow": null,
            "grid_area": null,
            "grid_template_columns": null,
            "flex": null,
            "_model_name": "LayoutModel",
            "justify_items": null,
            "grid_row": null,
            "max_height": null,
            "align_content": null,
            "visibility": null,
            "align_self": null,
            "height": null,
            "min_height": null,
            "padding": null,
            "grid_auto_rows": null,
            "grid_gap": null,
            "max_width": null,
            "order": null,
            "_view_module_version": "1.2.0",
            "grid_template_areas": null,
            "object_position": null,
            "object_fit": null,
            "grid_auto_columns": null,
            "margin": null,
            "display": null,
            "left": null
          }
        },
        "769e5b1d3c6a4db6bac16904f568e968": {
          "model_module": "@jupyter-widgets/controls",
          "model_name": "DescriptionStyleModel",
          "state": {
            "_view_name": "StyleView",
            "_model_name": "DescriptionStyleModel",
            "description_width": "",
            "_view_module": "@jupyter-widgets/base",
            "_model_module_version": "1.5.0",
            "_view_count": null,
            "_view_module_version": "1.2.0",
            "_model_module": "@jupyter-widgets/controls"
          }
        },
        "1b2932cb419e4522b3f3b306c633a1ed": {
          "model_module": "@jupyter-widgets/base",
          "model_name": "LayoutModel",
          "state": {
            "_view_name": "LayoutView",
            "grid_template_rows": null,
            "right": null,
            "justify_content": null,
            "_view_module": "@jupyter-widgets/base",
            "overflow": null,
            "_model_module_version": "1.2.0",
            "_view_count": null,
            "flex_flow": null,
            "width": "max-content",
            "min_width": null,
            "border": null,
            "align_items": null,
            "bottom": null,
            "_model_module": "@jupyter-widgets/base",
            "top": null,
            "grid_column": null,
            "overflow_y": null,
            "overflow_x": null,
            "grid_auto_flow": null,
            "grid_area": null,
            "grid_template_columns": null,
            "flex": null,
            "_model_name": "LayoutModel",
            "justify_items": null,
            "grid_row": null,
            "max_height": null,
            "align_content": null,
            "visibility": null,
            "align_self": null,
            "height": null,
            "min_height": null,
            "padding": null,
            "grid_auto_rows": null,
            "grid_gap": null,
            "max_width": null,
            "order": null,
            "_view_module_version": "1.2.0",
            "grid_template_areas": null,
            "object_position": null,
            "object_fit": null,
            "grid_auto_columns": null,
            "margin": null,
            "display": null,
            "left": null
          }
        },
        "73a546e3ee7e49f2a233aa009593e569": {
          "model_module": "@jupyter-widgets/controls",
          "model_name": "DescriptionStyleModel",
          "state": {
            "_view_name": "StyleView",
            "_model_name": "DescriptionStyleModel",
            "description_width": "",
            "_view_module": "@jupyter-widgets/base",
            "_model_module_version": "1.5.0",
            "_view_count": null,
            "_view_module_version": "1.2.0",
            "_model_module": "@jupyter-widgets/controls"
          }
        },
        "f0697f7c940e4816a3d19bd783bbf381": {
          "model_module": "@jupyter-widgets/base",
          "model_name": "LayoutModel",
          "state": {
            "_view_name": "LayoutView",
            "grid_template_rows": null,
            "right": null,
            "justify_content": null,
            "_view_module": "@jupyter-widgets/base",
            "overflow": null,
            "_model_module_version": "1.2.0",
            "_view_count": null,
            "flex_flow": null,
            "width": null,
            "min_width": null,
            "border": null,
            "align_items": null,
            "bottom": null,
            "_model_module": "@jupyter-widgets/base",
            "top": null,
            "grid_column": null,
            "overflow_y": null,
            "overflow_x": null,
            "grid_auto_flow": null,
            "grid_area": null,
            "grid_template_columns": null,
            "flex": null,
            "_model_name": "LayoutModel",
            "justify_items": null,
            "grid_row": null,
            "max_height": null,
            "align_content": null,
            "visibility": null,
            "align_self": null,
            "height": null,
            "min_height": null,
            "padding": null,
            "grid_auto_rows": null,
            "grid_gap": null,
            "max_width": null,
            "order": null,
            "_view_module_version": "1.2.0",
            "grid_template_areas": null,
            "object_position": null,
            "object_fit": null,
            "grid_auto_columns": null,
            "margin": null,
            "display": null,
            "left": null
          }
        },
        "5770a9070aa1403e96e7e25515ca0a58": {
          "model_module": "@jupyter-widgets/controls",
          "model_name": "DescriptionStyleModel",
          "state": {
            "_view_name": "StyleView",
            "_model_name": "DescriptionStyleModel",
            "description_width": "",
            "_view_module": "@jupyter-widgets/base",
            "_model_module_version": "1.5.0",
            "_view_count": null,
            "_view_module_version": "1.2.0",
            "_model_module": "@jupyter-widgets/controls"
          }
        },
        "2d64b9a2e55e46fd85326542e367281f": {
          "model_module": "@jupyter-widgets/base",
          "model_name": "LayoutModel",
          "state": {
            "_view_name": "LayoutView",
            "grid_template_rows": null,
            "right": null,
            "justify_content": null,
            "_view_module": "@jupyter-widgets/base",
            "overflow": null,
            "_model_module_version": "1.2.0",
            "_view_count": null,
            "flex_flow": null,
            "width": "max-content",
            "min_width": null,
            "border": null,
            "align_items": null,
            "bottom": null,
            "_model_module": "@jupyter-widgets/base",
            "top": null,
            "grid_column": null,
            "overflow_y": null,
            "overflow_x": null,
            "grid_auto_flow": null,
            "grid_area": null,
            "grid_template_columns": null,
            "flex": null,
            "_model_name": "LayoutModel",
            "justify_items": null,
            "grid_row": null,
            "max_height": null,
            "align_content": null,
            "visibility": null,
            "align_self": null,
            "height": null,
            "min_height": null,
            "padding": null,
            "grid_auto_rows": null,
            "grid_gap": null,
            "max_width": null,
            "order": null,
            "_view_module_version": "1.2.0",
            "grid_template_areas": null,
            "object_position": null,
            "object_fit": null,
            "grid_auto_columns": null,
            "margin": null,
            "display": null,
            "left": null
          }
        },
        "906ecddf488a4bd0ab5fa995a62321ee": {
          "model_module": "@jupyter-widgets/controls",
          "model_name": "HTMLModel",
          "state": {
            "_view_name": "HTMLView",
            "style": "IPY_MODEL_c767d9b55cfa4427a5de02add89790f2",
            "_dom_classes": [],
            "description": "",
            "_model_name": "HTMLModel",
            "placeholder": "​",
            "_view_module": "@jupyter-widgets/controls",
            "_model_module_version": "1.5.0",
            "value": "<b>Class Properties</b>",
            "_view_count": null,
            "_view_module_version": "1.5.0",
            "description_tooltip": null,
            "_model_module": "@jupyter-widgets/controls",
            "layout": "IPY_MODEL_42120781d63344dd89894387c66ad8db"
          }
        },
        "c767d9b55cfa4427a5de02add89790f2": {
          "model_module": "@jupyter-widgets/controls",
          "model_name": "DescriptionStyleModel",
          "state": {
            "_view_name": "StyleView",
            "_model_name": "DescriptionStyleModel",
            "description_width": "",
            "_view_module": "@jupyter-widgets/base",
            "_model_module_version": "1.5.0",
            "_view_count": null,
            "_view_module_version": "1.2.0",
            "_model_module": "@jupyter-widgets/controls"
          }
        },
        "42120781d63344dd89894387c66ad8db": {
          "model_module": "@jupyter-widgets/base",
          "model_name": "LayoutModel",
          "state": {
            "_view_name": "LayoutView",
            "grid_template_rows": null,
            "right": null,
            "justify_content": null,
            "_view_module": "@jupyter-widgets/base",
            "overflow": null,
            "_model_module_version": "1.2.0",
            "_view_count": null,
            "flex_flow": null,
            "width": null,
            "min_width": null,
            "border": null,
            "align_items": null,
            "bottom": null,
            "_model_module": "@jupyter-widgets/base",
            "top": null,
            "grid_column": null,
            "overflow_y": null,
            "overflow_x": null,
            "grid_auto_flow": null,
            "grid_area": null,
            "grid_template_columns": null,
            "flex": null,
            "_model_name": "LayoutModel",
            "justify_items": null,
            "grid_row": null,
            "max_height": null,
            "align_content": null,
            "visibility": null,
            "align_self": null,
            "height": null,
            "min_height": null,
            "padding": null,
            "grid_auto_rows": null,
            "grid_gap": null,
            "max_width": null,
            "order": null,
            "_view_module_version": "1.2.0",
            "grid_template_areas": null,
            "object_position": null,
            "object_fit": null,
            "grid_auto_columns": null,
            "margin": null,
            "display": null,
            "left": null
          }
        },
        "9d30ae71ea7b4e1ebf5758698a8128b4": {
          "model_module": "@jupyter-widgets/controls",
          "model_name": "HTMLModel",
          "state": {
            "_view_name": "HTMLView",
            "style": "IPY_MODEL_538f0931b9c7476d9fd9b5a202b4e32f",
            "_dom_classes": [],
            "description": "",
            "_model_name": "HTMLModel",
            "placeholder": "​",
            "_view_module": "@jupyter-widgets/controls",
            "_model_module_version": "1.5.0",
            "value": "Label Classes - [ 0  1  2  3  4  5  6  7  8  9 10 11 12 13 14 15 16 17 18 19 20]",
            "_view_count": null,
            "_view_module_version": "1.5.0",
            "description_tooltip": null,
            "_model_module": "@jupyter-widgets/controls",
            "layout": "IPY_MODEL_7d24c2b7b6554051bd66824310d3d1fd"
          }
        },
        "538f0931b9c7476d9fd9b5a202b4e32f": {
          "model_module": "@jupyter-widgets/controls",
          "model_name": "DescriptionStyleModel",
          "state": {
            "_view_name": "StyleView",
            "_model_name": "DescriptionStyleModel",
            "description_width": "",
            "_view_module": "@jupyter-widgets/base",
            "_model_module_version": "1.5.0",
            "_view_count": null,
            "_view_module_version": "1.2.0",
            "_model_module": "@jupyter-widgets/controls"
          }
        },
        "7d24c2b7b6554051bd66824310d3d1fd": {
          "model_module": "@jupyter-widgets/base",
          "model_name": "LayoutModel",
          "state": {
            "_view_name": "LayoutView",
            "grid_template_rows": null,
            "right": null,
            "justify_content": null,
            "_view_module": "@jupyter-widgets/base",
            "overflow": null,
            "_model_module_version": "1.2.0",
            "_view_count": null,
            "flex_flow": null,
            "width": null,
            "min_width": null,
            "border": null,
            "align_items": null,
            "bottom": null,
            "_model_module": "@jupyter-widgets/base",
            "top": null,
            "grid_column": null,
            "overflow_y": null,
            "overflow_x": null,
            "grid_auto_flow": null,
            "grid_area": null,
            "grid_template_columns": null,
            "flex": null,
            "_model_name": "LayoutModel",
            "justify_items": null,
            "grid_row": null,
            "max_height": null,
            "align_content": null,
            "visibility": null,
            "align_self": null,
            "height": null,
            "min_height": null,
            "padding": null,
            "grid_auto_rows": null,
            "grid_gap": null,
            "max_width": null,
            "order": null,
            "_view_module_version": "1.2.0",
            "grid_template_areas": null,
            "object_position": null,
            "object_fit": null,
            "grid_auto_columns": null,
            "margin": null,
            "display": null,
            "left": null
          }
        },
        "de79eaac1b284805a4432d67090170c5": {
          "model_module": "@jupyter-widgets/controls",
          "model_name": "BoxModel",
          "state": {
            "_view_name": "BoxView",
            "_dom_classes": [],
            "_model_name": "BoxModel",
            "_view_module": "@jupyter-widgets/controls",
            "_model_module_version": "1.5.0",
            "_view_count": null,
            "_view_module_version": "1.5.0",
            "box_style": "",
            "layout": "IPY_MODEL_e08670a09047494d965b223d0a8b9192",
            "_model_module": "@jupyter-widgets/controls",
            "children": [
              "IPY_MODEL_84680bce32c5428a82c9ccf728a5728a",
              "IPY_MODEL_3168533c7fee4ef882f252680b9bbb89"
            ]
          }
        },
        "e08670a09047494d965b223d0a8b9192": {
          "model_module": "@jupyter-widgets/base",
          "model_name": "LayoutModel",
          "state": {
            "_view_name": "LayoutView",
            "grid_template_rows": null,
            "right": null,
            "justify_content": null,
            "_view_module": "@jupyter-widgets/base",
            "overflow": null,
            "_model_module_version": "1.2.0",
            "_view_count": null,
            "flex_flow": null,
            "width": null,
            "min_width": null,
            "border": null,
            "align_items": null,
            "bottom": null,
            "_model_module": "@jupyter-widgets/base",
            "top": null,
            "grid_column": null,
            "overflow_y": null,
            "overflow_x": null,
            "grid_auto_flow": null,
            "grid_area": null,
            "grid_template_columns": null,
            "flex": null,
            "_model_name": "LayoutModel",
            "justify_items": null,
            "grid_row": null,
            "max_height": null,
            "align_content": null,
            "visibility": null,
            "align_self": null,
            "height": null,
            "min_height": null,
            "padding": null,
            "grid_auto_rows": null,
            "grid_gap": null,
            "max_width": null,
            "order": null,
            "_view_module_version": "1.2.0",
            "grid_template_areas": null,
            "object_position": null,
            "object_fit": null,
            "grid_auto_columns": null,
            "margin": null,
            "display": null,
            "left": null
          }
        },
        "84680bce32c5428a82c9ccf728a5728a": {
          "model_module": "@jupyter-widgets/controls",
          "model_name": "LabelModel",
          "state": {
            "_view_name": "LabelView",
            "style": "IPY_MODEL_5133ef29334c48c3af38472245394d80",
            "_dom_classes": [],
            "description": "",
            "_model_name": "LabelModel",
            "placeholder": "​",
            "_view_module": "@jupyter-widgets/controls",
            "_model_module_version": "1.5.0",
            "value": "Classes for Model - ",
            "_view_count": null,
            "_view_module_version": "1.5.0",
            "description_tooltip": null,
            "_model_module": "@jupyter-widgets/controls",
            "layout": "IPY_MODEL_8305d3bb097f47edbeff723f54031147"
          }
        },
        "3168533c7fee4ef882f252680b9bbb89": {
          "model_module": "@jupyter-widgets/controls",
          "model_name": "DropdownModel",
          "state": {
            "_options_labels": [
              "2",
              "3",
              "4",
              "5",
              "6",
              "7",
              "8",
              "9",
              "10",
              "11",
              "12",
              "13",
              "14",
              "15",
              "16",
              "17",
              "18",
              "19",
              "20",
              "21"
            ],
            "_view_name": "DropdownView",
            "style": "IPY_MODEL_07d2b7272b24424cab96e0af959d4c47",
            "_dom_classes": [],
            "description": "",
            "_model_name": "DropdownModel",
            "index": 0,
            "_view_module": "@jupyter-widgets/controls",
            "_model_module_version": "1.5.0",
            "_view_count": null,
            "disabled": false,
            "_view_module_version": "1.5.0",
            "description_tooltip": null,
            "_model_module": "@jupyter-widgets/controls",
            "layout": "IPY_MODEL_032b5ebbeaa44e05b1c99afdfddcff20"
          }
        },
        "5133ef29334c48c3af38472245394d80": {
          "model_module": "@jupyter-widgets/controls",
          "model_name": "DescriptionStyleModel",
          "state": {
            "_view_name": "StyleView",
            "_model_name": "DescriptionStyleModel",
            "description_width": "",
            "_view_module": "@jupyter-widgets/base",
            "_model_module_version": "1.5.0",
            "_view_count": null,
            "_view_module_version": "1.2.0",
            "_model_module": "@jupyter-widgets/controls"
          }
        },
        "8305d3bb097f47edbeff723f54031147": {
          "model_module": "@jupyter-widgets/base",
          "model_name": "LayoutModel",
          "state": {
            "_view_name": "LayoutView",
            "grid_template_rows": null,
            "right": null,
            "justify_content": null,
            "_view_module": "@jupyter-widgets/base",
            "overflow": null,
            "_model_module_version": "1.2.0",
            "_view_count": null,
            "flex_flow": null,
            "width": null,
            "min_width": null,
            "border": null,
            "align_items": null,
            "bottom": null,
            "_model_module": "@jupyter-widgets/base",
            "top": null,
            "grid_column": null,
            "overflow_y": null,
            "overflow_x": null,
            "grid_auto_flow": null,
            "grid_area": null,
            "grid_template_columns": null,
            "flex": null,
            "_model_name": "LayoutModel",
            "justify_items": null,
            "grid_row": null,
            "max_height": null,
            "align_content": null,
            "visibility": null,
            "align_self": null,
            "height": null,
            "min_height": null,
            "padding": null,
            "grid_auto_rows": null,
            "grid_gap": null,
            "max_width": null,
            "order": null,
            "_view_module_version": "1.2.0",
            "grid_template_areas": null,
            "object_position": null,
            "object_fit": null,
            "grid_auto_columns": null,
            "margin": null,
            "display": null,
            "left": null
          }
        },
        "07d2b7272b24424cab96e0af959d4c47": {
          "model_module": "@jupyter-widgets/controls",
          "model_name": "DescriptionStyleModel",
          "state": {
            "_view_name": "StyleView",
            "_model_name": "DescriptionStyleModel",
            "description_width": "",
            "_view_module": "@jupyter-widgets/base",
            "_model_module_version": "1.5.0",
            "_view_count": null,
            "_view_module_version": "1.2.0",
            "_model_module": "@jupyter-widgets/controls"
          }
        },
        "032b5ebbeaa44e05b1c99afdfddcff20": {
          "model_module": "@jupyter-widgets/base",
          "model_name": "LayoutModel",
          "state": {
            "_view_name": "LayoutView",
            "grid_template_rows": null,
            "right": null,
            "justify_content": null,
            "_view_module": "@jupyter-widgets/base",
            "overflow": null,
            "_model_module_version": "1.2.0",
            "_view_count": null,
            "flex_flow": null,
            "width": null,
            "min_width": null,
            "border": null,
            "align_items": null,
            "bottom": null,
            "_model_module": "@jupyter-widgets/base",
            "top": null,
            "grid_column": null,
            "overflow_y": null,
            "overflow_x": null,
            "grid_auto_flow": null,
            "grid_area": null,
            "grid_template_columns": null,
            "flex": null,
            "_model_name": "LayoutModel",
            "justify_items": null,
            "grid_row": null,
            "max_height": null,
            "align_content": null,
            "visibility": null,
            "align_self": null,
            "height": null,
            "min_height": null,
            "padding": null,
            "grid_auto_rows": null,
            "grid_gap": null,
            "max_width": null,
            "order": null,
            "_view_module_version": "1.2.0",
            "grid_template_areas": null,
            "object_position": null,
            "object_fit": null,
            "grid_auto_columns": null,
            "margin": null,
            "display": null,
            "left": null
          }
        },
        "17056c992b05463ca57dd64ce16f7c4a": {
          "model_module": "@jupyter-widgets/controls",
          "model_name": "VBoxModel",
          "state": {
            "_view_name": "VBoxView",
            "_dom_classes": [],
            "_model_name": "VBoxModel",
            "_view_module": "@jupyter-widgets/controls",
            "_model_module_version": "1.5.0",
            "_view_count": null,
            "_view_module_version": "1.5.0",
            "box_style": "",
            "layout": "IPY_MODEL_5bf43bca64534c91831edee0d8333b16",
            "_model_module": "@jupyter-widgets/controls",
            "children": [
              "IPY_MODEL_2ef0847841814d5fa0a642b5b5a1dd68",
              "IPY_MODEL_4e59fbc86e2b454b944fe65220ff8b5d"
            ]
          }
        },
        "5bf43bca64534c91831edee0d8333b16": {
          "model_module": "@jupyter-widgets/base",
          "model_name": "LayoutModel",
          "state": {
            "_view_name": "LayoutView",
            "grid_template_rows": null,
            "right": null,
            "justify_content": null,
            "_view_module": "@jupyter-widgets/base",
            "overflow": null,
            "_model_module_version": "1.2.0",
            "_view_count": null,
            "flex_flow": null,
            "width": null,
            "min_width": null,
            "border": null,
            "align_items": null,
            "bottom": null,
            "_model_module": "@jupyter-widgets/base",
            "top": null,
            "grid_column": null,
            "overflow_y": null,
            "overflow_x": null,
            "grid_auto_flow": null,
            "grid_area": null,
            "grid_template_columns": null,
            "flex": null,
            "_model_name": "LayoutModel",
            "justify_items": null,
            "grid_row": null,
            "max_height": null,
            "align_content": null,
            "visibility": null,
            "align_self": null,
            "height": null,
            "min_height": null,
            "padding": null,
            "grid_auto_rows": null,
            "grid_gap": null,
            "max_width": null,
            "order": null,
            "_view_module_version": "1.2.0",
            "grid_template_areas": null,
            "object_position": null,
            "object_fit": null,
            "grid_auto_columns": null,
            "margin": null,
            "display": null,
            "left": null
          }
        },
        "2ef0847841814d5fa0a642b5b5a1dd68": {
          "model_module": "@jupyter-widgets/controls",
          "model_name": "ButtonModel",
          "state": {
            "_view_name": "ButtonView",
            "style": "IPY_MODEL_58bafc86ecec466e95f3b87399e3b1f1",
            "_dom_classes": [],
            "description": "Confirmed",
            "_model_name": "ButtonModel",
            "button_style": "success",
            "_view_module": "@jupyter-widgets/controls",
            "_model_module_version": "1.5.0",
            "tooltip": "Confirm",
            "_view_count": null,
            "disabled": false,
            "_view_module_version": "1.5.0",
            "layout": "IPY_MODEL_895929f9f9504b4b931bad04058c451a",
            "_model_module": "@jupyter-widgets/controls",
            "icon": "check"
          }
        },
        "4e59fbc86e2b454b944fe65220ff8b5d": {
          "model_module": "@jupyter-widgets/output",
          "model_name": "OutputModel",
          "state": {
            "_view_name": "OutputView",
            "msg_id": "",
            "_dom_classes": [],
            "_model_name": "OutputModel",
            "outputs": [
              {
                "output_type": "stream",
                "metadata": {
                  "tags": []
                },
                "text": "-------------\n",
                "stream": "stdout"
              },
              {
                "output_type": "display_data",
                "metadata": {
                  "tags": []
                },
                "application/vnd.jupyter.widget-view+json": {
                  "model_id": "f1312daa10384ca38de0349d15d4827a",
                  "version_minor": 0,
                  "version_major": 2
                },
                "text/plain": "Box(children=(Label(value='Use class clustering - Uncheck to assign classes below:'), Checkbox(value=True, ind…"
              },
              {
                "output_type": "display_data",
                "metadata": {
                  "tags": []
                },
                "application/vnd.jupyter.widget-view+json": {
                  "model_id": "2f8d28d0146f46c0a24b8a9d0679cadd",
                  "version_minor": 0,
                  "version_major": 2
                },
                "text/plain": "Box(children=(SelectMultiple(description='Class 0:', options=(0, 1, 2, 3, 4, 5, 6, 7, 8, 9, 10, 11, 12, 13, 14…"
              },
              {
                "output_type": "display_data",
                "metadata": {
                  "tags": []
                },
                "application/vnd.jupyter.widget-view+json": {
                  "model_id": "05e85e978d6b4ccba9b32060328097cf",
                  "version_minor": 0,
                  "version_major": 2
                },
                "text/plain": "HTML(value='Edit Class Names:')"
              },
              {
                "output_type": "display_data",
                "metadata": {
                  "tags": []
                },
                "application/vnd.jupyter.widget-view+json": {
                  "model_id": "2b2b6a6ff07c4d6d99dd49a6c3c65756",
                  "version_minor": 0,
                  "version_major": 2
                },
                "text/plain": "Box(children=(Text(value='cl0', description='Class 0:', placeholder='Enter Class Name'), Text(value='cl1', des…"
              }
            ],
            "_view_module": "@jupyter-widgets/output",
            "_model_module_version": "1.0.0",
            "_view_count": null,
            "_view_module_version": "1.0.0",
            "layout": "IPY_MODEL_e9306e5064f64a819ffaf0fa94dcd246",
            "_model_module": "@jupyter-widgets/output"
          }
        },
        "58bafc86ecec466e95f3b87399e3b1f1": {
          "model_module": "@jupyter-widgets/controls",
          "model_name": "ButtonStyleModel",
          "state": {
            "_view_name": "StyleView",
            "_model_name": "ButtonStyleModel",
            "_view_module": "@jupyter-widgets/base",
            "_model_module_version": "1.5.0",
            "_view_count": null,
            "button_color": null,
            "font_weight": "",
            "_view_module_version": "1.2.0",
            "_model_module": "@jupyter-widgets/controls"
          }
        },
        "895929f9f9504b4b931bad04058c451a": {
          "model_module": "@jupyter-widgets/base",
          "model_name": "LayoutModel",
          "state": {
            "_view_name": "LayoutView",
            "grid_template_rows": null,
            "right": null,
            "justify_content": null,
            "_view_module": "@jupyter-widgets/base",
            "overflow": null,
            "_model_module_version": "1.2.0",
            "_view_count": null,
            "flex_flow": null,
            "width": null,
            "min_width": null,
            "border": null,
            "align_items": null,
            "bottom": null,
            "_model_module": "@jupyter-widgets/base",
            "top": null,
            "grid_column": null,
            "overflow_y": null,
            "overflow_x": null,
            "grid_auto_flow": null,
            "grid_area": null,
            "grid_template_columns": null,
            "flex": null,
            "_model_name": "LayoutModel",
            "justify_items": null,
            "grid_row": null,
            "max_height": null,
            "align_content": null,
            "visibility": null,
            "align_self": null,
            "height": null,
            "min_height": null,
            "padding": null,
            "grid_auto_rows": null,
            "grid_gap": null,
            "max_width": null,
            "order": null,
            "_view_module_version": "1.2.0",
            "grid_template_areas": null,
            "object_position": null,
            "object_fit": null,
            "grid_auto_columns": null,
            "margin": null,
            "display": null,
            "left": null
          }
        },
        "e9306e5064f64a819ffaf0fa94dcd246": {
          "model_module": "@jupyter-widgets/base",
          "model_name": "LayoutModel",
          "state": {
            "_view_name": "LayoutView",
            "grid_template_rows": null,
            "right": null,
            "justify_content": null,
            "_view_module": "@jupyter-widgets/base",
            "overflow": null,
            "_model_module_version": "1.2.0",
            "_view_count": null,
            "flex_flow": null,
            "width": null,
            "min_width": null,
            "border": null,
            "align_items": null,
            "bottom": null,
            "_model_module": "@jupyter-widgets/base",
            "top": null,
            "grid_column": null,
            "overflow_y": null,
            "overflow_x": null,
            "grid_auto_flow": null,
            "grid_area": null,
            "grid_template_columns": null,
            "flex": null,
            "_model_name": "LayoutModel",
            "justify_items": null,
            "grid_row": null,
            "max_height": null,
            "align_content": null,
            "visibility": null,
            "align_self": null,
            "height": null,
            "min_height": null,
            "padding": null,
            "grid_auto_rows": null,
            "grid_gap": null,
            "max_width": null,
            "order": null,
            "_view_module_version": "1.2.0",
            "grid_template_areas": null,
            "object_position": null,
            "object_fit": null,
            "grid_auto_columns": null,
            "margin": null,
            "display": null,
            "left": null
          }
        },
        "f1312daa10384ca38de0349d15d4827a": {
          "model_module": "@jupyter-widgets/controls",
          "model_name": "BoxModel",
          "state": {
            "_view_name": "BoxView",
            "_dom_classes": [],
            "_model_name": "BoxModel",
            "_view_module": "@jupyter-widgets/controls",
            "_model_module_version": "1.5.0",
            "_view_count": null,
            "_view_module_version": "1.5.0",
            "box_style": "",
            "layout": "IPY_MODEL_eb0ac93a3dc3495fae335103975493e2",
            "_model_module": "@jupyter-widgets/controls",
            "children": [
              "IPY_MODEL_b0a4cbbf3d624b618150762d7e3b5eca",
              "IPY_MODEL_befe0b38155346e7b0c4c83746ca97b0"
            ]
          }
        },
        "eb0ac93a3dc3495fae335103975493e2": {
          "model_module": "@jupyter-widgets/base",
          "model_name": "LayoutModel",
          "state": {
            "_view_name": "LayoutView",
            "grid_template_rows": null,
            "right": null,
            "justify_content": null,
            "_view_module": "@jupyter-widgets/base",
            "overflow": null,
            "_model_module_version": "1.2.0",
            "_view_count": null,
            "flex_flow": null,
            "width": null,
            "min_width": null,
            "border": null,
            "align_items": null,
            "bottom": null,
            "_model_module": "@jupyter-widgets/base",
            "top": null,
            "grid_column": null,
            "overflow_y": null,
            "overflow_x": null,
            "grid_auto_flow": null,
            "grid_area": null,
            "grid_template_columns": null,
            "flex": null,
            "_model_name": "LayoutModel",
            "justify_items": null,
            "grid_row": null,
            "max_height": null,
            "align_content": null,
            "visibility": null,
            "align_self": null,
            "height": null,
            "min_height": null,
            "padding": null,
            "grid_auto_rows": null,
            "grid_gap": null,
            "max_width": null,
            "order": null,
            "_view_module_version": "1.2.0",
            "grid_template_areas": null,
            "object_position": null,
            "object_fit": null,
            "grid_auto_columns": null,
            "margin": null,
            "display": null,
            "left": null
          }
        },
        "b0a4cbbf3d624b618150762d7e3b5eca": {
          "model_module": "@jupyter-widgets/controls",
          "model_name": "LabelModel",
          "state": {
            "_view_name": "LabelView",
            "style": "IPY_MODEL_e9a9befab62542849300a446ec3a6bef",
            "_dom_classes": [],
            "description": "",
            "_model_name": "LabelModel",
            "placeholder": "​",
            "_view_module": "@jupyter-widgets/controls",
            "_model_module_version": "1.5.0",
            "value": "Use class clustering - Uncheck to assign classes below:",
            "_view_count": null,
            "_view_module_version": "1.5.0",
            "description_tooltip": null,
            "_model_module": "@jupyter-widgets/controls",
            "layout": "IPY_MODEL_b0061638f07f4d23b0dfecf57078940a"
          }
        },
        "befe0b38155346e7b0c4c83746ca97b0": {
          "model_module": "@jupyter-widgets/controls",
          "model_name": "CheckboxModel",
          "state": {
            "_view_name": "CheckboxView",
            "style": "IPY_MODEL_23ebd903890049529e6ed8c03c016129",
            "_dom_classes": [],
            "description": "",
            "_model_name": "CheckboxModel",
            "_view_module": "@jupyter-widgets/controls",
            "_model_module_version": "1.5.0",
            "value": true,
            "_view_count": null,
            "disabled": false,
            "_view_module_version": "1.5.0",
            "indent": false,
            "description_tooltip": null,
            "_model_module": "@jupyter-widgets/controls",
            "layout": "IPY_MODEL_57fa3b9c9bab4cfa816a9c3f92172489"
          }
        },
        "e9a9befab62542849300a446ec3a6bef": {
          "model_module": "@jupyter-widgets/controls",
          "model_name": "DescriptionStyleModel",
          "state": {
            "_view_name": "StyleView",
            "_model_name": "DescriptionStyleModel",
            "description_width": "",
            "_view_module": "@jupyter-widgets/base",
            "_model_module_version": "1.5.0",
            "_view_count": null,
            "_view_module_version": "1.2.0",
            "_model_module": "@jupyter-widgets/controls"
          }
        },
        "b0061638f07f4d23b0dfecf57078940a": {
          "model_module": "@jupyter-widgets/base",
          "model_name": "LayoutModel",
          "state": {
            "_view_name": "LayoutView",
            "grid_template_rows": null,
            "right": null,
            "justify_content": null,
            "_view_module": "@jupyter-widgets/base",
            "overflow": null,
            "_model_module_version": "1.2.0",
            "_view_count": null,
            "flex_flow": null,
            "width": null,
            "min_width": null,
            "border": null,
            "align_items": null,
            "bottom": null,
            "_model_module": "@jupyter-widgets/base",
            "top": null,
            "grid_column": null,
            "overflow_y": null,
            "overflow_x": null,
            "grid_auto_flow": null,
            "grid_area": null,
            "grid_template_columns": null,
            "flex": null,
            "_model_name": "LayoutModel",
            "justify_items": null,
            "grid_row": null,
            "max_height": null,
            "align_content": null,
            "visibility": null,
            "align_self": null,
            "height": null,
            "min_height": null,
            "padding": null,
            "grid_auto_rows": null,
            "grid_gap": null,
            "max_width": null,
            "order": null,
            "_view_module_version": "1.2.0",
            "grid_template_areas": null,
            "object_position": null,
            "object_fit": null,
            "grid_auto_columns": null,
            "margin": null,
            "display": null,
            "left": null
          }
        },
        "23ebd903890049529e6ed8c03c016129": {
          "model_module": "@jupyter-widgets/controls",
          "model_name": "DescriptionStyleModel",
          "state": {
            "_view_name": "StyleView",
            "_model_name": "DescriptionStyleModel",
            "description_width": "",
            "_view_module": "@jupyter-widgets/base",
            "_model_module_version": "1.5.0",
            "_view_count": null,
            "_view_module_version": "1.2.0",
            "_model_module": "@jupyter-widgets/controls"
          }
        },
        "57fa3b9c9bab4cfa816a9c3f92172489": {
          "model_module": "@jupyter-widgets/base",
          "model_name": "LayoutModel",
          "state": {
            "_view_name": "LayoutView",
            "grid_template_rows": null,
            "right": null,
            "justify_content": null,
            "_view_module": "@jupyter-widgets/base",
            "overflow": null,
            "_model_module_version": "1.2.0",
            "_view_count": null,
            "flex_flow": null,
            "width": null,
            "min_width": null,
            "border": null,
            "align_items": null,
            "bottom": null,
            "_model_module": "@jupyter-widgets/base",
            "top": null,
            "grid_column": null,
            "overflow_y": null,
            "overflow_x": null,
            "grid_auto_flow": null,
            "grid_area": null,
            "grid_template_columns": null,
            "flex": null,
            "_model_name": "LayoutModel",
            "justify_items": null,
            "grid_row": null,
            "max_height": null,
            "align_content": null,
            "visibility": null,
            "align_self": null,
            "height": null,
            "min_height": null,
            "padding": null,
            "grid_auto_rows": null,
            "grid_gap": null,
            "max_width": null,
            "order": null,
            "_view_module_version": "1.2.0",
            "grid_template_areas": null,
            "object_position": null,
            "object_fit": null,
            "grid_auto_columns": null,
            "margin": null,
            "display": null,
            "left": null
          }
        },
        "2f8d28d0146f46c0a24b8a9d0679cadd": {
          "model_module": "@jupyter-widgets/controls",
          "model_name": "BoxModel",
          "state": {
            "_view_name": "BoxView",
            "_dom_classes": [],
            "_model_name": "BoxModel",
            "_view_module": "@jupyter-widgets/controls",
            "_model_module_version": "1.5.0",
            "_view_count": null,
            "_view_module_version": "1.5.0",
            "box_style": "",
            "layout": "IPY_MODEL_36d5baee84a94192b3ebe445549a3dc2",
            "_model_module": "@jupyter-widgets/controls",
            "children": [
              "IPY_MODEL_d1c22f38c9a44e3885931c21b6ad92e3",
              "IPY_MODEL_a39beed2b367413a9596ff2021ec79d3"
            ]
          }
        },
        "d1c22f38c9a44e3885931c21b6ad92e3": {
          "model_module": "@jupyter-widgets/controls",
          "model_name": "SelectMultipleModel",
          "state": {
            "_options_labels": [
              "0",
              "1",
              "2",
              "3",
              "4",
              "5",
              "6",
              "7",
              "8",
              "9",
              "10",
              "11",
              "12",
              "13",
              "14",
              "15",
              "16",
              "17",
              "18",
              "19",
              "20"
            ],
            "_view_name": "SelectMultipleView",
            "style": "IPY_MODEL_1cf9fc78e95c4adfab75b0fb7345335a",
            "rows": 21,
            "_dom_classes": [],
            "description": "Class 0:",
            "_model_name": "SelectMultipleModel",
            "index": [],
            "_view_module": "@jupyter-widgets/controls",
            "_model_module_version": "1.5.0",
            "_view_count": null,
            "disabled": false,
            "_view_module_version": "1.5.0",
            "description_tooltip": null,
            "_model_module": "@jupyter-widgets/controls",
            "layout": "IPY_MODEL_d1174ba67f964c499e14d4dbe16c389e"
          }
        },
        "a39beed2b367413a9596ff2021ec79d3": {
          "model_module": "@jupyter-widgets/controls",
          "model_name": "SelectMultipleModel",
          "state": {
            "_options_labels": [
              "0",
              "1",
              "2",
              "3",
              "4",
              "5",
              "6",
              "7",
              "8",
              "9",
              "10",
              "11",
              "12",
              "13",
              "14",
              "15",
              "16",
              "17",
              "18",
              "19",
              "20"
            ],
            "_view_name": "SelectMultipleView",
            "style": "IPY_MODEL_435a069ba2324268b1bcda45619d2c58",
            "rows": 21,
            "_dom_classes": [],
            "description": "Class 1:",
            "_model_name": "SelectMultipleModel",
            "index": [],
            "_view_module": "@jupyter-widgets/controls",
            "_model_module_version": "1.5.0",
            "_view_count": null,
            "disabled": false,
            "_view_module_version": "1.5.0",
            "description_tooltip": null,
            "_model_module": "@jupyter-widgets/controls",
            "layout": "IPY_MODEL_4bbbb10fd5284a4b8d07143f0686ca2c"
          }
        },
        "1cf9fc78e95c4adfab75b0fb7345335a": {
          "model_module": "@jupyter-widgets/controls",
          "model_name": "DescriptionStyleModel",
          "state": {
            "_view_name": "StyleView",
            "_model_name": "DescriptionStyleModel",
            "description_width": "",
            "_view_module": "@jupyter-widgets/base",
            "_model_module_version": "1.5.0",
            "_view_count": null,
            "_view_module_version": "1.2.0",
            "_model_module": "@jupyter-widgets/controls"
          }
        },
        "d1174ba67f964c499e14d4dbe16c389e": {
          "model_module": "@jupyter-widgets/base",
          "model_name": "LayoutModel",
          "state": {
            "_view_name": "LayoutView",
            "grid_template_rows": null,
            "right": null,
            "justify_content": null,
            "_view_module": "@jupyter-widgets/base",
            "overflow": null,
            "_model_module_version": "1.2.0",
            "_view_count": null,
            "flex_flow": null,
            "width": null,
            "min_width": null,
            "border": null,
            "align_items": null,
            "bottom": null,
            "_model_module": "@jupyter-widgets/base",
            "top": null,
            "grid_column": null,
            "overflow_y": null,
            "overflow_x": null,
            "grid_auto_flow": null,
            "grid_area": null,
            "grid_template_columns": null,
            "flex": null,
            "_model_name": "LayoutModel",
            "justify_items": null,
            "grid_row": null,
            "max_height": null,
            "align_content": null,
            "visibility": null,
            "align_self": null,
            "height": null,
            "min_height": null,
            "padding": null,
            "grid_auto_rows": null,
            "grid_gap": null,
            "max_width": null,
            "order": null,
            "_view_module_version": "1.2.0",
            "grid_template_areas": null,
            "object_position": null,
            "object_fit": null,
            "grid_auto_columns": null,
            "margin": null,
            "display": null,
            "left": null
          }
        },
        "435a069ba2324268b1bcda45619d2c58": {
          "model_module": "@jupyter-widgets/controls",
          "model_name": "DescriptionStyleModel",
          "state": {
            "_view_name": "StyleView",
            "_model_name": "DescriptionStyleModel",
            "description_width": "",
            "_view_module": "@jupyter-widgets/base",
            "_model_module_version": "1.5.0",
            "_view_count": null,
            "_view_module_version": "1.2.0",
            "_model_module": "@jupyter-widgets/controls"
          }
        },
        "4bbbb10fd5284a4b8d07143f0686ca2c": {
          "model_module": "@jupyter-widgets/base",
          "model_name": "LayoutModel",
          "state": {
            "_view_name": "LayoutView",
            "grid_template_rows": null,
            "right": null,
            "justify_content": null,
            "_view_module": "@jupyter-widgets/base",
            "overflow": null,
            "_model_module_version": "1.2.0",
            "_view_count": null,
            "flex_flow": null,
            "width": null,
            "min_width": null,
            "border": null,
            "align_items": null,
            "bottom": null,
            "_model_module": "@jupyter-widgets/base",
            "top": null,
            "grid_column": null,
            "overflow_y": null,
            "overflow_x": null,
            "grid_auto_flow": null,
            "grid_area": null,
            "grid_template_columns": null,
            "flex": null,
            "_model_name": "LayoutModel",
            "justify_items": null,
            "grid_row": null,
            "max_height": null,
            "align_content": null,
            "visibility": null,
            "align_self": null,
            "height": null,
            "min_height": null,
            "padding": null,
            "grid_auto_rows": null,
            "grid_gap": null,
            "max_width": null,
            "order": null,
            "_view_module_version": "1.2.0",
            "grid_template_areas": null,
            "object_position": null,
            "object_fit": null,
            "grid_auto_columns": null,
            "margin": null,
            "display": null,
            "left": null
          }
        },
        "05e85e978d6b4ccba9b32060328097cf": {
          "model_module": "@jupyter-widgets/controls",
          "model_name": "HTMLModel",
          "state": {
            "_view_name": "HTMLView",
            "style": "IPY_MODEL_79ba1ce93478496b8fcb232577870ca5",
            "_dom_classes": [],
            "description": "",
            "_model_name": "HTMLModel",
            "placeholder": "​",
            "_view_module": "@jupyter-widgets/controls",
            "_model_module_version": "1.5.0",
            "value": "Edit Class Names:",
            "_view_count": null,
            "_view_module_version": "1.5.0",
            "description_tooltip": null,
            "_model_module": "@jupyter-widgets/controls",
            "layout": "IPY_MODEL_6ae0ff8d210544b4ba12d35e81136b22"
          }
        },
        "79ba1ce93478496b8fcb232577870ca5": {
          "model_module": "@jupyter-widgets/controls",
          "model_name": "DescriptionStyleModel",
          "state": {
            "_view_name": "StyleView",
            "_model_name": "DescriptionStyleModel",
            "description_width": "",
            "_view_module": "@jupyter-widgets/base",
            "_model_module_version": "1.5.0",
            "_view_count": null,
            "_view_module_version": "1.2.0",
            "_model_module": "@jupyter-widgets/controls"
          }
        },
        "6ae0ff8d210544b4ba12d35e81136b22": {
          "model_module": "@jupyter-widgets/base",
          "model_name": "LayoutModel",
          "state": {
            "_view_name": "LayoutView",
            "grid_template_rows": null,
            "right": null,
            "justify_content": null,
            "_view_module": "@jupyter-widgets/base",
            "overflow": null,
            "_model_module_version": "1.2.0",
            "_view_count": null,
            "flex_flow": null,
            "width": null,
            "min_width": null,
            "border": null,
            "align_items": null,
            "bottom": null,
            "_model_module": "@jupyter-widgets/base",
            "top": null,
            "grid_column": null,
            "overflow_y": null,
            "overflow_x": null,
            "grid_auto_flow": null,
            "grid_area": null,
            "grid_template_columns": null,
            "flex": null,
            "_model_name": "LayoutModel",
            "justify_items": null,
            "grid_row": null,
            "max_height": null,
            "align_content": null,
            "visibility": null,
            "align_self": null,
            "height": null,
            "min_height": null,
            "padding": null,
            "grid_auto_rows": null,
            "grid_gap": null,
            "max_width": null,
            "order": null,
            "_view_module_version": "1.2.0",
            "grid_template_areas": null,
            "object_position": null,
            "object_fit": null,
            "grid_auto_columns": null,
            "margin": null,
            "display": null,
            "left": null
          }
        },
        "2b2b6a6ff07c4d6d99dd49a6c3c65756": {
          "model_module": "@jupyter-widgets/controls",
          "model_name": "BoxModel",
          "state": {
            "_view_name": "BoxView",
            "_dom_classes": [],
            "_model_name": "BoxModel",
            "_view_module": "@jupyter-widgets/controls",
            "_model_module_version": "1.5.0",
            "_view_count": null,
            "_view_module_version": "1.5.0",
            "box_style": "",
            "layout": "IPY_MODEL_36d5baee84a94192b3ebe445549a3dc2",
            "_model_module": "@jupyter-widgets/controls",
            "children": [
              "IPY_MODEL_85994a2d5a3d409490535cf3998cb967",
              "IPY_MODEL_20430f8e23174197a360d13a8cf31621"
            ]
          }
        },
        "85994a2d5a3d409490535cf3998cb967": {
          "model_module": "@jupyter-widgets/controls",
          "model_name": "TextModel",
          "state": {
            "_view_name": "TextView",
            "style": "IPY_MODEL_b4dca86a48e94b5299857f97774fa85d",
            "_dom_classes": [],
            "description": "Class 0:",
            "_model_name": "TextModel",
            "placeholder": "Enter Class Name",
            "_view_module": "@jupyter-widgets/controls",
            "_model_module_version": "1.5.0",
            "value": "cl0",
            "_view_count": null,
            "disabled": false,
            "_view_module_version": "1.5.0",
            "continuous_update": true,
            "description_tooltip": null,
            "_model_module": "@jupyter-widgets/controls",
            "layout": "IPY_MODEL_be0048025085481d9cf56b2c00e4772c"
          }
        },
        "20430f8e23174197a360d13a8cf31621": {
          "model_module": "@jupyter-widgets/controls",
          "model_name": "TextModel",
          "state": {
            "_view_name": "TextView",
            "style": "IPY_MODEL_ba29bef4d3d34f58b1db4c5a0213622a",
            "_dom_classes": [],
            "description": "Class 1:",
            "_model_name": "TextModel",
            "placeholder": "Enter Class Name",
            "_view_module": "@jupyter-widgets/controls",
            "_model_module_version": "1.5.0",
            "value": "cl1",
            "_view_count": null,
            "disabled": false,
            "_view_module_version": "1.5.0",
            "continuous_update": true,
            "description_tooltip": null,
            "_model_module": "@jupyter-widgets/controls",
            "layout": "IPY_MODEL_4843f00d12e44a658938763b30feba85"
          }
        },
        "b4dca86a48e94b5299857f97774fa85d": {
          "model_module": "@jupyter-widgets/controls",
          "model_name": "DescriptionStyleModel",
          "state": {
            "_view_name": "StyleView",
            "_model_name": "DescriptionStyleModel",
            "description_width": "",
            "_view_module": "@jupyter-widgets/base",
            "_model_module_version": "1.5.0",
            "_view_count": null,
            "_view_module_version": "1.2.0",
            "_model_module": "@jupyter-widgets/controls"
          }
        },
        "be0048025085481d9cf56b2c00e4772c": {
          "model_module": "@jupyter-widgets/base",
          "model_name": "LayoutModel",
          "state": {
            "_view_name": "LayoutView",
            "grid_template_rows": null,
            "right": null,
            "justify_content": null,
            "_view_module": "@jupyter-widgets/base",
            "overflow": null,
            "_model_module_version": "1.2.0",
            "_view_count": null,
            "flex_flow": null,
            "width": null,
            "min_width": null,
            "border": null,
            "align_items": null,
            "bottom": null,
            "_model_module": "@jupyter-widgets/base",
            "top": null,
            "grid_column": null,
            "overflow_y": null,
            "overflow_x": null,
            "grid_auto_flow": null,
            "grid_area": null,
            "grid_template_columns": null,
            "flex": null,
            "_model_name": "LayoutModel",
            "justify_items": null,
            "grid_row": null,
            "max_height": null,
            "align_content": null,
            "visibility": null,
            "align_self": null,
            "height": null,
            "min_height": null,
            "padding": null,
            "grid_auto_rows": null,
            "grid_gap": null,
            "max_width": null,
            "order": null,
            "_view_module_version": "1.2.0",
            "grid_template_areas": null,
            "object_position": null,
            "object_fit": null,
            "grid_auto_columns": null,
            "margin": null,
            "display": null,
            "left": null
          }
        },
        "ba29bef4d3d34f58b1db4c5a0213622a": {
          "model_module": "@jupyter-widgets/controls",
          "model_name": "DescriptionStyleModel",
          "state": {
            "_view_name": "StyleView",
            "_model_name": "DescriptionStyleModel",
            "description_width": "",
            "_view_module": "@jupyter-widgets/base",
            "_model_module_version": "1.5.0",
            "_view_count": null,
            "_view_module_version": "1.2.0",
            "_model_module": "@jupyter-widgets/controls"
          }
        },
        "4843f00d12e44a658938763b30feba85": {
          "model_module": "@jupyter-widgets/base",
          "model_name": "LayoutModel",
          "state": {
            "_view_name": "LayoutView",
            "grid_template_rows": null,
            "right": null,
            "justify_content": null,
            "_view_module": "@jupyter-widgets/base",
            "overflow": null,
            "_model_module_version": "1.2.0",
            "_view_count": null,
            "flex_flow": null,
            "width": null,
            "min_width": null,
            "border": null,
            "align_items": null,
            "bottom": null,
            "_model_module": "@jupyter-widgets/base",
            "top": null,
            "grid_column": null,
            "overflow_y": null,
            "overflow_x": null,
            "grid_auto_flow": null,
            "grid_area": null,
            "grid_template_columns": null,
            "flex": null,
            "_model_name": "LayoutModel",
            "justify_items": null,
            "grid_row": null,
            "max_height": null,
            "align_content": null,
            "visibility": null,
            "align_self": null,
            "height": null,
            "min_height": null,
            "padding": null,
            "grid_auto_rows": null,
            "grid_gap": null,
            "max_width": null,
            "order": null,
            "_view_module_version": "1.2.0",
            "grid_template_areas": null,
            "object_position": null,
            "object_fit": null,
            "grid_auto_columns": null,
            "margin": null,
            "display": null,
            "left": null
          }
        }
      }
    }
  },
  "cells": [
    {
      "cell_type": "markdown",
      "metadata": {
        "id": "view-in-github",
        "colab_type": "text"
      },
      "source": [
        "<a href=\"https://colab.research.google.com/github/luke-scot/damage-assessment/blob/main/colab_demo.ipynb\" target=\"_parent\"><img src=\"https://colab.research.google.com/assets/colab-badge.svg\" alt=\"Open In Colab\"/></a>"
      ]
    },
    {
      "cell_type": "markdown",
      "metadata": {
        "id": "elect-beaver"
      },
      "source": [
        "# Confidence-aware belief propagation for multimodal data\n",
        "This notebook runs a demonstration of the belief propagtion (BP) framework initially created for post-disaster damage assessment by Luke Cullen at the University of Cambridge. For development, please see the [Github repository](https://github.com/luke-scot/damage-assessment). Alternatively for further details the full report accompanying this project is available [here](https://drive.google.com/file/d/1IZ3B0m5FrPybTsKMUQ52ExvheMin9WdB/view?usp=sharing).\n",
        "\n",
        "To run each cell simply press Shift+Enter.\n",
        "\n",
        "## Setup\n",
        "Run the first cell to download the latest version of the demo functions."
      ],
      "id": "elect-beaver"
>>>>>>> d0cb1cd61e8eedb70c9a7f2751df8ca99387b9c0
    },
    {
<<<<<<< HEAD
     "data": {
      "application/vnd.jupyter.widget-view+json": {
       "model_id": "65bd47e1ded14918b82c018bad0fded3",
       "version_major": 2,
       "version_minor": 0
      },
      "text/plain": [
       "Box(children=(Label(value='Please select default inputs: '), Dropdown(layout=Layout(width='max-content'), opti…"
      ]
     },
     "metadata": {},
     "output_type": "display_data"
    }
   ],
   "source": [
    "defaults = it.get_defaults()"
   ]
  },
  {
   "cell_type": "code",
   "execution_count": 3,
   "id": "confirmed-stock",
   "metadata": {
    "colab": {
     "referenced_widgets": [
      "fade8d5124634a20aa89731155ac0232",
      "b6336a49aa154a928314717bad5d557d",
      "505146a94d2e4172b9d16504a68ba6d9",
      "135df484144e4b259415b6d25b1cf7e6",
      "15bd3a4174c14710b5ab7b4a495d96be",
      "5d909fd9816a43e5a36b02939a9c3fe9",
      "c18d6e92aec7407baa9d7ecdd49272d3",
      "8a4c2824ce9b4898999dd1fcbbb60129",
      "c3ca86aefed9476cbad8012d542792af",
      "ef334ff67d434f2981f4206f574e9cc7"
     ]
=======
      "cell_type": "code",
      "metadata": {
        "id": "fitting-local"
      },
      "source": [
        "%%capture\n",
        "# Clone repository\n",
        "! git clone https://github.com/luke-scot/damage-assessment.git\n",
        "%cd damage-assessment\n",
        "\n",
        "# Install uncommon packages\n",
        "%pip install install rioxarray geopandas ipyleaflet gdown\n",
        "\n",
        "import interactions as it"
      ],
      "id": "fitting-local",
      "execution_count": 74,
      "outputs": []
>>>>>>> d0cb1cd61e8eedb70c9a7f2751df8ca99387b9c0
    },
    {
<<<<<<< HEAD
     "data": {
      "application/vnd.jupyter.widget-view+json": {
       "model_id": "0a40e75bff2c44349f2076a9c392c5da",
       "version_major": 2,
       "version_minor": 0
      },
      "text/plain": [
       "HTML(value='<b>Label parameters</b>')"
      ]
     },
     "metadata": {},
     "output_type": "display_data"
    },
    {
     "data": {
      "application/vnd.jupyter.widget-view+json": {
       "model_id": "f5658ae755d04ae09a65eed8fda6155d",
       "version_major": 2,
       "version_minor": 0
      },
      "text/plain": [
       "Box(children=(Label(value='Ground truth: Shapefile - '), Text(value='./data/Beirut/GroundTruth/allDamages.shp'…"
      ]
     },
     "metadata": {},
     "output_type": "display_data"
    },
    {
     "data": {
      "application/vnd.jupyter.widget-view+json": {
       "model_id": "24881ce0c4dd4314ba832b0bd19c297d",
       "version_major": 2,
       "version_minor": 0
      },
      "text/plain": [
       "Box(children=(Label(value='Label column - '), Text(value='decision', layout=Layout(width='max-content'), place…"
      ]
     },
     "metadata": {},
     "output_type": "display_data"
    },
    {
     "data": {
      "application/vnd.jupyter.widget-view+json": {
       "model_id": "c403f0892b174ee0a2f4016d24e8bed8",
       "version_major": 2,
       "version_minor": 0
      },
      "text/plain": [
       "Box(children=(Label(value='Label confidence ($P_{other label}$, $P_{class}$)'), FloatRangeSlider(value=(0.0, 1…"
      ]
     },
     "metadata": {},
     "output_type": "display_data"
    },
    {
     "data": {
      "application/vnd.jupyter.widget-view+json": {
       "model_id": "8879986d4e874fbfbc0b06e25e546076",
       "version_major": 2,
       "version_minor": 0
      },
      "text/plain": [
       "HTML(value='<b>Map properties</b>')"
      ]
     },
     "metadata": {},
     "output_type": "display_data"
    },
    {
     "data": {
      "application/vnd.jupyter.widget-view+json": {
       "model_id": "b92dccec6c14443fa43dba7f769a0093",
       "version_major": 2,
       "version_minor": 0
      },
      "text/plain": [
       "Box(children=(Label(value='Latitude - '), FloatText(value=33.893, layout=Layout(width='max-content')), Label(v…"
      ]
     },
     "metadata": {},
     "output_type": "display_data"
    },
    {
     "data": {
      "application/vnd.jupyter.widget-view+json": {
       "model_id": "16d98ccf3cd24e50b531b72b72afa433",
       "version_major": 2,
       "version_minor": 0
=======
      "cell_type": "markdown",
      "metadata": {
        "id": "mineral-channels"
      },
      "source": [
        "## Introduction to Damage Assessment application"
      ],
      "id": "mineral-channels"
    },
    {
      "cell_type": "markdown",
      "metadata": {
        "id": "preliminary-tragedy"
      },
      "source": [
        "In the immediate aftermath of a disaster, such as the 4th August 2020 Beirut port explosion, there are 2 priority tasks for recovery efforts:\n",
        "* Search & Rescue (S&R) - Need to prioritise most damaged area to send reconnaissance teams, and save lives of people trapped.\n",
        "\n",
        "* Damage Assessment - Classify buildings to prevent further casualties and assess humanitarian/reconstruction needs.\n",
        "\n",
        "Both rely on rapid knowledge of building damages. \n",
        "\n",
        "This project explores using Belief Propagation to rapidly assess infrastructure damage by combining all data available into a graph representation of the affected area. I will focus mainly on remote sensing (satellite) data due to its availability and past efficiency in identifying damage. \n",
        "\n",
        "This model brings two new features to automating damage assessments both key to creating actionable information for responders:\n",
        "*   Uncertainty quantification - Hence choice of confidence-aware NetConf algorithm as basis for BP (originally created by Eswaran et al. (2017))\n",
        "*   Multimodality - Graph representation allows us to combine any data, however incomplete or useful, as it becomes available in a post-disaster scenario."
      ],
      "id": "preliminary-tragedy"
    },
    {
      "cell_type": "markdown",
      "metadata": {
        "id": "objective-luxembourg"
      },
      "source": [
        "## What is Belief Propagation?"
      ],
      "id": "objective-luxembourg"
    },
    {
      "cell_type": "markdown",
      "metadata": {
        "id": "upset-multiple"
      },
      "source": [
        "Before delving in to large-scale spatial applications, let's have a look at what BP is doing at an interpretable level. This part will show the code as we step through so you can get of taste of the magic that goes on behind close doors in the real application scenario.\n",
        "\n",
        "Choose your parameters in the first cell and then keep going to see where you end up, nodes unassigned to either class will begin as unknowns. Leave plenty as this is how you'll get to understand what BP is doing."
      ],
      "id": "upset-multiple"
    },
    {
      "cell_type": "code",
      "metadata": {
        "id": "GWnk19d79DYt"
      },
      "source": [
        "# Choose your graph parameters - you can always come back once you understand what these mean\n",
        "nodes = 10\n",
        "zeros = 2 # Nodes in class 0 \n",
        "ones = 2 # Nodes in class 1\n",
        "neighbours = 2 # Edges will be created to this number of nearest neighbours\n",
        "edgeType = 'values' # Nearest neighbours according to 'values' or 'location'\n",
        "cmap = 'RdYlGn' # No need to change unless you're fancying some groovy colours today"
      ],
      "id": "GWnk19d79DYt",
      "execution_count": 80,
      "outputs": []
    },
    {
      "cell_type": "code",
      "metadata": {
        "id": "48yYkZsM9ZJ6"
      },
      "source": [
        "# Import those handy pre-made functions\n",
        "import random\n",
        "import numpy as np\n",
        "import networkx as nx\n",
        "import matplotlib as mpl\n",
        "from netconf import netconf\n",
        "import matplotlib.pyplot as plt\n",
        "from sklearn.neighbors import kneighbors_graph"
      ],
      "id": "48yYkZsM9ZJ6",
      "execution_count": 81,
      "outputs": []
    },
    {
      "cell_type": "code",
      "metadata": {
        "id": "bu0X6YEc_Fb9",
        "outputId": "74f8c4a6-058d-4366-fdc9-a02fa22ab46e",
        "colab": {
          "base_uri": "https://localhost:8080/",
          "height": 319
        }
>>>>>>> d0cb1cd61e8eedb70c9a7f2751df8ca99387b9c0
      },
      "source": [
        "# Create a graph and add your nodes\n",
        "G = nx.Graph() # Initialise the graph - nodes have got to go somewhere\n",
        "G.add_nodes_from(range(nodes)) # Nodes going on\n",
        "nx.draw(G, node_size=1500, with_labels=True) # Let's have a look"
      ],
      "id": "bu0X6YEc_Fb9",
      "execution_count": 82,
      "outputs": [
        {
          "output_type": "display_data",
          "data": {
            "image/png": "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\n",
            "text/plain": [
              "<Figure size 432x288 with 1 Axes>"
            ]
          },
          "metadata": {
            "tags": []
          }
        }
      ]
<<<<<<< HEAD
     },
     "metadata": {},
     "output_type": "display_data"
    },
    {
     "data": {
      "application/vnd.jupyter.widget-view+json": {
       "model_id": "c7d64e92aaab44ffb6e444231f268052",
       "version_major": 2,
       "version_minor": 0
=======
    },
    {
      "cell_type": "code",
      "metadata": {
        "id": "4h5AaGdz_oMj",
        "outputId": "7b555068-c81b-434b-c332-db6d5d9ca1fd",
        "colab": {
          "base_uri": "https://localhost:8080/",
          "height": 329
        }
>>>>>>> d0cb1cd61e8eedb70c9a7f2751df8ca99387b9c0
      },
      "source": [
        "\"\"\"\n",
        "Good start, now let's add our prior knowledge.\n",
        "\n",
        "We'll randomly assign which nodes are to be in classes 0 and 1, with the rest \n",
        "being ignorant - i.e. 0.5 prior belief.\n",
        "\"\"\"\n",
        "priors = [1]*ones+[0]*zeros+[0.5]*(nodes-(ones+zeros))\n",
        "np.random.shuffle(priors)\n",
        "\n",
        "# Let's draw it again\n",
        "nx.draw(G, node_size=1500, with_labels=True, node_color=priors, cmap=cmap)\n",
        "\n",
        "# Don't worry about these, it's just adding a colorbar to look pretty\n",
        "sm = plt.cm.ScalarMappable(cmap=cmap, norm=plt.Normalize(vmin = 0, vmax=1))\n",
        "c = plt.colorbar(sm)\n",
        "c.set_label('Class 1 probability', fontsize=14)"
      ],
      "id": "4h5AaGdz_oMj",
      "execution_count": 83,
      "outputs": [
        {
          "output_type": "display_data",
          "data": {
            "image/png": "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\n",
            "text/plain": [
              "<Figure size 432x288 with 2 Axes>"
            ]
          },
          "metadata": {
            "tags": []
          }
        }
      ]
<<<<<<< HEAD
     },
     "metadata": {},
     "output_type": "display_data"
    },
    {
     "data": {
      "application/vnd.jupyter.widget-view+json": {
       "model_id": "3a9496964c674c73bd7af79ac91eabe8",
       "version_major": 2,
       "version_minor": 0
=======
    },
    {
      "cell_type": "code",
      "metadata": {
        "colab": {
          "base_uri": "https://localhost:8080/",
          "height": 329
        },
        "id": "m3wwzjs4U5od",
        "outputId": "587e91ac-469a-4295-9dbe-c2a0d42f92f2"
>>>>>>> d0cb1cd61e8eedb70c9a7f2751df8ca99387b9c0
      },
      "source": [
        "\"\"\"\n",
        "We have our prior beliefs! Let's get some edges involved.\n",
        "\n",
        "kneighbours_graph is a function which finds the nearest neighbours to each\n",
        "node according to it's value. The values of our nodes are 0 to n (n being how\n",
        "many nodes you chose) as displayed on each graph\n",
        "\"\"\"\n",
        "# Get edges\n",
        "values = np.array(range(nodes)).reshape(-1,1) # Get our values in a vector\n",
        "edges = kneighbors_graph(values,neighbours,mode='connectivity',include_self=False)\n",
        "\n",
        "# Just a matrix re-shuffle to make the output usable, don't panic\n",
        "edges = np.array(edges.nonzero()).reshape(2,-1).transpose() \n",
        "\n",
        "# Let's take another look\n",
        "nx.draw(G, node_size=1500, with_labels=True, node_color=priors, cmap=cmap, edgelist=edges)\n",
        "c = plt.colorbar(sm)\n",
        "c.set_label('Class 1 probability', fontsize=14)"
      ],
      "id": "m3wwzjs4U5od",
      "execution_count": 84,
      "outputs": [
        {
          "output_type": "display_data",
          "data": {
            "image/png": "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\n",
            "text/plain": [
              "<Figure size 432x288 with 2 Axes>"
            ]
          },
          "metadata": {
            "tags": []
          }
        }
      ]
<<<<<<< HEAD
     },
     "metadata": {},
     "output_type": "display_data"
    },
    {
     "data": {
      "application/vnd.jupyter.widget-view+json": {
       "model_id": "8a0fe1caead34d28b8ad6112c08a1317",
       "version_major": 2,
       "version_minor": 0
=======
    },
    {
      "cell_type": "code",
      "metadata": {
        "id": "TsRcBwI19vjs",
        "outputId": "3c92b360-c983-4acc-9cb9-06ef5ecfe867",
        "colab": {
          "base_uri": "https://localhost:8080/"
        }
>>>>>>> d0cb1cd61e8eedb70c9a7f2751df8ca99387b9c0
      },
      "source": [
        "\"\"\"\n",
        "Ok, here we are, let's fire up the beast!\n",
        "\n",
        "Netconf is implemented in the netconf.py file, feel free to have a browse but there's \n",
        "not much need unless you're an equations enthusiast.\n",
        "\"\"\"\n",
        "priors = np.array(priors).reshape(-1,1) # Just a little matrix shimmy\n",
        "posteriors, _ = netconf(edges,priors, verbose=True) # Here it goes! "
      ],
      "id": "TsRcBwI19vjs",
      "execution_count": 85,
      "outputs": [
        {
          "output_type": "stream",
          "text": [
            "Nodes: 10, Edges: 20\n",
            "It\tLoss\tLabel change\n",
            "\n",
            "0\t3.87575e-01\t\t0\n",
            "\n",
            "1\t1.45727e-01\t\t0\n",
            "\n",
            "2\t7.81764e-02\t\t0\n",
            "\n",
            "3\t3.28077e-02\t\t0\n",
            "\n",
            "4\t1.78169e-02\t\t0\n",
            "\n",
            "5\t8.17231e-03\t\t0\n",
            "\n",
            "6\t4.42016e-03\t\t0\n",
            "\n",
            "7\t2.17520e-03\t\t0\n",
            "\n",
            "8\t1.17499e-03\t\t0\n",
            "\n",
            "9\t6.11442e-04\t\t0\n",
            "\n",
            "10\t3.29178e-04\t\t0\n",
            "\n",
            "11\t1.78518e-04\t\t0\n",
            "\n",
            "12\t9.56742e-05\t\t0\n",
            "\n",
            "Time elapsed: 0.008339881896972656 seconds\n"
          ],
          "name": "stdout"
        }
      ]
<<<<<<< HEAD
     },
     "metadata": {},
     "output_type": "display_data"
    }
   ],
   "source": [
    "inputs = it.input_parameters(defaults)"
   ]
  },
  {
   "cell_type": "code",
   "execution_count": 5,
   "id": "conditional-saudi",
   "metadata": {
    "colab": {
     "referenced_widgets": [
      "28ae10f796a34bb594915587623d3b58",
      "08e9f4d8082d4898923382b6297d5ea3",
      "c90440f72c6b414ba5dfe4222938ebdc",
      "18d9719874e04866b0c93bfc6de22e21",
      "97bf80b074d245f48cedf3b9780bfc41",
      "4b875c1cd9e34706bc9bba1a8816f361",
      "e0e618ea56c14afea93850d156540a70",
      "bf1aa4b81f8d465db635c6cfb7c2719a",
      "e3af6701be7d46a3a88d47d8a29e4070",
      "3570a953f84d45a791863a957b90064a",
      "8505b488ff0e4929a0662841d8617218"
     ]
=======
>>>>>>> d0cb1cd61e8eedb70c9a7f2751df8ca99387b9c0
    },
    {
<<<<<<< HEAD
     "data": {
      "application/vnd.jupyter.widget-view+json": {
       "model_id": "ac1def908ded4831aa543c9644a3d4d0",
       "version_major": 2,
       "version_minor": 0
=======
      "cell_type": "code",
      "metadata": {
        "id": "eyPaeoDrIDgT",
        "outputId": "52a7b7f0-6a0a-44ad-cb80-56948148ed16",
        "colab": {
          "base_uri": "https://localhost:8080/",
          "height": 313
        }
>>>>>>> d0cb1cd61e8eedb70c9a7f2751df8ca99387b9c0
      },
      "source": [
        "\"\"\"\n",
        "Well, wasn't that exhilirating!\n",
        "Ok, now we'll plot up the priors against the posteriors to see what actually went \n",
        "down.\n",
        "\"\"\"\n",
        "fig, axs = plt.subplots(1, 2, figsize=[15,5])\n",
        "nx.draw(G, node_size=1500, with_labels=True, node_color=priors, cmap=cmap, edgelist=edges, ax=axs[0])\n",
        "c = plt.colorbar(sm, ax=axs[0])\n",
        "c.set_label('Class 1 probability', fontsize=14)\n",
        "\n",
        "nx.draw(G, node_size=1500, with_labels=True, node_color=posteriors, cmap=cmap, edgelist=edges, ax=axs[1])\n",
        "c = plt.colorbar(sm, ax=axs[1])\n",
        "c.set_label('Class 1 probability', fontsize=14)"
      ],
      "id": "eyPaeoDrIDgT",
      "execution_count": 86,
      "outputs": [
        {
          "output_type": "display_data",
          "data": {
            "image/png": "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\n",
            "text/plain": [
              "<Figure size 1080x360 with 4 Axes>"
            ]
          },
          "metadata": {
            "tags": []
          }
        }
      ]
<<<<<<< HEAD
     },
     "metadata": {},
     "output_type": "display_data"
    },
    {
     "data": {
      "application/vnd.jupyter.widget-view+json": {
       "model_id": "899d0446b44b49e59770bb9216f19ede",
       "version_major": 2,
       "version_minor": 0
      },
      "text/plain": [
       "HTML(value='<h3>Model Parameters</h3>')"
      ]
     },
     "metadata": {},
     "output_type": "display_data"
    },
    {
     "data": {
      "application/vnd.jupyter.widget-view+json": {
       "model_id": "e1dc52c339ad4ac0850475b45ea41551",
       "version_major": 2,
       "version_minor": 0
      },
      "text/plain": [
       "HTML(value='<b>Node Properties - Sampling occurs if max nodes < input nodes.</b>')"
      ]
     },
     "metadata": {},
     "output_type": "display_data"
    },
    {
     "data": {
      "application/vnd.jupyter.widget-view+json": {
       "model_id": "c81149ad59f44dd9ae5fb5098c0306dd",
       "version_major": 2,
       "version_minor": 0
      },
      "text/plain": [
       "Box(children=(Label(value='Max nodes - '), IntText(value=10000, layout=Layout(width='max-content'), step=1000)…"
      ]
     },
     "metadata": {},
     "output_type": "display_data"
    },
    {
     "data": {
      "application/vnd.jupyter.widget-view+json": {
       "model_id": "6bfe2a13d28e472caedfa7262a8c1bfb",
       "version_major": 2,
       "version_minor": 0
=======
    },
    {
      "cell_type": "markdown",
      "metadata": {
        "id": "J6UnLFYa9wVM"
      },
      "source": [
        "Nice Graphs! So hopefully this short BP demo has given you a glimpse into the world of graph representation and belief propagation. Now, imagine a graph a lot (and I mean A LOT) bigger where each node could represent a 50x50cm square over a city... Daunting? Well that's where we're heading next. Keep scrolling to see how BP can be applied to real-world problems with large-scale spatial data."
      ],
      "id": "J6UnLFYa9wVM"
    },
    {
      "cell_type": "markdown",
      "metadata": {
        "id": "Ac4fkfhrO_Nw"
      },
      "source": [
        "## Real-world application"
      ],
      "id": "Ac4fkfhrO_Nw"
    },
    {
      "cell_type": "markdown",
      "metadata": {
        "id": "dQzjkeeoPOfj"
      },
      "source": [
        "Ok, now that you're a belief propagation expert. Let's look at some slightly more interesting applications. The first cell will give you 3 options:\n",
        "1.   Beirut damage assessment scenario - This is the target application.\n",
        "2.   Houston land classification - This is a demonstration to show how the model performs on spatial data in 'well-behaved' setting.\n",
        "3.   None - Free reign, input whatever you feel like as long as you have a ground truth (shapefile or imagefile) and image data. You can start with the above defaults and adjust from there though if you don't want to be plunged in a the deep end.\n",
        "\n",
        "I would recommend starting with the Houston demonstration (I know it's second \n",
        "on the dropdown) and once you've been through that come back up to play with the Beirut damage assessment which is the real application we are aiming for."
      ],
      "id": "dQzjkeeoPOfj"
    },
    {
      "cell_type": "code",
      "metadata": {
        "colab": {
          "base_uri": "https://localhost:8080/",
          "height": 49,
          "referenced_widgets": [
            "e2d9e5776e6c49d7bd2b5fae134ac472",
            "1a66cc8f95af410692f13f15c75fa3d2",
            "3aadbea9aecf4af788f464b14cac8c52",
            "ce512aa119c44d35928fd4fbe06590bd",
            "66b1702c8e7647bdbde2c81ebd270429",
            "5b6f132a86e24fec8d500a9aaff7be49",
            "0a9d9b3fbc8f42038aff727339479269",
            "00cb1be2ecad4a7d8796a8c9d0435832"
          ]
        },
        "id": "bigger-remove",
        "outputId": "dc015120-4700-4665-bee9-05115a33c8af"
>>>>>>> d0cb1cd61e8eedb70c9a7f2751df8ca99387b9c0
      },
      "source": [
        "# Run me!\n",
        "defaults = it.get_defaults()"
      ],
      "id": "bigger-remove",
      "execution_count": 88,
      "outputs": [
        {
          "output_type": "display_data",
          "data": {
            "application/vnd.jupyter.widget-view+json": {
              "model_id": "e2d9e5776e6c49d7bd2b5fae134ac472",
              "version_minor": 0,
              "version_major": 2
            },
            "text/plain": [
              "Box(children=(Label(value='Please select default inputs: '), Dropdown(layout=Layout(width='max-content'), opti…"
            ]
          },
          "metadata": {
            "tags": []
          }
        }
      ]
<<<<<<< HEAD
     },
     "metadata": {},
     "output_type": "display_data"
    },
    {
     "data": {
      "application/vnd.jupyter.widget-view+json": {
       "model_id": "bb1fd12f86d94df59215850dfe6bfc27",
       "version_major": 2,
       "version_minor": 0
      },
      "text/plain": [
       "Box(children=(IntText(value=2, description='High - ', layout=Layout(width='max-content')), IntText(value=2, de…"
      ]
     },
     "metadata": {},
     "output_type": "display_data"
    },
    {
     "data": {
      "application/vnd.jupyter.widget-view+json": {
       "model_id": "f34aa6ca31964709a4acf0ff7b0e182a",
       "version_major": 2,
       "version_minor": 0
      },
      "text/plain": [
       "Box(children=(Label(value='Geographical Edges - '), Checkbox(value=False, indent=False, layout=Layout(width='m…"
      ]
     },
     "metadata": {},
     "output_type": "display_data"
    },
    {
     "data": {
      "application/vnd.jupyter.widget-view+json": {
       "model_id": "ad78eff1ee954919af383ca9e9e762db",
       "version_major": 2,
       "version_minor": 0
=======
    },
    {
      "cell_type": "code",
      "metadata": {
        "colab": {
          "base_uri": "https://localhost:8080/",
          "height": 354,
          "referenced_widgets": [
            "910cce1a57dd4b38babfd75c22e1eb11",
            "e76755bc809440afa21bfde797249020",
            "29a4cd049a734edbb7b7ac5e6aafefde",
            "de4e655bb952423ba8bf677480f9307d",
            "acdc5ad490034661a47d685d9edb000d",
            "9b8efc3b7ba2432e88d809cf7aac7001",
            "3b35252454134f2d9fd34386fae7f6fa",
            "7342b2abb34d457889b28b5431afd758",
            "2ada2eab970143efb21d581c2f814097",
            "8302b4933d01437a9dc782ae6c40a4d9",
            "3b3019395abd4323a6c4ed506fa133ad",
            "e784325974574ce5a3f6b8d1836bb9fd",
            "943e58b11fb54ef9be8c45a296e39ed9",
            "8aff80d853394f37953153168300439b",
            "f304a5689a0647089be5e0829f229c25",
            "46bf8da189684246ac4d9540c7d113d8",
            "3a446c063ceb413ba888decbb6e6b6df",
            "12a2298e51f8452fbc27eb6b43013738",
            "4120c275248c48cd8771219df9566710",
            "57c0041e09f2472294161c76a445b882",
            "2ce238243ede424589da13369ace50bd",
            "966583914a6046439c36d4db64f3614e",
            "c1f23376a0f54785b36e6b6f2c14e91b",
            "b82c2274adb34529b7a977b5fd7754b1",
            "de4e96160580469c9180b6ba2b09a9cb",
            "1427db8a0a7541259055d26b600c8fce",
            "2553edc604c64ae09c6f1daf9daee79a",
            "667480edcfbc46f2a7054c5b32bb192b",
            "c4d017eeef674137894031e38b7ccdf7",
            "1d2691963d604e818ff04d8987371cd9",
            "d29615b1c32e47248e28c5df4d6a445e",
            "96ed3f9bf8da4dceac36f1dac7d7f068",
            "da5b22a0489744e396e463ece63188e3",
            "a30d244fc9d94fa1acd8b843e8513c37",
            "4082d9fa61494eea84913090eeba3bae",
            "57ac3864810346729613497d6b00ffe7",
            "042fd9e364044ef989a06611a34a79d7",
            "8e29f414b32f40afb15fbbba1f0019a2",
            "8262daef7df0497fb06fde36dd0848cd",
            "20a1a6c8730b4aff9593ec9d4084caff",
            "8b4861a104134fcea58edf33185e9e19",
            "08fe71fd2a264384a4d4e22614f68726",
            "5674ca00ff6a43ba9cfd02560ebdbe51",
            "af4aa8c7a4184712bf9a1770900a6a88",
            "8b78e3611b184668a2970ea55f91a341",
            "b781ac42163c4d2a89b6644cc2e8aa8b",
            "0691b22de7104e0fb79e7f64531ada74",
            "12bccce95821466f94c14851249a7ee0",
            "9f3e2a2b43cc4ffbb9ba01854f72225f",
            "4b29e841955f4e10b2c1994fd73eb9a1",
            "f5aeba84e21d4a9f8220323dd69fed3d",
            "db99f4beb983441fa181f055203e3f90",
            "964cc2da8d0947f7bf04cb89c8e9a351",
            "6f526c5fd9e04c46b8941f12490c1171",
            "3a6793b80c474639a3cef235139088a2",
            "706d14ff0ee54b5abad2a7f3db607418",
            "82a4ca8022584cee82683e8e0ee75c20",
            "dd6bb62cebdf47ae91756a85f04c338e",
            "fde69621ee1a4486af43fd9c8838379a",
            "4a1dd761021843aab16ec6926734aad9",
            "d9248d7a3b524ed98dfb4dc2db60bb23",
            "59cffc7756b84e2782ec85b16addbf0c",
            "0a30446e86494103b0569f13b036cd0e",
            "fb7bb4826ac24975b8cc1771f502f42b",
            "746998880f7e47818dce5ef6b2cba0ae",
            "705729272c4846ad93ce992eee2ffec7",
            "0c68a79e39f74321910a7b73d74e8b02",
            "5fba1babaa0b4989bfe598f12cba5ab4",
            "07b69241b6a34b8894762b2ddf3e2383",
            "9576458baa1a4f12a7da6b5f01fbd0e0",
            "35e8384afeb844b3b9671ece796419ae",
            "4726bdb93bca4ef2a4dff3aa3772eefd",
            "a72b58bd084246278cf87e34b3775144",
            "d7cf09ff7c61403a8c324957b0472707",
            "9534040f61794a49ac37c5146ab3b236",
            "593567b16edc4ebd944a84253d59dc4e",
            "2f7d156a7cca48d4a4e6fd07ae749d4b",
            "b147154982344ebeacb988dad095059b",
            "fe99a551752e448484ccb2f6ddf852a8",
            "c9b01e8cebbe4423baa7221a595c640e",
            "593e5737cea24651bc6cf1abd033d5f9",
            "b41508a0c0f2493aad8ba870af0f25df",
            "98d0183ee43d452b82641ebbde33ca2a",
            "0d71248b0fb24244a5ea444e2351fee1",
            "002349b8ae47414bbadc6f92f6979b10",
            "49d5193b5690478b9f10ebff6f88342d",
            "22bf2a208d6442ab94260cf09faada39",
            "183589b25177457dbc675f20a8e99d1a",
            "8a4b2474c4164cb3b4e5d788a0d82b02",
            "25d031ad8a204bd1a05d2aaf41006414",
            "8a4251ada9224212bbd535508298ce2a",
            "ea4cd42a528c4f5ab2564001f9b89a08",
            "2c8778bd4e3d43ea8e40e021042dcb8d",
            "30ebe2c8fffc4b0cb3b5af148804ea9e",
            "36e29fe980e946e9a15a6546825cf47e",
            "5b4c99e94bc14b7fbb9a381755dc9ffc",
            "51d61bb565af405b9cfca684b5d76dfc",
            "6b2b938adf7d4486af475bd4356a1aaa",
            "22525492f5284f1baeb2ab1c66e9f969",
            "f2a42ca8d4bd41eab74d71cd02405d2c",
            "06e5d703d75c40e18abe64c1ee0895b6",
            "58ff61b64a06429a8f02f1ee82e94aae",
            "d0021c1e6bef4353a59bc615ebac1629",
            "11f40fefbf0e4f38b6153d2878ced087",
            "c1d2d77338c34381a2f7be5b81d897c5",
            "eacc7af7c3eb4950a75f4c019e30ed33",
            "8c58808cd819498db5704b52e9307865",
            "9184b25cf7b0458c81ba81dfae4bc1b8"
          ]
        },
        "id": "sexual-timeline",
        "outputId": "14ca4afc-feca-488f-d7ab-af11cc197cd8"
      },
      "source": [
        "# Picked your default? Run me!\n",
        "inputs = it.input_parameters(defaults)"
      ],
      "id": "sexual-timeline",
      "execution_count": 89,
      "outputs": [
        {
          "output_type": "display_data",
          "data": {
            "application/vnd.jupyter.widget-view+json": {
              "model_id": "910cce1a57dd4b38babfd75c22e1eb11",
              "version_minor": 0,
              "version_major": 2
            },
            "text/plain": [
              "HTML(value='<b>Label parameters</b>')"
            ]
          },
          "metadata": {
            "tags": []
          }
        },
        {
          "output_type": "display_data",
          "data": {
            "application/vnd.jupyter.widget-view+json": {
              "model_id": "de4e655bb952423ba8bf677480f9307d",
              "version_minor": 0,
              "version_major": 2
            },
            "text/plain": [
              "Box(children=(Label(value='Ground truth: Shapefile - '), Text(value='./data/2018IEEE_Contest/Phase2/TrainingGT…"
            ]
          },
          "metadata": {
            "tags": []
          }
        },
        {
          "output_type": "display_data",
          "data": {
            "application/vnd.jupyter.widget-view+json": {
              "model_id": "12a2298e51f8452fbc27eb6b43013738",
              "version_minor": 0,
              "version_major": 2
            },
            "text/plain": [
              "Box(children=(Label(value='Label column - '), Text(value='class', layout=Layout(width='max-content'), placehol…"
            ]
          },
          "metadata": {
            "tags": []
          }
        },
        {
          "output_type": "display_data",
          "data": {
            "application/vnd.jupyter.widget-view+json": {
              "model_id": "96ed3f9bf8da4dceac36f1dac7d7f068",
              "version_minor": 0,
              "version_major": 2
            },
            "text/plain": [
              "Box(children=(Label(value='Label confidence ($P_{other label}$, $P_{class}$)'), FloatRangeSlider(value=(0.0, 1…"
            ]
          },
          "metadata": {
            "tags": []
          }
        },
        {
          "output_type": "display_data",
          "data": {
            "application/vnd.jupyter.widget-view+json": {
              "model_id": "20a1a6c8730b4aff9593ec9d4084caff",
              "version_minor": 0,
              "version_major": 2
            },
            "text/plain": [
              "HTML(value='<b>Data Parameters</b>')"
            ]
          },
          "metadata": {
            "tags": []
          }
        },
        {
          "output_type": "display_data",
          "data": {
            "application/vnd.jupyter.widget-view+json": {
              "model_id": "5674ca00ff6a43ba9cfd02560ebdbe51",
              "version_minor": 0,
              "version_major": 2
            },
            "text/plain": [
              "Box(children=(Label(value='Enter Data Types:'), Combobox(value='Hyperspectral imagery', layout=Layout(width='m…"
            ]
          },
          "metadata": {
            "tags": []
          }
        },
        {
          "output_type": "display_data",
          "data": {
            "application/vnd.jupyter.widget-view+json": {
              "model_id": "4a1dd761021843aab16ec6926734aad9",
              "version_minor": 0,
              "version_major": 2
            },
            "text/plain": [
              "VBox(children=(Button(button_style='success', description='Confirm Types', icon='check', style=ButtonStyle(), …"
            ]
          },
          "metadata": {
            "tags": []
          }
        }
      ]
    },
    {
      "cell_type": "code",
      "metadata": {
        "id": "zLW2KwE2Y09E"
      },
      "source": [
        "! bash download_beirut.sh"
      ],
      "id": "zLW2KwE2Y09E",
      "execution_count": null,
      "outputs": []
    },
    {
      "cell_type": "code",
      "metadata": {
        "id": "ihvWIAjeY_fV",
        "outputId": "c0ac2f96-3762-4b7a-e6e9-d4c573389f92",
        "colab": {
          "base_uri": "https://localhost:8080/"
        }
>>>>>>> d0cb1cd61e8eedb70c9a7f2751df8ca99387b9c0
      },
      "source": [
        "! bash download_houston.sh"
      ],
      "id": "ihvWIAjeY_fV",
      "execution_count": 94,
      "outputs": [
        {
          "output_type": "stream",
          "text": [
            "mkdir: cannot create directory ‘data’: File exists\n",
            "Downloading...\n",
            "From: https://drive.google.com/uc?export=download&id=1hserIYq6OBiHqpZ9Gjm4xywz16Ew57ij\n",
            "To: /content/damage-assessment/data/houston-data.zip\n",
            "544MB [00:05, 108MB/s]\n",
            "Archive:  houston-data.zip\n",
            "  inflating: GroundTruth/2018_IEEE_GRSS_DFC_GT_TR  \n",
            "  inflating: GroundTruth/2018_IEEE_GRSS_DFC_GT_TR.hdr  \n",
            "  inflating: GroundTruth/2018_IEEE_GRSS_DFC_GT_TR.tfw  \n",
            "  inflating: GroundTruth/2018_IEEE_GRSS_DFC_GT_TR.tif  \n",
            "  inflating: HighResolution/houstonmosaic.tif  \n",
            "  inflating: Hyperspectral/20170218_UH_CASI_S4_NAD83.hdr  \n",
            "  inflating: Hyperspectral/20170218_UH_CASI_S4_NAD83.pix  \n",
            "  inflating: LiDAR/UH17_GI3F051.tfw  \n",
            "  inflating: LiDAR/UH17_GI3F051.tif  \n",
            "  inflating: LiDAR/UH17_GI3F051.tif.aux.xml  \n",
            "  inflating: LiDAR/UH17_GI3F051.tif.ovr  \n"
          ],
          "name": "stdout"
        }
      ]
<<<<<<< HEAD
     },
     "metadata": {},
     "output_type": "display_data"
    },
    {
     "data": {
      "application/vnd.jupyter.widget-view+json": {
       "model_id": "7b033395791a4c0d92f8d3a65179b769",
       "version_major": 2,
       "version_minor": 0
      },
      "text/plain": [
       "HTML(value=\"Labels - ['GREEN' 'LAND' 'RED' 'TOTAL' 'YELLOW']\")"
      ]
     },
     "metadata": {},
     "output_type": "display_data"
    },
    {
     "data": {
      "application/vnd.jupyter.widget-view+json": {
       "model_id": "3a5611e3d15b44adb1d40bda1ca50dc2",
       "version_major": 2,
       "version_minor": 0
      },
      "text/plain": [
       "Box(children=(Label(value='Remove labels - '), Text(value='', layout=Layout(width='max-content'), placeholder=…"
      ]
     },
     "metadata": {},
     "output_type": "display_data"
    },
    {
     "data": {
      "application/vnd.jupyter.widget-view+json": {
       "model_id": "9ca9ee63a0fd4599bc352188e4a2d591",
       "version_major": 2,
       "version_minor": 0
=======
    },
    {
      "cell_type": "code",
      "metadata": {
        "colab": {
          "base_uri": "https://localhost:8080/",
          "height": 642,
          "referenced_widgets": [
            "3ddf4a7b2d31487583c1bcb7ab360649",
            "76e11611b37449088845f41ffe50b676",
            "8928b45b8a26405ba5bb31bdcee3845e",
            "318c8a70d0d74041a61bafeea0213e6c",
            "27a52ca7e5eb412391f3036a7001af22",
            "1b417abdb75940508b486828e8fa1601",
            "728582c5d7924b03a4b1d32ec8558b07",
            "9e431da90363436baf375e4b1052828f",
            "f6fc14c282df40109b77e372f7d9567e",
            "ca5b2d27cbc2439bb528695ebd069bdf",
            "65268131b39b4a498381627ab7258dd1",
            "795b1e61dc254e00804bc3c942f0eade",
            "bffa5d2c14dc418a9fe7daa734b890c8",
            "541f2e018fc54502b662bf44e4327f2c",
            "0d809a9500f74b989c116dfe1969089b",
            "d0ff6adc590943bdb24fb8a4d484ce8a",
            "097eff8c66324d14b15f24d9f7141c24",
            "962651f6a76a473ba6213c2f27635b11",
            "5d3e537c17aa4c7396fba6e17fab2320",
            "9bf120ea7c2146f1b6a94741b9e29164",
            "987f2d733f43424fbb4e96e50ea313f6",
            "b4303c47ebfa428886c0aab8fbf92f4f",
            "cc208d89a5164ba983f60aa300321867",
            "bb08fed25a59412faf5294005b890206",
            "36d5baee84a94192b3ebe445549a3dc2",
            "c831b177a5004de4a21666ec65ee5f3b",
            "9b944acfac4247fb9dd2fe4e1bed7d97",
            "d6328dab868b415db4c78112baccb1c0",
            "aa159d8973db43f289f128566138a26a",
            "1b12da7dbf7f40439f8157dcd62dc165",
            "6c68ec7a90094aad9415046ac522122f",
            "fb5bba434d1d44ef9cf9c0ee67328fd9",
            "5877a52b1ec94f36a019b7016f01bb03",
            "b00bedeb37a143569846516947d25e41",
            "4d642936e36d4d9c93abd6f62b836928",
            "6e302894a1e74d69afa8fa9e900117b7",
            "a057e0b6f35246f2ba611fa9cd3e030b",
            "282a0b009ff445bb9e4860c289b65f15",
            "a6c091613d864ed090bd74dda4335679",
            "61968c39de664b77aaf05ebb32318c05",
            "d9f23eee70cc4d5eac1f8ec5eaecdbd3",
            "ddefcc838b1c4c25a20a0754a1faa861",
            "769e5b1d3c6a4db6bac16904f568e968",
            "1b2932cb419e4522b3f3b306c633a1ed",
            "73a546e3ee7e49f2a233aa009593e569",
            "f0697f7c940e4816a3d19bd783bbf381",
            "5770a9070aa1403e96e7e25515ca0a58",
            "2d64b9a2e55e46fd85326542e367281f",
            "906ecddf488a4bd0ab5fa995a62321ee",
            "c767d9b55cfa4427a5de02add89790f2",
            "42120781d63344dd89894387c66ad8db",
            "9d30ae71ea7b4e1ebf5758698a8128b4",
            "538f0931b9c7476d9fd9b5a202b4e32f",
            "7d24c2b7b6554051bd66824310d3d1fd",
            "de79eaac1b284805a4432d67090170c5",
            "e08670a09047494d965b223d0a8b9192",
            "84680bce32c5428a82c9ccf728a5728a",
            "3168533c7fee4ef882f252680b9bbb89",
            "5133ef29334c48c3af38472245394d80",
            "8305d3bb097f47edbeff723f54031147",
            "07d2b7272b24424cab96e0af959d4c47",
            "032b5ebbeaa44e05b1c99afdfddcff20",
            "17056c992b05463ca57dd64ce16f7c4a",
            "5bf43bca64534c91831edee0d8333b16",
            "2ef0847841814d5fa0a642b5b5a1dd68",
            "4e59fbc86e2b454b944fe65220ff8b5d",
            "58bafc86ecec466e95f3b87399e3b1f1",
            "895929f9f9504b4b931bad04058c451a",
            "e9306e5064f64a819ffaf0fa94dcd246",
            "f1312daa10384ca38de0349d15d4827a",
            "eb0ac93a3dc3495fae335103975493e2",
            "b0a4cbbf3d624b618150762d7e3b5eca",
            "befe0b38155346e7b0c4c83746ca97b0",
            "e9a9befab62542849300a446ec3a6bef",
            "b0061638f07f4d23b0dfecf57078940a",
            "23ebd903890049529e6ed8c03c016129",
            "57fa3b9c9bab4cfa816a9c3f92172489",
            "2f8d28d0146f46c0a24b8a9d0679cadd",
            "d1c22f38c9a44e3885931c21b6ad92e3",
            "a39beed2b367413a9596ff2021ec79d3",
            "1cf9fc78e95c4adfab75b0fb7345335a",
            "d1174ba67f964c499e14d4dbe16c389e",
            "435a069ba2324268b1bcda45619d2c58",
            "4bbbb10fd5284a4b8d07143f0686ca2c",
            "05e85e978d6b4ccba9b32060328097cf",
            "79ba1ce93478496b8fcb232577870ca5",
            "6ae0ff8d210544b4ba12d35e81136b22",
            "2b2b6a6ff07c4d6d99dd49a6c3c65756",
            "85994a2d5a3d409490535cf3998cb967",
            "20430f8e23174197a360d13a8cf31621",
            "b4dca86a48e94b5299857f97774fa85d",
            "be0048025085481d9cf56b2c00e4772c",
            "ba29bef4d3d34f58b1db4c5a0213622a",
            "4843f00d12e44a658938763b30feba85"
          ]
        },
        "id": "hungry-magazine",
        "outputId": "83a56ba8-9cf3-4859-c755-78fc9a4bd3bf"
      },
      "source": [
        "# Please confirm your types before running this one\n",
        "# If it's the first time you've run it for the application - this will download\n",
        "# the data, it should be quick but bare with.\n",
        "parameters = it.model_parameters(inputs)"
      ],
      "id": "hungry-magazine",
      "execution_count": 95,
      "outputs": [
        {
          "output_type": "display_data",
          "data": {
            "image/png": "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\n",
            "text/plain": [
              "<Figure size 720x288 with 2 Axes>"
            ]
          },
          "metadata": {
            "tags": [],
            "needs_background": "light"
          }
        },
        {
          "output_type": "display_data",
          "data": {
            "application/vnd.jupyter.widget-view+json": {
              "model_id": "3ddf4a7b2d31487583c1bcb7ab360649",
              "version_minor": 0,
              "version_major": 2
            },
            "text/plain": [
              "HTML(value='<h3>Model Parameters</h3>')"
            ]
          },
          "metadata": {
            "tags": []
          }
        },
        {
          "output_type": "display_data",
          "data": {
            "application/vnd.jupyter.widget-view+json": {
              "model_id": "318c8a70d0d74041a61bafeea0213e6c",
              "version_minor": 0,
              "version_major": 2
            },
            "text/plain": [
              "HTML(value='<b>Node Properties - Sampling occurs if max nodes < input nodes.</b>')"
            ]
          },
          "metadata": {
            "tags": []
          }
        },
        {
          "output_type": "display_data",
          "data": {
            "application/vnd.jupyter.widget-view+json": {
              "model_id": "728582c5d7924b03a4b1d32ec8558b07",
              "version_minor": 0,
              "version_major": 2
            },
            "text/plain": [
              "Box(children=(Label(value='Max nodes - '), IntText(value=10000, layout=Layout(width='max-content'), step=1000)…"
            ]
          },
          "metadata": {
            "tags": []
          }
        },
        {
          "output_type": "display_data",
          "data": {
            "application/vnd.jupyter.widget-view+json": {
              "model_id": "987f2d733f43424fbb4e96e50ea313f6",
              "version_minor": 0,
              "version_major": 2
            },
            "text/plain": [
              "HTML(value='<b>Edge Properties - Number of neighbours each node is connected to according to input types.</b>'…"
            ]
          },
          "metadata": {
            "tags": []
          }
        },
        {
          "output_type": "display_data",
          "data": {
            "application/vnd.jupyter.widget-view+json": {
              "model_id": "bb08fed25a59412faf5294005b890206",
              "version_minor": 0,
              "version_major": 2
            },
            "text/plain": [
              "Box(children=(IntText(value=2, description='Hyperspectral - ', layout=Layout(width='max-content')), IntText(va…"
            ]
          },
          "metadata": {
            "tags": []
          }
        },
        {
          "output_type": "display_data",
          "data": {
            "application/vnd.jupyter.widget-view+json": {
              "model_id": "4d642936e36d4d9c93abd6f62b836928",
              "version_minor": 0,
              "version_major": 2
            },
            "text/plain": [
              "Box(children=(Label(value='Geographical Edges - '), Checkbox(value=False, indent=False, layout=Layout(width='m…"
            ]
          },
          "metadata": {
            "tags": []
          }
        },
        {
          "output_type": "display_data",
          "data": {
            "application/vnd.jupyter.widget-view+json": {
              "model_id": "906ecddf488a4bd0ab5fa995a62321ee",
              "version_minor": 0,
              "version_major": 2
            },
            "text/plain": [
              "HTML(value='<b>Class Properties</b>')"
            ]
          },
          "metadata": {
            "tags": []
          }
        },
        {
          "output_type": "display_data",
          "data": {
            "application/vnd.jupyter.widget-view+json": {
              "model_id": "9d30ae71ea7b4e1ebf5758698a8128b4",
              "version_minor": 0,
              "version_major": 2
            },
            "text/plain": [
              "HTML(value='Label Classes - [ 0  1  2  3  4  5  6  7  8  9 10 11 12 13 14 15 16 17 18 19 20]')"
            ]
          },
          "metadata": {
            "tags": []
          }
        },
        {
          "output_type": "display_data",
          "data": {
            "application/vnd.jupyter.widget-view+json": {
              "model_id": "de79eaac1b284805a4432d67090170c5",
              "version_minor": 0,
              "version_major": 2
            },
            "text/plain": [
              "Box(children=(Label(value='Classes for Model - '), Dropdown(index=19, options=(2, 3, 4, 5, 6, 7, 8, 9, 10, 11,…"
            ]
          },
          "metadata": {
            "tags": []
          }
        },
        {
          "output_type": "display_data",
          "data": {
            "application/vnd.jupyter.widget-view+json": {
              "model_id": "17056c992b05463ca57dd64ce16f7c4a",
              "version_minor": 0,
              "version_major": 2
            },
            "text/plain": [
              "VBox(children=(Button(button_style='success', description='Confirm Classes', icon='check', style=ButtonStyle()…"
            ]
          },
          "metadata": {
            "tags": []
          }
        }
      ]
    },
    {
      "cell_type": "code",
      "metadata": {
        "id": "dependent-flavor",
        "outputId": "d739f6a1-9b2c-4b67-ef0a-4fbbedc6e298",
        "colab": {
          "base_uri": "https://localhost:8080/",
          "height": 986
        }
>>>>>>> d0cb1cd61e8eedb70c9a7f2751df8ca99387b9c0
      },
      "source": [
        "imports = it.import_data(parameters)"
      ],
      "id": "dependent-flavor",
      "execution_count": 96,
      "outputs": [
        {
          "output_type": "stream",
          "text": [
            "------Checking Coordinate Systems-------\n"
          ],
          "name": "stdout"
        },
        {
          "output_type": "stream",
          "text": [
            "/usr/local/lib/python3.7/dist-packages/rasterio/__init__.py:220: NotGeoreferencedWarning: Dataset has no geotransform, gcps, or rpcs. The identity matrix be returned.\n",
            "  s = DatasetReader(path, driver=driver, sharing=sharing, **kwargs)\n"
          ],
          "name": "stderr"
        },
        {
          "output_type": "error",
          "ename": "CPLE_AppDefinedError",
          "evalue": "ignored",
          "traceback": [
            "\u001b[0;31m---------------------------------------------------------------------------\u001b[0m",
            "\u001b[0;31mCPLE_AppDefinedError\u001b[0m                      Traceback (most recent call last)",
            "\u001b[0;32m<ipython-input-96-f328fa48a21e>\u001b[0m in \u001b[0;36m<module>\u001b[0;34m()\u001b[0m\n\u001b[0;32m----> 1\u001b[0;31m \u001b[0mimports\u001b[0m \u001b[0;34m=\u001b[0m \u001b[0mit\u001b[0m\u001b[0;34m.\u001b[0m\u001b[0mimport_data\u001b[0m\u001b[0;34m(\u001b[0m\u001b[0mparameters\u001b[0m\u001b[0;34m)\u001b[0m\u001b[0;34m\u001b[0m\u001b[0;34m\u001b[0m\u001b[0m\n\u001b[0m",
            "\u001b[0;32m/content/damage-assessment/interactions.py\u001b[0m in \u001b[0;36mimport_data\u001b[0;34m(v)\u001b[0m\n\u001b[1;32m    282\u001b[0m \u001b[0;34m\u001b[0m\u001b[0m\n\u001b[1;32m    283\u001b[0m     \u001b[0;31m# Reproject Data if necessary\u001b[0m\u001b[0;34m\u001b[0m\u001b[0;34m\u001b[0m\u001b[0;34m\u001b[0m\u001b[0m\n\u001b[0;32m--> 284\u001b[0;31m     \u001b[0mv\u001b[0m \u001b[0;34m=\u001b[0m \u001b[0mreproject_data\u001b[0m\u001b[0;34m(\u001b[0m\u001b[0mv\u001b[0m\u001b[0;34m)\u001b[0m\u001b[0;34m\u001b[0m\u001b[0;34m\u001b[0m\u001b[0m\n\u001b[0m\u001b[1;32m    285\u001b[0m     \u001b[0;32mfor\u001b[0m \u001b[0mi\u001b[0m \u001b[0;32min\u001b[0m \u001b[0mv\u001b[0m\u001b[0;34m.\u001b[0m\u001b[0mkeys\u001b[0m\u001b[0;34m(\u001b[0m\u001b[0;34m)\u001b[0m\u001b[0;34m:\u001b[0m \u001b[0mglobals\u001b[0m\u001b[0;34m(\u001b[0m\u001b[0;34m)\u001b[0m\u001b[0;34m[\u001b[0m\u001b[0mi\u001b[0m\u001b[0;34m]\u001b[0m \u001b[0;34m=\u001b[0m \u001b[0mv\u001b[0m\u001b[0;34m[\u001b[0m\u001b[0mi\u001b[0m\u001b[0;34m]\u001b[0m \u001b[0;31m# Retrieve variables to use\u001b[0m\u001b[0;34m\u001b[0m\u001b[0;34m\u001b[0m\u001b[0m\n\u001b[1;32m    286\u001b[0m \u001b[0;34m\u001b[0m\u001b[0m\n",
            "\u001b[0;32m/content/damage-assessment/interactions.py\u001b[0m in \u001b[0;36mreproject_data\u001b[0;34m(v)\u001b[0m\n\u001b[1;32m    268\u001b[0m         \u001b[0;31m# Check coordinate system is correct - otherwise reproject\u001b[0m\u001b[0;34m\u001b[0m\u001b[0;34m\u001b[0m\u001b[0;34m\u001b[0m\u001b[0m\n\u001b[1;32m    269\u001b[0m         \u001b[0;32melif\u001b[0m \u001b[0mv\u001b[0m\u001b[0;34m[\u001b[0m\u001b[0;34m'crs'\u001b[0m\u001b[0;34m]\u001b[0m \u001b[0;32mnot\u001b[0m \u001b[0;32min\u001b[0m \u001b[0mip\u001b[0m\u001b[0;34m.\u001b[0m\u001b[0mget_crs\u001b[0m\u001b[0;34m(\u001b[0m\u001b[0mv\u001b[0m\u001b[0;34m[\u001b[0m\u001b[0;34m'postFile'\u001b[0m\u001b[0;34m+\u001b[0m\u001b[0mstr\u001b[0m\u001b[0;34m(\u001b[0m\u001b[0mi\u001b[0m\u001b[0;34m)\u001b[0m\u001b[0;34m]\u001b[0m\u001b[0;34m)\u001b[0m\u001b[0;34m:\u001b[0m\u001b[0;34m\u001b[0m\u001b[0;34m\u001b[0m\u001b[0m\n\u001b[0;32m--> 270\u001b[0;31m             \u001b[0mv\u001b[0m\u001b[0;34m[\u001b[0m\u001b[0;34m'postFile'\u001b[0m\u001b[0;34m+\u001b[0m\u001b[0mstr\u001b[0m\u001b[0;34m(\u001b[0m\u001b[0mi\u001b[0m\u001b[0;34m)\u001b[0m\u001b[0;34m]\u001b[0m \u001b[0;34m=\u001b[0m \u001b[0mip\u001b[0m\u001b[0;34m.\u001b[0m\u001b[0mconv_coords\u001b[0m\u001b[0;34m(\u001b[0m\u001b[0;34m[\u001b[0m\u001b[0mv\u001b[0m\u001b[0;34m[\u001b[0m\u001b[0;34m'postFile'\u001b[0m\u001b[0;34m+\u001b[0m\u001b[0mstr\u001b[0m\u001b[0;34m(\u001b[0m\u001b[0mi\u001b[0m\u001b[0;34m)\u001b[0m\u001b[0;34m]\u001b[0m\u001b[0;34m]\u001b[0m\u001b[0;34m,\u001b[0m \u001b[0;34m[\u001b[0m\u001b[0;34m\"data/PostConv\"\u001b[0m\u001b[0;34m+\u001b[0m\u001b[0mstr\u001b[0m\u001b[0;34m(\u001b[0m\u001b[0mi\u001b[0m\u001b[0;34m)\u001b[0m\u001b[0;34m+\u001b[0m\u001b[0;34m\".tif\"\u001b[0m\u001b[0;34m]\u001b[0m\u001b[0;34m,\u001b[0m \u001b[0mv\u001b[0m\u001b[0;34m[\u001b[0m\u001b[0;34m'crs'\u001b[0m\u001b[0;34m]\u001b[0m\u001b[0;34m)\u001b[0m\u001b[0;34m[\u001b[0m\u001b[0;36m0\u001b[0m\u001b[0;34m]\u001b[0m\u001b[0;34m\u001b[0m\u001b[0;34m\u001b[0m\u001b[0m\n\u001b[0m\u001b[1;32m    271\u001b[0m             \u001b[0;32mif\u001b[0m \u001b[0mv\u001b[0m\u001b[0;34m[\u001b[0m\u001b[0;34m'preFile'\u001b[0m\u001b[0;34m+\u001b[0m\u001b[0mstr\u001b[0m\u001b[0;34m(\u001b[0m\u001b[0mi\u001b[0m\u001b[0;34m)\u001b[0m\u001b[0;34m]\u001b[0m\u001b[0;34m:\u001b[0m \u001b[0mv\u001b[0m\u001b[0;34m[\u001b[0m\u001b[0;34m'preFile'\u001b[0m\u001b[0;34m+\u001b[0m\u001b[0mstr\u001b[0m\u001b[0;34m(\u001b[0m\u001b[0mi\u001b[0m\u001b[0;34m)\u001b[0m\u001b[0;34m]\u001b[0m \u001b[0;34m=\u001b[0m \u001b[0mconv_coords\u001b[0m\u001b[0;34m(\u001b[0m\u001b[0mv\u001b[0m\u001b[0;34m[\u001b[0m\u001b[0;34m'preFile'\u001b[0m\u001b[0;34m+\u001b[0m\u001b[0mstr\u001b[0m\u001b[0;34m(\u001b[0m\u001b[0mi\u001b[0m\u001b[0;34m)\u001b[0m\u001b[0;34m]\u001b[0m\u001b[0;34m,\u001b[0m \u001b[0;34m[\u001b[0m\u001b[0;34m\"data/PreConv\"\u001b[0m\u001b[0;34m+\u001b[0m\u001b[0mstr\u001b[0m\u001b[0;34m(\u001b[0m\u001b[0mi\u001b[0m\u001b[0;34m)\u001b[0m\u001b[0;34m+\u001b[0m\u001b[0;34m\".tif\"\u001b[0m\u001b[0;34m]\u001b[0m\u001b[0;34m,\u001b[0m \u001b[0mv\u001b[0m\u001b[0;34m[\u001b[0m\u001b[0;34m'crs'\u001b[0m\u001b[0;34m]\u001b[0m\u001b[0;34m)\u001b[0m\u001b[0;34m[\u001b[0m\u001b[0;36m0\u001b[0m\u001b[0;34m]\u001b[0m\u001b[0;34m\u001b[0m\u001b[0;34m\u001b[0m\u001b[0m\n\u001b[1;32m    272\u001b[0m     \u001b[0mprint\u001b[0m\u001b[0;34m(\u001b[0m\u001b[0;34m\"------Finished Checking Coordinate Systems-------\"\u001b[0m\u001b[0;34m)\u001b[0m\u001b[0;34m\u001b[0m\u001b[0;34m\u001b[0m\u001b[0m\n",
            "\u001b[0;32m/content/damage-assessment/demo_imports.py\u001b[0m in \u001b[0;36mconv_coords\u001b[0;34m(inFiles, outFiles, crs, verbose)\u001b[0m\n\u001b[1;32m    154\u001b[0m         \u001b[0;32mwith\u001b[0m \u001b[0mro\u001b[0m\u001b[0;34m.\u001b[0m\u001b[0mopen\u001b[0m\u001b[0;34m(\u001b[0m\u001b[0mfile\u001b[0m\u001b[0;34m)\u001b[0m \u001b[0;32mas\u001b[0m \u001b[0msrc\u001b[0m\u001b[0;34m:\u001b[0m\u001b[0;34m\u001b[0m\u001b[0;34m\u001b[0m\u001b[0m\n\u001b[1;32m    155\u001b[0m             transform, width, height = ro.warp.calculate_default_transform(\n\u001b[0;32m--> 156\u001b[0;31m                 src.crs, crs, src.width, src.height, *src.bounds)\n\u001b[0m\u001b[1;32m    157\u001b[0m             \u001b[0mkwargs\u001b[0m \u001b[0;34m=\u001b[0m \u001b[0msrc\u001b[0m\u001b[0;34m.\u001b[0m\u001b[0mmeta\u001b[0m\u001b[0;34m.\u001b[0m\u001b[0mcopy\u001b[0m\u001b[0;34m(\u001b[0m\u001b[0;34m)\u001b[0m\u001b[0;34m\u001b[0m\u001b[0;34m\u001b[0m\u001b[0m\n\u001b[1;32m    158\u001b[0m             kwargs.update({\n",
            "\u001b[0;32m/usr/local/lib/python3.7/dist-packages/rasterio/env.py\u001b[0m in \u001b[0;36mwrapper\u001b[0;34m(*args, **kwds)\u001b[0m\n\u001b[1;32m    382\u001b[0m     \u001b[0;32mdef\u001b[0m \u001b[0mwrapper\u001b[0m\u001b[0;34m(\u001b[0m\u001b[0;34m*\u001b[0m\u001b[0margs\u001b[0m\u001b[0;34m,\u001b[0m \u001b[0;34m**\u001b[0m\u001b[0mkwds\u001b[0m\u001b[0;34m)\u001b[0m\u001b[0;34m:\u001b[0m\u001b[0;34m\u001b[0m\u001b[0;34m\u001b[0m\u001b[0m\n\u001b[1;32m    383\u001b[0m         \u001b[0;32mif\u001b[0m \u001b[0mlocal\u001b[0m\u001b[0;34m.\u001b[0m\u001b[0m_env\u001b[0m\u001b[0;34m:\u001b[0m\u001b[0;34m\u001b[0m\u001b[0;34m\u001b[0m\u001b[0m\n\u001b[0;32m--> 384\u001b[0;31m             \u001b[0;32mreturn\u001b[0m \u001b[0mf\u001b[0m\u001b[0;34m(\u001b[0m\u001b[0;34m*\u001b[0m\u001b[0margs\u001b[0m\u001b[0;34m,\u001b[0m \u001b[0;34m**\u001b[0m\u001b[0mkwds\u001b[0m\u001b[0;34m)\u001b[0m\u001b[0;34m\u001b[0m\u001b[0;34m\u001b[0m\u001b[0m\n\u001b[0m\u001b[1;32m    385\u001b[0m         \u001b[0;32melse\u001b[0m\u001b[0;34m:\u001b[0m\u001b[0;34m\u001b[0m\u001b[0;34m\u001b[0m\u001b[0m\n\u001b[1;32m    386\u001b[0m             \u001b[0;32mwith\u001b[0m \u001b[0mEnv\u001b[0m\u001b[0;34m.\u001b[0m\u001b[0mfrom_defaults\u001b[0m\u001b[0;34m(\u001b[0m\u001b[0;34m)\u001b[0m\u001b[0;34m:\u001b[0m\u001b[0;34m\u001b[0m\u001b[0;34m\u001b[0m\u001b[0m\n",
            "\u001b[0;32m/usr/local/lib/python3.7/dist-packages/rasterio/warp.py\u001b[0m in \u001b[0;36mcalculate_default_transform\u001b[0;34m(src_crs, dst_crs, width, height, left, bottom, right, top, gcps, rpcs, resolution, dst_width, dst_height, **kwargs)\u001b[0m\n\u001b[1;32m    507\u001b[0m \u001b[0;34m\u001b[0m\u001b[0m\n\u001b[1;32m    508\u001b[0m     dst_affine, dst_width, dst_height = _calculate_default_transform(\n\u001b[0;32m--> 509\u001b[0;31m         \u001b[0msrc_crs\u001b[0m\u001b[0;34m,\u001b[0m \u001b[0mdst_crs\u001b[0m\u001b[0;34m,\u001b[0m \u001b[0mwidth\u001b[0m\u001b[0;34m,\u001b[0m \u001b[0mheight\u001b[0m\u001b[0;34m,\u001b[0m \u001b[0mleft\u001b[0m\u001b[0;34m,\u001b[0m \u001b[0mbottom\u001b[0m\u001b[0;34m,\u001b[0m \u001b[0mright\u001b[0m\u001b[0;34m,\u001b[0m \u001b[0mtop\u001b[0m\u001b[0;34m,\u001b[0m \u001b[0mgcps\u001b[0m\u001b[0;34m,\u001b[0m \u001b[0mrpcs\u001b[0m\u001b[0;34m,\u001b[0m \u001b[0;34m**\u001b[0m\u001b[0mkwargs\u001b[0m\u001b[0;34m\u001b[0m\u001b[0;34m\u001b[0m\u001b[0m\n\u001b[0m\u001b[1;32m    510\u001b[0m     )\n\u001b[1;32m    511\u001b[0m \u001b[0;34m\u001b[0m\u001b[0m\n",
            "\u001b[0;32mrasterio/_warp.pyx\u001b[0m in \u001b[0;36mrasterio._warp._calculate_default_transform\u001b[0;34m()\u001b[0m\n",
            "\u001b[0;32mrasterio/_warp.pyx\u001b[0m in \u001b[0;36mrasterio._warp._calculate_default_transform\u001b[0;34m()\u001b[0m\n",
            "\u001b[0;32mrasterio/_err.pyx\u001b[0m in \u001b[0;36mrasterio._err.exc_wrap_pointer\u001b[0;34m()\u001b[0m\n",
            "\u001b[0;31mCPLE_AppDefinedError\u001b[0m: The transformation is already \"north up\" or a transformation between pixel/line and georeferenced coordinates cannot be computed for <VRTDataset rasterXSize=\"4768\" rasterYSize=\"1202\"><VRTRasterBand /><SRS /><GeoTransform>0.0,1.0,0.0,0.0,0.0,1.0</GeoTransform></VRTDataset>. There is no affine transformation and no GCPs. Specify transformation option SRC_METHOD=NO_GEOTRANSFORM to bypass this check."
          ]
        }
      ]
<<<<<<< HEAD
     },
     "metadata": {},
     "output_type": "display_data"
    },
    {
     "data": {
      "application/vnd.jupyter.widget-view+json": {
       "model_id": "7de59793b7c047acb4ec376102848e9b",
       "version_major": 2,
       "version_minor": 0
=======
    },
    {
      "cell_type": "code",
      "metadata": {
        "id": "western-agriculture",
        "outputId": "072eef1a-e25f-4c16-edff-2a1694106d6f"
>>>>>>> d0cb1cd61e8eedb70c9a7f2751df8ca99387b9c0
      },
      "source": [
        "rmvClass = []\n",
        "imports.update({'rmvClass':rmvClass})\n",
        "classified = it.classify_data(imports)"
      ],
      "id": "western-agriculture",
      "execution_count": null,
      "outputs": [
        {
          "output_type": "stream",
          "text": [
            "------Data Sampling---------\n",
            "------Data Classification---------\n",
            "------Finished Data Classification---------\n"
          ],
          "name": "stdout"
        }
      ]
<<<<<<< HEAD
     },
     "metadata": {},
     "output_type": "display_data"
    }
   ],
   "source": [
    "parameters = it.model_parameters(inputs)"
   ]
  },
  {
   "cell_type": "code",
   "execution_count": 26,
   "id": "imposed-length",
   "metadata": {
    "id": "recovered-spice",
    "outputId": "b1a46596-e2b6-4c7a-815a-46fae51a58f6"
   },
   "outputs": [
    {
     "name": "stdout",
     "output_type": "stream",
     "text": [
      "------Checking Coordinate Systems-------\n",
      "------Finished Checking Coordinate Systems-------\n",
      "------Importing Data Files---------\n",
      "./data/Beirut/HighResolution/20AUG05_HR_LatLon.tif read completed.\n",
      "./data/Beirut/HighResolution/20JUL31_HR_LatLon.tif read completed.\n"
     ]
    },
    {
     "name": "stderr",
     "output_type": "stream",
     "text": [
      "/opt/conda/lib/python3.7/site-packages/IPython/core/async_helpers.py:68: SerializationWarning: saving variable None with floating point data as an integer dtype without any _FillValue to use for NaNs\n",
      "  coro.send(None)\n"
     ]
    },
    {
     "name": "stdout",
     "output_type": "stream",
     "text": [
      "./data/Beirut/InSAR/beirutPrePostExplosionIfg.tif read completed.\n",
      "./data/Beirut/InSAR/beirutPrePreExplosionIfg.tif read completed.\n",
      "------Finished Importing Files---------\n"
     ]
    }
   ],
   "source": [
    "imports = it.import_data(parameters)"
   ]
  },
  {
   "cell_type": "code",
   "execution_count": 27,
   "id": "suspected-cheese",
   "metadata": {
    "id": "aquatic-cigarette",
    "outputId": "072eef1a-e25f-4c16-edff-2a1694106d6f"
   },
   "outputs": [
    {
     "name": "stdout",
     "output_type": "stream",
     "text": [
      "------Data Sampling---------\n",
      "------Data Classification---------\n",
      "Clustered classes:[2 0 1 2 0] , original classes:['GREEN', 'LAND', 'RED', 'TOTAL', 'YELLOW']\n",
      "------Finished Data Classification---------\n"
     ]
    },
    {
     "data": {
      "application/vnd.jupyter.widget-view+json": {
       "model_id": "ff4378c82f0d4187a949a12e77607bca",
       "version_major": 2,
       "version_minor": 0
      },
      "text/plain": [
       "Box(children=(Label(value='Balance classes - '), Checkbox(value=False, indent=False)))"
      ]
     },
     "metadata": {},
     "output_type": "display_data"
    },
    {
     "data": {
      "application/vnd.jupyter.widget-view+json": {
       "model_id": "54bd93953e1648f684714760951eceeb",
       "version_major": 2,
       "version_minor": 0
      },
      "text/plain": [
       "Box(children=(Label(value='Loss function limit (logarithmic) - '), FloatLogSlider(value=1e-15, max=0.0, min=-1…"
      ]
     },
     "metadata": {},
     "output_type": "display_data"
    }
   ],
   "source": [
    "classified = it.classify_data(imports)"
   ]
  },
  {
   "cell_type": "code",
   "execution_count": 28,
   "id": "serial-discussion",
   "metadata": {
    "id": "british-compact",
    "outputId": "b20edc79-7b70-440b-ffaf-97fe20258cec"
   },
   "outputs": [
    {
     "name": "stdout",
     "output_type": "stream",
     "text": [
      "Nodes: 10000, Edges: 38970\n",
      "It\tLoss\tLabel change\n",
      "\n",
      "0\t4.96500e-01\t\t4557\n",
      "\n",
      "1\t2.30722e-01\t\t1943\n",
      "\n",
      "2\t1.05953e-01\t\t502\n",
      "\n",
      "3\t4.90479e-02\t\t61\n",
      "\n",
      "4\t2.23610e-02\t\t43\n",
      "\n",
      "5\t1.04303e-02\t\t15\n",
      "\n",
      "6\t4.62859e-03\t\t8\n",
      "\n",
      "7\t2.21322e-03\t\t5\n",
      "\n",
      "8\t9.52647e-04\t\t0\n",
      "\n",
      "9\t4.67656e-04\t\t0\n",
      "\n",
      "10\t1.99767e-04\t\t1\n",
      "\n",
      "11\t9.84051e-05\t\t0\n",
      "\n",
      "12\t4.24705e-05\t\t0\n",
      "\n",
      "13\t2.06343e-05\t\t0\n",
      "\n",
      "14\t8.97388e-06\t\t0\n",
      "\n",
      "15\t4.31476e-06\t\t0\n",
      "\n",
      "16\t1.88780e-06\t\t0\n",
      "\n",
      "17\t9.00301e-07\t\t0\n",
      "\n",
      "18\t3.95838e-07\t\t0\n",
      "\n",
      "19\t1.87542e-07\t\t0\n",
      "\n",
      "20\t8.27977e-08\t\t0\n",
      "\n",
      "21\t3.90168e-08\t\t0\n",
      "\n",
      "22\t1.72865e-08\t\t0\n",
      "\n",
      "23\t8.10925e-09\t\t0\n",
      "\n",
      "24\t3.60386e-09\t\t0\n",
      "\n",
      "25\t1.68416e-09\t\t0\n",
      "\n",
      "26\t7.50478e-10\t\t0\n",
      "\n",
      "27\t3.49571e-10\t\t0\n",
      "\n",
      "28\t1.56142e-10\t\t0\n",
      "\n",
      "29\t7.25267e-11\t\t0\n",
      "\n",
      "30\t3.24636e-11\t\t0\n",
      "\n",
      "31\t1.50424e-11\t\t0\n",
      "\n",
      "32\t6.74549e-12\t\t0\n",
      "\n",
      "33\t3.11906e-12\t\t0\n",
      "\n",
      "34\t1.40132e-12\t\t0\n",
      "\n",
      "35\t6.46594e-13\t\t0\n",
      "\n",
      "36\t2.90656e-13\t\t0\n",
      "\n",
      "37\t1.34115e-13\t\t0\n",
      "\n",
      "38\t6.01741e-14\t\t0\n",
      "\n",
      "39\t2.79776e-14\t\t0\n",
      "\n",
      "40\t1.26565e-14\t\t0\n",
      "\n",
      "41\t5.77316e-15\t\t0\n",
      "\n",
      "42\t2.66454e-15\t\t0\n",
      "\n",
      "43\t1.33227e-15\t\t0\n",
      "\n",
      "44\t6.66134e-16\t\t0\n",
      "\n",
      "Time elapsed: 11.41597843170166 seconds\n"
     ]
    }
   ],
   "source": [
    "output = it.run_bp(classified)"
   ]
  },
  {
   "cell_type": "code",
   "execution_count": 29,
   "id": "unexpected-stroke",
   "metadata": {
    "id": "satisfied-marketplace",
    "outputId": "d2f31c7c-d54b-48f4-9d0a-7132e4e11f86"
   },
   "outputs": [
    {
     "name": "stdout",
     "output_type": "stream",
     "text": [
      "              precision    recall  f1-score   support\n",
      "\n",
      "         cl0       0.33      0.31      0.32       616\n",
      "         cl1       0.13      0.08      0.10       152\n",
      "         cl2       0.63      0.67      0.65      1211\n",
      "\n",
      "    accuracy                           0.51      1979\n",
      "   macro avg       0.36      0.35      0.36      1979\n",
      "weighted avg       0.50      0.51      0.50      1979\n",
      "\n"
     ]
    },
    {
     "data": {
      "image/png": "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\n",
      "text/plain": [
       "<Figure size 864x360 with 2 Axes>"
      ]
     },
     "metadata": {
      "needs_background": "light"
     },
     "output_type": "display_data"
    }
   ],
   "source": [
    "plots = evaluate_output(output)"
   ]
  },
  {
   "cell_type": "code",
   "execution_count": null,
   "id": "comic-stanford",
   "metadata": {
    "id": "adjusted-southwest"
   },
   "outputs": [],
   "source": [
    "it.save_plot(plots, location='results/modelPerformance.png')"
   ]
  },
  {
   "cell_type": "code",
   "execution_count": 33,
   "id": "economic-elizabeth",
   "metadata": {
    "id": "martial-somalia",
    "outputId": "396567fe-058a-4ccf-81b7-8a817961d296"
   },
   "outputs": [
    {
     "name": "stdout",
     "output_type": "stream",
     "text": [
      "Not yet supported for more than two classes.\n"
     ]
    }
   ],
   "source": [
    "mapping = map_result(plots)"
   ]
  }
 ],
 "metadata": {
  "colab": {
   "include_colab_link": true,
   "name": "colab_demo.ipynb",
   "provenance": []
  },
  "kernelspec": {
   "display_name": "Python 3",
   "language": "python",
   "name": "python3"
  },
  "language_info": {
   "codemirror_mode": {
    "name": "ipython",
    "version": 3
   },
   "file_extension": ".py",
   "mimetype": "text/x-python",
   "name": "python",
   "nbconvert_exporter": "python",
   "pygments_lexer": "ipython3",
   "version": "3.7.10"
  }
 },
 "nbformat": 4,
 "nbformat_minor": 5
}
=======
    },
    {
      "cell_type": "code",
      "metadata": {
        "id": "harmful-visiting",
        "outputId": "b20edc79-7b70-440b-ffaf-97fe20258cec"
      },
      "source": [
        "equivUse, limit = True, 1e-3\n",
        "classified.update({'equivUse':equivUse, 'limit':limit})\n",
        "output = it.run_bp(classified)"
      ],
      "id": "harmful-visiting",
      "execution_count": null,
      "outputs": [
        {
          "output_type": "stream",
          "text": [
            "Nodes: 9090, Edges: 27270\n",
            "It\tLoss\tLabel change\n",
            "\n",
            "0\t5.80222e-01\t\t3036\n",
            "\n",
            "1\t1.75043e-01\t\t1045\n",
            "\n",
            "2\t9.56032e-02\t\t352\n",
            "\n",
            "3\t3.72443e-02\t\t104\n",
            "\n",
            "4\t1.78517e-02\t\t40\n",
            "\n",
            "5\t7.94886e-03\t\t7\n",
            "\n",
            "6\t3.71760e-03\t\t10\n",
            "\n",
            "7\t1.66360e-03\t\t0\n",
            "\n",
            "8\t7.66250e-04\t\t0\n",
            "\n",
            "Time elapsed: 4.25368857383728 seconds\n"
          ],
          "name": "stdout"
        }
      ]
    },
    {
      "cell_type": "code",
      "metadata": {
        "id": "contained-rebate",
        "outputId": "d2f31c7c-d54b-48f4-9d0a-7132e4e11f86"
      },
      "source": [
        "equivTest = True\n",
        "output.update({'equivTest':equivTest})\n",
        "plots = it.evaluate_output(output)"
      ],
      "id": "contained-rebate",
      "execution_count": null,
      "outputs": [
        {
          "output_type": "stream",
          "text": [
            "              precision    recall  f1-score   support\n",
            "\n",
            "     Damaged       0.55      0.55      0.55       742\n",
            "   Undamaged       0.55      0.55      0.55       742\n",
            "\n",
            "    accuracy                           0.55      1484\n",
            "   macro avg       0.55      0.55      0.55      1484\n",
            "weighted avg       0.55      0.55      0.55      1484\n",
            "\n"
          ],
          "name": "stdout"
        },
        {
          "output_type": "display_data",
          "data": {
            "image/png": "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\n",
            "text/plain": [
              "<Figure size 864x360 with 2 Axes>"
            ]
          },
          "metadata": {
            "tags": [],
            "needs_background": "light"
          }
        }
      ]
    },
    {
      "cell_type": "code",
      "metadata": {
        "id": "bright-option"
      },
      "source": [
        "it.save_plot(plots, location='results/sentinelHR.png')"
      ],
      "id": "bright-option",
      "execution_count": null,
      "outputs": []
    },
    {
      "cell_type": "code",
      "metadata": {
        "id": "precise-supplier",
        "outputId": "396567fe-058a-4ccf-81b7-8a817961d296"
      },
      "source": [
        "mapping = it.map_result(plots)"
      ],
      "id": "precise-supplier",
      "execution_count": null,
      "outputs": [
        {
          "output_type": "display_data",
          "data": {
            "image/png": "iVBORw0KGgoAAAANSUhEUgAAApUAAAFgCAYAAADq5oKQAAAABHNCSVQICAgIfAhkiAAAAAlwSFlzAAALEgAACxIB0t1+/AAAADh0RVh0U29mdHdhcmUAbWF0cGxvdGxpYiB2ZXJzaW9uMy4yLjIsIGh0dHA6Ly9tYXRwbG90bGliLm9yZy+WH4yJAAAgAElEQVR4nOydebgdRZnwf2/CKgEDCWgSggFEQIgEE1nEwajDByqInwOOgCgig7ggDi6A+A04M2hmc0BQGQREEEFEVFQQEY1LBAQcRpYIZiCQsIgE0EQgkOT9/ujue/v2re6uqq7uc8699XuePLmnT3d1dZ3u6rfeVVSVSCQSiUQikUikCRN63YFIJBKJRCKRyOAThcpIJBKJRCKRSGOiUBmJRCKRSCQSaUwUKiORSCQSiUQijYlCZSQSiUQikUikMVGojEQikUgkEok0JgqVkcg4QkSWisjHet2P0IS4LhE5SkRWuexT9zkSiUTGE1GojETGCCLyIhE5S0T+V0RWi8hDInKtiLyp133LEBHN/VspIreKyNt63S8HvgFsZ/u9iJwuInc2PamIzErHbK2IbFP4bnMReTb9fl7Tc0UikYgvUaiMRMYAIjIL+A2wP3AK8Argr4EfAOf2rGNm/g6YBrwK+B/gmyKyt2lHEdmgy47VoarPqOpjvt8H4CHgPYVtRwB/aPGckUgkYkUUKiORscEXAQHmqeoVqnqPqi5W1XOA3coOEpETReS3IvKXVLN5vohMzn3/QhG5REQeS7Vh94nIR3Lfv09E7k2/+6OIXCci69X09SlVfVRVfwccBzwLvCVtb2mq3btQRJ4CLk23v01E7kg1sMtE5FQRkUK7k0TkayKySkQeLZrD6641t99BuWv6qYjkNY+V5u389yJyFHAasEtOO3tUem3fLxw3QUQeFJETa8buIuCowrW/N91e7MsCEblHRJ5Jx/VfRWSj3Peni8idInJMeu5nROQ7IjK1pg+RSCRiJAqVkciAIyJbAAcA56jqKIFHVZ+sOHwd8BFgF+BwYA/g7Nz3/wzMBg4EdgKOJtGWkZpavwB8GtiRRDP6Q5e+q+rzwBpg/dzmE4HfAfOAT4rIXOCbwFVpX04m0cZ+qNDcicBi4JUkwtxnCqb1umsF2DA99j3A3sBE4NsGAdaGbwD/AdxDopmdlm77MnCAiEzL7bsf8GLgkpo2rwE2Al4PICK7Ay8FrjDs+xeS32tn4APAO4BTC/vMAt4JHEzy++0AXGhzcZFIJFKkTqMQiUT6n5eSaCkXux6oqmfmPi4VkU8A3xWRd6vqOuAlwH+r6q+zfXL7b0MiuFytqiuBB0jM2VaIyIbAx4HNgBtyX/1MVf81t9+l6bbT0k33isgOwEmMFApvVtUzcvu8ikTQvMryWiGZE09Q1UXpuY8E7gPeAPzY9trS8z2Tai3XqOqjua9uFJHfAe8GFqTbjiYZxz/WNLsGuDjd/wYSLeU3SH6H4vn/KfdxqYh8BvgY8P9y2zcG3qWqD0KieQZ+ISI7qOrvLS81EolEgKipjETGAj5atORAkdeLyPUislxEVpIIYBuQaM0AvgS8XUT+R0T+XURemzv8ehJB8n4RuVRE3i0im1qc9pJU2HqaROj7mKpem/v+1sL+OwOLCtt+CcwQkc1y224s7HMj8HKHa4VEm5kJ0KjqA8DD+XYC8WVS38hU03wwcIHlsRcC/1dEXkyicTUeJyKHiMgvU1eAVcB/kiwE8jyUCZQpN5OMwc7WVxKJRCIpUaiMRAaf3wOKoyAgIi8hCeRZDBwKzCXRgEEibJEKey8B/h2YCvxARL6SfreSxNT8duBBEpP070Rkes2pPw7MAaap6haq+h+F74taN0mvz0TZ9pENWFxrx1wCvEREXkMSaPM48CObA1X1HpKgrMuAP6hqUZhGRPYCLgeuAw4Cdgc+xUg3g0gkEglKFCojkQFHVZ8gER4+JCKTit+bglFS5pEIVH+vqjeq6r3AKIFQVR9X1UtU9SgSc+u7U9M1qrpGVX+iqlnE+SYk/pdVPKqqSxyipO8GXlPY9hpgeSrYZuxV2Gcvhl0CrK6VZE58VfZBkvQ90/FwLUh5jsQvcwTpb3YViWB7NHCRqq51aPcCYD7l2s19SLSQ/6Sqt6Sm7JcY9pshIjNzn/cgGQPf641EIuOY6FMZiYwNPgD8CrhVRP4f8FsSDd/rSDSIRbMnJBrOCcBHROQqEiHsI/kdROQfSbRid5HMF28D7lPV1SJyILA98HPgifRcmxJeIPkP4BYROR34OonQ91Hgk4X99hKRU4ArSQSud5FoAcHiWlPWAGeKyAnAMyQm47tw9KfMsZREI/lKEm3uSlVdnX73ZZLApvWBQxzbvRj4HvBUyff3kgiMR5C4AewPHGbY7xngq2nU+cYk6ad+EP0pI5GID1FTGYmMAVT1fhJT9PXAv5AIlT8hSdXzvpJjfgucQOLXeDdwDEkgR57VwBkkATiLSITGg9LvngLeSiJw/S499hhV/UWo60r7+RsSk/XfAHeSBLcsAM4p7Po5Em3pf5NErf+Dql6ZtmFzrTB8vReT+BdOAN6mqlZmdgPfIonYvgH4IyMFu4XAcmChqv6vS6OqujbVIK8p+f57wL8BZ5LcC/sB/2DYdSmJmfx7JPfLfYzOgxmJRCJWiP9cGYlEIhFfRGRjkvRMx6vqpT04/+nAIaq6a9fnjkQiY5No/o5EIpEOEZEJwIuAvycxP3+ztz2KRCKRMAyk+VtEDkgrRSwRkZN73Z9IJBJxYBuSNEWHAe9R1ed63J9IJDJApFW5HhORO0u+FxH5fCoj/Tb16e6mb4Nm/haRiSRO6PuR+CPdAhymqnf3tGORSCQSiUQiLSMi+wKrgItN7isi8ibgeOBNwJ7AWaq6Zxd9G0RN5R7AElW9L13hX06SODgSiUQikUhkTKOqWcaNMg4mEThVVW8CJhfKwrbGIPpUzgCW5T4vJ5HERyAixwLHAmyyySZzd9ppJ7ezrK36vZqxJifKP7PmmRHfrXrOGMxpzaQNRv6kG6+38dDf660r7h1pwhqLJVmXY27Tn14Q77tInrL7tFf3Sb/1Z7wT9Pd49unhvzfZetTXt9122+OquqVHy0FY76VTVJ9+ftT2dY+svAt4NrfpPFU9z6Fpk5w0A3jEp58uDKJQaSpJN8qGn/4A5wHMmzdPb701qfy28KFTWfTw4yP23Wf6VGZPGalBvmNF4qpQ3A4wZfXw3+sW3z7iuwk7z6ns/IoNR5/DhmKf8+wzferQ38X+5vtq2y8bbPpe1WeA65euZL9ZSVW/7BpM411F/vpcrqHYf9fz2mI7/iZcfxPbPhTv2SbU3e9dk11bk34Vx73uNwz1O5XR5B4aVIpjWjbf1M3PWVsuc62pXddnyOf+y7cZ8v4to+v7yuXZdHmmyt7Ha25cUnrM4wsTeWvGbTxgf6bw6NPP84Jj9xi1fdWnb3hWVec1aNpKTmqDQRQqlwP5ChBbkzi917Li2cuAagGmOPnkP2f7Zzf8lNUjHxCTwJgdc8eKO41CVplAmD0oWZuzp5j7N+qYwgOWX9zlH7L19n7piHamGB70sge7aoI2XeP1S1eO+HzbXY8Z/k7S9M3d5f6h7zKBE0aOU8bsKbtaCwDFCW3+pNG/ZZc0EUTKXnC2L6Jsv+KLsWwSLt4rNrQpaFX9ViGEXNd7Ycrq5tdbJTTl2/YVbnp1n7tgGsPiuBTnl9N/9T1jW9m8MneXrYbmkeI8BCPnmJHULDrn1N9nrmMdaoHWT7+xcY5J55lMsMszdX7yai/7VWD0fFRUYGbjuEHFeE7PCrROPrziTAONs5wkIq9I8/k2YhADddYjCdR5A0mOt1uAw1X1rrJj5s2bp9f98qNA+AfOdkVdprUzCZWmPmbnMbVv0rwW28xjan/d4tuNk1qZZjV/TtNkXcR2YjcJjxlV2sR+mEhDCFKmVXcm7LkId64vqBUb1gssVSv/9fZ+ad9pLSPNMWl+TPdh1W9f9lyUPbN1c2qdBaSoNDj3joWAq1BZvpAtUjX32GofTc9fv2L6PW3HoEjVnFKGzTxoazGcuvHhtzXUCDZi4vTNtERTWdsvEZkFfL8kUOfNwIcYDtT5vKqOPtHIY/5IInheAlyqql6m8oETKmEosulMkpq6F6rqGVX7b7r9FD358voqaFUCDTQzkbqaX4rnLDPzZu2WTbQ2Ap8NVZNvkbpxzOMzpl1MviE1iRk+ZucoqNljO74+QnoeH4HdhUERLsoWHb7jmqet+95WwG3qIlK3QC+j7rcP4d5Rhe+8Z3PPhnS7qcN2kTOoQqWIXEZSinYq8AfgNJJyr6jquSIiJBXHDgCeJklddmtVX1KF3ZuBdwJvJCn7ezFwlao+XXXsiHYGUah0ZcbOW+qlPz52hCnahToNWdWDWHeuOg1m1bldtaJV53HBpX0TtoJumSBro0EI6Uta5V/rc84uaMP83Pb15bXlvRbE8n0J5esWqcbVP92mjap2yqwz44Eqlwqb48qsVnlclDS2WmsfqnxsX7f1ZwZSqGwbEXkhSWncDwPbAt8G/ktVF9UeO16Eyodu+nzjdnr5cmkiuOZxNd/Y9sHUVp3p3CRc3nbXY8zdZasR20zm8SpXgUEib/Zat/h2ozmoSvMzXl+K/YZrcE9X/cgTok+upuwmhBAy28A22DI/15osStn8Z2sFslEANJnfi9QJ3WUuWSGDHm0DtOqsQ3kt+s9nDoeSRKFyNCIyCfgb4EjglcC3gAeB9wI/UNUPVh4/XoXKuiCUMp9BFzOwLcXJoriC8w2YMbU7ZbX9Ct3Vd6bKL8hnxVnmS1X2e5i0uz6RgRlFYa7KpFXmp9oEn9/I9gUy1rQ0TTUaTYWiNs2Gvvhqo/KULaR7LUSH1sQXAyPz2PixQ7UvuylQ08c1ycV6Y+oHdHvP2Zjr635L0/i7+NcX7+GFq4bbi0LlMKkf5pEkpu9FJKbv76jqs+n3WwAPquqkynaiUDmSolCZPfj5aMI8PkKmrQM4DLYmrk5r0tQEkz+uuCLNaOLfFULoqpswQ/6+rmk46iKCx3LqoYw64ajtdEF1NLUiDOL80asxr1sw5zFlBSm2ldfk+bgMuQQW2QqV/Xo/tJU+zdR+9nscN3v+wPpUtoGI3AF8lYogHRE5RlXPr2xnvAqVLtje8EWB1GX1GBKbiSPkxF33IPfrRNY1ITRHZe21SQgtV5F+FTKb0CvtXWiTd6+1vmV9MPk2m1xHTKlqqsjS2OSpslK4jLdNdpAqd6CM/WZtOiKfctuLn7buXd88zTa4Cu5RqByJiLxdVa8wbD9EVa+0bWcQ81R2ju0DluU+nP+y0d+FMP/maboC7eKFF+ocoYWxpn1ouz3ba2xzLEJEmY5FwbEKH227bbRvnuK4NrkPTBHcm+Lm+mHbvo8JtGoOLFopIOn3ix1THrniMt6b3z5yfPfN/T2UMzd9X5zq8N4IEUkeAte5Ob/P/Em7eiWmz/ANGN1n+tTGwaZjlPOBUUIlSRGZKFTWYRsl6FqdIKTwYXL0tomYG2vkXx4+lbp8XihtpBQaREIFSwyKJiVPlY9wXQ7POreLzbN2fDsXiOLvWZUwGtzN7Lb3S5nvuHHxXDiXTbLrIr6uHa73f1Nh1uW9Uuf7WaYJNZnUfTJs+Cz+p6weVsa4sGLD4YIgPix6eKH/wWMMEdku/XOCiGzLyGo82zGyXGQt41aohNEVZkyr6rIHp+yhaeNllzxAox+8aF62w0frFqJKSghC+WS6Zi4IrWUsC5iyPWevfovS886ZM+KaXASaMgYhdZHrXBPyd7MtvmDj577PzHrXJOP57l3oXaAB/Odqm+PywlmxEhvAcbPttIIuQTAufqg2x9S1NeRidm/yexw3e77XOXxS6bXBCzZef1ScBsDPuu3GEpISjkJW2m6YR4HTXRobl0JlfvLO/G/yt1hewLQxNbn6XIJbVF7VatU3wKVJOy40qUM76tjCi7xt+kFYD9WHfhJSfPrSi9+i63P65ugscseKOzurPuUz9+WxMUOaBIBs26KHH7fStNnOtyss+lCpsQsodDf5ncqOtdIKtpAJIW9ps9VoVmmuq7SU/TBvDxKqOgFARH6mqq9t2t64FCphWEs5df7MEaaqNTcuGWnKsjBrmepmQ31uyeLkVFcqb3NGsw6/l1FXD56t+cY00fQymMVHA1jEJ21Rhuk3jZOlPV36nPneY6Vao1XDf7r6fmXCT126sbLjqrAJMLQRZvLPzL5MHpXmxcVf3OS/XmTd4tth2ejn1FQzuujzZySgD6tpTs/6UofPfRdKCVHW3rrFtxuvaV/SaypYLPK/Qd012/peWgXCrqrfZbwRQqCEcRj9XeUjZjInl6WqyXBJWbPmxiVDNZJ7oTUs0pZJMWT/u8j16IvrpFuXJzO7l/pJq2iiX8tNhi5hF+r5CBnlGiJzRGgTaBWhn1+baOqMOuG0mKu1rdytLmV1M6qE/LrsIrb0Mo2d67MVOlIckuvvdfT3pttP0bkL9h+1/Wdvv6yTfonID1X1gPTvX5CYwUehqvuatpsYV5pK06RhurlHaIc8nMDLyLcxCFHM/aAZK076NvsVcV0Y2KYPKcMmaGE9w7Y2zhkC32CdroOd2g7I8q1cFTRXoEe0eMZQtLGFCTQzAze9r1x+E6sk2B4apnPvWGj+YiJw78Lyzyk25QZt3Hdc7h8bDXUT4bLrpOgw0hJXttgumw9Dp+FrQ0gdUC7O/V2Zf9KWcaepBL+s/5H+oV/SaYSiX+8/lzrKJvoh36ErdQK0bcWVMmxMz00zPHRd3SdkkvwmuD4/WTobWxcDV+EtlCA0llKzZfhU0SnDdpyLrlhTVoNMHt+ayjYYF0LljrtN01/d/DmrfZs8bG0nFHdt36a6QNn+LkFBti+VXpolbWvI5un1xNtL+tXE3ZReRZG7mGkzur7/+iHbgYkm806Z1cFGaDEJm2VpebKKazBcdS0LILLRdJZR5WNfpO75C5FJwje1EZRrdJucqwlRqAQROdpmP1W90LrN8SZU+qi9bVZCvur0LoSaJpq9ENqmovm5SelEW0LkHK1jUEvj9YtmqS3aTk3U77+viSbCQFNcgo2aCGDQ7m/TVEtdxGYxUee6YyLz2wc/E3xZ1Z46iprQuvmxiV9l3vSfF1bL/GLLlCRRqJSfWuymqvp66zajUJngoy2oy7fX6wTaxcCjXmoixuqLuIp+0OyGSl4O3QpkTaPqwX7x4ms2dXn5Nk0H5tq26TwhhKImASY27dke72vyNGH6LcuEuWIwXZXQFlphUHcNVVT9bpn2NZ+aKfsdysalSAjf8LrfqniNPn6hRcF3kIVKETkAOIvEG/h8VV1Q+P6FwNeAbUjc+P9dVb8Squ+l/epCqBSRC4EDgcdUddd02xbAN4BZwFLg7ar6ZPrdKcB7gbXAh1X1unT7XOAiYGPgGuAEtbiAOXO30xsWneGkjWs64fdaoKzqg2/7oQNI2nzRlrUP9X5UVTnpekU/mkJdE8T7aD58zMYu57MR8KuEWJPg6vKCNfXRJkNFhu34NDFt2uaYLAoituetO78rIRK09+MiOK+FK/a5SX/binp3xfX+y+MbeDSoQqWITATuBfYDlgO3AIep6t25fT4JvFBVTxKRLYF7gBer6nO5fSSToURkQtn5VNW6+FdX0d8XAecwMtLoZOAGVV0gIienn08SkZcD7wB2AaYDPxaRl6nqWuBLwLHATSRC5QHAtTYdKN5gPhOYi9aniXYwlEN1Ux8Zl+oJLucZmiTSSM6iKcOXUZOPZy6ykS/L8A7jPnSdgsq2zTZfvlNWj64SUpfY27ZPLi4AmeBYp7Uy4ZKfdYg55mpepm2mKipD+zj+Nq4Js0tzRHreE70uwGB7jMk83YVQVnef+Y5fU1/MphQjwovnc51X+3FB0AJ7AEtU9T4AEbkcOBi4O7ePApuKiACTgCeANYV2/gRslv69htEphSTdNtG2Y50Ilar6cxGZVdh8MDA//furwELgpHT75aq6GrhfRJYAe4jIUmAzVb0RQEQuBt6KpVBZpE6dvw4LM1tFrsGh81hEj1Zhyp1Zt68PptVgWwEEs6fsaszXtujhx1n08MJajYerw32xreTzyO/7XaNSp+kqu49da1JDdyZy1/toSMgM8NLwuUbfuthdMU5eps60OS5davi8Fig0v/62/O1N7UxZ3dxdy+Wd2Ws222CCsSLUz2CqiNya23Seqp6X+zwDWJb7vBzYs9DMOcDVwMPApsDfGjSOu+T+3tax+0Z6mafyRar6CICqPiIiWQHMGSSayIzl6bbn07+L242IyLEkWk22njm1dCWXTQqml7LpBbzmxiVDpR2NjPou8YOdOn8mkPyyLmR9qNI9l9Upz+PqT5UJeHnK/J1sfIfKNCyZtiPrX75PZaW9ys7tOhn5TjpN/KGa+lIVf7MhobxsHfma4m/21IhPxt90lZ+5yZUuhbBMw1mXADsUIV5obfvedp1iputUR4NMqEwfbeLq/lI8Fkbf49l7rljdaBzyeI1ZXgzbilrG/YHbgdcD2wPXi8gvVPXPQweoLsv9/QAkJnGSytWP27gXFunH5Odlg2UziMNfJFL9eZD4VEK174ztxLzBznOYfnQ7vlh5Qkewmh7QTLAzmfX3XVtv1gmRa6zMt3Fk6o77a9sprvaKwpJNouA2U7uEcmMomiJnzy4/rk773EbGAh9CaomLGu2RGvGRARnZfW9b6aiKUC/BvDm17eouxe1d+lrbMIhCRRcLpbrUb13S+J6ZU3+PN6maZKJffEgbshyYmfu8NYlGMs97gAWpYLhERO4HdgJ+bWpQRCYDZwNvB9YHnhORb5LErjxh27FeCpV/EJFpqZZyGpAl+iobrOXp38XtjfB1eLa5KUNU4WniS5c/tkorYboWn2g+13rDVZhMAi6UnW/Rw4+XCpZl/npNXrihcUkPZfSFqxBQ6xgSvpZVT8p1QlqR52r3GBbsymolD5079/eUneeM0ojnrz8rl5r/bUM8s03IW05c6z/b3KNtBSC2IeiUXVuvBSkf2po/ejkvdfE75K1VdZisEGOYW4AdRGRb4CGSOJTDC/s8CLwB+IWIvAjYEbivos2vkARHzwEeAF4CfBq4kMTV0IpeCpVXA+8GFqT/fze3/esi8jmSQJ0dgF+r6loRWSkiewE3A+8ikaobYRN9aSLkSqep70gZLkJnFcXAGhuqfBjrfHTq6uOWJSCuokxItdW6+UQmhgo6KhuHsij1tnyrbO/5/H6uQloTs5+PBqJfFgtFbK+jX8zWeeG8zs+3CpvFStXCoi0NVDTdDxMiibrtOVzm0OICcQxoI0tR1TUi8iHgOhLnpwtV9S4ROS79/lzgn4CLROQOEkvvSapapd15HTBNVZ9JPy8WkaNwVN51lVLoMpKgnKnAH4DTgO8AV5DkUHoQODRTsYrIqcDRJNFIH1HVa9Pt8xhOKXQtcLyNzX/e7tvpdTeeMfTZR9gq9WUjjEnVZdJyCaopO58vJt/HKur6VVyJlgmU2Ri7ajzHCnlBulipo5cJoetwtQTY5hN0IdTiyhfX8XcVxnolSIVcUIUco/x41NWVHku0qZmrsziUuYiEtHjZLK4zbFMM9Tql0Iydt9QPXPy2Uds/tcd5nfdLRG4GjlLVxbltOwFfVdViEFB5O+Mh+XleqMznKMynsKkT8vrF/6xISIGhOCmVTSSmVComYbMLAbBOa1mmodxn+tTWav62hcl/KFSkY5uClW0AWd294xoo5hK45psLr+48JkK8/OsEpFBBPj4CgGti8jrGaslQH0IKjv0UuQ5hKjqVBW6W3WvjXagslGl8KXAkcAlJZPlM4J3AJap6qnWb40moLAqUVRRfaibhJav3mtV6heqqBL7UTdwmc5NNwEHbGo46rSOYx8Z0vTYCoOk3Mv0eZecdRHyjyV0zBYTAVjsfslygS4nVRQ8/zvVLV9YGffkm9470Bz5aThPFsrNdCGk2C/8sO0mWcaSIi1axiI0Pr2ncbAPgin2wzVoyqMnP+0CojGUafZi3+3Z668IznF5iIbRsVUJMiPQ/WR/LymzZnLPrSLi8Zs237Fh+YWDzO4XUcLVNU4GurkxcmTawSuPrEjTVpptCWxpjm0VPyHsiRMorF41VP2ntbOZgXwGhH2lSJrUfqlqZCGUdcU0cX5VaLUsX5uruMN6FyjYYV0KlDaG1NGUv8TKB0yfJeZXZsN8EqiotZl6za5NzMnTllF6+fF3vO9tav64a+a7xFRQHya2kjK6rJPWaNjTgLuPUZfUbG0IG/7hkhWibEKZuV9ckU43yKFT6k+aqHErj2I9lGvsa0wrI1qerblWdT9tSzCmYncvW3GdjkodEs1TUGI3e9/6hfTNsrw/Mpcoy1ty4ZIRJKC9ILrp3ZH8yFwKAubtkGtfHrUo2FgVU4/4VedDanmSzcamqalOc+Ir3X94cm59A6wRvm2h7MJfaa1tbWobT79Ew6tuFXqSw6Ze0OU2T9bu22eZ198M9kr92X0108e3eVqLwtrJIwOh5ofgOtF1slilk+mXhMEiIyAySKjz7ApMLX1uXaYyaSvxWVm1peEKa+FzMm8XvM8HUJbK46xfhoGhzfMz8Za4NTeujd4FLbrk6fKp2NPXJLF+IjcY1n6rvwm28MkjR2zaa57LrqbOo9Pu1F+ki7VAIoqZyGBH5HvA08FngZyTC5enANar6Zet2olDp5sNYVqmlLXxWbEVckpKX+We6nrOphiP0pFPXtq2Z3NfhvNiHjDp/3qogEag3hfVi8rZxcbDBRSgNEdxjuwizpSrzQJFe+hGW3fsTdp4TRKgbhJKDZYSKth40oRCqNZW91KSHtIT0Wqjccbdp+l/XHD1q++u2/kwvhMoVwDaq+hcReUpVJ4vIFsCvVHUn63Z8hEoR2Q5Ym9WK7HfqAnWKhIw+daEqD5etn6EtPtfokw+x1yXc+sWM6ILJCd1WU26KXs5TJtS1uThq4jfZxQvMJi+ebeqqoq+0TaRqr4WoQXxGbOj1uNrQhcBdtWjokn60ZEWhchgReQyYqaqrRWQp8CrgzyQ1wK1NMlY+lWny8rNV9Vci8h7gi8A6ESKq8SIAACAASURBVPmwql7g3v3eUSdMZf5qeepMvD7R46YXbdnLd/6kXUf4kBWj3PKUTRTFfufrfltPLh4Tmq/wV3ecbb/beLG0pb3wqSKRJxN8qgTLOm27jwBYd6/b+gLn2W/Wpix6eKFzX4rYXE/5eA8/165R7Vmb+cXgEA0KH7jSRelGX2znUmhWXSvvY26LT1nAUDRp13gv5fzKQ/W5yo++SDbPhQ6srG2LwdQQ95CbgTcB3yap1PMN4BngVpdGrDSVqQS7tao+l5b8OQ54CviOqu7g2PHOyZu/F64yT1q98lMz5e4bhBV223RdKnOsYZPcu6l2su5F7ZIjsqxPTbIkuDIoZlofIbRJX6vyDpYJEhm2i9yMEEJltqAyufIU8VlEhawWZFtwIqMsyC+kD2PZ3FvVt7r7IMN2zu4qa0fUVA4jIpOBCar6hIhsDHwMmAScqaqPWLdjKVRm9vUZJHW4Z6Tb/6yqm/ldQneYhMqQQmTI3F822CZDb7sfeQZJEO6HMnhd55aromshpYlmzjbhcl01KBP9tEjpF5PlIGFTnckUkJhhU5TBpVRgWTvQTMgrE+hD3RtjqYJRnX95FCrDY5tS6HYROQV4CfADGAo//3NbHWuDFRvC7A1HCl+DmCvOmJA5UF99a5KHCg4xna9JYE2RCTvPcVrhm87vmtC46YKhihDBUl3f522cr/gb+ORKM91Tpt+2Cy1Kv76ke0VbQnaZ+TxzvSgKi8fNnj9q37Jnti3NetnCKIR1px8XM1VJzzP6PSPGICAiGwCfAg4DpgMPA5cDZ6jqs7bt2M697wX+CXge+Hi6bW/gUtsT9RrTi71MEMq2d5mst1cCbN1EtLlFGyEnHJNQa3IJaHpOW+E1T9lY1ZV9K2vXnF8ymRyb1KIutu/ryzSogk1IvywTIRcRZYQwV1ZR5s/b5jzk+7tU5Xm1IS8YlpXOLc27u2zNyMaWjb6GfctOnNvXOnN0Sv73KbvfmixuyhLBh4jwD30P1Sl/QmchGcd8CdgR+DDwAIkS8RRgBjBanVrCuEgpNGfudnrDIruKOj4VbWwIISRA9w9JPwobrkE9Jmwn5H651lAl0aDebytPkzrBPnTpFtD03u51gI0NvnNVVgd9ZHGCrQCzydimnKXNM+frtxdS0A+VcWCsCjR1YxMqs0hZtpM7VtzplYmk2NaU1YNt/haRA4CzSBKTn6+qCwz7zAfOBNYnieJ+bUV7K4DtVfWp3LYtgCWquoXdFVVoKkXESjJV1QttT9ZrfKKmy9qpokoD5UoxJ1dRa1fMCViHi4+Pj2bOB1cBpTjp+wheTYSitjVhGU0rZfj00zfwIqPLtCFNg9qaCsZNKsPUmfF8ri0fhNjEHDh7yq7MnwSnvgxWHDS8vaocbJF1i29nzY1LeHzhMuP3U+fPNG53XcRYR5CvGr2pbIxC3cO22rtez6euNE1t56pZLJ7P5t4eq2myMkRkIvAFYD9gOXCLiFytqnfn9plMkqnnAFV9UES2qmn2UeAFJEHYGRsD1kE6UG3+PtLieAUGQqgcmmhmllxyxYTcRuRsnjIH8TpB0eXBsUmu7BqJaKKqBGGZb8xsD82jTU5Mm5dgVfRn6TEzR5vQbCoLVUW2VgUJeCeSn2NO5bFBiSmsV3RVLhPsk9Kb8FlMmrDJXVlsz2aM8iVhV1ic03TeqvPk827mKztNWQ2kC/a8mXeDow9hekE1kV1T3pPRan69d6GxT77FIbI+Z9S5sLRJr60hvpTdK/n70Ijl814sc7spyfvF1Sd+jLIHiQbxPgARuRw4GLg7t8/hwFWq+iCAqj5WbEREXp/7eAnwQxE5m0RQnQl8ELjYpWOdmL9FZCZJx15M4l5ynqqelapWvwHMApYCb1fVJ9NjTiHx5VwLfFhVr0u3zwUuIpGgrwFO0JqL2HG3afqu898y9DnvnF1MN+FTPSajToipijwso66iCtQLh2BXf9rHz9BGgKqLvnQpXWfbr6LPUJ1G16eaimuJviqqfuem5v2ql1ZbAmUT4S2jLWFzPGQ4yHBd4ID7gtkleCXE+epokmy/HxjE+6wNQrgo1QXiDqr5W0QOIdFAHpN+PhLYU1U/lNsnM3vvQiKTn6WqFxfaud+im6qq29lcDzgIlSIyhSQx5otV9d9EZDpJTqPlFsdOA6ap6m9EZFPgNuCtwFHAE6q6QEROBjZX1ZNE5OXAZSTS+HTgx8DLVHWtiPwaOAG4iUSo/LyqXlt1/mJ9zar8ZfkJyWeyG7WCTwmVNL0pdUJqsbRe2VjVpd/It2VLaJ9Slxeq729ti+0Lq2tzdwhsNS39oFXwrZbVyzKK/U5Z0EcRFzeVFRuay3xmmOafpqVhQzNo90c/11lvw5rQD0JlWbzH1I0PfwDI3/jnqep52QcRORTYvyBU7qGqx+f2OQeYB7yBRAl3I/BmVb23jWvJsK2o81rgWySZ1fcB/g3YgSQ55kEVhwKQJs58JP17pYgsJokoOhiYn+72VWAhcFK6/XJVXQ3cLyJLgD3S0kGbqeqNab8uJhFOK4XKIlUapmwC22f6VGuhIT/p5V8+dearEeaqIX+Rep8V1wTBGTbXk/Vp9uzk83Hp/5UPa4lje1u5QG39YsuEelO/8uNe3N+ErXCS/SZlKUpG9mHXRimufINMbDTdVdgKFW0E1lSd10VgsK233mUp0jK6Elbq7oNs3G3vu81vT9urcIuB9Nky+EDmyf9e+cpLTSxNRQZBKKyqz+1KvwmSeWyvxyYTRz8sbi14vEbYzczTGVuTpAAq7vO4qv4F+IuI/BzYDSgVKkVkPeDVJPLZcuBGVV1Ttr8J25RCZwJ/q6o3iMiT6babSTSJTojILGD39PgXZZnaVfWRnCPpDBJNZMbydNvz6d/F7abzHAscC/CiGZtZmZGLmFbKJs1dnbDm6yPo6rMy/2X15xlFwxRHXT2gI85T4itYun8gXIT5skofVYJ/UfDMSvxlE2XeX63JC6A4NqNcA1K/YxthqssXr09AV5H8s5N/Ae3L5PL2a67RNbery+LFhE/6FpsF6qg5cc7o8RjxDJRUJyslva8WlfhHhiCvFICxK0xmDFJfTfTan3uAuQXYQUS2BR4C3kHiQ5nnu8A5qaC4AbAn8J9lDYrITsD3SLSay0iE1mdF5CBVXWzbMVuhcpaq3pD+ndnLn3M4HgARmUSi8fyIqv5ZREp3NWzTiu2jNyaq4vMgUTG71vMuw6TlLK6ai6aZsgAS32oLVQ+iyXfyyTlzvM1+tThoFEJT54vZZMKtE0hGbDcI86e+zD1wqCz4wUST5O82i5V1i2+vzLPXNDI9JK7J6F33c8XVBGfCtrZ9sb0q6uaAulQtU1Y3zwm4YsPEKmBj2i6atZ3u+Sy/pCGvZJF+1tDZ0IXZum7sfYI6mxK6NOQgoaprRORDJDW6JwIXqupdInJc+v25qrpYRH4I/JZkCj9fVasmgS+SyEz/nsWpiMjH0u2vs+2bbZnGRcA/qup1IvKEqm4hIv8H+KSqzrc6kcj6wPeB61T1c+m2e4D5qZZyGrBQVXdMg3RQ1c+m+10HnE4SzPNTVd0p3X5Yevz7qs49Z+52evtPyvNUhjQzX790pVcATpX5LY/rpO6rsbMNtPFhv1mbBmkn354J38hQEyEEKNf6vDYvi34JfmmLsvyadYFmdfdvk3rQg+ZfaVMHPmQ960GljfyL4Da2XcwzbZ+/38n79vaxT2Uvan8/AWypqmtz29YD/qiqNnVQAHtN40eB74vID4CNReS/SHwpD7bsrAAXAIszgTLlauDdwIL0/+/mtn9dRD5HEqizA0nN8bUislJE9iIxn78LOLvu/Out8yvHVzYZzJ5S3kbmg2h7rswh3Tdi0fY8riW8Rl77sFbB9DIuM/VWkf8+pICZp2gKK8MmmW7T6jRQX51oHeWVNKru36qXXQjNrYuGqE2NRZ1mIu8vVUx/k90LWbaBajeE6vumqVDWNGehjealTJAsu+68X2IRm+wMbQoj+aAdGH0NLgnYu6RXgnrmMlOV0q2MEIUl+oUqf9MB8avsmoeB1wI/yW37K0b7albiEv09AziCpHTPMuBrNpHf6bGvAX4B3MGwJe2TJILhFcA2wIPAoar6RHrMqSSlgdaQmMuvTbfPYzil0LXA8XUphWwq6vTi4QlZQ7ofH/6qND6uE24b5vuuy3s1KatmneQ5xce1IlSVoWJ+uccXLuN3N/8JgJ32fOGo/csSYYNbST4fYQvsswGUWSFcUmK53lc2Lz/XZ6MNl5S860Ye3+fIpt5zGSECBJu4ILmaW03XWrawCeXeEyqauktcBcHifWMau6ipHEZE3gJ8ncSinJVpfDPwTlX9btWxI9qxNH/vq6o/N2w/TFUvs+51jzD9cDZlnFyoWv2EmPRN2ryqEmohVu8hV3OhEkfbtBWSNvvVRCvlY/auelEXE7CDvZnXJml+VWWVYkLjOnzKK9pEydqYiesIJUxmdKFRMd0LRfLzSdnLOvRz6SNQ2wjMPnlx685rwqbggum8WZnMumO6Xvj2yjcxxDNQjGOIQuVoRGQCsD3wtyQW4oeBK1xTENkKlX8kqZzzKVV9Pi3/81/A7qrqE3PcKTvuNk1/dXNide86YtgVm6TEeb+wOlNenaDgYgrw0Yxl5+glTX/XpiUw6wgtcIRIOdXLRNChxqOYmqvKZ7WqOEAVXbxofV0fyn7vKncTG/9kk1BTZ3WpW9CUkZ/fXNMFtT3v2P4urpph18WdSxCN6b7Ofx+irGaoUq5VQWwZVQvYrM9ZH/O+11GoHEla9nEVMDlN5ejflqVQOR34CvAiEh/G00kSj5+Y5kDqa/JZ631TTPik8XCli+oXdVRVGzLhMtH3UrjshwVDHb0Wvl0JZS7vum0bfBLnZ8+CTdCdi0+iy73rYsoHc2q0rG+V6YYcMC1c61xiij7nVZq7sjaKbQ06IdPvdP3cuFKVpqtMoDYJmHVWkChUDiMi/wO8UVWdfChHtePgU7kxiQ/kLsAFqnpskxN3yYydt9RLf2zubhcameJDkN38xRVURhvq/vy2PLam9gxfn7KxMrHbUGdqdY0C7weavNCa+Ji5jEWIl27ds+hjbgX/0oFV2GYtsHF7qJsnQvap2L9eE3K+BbM/pE0GDddFfAgzeJsuTv1QraguNVcUKocRkU+Q5Ls8iyQH+JBwqKo/KTtuVDuWmso5wKXA74HzSZKh3wK8X1Wfcup5DyiWaTRhm8anV76BVellfM3XxReia0nG0C+EUJGv/UZRSHKJJO+Spj7B+ZecT+68kNVBmuCSI7KKuqjlKnpRv7rLakFNf9Pi2LpUPaqaB13SSbWZds0FXz961xRKXadGymgzbVqvhcp5u2+nty4cLVT2ol8VdcDD1/4WkRXAJ1T1gvTzJsDngf+jquWhm32CjVBpwtahu0maGUheusVatyYztKmueDHC2tccbltxKMRkUXxp99rUCc38SkNoDMp80ormv+weCKmdMJkXm+CruQ4twPQy55/rCz3kS7gXNZxN41Tlwwr1vn5Fis8E1AuEoSxRrRWPSGlqUapyYyhLK2e6N2x+xyaYzNUuGR4g7D0dhcrw2AqV26nqfYbtb1HVq1vpWUAyobIs7YUvISaapmXEXFPN2PalX7RoIeo9207SRVw0DjamKx+Kfnq+ifHB3vxue1zZfTYIfm02L882I//rhEqfCPey42yPraOLpNrFOvJVrhAuaYd8FsmmlGg+iy9XrbPPO8E3OA+qTep5d608VYLgIFmTei289ZtQmQbs7EUS/f0QcHM+GbpVG7Y+lYNMXqiE9vwo244S9iGEmSlUW13hk9PRJVDCV0j1xSe5fJ6QFZoy2vBfbErV724SyvvV77erKkm2v2FZQntTVaMMG4Gvq6jtXge4hCy56SI8FucNG3/4MsVCL7TfXRCFytw5RV4BfAfYiMSncmvgWeBtqmr9EJUKlSKyWFV3Tv9eRnmN7W3cut49RfO3rak3BF28qNrwRQw5EfvQ7znRbP1TM7KconN32WooFVRdjrqieautqktFfMtW+tbgbkIIk3m/CJN1+FQFa7sPPgusNhY5g0Ko+SWjLBioCps0c64UNcy2dJGVo+p6olCZO6fIrcBlwOdUVdNKiH8PHKGqc63bqRAqX6Oqv0z/fm1ZA6r6M6ee94BNt5+iJ19+iPG78TzBhaTX2gBbQqa86NeAm4xeT9hFfE26oRm0ylS9wEZI8M2fmdGmdr9I6AVZlS+nrRtRkwoxPmmr6vrTL1RVYgN7JZDNtUahMndOkT8Dmxdqf08EnlTVzWzbKa39nQmU6d99LzhWsdkGE4L7U7b1wvb1DcrT9cSxYkNgjp1wUKfZ2Gf6VFh1Z63juq3/YN32Jul92qggErLNfnuB9EpbXjxvXVJ0H3pVHz10GUuXfavGbf6k6udzxYYwe0ryt2+aJltsBcqyOcc012R9r8P0TPu4FK1bfDv75j7vy+ShvyeUjPWK9H8bn9AQvtq+lM3BTd/XoefTccA1wFuAb+e2HQT8wKUR20CdDYBPAYcxXL7ncuAMVX3W5YS9YMbOW+pv//vzpVFwMHISbaLJCOk/0xU2psw6XDQaTV4irlU1bHDpz3Gz5w8dEzp9SyhC+z/VCV9tRjK3Qch7O+JHl3lPu6Lt4hW+bls2mUFcUimZ6NUz76MUyM9nUVOZO6fIN0mEytuAZcBMYC7wXRLfSgBU9V2V7VgKlRcAOwJnMFxo/BRgiaoe7XcJ3bHjbtP0np9/rtfd8KbM6d22yoQPZeYV3xq5VfWE684fCh//o/yxrgmibbUCVeYy1xQcbbxwm0RB25ZUg5Fl1boSHNrMjdoPPpBd07Yvtm0aGtvfLJRwGzLApg5Xc3coM7vp/G1nDLH11fRR0Ay6UCkiB5AkKp8InK+qC0r2exVwE/C3qnplRXun2fRZVT9d2S+HPJXb5xOdi8gWJELlFjYd6SVZmcZ+Mh27TkI+q8w6nxqTsFqWxNe2kk7ZeU10lRi6rsJFnuuXruS2ux5j7i5b1bZryg0XEp88c2ORMjOWKe+hqUpVCDO3i/a3TlDx9VOEZgmp89jm0aybF4r4ptbqB7/ApgKxr4WqbfN/FWXjbvO+6TKLSRsMslCZ+jreC+xHEql9C3CYqt5t2O96Ek3jhVVCZShshcq7gP3yNSFFZAbwI1XdpcX+BcE3+XmRsuS6tmZBH0LknLRt17VkYx7Xl4mtKaf4UsuEvjwmATDfn2KlIBv/WpdxbyNxeIiE6nX4CD++UZ4u+GhGbcxgRa2pSdvVNP+pDXX3S1cVWeqe2Saa/bL2yiwgoa0urumK+iVhfBm280CdosAGmzKSZdpK22eiSYYA03mrGIvR3yKyN3C6qu6ffj4FQFU/W9jvI8DzwKuA73chVJYG6hS4BPihiJxNIhXPBD4IXCwir892KqsPKSIbAT8HNkzPeaWqnpZqO78BzAKWAm9X1SfTY04B3gusBT6sqtel2+cCFwEbkziWnqA1kvGfn1s3alsozVKdQ3dTim3aml0XPbwwyPnbSuoN7a106/qcTGjVwT8ufZs/aeTnKg2aiaocf23VCTcJlDYVTspeuL5aVJsXq0/wmmlc8n3awJBcu+p8i+51W3BV3YN1wlrx2Lr0VDb9MVG3f933df2sI29BKAqcTc3CZfNymda6DUGyKpF7Rlk/ba04o95jqyz2MZwvz3GzLYTvZWuGNy4bfvbzwURVFXtmT3GPZq/qc8YYcieZmqb4yThPVc/LfZ5B4veYsRzYM99Aqvj7v8DrSYTKTrDVVJbVhMxTWh8yzXe0iaquEpH1gV8CJwBvA55Q1QUicjJJOPtJIvJyknxJe5AEBv0YeJmqrhWRX6fH3kQiVH5eVa+t6tim20/RuQv2t7gEOyHKdNPb+s8VTbGmiaRs1V7UioasHuNCCJ+avEmzibkwOzYvEGV+epmPXhmughOETwZvW5PYRMjVfJGeZBCooC55vQmba2jyDNlodHzIV1Hy1VoWtflFigKpK64CZ5v3qi2+93TTmvS2lajKCDEPQDK+ITNpuGLSBrdZAQpGlvQ0vat6rqnc+cX666+8e9T2iXv/a52m8lBgf1U9Jv18JLCHqh6f2+ebwH+o6k0ichEdaSo7r6gjIi8gESrfD1wMzFfVR0RkGrBQVXcsqnJF5DrgdBJt5k9Vdad0+2Hp8e+rOmdVnkobXLSaIaKQbYTKpjniynB5QdtMCD4RkbZ9cKkIUlb9w7YUW1MBoqkfmqtwkTf1Z/RrBZkQVN0LLiZtG1wT31dRJ/yZKPP3LbuPiv05/dXbjnKvcDHv+/o5uroQuApTRaEhL1AU92srDU6VANMrfGt+29Dk2nzeDXlclCUmF6j5k3YdZKGy1vydKgMl/TgVeBo4VlW/E+4KDH3rSqhMHUZvA14KfCHVSD6lqpNz+zypqpuLyDnATar6tXT7BcC1JELlAlX963T7XwEnqeqBhvMdCxwL8MIXT5r78asPN/qrhU6HYhJS+nUF3jZlSWy7dEQvUuYXW0eTCjplNNVouQqqttfer/dTaPq91KRpoWOzwK3yTwy1sHBNZN9UgDDRi+IUvtfRhpAZKiWd7QLf10cT6jOIhIyOz1OlDDhu9nymbjywQuV6JIE6byCp0X0LcLiq3lWy/0V4aCpFZALwTlW92PYYW5/KxqRZ2ueIyGTg2yJS9SYXwzat2G4633nAeZAE6mTbs1Xqig3LV7L5fX2pK8FXR3FllccmyMU1yXebFPtnShzs83LxmXBMx5T5n5omwqyfRb+4UU7sr952xHF5Qr1Ujps98nOd2dYsCJs9W6o0nf0qdLoGPvRj9HxeczjSx9ellfJnqWmVkiHmzHG6D8r2rUuSDuXm4yYCqQ9Fv7/887Bv6mNYek8FTLA/Yec5ldH54O6eUCR77ttwyelSyWC6zuuXruys5G1bqOoaEfkQcB1JSqELVfUuETku/f7cQKdaH/gKiVXZis6EygxVfUpEFgIHAH8QkWk583dmC8qCgTK2Jkm4nhU5L26vZNIG6w1NAm2/EMuSrbpMgPkJwTQ5ZNuGTWc3D31nYxoLZc4PVYIs1CrVd6IoO89IgWwhYGfaHLmPjTvySOr80VwEgGIAhC3F69xn+tShhO/9WqnCpjDB0N81bTUVOJv4CYPdojBUBof9Zm06dH+7aPKr/IGLfSnzC7dq0xB8Umy/a0YFQ04crgZWh422+LkLE4VSPkWWjTAJ/gKlTUBPcXFT1Ka7aMmLSpayrBymDCA27Ddr01Ep4k5/9bYDL1BmqOo1JHEl+W1GYVJVjyprR0T+oeI067v2qxPzt4hsCTyfCpQbAz8C/gV4LbAiF6izhap+QkR2Ab7OcKDODcAOaaDOLcDxJJLUNcDZ6eCWks9TaZufDerV/Xltok3urroXhatwZfNwuZhYu6qDborAbKJJ9T0/jJzYRgvr5dSlMTIJgmV+m1X5QG0Tz9sKGL4mcFMqoZBJ+UNpdPOBW48vXDYqWMsljdAg4JLz0DRfFDXSLguWuoWy6T4oMwM3DWapOm8dvguvjLp8vtk5MpqmwqkaKxtNYlOLQ91iIk8Ts39egPaZo/N87+/2NAq1r9v6MwNp/g6JiDwPfB/z8m0C8A5VnWjdnmX09+eAi1XVywlJRF4BfJVETTsBuEJV/1FEpgBXANsADwKHquoT6TGnAkcDa4CPZBHeIjKP4ZRC1wLH16UU2nG3afqrm5OKOraCTKjSWmA/YfcqKhD8Imjrcha6+B/1suRhG/nimuIjZNsIrWBeBNnk7wM7obJ4/ip8Euj3Qktq63/ZREBtIxLW5TdqIydtPpLdFhtf4ToNWB5T1HPZMVVZPNrSjLpU2AqBa/L1LirohHbPylzczr1jYamVcuGqKFQCiMhvgY9naRsL320EPK2qE6zbsxQqzwbeDvyRJGflpaq63LrXPSYTKtt23jatqIq4pNoIkerBJRjBlKfQNlLaJLiU4WJic61b22+Tno1QbovJ/FVH/oXqG6QRIqFyGU1KgELY8a1jEDWabQiVYPd890IIg+pFq4/2r44m2l3bEq1VlOWXHZT7tQ2Bsox1i29nzY1LWPn+Q6KmMkVE/hH4vapeYvhuPeDLqvoe6/Zszd9p9PYbgSOAA0nMzxcDV6lqiddLfzBn7nZ6w6IzWhMyXF60ddrDppHittfoWvO4bNJ1LR8ZqoRjqACSLkumufhGugh8Td0IfNPBuBxv25YLbdYazuP6cg6dy9TmPGVU1X6uEnBsyjPmTZB5d5C6yis+yezB7z51DVjsWgvuIzjC6Fy8JiVAGU3GIHS2FNvzgF+JUtPcmL+3P7XHeeNeqAyNl09lzudxNknuo8uB01T1obDdC0MmVOYJJXy1Ueg+BHWR5lU1X30SLoeqvFMndNv6CeapKyPWRnlKX4G6HwNgQtM0mXS/4Vuvu4nPaOjcmyZss1VU+Wpm9DJfahtzcJf3alkVoGLZ0Yyq6l0mmiyabCkubqqUBlVzr+tCpu7+jUJleKyjv0VkM+BQ4J3AK4BvAR8g8YX8KIl/4yta6GMwfJzY95k52h8yRCqNNrF56H0FqTrzfVPNno1QW+xDWQ6/MiGu7hz7zdrUOULSxHjOAVnFoI1BXWL1OpNqXfS0S/Agc5qbNG39Z/cF9mWycd+8IHLqyxw70AduKVWEvj9tTOtlglXlYn1ibj6auVNlH1wsYK7XX3SvKdVEp/bMundE1TW7KC96mR1gPGPrU3klsD9J/e6Lge+o6urc9xOAP6lqe4WiG1DUVNqskrJgBpODr4+JrM4XLnQ5vRDmg9BlCMv64/Lwh07g7RLJaEubye77XSDzrSmep998wdYtvj2IWTFUhZomvqJFMyqM/k26GP+u3DR8ytY2sTK45o8MZeGB8At8U5tltBFYZ/MO87HGZcftM31qz30qVXmXHgAAIABJREFU587cXG888fWjtm944lUDq6m0FSo/BnxNVR+t2OcFqvp0yM6FYs7c7fT2n5xhVVor/wCUmReqsA1wyWPK55bRxL/IF5uJuZ/KkLnQhj9fnUky9Lnr+mNL23V3i+fqN2GxbUKmyalikCp2dVEFpip6uSqQ0tY6YZPaq00tWVt5FvN9Pm72fO92fGuih8DmGcsHL0ahMjyd1/7uBSah0mcFC37R2kV/kmK9XZsHwaVMW1VfbKhybh8kATKPrakxFC4CW6i++USTd02TF4lrTeCmeVd9tV42eQvrCFWgoIp+DUoxUbxXXXL8+kaju0bDu/iDuwqGvqURm6b2gvYUG13FGxRLJk9ZnaQTgihUViEirwPWqurPnY4bL0Llb75wKBN2nsPCVXdW+tT5vgTqzBqmh7YqJ1rV91U0TdHiQpVvVj9opWwnrV4Jyr0YJ1utapvYVofxwfcl6lP/vQ1cX+A+Ufmhc26GWnT65g3OU5WarC2h0jZNXN1CpmkxjKa49tvlt+4yYNXUr+I9//OZ6zF7yq49r/3dT0KliPwM+KSqLhKRk4ATSfKEf0FVP2PdThQqe0eduWU8BHq4pjYq0nbi8l4mvXZtv4t0H02zIRRpmuQd3P3WbBO/R9qhKqF+nrZKvTad+23rZocgdNJ4G9rSuLat5ChSJVw+mQa8RaFyGBFZAWyVVi5cAhxEEl61SFW3sW5nvAmVWZb9PFXlw/I00Sx1ld8rBKGTRhfxqcpiU7u9FznoimNlEwjhg819Z/uydqGte6EfNNltEULjVoeL9qjL5NI21EXT2+BSrcsVmzKjrnWoIWxQTmh8BOGmlrQ8IQROF818FCpHIyJPAlOAbYEfqer26faVLkHY1imFxhJ1pq8yc052I5q+q6NrIdI2MbKJCTvPCer/ZMKmf8Xfqa4axZTV1ULec+n/dUKebVCWLSEETZsFTd33XS4WbBgLvrpFuir9uujhhUCzYgouvqMu7dadL8SCoux+mT9pZL9sF335alUw0lSe98vMyD77auq6yDThkyzc7dz1+4QuyVuVuaWsIEbZ+2yszDkB+SVwDjAN+DaAiGwPOE1O40JTOW/37fRX79qdDY4+BOhtFG5bwloo/8GQ5l7bZLdVhAh6MFGVILdqNW0SXMuoywBQV17O1szk6qtl2qdNen3+LsjfE/2qhTX9Dtn90WaEd9cBaEWa/h5dRfGHootUcW1TlbavLMC1zl3M9IzK5MHVVIrIAcBZwETgfFVdUPj+COCk9OMq4P2q+j8V7U0hyTn+PPCvqvoXEXkzsIOqnml7TeNKqHTRDvXri6GX+GphTMJTCNOJ7Sq97lxNkr7b1hRummrEJgCr7JrLyuvN3WUrTn/1tsF9d+uuOVSJza5oI6eiS07LLn3RelWswTeoyDRP+wqhLot2n3KuofwPe136s4t+FAltZRl0oTItm30vsB+wHLgFOExV787t82pgsao+KSJvBE5X1T1DX8Oovo0noRJ6k+jXhdAPtc/DWJe+A+zTqxSFrya1teuESht/S5ea5S5Jkn1Kz9n6k9ZhGuOiz1deKC5qf8tSj5Rpiet+h+IY27QzqHlPQ9Cmf2CbhBZ271hxZ9BUaE2p0j67LjRC9K1pXfom83hG20FuTayIPn0ZYKFybxIhcf/08ykAqvrZkv03B+5U1RkVbZ4I/ERVbxeRvYArSKK/j1DVG22vadwIlbcuPKP0+36oRWyjuXCdcHvZf5vqIa71yevMxVA9IYaKjszjk5omj40w2STFlKkdE0185JrgUzXDpYynb3UUF/IuBjapf/K+jNkzcP3SlbWpaWzuf1dCpaepKitYlc3CB9f7ziUwqEyQbOKjXkYXApRvlacy60LXloWQrmqmPg+wUHkIcICqHpN+PhLYU1U/VLL/x4Cdsv1L9lkG7KqqfxKRnwLfBVYCx7poOKNQaSB0/sBerGrLaKs8Wr/Qhf+T78ux61yMGW3mn7MhRGqYIlXmfRt80sIUte1NBLIsm0HZwsr2NwuVgNrGXcTWTcQkRPrk2TTRVvnKDJ8gPZNbVagsIRltzMFdF4TwxeYesXEXyV9n5nLRa6Fyt8mb6LWv3WXU9hlX3/IAIwNkzlPV87IPInIosH9BqNxDVY8vtpUmMf8i8BpVXVHWFxH5s6puJiKbAg8AW6bphZ5S1cm219SpUJn6AdwKPKSqB4rIFsA3gFnAUuDtqvpkuu8pwHuBtcCHVfW6dPtc4CJgY+Aa4AStuYi8UGlbxabLuql56gQW0+Rft4pskuKkqeDhu9IM+fJoskBoulL2mbDbGLNe0XbS4+KLAkaWXbU5rgm+92KmpbTF102kSrDLJ8I39afu2a8TSNtKt1OmwXUJorPBRcD0TRvWb+5X/Ujdb+paQhn6x6eyQqgMYv4WkVeQRHK/UVXvreqLiNwF/B2wC/BmVX2riGwG3K+qFrH+CV2nFDoBWAxsln4+GbhBVReIyMnp55NE5OXAO0gubjrwYxF5maquBb4EHAvcRCJUHgBca9uBbEKcP2nXSgGzrfqqTagyKU9ZDQQSJvMpNMpe0LYRozbRxyayMlpGZtrdtkMvuHsXOp3bpS5wFS4awvxYuuYarNq/l4Jmm6ar7EWzLrdt8/T/fbMNy8pfRs85aqRshAbXjAgmP+NyQdje1WNkOpyFo74fui+z52jVnUlsaIGyfhWf/XwtZRuqTOSm89UGPeX+dsnnWrfvBrkFQN1Cvcw9qR8Xel1SJhCuuXHJqGeqTDise/ZMwuI44BZgBxHZFniIRF46PL+DiGwDXAUcWSdQpnwcuJIk+97fpNsOBH7t0rHONJUisjXwVeAM4MRUU3kPMF9VHxGRacBCVd2xKHWLyHXA6STazJ+q6k7p9sPS499XdW4b83eomsRlARL5BOum/HBVbRTJt5lh0lJmD7Tvw5rHN3djqAfe9vdpS/vjg61Q6RI570qX6YJ8S+mFcAvw0ai35SpRJhA1MW2WpQMKhU+5x/FMGz6WY4G28xvX4fqMDaqmEkBE3gScSZJS6EJVPUNEjgNQ1XNF5HwS4fCB9JA1rtcqIuun7T1vfUyHQuWVwGeBTYGPpULlCFu9iDypqpuLyDnATar6tXT7BSTayKXAAlX963T7XwEnqeqBhvMdS6LRZJuZU+c+cMfnjf1q2zzXtpndxtRV5yMaqgKIKUlwHpv8aa4vz6aRs21WciijbS1iG5V1QtBFyUsbuoq2rnoewa6ylG0gW1NfS9dclWW/ZRf5a+uCr1xcZ0LnsMzIay5t3ZFsx98UTBQ6DqArmtxHIc49ce9/HVihsi1Sn8qpgGTbVPU+6+O7ECpF5EDgTar6ARGZT71Q+QXgxoJQeQ3wIPDZglD5CVU9qOr8toE6Nkmamwo9Xaxe6ybOEPWWi7gIZy5VFvpBoPTxH63yfe2iX6HqifeSthd8PvRa++SrUQw1lm0EceUj4PPYuJy4RPd38dvZpu3JY5offOeAsgpCodw3mtBWrklvXngYIhKFypTU7fBSYDdASYRKBVDVibbtdOVTuQ/wllRduxGwmYh8DfiDiEzLmb8fS/dfDszMHb818HC6fWvDdicaCSOr2jebQrOI3bqHzac+sM0kZztpuwigPtGhWam22hdwhylAwP6+yfzgfKKaIX0Zp1OAa8qj0IFFjbR/Bj+/thKB2+Z8XWfY3vTl5vKy3bzwueuFQejSmlNWJ7/p7Clw3OzRbYcQhrtcCJi0ki45evPaTZdKVKZ7KO+yVOW+lAmcIWqyV5Fvo4lmtU7TG10TvPki8FPgdcD9JAHUnwV+5dJI5ymFCprKfwNW5AJ1tlDVT4jILsDXgT1IAnVuICkVtFZEbgGOB24m0V6erarXVJ3TFP1toiz6sSrCNNvPtwyhCRuNVkghrwtCJN7NsNFOtHXtobVnrkJXV9fZFBtfy7oylD4CpMt4+iZct7E+uPhr5jVVNtHaEF6YrBIoigKJa6Rzl4Kvi2nZ1hQeQsPWlTm3DB+/elOf+9F64MrQvRA1lSMQkSeBrVT1+cyKLCKbkCRN39a6nR4LlVNIsrZvQ2LaPlRVn0j3OxU4miSj+0dU9dp0+zyGUwpdCxzvklIoNE3Tv9j6FxVfODZthyBUehufJNd5QpU4a4KtEOyrYcxokl6lDBcNZZcvjn4Titctvt1oMnRNhN3Ul9qnelSVINskF2bdefM0rfpiwrV2fL4PeWGqjShh22fFp/pZmSD4+MJlQ39PnT9s0Ku6vkFMU1amzXS9H0qJQuUIROQRYHtVfVpElgCvB54kSQG5WfXRuXZi8vNu6aVjchVtVy5wPWeTNlxNZzbaLVvtc1OBEtzTF/kER/lGnIeuotMPQqXLS6ppkJVtOhsb2tb+m7C5N3zqZNuk8eqlhcKW0MnLyyxjNu32ax3vPLba91byBUehcgQicgVwjapeJCILgINInMQeVNW3WrcznoTKUC+EKroSDn1XyKEjcEP4txRp4ofno9Hp9YsoTxd9GzQTVlvBIVBuEajStHd5v/ikbMrTRklKaB7BXcRUpjLDR2tri+vCs06gayP1U6g2QwfK1FHlx7ny/Yc4tWVjSakrDZwlxx96t0WhshQRmQAcAUwCLlbVv1gfOy6Eynnz9NYbPjrqxfDchVcOmQx81Ow+EdFd5A3sJyGpS0IKS7bVRUyESM1iwsbZvk18Fkz9UqLUpvrL6a/edkRRhF7RNLVRE0GySaBWseSkj3ndhRBBZW2nHgtZGaxIFwqMNszmvVo4jzpPHwiVO66/kX5pyktGbX/DH+7tab+aMK6FSrAv2+hD2QTru9Lu4mXXRJjqkipNqO9v2cRM2Ms0JiHphT9lF6Uw89rJfr2n62haUjWk6b0pLtomkzYZ7ObRMv/KIiHrd/cLde+2QZmzWsu7G4VKROQS0rRBVajqu6zbHE9CZZE6020oc0Fbk5Pry9hmws58m26767FR+87dZasRn31KF9pSlbOu7KWS4VuLuI3rsUnp08YkHiJgIqbmGDv0W0J8l7mraqFbNVd3eY29Pn+e0CZ4l3un6tz9tKgBolAJiMhpNvup6qet2xzPQqUJX0HSt4xhPpKvjCzCr8pU70OIFCVNfb7awiewpihUVgmhZQJoVcCBTfWjOny0eqFKBdb1YxAEzH4NlOuS0MEkTc7p04e68rMmytxDmvqOg1ufJ+w8J1j6JtuMBHUa3F7c+6F8lBuZ56NQ2QpRqGxA3628PGhyDa4pTIq45uP0iWx1jcbOC4ttRXIXNa2moJFi7XjTcRllkaFluFaGahJF6ivA2Ap/bQcfVD0X/VJ2sp9puggKTdNyhr1aTOWDTH0CTkMuppouSnrps5yVz4xC5TAi8mrgYFU9yfDdAuA7qnqTdXvjTahsMqm0XXHAlkFIFZHh4vPoGzla5a9aFuXb5BxFXGoWu1TXqOuDi7azTef4kME4rkKir4WgSFOful4H92T06nm3ETT6zQRfRVuLlVBVZNqKPK+77n4ODqoj71MdhcphROQHwBdV9QeG794IfKCuFPaIY8ajUJnH5SHpOiVDRr9MvnUmE5dktU2TQ+ep87HsFb7auDr65X7I028aKagvXddmcIbvi9FV61xHL8bYRN24Q+/u67r7xBab6yoLnnFd9DYq4VqCS75bn2TutpTdB02EzeJzFYXKYUTkIWAbVV1r+G49kjyV063bi0Jl9UTWRn46m7Q/NoKYKZ9eU2y0sW2tJEPXnR4UbErIFWnzBdw0n2vb+LysqnzVbMayn4TmpiZcaOaDFwKb/rueM2szZF99EnK7LphNFoim1btMgZYZWcDlfrM2La3U1rafd905mqbzM7Ho4cdH5qGNQiUAIrKSpDzjM4bvNgYeU1XrKNZxJVQ2cU5uK/9j/gVhCnqpil7OJoU6bDUeLmZpl2TFtn3pVyGmjl5UIwK3l2ebptxB/d2q6MVixcdU6bIo9qUfft9BCLCqClr0cb/Jz6Mux+ffE2XCZV6wrDu3DU216mULmdD+ryPON+BCpYgcAJwFTATOV9UFhe8l/f5NwNPAUar6G0M7twD/rKrfNXx3MPApVX2V7TWNG6Hy1+e8AQjn01JGm75qvhOVS25F3zJvthRN1f3wwuoHmpjgbCNEfQklYHX1W4dItRUCl3rrZXQRDFjnr9ek6oyJttxC8rQxXmXjZFJWFM3cdUF4JsoC+spw0WTaUhVomNFvpTJreeFhQ38OqlApIhOBe4H9gOXALcBhqnp3bp83AceTCJV7Amep6p6Gtg4HPgd8gCQoZ11aUeetwBeAE1X1MttrikJlBb1IBN3vmKIQm5CfmNvyZ7MVxqsCfsA+ybYtoZJ/2+Jb7xv69/7slfuDb5m8NoQdXzNxkSpBCOx8l0OUbAyBq6bNhbLcvjaWo5B12EMSuvCDb6L+KpyeuZzgWMUAC5V7A6er6v7p51MAVPWzuX3+C1iYCYQicg8wX1UfMbR3IvBpYEPgcWAq8Cxwmqr+p8s1jQuhMvUZuKfX/RiDTCW5ASPhiWPbDnFc2yGOa3vEsW2HqcAmqrplrzogIj9M+1FkIxKhLuM8VT0vd9whwAGqekz6+UhgT1X9UG6f7wMLVPWX6ecbgJNU9daSvmwG7A1MAVYAN6rqn12vaT3XAwaUewY1kWg/IyK3xnFthzi27RDHtR3iuLZHHNt2SMd1Vi/7oKoHeB4qpuY89sn35c/AdZ79GWJC0wYikUgkEolEIp2xHJiZ+7w18LDHPsGJQmUkEolEIpHI4HALsIOIbCsiGwDvAK4u7HM18C5J2Av4k8mfMjTjxfx9Xv0uEQ/iuLZHHNt2iOPaDnFc2yOObTsM7Liq6hoR+RCJuXoicKGq3iUix6XfnwtcQxL5vYQkpdB7uujbuAjUiUQikUgkEom0SzR/RyKRSCQSiUQaE4XKSCQSiUQikUhjxrRQKSIHiMg9IrJERE7udX8GCRGZKSI/FZHFInKXiJyQbt9CRK4Xkd+n/2+eO+aUdKzvEZH9e9f7/kdEJorIf6e5xOK4BkJEJovIlSLyu/Te3TuObRhE5O/TueBOEblMRDaKY+uOiFwoIo+JyJ25bc7jKCJzReSO9LvPp2X5xjUlY/tv6XzwWxH5tohMzn0XxzYwY1aoTMsYfQF4I/By4DAReXlvezVQrAE+qqo7A3sBH0zH72TgBlXdAbgh/Uz63TuAXYADgC+mv0HEzAnA4tznOK5hOAv4oaruBOxGMsZxbBsiIjOADwPzVHVXkuCAdxDH1oeLSMYkj884fgk4Ftgh/eeb83AscRGjx+F6YFdVfQVJacNTII5tW4xZoRLYA1iiqvep6nPA5cDBPe7TwKCqj2TF51V1JcnLeQbJGH413e2rJPVBSbdfrqqrVfV+koizPbrt9WAgIlsDbwbOz22O49qQtCLEvsAFAKr6nKo+RRzbUKwHbCwi6wEvIMl5F8fWEVX9OfBEYbPTOIrINGAzVb1Rk2jbi3PHjFtMY6uqP1LVNenHm0jyNUIc21YYy0LlDGBZ7vPydFvEERGZBewO3Ay8KMt1lf6/VbpbHG97zgQ+AazLbYvj2pztgD8CX0ldC84XkU2IY9sYVX0I+HfgQeARkpx3PyKObShcx3FG+ndxe6Sao4Fr07/j2LbAWBYqnUoURcyIyCTgW8BHauqAxvG2QEQOBB5T1dtsDzFsi+NqZj3glcCXVHV34C+kZsQS4thakvr4HQxsC0wHNhGRd1YdYtgWx9adsnGM4+uIiJxK4tZ1abbJsFsc24aMZaGyJyWKxhIisj6JQHmpql6Vbv5Dah4g/f+xdHscbzv2Ad4iIktJXDJeLyJfI45rCJYDy1X15vTzlSRCZhzb5vw1cL+q/lFVnweuAl5NHNtQuI7jcobNuPntEQMi8m7gQOAIHU7OHce2BcayUGlTxihSQhrtdgGwWFU/l/vqauDd6d/vBr6b2/4OEdlQRLYlcW7+dVf9HRRU9RRV3VpVZ5Hckz9R1XcSx7UxqvoosExEdkw3vQG4mzi2IXgQ2EtEXpDODW8g8bOOYxsGp3FMTeQrRWSv9Pd4V+6YSA4ROQA4CXiLqj6d+yqObQuM2TKNZWWMetytQWIf4EjgDhG5Pd32SWABcIWIvJfkRXMoQFoi6gqSl/ga4IOqurb7bg8scVzDcDxwabqQvI+kNNkE4tg2QlVvFpErgd+QjNV/k5S5m0QcWydE5DJgPjBVRJYDp+H3/L+fJNp5YxI/wWsZ55SM7SnAhsD1aWagm1T1uDi27RDLNEYikUgkEolEGjOWzd+RSCQSiUQikY6IQmUkEolEIpFIpDFRqIxEIpFIJBKJNCYKlZFIJBKJRCKRxkShMhKJRCKRSCTSmChURiKRMYuI/JWI3BOgnYUickyIPkUikchYZczmqYxEIhFV/QWwY+2OkUgkEmlM1FRGIpFIJBKJRBoThcpIJNJXiMj2IvKEiLwy/TxdRB4Xkfkl+y8VkVNE5G4ReVJEviIiG6XfzU8ra9S2m5Zl+5WIPCUi/1NxvpeKyM9E5E/p8d8IPgiRSCQygEShMhKJ9BWq+r8ktXovFZEXAF8BLlLVhRWHHQHsD2wPvAz4lEu7IjID+AHwz8AWwMeAb4nIloZz/RPwI2BzYGvgbJ/rjEQikbFGFCojkUjfoapfBn4P3AxMA06tOeQcVV2mqk8AZwCHObb7TuAaVb1GVdep6vXArcCbDM08D7wEmK6qz6rqL92uLhKJRMYmUaiMRCL9ypeBXYGzVXV1zb7Lcn8/AEx3bPclwKGp6fspEXkKeA2J4FnkE4AAvxaRu0TkaItriUQikTFPFCojkUjfISKTgDOBC4DTRWSLmkNm5v7eBnjYsd1lwCWqOjn3bxNVXVBsQ1UfVdW/U9XpwPuAL4rIS50uMBKJRMYgUaiMRCL9yFnAbap6DImv47k1+39QRLZOhcRPAmXBM2Xtfg04SET2F5GJIrJRGuSzdbEBETk0t/1JQIG1TlcXiUQiY5AoVEYikb5CRA4GDgCOSzedCLxSRI6oOOzrJMEz96X//tmlXVVdBhxMIpD+kURz+XHMc+SrgJtFZBVwNXCCqt7vdJGRSCQyBhFV7XUfIpFIxBsRWQoco6o/7nVfIpFIZDwTNZWRSCQSiUQikcZEoTISiUQikUgk0pho/o5EIpFIJBKJNCZqKiORSCQSiUQijYlCZSQSiUQikUikMVGojEQikUgkEok0JgqVkUgkEolEIpHGRKEyEolEIpFIJNKYKFRGIpFIJBKJRBoThcpIJBKJRCKRSGOiUBmJRCKRSCQSaUwUKiORSCQSiUQijYlCZSQSiUQikUikMVGojEQiYwYRmSoiKiLz08+z0s/zGrarInJIkE5GIpHIGCUKlZHIGCYVhqr+XdSg7dNF5E6L/Y4qnPMREblCRLb1PbcDy4BpwO02O4vIRSLyfcNX04DvheyY4dyZALxWRLYpfLe5iDwbQkCORCKRtohCZSQytpmW+/d3hm0ndNSPp9PzTQcOB+YAV4vIRNPOIrJ+iJOq6lpVfVRV1zRs51FVXR2iTxY8BLynsO0I4A8dnT8SiUS8iEJlJDKGSYWhR1X1UeApw7Z9ReS2VAt2v4icISIbZMeLyNtE5Lci8oyIPCEiPxORF4nIUcBpwC45DeRR1V3RR1X1EVX9KfBp/j975x0mV1U34PfcO322Z7ObbBotkJAEggoCIr1JCCSgSO8iiAUQBP3QBENRKRYUEBEpooBIKBKIRHoPIZve+/a+Ozv1lvP9cWdmp+7ObnZT532ePNm59dx2zu/8KkwGDhBCHB/d/wwhxGdCiAhwmrD4iRBiQ/T8y4QQFyceVAhxeEL7FwNfTVmfZv4WQkwQQrwihOgUQnQLIT4WQkwRQswGLgOmJVzT8dF9kszf0e0XJNyXJ4QQxQnrnxBC/EcI8SMhRK0Qol0I8TchhCeHx/YEcLkQQiQsuyq6PAkhxK+EEGui7dgshPiNEMKVsH62EGK5EOJqIcTW6HYvCSHKc2hHnjx58vQL285uQJ48eXYOQojTgGewtJXvAWOBRwAncLMQYgTwLPBT4N9AAXBkdPfnsITCM4Hjo8s6+3H6YPT/RI3kr4EfA+sBH3An8E3gemANcBTwFyFEu5TyNSGEF3gNeBdLGBwF/K6Pa64CPgA+BE7BErSPAFTgPmAiUAZcEt2lLcMxPMAbwMLovmXAX4DHgXMTNv06UA+cDIwBngfWAvf01kZgHpZW+UTgf0KIw4ADovv/ImVbP3AllnbzYKznFwZ+nrDNPsDFwNmAB3g02taz+mhHnjx58vSLvFCZJ8/ey/8B90op/xb9vUEIcSvwdyHELVimajvwgpRyS3SbuA+lEKIb0KMaz5wRQowGbgFqsISsmNZstpTyv9FtvMBNwKlSyvej6zcJIY7AEjJfwzIJO4ArpJTdwHIhxF3A072c/nosQexbUspIdNnahLYFgXAf13QRloB9iZTSF93vGuBtIcQBUsr10e26gOuipvdVQoh/ASfRt1CpA09hCYv/w9JSPhdtdxJSyjkJPzcLIe4GbiZZqHQDl0opt0bb+l3gfSHEeCnluj7akidPnjw5kxcq8+TZe/kycERUkIyhYAkhI4AlwAIsYe2/0b9fkFI2D+Bc3qgQKrC0ZV8A50gpIwlW3s8Ttj8YcAFvCCFkwnI7sDn690RgaVSgjPFxH+04DPggQaAcCLHz+hKWfQSY0XbHhMqVKb6cdaSY53vhcWBxVFt8ITAt00ZRk/wNWJrMAiyNa6qfam1MoIzyabStE4G8UJknT55BIy9U5smz96Jg+Tb+K8O6ZimlIYQ4FcvkfSqWxuweIcRxUsol/TxXACs4xwQapZRpWjeSNXExf+/pwNaU7bTo/4L+M5B9Mh1DZlmXuFzLsC4nP3Yp5RohxBfAP7Hu18dCiH2SGiHEkVjuCXcAN2KZ8s/CMuPnyZNDL4c5AAAgAElEQVQnzw4nL1TmybP38gUwIcFcm4aUUmJp/z4WQvwSWAF8G0uLGSFdK9bbobKeJwMrsXwDx0kp3+plm8uEEN4EIfXILNvG+AK4WAjhyKKtzOWaVgJXCiEKE7SVR2MJjKv62Lc//BVLY3lLlvVfw9JCxk3gQohxGbYbJYQYI6XcFv19xBC0NU+ePHny0d958uzF/BK4UAjxSyHE5GhU9DeFEL8BSxMmhLg9GmE9FksLNgZLqALLDD1OCPElYSUddw5Ww6LC2n3AfUKIK4UQBwghpgohro36LwL8A8v/8HEhxCQhxClYfqK98RCWmfj56HUdIIS4QAgxNeGaJgshDopeU6bURs9gaVWfikaBHwv8GXixn4JzXzwFDCd78NFaLIHxIiHEfkKI64ALMmwXBJ6M3r+jsIJ5Xsv7U+bJk2ewyQuVefLspUgp52P56p0AfBb9dxs95uZOLG3Yf7B87+4H5kgp/x5d/2+sSOX/Ac1kFmi2h58Ds7ECT1YAb2JFV2+Ktr8bK/p8PJYG8j7g1kwHiiGlrAWOxQrweRtYDPwASzgFK4p7FZZ/ZzPW9aceIwCcBhRh3bOXsbS5Vw7wOrO11ZBStmTLsSmlfBW4F0voXIoVzZ4aHQ6WoPwsVvL2t4CNpOfBzJMnT57tRljWrTx58uTJs6cRzb35TSnl5J3dljx58uz55DWVefLkyZMnT548ebab3VKoFEKcHq0isV4IcdvObk+ePHny5MmTJ8+OQAjxuBCiSQixvO+tdyy7nflbWLWC12L5D9VgVbW4QEq5stcd8+TJkydPnjx5dnOiwYHdwFO7mmvL7qipPAJYL6XcGE0J8ixW+bE8efLkyZMnT549Ginle2QoIbsrsDvmqRwFbEv4XUOGKhXRtCPXAHi93i87y4toC3RlOJxEFRGmDB8VX6JElbdmS0fa1lrYpLsrEt8mhimgs0DHPWJYPy9nB2BKnBu6MmZ9NgVEDiju1+EqHe7BaVcOpN7nVDI+o5BBwKdhAkJCxG5i9wpKd2C7E1HKSzAFSClZ3d5BWE8O5q2yKVSUWe+NIjNf02BhGBItaGCaEptDwe5SByUb+GCyTOoYGddIsAWYavTvfe0Pumbi60j/viXgdxuMKvQigWZp0oSJjlX2Z5RQKdyF7mSDNGmUBjKhSSWmyT7qoGV92iPoQrJR6mTMiS8MppK/X3sy1U2dLVLK4Tvr/FO/frD0tXenLd+4YtsKIJSw6FEp5aM7rGHbwe4oVGbqudNEj+gDeBTgK1/5ijz2yGJ+a/hIU84KA6N4HWee1KPsvKUqWZvsktY+/r++yqZFrSz7sAG7kXIcCa9OaeXPf7kzaT//X18FwHvV9PjykDCzXlziuQYLKSUvPrwCTzg9p3Pt8BBXn3nYdp/De9X0jNd1b93AXD5iz8B47LV+7dfZEOTD5zchEkZT3ZBsc4cYeaLCzIqpvew9tDyq+fmF1gki8d2R1KtB5nR0DXnb6td2sviNWkwTVCkIGyZ2O5x+4URU265htPBLk6+FWthKhm9EaIxxLuYtcfyQnb9+TRcfLdiKJ5L+rXy2j49Zpx/BXZqPBzUfevQ5hoBtUvKKcxhHqI4ha1uurDF1jg01I0VyV9mByXndrVw7fEq/jueXJvdrfp43gkjgW6qbm+1eCkTyO9NWE6BmRQeGblJ1UDEV+xcgxI4RtFP7n2z9TmLf7pIK6x97iUmhRtKNdibFtjresn9lCFqbZ1eh7Lcvb9mZ5/e1d3P3iz9JW37+QT8ISSkH5eUTQlwAVEspVwkhDsJKm6YD35NSrh6McySyOwqVNVgJmGOMxqqpmxUZbOEy2wh+Z3SlSJ8ShMGYUBc3zet5twyS37PE2nFFw12YCqSqUoIOE19pT1W2eKd2RrTARf3S3pqYxC1Vk1GvntZvgSobQgjsk03CSwVOrafzDNtMhk/KTZjos9POcn26wwaqSlsoGF9W5sqiMTQMrp/0FYoae2Zu6tVWyeNche1Ni9uQRvLMw2YKqlqcPKRuY2avew8tTxpBIiL1fguk4eTn5Q1D2jZDN1k8vxZhiHi5GKemEO40ee2T5Zx1zCFDePbcCEnJaeE2aqUBacKIgd29jdmNY6Fi6NpQMtKN3UgXhEJ2k5qqACEpeVDzpT3HiIAbA/V8WJipoM2O5XUjhCYkmebfvykJcm0/jmVKyfRwGyvMCFr0mv9g+Jgb6eAL72jU6HNa91Ez6z5vRhqgINiyqRNbpWTaNycNWLBM7HPaQ2EWbKlBCFjl8OFypAxdffSvsX7onvZ1YBjYIlFrwbT9mPyfOpaHJT2FlEwQBt8qKOOBkzI/z1TFQ4xYPwWDqxjIk2c7uBOr4hdYuXw/w/LHfAg4cbBPtjsKlQuB8UKIfYFa4Hzgwt52qNeC7HvN2dzw63v5rbcQUEAKUDSc3nXMrst9oCob48FeCFqnGddWaopJV4HOuUf0aJoSO52YAKbHOkI1XQsSE7rKXG7uaV+HLRjuEUgHg2+MxfnAAoa9H6YwoNJaotF6sgd5zRk8kMv+9UvjHTMAbmdSmwGrzQlIKdmwuYnlW1tRFcEhY8qZsjFM0UdNHFZZyZhzplB0YIrloTHdFJAoUEopedEI8VcjQLeUzFBdXGPzxLUmoS4NJcNgqiuSkNy52jg9a7loqCvAqo49iCQOyh2Lagj/eSWulAqETl1hU12YB6LvWrbBEoZGi57Ii0aQ9WYEI03wlnhcW3mw0TPk2lx3kR2xn0loM7iiE7CIatJRoHNGeQmN0ogKbKkI1th2DfN3pvc/Rofb7EnzngNvmxFWJQiUsTNsUyVz2lYze9hEgl0a6xY2I0wRP7NTUwg1mryydClnH3rogK4j9p69oAe5PtKBLgwsUVnhmmAn95RN7PMYMQtRqhUlcVJ89rSvUf7GB3wQjKCj4lU7uWP4aL7zzYt7PXYmATJTQfu9gQ+NCL/QulgldaqEyk9sXs6zeXZ2s/JYDJdSNgohXMAxwDcBDWgZipPtdkKllFIXQnwfmI81tXxcSrmir/3urVvO7FtvofTZp/lFsx8QYKqEfQdzk1fyTLiNa21eTu7D50gIwWkXTOT1t1bQvdlEAivGdzP1QDczOkrTtIveq6bz85GHEBImXZUF1jGc3vj6Py75IGn7tlCQMpcb3e1MnlFvL0IQ/vEp1P144Iew2tLTnoqYySgqTCaarKWUfGeMh1fWbURHIEyTMx7ZTEW9jkuH9aKGNf/8HDGthJl3X5N6KiBzp32r1sVTuj+uKVqud/F4uJ3PvaNxCcGwcV6aGv1p7gl2Q6AVZCr1vOM4T3Vzl95JWmlpRWOMP5LZsWM78P/11figqrpsyCwn6HQbdAozPqFJ5fuHHoMM++kCihq7Ua+eluTaMVgsMCIZNLkAJm7D2GGuC2dOm8wrny1j68YwiqGwer9ujhlbwMyqqQSlzDI1kJj2YMY1O5qzVSd36Bl8goCqSEe/wjOrTY1wRk2jwpNFfmYDLVu6iagSp5m8nUMTfNoa2K4oylppcH2kA00IYsOVBP7sLubA5qVcMbx3DXu2d/SmlN8/ZqzlHBujo2/Xm71VgEzlEyPCeZE2Ym//RmlwndbOe75t/LH0oJ3atj0VIcQ/geOBciFEDTBLSvnXLJs3CyEOAKYAC6WUYSGEh0EfcSx2O6ESQEo5D6s8XM7cNG8LEbmZ+wJBUGwk3s9OBd4yI7wdCXJuyM+jpQf2eiybQ2H66X37JaXOknvMutb/99Ytjz+AisSePhiOC2guqfTqg5mIK0UTt6PNLzG3Ae9V0/lfXS2vzZ2HHr3Ph2/SOSgqUILl06fqgshrHfz8oD/hOevUDAe0fAxsEZ1brp7G1i4fTz75fJrWpE6V/F/7Wu4vO4hxU8tYV92MFjaxm1Htpd3kzSPa+UnX6OSBYwgJSMkyU6NMKIxXrKd8nc3L38PtbFHBEiwtO72zYD2za9O15aaUvG6GedEI4UJwkerm6AH67BUfXEnIaeCMiCRNVshuUj2pi69KJT45SKVwa2PG5d6rpg/qOzZSKIBJqtTj0AT71Tsxx0kUdei1gUIIzv7qIRnC/8AtBEW2Brr0ESRPDkwqRS2w8wfRcYqNC0M+nnEV0iNaCuyezcxpHNEv94GxQgVhgky1rph0esKggc2hYmTQ3poKNBVmDrnKlZezmvIld5YGh7TWZDYtZ2/05UPem9m8t2/JNCR1qztpWO/D7lQYe0gppVW7hibwDs1H6nRKovIPt5cT1yxh7KpSOupDuAps7P/VckYeWLRT2plI3Irz25d3dlMGhJSyPyVx5wCLsJz2vh1ddhKwZLDbBbupUDlQPjU1fEpmXyOwPoQXXAWcXNrBBedelLRuQAEnCX4+mTqTTMviJsbHoh1MQoBPYjuSTNEQF8Bi2CJ63HyeeJ5MmlTo3TzUb+qX8tbyrYRlz70+ckMkLlAmoquS1as3sM+pQaq8+yStqwttjmptLV+olRsasOKCUwc4lWcLdO4HHC6Vky49kP++u4rmBp32AoOFh3ZwbnHZDtN0Pa75+ZnWiSZMJAK7CHGPz8+Vww9hoXc0d7Sv5qmCED53mFF6G7+srUprm5SSyyIdLDCChIUCSJ41ujkzHODJkvE5tyVxoPIcK+l+28CmW2ZK1RS8+6UOzvcOY2aCT3EqqT7GMDRamsttHh4xfEkaNmFKCsLw3Xke5pWuZNqFB++w4I9sPNCucl1FDVqoCqQN1CBOzxburivrVWCL5QQOAZukzkihUppRM7v9PFh6EIc1L+Wu0gDtLkmV1sGcxpH9/gbOVF0omomJoEfYlyBMRkfaQcDw/QpQZPozMRTJ+v1923Ud4ax5lAXtTpHm2z5Y5BL4k9YHQ5JbUCrZLAFxi1QWd6cfl0/k08uepX1VA0KTmEg2r+ug7ng73//9jWnbD7WbSiqrM5emB6nQ/b6dJl83AoEWMvhs/jZEg8FZx+48H2716mmEMgUC7qFIKZ8QQjwf/TvmZPUpluvgoLNXCZV+pJVio7c0NcLk9tZqauqS/YB0t2UWT/UbzEaq/2RaZ9KXabuPAJ9UU3Qmco2gzjQTv6Vqck4RlNlQ6nQ+opaYUBmyiQw6KIuGQpMjpILevTVpeQXJ2rNCm5Ll+ZkEnWHUq6ygHg9w/g+ssJcdra39yIjwM60zasaN+txKD7cUQ2lTNTMrpjKnbCJzwBoQBRkFkXfMSIJACSCQqLzq9PKX5qV8pw+zXyZmHHgoc4uq+WewhZBQ6CwLcUMoXaDdWYxXbFwf7OIhVyEOTcEUgvJukx+/3o1bUwi1b5+P3mBxTsVURFM1d1QsZluRZEyXYFbd2Kz3sVkaXOjbyiK7E+uBS2IaWY/axgMdOucNwTO4cvghXAlWN5HlPesLtxDc2d3B7cVuTCOqGbMFcHk3cEfNaKgAm11BHKcTeD8qYElrwvLMaY1cr4/crms4VXVyp57J5UAyQuscskzLif2G96rpaX3evXXLk/rgRAEz5mMeEy5TJ8tpqECCAaLOvzn+d5nLzZ9feIeqVfWo0ThQBYFDF1S9rfHzvz3InCt+kHS4WH8eUxgMdR84TqgszSBY2nUo9oNIUOI4dIXgMsnc8dXMHLnj+x3vVdMJYXJP+zp+Wpr75Hx3RggxHAhKKbujxWMuxRp9/j4U59urhMqvKnaEFL3KlEhBizeSFmiTqzAJPQJoEobBT8snJC0a6hllJg1TKr2dO9XvqD/H/aZpMIeeweCdiU6O3BjBmdL3mAJ8w4JJ0ffZMKTkWaljJGlNACQjjeYk4Xln+Ts9ovuJpGnSBNJwcXv5hpwjvOcZoSy+bJJfl/r5zgDbN3PE1OQ27HxLVBK/LJvI1HeXUVPjwBOBqg4zIfhD8Lbft0tUOphZMZWZTIVY6tssApsuJccE6mm2O+l5Z3ve34BRxvXDWrBHJxy7ItcOn0JlUzW/GL6G2kIY220wqyZZiJ4x5VDmllfzbKiFDoegozzIbZ2jt/uaJil2Tg6HeNPpouf+mdhcjdzVPHxIMwHEyNRHJvaNmdKp3Vu3PO7SlDhZTtVuZhI8U4XQ0ner4wJlIrpNsmrdprTJf2zsirWpvxk0+svP7AVcEGlFJlmQDE5eGcRhpvdhQgr+4K6zvp8hJvXZhDC5p2V1xmDZPZj/ANcCi4G7gOlYgTqHAemq7u1krxIqi4TCJaFunnIVQJpgAlZy5RBjg6EkASWbcJWJ2AeciVS/mT3Z0Xu0ovLdYBePuIsBwdqRNl76kouZi0IYwgq+l4rBg9+u5fbW3KLvVSG4s7uLnxV5kaYzqgSVOLwbuLO+cocMMH3RIE0yJ1KW1Htsyelse6EIy+SddiwhafPosHNjjoaUrw4fA8trcKfkigzbJFuHDVLg2g7iTTNMi5Kpr4mhYETKmTX8ix0yyA6UuBAdcwvP8K3NHJkyYRmk7/G5kv35TesK/lio0+2QVBpt3N2849xZ+qIvoTNGJpN6JsEzlUiBgYlMi+oXEmpL0u3/vQmZqX73g8GpqovvBH086nGDdIAwwFvH4VtVLLtRMoqEtZV6zuma+hMUmOrOFaInQPZPqxdbG6lqmrvYHs6BQHX074ux0gt1AyvIC5Xbz+9KD2KfluU8UGTQjRcMT9QRXYAtiKtgLbO2DTwXXm+m5j1ZiMzE3WUTmdi0hBuLCzBNF698ycl7E2xMqtUIldZQM7aDuxuzmw0z8d3hU6hoqub28ibqvYIxgSCz6/t3jKHkNNXJ53qINL9PKRgdDOQcb3eBzZ0hryqAYHS4c4ji9nYNKg8ogndIG0ilAlvHpaec2pVZZxpZo+57kNQUKHtfB9EPfjJsEvEU0Sq7xASyv6QKRrkqK0KXHM/8BU/h0HveIxNJyCHxl4SyWnmy+oUm+G5ujwCXyK/KJnBEUzWzh9dQU2Qw1ifYd/w4Ig0mDr1HkJVIVF1w2bwK9nMs5txvX5J0nHvrlmd2u8rib5ra/hCW4Bwbh71XTcfVECAkzCRz9711y4dEwN5FMQCHEOJAoFNKuVUIoQAFQ3EyIbM6Qu85VB1YKVeceVTGdc81VTO7vJXGAo2xgQizmnYdAWUokVLiaw4jpaSowjWkwQ9SSu5tW8kjRX46PBFGRzq4o3n7TWMDISQlc40Q75phRqFymc3NWGXw5lad0uQrgTpaFUFcsBQGdtc2Hmly9euab25bzePuQkslEcVZsJaH6nYdLc1gYOgmiiqS3sGXVi+h62Mo9FvPxu82eHRmPTfqlbvVtf/XCGUwDaYQrRS0RJy14xq2B5FrtbKhZijdmV55bylyiYquSpAQdkh+f34NtwX7Dr5KFC774yc/GNfz8idLiSxW8IaUJN/KiGqyYXSQfY+xZWy/NyVAdSD01u4HzhjHz0cegnPy1YsGq3LNQNh/8liZpaLOoLVLCPE0lqPTMGC+lHKOEGIy8IKUckLvew/gfHu7ULk30tEQ5KOXNhHRJaaQ6DaJ42smMybv3ACIocYnTU4Nt7LZ1KIBMCYCyU2BTv5v2MGDdp5OaXJD5wZedwkido0KGrmntWRAwtAzTUu4Y1gXLR6DMSEfs5vH7FZCVW80b+rmswVbwC+I2CSfHNrBkeO9zBxhXd/cxmoestfT4AXVoTGreedN+MIBne7WMO5CO56S3NM6GVIyxV9Lg9oTuJXs1mBg927kkYbCHXpthmYipZUebSjor6C3XdkmSAiMhLSsGIOW6zeFwdLy5crcbdU8F2llW6lBoCTEL1p2DwXIq68tQ65TsadkCAjbTP500VbeLPvGDm9TrGJd2W9f3huESidwGZYf5dPRXN/HAyOklM8OxjkS2SvM35WOLGUB90K0sMFHL2xCaAJnbGCLQOgdk7nF1cwcs+t3UgPlYd3PRlNLyHOpIIH7vQVMaKrm3EHqoIuFwt+S0v5MHLC57qKKQ7kIIMyAInhbpcmDmp/5ZohhQuF7Ni9nqDsoWWcvtNcFWPjqVpRoknqXJjhqSQkfG12gWEErMyunJvsZ7gSTp5SSVW83snlZGyGbiWoKtlQFGXOkjZmj+n5fVCH40FvFJb7NfGx3IhEIEQEJ0h6mQtRxT0NpXDjIFPQB2y90xbA1hxj+s3cp3GoVbqgdEWLkt8dyztWX5WwOzFVw6s91ZEzPk+D31pdgmLxe71Xz1vnwy7Rssdwoho31YncOLGijt3K+20tASh7S/fy70IZdUbh00oFcdeU3+KaS+RmZEYONTy+i5sXlmO0+Rk4oYr/Dy7HZd76JtzJYRKtMLxemqxK/XsC/9CD7KipfFvadni5sT0RKGQYeTVn2zlCdb68QKvP00LjeRwTZI1BGEcAbrZ3MHJN5vz2BF41QSuL0GCq/KG/i3B3eoqGlXZocG2qhSRoYQoA0+DjSytnhAI/3I9flULD+05a0Gu1OTeHoZUXcfdSmXSJoJRzQWf5mHY0brTx7scChcbVuFi/vBntuEdulQuE/RfulLc/o89ZHDevtQjcZe+072HwSNao1GlPnIvBIA79Q/kDh6VYZ4L5KdeaS9D7XSjbQe5LxgdbSThT4mqTBbVoXi9oCXPF2Nwc2mEgkmi3q7XqkwdmH79i8ib3lwTRNyeNvL6e5w4/Rbj2nW9/7kIc++ZDzzzshqSgEAFIy5tbP8S5vRUSjxFd/3sy6tc1849KDUZT+C2rt0mSVqTNKKIwboHuQlJLPTI3GSjvUmUlVzjQFHjy5iDUFpVyrtSKFwE6I+7u6ubhiz7aY7QyEEGcBxwHlJHS7UspLB/tceaFyLyMc0FGN9E7GoQkMY89Os+DJFjAhBfWFxh4XKPGYHqBF6km1tCUqLzm9nNi0ZKd23v62SMYa1YYiCfTmf7iD8LWEeP/ZjaAl59kDcBgKX1pTwJwTN26X8DvQwI2B0rjex0dBAzWhOo6CwKapLFsoODG8kutsHgyRPb3XUHwimYTFTIJmYmaNXDW3hmny0Pwl2DuC3P1CFx7NGlEFAmc08CXyCdx52AY8Z50Y36+3ghHZWGlq/EsPIabsxzkH7MuhI4dn3C5x8qA7bKAoeNZ1461upcsDCye4aOnwR1OnWUhUNkcMVr06n8pTjo0XhQDwLGvDnSBQAtgNhVC3yR9q12N+9+Sk8ydeW6rfpJSS2ZqPR3R/tNa6glPxcX9niAv70V80SIOT/PU0qIKigw1+s0xBMXsmM/863MnKKhsy1jdJ0HBzQ1kIbw7ptRo3+Ni0qJVwwGD4OC/7H1GO05sXZzIhhJiFlVLoWeBbwJ+BC4HnhuJ8e/1T+MyI8JgRoEWaTFOcXGjz4N6DVfDDRnsxFIktJX9YyCFprdg1ahcPBi1b/Gxe3EYkqFN5QCFjDynlKpuHH2rtKUETJtiCjPVnSAS3m/OWGc6smRUmdw5r4+Id36Q4RRUu/F3pgqViClzKzk8b9N68DaCJjIJvjGbX0FV0GQoCnRHUDHkDXToM74Kf6x186q/nyZIDdkLrMpPNJP/zkemaxUzBKGvq2gkEwlz8RQiXliVpgoS6ZbXs8+1ofmHD4J6W1T2awCyRxzFuqZrMH75YypyPFhKREqqX8vvqak7yOnjtiiuT2hbbPn5qw+TzH71MwwcbkbpJiU3y4Vc96JMzu2y9G2zkWpc7Kb9l0apGpJleWsKlKdRvbmKY25nkWxq7PzeOOJhHV63hqZVrEUVwQWsQIeHPene037DEg7BZyA/LDNz9yKU6o7uGepsdUOj0qPziHJULPw4wuVYj5DT43+RCDDX12SqYWimzhy/qdbK2YWELaz5uQkSVIxs6Q2xe3cZJlx2I05ObSOOSyp6mQ+iNK4FTpJTLhRBXSClvjNYOv30oTrZXC5V/1fz8n9ZFRAAI3jWD/C7cxqfe0Xj2UMGyeIQL2whJqNHEpfXUxt44KsglDmtmLaXkZTPMnzQ/7ZicrDi5ye6lQux8DVIubPy8hdUf9XQ6zS0BVi9p5FuXHMSzWpgP7a5oRLUEYeDyrmNWzcDTSO2qjBIqVkLLlHdZCpoKNUh3c9phjD+qnIZNXUlCWchusuDwdn7WPibpWfS3BvP2BkwYugltvQuUHQUGJboJou/29dcfMiZ0DHbgR+HwDEUZgKAdtpTbohWb3DzfVD0kFX76w/Zcd6LG94HJVbwIHNSgZ9V/2wzB/pu8VPy9Dt/J+6OPilYEcKRXt0kiKqjdvn4RD324OKpZtN4ZicoCf4S7n3+KH/lKs7a1ZkUHDe/XIXSBQODSBBVdErtuotlShC4h6XBHsAXDSfktw0VBNFViS5nghGwmm4drVGYo3HHzyEmc/583eWvLNiLRWN2FGDikiFYDS0TB1EpyzqXaIk3WRgXKGI3FKr89vRCbCNDk2o9bg41kLm0n2FYEZKnuqUeMJIESwGYqaJrJf99fxfTTpvTZPtjxldZ2MiVSylgnFBFC2KWUnwkhjhuKk+1VQmXMfKIZJi+s3cCtC97DFMkmhloVfuZs5XeR8n4fP5ufTF8+SkPxgq8xdZ7QAzRhcqriZKbqwiGstC3Tzp3Eq58uY/OWMJoKyw7q4oyKEmZWWh3Gr/Rufq/54p3Lo0Y3z2o+FnlGMmyIahUPFlrISBIowSoNFg6avPHxKl49fgqPNC/jvtIu2rwRK6K6ZveIouwv19k8zDX8mTWzgdyysBu6ybqPmtm2rANDMymt8nDwiZUUlm9fsE9huYujz9uXDxZsxGiHLo/Bh19u57SRxUnPoj+16ROTPOfi95cNIQSmsJI0pyKRROySv3+jkVnN1kQk9Typbc70/ffW/hjbex2pNK73YUtxfZFAl1th4b52a4GAX5Y3cF6G/XNJTdNfMpliYfAG/XHVG0CYNBcpjGo3M6agF8CELW7MRz+l+LFP2XKaHe2GUwDiwhuQVDI2kfUNHZiYpOWmReH+tk0YZ1vvc+q1+v/6KjUrOhB68jM5Zm2Efx+e+n1Zk+Ax4c60vJSGbvKiKsSLuYMAACAASURBVNPyupqqZMt+fl5IqQ4H8KNln7Bg81b0FBN7WGTLBiOpKVBRL5jWpztAQJpkq4WsRxUTp6pOXjSCJE94Jdj8jPVlz0jjawkTVk1cKa5adkOhtmUPrgixfWwQQkySUq4AlgPXCSHagfahONleIVQmDg6zGlfx9PxqOjr9mBk1ESrP+Vp58PrL0tb0lrerN8frxL8zdSyDzUt6kO9GOtCiGtiXDD+/Cpl85B2NWwiEIjjrqEMgQ5alDmnyO607xWyq0KWY3NS5gSe3I8DD3x6hcYMPIaDygEI8xbmnZsmVzsYgIdXEndLpOHWFDc2WIHXt8ClcC1kjqtebOo/pAbZIg2MVBxfZ3BRtpzDtlybrpEGlUBi5gzS+X1YcXBX08ZgnWkFKCrD7cXtzT/BfPa+Wxs2+uJDeUuvn/X9u5ITLx+MutG9X+0pGuDnz4knx35dk2KY/AR+JwRnbY9pSVMGq/bqZsNGL3ex57iaSmuFhXjy9kevMEVknIrl80321P36snFvdO6FujS3L2tP8Qw3gnYMcGGp0uYS64khcU5TYr82pW9oTpe12xk2wA6XM5eae9nUJjUkIQDljXJ+Tcej7Xp+pulA1nVcOczKpVk8qExsrIiuid0UxBZgwdr6G6XqZmWNzm2g+rQd4PVbSPQlJt9Nk/1dW80u9m7vkp1Sh8FN7ARfa0ivNxCgOSW56o4t7z/TEhTDUMK6CdcyuGZP23ao2BfvJJrWf6lS2WX1qa7HOY2fXc/vIY+LbdVUWcO3YkwC46Jl/kN3JJEMlL8VgTEDPyWw8Rqio6BhpQrZJgWgDxjHbVsgCzU+XApYwboCQuDybmFWbvW9yem3Wc0o7sqS+dM9zYRokbsfKUQnwU+AZrMTn3xuKk+0QoVII8ThwJtAkpZwcXVaG5Si6D7AZOE9K2R5d91PgKqw+74dSyvnR5V8GngDcwDzgR7KfiTb1dV10dgaSnKCTkYTtmT+3WJmrTNqDXJ3uB2vgy0ZISr4XaU8SCiUqW1S4uWMdfyo9sNf9l5saujBIfzUU5m+HcirmB2NYuXtZ+mEj3V8yueiY7ANHb8S0Qan33e62IWTmTqexWMeQkvlmmI+MCFVC4Tybh/KEe/WWEebCcBsRIQGF+WaA+yMdfKBWYG4OYBqS8nFeXAW5C1S/1br5teZDizq+u5RO7uuM9MvxfaD8pmwChzdVM6u8mYZCnbF+jVnbctPMBjojSQIlWIEdmjRZ8OFqpp+em6lpd2T8VAcNXRHKOxwgJQLBpqog+x5pY3756Tu7ef2mszFE2GbiSil9acMyDQNWeT1PPWP9Im7VmVPXE42eMe0Pll9fyGjsf07IBM1fNgEym/Yy177TKQS/6e7kljE2Hj7Bw+XvB/FEJKoJYYeJK5Lu5GAo8Gp3e3LJyV44Q3VxgyYy6OYkpWGd7+mdxMTvWkx+oLXzmW8bvys9iNGTSmho8uPUkietYzo0igoW49Rd1Bea1nfbi0VlxgGHMreomvs9m2nwggeDWc1jObO1GOOx16z+srGbWJ3Nb5aN5l02kK5djSlGYqVFLa2j07uJu4qPzel+CCG4MeDnPo8t4TgGQtG5s1OB4VYZ3yWekdzWsZ5XPBpBd4BRRgu/rO09mbun2EFtZYjRDa7kaHK75PNDO3Jq396GlHJewt+fAkPqNL2jNJVPAH8EnkpYdhvwPynlr4QQt0V/3yqEOBg4H5gEVAELhBAHSikN4GHgGuATLKHydOD1vk5utlgvm/HYa7wQbOplhgZgUiGbsqr4d3Xn3mpTIyzSnbZB5d8ewZ/62L9SqFnKykkijszmn77obgvH/WASX7iCL1QuH7eQJ8YcPqDjQnqt9VIp6Xr9HuztNlSZ0ulM6eJQdzfN7d1oCMDg53on5xZqTDj1OKSU/PGlz4iIHt8oUGkXJjctqeFbC62nr5oCDjU567i+haqXjRC/1rqirgTW1YfMYn5Y1tEvx/f+YmgmQhEoquBbFVP5FvS8vDn6jvrbIhm1vnZDYYMvxyLmuykzx0xl7snVPKHXIsJ2It4I3xG7VzWfRKzI2AzR9gKaCxUQGnjrcNsbmLV1XLz/i02O+6pbHfuub6manHO0dFI7MmhpYXD62yuGH0JJUzWzJ63n+0dKyjtt+DwGV75RzpFLSjJqGJu9uesqhgmFa4OdPOwuSlgqsLu34eoeTXtqxVZUnnK7ObapmpkTD6V6RQ2hJhO7LtBsEingkXPquLdhnPW+5fjdxuuzx0jYPnXyPV2a/DCuq01qNiMcKzi0a3/edkkijhAjaOCuunLO1Itztqz9bNjBlDcv465iHZ/NSYnRxZ3t7qSJdLFQeLj0QB4GS3bNMQ/vyKNU1n0e5IAaN4Zi3a9nT2nicvse5hS/HQgh0nOYZUBKuXGwz71DhEop5XtCiH1SFp8NHB/9+0ngHeDW6PJnowk7Nwkh1gNHCCE2A0VSyo8BhBBPATPIQahMRM1opoCYz4rdXcM9TaW7bdCGV4istYYjtr61COMVGw4RICK9JAumJpU0ArlpFhOFvX/f/zJlMvPLFq4bxk/Hb2T4iSfEl/UWqJDJxy7Vvyt4QQHacz6GddoxFYliCp4/uQll5EE0tncnaKlVJPDvbp3r33ob84ij6DINUmfvUigs2sfBJR/1CFLhpfDy0c2cc93lvbox/F7r7sXxffGg52P0tYR4b94GZJtACli1XzfjpzoGlNTeU+rIGC2sKSZrRu/ZQiUQTb6+Z1Bc6aKzUMPW5sCWoMnXbSYLvr4WURFhTJdgVv24jILzQCwxuxJxgasb6/MOQ8fEIO8u34ia4tOomILmEf2LYrurbCITmpZwR5mfNhdUaZ3MaRrJ9wqzDLHSzh3Dt3GOmMq0b03i5RVLWeDvorbUYNvYbm7tGtoytkVC4Wf+Tu4uKOzxuRYGTu867qqrYGbF/glbTx7QeHjN8ClcE/uhMGhj6swxU5nrrOY+z2a6VAWbQ+P21j3TL347WE9GP4YkJOmq6u1mZ/pUVkop6wGklPVCiNgrNwpLExmjJrpMi/6durxfXKi6uVf3kSowoYZQSlbyyOadU5N6sJgsbKhCw5AKye+TQTnNwESg94jVS59+kMe7fZh6rO60xO7ZxHnOfXnghBx9nR57FfXqadxbtzzuzJERAS/4a7guYVGSkJiazqM+gznOnRzVar/gG2wp+y/PbV2NXygYnghXLzmIoj8HuUIPsGgfO88e6abTY7VVShv/Cq7hAtsxWQVydyR5JmLXBfojTbz57EOMOvNgDvzeKRR4LP+AxAG4mWwRy5Iar5pzBHYuEdDhVj/vn/IIhAUqAiRM2OiloSvCrKs2UHziiWn79PYsi4D1781m/y0enLp1r0wkug2WTerMreF5BowWMgh0RHAV2XNOlZINIQTFx8HmT0OMbXRiCojYTZ6c1sgd3SOZ2RXt83bTyfRAKBnhRkw0iayyfpvC6u4eO7ue2zpH9/teXFJxqOUXrBPXuv0q1Mw6mSHvlKKzrcgEn/VsZkw+lBmJ64ew6FVXc4iGtV1MF8PZt7ye2w9opsErGRMIMrtu9xDOetPK5gEpcyyPNQTsioE6mW2v2ZdnPogQ12CZyhld2JMK4gZbAXND7ay3qdYhhQnCxFWwlj/tRgLlNtNgudQYJ1QOVnr8+4QQ3NHt4/aCaK1haZlyba5GftVcFP/4EgWfVNPWiJNO4Pq33+aF4BLqPQqjAmHOcU6m+IQebWImUp3njcde4yag2zD4X5b50qJ9bbR6+k4V05vwk5HzewKKPr7yeVoWbUVEFbVHr4swuVbj5vOLCduthjV6Te7Y7zAeVt4hbBaQOOlwaCanLUs2/QuiUeUtAdY8/Rnr/1vN9Pk/wp0ShHOc4uQfRoC011eYjPFH8F6dY1m+LJVWEv3cyp9ZyzDdwJHQdrupUN7h4NWNG5h00vFAcmqUTIES0FOtw3duGe+/1cgxS4px6IJ1o0M8d2oTt+53NN6zBy8yeXuoWdHB+k9aCPt1CoY5mXBsBcPGeHd2swaMlJLV7zWxaUkrYdVEMQQrD+hmwmFOZo4ceP80c9xU5rotv7s2h8Bu03eb+tFDxVknT+Glfav5b2cXzQUmdaP93Nw9atDuyS/shVwaaU3JwGCAdxtjfTs+bd3aj5pZ/3kzZrTLUVUbv6qt5KwTpgyoDGyeXRchhBvYPyGdUOK6ycB6KeWgm5x2plDZKIQYGdVSjgSaostrgMRigaOBuujy0RmWZ0RK+SjRepeHVZbEhU+3EHxaMIZft63k0SI/Hd4QY8KdzK4ZM+idq5QSf1sEQzcpHO4aULmsVAwpuV7rZK4ejFY8EDhEgPu7AlwU9Vf5XvkUKpuq+b9hHTS5VarC3cxpzu4Andm0tR93sF+PJi0IRFNZ9Ob/5L1qesbKF9qmrUz4UCeWsUIKeOZINy2FCqMiPnR3T+JhSK/1e2/dckuAiqGqSUJQNlxrOtjvi62oCYezSfCEJV9bG+atSU5QI4zxRzAee427u0LcXGRDSidWgWaFo9dHOHZNcrqKxChau6EQag4z90f3cPahycE3P7F5eUn3E4gG/ljzIBO7ZwuzG8b2K7o5lVTt5eLatdQa6RNUISVqyE5FbPIaDPcjMGJ/5h7k446vb2BboWSMTzCraSwzWkp2CYFy8xdtrPygIR5M1NUU4tO5WzjynH0oG509wnao6ZAmS0yNCqEwUelflPyW6nY2LWlFGCKeOmXihgI+KOgEdfv8cPMannRm7D81WUs4iK/NNNXFtcEuHvG6kaYTlAgU1OCxtTCrbtwOvf++ljDrP29GGCIu4qq6ILIcXhpbzYz9B2f8a68PsnVJG1rQoHJ8EVUTilBTc27m2RH8BCgBbsyw7gqgA5gz2CfdmULlK8BlwK+i/7+csPwfQogHsAJ1xgOfSSkNIYRPCHEk8ClwKfDgQE4shOC2YZO4DXpyQw/yx+1vD/POv9ejB4k7E9uOMjn7sO2rMfuw7uclPYgmBLHHF5FeflQWwZMQ+HFuxVSrlvUQXV82Mgmo3qumE3p4MtPvfoDCDQ6kkHy2r52WYgVn4VrmFH+dc0vH07W6iS0vLMVoD1F14gGU1qzH/t0z48dK1t7pGaNREytN1Pk3M2JNG7o0UVOrTehwQJPGW5NVXAXrmKFO5oETxgHjuP6tt3k+sJoml50R4QCH62XoNi+qIeLpqVJTs9h1hTcj7Zxz9TQCNR34t3YwbJ9yxs57l09cldzg28z7ToFmD1NBPfc0lCUJB1JKXjHD/EX30yUl01UX37V5sqYyigR12uc8h6fYES9PVtTdxiabiUNP3kcgCBdEkvLb9ScwIi6IxBIS7yKCiGlKVn7UkBSdDiAMwUfvbEpKV7Qj+Y3Wzf2aLz7ps4sQv/b5uXx4bt/+pkWtadfk1BWOWVLML4/ZsEvURc+TO3eVTeQrTdXMHr6VmmJp+a7WZvZdHUqaNvowzXQnOiHhzY6uZMF6gGxe3MbK9xuQhpUpoqbGx9JFtZx+0cS8YLnj+TZwSpZ1DwBvsrsKldGSQMcD5UKIGmAWljD5vBDiKmArVk1KpJQrhBDPAyuxvFOuj0Z+A1xHT0qh1+lnkM6Own3ZNOZ9/QHwCRwJwkf4A8FLRds3I/yLEYhGJydilbfKteLB9tLvJMhR0+2xl5/KlgXv8GqgiQ63QZXWwbm2iWw84lAeffwNKn+/HGFIFCnY8L+VhCtVak8fC/bMnZGlzewRLhPz5oWMRspcbuzjSjEz7B62SWpGdjLKtZpz1ElJpv2SE0/gGqzft1RNhu/Ai488wQcfr2NYq4Px29zxusExInaTTeUaL5/6a8wGQcQmcegCMVpy3ks/4XW72mvFlQVLt/D5uvZ4MuLleicPm118d/oR2G0Jw4AhqfzjSkpe30ZYNVBNwcoD/Ey8YDzTDi5m5ScNGEZPjd2IzWTDqCDXUNn7M9oN0YIGuimxZ/CMCXf1eMaYphwUK0EuzDNCPKB1JZW506Sbm0tMinOM9tdCmTXwNlPQ4AH2/BipPY74xKwrumAnTMyspP49fUMMKaDV06/MfBnRwgYr37cmebEzOHWFsM/ktc+Wc9bR26dQydNvRkkpazOtkFLWCiH6HZOSCzsq+vuCLKtOyrL9XcBdGZZ/Tq7hx70wkCoV/RGkvPPepiKs40rRjikmfFjv56K7B+6L1t1LWs6aQmJpyIaUxLZnMtP2GlRy6WT+mPDz3rrlKAGdkX9YHvV5tLojp6ZAo4HjobeI/Ojk+PZxE3iGfHllCTVx4/9P8OAt0LB3OOL1zk0kumqyfmIDV5zx/Zyu+ZxrL+eca8Hm13nm2Puw6z1l/AwhCTkkUza6MRoFDkPBHpULwrUmL9z0Z87647UZj3tv3XJ8wQgL19Wn5E5V6TANPn3zI16+qieMaf1fPmXV/G0Ig3iqn4nrvbz72irkeA/fuGQSb/53DaF6S3D+YlIXR+3v3eX85nIJPOpzwqKb7PPEmvi9TqS+LMJDK9Yy/P0w3qBKZ4FO84ku9B9km7gnk0swGqRr5h/S/Zmj/XUvPy/fkFM0eclID81bu9PKRDYXa1SkCJRhv044oOMptmNz7B5lVPPsHEaML2T5xw0Z19WO2f6Bo6MuS+EJTWFNw/Ylys8zIPxCiDFSym2pK4QQYxmiQr27YqDOkPLAGeMszVk0qjiXOrupgSy3VE2mq7IAgD+tXpy2vQhIyCD82U0FW8jGnITzx9ANk+6QRoHLjk1NHpQSB7iT57/Dv9auJy3wQw0zzmcS7Naw2RXsrh0/wMTuUwgzTSDQ3RnqDhsGNsC9op2QMHCT3hlpyztpShQ8NMu3scqxD5BemzcehJLgm7ntkkLq57UxeYMXAWweEebpaQ38dPQxzJiX2Qwcb2KKmdgAbKeYbFqkMa7BCtFcPzrIk9MauOMv+6SZnp26gv+Tzqy5+24CXjVCmGRKOK/ySagrad+Nj65FpBSOcOoKxy0uZvbRG5gppjL9nJ735fxery53pClpWOejbnUnik0wenIJ5WO9iKjWvN9CYpbAo35hU/jgS+18fVFpvI49QNhuUlcR4oi3nTg1656WdNtxz9PY4voAceOFSYfJVN85FsD0/UOPQYYtp4CiRmvgjRVByESrzHL9wqTOq0IOY+uEYytoebY7rnE2kWh2yT9Pa2JWk1VtJBzQefPfaxCtIu6n3FgaofQYwYwDBp5U/wMjzH26ny3S4HDFzi22AsYre90wsUfiKXHAlwwii6MRrtFo92dOa+LGwCirxsp2YHNk/iZMJC2Fffu/5xl05gF3k7lY2Ryg/wllc2Cv6i28V03nFpEu8IClcYgJRffWLce1tpOKP6/GvaYT4++baLpwf9q+uT/ETM/ZqmYaBuEDCzLm9wvZTbaNDiSl2JFSMn/eBywKqfEQ98NdBqeccQyG03LwT4zQLZ80DNe69YRkLMG5CULylYZarn19P96MrAUJ6/YJsN+X7Mwc3buGaqOpc7/u51Mzwr5C5SZbAUepAyufmKrBTLyftgx1c2+pmowpJe/bl9KUoSqviaTdayRFK8eIVfCoSBzcUwJQ4tHoyhbmHuFj9ukbqC+QVISIB5sMhFj1ijuLN1JbJCkPS2Y1jMWmZzax2iO9m16HoyCFyJiEOeRMvm96OLPQYtcEdQWSB44bl3G9LxihocNPkcdJZXFukQixeylNycLvz6Xx4zpENLXSlk2d2A8v5LxHr0/ap7fE19mCj3oTSPvSVkaOreJPFV0cs8LNlzcZdBTq/OuEZi55ozKtSolTVyhe0MbqazZnPV6iC0WZy80fl3yQvlG0cswtVZPTku+f8dFC1iyqJr34AIwJhHrPGhelaLiL4y4+gLfeW0tjp87migifHdbOdQnJ1xf8aw1Km0jy7a1sdxCcbzLXVd3nd5+JF/Ug34u0xzWtWwyNV/UAb7sqmJAXLPcIzjrmEOaOrub1zk7a3ZL6UX5+7B+caPeSKjdhh4kzoiRp2SN2ybKD8ynIdgK3Ax8LIZYALwL1wEhgJlbGuKOH4qSin1UOd0sOqyyRb110fNryQGcEf3uEgjIn7qKeCE3j+KP43/lPYwR7VEIRm4lydCHrfv71Xk2wMcp/9B9Kl2pxDUrYZtJYFqH+8iKKTrHyBd5SNZmrn3qCf3VGICXlxIXFTv52yRVJA21MO3pv9Wd88vr7LAl1E3YEOay5nRueHZEk1GiqyaaqEG2XlMb9BVNNeptaO/n6v16mOxKxhBokApOzw34C7nK2SIOjFAc32goYowy+5tMvTc4Kt7FKD3PfMz6KAzJpKA7ZTZ6eUc/Ls38bX5aTD2cCsWseSJWP/vLYM4sZ1ZScYM5EsmFsgB+e+5Ws+0kpqQxvQZcOhndJrng/wOQaHV2BLyZ084vjvxQ3bS78oJuWhWnWDLZVhPnjJVu5eObNtIWCcUFc6joLPl1P9aZGTKKBI0qQy4oURpzU40earQQfQMFnTYy99WPUFA1pxGay7LsuHOedCqRH7MfIKOjn4P7Rm7D569plzP10PetqW9GjEyuEQbF7FZc6JnD4rwJpvmOxNm94/Yw+z93bNaSSeE2t0uSIQD3t8ZrG0Wh/7yYeaSgYlMHb1xLi7X9sSCpTF0MXkteOb+aRqcf165imlOwbqMOX9p1Lpmph3iraZ+ANzrPX8NK6JfjfFbjDihWcaghePL6FGZXFu5wLDkDZb19eJKXM3jkPMftPHivvfvEnacvPP+gHg9IuIUQp8GMsV8NhQCuwAHggVhZ7sNkrp5+GbvL6iyuTAiqUUZLpL9+M4lCpvvlVtJCWJOA4dIXIRz72e38xF513WdpAlyrsdNxzMt0P/Q91YRfCVFgx3kfFV0fFBcoY/+4MAakpR1Se7QzwN6wBK/VcP/nqCfzRZSd2pPJfLkQYNZCS5mZcvYuX69cwpftoFq6u5YnAKvYfWcph40dQACxeXE+3pkUFSgCBROUlZyGYYUCwxvDznBlk0cXfZsQL72a8nytMjWrTypl5tOJASQskSnchADhv/jyWrtUwVJXfnFHAbf/pxm5Y6cdVafLGUW1c4ihPEghzSbWTyI6s8FF+mELoLRObIbCZAk010VXJ2CmZU8ok3pO7X/g7d2xtZc6/das2sQTVgK+s9jC/cxPT3/ghblSmfq2RNy98ClMzUaXAEBLNZplGZzonYwuGrfJ5Uc3wigXrWdbSjGFPCBwxPTze3cmTf/qYwneDaKgMO2IME244Fu/YdO3tF6sbqNHSU8VKYMuaGqY4qqwFUQV3qjk5pmn/aen4+PXm4tfc2/oSzc8G3RcNbFKjBbEUukIHcFhpMQG3j8JAevfWWqIlRcHnSm/vUWLE/DChsMgzkh93bmCeG8K2MKXSx/ebSpgxfHCi0UN+nQyGEABsUuD19d/S0IyJL2Mwk2CpPe+rmSc3Zoy3rDhP6A10qwr+ktCQVwfKk52o4Hh79N8OYa8UKufNX4HZqCQHVNSZvHLDo8x46Do6VzbGU8ckoquSP2/6jI31h8WXxTQYGbUx+26FfRMPAMzbEjeZSSkxszwCEzuzWlcma38SsnIm7lVcG0iqc53Y3ibK+ef8xdF654Ka5nYWLd/E1ed+jbdq67Nkj08cXBSC0uTyx5/gjaJ9k7aKSMmlkQ7eMYJoIpo2iQi/8fnS0qdkEhA2BpviwSlby2384JJiDq7T8YYN1kxaxX0t2XNr7orMOPhQXnJWs3BLkNI2B83Dwxw+1sOMffu+hu9+82KG/fQxhNGW9CzthkKoMcw99z+I/cIToRjsjx7Dvg9+Tt3WDjaOCPP5lzr40YFf5dwZFwHWe/VhXQNvLl7PW/XNRDzpgSPf+sCBtqIdf1STXvPfNWx7Zy2bHj8OvSLZ3aAs0sawaLnLRExFUl9kkFoBPZbOKYmUnKIhYaJePa1fmstEnjCCRNKWKkjDw+0tn3D3lFGEvzCTTOBhm8mwyX2nNfnIiPCQ7qdOGpysOjlbdbFOGow+42t8fdRIIimdQ+o1lAiFv5aM50U9yPXhdjpECXMKBHeHtzKr28f3y7cv1rBouCujew1YJTQ7ytJdTfo8ZgZzfQwzVUWdJyu10uAerZv/GWGKheB7qoez2xRqV3Zi6CYjDiiifJ8eX+TdCS1sEAnouArtvaYHSitvOoTVgfLseux1QqWUEnOjkjGgIvCJFRThVXS6kWnRlzZDsGqkxsnRoJO2UDC5Iglw/YTD6MJy6s82aBqPvYZ69TSEENhECF2m+wzaRBBUFd0BPy2fkLQuNahorVdltWpmMIcJ6p1VKaUHVbpNk3f/8y4uZxHBcC4DhsLnDjXJf8wlFf6w8Ave/qQ+mj4FkKDj5OaScE7pU1KNmoYqWDbGDqhQZDBT2X0Eyhgz9p/KjP373i4ToYCHEr0j47o1dduYEH3vmkabBH9vmZyLsewaa7F8b01T8sI7y9la14Yu4f/ZO+8Auaqyjf/OvVN3trckm2RTSCUhCT1ICR0knSIqKH4ExYKIKCigFAtFFFFRUUEBQUCBBCI1hBBIIIRAet2QspvtfXf6Lef7487MTt2dTTYhgM8/2dyZW+fcc97znud9Htypg1dOyOT8jWEcce1FlQJdk+T+9m067jo34fvdZw6h6PHtqT8YUD/Uh+6tThGmjy6/x3Npe6UuJNtx9oGGV9rBl265XVLnEez8xWxsf1hC8fIABd12WgvDtJ/tQX79bO7r5bhrdzfx6of1sUnYOj3Mr3UvYMDzL6Ci86UiybALIs8oXqw/7h6au/w8vGQDuog6W4GBwq25+QwpaecL8y+Pfbe3IsF0cObYYLyBuU1FiVvil0i6PQazivrPFXYLgUdtwWeUkEzFKVHqgNH9PuZnDS3S5PRgC+3SxBSCRgmvfNBI4eogqokllba9HdsQycwLJ31iAktDN3npxS3IvQJdBUWCcpTBnBn7LxFk01fXogAAIABJREFU6CadDUFsToW8UudBeRZRm2Cwkj6HggL1P+xnUCmEGA0YUspDt7Y4QFAXzMR+/9a0nzk0hfsuGIFrdAFDv/8OjjiOYshu8s7kLop0GRsoo8uMCXyrSIVodKBIJybtWTCbYGSEvrYkn/tagvR05BYHa2ZBD2/zrvaqWHEAECsQiJ5jxNHF7Fzfgm5KbJFBJmg3eX56EJk2F6mwKahxyuQhvPn+ziQLsfSOmMnZiqAweWjztp6AMu7Ypp7PbWU7+9TMnK+6+KvhJbGoQYLNT6W3b+vGTzqSA4npYZ11NhOXnpoF2DQsxKNFY7m3blPC8nYy1u1psgJKRMaikKHtJroCjqSCTJspMPemqkxoQ3LYM8vBiBfDGJEsnSnggUtqmZVnLekm8il72ilF1pZMgVNfVeOZAtGJw0pYuX0fKQUxis7wgGad+67+ZQSDuk7lc+/FtEIjB4z8a4sFhk90BPnOi6+Qe35EnkhV0d0971BbMMA7uxtJDXkFoHBz8wa+0K8rS8Ws8ybzQuFGAusFeQEVQ0g2jPUyaZKT+RX7Nxn7TYfJd0raMMIlREvKba5aftWUe9gI3h9K6JpJsEvDlWfLSq7pr7qPzkhACZDvN7l0dQh7nJC9U1MI1pu8sH4Dc6ftf5X+ocRLL2/GqFZwxq/sbYTnczYw9/j+B5a1WztY/3odIcUEKej26OSfJgfM0ScdXFJJOxb/DwOPrILKiHj5H6SU7wgh/g/4E2AKIa6VUj58UK9wgCEUQc3gIJUNidlBE8nuoQFrMKqA5y7fQdPzDZR02NFskqXHdbB4Rgu/y5vBRZEgMjrgZczAZMq+xMmp5Mw4hoteW85/fV5CuHESYLbHyYSzZqStZvY9vDjG74q+JM4cG2d8ZSyvL9tOZ4OkK8fgvWkdzPjcFF5sTK9hotk1Pje8jMCm7awKYA0iUrFsxMxItjD20AxKRH3KTC8YyKyPsi9P9KmZebM9l/+GO6lTZeR8huXD7vmI2/ZVfuYGsmGTCvlgdX2CeLmmmtSUhwjnhXBJJaE9dA3KTZG0en9Pc1JQFIGUIASKKel2Cmxm6uTBRFJTHqYktzJ1/x9dyYYjn2Hjto00OB3UF9s5Lmc8gdNPIZQmIIznUoqgRuGyWtx7/GhD3HSeVYGZH+H97ae00OfGD2FL1T7aTYOetgNOz0fMs0/qd0EXQH27j7DU6b1bFEjTwX8Cm/l6OFrolBg+lqNgBg3SRvVS0OxMDFCCwuy3dq4QgrnTp8D0nm1zst47Pb5QPg170zpuK1vLPo+dYb4QdzQNvH3t4Q4pJdtXNLFrbSshRaJIeH9yJ8dOzGH+4MzPYqUZRo/LuOWETT4YYefE3VoCncqlKaxuDjD3YN7EAMHQTORuK6CMh1NTqNsehuP7d7yupiDrl9RZFqSRMcbRYaf9TZ2FueuYP2jg2prx0IsxDr7vEHLrP+vINlN5FpaVIli1Emdj+UYuAj5RQSVA5+fzCT4eQjUE9riCCt/M4p7l7KtOpbtyCb/r2EB1oUmFT/BVxzR2zDih5zuRJb9MVa/ZYuK5M5iYZnuyhmZvMy13np3Zc3oCjm8AdMEt4iM0mUPiAGdQRiM/eLmaH1DJU93r+VlpEw35YYqCJh2hI5DhQhDWTNLmquOeNNmKWaqTRwwfKdkiNUilt29dsnyhsM4zjDvat/HPXD9dnhCDg14GtYznW3kurgk0cKHq5pf2vIx2hZ8m2F0qtnN1tmzSOXJPDroiWTmli+fOaObXDVagF1+4ld/o5aaisbH9763blODgFA+bCZXNOpXtOh6liW0jBRP25CQsgWt2yeqjO/h80r5RfqR5+rHsdBawr74dwzB5zStRFr7DxQU6hWdb1cYJ8k+GgaM9wLHXr6Wzpg1Vs3iNBQ9tpuorLuxfTOt9AMRVo8dl6OPhtNu4es6JfLBkBSuDbfhdQYYYLVxsH5/gjpQtbqiYTHVuNw+TRZArJI05Sq8FP8N1nW9iJK0CAAgqwt0pE7QDzaK01/nZu7aNUMCgfHQuwycXZdQN7A0x5xc/h9Te9UAQL112IIj2tx/94312rd8W8V633qdjNxfwal4b9kmdzGotSLv/aGHjXUJE+8OGQht/O8PDG5N0fvSiF1tk7mUISatn/3Qb0xU8prvvdPrLvRl4ZNJr1kIGaUQUAMj19X+hs3pDO6YpUeP6KQVBTlDhUa0hK3OA/6F/EEI4gK8B00hSI5VSfnXAz5eNpJAQokNKWRix9VktpRwa2d4lpcwf6IsaaCRLCqlXzeTZvz/KmjeqKG510FIW4oQzx3PR177aa8eUTlZkfwsNDhX+3ryBGwo8SMMVy0ba3Pv4S5MjYwZiYdM6bi2rpzbHxjB/iDua01fvtUiT6f562mLyKVa2yJW3hT/WlqXsE21rmfgz3dLkuGALLdKIq0g3qTQM1nqGfWI4SAeKhU3ruKO8mpr8iE9wU2XW2aLnPjeery99IyWYyQ8Y3PhKE6uP7mDE0ZUoGpgvt3Dstlwk0J1j8K/zmzh+7OiMQdl7VfUs27A3KRNqoqh+vlOgJOwXfVd23Luc7Y+tRsQVlphI6svClJxLxvuKHwD7yzk8EAwJVhGSHtLpTEYh0BnmWst6MTvjd8JSMt1Xwx5VJZb1FwY2ZwN/aVYHNPtXvaGdTW/Wx/yWwzYTmxvO++qEz5zLTrTddA3KRTg9ADGt0XgN0ngk6+BOmPMK9rZUeonPafCLa3ZT9X9/TQnsXFJhbVMz0/+9kOQMtVOTXLHCz4ztVmlZyGbyl0treLn8/P26xyiyCRLhwOTUpCl55q+byA0kBpAmkq2jffxwbv9SlWuer6F5V+oSlt9p8Jd5DbxWcXaavVIR8unUbusk7NMpqfRQOiKx+Ckc0DE0iSvP1uu48WmXFILYSvNUYDFJLjpSyjsG4hzxyHaqsU4IcRMwgogKeyTA7Op1r8MUxkMvMo9S5p1e2rNRT0yXp90vTQr9cOdpXFk2haKmddxSuosGt41hQT93NPUudhvLVgToNVtRKhTW5wzhlo4qnvGE8buCDDVa+FltYtW2FjJ45eWtsFdBkbCnIsDQY2wpzh/P6AG6pI5MyEoqVKuSe9q28OOSgZFkOdxxID7Bc1du40+axod2sH48CQJCg7Yx5OwSHik/I+YdvXBaNz8/YxetTkG+YXJbcyXzA6MhQwZuejDd0rqCaeTwnH89G1/qKeaIvivVz1QlBJTWHoLyNju/8uzJyLuNDyIP5Tt2T7ef6wtAhD04DAjaBYppFZEppsRmwqjuem60De/1d3EIwTue4dzYsYP/5AhCNoMymri7OXu9Pn9nGEOT5BY7EBm8y3XNZNOyeoTZI4Pu0BVCAZOX3tnCnNOTa/M/3YiaWFjcdit4uSmOi5xJjzU+4FQ7U3UFAHJCCvs8Jj+v35B4nEix1p7aFtJx0kN2wVvj7Zyw2yrYWXhGC9+ZeJKlGHiA9xpF8rg1UFJqQhE4jpaEVps4I1zvqIzZmIn9l64qH5XLvuqu2LGisOsCX2F2qgWtNT7eW7gXDYnDUNi2oQVbseSCSyexL6Rxw65aNpQ6yAuYnLnSx0kVIeZO/WTwVw8SzgdGSSnTV4EOMLINKhdg2fpowA2RbScBTxyMi/ofBhZWkAJY0pMDuqTlEQr3F43nfrCqg5OOL6Xktae2ITstqgHAyFo3gVaThc51zB/eM8BulDqhDMvcfyvo4scDd9kJkKakZa8PX0eYthKVBweZbJEGUxU719k8nyibOlUIluSN4L7WLfyxwE9HjsawcDt31KZOJGLBa5rfLR3SD7UAktpc0kZ/mYIhgJoCM5mO+LHjq2VTyWtax0vVbYz/qJBhbSZrRzpYW2mn2GdySlWAJy5oZ36RVf3dJA1+onXzkhFCBS5SXdweoWu4hOD3ReP5fezoE7N69/ydYZYtrMLoAkMFXTVxTDfTFnY07OhKW5Xv1BX2NvRfWujTgHRZ7XiHr2TcW7eJYkckQFJVgmMLyNmWOv7WlYap8Al0hy1CyehpvJ3+EIvf2oKKgpEmOVxfGuSRmY20lgf4oXdoxiX0/kBKSUu1j9otnSChYmIBZQdBrmjuiVN43rWeXdt18rvt1A4OMmGck3lj+x+oDT2ygI1r6gj5eoLUoN3ktRPb+KF3KPRh9iVNyXuL9yIMEaP6ODWFUKvJE6s38ZMJJfhHujBUQWOBSk1JAa3r/Mid6w/IvvQTjmogjU/ywUFWo6WU8iPgy0nbngGeORgXdbjB3xmmtdqHalcoH51Hi13yZ83Pu2aYMYrKNTYPRyrpBa4/6+ioD6B1k0D0jnJotIV2bjh2BZ87Ipf5g6cxSdiw3LWTemUB7bmBWIZtIBHy6bz+5HbCQUuH0RAKU4sUFs/JZ4s9zHO6j5ddZUz7BP2+Qgh+UDqJH4A1DRygicR8xcVvjW5SObQaw71a2rqUYZMK2fx+Y4KElyEku4eEKNIPTzev+eXT+HyOxiurduDUFE7fFub0bWF0RdJQHCZQaDXEoJScHWylThqxit9HDB9Lw12s9QxLawKQjORAR5qSZafeb03CpIhU2yqE3jZZdHQLFy24ImH/9af9Ni2LViJpzte5r59STcnIxLWLwpSSZWaYKqkzXtiYkcH84EDQLA0e0v28b2pMFDautuVQuR8TvUwUip8mKRC03ZLDyiufRGqWrFzUe/3pc5u5s2gGl5YcmXK82fW7uXNxiJ9elE9XTtL9CwN7bgMvFETsKrJzSe0TW95oYO+WdqRu9al7dnWgDpfMnntgOqjpMHfqVGsBNQ36q+AgzhmO6/fLYLOXdo/BuildfPnYY7lsrmVRnfw7JdsnDzHNWJFPFE5d4TGXg4BdYKjxqi2CxUfnkLeuiXlj+nXLn2gIIeJdVh4DnhdC/A5ojP+elPKNgT53xjdTCHFlNgeQUv594C7n44EmJS+bIbabOuMUG59XnDgiHeOOd5rYuaYFTUgMRdK6SuWOiwsIKQJDCNYYIZ42fFzn7+Snkc7mk4ZwQKe7JYQ7z05O4f75fmeCrz2cVtZIIHAYgpM/LGJVuAuUdVxSNoUf6W2YEekVCyaoQYYHvFn5JvcXS17chvQpuMyeoGdYq8ml7wV47JQcQgK+4atndV6aimjANExa6wOgSQor3Nidn14O2/fsHp4Kd1Afq9a37BGdOR9xe136av1RxxWzbVcDwTYTxbQE+YNOk7/Pqef2psO3wt+Va4czderXSEo77IBg60g/j8xs4M5m67pfMII0Sx0zia5Ro0ruatvKLRn6g/hA8ud1iUupng+bqfCHccnEdqSYgpVvbWfHhT26uLa2IGM7NGxp+J8S+PCoTsZHzpPMG0zQ1+wFCQHBBSMSuHptgSAnP/Iv6nUdiUAgGWKYrPAMpXCACut2mzpnhVrxShNdCN4kyINGNzf7OvhB6cDQYZKDmALg5C+M4u3lO2nrMtk7KMQ7x7XxbTGIWa0FKd+XUnLiuzpFfskNL3u5a1YupgBTCAwFRE4zd7fkD2hb72oOsndzO8LooT04NYVQtcmireuZNzF9BJhtoU+/0E8FB+m2EfiRJcf10/g6BZk5oIx9RRGQYdKys8yFrqZ+phqSsBygSP6Tg3QF1Hcm/V9yEARoe5vufSWL/SXwiQ4qm6XBuaE2Gk2NoBCAiSp07u3uZE5oDDvXtCSk2heemoMjICkJmTQUqGg2BQncn+thWnEH8y68LOtzu+KcU+JfnAN+ybPADRWTkVKy5Z5l7HryQ4KKgWoK9lYEGX3FaGZ5iwbkPHklTkSm8kGsGeZJG/O5+6TdzBfTuNPbwc2Fdky9AJDgasXt2svtNQcegCTPqE3NgN9twZbE+XOYcHJVmMdOsTqinTYb9yUNqKoOlz74d14PG4SKBUPbDb7yQi0TKkLMOXn/RYEPZ+QLhQ89w7i1fTtP5obwukIWh7auIiNPULUpzPzSJJ7fsoFXwx1UDdJoHeTn9tbsi48ONQzdpKs5xFnlE3j9vK3ck7eHvUUmpSHJnXFFUxtNLQNdQ/BwQTe3RP6XPDBGNWqj73n8Uqqz3ptWWdZuClyBxGy5FCKDIxb4XSZjxlvjRUpAGYfoUm5fGcko4rl6l3btps7uJLqyIIE6VXB59x7+mz8wY9WtWjed0owr3LP62zvzXYzOwmBhf1FQ7mLWJdll/KSUTKvWUSWMbjb442OdrB1hx+cUjK3XKZuZuSBtf9Gy14chUwdwmyF4o7ObeRn2y0QNgMz0AOhdZ7Y/QWqmYtdM6ibJvFEpJU85DFzh1PeurMtkX7FMCTp1VVBXfrhXPwwspJSj+v7WwUHGoFJK2X9djgwQQgzHSsEOxmIA/VVK+TshRDHwNDAS2AN8IWpyHikMWoC1HnqtlPLVyPZjgUcAN/AS8D3ZRwm7UlqY4AYT3+ifXVVFdW18cYiKIQU/LFIRy2soNRITZKdvC3P1m350xSqmfupEN68f5UKadn7c9g5bW45NSwRPiyTruth+bmcCcby3QSH+GNlKG0Vf7Op/b2DXU2sROrgjA8OIWhcfPLMD7RjnfneE8cFbkZTY3/k94X2hBPmaeOg2SdiwoV41k+/L2VQsepxbWpZTky+p7BbcVrP/AUhyVigeImwyNkPLUc24D4SB7rAluDOc98g/WK0ZaHbrnmqLbdx3Xj63LO5kUcl65k34dPJ3nEJwT/EE7oGsuZhCCOZNmpo40B2mGcr6HZ2sfa3W0t6Ugq5cwQ2nDmVeTqT9xV33OMUWef+S6RqSDk/Q4jCTedk1XVGgvzPM60bqJCxoN9k31M8j8RJSgU00lIapaHLGdE0BwjaT5ce2M/r0mVakl2zQEEH8pDY+Ok0OFNIFCVJKVj9XR2qVvMI7dlfCsrsI6JQ+/hEFS+tAQufZFbRcfgTS3fcS9pLnm5BpLCmlkcNPy7ey+4K53FAxmar2Dv65ZQcd/hAXjKrkjGUbsR0itQghBFJIoto7DgNO3GWZRYRtkrkHIfC12RUMRaZMiA1F0pi3f3JFvU0mMoVkvQWpACG/TsOOLsJBg9LhHnYO3skDhp+1psaRip3v2jyM7weVQQiB+1SJ/w0rsBTSWvUCmL0+xOZhDsJxcy/VkIxo1dg59gCroj7BEEI8L6VMkUUVQjwnpbxwoM+X9a8phCgBLgAGSynvFUJUAIqUcl8Wu+vAD6SUHwoh8oAPhBBLsLSTlkop7xZC/Bj4MfAjIcSRwBeBSUAF8LoQYpyU0gD+jCXDuAorqDwfeLm3k5sC7mrZljZo217fnmRjCKBgasXs8ndQnvTZhHodu9njRvKl9wI0F6isr1SpzzNSCNxRpOvUIbnD7tmvPL6zjrinZDpG38dNj12PrUFoiVGVw1A4ekcuPztrF7sv2E953mh1JICqIh46l5KbX6X8Aw3F7OkEorAZAptN5966TVbm5MQpXEFPtm83pFjrpROFT4d0FZLxQe/vhy5iRK07YVDWBbw/KkoDMMi3NYCq0iSsUpXv7vmAd/06ZpL/rabCy1PcHFfXwWX39k/M+n/4+NHdEmLtK7WJwsztmYWZ56suvq+ZqXQNJczwcFfGiWw8kt/pPEBs/COhdb6Yb3lYNWnP15hVVJggD3M9sOhEgfd1A4cusOsKmk2yrzzIWcPzmB9Xxe9aYL1PCRnTDHI08ZBS4gvp2FWB0548XGQRtBmSEdevxrG7CzXSZ5b8excFL+xm74Onog31ZHwe99Ztwq6qhPV02TNJXZ7J1UdP59m313P1a2+iSRNQeGzbVsbqOm/nVmI/BIGlEIL1Y31MrcqNaVECaAqsHdd9UETOB4/LQ7yVul0KqB7Rh+vEIUJLtY/Vi/aiCYlNF2x+v4mNwx08drYHQ1VYZ4R50vDyI38HN/ZD2WPehKksdK+DhY6EsWR8g8GVb/l59BQ3hgKmIijzBWir3M69Lb2rNXzKkSlBePrBOFm2jjozgGeBNcDJwL3AWOCHQGaxtgiklPVAfeTvbiHEVmAoMJeeG3sUeBP4UWT7U1LKELBbCLETOEEIsQfIl1K+G7mux4B59BFUAinZw2KXO6NumQXByjE5TNvjxxUXI9qT+jeXDrPWBlg/VmOY1wrQ0i0lRZeNkpdgv1U6nvXNLTzfXUNZfirvI95T+a6WbX3eZgxx+yVnMKODyNh2X9oGIIE2p0B3xxWMZRChTkbawLcIeGQiXVXNLL/kMYgLZIN2k3emdPLjzmFcPiR14OsN2YjCp0O8GPCIS0bif7AOu67g0hQCdonPqfDkSXbARHW2cFm+1RtFM8b1Xh0hZcqYKhXBvmKV4+sUfl6/IcVRKdslxv/hwLE/9o+D/rCFAjMx7xgtKntMb+LiuCARLO7dvf95nBtamjD1fECCswO3eze/zD0tq+uMz35HMfcf32bR7Q9Rs6IRYQi2jfFyxlmTuPSLlk5xfNuZd8Q0Fuas47muNtBseAtCfNVRlhIA99beMsmorTLCfC3YRJNiBbcupYu7u0J8tczKwv9G6SBoFpL4IkjcakdMGL5pt5c1ezoRcdlXgcAWlIxasJyzvjYOd35Pail+ef2nC2ZjTtO46733k3RXTXC1UukT5NZ08a3X3ox0KUrkClR22ODH7Tv4TfH4jPc9kJg02U5Lc5gCrw27LtBskvY8jalHHpyiW4fbBqcYBFeCGbHrUUzBw3Pqud4/NEni+tDDNCSrk6u0dcHkGp0Tdum8O9ZBlMpwT66bsf2kMswZOoWXxLYEpyKAU6vCHNng584rG2jI07D7dH7RD53fTxOEED+L/OmI+zuK0XBwbIayzVTeD1wqpVwqhGiPbHsPOKG/JxRCjASOjuw/KBJwIqWsF0JE5xJDsTKRUeyLbNMifydvT3eebxAxlhk+pDjBeQR6ZCTGDSthW3UT6cSO145wsGF4mCn7NByR4tbkLBtAsd/AnbOL+SLRvhFIIbcHMXFJBeOhF/mr5uNWrQtNGEgEdhHizm4vC8p6snTRwfFAkW5QWTfYRW1XCCWJ89iVa5AvZcozyyYY6k0fzQOcdNEI3lmyC9km8LkN3p3WwYwRecwvn9bvQOtAWTK+hxdz6YKv8UTuo7z07kbc3XaaS4N8MCZIl8fBkECYi90TKDjttASv7cIcO2YaqRzFlAxv1dk10svxEavDqBtN1LYw6hufycJzoESL/wcLCUu8cfjpkCkpAeeTTR8kZKyjkEAgAy/4qksup2jRE9zW+jY1uWaMrjGrvCAlq9gbkt+bOcMr4EsVPRt8mQPD+UOmMX9IHyfoJ6pNnXmhFsJxS5NBM5/vFwTIK2nn4vmX8/Nn2rmhoRtkVODdQAiDL+a5ue8sq32XPPERpXpqTlMgwISnP9xF26/OTX8R9RuQFSpH2CU7NTPm8IXdh9u9h7liEtdseTeDtabKkx64/6qZh+Q9ml85jYXnreMpfz0Ov4OwJ8wX3aW92joeKOYePYWFg9bxn2ArrW5JR2mAm9sPD1vNjvoAIVKrtF06nLY9FAkqLUjTze1lmzNq1qaDalPYWeljTLUngQIQtplsmNDFFuWcngHis5uhHB75V4n7G6wurQa4/WCcNNugcqSUcmncBYElW9cvXQchRC5WxvM6KWVXL3pa6VUyMm9P3SjlX4G/guWoE9+xeBbMjg3el375SM75zcO0aDrRsDF2DCH43bm5TG1o4ZTd3Ry/uQB7Et9JVySbx3TydeeJFJ93EdATSECiBzIQy/jtOb6Ip96qj3jFWo9Rky5uLJCUlHZklFcYSIw7uYy63Z1ohondUDCERLdJHj+/kdsahw+4lZxnwWw8wBd+0pNB+nLvu2SFA3E18j28mHkUM++oGYkfBOL+jVtGjPLNNuR+wFtdGobSE7TYDDhmXxfqvBHo3mogjsYQyE4z8N66Tf2iOfSGVmlyt9bNC0YIp4CvqDlca/Pg/Aw4E/W3LbRU+8hd3RTpZFLpGb7CYMbgZB6FzGM2dEc2HIJBzNcRpnmXF8UmGDQmD2eOrc/sbDz6oscs3VhNeEfyVgVpurip5UOqWo6D04/jG0te5z9d+2i3uSnSA1ySP4Tic86OEXlCw/PQbBKnnqYqVwrE3mDCakw8bGEdVVH44pyTqX79TV4M1NCaF2RYIMh8MZmCM86gq7XbojKmGQWCdqNfAWW6CXzys+ztePMHTzvkNoPzK5LOeRgFUJlaYer8zKQm3+x5f7LEyGPsNHeHKey2xYpBd1cEOOkITx97fjYgpfw/ACHEO1LKvx2q82YbFG4RQpwXLZaJ4GxgY7YnEkLYsQLKJ6SUz0U2NwohhkSylEOApsj2fSRG1sOAusj2YWm29wvxy5+jfSbbvn4FX3/8nyzsCpMStwqT9WN9zL7mS1Tft4RhS7SYaKuuSIIOk4JTB+M8+xSChiUBlVxYk7LMLuDtnfVpmJcK0nBxU8v77Gg9FveeLkq2dzNid5i8MaWMueoE8sZYLkADsYSaU+DgzCvGsmTFNqrbQ1SXaXwwtZ1vysGx2e6ASlAkcS0HBPHSKElZ4egzypTt3d8gFODfspSrw1W84HBjYmNIZ5gRwTqOOdrN/PARGV1pskGv2d4+AofoPQek5OxQK/tMHUMIkHCX3skLna38basbh0uhYmKBJZ3zKUJvzydTuxVBg7EXLUFNUxASspm8cVz7YbGkGEXVu81Uvd+MjsRQQFkOTDf4charGtm+u63dAdJbVUqanA7uiMolffFI/pDhGEFhYsw9gmfufR+HLlOCdRNJfZHGLaUTMmaUe97RUdyvjuoxmYtM9gwp+ac0UwMYYVAmm/u6zQTea0zeCfAGwiz9cDdVtW0oQnDxMUdx17TJFMZ9/380lsworHCT7icN2mD5+HhKgAE5zVR293+iO3+ElR3+Z6geEbYRzA1zlTLosMjUHmZYKoRIK8cgpdw10CfL1vt7OvBfLIvGL2BVcs8G5kop389if4HFmWyTUl4Xt/0P5KAiAAAgAElEQVReoDWuUKdYSnmjEGIS8C+s5fUKYCkwVkppCCHeB76LtXz+EvAHKeVLvZ0/2fs7HaSUDA59hCZzSCDdC4Nhzg1sEDPxLJjN0/c+xO5l+8jx2dg7zM8x543jnBu/bd1PxGu287091Ny3jMCuFmrGuWm+fCyNxYlv2EvLd7GvOU1FmtChcAffH3Uh0763GiVooEgwhImhwvbL3HDlOdxUOiG2y/52bl3SRAIFSbIo6Qbm5MEoIbvQS4CYjrda4RnZ72vtDfFLzDEkcUCTsyHxzy8d4ge5j2Pg6C046hpkRTd/3LY28YO4e163p5lXPvgoxVbRoUl++nwXw9oja5InG8w95pMtgbQ//Ml4bUjx+h7G3PkhrnBiO5ZINhzhI/CFYgrOtLSEM2WRDyRb3h90NgRY+e/dCRxFsJb9zHlagkNVNlXc8Yi/twfWbuQnK95N8ZAHkyHOjWxWzkvYqoUMtICBK8+OkqQVuGjnerQlKp6gkhBYhuwmj86tY+Hwc3q9rr7wQF47tzZ7ia00SYHNVc833UUUnplYo5DMa073jHTD5E+vrqc7EIor4jQpUeG60RMpWbgH1afRfeogOs8bhnSkRk8/HTLlMx9wLtq4Hrnc6ndthkBXJR+Mgj+fUYhUJEgFnO24cz7igeqPh/f4GfH+Nkld6ZUAUsoBF1bOKqiMXNhQ4DIs/+8a4PEsK78RQpwCvI2V2Yy+wTdjBYb/BiqxrIQukVK2Rfa5BbgSqyT6Oinly5Htx9EjKfQy8N2+JIWyCSoBnmhaz3UlAiNcCghwdOJy7+GP+wZnbPDJA1r96ztY88MXYm4MhpBIu2DvX04lPKwnLb9iWy1vbt5LihwJBhXutdy+7Hhy1rWlrPfvKwux7+v5/OKy71rf3g++0F5T5xJfHTtt1gvvEH5u6w7wrbLsfILjM3+9LbUNpN5mpgxn78VW6eWYrpl6CgAyZC3o5zda1ZL9DSRlRHYonRWhlJKOhiBdjQFceXbKRuamDLbZIlPQlDG4BF5etYP1OxtStjs0yVfe8XPmVquSPeAwEBfqzB/y2Zjdpwsi8t+oo/g3a3GHU/vX5VM7Kf7jV1O2Z8M3rjZ1btG6ecMM4ULwZdXNzfY83AdAP9i6vJFdH7aiJPUMAYfJC2c28cjEM/AsmE23L0D3jhacpR7+ZEvfTfe2ahAM6/z1mZX4TUnPJNtAdbTz7dwcCs6wgjURNij+8VKKtugYCkghsX2+iPl3fiPheD/6w224l8HUKg+GCppN8vTZTVyeX9xrMJHtSknbG8t42rePVpfK4HA3l+SMi11jMpInBsm/3dN6gOvC7SkapBet9jF7Qwh7ZCk/bDOxDXYya/E1KI7sxub96RM/yTzrhTXreKm9Aw2F5vIAVymD6BIKdxW30JQfpNKnc9vHWEjzWQgqkyGEGAzcBrwtpfzXgB8/y0zlaVLKFAEDIcSXpJRPDvRFDTSyDSoBFjat447yaqrzIhqJWTZ4z4LZSFPyzMm/QXQn8XCEpGOcStMDPYT0oKbz1/++T5cZdSeRgIk9p4Zvuso54dcaSjg1YDOF5Cff/YivzL4mq/tJxrWDJjL2wUfoNC35DQsShM5fBudyXJvlW1wyQI4YA4HePHuzQW8cxf3JMAW6NZa+uB3RoCAFbB/pY/Q0O/NHWO3E0E0+WFRDS50PHYmmSsIOE9dZJvNH97/zzBRU9paBW7W5hjfX7iR50uIKm1z3mo+j9lkZTb/T4F+zG1h0x2+tzz+DS3rhgM4rf9uOPUlHNWg3eWJWPZ/79oKE7dlU8XdIk+ODzbRLM2bhCCZH6hor8vbfOnHLsgZ2r2tLE1QaPPb5Zhbf+Wuq/vYe2x54m6BiIEzBuxMkW0/Pp2jqeCYOLU4jDRS9PAlxEyRvMMxrS1azLSwxVZMCpZHLc8soisv+lVz/GoVb9QQbzpDdRLm0hPk3JT63Zxc9wd11K+lQBTmqwa2lp3LRvL7NIvp6R+P7h4GYyL6+YS+rqhInZIU+k9/+qzMmJRdF0G5S83kH+nfPjm3LFKxLKTE0Hadu9Nuf+4aKyQR0ncUPLaIVk5MVB5M+Qdaxhys+i0ElgBDCCeyQUh6Yj2saZMupfFYI8XfgJ1JKTQhRCPwFq4r7sA8q+4P55dOsKrR+ku59Dy9GnXsGul/HnsRFUqXAWR1O2Oay2/jGrONZueRdPgj6CTs0ymjki64RFJxxBsaDb6C0Je4DoKmSmkKTJmGmF0XvRfrnhorJPLtjF11msmCzAKlwdb0PgR+JwKV0cU9niK+U94h465pJ/fZO/J0aBYNclI/OQ0mTpRto9Ec8Oh164yj2t/jI0E2WPVEFQcWqmpcwbreHjhadhTPXMX/wNHZ/0EZLnQ9hCOxY/s1OTWH3mqCld9jPWXm29x8/uLYcO4wxa6siFpnWb6SYkvyAZNK+xPbR4DGtYrJo20lTmf5xL/seTDjcNjjGILwWFEOgSAjbJRvGeLnMXZqg9wg97Sm57WhBg+0rm2jY0U0AyawxNp4+IYdgrNBVYYvNxu9bNnFt6f4VYw0Zl0/VplYcSYUvqiloHuyn7qan2PZijdX2FJX7zstlW4WNcBjkBzt58QO4udzFjZda2VdpSv703fspezeMO6TQUqTRcq4HrjqLXJeDC2efknIN0bagejWe2fJSSjDu1BSql9bj+rGSMBG6aN5lnDPoav64eQ2oKjsgsYgxDtdMPQUZ8pHf6CUozIycy95cYFIoOkl9YzL/GqyJ2+AOB6uqaonvIyfU6+gKKUGlS1MIbGvn5qT3wwpurXNJKXnj5RWsCihIVFQR5pwcOO78RNmp3ia/G5pbOe/pRQSkEXujT9DCvJg3csC91v+HzwTGM2Au9InINqicCvwDeF8I8QesUvSXsILKwx9lhVl9TZqS6g3tVG9ox9Qlg8flM/r4kqz9nMPPLM1om9bpMWLabYmoBFf07yNjBPSaK6bz4R/eTMwA2EyWHdtJhVdQLhUIhBK1JAFUFd0dud6kTvTeuk2srK1LI/YO8VZrEJEPKfKRV9rBRfMuY9fWOlZf/i9UA9waBOwSI1cy74sTsLs+vX7XyWio6iasS5xxg5xNCjxBhWe6m5k/GPZt6kjhvKlSMKLByd15u/slndEfxBegDXN5uKPcw22t7UjDhZAwrl7nmqX+hCmPoYCvKBgreNIz6JtmqkqPDujxlIiDFWBKKflQatRJk6OFnWHKwLW7OadMYVH5elY2egkj2Fvp43JXqt5jOngWzMava7w7/1G81R0Iw+pYT98SZly9wU8uzuuxGRSS3xd1okeKypKtWqWUVP97Ax898j5aR5Di44Yx8frTyB1VDECJlCg1fyb0vhe7LjAVianAk+c1cUPlyex5X8ba3pvjHWytsBG2R9uiigR+2RRm+QN3cMplX6bwxy8y+D0Np2Y9y7J2B/nPhtjhWgZfP7/nJtN4hXd3+DAUsKcxcMn1qgntMXp/+Y3eBD5zpszig6uWpm5MN9lJCijjs8hR9FUNnzwxmitNriVR1N7rTB+4GULSUKDHjhM9RvyE72sdVbzrzCHaxxrSySs+A/ury5l63oyE606+Lt/Di5FSMtdfh19Rie+n37M7+FH7du4t7p0fni0C3RqNO7uREgaNziWn0NH3Tv/DYQ8hxNsk6iPkYBnLJGtXDgiyCiqllHVCiHlYHMi/Ag9LKa8+GBd0MNAYDiTYhkH6l/iD61+gbkUjwnLYYvuHzezc3sz5V0xEtfW9HKzaFTaO83JUVW5CMBi0m6w8pp2rsrjWaAc8wtRZt2IN2odewjaJXRd8ON7L86e3cIXac+22DFI1utuZ4AITLY4ZNsSJ2LQnTfCbzONVMPUcbmpZzZaW48i95kVGh0CN7OjWBFqn4JEVm/jmUzfH9vokZa66pMkqM4wHhemKHTWLGb+vPYRDS/2eQ1OwR7yZpZmZUtLgIbPWxgAh+uyvoYihHXu5tWwbtbkmZ64qISecT1i1gkmE5M8X1/GL0hlcGq3mzXAsGNiMb3/RKA3O9tVRpyoRSzyFU8NBFuaPGrBMzbxxU5k3Lv1nvXL76jeQs6qZobVt2OICLIcJg7oMJu/T2Tg8slQpBW25AXS3M7Z/fCA/+C/bKP7PTtRIH1T/RhW1K3ey8/Fz0IZEEgv3noP5yKs0b6qlNcdkzygvpw6dxI4ZJ8CDrxOdZi6f6IwLKOMhWCGHMGHxa4xfFU7oqwCcukLO0nb2fcXiKxe73LGl3G9On0FXJIPoGpRnFVwkwRCSfYODsf/vj/B6PLKRSkrud/rTHpO/6xEKt3s7uTW3JLZty1AbYZvApcmESZmuSrZM6MJ46MW059SkZHFcQNkDlVf8QR7vJTsZFCb3XTCCxg4f7UvTiZyoPO5Rue+qmQdMW6nZ2M7GZfVokZFBrACmmMw5PTue/ccBQzfZu66N2s2dIGDYpEJGTCveb+76pxgPJf3fB6yXUqZfJjhAZOuoMw14AqjCKrC5XwjxJPAtKWXHwbiwgYRUBE2RDim6ZBxbdonMwHN2tDNy6Q7UePccQyHkl/x3TQ2zfv1/OArdfb68k6Y42Wj6OOojD7oqUQ3Baye2Mae0KKtrjT/27FNGsLByHf9Um9g0LEyeNPntvkrml49OK1mTrgghqpOoe6vRHTYqSiSlNkGzHr8EnkECVEgaXXY2bKnhskYzFlDGno8J+Tt7mtAniY/3qObnRq0TXRhIAYo0udXX1eeyZF6pi5Bd4koKLMN2k2CuFQkMHp9P1doW7GbP8GMiaSzWyDcPckSZhBidwwecCYuGrec1bye1hQZ1w7zc1DGcWa0FCb9bfDtSIwNWPD6O33iedx+1NjugxObcbzucXN+xg/uLelxTWmt8VK1qIdARJn+Qi7EnlZFf5kp/0H4gXpoq+mziJ6b/2PoctlS2CnYdRrQYkaDSBFuAoQE/bcEAFbkjgZ5OuKmhiiP/vTOhD1IQmJqk8K6ltN8TJxJ+6ekMvdRyfojV7gdCeI8rRa3txmYqGVdNoniprZmTRPoVsJIOB+Ho7x7vHV5tyaa5pILv0RexTTUJrRUxS0lDSDSbZPz4A3OSiX/WQXrnEt9QMTmhvUavL7p/un36Qk1LMWL5BmTk1zEVwZ2z87jxpW48IYlUDBRT8Pj5jUwfPo77zkhPTfOFNOR/69N+pklnxuX/GNxOWjq6IxOp1I9DirAK9hq9Ce9qf97RoFdj47L6BPcbgPBGWDR0PfPGTu1l748HUkref7aatkZ/LDO/4Z0GNm+vZ+aXJvWbs/pxQeohZMPOg3Z8IYQKnAl8I+JQeNCR7fL3UuBGKeXDAEKIZcDvsaq5h/e24+GCYpfbWg6Oy+xFMwRSSgIbWtExUUmetQvW7QvDaX9AzCxk/l3fwLMgs6/z/IppYFvHvTP2EJAqqkPjpo7sXA7SHXd+ZUTcNtqh9MLxjN9XvWpmRo7OtQvGsOCJJ3jNF8AUYJchNOkhRZdOKgwJBtC604yWaRAUZq/P5nDBBlPjR1onWlR4XlrJw9tzC6hoWsfFvfxWg47Iw+EE3ZAxJwdNMenI07k0x8psjDmxlF1VLQQDJi5NIWQzMVTJg3PaOaJzEvNdbZyq2zh3S4jOKi92h8KIo4spH527351hshZnut/As2A2F4mZXETPIJvOVz2mJ6r20Cii6ItzeTAy1S3SZHs0oEyAypNuO/dHL7uqi7Uv74sNMn5vN417ujn5C6MoGJzIP67f3sXO91oIeTXyB7kZf0oZBYPScJTj0Ns9ndkSYLXdwK0lZqQMFZrzBKohcaodyNxdXKhMpkAqMYH8KCqqA4QVA3dSVstmCsyaRJWDjPy7741m8ct/RNNMZmwLUVukZshWKjTmpvMHsyZAzcWhBLpOcpY6mpWbc/IUns/ZwN7tIfK8NvYNDjJ+vHO/A5HohCY+kEzI6KoqJFF+UgKzuKX6lH2ytJv1OO0pNKHaYpXrLstnVEcHbmcd/oIQs/ImZawyB3A7bAhMZBrNT4cIpKgIxCN63xMLcnleyjQLHAYFooU/bl6TwhVV+6Gn2fhRN5qQCQElWLaPy1q7mJf5Ej82tFb7aGvyJ9CMHLpCsM3k+U0bmHfU4RcIp0ORbuOitoOnWB+RYTyXg74+1oNsg8rj40UypZQ+YIEQYs7BuayBhTB7LAeTBbHXNbdw/jMLqdwd4rtpKp7DKuwuU/GE7VS+1MFzlY9w4be+lvLSxuNyZnPx/kjtpPGL3m/UbUrlW8YFB9NmT2caVsfrC2k8+OIHBGR8RbiBzdXAxe4J1JZ52DFEZXy9kZCtDCuw8sggV8Z1Wvu7DJqtTFHC7WSQ1/AsmE3bxno2/OZN2rc04Cz1MPbq6Qyba81gH1u2kvCmZtKZx91c2kF1ht/Asaebkmf34BhWhGzpxOgwMRXYNLYbzi2j44IzewK0WSOx/eUNGqub2VWusXkU1DOe3YA9HOKCZ5vZ2WXijPwkdfVeWo630fWzDJZ1faF+A1cfPT0mj5SufcYPLNcnfSe5TVqDVN+Db/L+sSKOPs7fH/hkVGYtFZqIcMykZO3SfQmDjIIAA95+Yxezvjwptn3P2ja2vN0Q+25ztZeWp72c8qXR+53VHDwuH+NtiaHLBKtHpw7fXuoHfNSVhemYXMC1o4bjTrPSEPRqvJpGgN1EUlMW5vZegrx4nHXFOF5bsZVxLV0M6lbZV+hEJhfUCZMSoxtlgpPQNmKZRrDkfionZF9ZPPfoKQPGrk/XRq6nd/pBwgQIYn/HuOVRGGnInxlQnOfCoQQIm/G6xZZkUvfgRs6bcTkf7mriNX+I0bsamVJZit2WyvFVhOBUt8lbgeTiSIPvl5T0KhEUTw0wSz3c3RKAKM9TGCiqj8tyy1MCypRjLpgdex/TjT0Xu4cg30rNpgoJXYcprbK9LpC2e7LrgiWBLuYd+ks6nPFb4A4hxG1SSu1gnyxbTmVa1XUp5QsDezkHD9EXLRr0RF1HzgjU4xcKHcMc+B0BHLpMCJxMAW+Od+LUYXSTzqoVVWy/ZFvK8bOZ/fYX8dmI/ZHK6G0WDImD/VXOcr7TtYe3nTYMVadENHBPs4cLy0cTXt/NiTMc/PD5IG5NYtdBs0FDgcAzpqPfwUI6jlQQM6a7CJaQ/APrV2Q8hi0QggtGENR06tt95LrslOVbS3nOt1cw8rpVKCHr+P7qDlbf9hIvvL4E/83n8G57eq93gJYMRUc5H7Yw7CdrQDdRpYKmmuBQqP7bDHLjMlwxfpxbRb9hJgXANCl558nlGJHl8FN2BCnt7gkoweKxla/WqXtpOa6LkgLLNEUSkEZvr8EPpGYlMgX6/fGmzhbpgp0D5VtWChUVAyONEHeuaAdGoIdNjFD6Dk1r73mhTUOyZWVDSvBpGpK3lu1k1hf2ryrbZlewn2Pw0dowY2vcCSLfNgkgGN7koGRFEUuW70AMk8ycOymB/+XKtVM1ws/YvTkJPEfNLlk9rT3ra3Hm2Jh9rsWF+4ZpMtm3iwYlPjgyUGxd3NlaxOyzJrPYsZGubSY5AZWmkhClUxTmTtr/TE+22pLZSDNFke7znx6g1Fhf+Eq+wj+8PkzdY/mOI7C79zJdGcXfXluPjqXhuaOuhXfX7+KqWcfjSiPXtPiqb/H9xx/l0Q4vhnRgFwG+5wvxI+/QrK/lRl8xZd4N/KwwSKfDTpnexZ2tBVxkn5ZAhXItmAJJzyWa9c30XBZNMhiZZs6mq5KayoPNlt4/uHJtGWlIe0sHfiz+JCJO8vG7wGDgeiFEM3EzdCll5YCfN5NOpRBiq5RyYuTvGjKkCg7GRQ00KsYNkptnnZSwzXDmsOVzc/AWlsWI/oqE/IBEjRRamELQ7RIYKuQGJU5dErSbFJcl8iNlt59PBiT29iaKVy5CDfXvmpulwZyOHRTUuinvMtk7xM/RnmbuL8+89NMX9scJJR6rNu2jdvle/DaDvSUqdiXEbwaXMOGRLpp2e1Ns4YIOEy7UMMvG8w2tLa1byFDXOjaKCxK2Sil56W9bUHyJgaghJGJKDl944rsERU9QHHVWAnhg/Qq8gTAPPPsO0UH9+694OW5P6oTR7zB49twmKq+7ImF7inRUlkt4UfTlJX4o3INMKVlmhqmSOuOFjRmKo18FNr9s3cJvcgqIZWowEIrOb7s6+GrZVExT8vyftuDSUicL9cVhrrzCCpICXRqvPbojpTgFoMujc+k3DqwwYWHTOrTnVPICvc/XQzYTZaLJnLMTz7ewbh1rtgQ5YUseAujINfjXeU1cbS/db4FoQ0puat/OPz0KIRWKaeHutpxeaR7ZoDf91IzC6pG2+0mRqFrYtI6fljZQ51EZ7g9ya/Nwvu8px6sktx+T2SEfjxZmnshn4y3eGzL1h0pXmOKFe8ld3Yxe7KTtwpH4jy5J+91McN27hKFvaCgmgMBQJK+e1Eb5qUMTlvfT2eB+HNBCBosf2ppgWGAi8btMfnXVbt63921ZCh+/TuWxY4bKVb/+Tsp2x/xbDvi6hBBdUsp8IcSMTN+RUi4/kHOkQ28939fj/r58oE98qBFf/X1DxWRa9LFU5A+mAwOSlr1VE4SU6KqgEFBMqGw1kELSXqAx2pmfePCi7IpwPm5IKWkrKaENKHujf0L6ZULl3aKJkMWt7jF1wsBYofbKEeyrQ+ote/bq1lZGLm2ycgUSOnMU7r0gh+uUFh5rCKcElM25CivHOVieG+JfQuUI3cCqMeoRnre5a/lZU0UKbzXsNzCCaRh9UuDd0R2jU7ga/JFBwhv7zk1FY+nyhHmAd2Lb2nMUDEFK4ZNAsKdU57hkTb4ID7iv4HB/0ZsO4ECgTZqc6qulQVWwHKAlFYbJ256hFGYpsn9LyZGUNG/kzgIdr+qk0OzmF+0uvhzRUVUUwftHdXLCxoKEpdyg3eTt49q4MvJ/R/KSaBwaiw58ZWh++TS2T25i+4fNKfqN8XDqCt6dJpyduD3Kyf756btodkGRJrmt+cAcR1Qh+FXxBH4V2zIua/3dTOhLkL9n0mP9G1/hrjts3NUSWe1J4u3G9uuFBhSVYsomoEkO5PoTxAFczEwujj/31tX4Xl+X5psKL7vUFJWRBNRvSLGLBXq1uU1APJ0pEpwrXWFGf/Md1LYgimEFVs41jdSeaSd4Q3r7SxE2wTCR7p5rCd5wDptHv0H9pjq8dqip9HHNuOkp4vSuAaA6DQTsThXlLIOmdw0KfBYvvi1f5y8X1nFz+/ADbt+fEgg4OIFjb8gYVEopV8T9fUgvaqAhFWHxC+MyPGFyGFFcQEd7avG6NRYIhASbIRnUZYKQhBwmxUq2NNTDD0IIinNctBQlvnEN0sArJaOEmpWsTibsMHXm+xtoUAWWT5DODX4vN5ZM6nPfvuBtC/HRey10NgVx59oI1/pxx8u3dJnc/IKPay/PZXdRN6MDPdy4t8c5ePi0HEwBhprDOeFmTjc1TvP5+a9QUQ2TYtHM9d25aQdv1Z45OOh2W4NUbwOcB3ArnQTMAkDh9clOTtsRSqjyNYTE6zYIFAYz6Jn2zqM7UBzMAeLL3XuptzuJhuUSqFUFl3fv4b/5o7M+zjfLjuKb0f+opAwcx4/P4R06OXlDAdF47sXPtSYoL6h2hTWTujh2cz7OJBeYFce3cW2/7y4VY6aXUlXTRKjVRAJOTaRMcsCSoUqHWMW+jjUsHKIBUpcSDbKykdwfQf7kicv+VmbHvp8F/1xv3ZK6MdsgLg0UtyODzi/oat8Ba29Z2r6QrBXrkgprf/IwO1sDiAgXV0Hg0AUVyzRk0fPWJCWCcEDntf9uQ9ZZfkz1pSHKjlOYNz5CdXAfAccf0XPCllTe+uG0GD5vwlQWFq3jD85q6nIlTlU/4AnYpwyqEOIM0kq7WJBSvjHQJ81WUsgB/AT4ElAB1AFPAb+UUgZ72/dwQEqhzkOL4aJxuDp95EoTrxD0PHcJwkQVIVRDkB9SCNsF3U6DItVGod3i7ZlIuqXlV5InBGrm3+2wgoi710ZpMMdbS5XNBkgUTK7xe7m9ZGK/jxuSknMCjXSrauz4Bip359gYVNTOlRdZye794Tu5dnQy4gerIWSgSCvATH7eCuDSJEfW6zw1w8sP/+PAoSt0OwUPn5aDZuv5vkTlTbuLk5YY3NUQQjUFUhShjnWjPP15hGoNfvGD4LbX1jB+lweHkZgFe29aRywL1hvu6QxzXaEP08hhX4nkwdPdfP0tPwgTxRS0FGj88ZI6bmuu/FTNsqWUrI4LKHug8K79wGRnkjF/8DRQ1vHLk3bRrai4pcF073h+4irk24EGpgo7v3TkccyRbt62d3LqugKEhIDT5D9nNXN5TumAXIdqU5j1pcks2raexUYbJ68poqIt8V5NJLuH9u5bf6jgl5Ivd+3mLYcLENhFgB/4Amkng6aUPG8EedwIYABfUt1cpLqwZQhE44PPTAHJ9YChmXQ1BbG7VHJLem8X2ehWHjQUwcPiLTTpJrFNG5SIxowTQhK+mV4OLoregu3kbSPbNNxpirsMRfKIaGJ3NPCWksrLXsPZKmKqFRVNTkKvm/xizEfcdnXqdOqTIBE3f9C0RDOJT1HfOQBwAg+TOaiUQPaz+iyRbdrtz1i2PtcCe4ERwE1YMmnZjKkfO5ILdaIYozqp1YO0KCCFlV0bpisU2QusbEhe6rE6pckeaUQs8AApKDUNylQn3ghTL18oGUpB9h9KaYF1ujSfNWjZD1BdOTae/HwlDz6/ilabjWjnaKLy+5x8ygrauPaSr/QrANxa24Z3VS3pKqpva66iMSr74XbSFrSudXDOCFq7urGrNgpzMztGDfrbCyjBnrRkeiEU68x5AagZ28GueRWUv+pj05AcFDONDqdUeG+Eg0k1PccN7Qzwu5v+QOCmCKcybkkuOKeEXf/pYFSdC121xOjfPaqTz58xBfXCmSQjmRt2eflUPE3ruKV0D9u0s18AACAASURBVA1uB/sm+1lTZmeTNNlTbKA6tKxm2fXS4Peaj7fMMMOEwvdsuXxOPUxLNGNI/3slZ3y8rSH2belAD5sMGpNHaaWn3xJLsSwfcHu4iwedXsKRQoXVUmNmsIU3yieBspmfn7SLVqegSDe59SBkOOZNmMo8YJFYT/ANE5thDeiaaqLbJCOPOjy8my/o3ssGR0/gr8kc7s5xkte8kW+VJXI+v6118rzuJxShLbxtBvizX+Pl3Eq2oFOIwhH9XM2p3tDOpuX1hBQTIQWtBdr/s3fecVJVZx//nnunb++wVAFRURFRwBpjrwgrYok1wdhTTF5NjCYSS4yxJdHkNUZTjF0RFWxRsWABld7bsrBsrzM7fe695/3jzsxOubO7NPU1+X0+iNyZW2bm3nOe8zy/5/ej9Bio2cf69/iqA507ewL8vFBFSjtgCvGrzjbuac9LC2r6Cn6zxtbM0nhcBqkzHEoaV1hBr1yLscmb5QWv6oLaco2T882WB9eKZmzdOrYU7VwFYdp7Lmnk7q5NXH+IacmZsMf8x4YN3OcM0RwIMrGynLuPmsJhVRXAV/8b/BcDQkBKuceDxv4w0Kd/OjA6Reh8rRBiMbCZ/wdBZZWjb/25ITYXQwDnyP04aP+x6JrO/mNG87cHf4fHbe6rlBchJWzqaMefjOp6H+R2RaVdaiRCvtk/+QVTjz+WWWdP48qbfsGPr/gu48amk7gTQeJ7H36Mw2HnqCMmA/CXv/4Dj8fNyedlKDbFQil2bxmTraKgD1BYWwfWev106maROuNA/La9nkDXJjotBsP27iBrNrfgD0YZPqiI/fapYGTxaEIymqMspOCzOXCpVckt1XmwpbGF+156kZChI+PZkYvK8xl5xrlZR3CtbRvQ51IN2DCmkUsKp6D+dAabDnyRuW1biBjDser2zuQ0OmMKjiU+pFpFY6Cu9wUBpTWn05n3NvPq16JpNrS8KCdWHsTG46ck+WGWzTNpJboRXEEfXa/9rLJ3GDrHRdrxSQNdCNZJyTvREN8L9ewxq7Y9DSEELqWbcLz03wuJW+nGLHzA9lVdrH6vCcNkmrB5XSe2QZIzZ+yakHGPNPhfLUAsg7MZFfAj/w7eTgSfOnu9xDx93CG87FzOZ9tClHQ5aKsIM3l4HtNHfrVlurxZU6nz9bDyiaexyiT/pkhyTcqWVUaMl7Ug0ZTvVKKy0i4YHm7CEDL+LIe5uyfA9yrG9ysV1rmsgdUPP4PQBK74WFTZYafloxjzD+vm/JpLvnYBzPcrxlPaupxbyrpodduoDge4o31Q1qIk87rzZk2l5dM6VjzwPgfWduIelM/Y649myBlmZSg90DTHkkqy9UxT0TGtCsfiujQveE1IdlRGUJ0aYd0Uq9drazFEdjrCoSkUxHWDUtU2Fq+tZ+HSWrT4mP5BQxPfemEul5w2gd/ve/hO6WB+HeBrC7N2QTNdTSFUu8Kwg4oZe3TFV31Z30gMNKhsxvSLTCUgugFrq4CvGaxsGs/w2GgpcoAhIa7h5nK7eP3TtwC4/oofcv+Lz3Pl9fF+pViI9g4vsX5X4SL5d7ei0KxoPPq3P5FaYDfavWl/f/jhx+Tn5yWDyqu+f3nyaJkZSJHo1pcSmdKBmAgo7Ur/WStV2HDJkhwuDYKA4sSlVlGdl/7K6q3befXDNWiYepYNrV2sWVPPNecNY1hFGQKrw+mUGT1pmzp7/Dzz9ofxYdOcSGLSzT87Qlz/5ouUnZYeWBoFTpSOvrvVwzbJ24f5Od4mKD11BgClp53Ld6NR7nlmbtb77TocvSlb1N2I/0pW2QHX6Rdb65+p0Bioo9Tdx+IlRSMvLQjtQ0gc0gfs+zU/XmlgiN57TKLyuCefya3LmdlPpk2PGUgJNsfea8qxwu2+GDcVaCAT3sU6Qujc4dOgAqJhndVxR4/EEscZE4SbDV5dtoppE8f3cXRr1EsdTehkD3EKKxxfDlVFSpkMiKePnsD0FLraruiypmJ3u6QT59/g85pyOVmNWoKA4k4bNxdtbCK6ymqBJ9BTAs2YdHNjkaDOVUuxVQYuBcP+9jmFMZkhwaRQ5rXz0MZFbGw6JOsZ2Rkpor2FGZUTmAEQxYzHB7Ao2Xbbsyx5pR5DM0fJwLZuFt88D/HxQmruujL9zVJS/Op2yp+pxdYdJTIin5Zr9sc3uSrtO/QdVY1+kpMh70bQFdPBbUdlhD+f28iZrgOTVaGRB+2HaqzMuqaw3aC9PExlyqJf0w0+WvpBMqBMbgcWLFjK3eVF2QoUu6CvnDrOhVv9dC1vxFnmYfCEYYgMXdVwe4Dmj2pRbAqF2zdhd2bzYjulwdNakPVS51Bh4zybmwKhEPLFWPTcNrSYjkCgRw02rmhnS+vAkhX/j/GVcPIGGlT+C3hTCPEQsAPTRec64AkhxAmJN+0N0ueeQExIbPkpykdSInwRHJu8KBIMBWIF5k0q4kHZERMnsWH5ar54fgG/e+wRKoYOYuWKVTzz1is8fM8DLFn0ObFolJmXXMg5F52PlJJ7b7uLLz5ZRPWwoZhSTYJmzaDmhDN56N47mXTYobz17wXcettdaNEY5SUlPHrvb/jLX/+Bqqg8+eRz/OHXv2LBx5+Sn+fhJ1ddQdOatVz/q9sJhoJUjxzO/Q/fS3FJEeeeeT6HHn4onyz8BF+3j3se/h2Tj5rMmjWruem6G4lGY0jD4NEnH2PUmOwM+OCyEouJBECnSHqztmq6wasLF8cDwcR+Kj7d4L1XX+GMc2cyyqmyJZIq8qsjlBAXFqcbKi/ZUJsMTHuhIKWNZ7xruR6SmcJSl5vWC0ZS/pfVljIwYDa5LB7fTdkp1RScekpydQ4gVDi1UOctn0QxBIoUKBJOWxlmTGu6GHLEZrByfx/79pEZyIVKlHQ7uwyk8jP7CyJSyfGpdI33jWhKQJkKwezyVmbmOF7YH+Od+RugxbTua6oIUzlJ/dLs166oGE9+6wpuLQ3QaXdTGgtxZ6eHC+JBcMf2ABHFwKWnTxSumMKyFj/TduGcQ4Rq6WICEs0+MKpIXxIw3aub2fL3zwnWd1N6+FBGf3cSrop8DM3g1R/+hdinPlxRhcbyCIzx4Bg7iuCBxQQnlJmL2H6CrT6R2im9i2YJsnEFdd4gmxo6c4wDBvnSn7S3BYg5E0oJ/UFBGk6eD63l2vzL+pxknB1GVukWTE5gCCXdwCH+udMyevHPvzMd4V8VNixsTQaUCTg0Bd+/O5lz+JMwpXdRWPZ0LWVPbUp6wLtqexh68+fU3zeFnkMrkvdLZzhE5/8cT8fEL/i8dgW15RqqU+O8giOSi2uA6L4QHOGEbZHkOKoJSdhhMGTKfmnjbbc/FB+fM+9JQX003ZVud3Bv42qQksq/bqDkpToiqvn7Bt062y/Kx1VzAjdWH0TdM8tY9dt3iQodQ4BqCNQLyjn/51cA5sJqvaFxUriVkJBIVJ5B585oNx97BuFd1omm6WkLF4euEG02yHfztZdE3FVIKS3Ie3sfAw0qr4r//YuM7VfH/0AfpE8hhAv4EJM4agNelFLeJoQoBZ4DRgJ1wHlSyq74PjcDszALVD+UUr4V334Y8A/MTOnrwI9kLrHNxIfMKIHZ7nwK9QcTUPLiHXMGOHw6xA8jm328/8Y7nHDkMaBLlq9Ywbu/mo3twOG89PQL5BcU8MSrzxONRLni3IuY8q2j2bBmHdtqt/LMW6/Q2d7BeSdN5ezzzgEEhoT67m7czQ1ccd0NzHn9eYaPHE5XZzfu0mK+M+ti8vI8zP7pjwFYsGwp5LlQyov47g038Yfbf8m3jpjC7Pt/z19uv5/fP3wvDqHgNCRLFr7NU6+9xh9/+3uemfcMT//tKb53zfeoOb+GaDSKrusYaGmlcV1q+GUL45waayOJ7BGAgVA0ZhYNIhxtTFuJNnUFiEkNq8zP0mCQU/zbOf+MyXzy1kd8HAoTUwSFop3vFJRTfMzktBJOl7eNnOLjDjuaf3vSs/zGkn2RV4/hlWV1aIsCptxTJn9ICor9Nm65IFvvC4DL9uVvc57k4c21HLaqmMm1GoO96YFdTDHYPijMKYOKqBkA2T4XcnVoD7RrMm/W1Czx4gQqX3iVbc0Wq2spaCqMoV5wZpbmpDQk7z6zERlQsMWdXoa0uAi9YzDXtZyaYV9OCfaCykO4AMxRwkZaZscwJFZPsIGk07NrzRhFQiFPbSOgl5M+ORpUiUZgYM1oid8hoUH6pzVfUPhRC0Nnf46ISRQEHeua2Pj8Erb862RK7lxA8eoYbs0855B2F7Jdh0WbiNol4cEqF77yYxTHwIPIvrjN2gB4d5kwDMlz739C7Y5GYskvPpV3bDYrziypTjtu6b5D+PCLzRZhpdVCR9Lq6n968R8zHHVNY9aC0a4LwoXRZKat1OVOd8rJyJRldoRbLe6+yqAzb9ZUAo88aPmaJ6xye/PHzHRPoTMcQsQM9k0JKBNQNSh88DO2PX4yxMzvJKlhe8axHB+aTKpqcGbZvPmPx5P/m3cpWhZB0QUb9gkgTy4n78Qp5CV+1FCEXw06gEdYbHmthj23OsXOIOyP0bDWS2dDkLbtfoQhcMcXlY6YQugFH+XeV/DaNrLqyS0IXeBEJeiAd/d3srkpxKv33M9vy8ZQKhQuCTQSTLFylah4Fcm3gk3MDhuUyex7NKZKIgX8twa+hzFQR519dvM8EeAEKaVfCGEHPhJCvAGcA7wrpfytEOLnwM+BnwkhxgEXAAdikq7eEUKMlVLqmE1DVwKLMIPK04A3+ruARPaqMxxi4vs+xA/SXxdSEA5HOPmoE1EiOkdMmMjF087hs5XLOfTAgxldNYRtUrB44SdsXr+Bd183y+SBHj/1W7exbPEXnHr2GaiqSkVVJYcfNSV5bEVCnk+y+uWPOGr8REYVD0FXHBSUFqNhmnJKIWjSzRWgX+oYhsaG9hY6/T3sd+qxtACnX34+V198NZ0bW9GCUU6cdAwt/gDjJxxM/fYdCCmZOHkiD9/3MI0NjRx/6klUDx+OFgjjcdpRVQUhzUaiSqlQc+YxDHlrIe8HQ8QUG/mii7sqR3J5vFM7dRCuMzQezyWlYdNSBprhkFTzGQVh0hwfACo0jR+jZ4uPS4XqSMDSc3jqlBG8YluB9omKS0vfL6ZI6stjfVqeXUYJl5ZO5O/1K6joSfeRjqkGj53VwvcOP5QZ5+x6l/oeQWoGK7NUuF8FXzQ3Z3xvBji9DA3qvdp/9Gax8j5vozIi04JNBYGqCf7d4ePi2V+dV7uUkvUftLB1RScuI3uREbVLNu7bY7HnwPBgt+Taima0yCAzG6eGcXq28ZvGsn7LlZlZyoT95c9L92P+3a8jYpAIpmyGgh6WlN72LiXrtSx9ysQiyBkT0Kjz5xv/SOhnpoZgTpHwVMSzdYkAK4HqvJHYIIum0h9Wbd3OlvrGeNUhQ/kCA5fi48xCJ/bjjkzL+qNCTbHGS95ElUGa3Y2JF1MhFaojQUs+YKqtYuvZ5eQ/rRLt0ZOBZdhuMO/YDo4r7g3804JLAFXttWG0MAPI9fzeeMWZX1lw6akupGdLR9b2iN1ga6mZAaxEwdYZwZCZlRwT9rYYlYlnObMyUpLbujaJyWNhcsa2rCBxG/lqK369gkxryUrRCIxlZ+H87pnc8cVSHl25lmG1QX78ug8hDey6YpkkqOh28LCjnoMcx2EYW1AxtYZ/NaOAsA2idgXFcDAn3Mj5hTG22EzlgnQIOhWVG45W+EHAxqRt6feIXRfEdl1d6r/IgS9FdDGeSUwoQtvjfyQwDfh2fPs/gfeBn8W3PyuljABbhRCbgclCiDqgUEr5KYAQ4gnMJqI+g8pBNlcyZV+pCwqC1h/b7XTyztvzse3wo6SsbDxuN4oUFIZ1pDT4n9m3cORxxyRfV0SET9/7AKsVu12XODSJQwNpSIQEtc2PDASwDTFF1BVMrqRIZBOl7OVOAoPs5kDa4dUQmkTETC6ky1BxbvdTWewE3WCQ3c2137mAEydP4Z9zX+V7My/nlntuZ9JRRxAIRxlkUxhcWkZ3MDUIHJESBI6ELutO+ZGKDbsIW0pplIsWMgcaq87HxEAf0w2KXl1Mt5HuNa46OpiRty8PHJ+jpHfacKpmzsfeo6T5KxuqZN0BviR5PJdDjBCCkm/DqhUBDt5iZp52VER44qwWfjbKFPrtMytkEQAkJrudyRT1h1wP5fiRVbQsWcvHft3sZpEKOHy4PVs4x3kELkd175vj1NpIUx3CYpXu0hTcfjt35PCbH0gZf3cn5q1LOtm6sjOpsQcgkejC/E3fOLKT79p2vYPm3MoJqK3LmV2xhPpCGN4DtzUOrMs712cL+WLEwhqOjAlflQJPbZSYTWDvw2LaqSk4VgToSZR1kwGRlu1hTfr9tbPBYy4s37zV2tVd6FQ4NzLr3Kt7rysjcGk+Zwif/+1v1BPvFld9ODUXEQHJAETo2FwN3NE6JCvrn2XhWAL3/z2C+8H3YX2AjkKNL8Z3c/B+oyn69vHZ1XYLiokVvzTUEyMW1skvdaZZYeps26taizEpeduI0CB1DlMcTFTsyWsbc4CLxduMtKxs2G7w6rGdVPtTrrHYgYVKEAA7KqJ96lymNtDszsL4sgW1/CXUihauBAQoGg73Ns53Ds89PveBV+e/wtrtbegG3PXvHhwa5KpWARhC0mWDT71tlMXvgX8d7cbvFBhxvqWhKIDguUAQswhqTQ3SVcEfT83nzhd8jOgy772IzWDlmAD2zp3+KP9FP/jSlLyFECqwBBgD/ElKuVgIUSWlbAKQUjYJIRIzyBDMTGQCO+LbYvH/z9xudb4rMTOaDBtcyi8Hj08OOk8XWjtnSKAspOHL8apLMzjp2KOY8+SzTDpqMna7SnDzVsYddCBHHn0kT/3zac6cMY2ujk6WfPoZp007k+Jg76g4afwh/Ox3d7F9RwPDhw6hbdsOSkcMJT8/j54ef9YZC4sKKSou4pUPPmDKEZN48qkXOGriYamfEqSku6kbHUlzLMS2rdsprqrivMsuYnvddjat28iko44gwe90Nu16b9VvegLcVCiQ0klCSsPmaua3bQVZmZ/Ed23lA2xXFa44axIf/PtTlkV0NFWnRGnlwqIh5J16cnLCy8zMoELXJR6GzOlhcLs58EYcBn+f2szRQ8Zxd9emtIYYa87ZCCLvvcdt/jW0eCRlUahxHUTt5EOSg3CuQbt3kO6dkhNl+r46NPvLRllloHLh5BkzGf/Gi8zxraY1P8rQUIxznOn8qeRxfX56igsYbjHWNhbD0hEuOho19h8+BK/ee1+Uutzmd5mC6w85BhkJJJ+NwhZ/cuGwq8Fl3dLONA9uMLN6UjG48do67ukYstsyP0mJoUTCcze7vG0OBYsmWgC68jUGdfbfKBdTSOrmQm9QZOVOM5D7a6CQUrKktoX6tuxsWQJt7gxN38fnJasFMSk5KthAh5KiO6oXEBEaEyIdrHHlEbPHqKCF37YWWf52VvfKjwEmjoWJKRtDWGTQ4qfMoJikBomRoMbbL23A6DS9qxGgHmYwbcrON3vtLOoMjRNCLXiVXjLBgZrGO/nDcQjBoH0LoVOne6VBQUAl5DQDyvcmdfFw3nHUxo8jHSofTezimKUlabajEbvBB1M60TKezZxIkW/LRH+L4IqzL+Pat+Ywx7eYhjzBkIDBjALrcSYVijdMwdtbsLX6CR88iMBRw+gJhlmzbRG6EIzs0LDr/fNyDQX0vCjhww8kNmcTzphg5TB7MqDshUDqBeDogmgxuQJVQ4E7avL58z+96KrBgsO8zD+2A+dDfCO7dYQYmFWZlHKPi71+aUFlvHQ9QQhRDMwVQvRlK2BN0sm93ep8jwKPAhx60EiZOpjljc/eSQqJEGCrKibqa8IRTefuSQFBj87/XHQRvsZWrjjrPJCS8rJS7vzLH5ly4rf58MOPufDUaQzfZyQTp5i2nc5Y75nKS0p54Be3cflNN6BLg6LKYp5/cw4nnXEKV11yFf9+/W1uv/d2JKBJM4K+73/v55YbbiESDDGyYjAP/eqO7K8q1ntfzHtpHs8/MwfVZqOsooIrfnRN2rsb7Rr2gtyakH1hVsV4SlqXc0t5By1uG0PCAW5vq+5z4k/93lPdNvJmTYUremeRPifU1KDswjNoKHubp5vW0GUXKK4YZ+cfQsGJJ6QFlKgqHUaM5g4/hXlOBpXmI4QwB9kTjuMUjssaWBsDdekB1U56bEPfVoqp5enUADPT2ztNziiO1GutOv1criW9Qz4UibJ4/WY2NzRT4HbREwqzo60dpGRomZ1RbTqO+NfzxkEOnj3Cg2YzWPnpZ8z7VHBqocKRNemtPqnk/aTcSKadHmZJMRMDKTHG4tqjdWUq9aUqg7w6Y1p1VEPQXahRo379nDHsLpWNI4PsW+fJEsL/5LBuZmwuJ1JHmltPKiJ2gxXjfDmbsVLRl03pruBHUS8LtABazvlGMizSq7IQFkZa5uvN2m10vtZIZoMdqGwv8OO/8pY+z5/L0nFPYtilb+HqENiN3oxx5DPBvftuRl54PAvXNbBsaysx3WD0oCJOOngExXl7RoT/0Zc/oVsRpDpHrbbBD5ztPHbp5bikwndmTeXJ39zB7LI6tpYYDOsRPLRtBNMri9OC6PlnHsRcz0pOXVRKfkihuTTG8ye1MWXM6D4bZbQUqsTuZrdLT53B9+k7iEyFc10b1VfPxTDMbGzEvozCchv+/Spw7CMJOQW6InIuysBsutRskn+e0cL04iMIH1xF98FuileFsOkyzcSiFxIKtyK6DkDqbnJlLENOmPWTNqSnm2F+hYcLj+PS0Pu7v1r7eqJX37Bv7HECgOinx2WvQAhxG+ZY+n3g2/Es5WDgfSnlfvEmHaSUd8ff/xYwG7OZ5z0p5f7x7RfG978q+yy9OPSgkXLBKb0TVN6sqazo3IdhBeXYdIGmSvQCBSoKkUJgeH0oXRquiAICDAGdhTE8bidqQXpDVTASwxeMWv96QmOQV+KOpPKWTEgh2V4V4ZCy3kxaVNfZ3NlFJH4wgUGxCs6iQoQucW72Wgh/S4IuA3VkryREW7ePmJ6jBmcLEmsN83rH85Yv702Cu78zwpoFzXTtCKLYBEPGFbP/sZVJG8SBigX3V5oNovOjBR/xzNqNaGhx7bwIlxZBxeknW2YMRUSn+OGVDHqzATVi4D24mNafTiAyqjDrvVaBVV/I8vvtgz9nlVnoL6sQDEd4ZN7bBIKmy0nvWGLeK3ZNcs4XIb61IUp7geT2aUXoamZgYXBFhcpQC53QVKQGmmnoJwDPlEkCeP30h7jlEJXNVTYUaWocVnfrXP5pB49fsI3lnJ3rcF8p5u5YTu3nGmN2uImpErsueHtyFyeOzGd6xSHMW7Ca6CaBK2yOH5oqsemCmE2yZWiI0UfYTPefPrCzkkP9BWjeYIQ/v7EM3WL8MBtzJM789VzhHkPBKdae0YvX1vPe0i1YZoM8Dfx82nlZm5WgRuEHTdi6IgQOKSN0cFmaxm7q/b67FBJ7XTfVlzyb1fRjIFk11s/cS6dQu6MJPeUVl1D44fnT8Dh33UCgMVBHMBzjyflLsfpubCLE/1xgmrznsmm0KuHPbV3Oryu3s6NAMrRHcFtrNnWjL5pRJjLpFXuUuiMlw858HFdXdgNkt0fhxguKzYBQSn7/tI+yHiPtm4qpBg3lUTYNC7PyIC9HDj+g9z6UEvHYW8zvjrKmqjBe9k7AAFcHQ5WtnOI6kOe9Pvx6FdYZSx0Kt1F/0x+SHOmiA69cIqU8fPe/gF3DYWOGyEX3ZTeYOmpu2a3rEkKklujOBM4F7qbXvOZnwBwp5f/u6jlyYaA2jQ8AT0gpl+/KSYQQFUBMStkthHADJwH3AK8ClwG/jf/9SnyXV4Gn4+etBvYFPpNS6kKIHiHEEcBi4FLgoV25Jk9RPhX7DgbStSCFlChFhRjCR5MWwhACISTFigelqDA5XSe6qSO6kWM5IFExUKsKkfX+tNWZFJKAy8AmU84toaU7gJF2BIUuXVLu82ErKiLkMnBHlDSOnBTg92gUpJRk3S4bsUDCODgFQsdhmP6+mm6wvqGTTn+YyiIPYweX8LOh6e4ZkO3X65UGj2tB3jEiVAuVq20eDh+ANmYkoPHps3XEInGtsJhky+oOtra0c9aF5iDbV+CamrWx6rDWojpNDSFUm+DlKnhW88aFr81bPCZd/D3g47GPljBj+kVZ+z97+T/wLG1Hic84hSs6yb/iPU5762pclflZ7x+oTmBmw0dfAUJqdjbts2WUPjMnh4VrtuIPBpMam5m/e8wmeO4ID88d4QFrNh0gebG7lvMysqQlThf1rV78wSjuAjsHVOUQWVdJ8jitAs+729dzc7m5b+I7eOvqcWzauiWefTCvub5M5f4zHVzQ5uHr2pdZM3QCcx3L+b1zG2GpIl0xfuYbmpzwzz7pYHOEA+Y2LGdedxeGptJdFuYyeyU1VXsmoOwvkExdzDS092BgpdspQA1R7VjHuXmT+ixvDimVCCy6v4VOqR5K5/QSz1xd8xq6oaPqglJVEhzlpP3xyyC+qNlTPFEAW2cQTZVxvl4vFATugIOtaQGl+UpY6nw0/xVOmZFLkKtvSCnp9AYJhKwpVQCaENad6ilIBJqpvPCLmUrN4/P6pG5YjT9WGe5MGlLqWBOONpobd8MT3bHdh9KjkRnM2Q2Fcr9kYl2MZSPtRG2C+0/L45ZX/dgMiRKvvi7b38+h54/l+nijZBZuGssPYjG+/bd/sTGq9Q5xagi3axs1ykEUHX88P5KSp+Z9Ql0sO5Fj1xS+tUpS2OLHJZWvxubzS4KUMjlJCiF+AhyeYl6zUQjxBfAFZuPzHsVAy9924C0hRBumZuVTUsod/eyTisHAP+O8SgV4Xko5XwjxKfC8EGIWsB1MqT0p5RohxPPAWsxZ8Lp4+RzgGnolhd5gAJ3f7/c6GwAAIABJREFUmQg8Pg9mjEHGxcerUl5LWiGWupJkTUNKNMPApigoQtCkhVGFACFw2FTCkRhWKXddMYi6VIxSFdWrYdcEUoDPo9NdoFEuPEkB80hUw7Cs8Au69BiVhoFRbMPvi5EfUkGCrpoZ1Ap3PiVqbwlH5jnZHIriN+JZCAAhEUqEIWoBDULnkZcWxbk/CgKDSl3yvbw6SjNKY6mluU5pcFy4nVYMzCE0ylw9wKxSJ/dfdFnO7/vextWUP7GZUs1I8+y26wqRdoPf9mzGcf6Jye19lZCtUP/yapbPfpNIXMfsgZpiosXZ0kdGrJBfdnzCDMygMpGB9XdGyFvalsbvUxDousGb1z/M1FOyg+2Bkv13JsM7kHJn6uSQmJy21HekBJT9IdfEIeh2id7OUsAXjPDIS4vxGTIulK+wv2MpM846Gt1jdndZydn0SysA0HX+0bwtq5ylqQIfRbxWsYl7LcrqCeyu+PfuItUO0rygHO8bMoEaS9Z3bgz0M/V1v2QGpitkOy+xyuKdBji8nHXm1YT7Od+o6ipKbSodWmqDnYEQMS4sTncLQ0qqfvwKtojEFn+vzRAomyNo1z5B8KaziY4u7eeMO4fIvmXYteznIKoabBqqo2MliaayNNTJKTmOmUpFyczON7d5efHtZQSMhGGvtd5ngZKbw5rAvY2r08XA48943qw9o86QeYzEvbOnfNQDwW4eKXsfTVUZ06rhTAnsJXDNggDPTnHz3jgn9aUqvzsjj4nNLXiL/XSXh7naGMT0zpI+u9ddwCK1igcDq/lTsY/O/BDDQgFm1w+npnJUkj7wQ3UIB4br6MaFpiaUFyRHbYpy0SfFzLnhN8x4MFMd8RuNIrLNazzx7XscA5UU+oEQ4sfA6cBFwK1xm8YngJeklNldJun7rwQOtdjeAZyYvQdIKe8C7rLY/gWwc1HHTsBo9+KXkjASJ9BqxOgRcfkMoERVGFlWlnx/k92wbuwRErvUzeCzLJ+oo4dWPURUBYcB5cKNWpAP8YynkatcDehCmB3gZW661E4aC3rQBNgkVMccFGtqMkBOYAw22vQQLTYdTTFwSIPqqIMiu8pyfyCD+6PSohp811fHK0XWVqF5s6Zy56ef0bKkNSXXZTq6PNYVxvHkQ5SecLxlBytuJ2KzF9XiI+qqZFXzdobFBzWrJpG+4NzqY/Rt76FqJG3eIpa8G/N6G5z2ZENPopEn/5MWylUjqZOWgF1X2ODPdmPaHeyuG4gVR3VhRKN1wEcwM8VZck5AdbQ7Tc5pkn87XtUGqMm1yfqopH7BUh665LJktqO/JpKEMHzWlRi5qDeChgJyNk591QHl/yckgoXx5WU51BskVbJ1QCVQRQi+P3M6r738MqtDGlKAR+3iotJKKjJcsBxbuiBkkbnSFcpWRii6/Hm8+9lp/vOZkNKdvbPUkjQIaDraTtWnMZzxBpeYahBw6yiTS5Axq3FBJ+yylj4C0isHKffwtRX7MfqpJwhlCcebskxJ5yglwt1dNr4zAG1HqwrM3uxUhz3zDG0yNM4MNeM7qxDVAEMRXL4wyLc2RonYDFRDYDfgkk9DXPxpCCkg7ND55TWNrBX9U1wyqz23MpVb4//fcu+LrF3Ywps71qGovZSqhf4qfr22ic9HOXFokhPXRjhiS4yoIpgbUli3aAkbkyngbzz+iSnL+HugHtO85ofx7XscA27UiWcK5wPzhRAHAk9jZgz/LIR4FrhNStmwNy7yy4KOZIuhE0IiE1nDZObOHJC6dAO1uYWhNjM1MQiw6To7bCJuQwcoGoqIMFQtoCT+PsOIUi2cJOvbBuDttQkMSYkXUymmMGRQEJZIAT0uQdQhk0FjMSrFFPfS5uy5P0+F3U0FoJQVITFL7S3x8reV1+9HDkfuAKppJf/atDFn8fTFUC3fc5yck7Mjxg0j+nlLFt9JNQSrh0WYsou8nvLXa0FPz/BOrIvx3gEKumoxiQSGEHznI7PMFy/X6vsVohpLst4aVQ3WDwtTnBLwZmEnmnn2lr3ctbY8PoyGMgLFdF5lYpvdtYMTvOW85UwNLgxs7gbuaB2ULLE1S50tqo3s+0TlGa+P3z/22m43kiyXduYTzrpG7H6G95AMcPvq9v0vrGHlO33f4FJuaGvBiMV5wkoMZ14t57r3T9ej7AsqnDn9aFJzyLaolhWUqQFfTlkcBYFDExRsjFH8+w+oufP7aa/393xIKdnyWTt1S7uIhXUKKpyM+/YgSod64LCxvMJKtm4O44iqbBkRYPLIPP6g7sPz2hai0kPvPW1ySav1tp0W9H5OW09YprqHJWBmflGjlGl+ftOZ36996tcBIV+M2i866GoMklfiYNThZRRV9WE7G4chJaeFWuhS1KTdMcDfj/VQ5YsRc4eQI0KM/rQEMOe3iF3yp5mN/KbiWzwwuf8Fu9ax1nK7syXA6DnbUfymoaRuxClVPQGO/NlUTnzpeaau6J1jvW7Br2oK8XoE8z5fDkLDXslhlgf/ZuEmYDNwPiadsAl4GPjr3jjZgINKIUQhZnn6YmA8MAe4FrNs/VPMMvTe123YBSgD7EVqkkY8oITctpmCDkUwNGVLud2NLRak0R4mqpiZyERW0GjPtjy0glsI3IakpNvAkUIZKfVLQMHrCFFU7B6Qm6eIl/CTfM0Uzqi9KbdFnRSk26JlXqPbAT6L/aWgNT+WpbeXCMLCegut0yrwPCkxNJm0ZYvaDDYODSE9uflI/UHxRdI0KwHOWRLmi30c+NxkSFAIiBYzx7corasxNqKY2qEhRu1wJ4NeA7MLcdU4L9NSg8l4EGmVPesvUEwER3s6KDpZdTIjHOBFV37cx1mACAE2kInfUyLczfxvq4tzKsfwYPtq/lAYxeeUDNI7uau1Iq0JICRTqBMZiClWZb6dx132Qj4IBelRIJHZQUhc7q3c1jB8t+V//oteBB6fxyWUkN+5jduqatnhEQwLavy6+FhLjnF/yORaZ977Ukqetxm4o7nvFVdMof6TlqySZ3/Px7oPWqhb2StH1dMWYdFLdRx9wSiKKl1MO2w8VqHC/b4APy4Lo0dLAQG2AC7PVu5oGLzT91qrNJCWg7ECthCd8rAs56g9iYE2NSbQVwNmoCvKJ09vJRbTEVLgbQuzvdYLx+hMO7TvKf1TI0a3kk3bitrgD2fpPBC0UVN1LHMHLeefeiuNhZJYYZTbyq3vu6RChgW/M7Opq+SdpRBOdyi36wqR7WEeWzSfAzKoEP86yk1XXkqyQdr+I8TP47JBj8T/7HUMtFHnReBUTKvFR4CX48Lkidd/AgwsevoaIG/WVNDdWcFXR3dgQD34EoXtHhWnPfWOdFCW8q8IMMC1f1LcfLQvgr+jK63DW8T/K6OS7kCI4vz+V49WXFEAQzPoCcSw66AYMi3gEoaBx9GZpp+XiQmTnFw4/81sRxd7kOGBGD95fZulLiXAvaHVbLjMhfOtbsZu9xCzSRYe4uPl49u4yHXwwDMlGeg+qgjXv41kuQugKCS56wUvP72wiLAze+BvyJdZmRXfzBI+fK+FY1YUYdcEG0aEeO7kVk4vPwBbhuCySyoEHkufRL/q7NmjJWM5rnUFd5R10loQZXgwwmltHl4vD7Mjz8bQQIxftw5LBo43lB/EDWDGjQpZk99IoaKioVtkYgrownRW3XnoUvK0FuLvepAIkqvthdQGmngjL0rQFWKI3sbtDX3LVH0dIaWktdZP/coutJjB4P0KGXpgMaptzwTgewo1lROokRN6b9j2AbiwWKC/+10IgfNog/AHBopuupdkK1eAtBDm7wuxiJ4WUCaPo8PCDzZz1szczKgrb76Vopef5JbOD6nPlwwPCGYXHcuMy9KDm4FIHTV0+hHvrbRoWjIo13t44Kxdp8x09oSpa/PhdqiMGVyCPUupgT6dt8jwS7dFtdyf6YwRHP+7LcRiRrIBNJFJ7lyqM7d6eZ+NZV0YpqlS5hchBF6PoKbA3Ldm8ARqUl+3uO/yZk3l12XjCAsjaYsqnHlJObNEkqIzHKIxUEfxmm2oFkUiXZGsaq2j8KTRDF7gxx4TKAiW7OOwrl79B0AIcQowAUjrOpVS/mpPn2ugmcpFwPVSymarF6WUhhAiM4b52iLw+DzE5ePR7Qqt4RAovbpiA0WnP4RDwn6qPdl8kmzyyXhv8jyJf8d5lGr8vE1aGCElNn846c+cinse/TN5bg/fn3UpXYrBhZd+n23b6hkxYhjP/esxSkqKB5QR1TWzpJ4flhQHJUGHJGITODWJJ6YzOyD7nGBOAaZFgrzszOvNiNnCuPM2cVu9mVnKla37CUDeGOYes5xbKzdTXygZ5lf4Y9FxTKv5Tr/Xngty6mhefXwF4fowrpiCgSRql7w3HsJZSVcDnF0M7xEW5a7RzN2vh18fu8W8Nl9cwiNkEsBTS7BfdgAppaSzIYi3KYyrwEbVmALLYOWiykPMFqSE1GCFKatAEHN1shNZEyEEPwkGuNdji++sYHLEYtzVrexyBuaqmJf5WpBonFayTvcx3O5mq31f7IbY6ev8umD9h61sXdGRDHZaWgKsXtnE6d8Zl+bo8p+E6Qcdwtyi5bzZ4eXkj8pxZ3AaIzaDNWOtrSZyIdwTI6IauDL4zwqCjp5e0rZVJi+MwdpjJ3JRQmVdVdkI2RzuHKLhqbzTEfmwj3MNtZHUEriOovq5sPgAbPnDc34GTTfYuKORuo56xlbtw6jqKhQhkFLy+uJlLN2wBQPdLDhIyflldvY/K1vqa0CTd4oqQwKZzUc7Ftdhs5j8CgIqdxfWs/WMaWnbUxfYRwVD8PiT2TsLnVK8WS5nfVVzUg0zXM3B+G/nT0t0pHatG/uVEF3UkqYXC6BIk1I19Nxj6KxcgLqoC3tMRVeKGFCp7xsGIcTDwHnAe/TODrBzIc+AMdBGnfsG8J5gf+/5qmC09zY9JTJp3kiU1lAQhEA3DFRFwWW3ER4wQVwQFdAx5yUG3/dHaGyC6sEYN/0U8f1L0KWkNRiiPRRGIil0OLA7VRRF9H7pRnpGT9oUTLU+6xtfAr/63QNMOvZI/jn3Xzz8wJ/55e8e4Jbbb4aibFmfRAY0AVtYA187qpQ8+LSXL/ax01ykUt0VY8fQVi4+/JisY2Tib8X7ckLrCu4s64pnxMLcVj8w6ztI6ZpNzCUdu5YpScUZU0cx7/NVrGsK0uUxWHOAj+muSj7UDVrVeCpO6KBouN11yQC432v7GgQ3umbw+Uvb6WwJohsQs0n09w3sJxlMH3PIXj33zWXjKG9bxZ1FMXpsTkp0H3d1ebigctfOu9aIMU8LxaWeElDZrsJtXRv4w403pgUB3nUtbPrLYrZtaCC0byEd3xlNdHh+v+oAe9JK0gqZAUuw0cvWh/6alj1zaAphr85D2zejX3fSgI67tzi3XyVqhk2gZhi8oq4g/IENxQCHrhBy6LSWxjh+iIUObB8ou+5slGcezNpuINk6KNLLCW9amXwtrXlQVXu53o6ROc9jJXW0tamVT9ZsoCcUZsyQQdScPZXlb81nob+HqAJFop2LS/eh7LTcWq/eQJC/vvQaAUNHIvh81TbKbCpXzJzO1uZWlm3cEpc9MpvjJPBsZ4QfvPlin8cdKNS2AOPe7UGENQLHDCc6pgyjyAO+7KSEBLaW6rSmPJNWjZST8ww+C0hSg2uhhJlZVE3P8KqkE1dhiz8tyMx1jw9EWi5v1lS8l+/Dq0+tw9BTKFWqQW11GMMT90i/9CS0K2zoqsoBn2xgdW0TfdlDfkNxITBBSln/ZZzsS3PU+bog8Pg88mZNpVC1m/7aUpod2lJS6HESTZP26ZXjIavLD0pfnk/VL2YjQnExjoZGlJ/fiizwsPW0k+mJ9oqid4YjqGE4uKIMRaQHjYksoygtoKs9xHPzX+VPT/4DIQTjxoxl5NBhICQhl86/X3+bF994CaE4OO/iCzn39Bn87Pabk8dSU/huqfqb5oug2EzOqM2AI7bEMIgScRi8e/LAMwYXVx7CxdC75tlLwZeUkq1SJ4JkP2HL+t4SUBRhacP2HSn5ddd6nizw480LMSziZXb9sP9XpdWtSzrpbA4idHMxYosKDAQ7PtOYW7h8r3+W71ccTLKNwqJMvjP4zIihiURnbCpUnsyP8IeULe2LtvPxVc8jNIkTga2+h4IPm6h95DjudvehDmBh05mre7zzobl0NQSxO1VKh3oQWRZwJjKDyDC95TmAp55+l0qh48z4XK6Yim9jJ84+eMqp152Qlfkm6udNO/gQ5hYs572WHtSIjZZBIWYUlmaJwPcncaMDi8d7mbSqKM3CMGaXfDypixNSHGV6X4ymBZA7q40ZjET5YMVavli3Kalz2dzZydI167lu5tkc6xq4I8+Lr76G3+h9BiTQrhm88crLBEoGoVnmjlSe9a7mOnYvqMx/dwuVs9/FkAbCEBQ+vpjOiW66LpxEyQMfpjVRRm0Gi8f1UBnpXxz9jHMvpPSlJ3g/ECKs2iiikwuKB1NyqileLpx5yEhvfSeTj7srCDw+D9WQKMfobNoYYcwON5pNsnC8j7nHt3F/03AuHjyesDDipX+NU8YNYUddE92GjtmE+817znKgg3Q5ob2K/6igMpGlvKNxJWeU7U9xfLuIuwqpAiqL8wj4/ARkDEMY2NEoVjy0WSQwh9z7IGooXd1NhELov7qTnhOOyy6DI9nc0U5+ca8rj5CyN8soI6zvqOWBvz/K6489QVlxCV1eL48+9xQxVeLwOGhva6eysgRpRKmsLKGjrS39RzT6flDs5Q6i7QYx1ZR62Do4zFOnt3LL8KPJm75nNNH2BDYZGtOCzbSoIk770/lp0M/NZeMGfAybENxRegB3AETZrdKqrhnomsTuVBA5gtu9gYa13Vn8MQXB4HYH93rq0rUSv+aoEkpc7zLzFR2/K5p2733y+BpUTSFRrlKlAjEYfccnnP3aj4CB2/xlujGFhcGmRxex/vFNRBQdA9DskrzvDeYsW3nW/lad1K5mc0UVFgbnDBnJB+KLrP00RdJUrPGXPnjKqbDi6n6TUDNyAjUj07dZBexAWtAO8Kc1vd+vesYg3iho4KTPSsgLK2yvivD8SW0cM6pXmD9TqSEXZ7svVxkpJe8tX8NHK9dZaAgrBA2DBfNfZeq5AxNOj+k69dEEiTkVCquCMYYX5pKVk7S5d2/MUfxRKme/i6qBmji/JiheFqL2gBXokz2UfxZMuj+tHB3k2VNbuTTviAEd/4hzLmV4hunB9YccQ8H29O99T2XhG9d7Wb6gAaHbGCVtLBrXw1+ntTA4BPc3mZWzxHlSVSpudgzmjs71PFHkp9sTSlp5fsNxP/CUEOJuMlo9pJS11rvsOv6jgsrETfbLWVPZpNuzysNJlGdvb29tydL2czRaUkxRGxp7JYnSIAhKjX1tOZSSgTmr13L22aehjcqjK6ZDfj4Bt0GeQ1AtnQgpqUqRIhKStH/3DxsOh+C267fQmA+Dg3Bb63DO6ij62gSUUSk5OdSCT1VJfIcGKvd6iqhqW8n3KnZPZEBKSfu2AD1tETzFdipHFeTkvWlRgzdeWwv1AonAmx+j8HCYNn7vlp57rzXHdgFN2UY/X2ucqDhRpJE9QQuo1tuTm3TNgB7r30OvjyTpErsiaaSzjY76AOvnbkPoIqltakQl3f9oZO7UHf063mQ+J6W6xFAlBr1lODAbBjaO9Q2I3qFJyWqpUSgUhog905Kaqu/3ZTzbrVv9bFjYStAbxV1oZ79jKqkaXZDz/VJK2h98CZtDwe5K/8yVGdqEv05ZTIYv3J857qeYffhC6vMNhvkVZpfufBd7Kj8v0biXWipfv62NT1aujRsLWHd6rwgGmWrxiiX6YLAZQjB+1Ai2NTdbasgOiQRMu8KIjnSqaVaXA4FnUT0xRUfNnMNigp6lO7A/eiONL7/A4u0rWT8ohkfRuTTviD4dlhJozHDhSuDhFR9ZSq7dmGFqkJq5tMpQZwaiHfUBlv+7AaELHPHfZdKGfBxz4eCJzj6rN6oQzC47gDvi11B0z5XZWnLfPCRcc87K2J7KWdhj+I8KKhPIdNQZCKp1SYOaqv0niVYPwtnQlPVeWT04x1EkhjD6PK/eE8SFwlh7UVKDskxx4lbNf1SVl9PU0srgqkqaWlqpLC/Leaxc8CgOliln7/Xytbc1TOPabnRNMmjfQsqGewaU5XvHiMRlZrLfe0dxhO/txjXFIjqLn9+GrzuMoUPUbhBxGLhONqgZmT0YvTlnLUabSJLBy70OIh8avOxawfSxez+wrN6/kPVftGFPIaMbSFpLYuSz55bZjdJ0hR68hwIaKziE4A6/l1sL85CG0/x5hY4zbzN3NPbKuiiqIGqTuCzEqns8u1+y2r6iC6ln5p0E7ojC3/Xm9C7VAUBRBfbjDbo+knjCKlJIhIR/nNXCj8cchVqT7QyUmj1d39DJ/MUbicRlahxKgIsLVapPPH7XPmAcCX2/BA0A9h5vs2VLD8tfb8CI128DnVEWvb4djtCZNil7Edi8ycfSd3YQ08zvauOIIKMPs1Mz1HwG+7u26RQznam9/Odd6GJP5eelu1SZQdBnq7ej9dPYodkHvqC321QcSg9RI5/0bKVBntrBIaNHsOTzL2iIJZp/DEDizNvCJR8OYujDj+CIKfTkabScmkf0htN7D2EhGi+lZHt7D1tbvRxQ52dyjuvyOySF/u3knTSFE5jCCamfrx9jAyDbWtbC6CAVA6kwZLoLJRZIgcfnUft5e1b1xqEpHLIxn3uO2zqg6s033aYxFVLuAb7BTuA/MqjcFVTY3aixII02A00o2KRB5Kc/wHHL7b2cSkC6XcibfoqIt9xkwp5TPtzECUcfxcwrr+VHV3yXspISOrvTqRBnnXwC/3pxLjdddxX/enEuU0+2NCTa64iGNDYvaqdlcw+KTTB8fAkjDi1FifPSar/oYP2nrUjdLHduXt+JbZyHs5+6jvua1vR57CW1LchlVtZmKl57HwLtmIORFWcnMYCsveMdfF0RhC5QAXdUxRFTWLsiyPzDvJw//eLk+wP13Rh/XJPVXWjTYFldiBm/y20jmIldncRHTSpn06Y2wj06rphK2G6gq5LHpjVxW+vuazmuNWKcF2ymMZ6dsYswv/IHuK4825pyT+CaioMZ1LqcW8tbaMoXDAuEmd2Y3uglhOCzg7uZsrIYZwrPK2w3+HRCF6n5KBmXKLpXD9AsdfYXNu6wF3CsmpvnFovoaRnF5LEEeO27Vmacvt8hzC1ezmOyiS6nIFoQYXbVtzh/+sXJkm4qEpPm/6z7jJcXbYwHL+ZvEDXy+HtPmOsWvEfxCdmB5c7amH4Z2LCwNRlQJuDQFNpX6cwdsZxJ5QezTmrsI1QqWmMsfWNHWqZp7DYPm/UQcx17nyecCSuXKoCnHf0ssIROudLcpxxaZhf5BaVFPNERjZcgVBA6QkSpKcinJbSdi2Yey+rXFvBBoJ2AM8Ygo51Z75czeoU7KZtW7LfjfiVMre11uMIc/zPvCd0w+O4b7/HmlloiQrDEMDjSyP48Ubtk86ge7ttJ8fe9jb4MD4Jea11jTZUEBph4Czw+L9k09F/sWfw3qNwJlNo9JN1qBXDuTAzVifK7+9O6v2XN2QyNhai3yV6XHWGY3ttRe58uOAfuty8/v/4aTpx5EYqqMuHAAxg5tFdq/aZrr+LCa37E3557gYrqwdz15wdYZcQoFQqDhWI5We5paDGDT56uI+iPIuK2GSs/aWbN1ibOf+Nmutt8rH/oEYRGspPdGROE1wa5556HkVedliVkm4qRw4oQy7ZYaMDplOq+ZDdi6n5Jf+mEeC5xpw9Hyi2uqhzw2hpsGQk+VQrG1Xn4ZduHrO2YmNyet6GTKpvM4t2oUqHQ6xi4nWSKJeRA0ROKEojEKMt3YT9rJOLxd2nY3kJdhUb9SD83Dz7GstzXHwk+dXXeE41yyqP/IqgmZIMgJt38Mt9OWetyLthLk7vZZU+fUkeT98vji1gPk9YVJHleCyd4OXFYerfwI1qQX8e8SYmilVJjZqSTuc4yjlSzFREABu1bSFOjP9vdSReEivpzwO7jc1VlaPF19J9xC0e9aBZ8PWk4eTG4jrWvZ9umWtn57QyapM5rehgdOF1xMlzZ/Wkg2G1m7Lo8ghcPd7N8hB13VHLy6jAvFgaJhVvRhNnx/MPPfUzKyBTbdYXRDW5+79j2teEJn+zX+AupPucJmFaMdnc9F7qGY0vJzFna1Kag+rRjufKtt3nBW0+XzUGpHuK8wuEUn2QqBNgiUSaedAzJUUgzGPXwm2k6vABOTSH//R78V1ifZ+7mrby5tY5I/LkIOVX+93gP1ywIgjD59LoiWTjBy2X2r4HMxU6gpNpDj7c7y/RCkQKHrX/1FmlIfO0RPOvb99Ylfq0ghFhIDvKFlPJbe/p8/w0qdxOy5mz0mmz/0rJEZjPDZafY7un3mJfOPIdLZ55j+VpZSQlvPPtP1hlaMuepA21Sx2foHJBjIt2TaFjbTTDQG1CCmZWINhnc+scHqY6MoELL5pQ6YgLfqhYKMMncneGQJUG+qqSIfV0qG8PpGnBCCXNhyVgqLPZJHiddjz7rBhd9iC035UtcjureDWOKcWgfZb0vpho0DQpRrQ5QmjVVK05K1I4Q0mXDyM/+rcLRGM/MeZltUcNciEjBJI/GhKtOwAZMdrmZDNb6en34x6dfj/klrdjcRCjLas7UpLylLEBjRhA8EBehTPH7/tw9EsdQrzgzzev7XM6E39zFPUdvJaLbsNs0fuYbmpbF0qTkzpSAMoGoEPw42MziAmutwCHjili1rJFwj4ErpqAL0z3pmZNbubl72JcqJVUvdawlTiTNbjt5F/fdDZ2KgUgpPa0FuSHqRRNmqf1mYGbYz19Kxg7oev2dEXas6UaLGFSOyqdin3xT6DzfRntU55ZzC/E7BbrCiNEJAAAgAElEQVQq6M6Dp47yoEt3nANoPo3lXgXFInsbUyUR2feUFIvoxMI67gJ7zm79PYUb7Hk8G+vBqyQCS7McjaeRUrWZexuHUVNp6tiC9b1vVRq+94JrudfifFbPUySg8WYOLmaJz86VOaxMn4l0EsnY7/PRTjYNFkxpbMIpIzRVB7naGPT/Sg0DYMyUcnZsMmlVicAybDeYd0wHv+jq+/nt2BFg8avbiBgSXtjyn2LT+FjGvwcBswALgdHdx3+Dyr2IYruHYjy9ft99ZCh3Bp1SWrDpBBEhadFCVNn6d93ZHXQ1hLI4LRBvTNhez4Ef5LZd7PQYJKj7pS53WukoNXt5wcxz+fiVOXzo7yEmFAqVdi4qHUHFbmq1+Y/fh7zX1mEzegd7XUjWjQhSmZGk0ks9dBzqpmR5KFmG1YUkapMUfCs7g9Qf3EsaKb/1ddQeczmwaUSQ4LnDKKrp7R597qV4QIkCUkECnwWh8p0vOHxaP5/dIkGSKXScip5gFGkV0EiFLkd6wDtQW8rUbXmzpvLLuKxHKrICzTNGQHybiOg89qf5FL7fzPCS/XjlgvOpOn60JRf39tplhF7L5jQDbLEpaeWtVPFl1aZw+sXjmPf5Kla3Bmgp1lmzv48rqbKcYPNmWbdi7AlO4gmKgw+MTN92QCoMCQeSEmip6IuTlvidrEp7zYEgP/rb0+iit9QO8IIrn/Htq/i/9s47PI7q6v+fM7MraVUtWXKVjQ0GAzaY0EILLSR0bFMCCRCSQAqQBALvG0KoCSXhJXEaPzohIZAQApjeMRB6t8HY2Bjb2JZsq5ftOzP398fsSltmpZUlud7P8+jR7t2pd9qZc8853wNqduZ9J85YMfmaUUxRVp+31E7mnZuewkk+zJd92oZvcoATHjyfqbXbcd/D8wj7JUO1xP2cuZxF4/xMbI3hz7Ir/bbgBLxjFK24wzOPL8JpEBwDLNPBv6fyLCU2VIwSk/dLx3JR5+c8E4C4P8Zo1nP9+pHMHnV8jvGSfT7kSyTL52n2ElXwB0xsU+EVNdVUkz92MZ+vtKPM4Nl9QsROd2t9FirzmE56XC5snCSwdEpHFHHI6Tvw0rzP6GpRtFVavLFnOydW1/RpIMdCFm8/nErQS47MbBsyjX/PbhORh4C7gV8P9fq0UbkFEu7RJ8+l2bRz5BmHmtIRfuKmkxNrCELQBCfhIF7GisCyKUFu9Six8puWT6nxu4aML27hhFez/9f2Zf+s6QoJHO+L9d8Zz4TXlmCFHEriBlG/TaxIcd/R65ldPJ1ovNGdMOnNi845kvB1TzPizTBFcYPlE8Mkvl5H0YmH9C0tmeU1LFodZOzPXsZMQMoztePKUlbf28i6kntJHHwQkViCFTGv4TaT57q6mF6AlGW6YV5TEug1JG07R27yhUkBXv9oea5BIw6j4sEM1aG+Ypzy0ae6kge25fDW/SvpbIsittBCBw3vLMfcr4JZt57bM92NjQuxinz4q0qTNWRzl+X4ot4Px3Tv6/GTMIFxyb8VwJy0SVN9lR0T2bPcAYQzZPO/46ZzY+NCogmLsifeTdYuTB13G1/Jen7dPK5HpSrdC5Z+DLP3sS+D4P3l63HwqhMKV5eVI7EWLBwQMJTN6VU22x1xKABGyGLKyU8lS9KkQloMoisizPnVTcR/djQLlhaTKCAm9ekZJRz6aRwj7mR4mubt3c4lXfXgURzjmUcWYa9LJszZ7rpj7zg8UrqAWbsNX8JcjRj8bUT6/Wr6RvVkG4bgm+4Q+0gyhsBjPofxu+Z/fJ/uK+W5uMfLCooJkVBBBcbzkboXbEpp2rLqYo47qfc6OLePaVMsf7+VIcxt3NJpAIbljWyjGpUiYgLvAQ1KqeNEpAb4N66Q8ErgG0qp9uS0l+K6aG3gp0qpZ5PtewF/AwLAU8AFSuUrvOJi1I7IfXO3erW/h4L0W2khkomDIQC0e5YsAstwhkl8qZcJu1Wz6IPmjAvUFkVHhYUVsPK+Wa8fkeBH9ui8mq/ppG56VsKhbXUIMYWa8aUZ8oSd6yMsfnk9neuj+IoNJn2phu33HtnvsJhz5s48/sHHzIu389nYBA0TglzVPoEzznPrH+a8vc8pbGgwm/ThyA9vfZ6lWSEBfsdgfHMxj65YzFFfOZiWqJPXSIqLv09ddvAYbutHs/wQpZhk26wwUzKM4ErNhbm+tXqjKwqtW9pNZ3s0wwtenDBIvNHNg5df15Odf0VabcPbfP+mKzGGTEPJptZs6PmWEefmUeIkH4XWwQTvIX3wyizOpMTv4wfH7M0rL7zNglgMy7QYaTbxf7W7csY53x7QevvixsaFWLbjmTwIgk0xpJKFFDgI9wbjnPffl6k44ghGvNXkWZKmJGGQWNAGQOWMCbC0Ae8YRHe9ohSdAeGXp/r55odNTFtRRkeZzVt7djDrwD04afYZOVsXbQ55JswVWULnW0J8R5uikq3X5XTCwbvzqP8jWhdblId8NI2MM2o3g1nT8xvTxxrFHJCI8bo/dVwVCBSXf8bVjRs3xGNzYd3SrrxqdVszIpJdMKUUOBFXfnvI2dieyguAxUAq2v4XwItKqd+KyC+S3y8RkV2B04BpuE6EF0RkJ6WUjVtz6Qe4HfIUcBTwdH8r/k3LpxkB1MeXTevR3B5qxvRhrKZOaa+15ijg5MFxFHR6vCeKwq8c1ntINqbTVerj/gF4WbIfmNz1OBxm0fQOjAj6EAWf1Uf56wlruaHmIKxHG3KWEfU5vLJ3O/f+MjOayGsY1VKKP1gh7lAxuqJxploJTnkzxLhOmxUnlyDf+SpFa0JMPvcNjKhr2cbDNgvfXs+iRIhZd5/Xu63keswMU5i5z+5kKNrm0S1PL2UxUNKPUMfrq3ICy8ENGXASPi566gsSSnGb8vJCO5TTf71DLw9DX5rlhgivlk3g/M5lPFnixzKgSpq5od3PiZsgzqppRTdiebwomYpHYm09STDpx2JOm8mPRjVgRce5SXFGnKLAF9ywrorZT33Rp1GXzxDcEPL1c3ZmcXbcHUBpsZ+jjz2ItAIxrACuSZMaHAqWresgv/ZxbkFuZZcyN/gRi2t/TPPYAC/xbs5cDoqOgMPISIz9JtUxf+marPM3mVTXbvG9/0aZutbCNuD1aWGa97NZdYsb0rGrbbOUPIb3Z52eCXOCUBX08cT9S1n5z6+Dz2N0JIv/HTd90LKwm4KZ++9OzrBNH4gIj1duz59bFvLHqjAdpRb18XZ+1Th+i4uhHCqiwUIlmLc6zsz6HgLeAHL1ToeAjWZUikg9cCxwHb3Pv5nAocnPfwdeBi5Jtt+vlIoBK0RkGbCviKwEKpVSbyaXeQ8wiwKMyktrd874vtryMdbnRlb0yCQmjcFs4y67SHrqtpzjkaytoi0aZWFXGwoIFPkoK/bn1KlVqYbsHwwDO0sRx29kGogJJw6GUG0q2h2nN7vcsDAkRrWU9ix/OAzmqDiY5xzL6ep47r3+Gn5ftpIvRjhUW4prmyZy6g/P5F+f3kbsoXZMW/ApIep3aKyLMflLEzKSMdKXl/5Q/0mik7mJMHHDAL/w8Xg/y0ZVccMDXWz/QIyPx8xjx4/rIJY1xGwZxN8L8qef/xHj6H2I7lTp9vEghil7NIQHswxgZIfFiH8syck49llCrCLeUybp8KdX8WI4PebNwXQczgqXMedbE13ZJw+8PFaFxDyVinB3cnjPSjg0L6/B/PJuxA+YSGBcYbrMhXr0+vOqBZrnYX/2fo7xrYCVI+2e8yRF6K7HOXHUHkjTfK6u+4DVlTCxG65a11uiKF+5GOjb4B4u8m3P43aUmxIhWnE4wijmZ/4yRm9gzVAvQ7qtO8qqpk5yjUo3k9k7Ck/RWObeQ0buVe9pj8b9isVTu3g4acCXfbiY37cGUU4ygLyokzp7Db+aO56SuBsUYzhw4KISvmgTWuqeoeqwvutxxurL8HnEcEOyukTIZofrn2Tm3rmjedlG/OZuUDq2onlFkGgwQdWYACPGDC4+/qe10/kpQIJBKYptDfj8ghUf5mG8zRCl1OAK3g6Qjemp/CPwcyBdYmG0UmotgFJqrYikTvnxZLpm1yTbEsnP2e194rR05N5MTtoJ1dKZ8VatWjqR2qq8SjspA9TrtJTaKr7o6qY9Guv5vTsSIxKNUVtVnmE/9hh7HkZf9gFRTtzzd19lBaO6u2l3QiRS2eVmBdUjanq2FXoN34hStCUjqvxhiwufXJlXSzsbz8Dys4/n5Msuy1GjjeIw+8rv8/DYv/Pmq0sx4iarJoSYXVXD+YkdejIl88XoNSqbh6wIVpqGOYYQN+GZ3Yo58YMQKxau4rD3haDHgfA7wvjn4vDc67SNiFNzsDB74tC+medL3OiLrnN24NkHPseybXxpcWTvTuvi4kkHcFLK4Dp7Otfefw9/aW2GeAn7L4WjPwpTHXawH3yS4rNGc+KPv5uzfC9P20AMpbY1Yd6au5KY4cDzqzEdkEMqmfWXHwEDGwrOR3/LKDq0lAn3K8w0b6WDIlak6BwZ8U7wAWA7zkprzo6N3BQMxAv6f4kgcxJdPVnst9tB7ldhPvzet6gNuPeibKlJL1Lr8TJcn7Sj3IKNRz0EDInjqCJyDEszwYRgoufeaR5iE37FjdAQJRgKnt+3nTOL6wDXYP4lI9m5czVX1q2lscJmYtDh169MRtmZakN+26C+qZinV37GUx5lkyDzOnvgsLexXuzC5+TeswJxkxfjHZkjD0k2F5WwQgh1xHnl/mXEbFebWwCzTnHMKdPyKn5pCmfCjBqWfNDskQuw9SMiOwLfxLWXGoB/KaUKrIk3MDaKUSkixwFNSqn3ReTQQmbxaPMOIswTQSgiP8AdJqe+ovC3vT7VbmxFpCuBFXcQAX+JSUmFDxEh0txBu7KyNkawlMJu62J8H9KM/fHrOX+mvKyUi354Dg8+8TTX/OHPLF72OW889hB7z9itN7vc6t3+9O1oUQ4Nyu5pa1E2P+j+gucrtivIsMzW54Xe5IXUw04pRUNbkJXNXQSKfNxy5ml865zAgG/qnx25F/ajT5B9ato+4fPRPkxHiBgGDbvXUP5yY45XS5AeJZZRrcUsmh/iqqnLM7whfT2Uof8HUfDOx2hbHaa7xZV5rJtU3m8cpwkc/q3teX7eErrXKoIlDu/M6ODIsVXMahmR8dJzKSO5IFLBy/csS8YXJj2XcQj/tYkH265j9rhMQ3kwnjbbcnjrkZWI1StbCBB7tYuHLryeWdNnbJAk4obw6H42kXcUSty6c51lFjed0sDVzROZXUCBZq/hZcit3zkYY6O/l4rQXY8X7AXtUg6/T7gVDnox6HIcLnjg3+zxtb1z5slnYKa8/pB7Lu8gvjzxlA5OSQfjg7U0mOCeqW4RyeKyZVzd0Ftgf9a0Gcytns+DoTbChtBWF+HC6Lic4dQzL72CU9KOwfufPMbaBUtz1qxEYUT9+cUM1n7UW2f28kMY2fkUo9+1c675SJHN0rHxnGz/LcmgBHj50c9QUaFEpV2DzQ5PvLqQEw4dHjGCbYmd9q9j2bom4msdEsnat9sCInI8cB/wBPAFMBV4T0TOVEo9NtTr21ieygOBE0TkGNzcvkoRuRdYLyJjk17KsUBTcvo1wIS0+euBxmR7vUd7Dkqp24HbAb40ekSPjZV66HTFfBmxh+neyfRTLTWjYzsEP2txFWJwnYyxiMU/Vz7G9UtvYnVXA6PLxnDenj/j6B3SJTaFVlNR7xFnmT70XijTpu7IA7f/P8679IqCprdQGQZlig/9fn7V9im/GrlLv8voL1PQVorvxTt41o4QFwEcJn/4OT8Pd3DJyGkFbWeKSc+851nmxrAV9a3ucHfL6DDH2iXMMzO9Wtn4HGGXlaVc17WI98b9JO90AymNYcVt3v7PF3S2RbGUwjIV4YBN+bn1nHSmm1jh5ZFrD0WJxm3qTtqeSye4w3Tf99iO1DasWdSJrRS+bENAwUPhNk5OPkAL9SC2BaO8tXQt6zpCjB5Rxv47jaWm3H3RKXu7mVHiZBiUAP6E8EFjhJP+eOxGGzacuc/uzK2fz9+dJppKFVPXFnHFx/UcPWPX/mcm/zEcyuHtoTRWFjoWlnh5EA2e6+7knn4M6ULL0+xs+Cg2gsSccno9kgpEMc5Zzwdle3BV+6fcWx4jGIgx3mrl1w25BuPscVkF3j0iJLL7pyLczhce1SIMJVhliR7D+MbGhX2GSDi37cg/D/4/KoK+HsPSFkXMr2ic6GrO5ruWLeXmQRciE7spiAYT2J3gzzKYiy2D5pXbbCzgkGKYwnEnT+eRz+fzH2nh4wlx/A9s6q3aKFwPzFRKvZRqSDr3bgK2TKNSKXUpcCn07Mz/KKXOEJEbgbOA3yb/P5qc5THgnyIyBzdRZ0fgHaWULSLdIrIf8DbwbeAv/a0/Pfs75WGrNP2M8QfShrR7h5mltirDCFuXiOBri+FzMk2zhxqe4mcfX03Edgscrgut5fo3rgTIMCwdcVhrZ9UUU8odBvdIqnnwXw9x619uR0TYc7dpbD95ElLmGgC77DgFo7YK8fswRpT3mcG+LhEhErdQoVRATTomd1VYVGVpAsPA6489bEd5zo6kFaE2UcANZZVMaZrPSQMIDN/1+7MpueVGonYF6cNxfge+ujjCK3t28uMd92fMzFNQa69lzQLFuGZX7M0rs08BzcV9x1INxOBY8loznS1RxBH8CH4b/JbBwoeW8+Dq65g9ao8Mr956ZXNsqIHlpg+SmtDNkee5sWbnnGWnb0c8YmXU0kxhKCGa5nVLlabpi7XtIe55ZRGW7SqaNLZ3M3/FWk6pTLDT1w7BSDgepahdPexEsk/z1Xzsj+WORePX92ZyTSUTK93Il/7qLJ7MsRzw7BLe//njxMTBFnjmnSWofWw3YaEP8nkqB0MhRcU3lNFi5PEgKuJFfWsoD5Q/dEb5ycgodrwOEPAHKQms5JqGMfhHCdfX7ML14FZ1GML4u+pxAfx2SrjW3VeFYtWoKD90eqtBXET/akElRzgsXhBml5WloGDxpDD3Hr2eq1vrse98MudafsWOcV6kibWmD8Sh0lzH79pNTt7MklWU48qEeuE4Pi6Pd3GoWczhRlHBYUsab2btsAezkp9rmh59f5NuzMahHng1q+01Mh10Q8amrlP5W+ABETkbWAWcAqCU+kREHgAW4RanOT+Z+Q1uSaq/4VbWeZoCknSclg7PIaPsmMre6TO9h6OBcDBBImvia5f8qcegTBG1o9z8wR/SjEqFHwtJS8DJF7O5LhFhyeKl/Pl3NzH3+bnU1NbQ3tbO3bf8FWUnejyrY3CNpVQ8gNPiSr2tVw5dhuAToa40wOiSAF1OnA68pOccwkX9KJ/0o42amucf/11MrNkrTkW4vK6Nb2Ql4oD3w//GxoWw9iO+U1nEHaEW9+GnhNpQgkOWtfLE4S3sNWV7lu87w82MveQEOl96iVsin/DVl2s5eEFVTsxVW5VFpe1gfv/YvMZMY3uQ1z9tpKUrwtjqMg7aeTy1ld7HaKc7PsPMWofPEaZ/XsZVx37OyedclrGvXw81str04RYzd4/ZXYEKxrR8wsW1+b24oyaXs2xxW448m6GgrS6SYST3NzR9ZLSVhHLofbFwi6o/GApzx98e5bjK3XjaI1Yt6ndYtn0wxyAvxAiPKMVRwVUs9PlRTzwBymCfgI+nv3tWvwk74T89yvt3LU0WKe7d//h78Mjo+czaPn+B8g0p5jwgBpmw5UXR3BXEnTIyM7AdRst6zHN+3tMy2CHd00bNoLhpPlfXvcfqSsXEbuGqhonDng385osrAcmIqVRApZ8Br3v2pD2YWzqfq45bxpoKGBuGq5u89+FDJ8GpsVbiZjJpSJl0WWM4t7YZs2nja4z3RUmFj65yi9qOTCdD3IQ3ty/hP3aYW+xudrYsXi6fiF8blprCmQ9cDNyQ1nZRsn3I2ehGpVLqZdwsb5RSrcBX80x3HW6meHb7e0BhxdnSyCnkfNJOUF34/KbPIC52hsxfQ2Sd57TrQ+tIDZyL6ep9j+js9YSme0VTGMkEoQdff5dvzD6BaaPHAjC2bgzlho/yqM3o5DIUcUhYqI4gTksnNooljkXC3TliQKiri6pOxXZmcZ49Uox2Wnr6JT1OrBBPT6EP6vUB1bPM9Hgvr4djr3G0Pfu0ph5+UNoNx6iJzB71NYjSk+yTmvZXbE9sH4sXFy8lZjkUWwYJw8E24Z5j1nNV80TWBkM0d4WpKS/BTEsCWr6+kwdeW5wsqym0BsMsWd3Ctw/fjbHVZbk75Hi9hrjJC2vKnYzC2E2dYda84FW3z2BOJUhfBoqjGLugAdVgU5I0LKN+h9dmdPKVsVOZc1jhxs17D3ufp45dzpWjFrPimJn4V33OxGcTGI5gOMms3slhvrHvnpgn9n3cvPhW13I+LiohpQwE8G4kwdn/+AcPnPXdvOfYjY0LqS72UyOKoiwPnjjwYls3p193fG5S0iCKOW8IfRmx4F2+KN04T59/1Jj5XNjUhGNVuCcSCn/pCn5T06tD35+mez7MnDCJjZvUJFGbHf+4qKdgegoDobKxOG88ZV8vHidzbE6CYDYlyuD3N9+TDMdJx8SOjeKqug83G41xcIflK/aDyDwbwxGKLYOIH5orDB7/kivtqzBZ7INLOpYyp3rqRtmuNuVwpxXiVSfOduLjXF8p04whkobTbCzOBR4XkQuA1bihhSEgV196CNjUnsothqKASTiUQNLyhcYHxrAmkisTN7psDJhxipRVsN53yjvqdIeRaCwzYSgcg7L8y2hWjketcaFThPZEmDEirDOy4uUCa7i+aWTPENdAPSDpD+rxlnAedl71hg3xdM0etYd70+9ONvQxFOcoxeslNqu/M5GuRWuQNd2sHB3nk106+W58PP8XGMGSu/+ZHH5WnBMJckNy+Hnn0BosI/0yMEgArz33Pm9W5D7wFmxXxqolnRkeUVsUS8Y7mK1TWTx3AXVisIvhY1cMbvcsZi5EDH/Gi47nfs2cytNr1rH0vQa6ShwW7trNN/faM6NAdCFD0X9WQpeXT15sGivd9sSFX2PR+Bdp+3A9jjJYtV2I0/fYi5NOPKNnPUop2hvCRLrdcidlI7zroTpK8UpRAC9loMe7I/0agCs+auVjj801lBAyNo+M3v62wat8Ubohma7Sc9ZJZ/DZfX/hwcgC1paajA/HOLF4Gsv3nZFTgqvs7FyDui/sO5+k7OzjCyqSXsiLotkVp+LV9Rhhi9BetcS2r8g7rVXkQxB3WNeroL9PYQW8X3p/0/IpQMGF6r14MwCEPDx64rCm1D+gF7MUqX4cjhjjWbvMYG7ZfJ5v7sIXCrBkZC3vb1eSIXsJJv8qFebglh8Kd8YpCpgUBYb+Ub5O2RwabaVdWSTE4HVi/MsO8pNwF1cXEIuv2fSIiIEbQvglYI/k50bgbaVUfj3lQaCNyj4wsuIVDaOVaEeMkpiBErh4tx9z6fvXEE0bAi8xSzhvz5/ht4rY1SwfsN734QcewCk/OI8LzvkuI6uraevo6Heebs+C2QCKtT6b6VJBUSJMo8/BMsCUOLc2FQ/Z8M/JZgm3hxN86AfXkHDS1BsmDnltNKUUFuAXoUU5HBxqZL2ZNPd3rWC7qaW8UlZPhRjsHVzlxjOmDT/fEahgVMsnnDdyV5oM71qAS33el8bOB49mzapOonGHkoRB1O8QN03u/EoFMeXnIRUBBGw7Ocjs5WGyqVL9J2gZhnDsxLEwcWxvY2vmA60QA/17ZoA/2d1ZRr8NgSYmdEmvcVs2BQ6a0jtJW++6WoMJXvz3UhIRhS2uTrPUK46bNS0n892NU/EennPyqhL3MmpyObye2275FI314X7nz0d2yEW6ERW3bD5taCMcs9iurpI5076cMe9gh57782xWHXYYZ5O/nFyGwZcWB12IcZOvqH9fSj+p5acoUQbrXl/Bq+c9QCIZG1z9VzC+VM7Mu89FRHKWkzIIl0wOMXVFWcaLWNzn8MG0LsZkqT6lM1ht6Y9j8CgesqfKoD4c93yp669fUslE5jkbnrzWl6DC7Il7MHsifOAkOCK+3jPQMuZzaFjUwYJ5jcRRiAOfTwwzeW8/s+uHzvt6YyJIq7Kxe2Ll3Tvan8vK2G2AsfKaTYNSyhGRR5VSFbhxlMOO9KNwuFXwpdEj1LzTDwV6h4NWWzPYecfJGdN5KdqorOETp6uLDidC3IQiGx797CVu/uAPrA+ty8n+Hltd1hM/OZBM73v+8zBzbrsTwzTZY9ouTKqv7ykp9Mgzz3Hhlb+mua2NEZWVzNh1F275x520K6+HlQJflD2czBTNJasaGPfQ0BbTV0rxu9ZF3FwVoTOQYHyijV83b5h6Q75ki9+u+Yinn36DBVEDhYFPIlQqaCM5zNqDw+7FNgceshe3Pvehpwe1xOhgh/FT+GR1C54GkMS4/MSDPR94dszisd/czVvLV7KkspY3J1cQLcpT7cqIg+MjvZi5GAn+3NnB6aOGT7MY3GPSsTbCmmVd/GK7KG/VFaEMxx2OLmkjEFjOTasKi6l74p+foJqkp8YmQMzvYOxuc8LBuckzo6Ofk1DZ4QOKEqOTxuLcJKVsHnv+Y5xPDfzJ7P64X/HajE4Omlo6qJeh7HJAUXH4YH0zx/znMaLKTqaSKPZOxHm6YtImS4rYkBjR1LnqZQCb5+TGFJ9n1bP6kYXE2yOMPmR7Jn5lCuG7n/Bctm05PHvrp0gisz+ifgfzmyOZfcnZebcx9MQ8xt3bTXW33x3dB74YG2XS97bnpFPO6NN4VErxwdH78Oq6dYwuDTBzyiRK73necxuz+cRJ8NVoc1oCIaR01W9rNjZ6TGVfLzXZXDx2GiNvuhWH7NEAm32bVvPTx6uQND9T3HRYOjHClAN8GfuVG/7gkn1f8zpndo82scbzuWIzrnghC40j827/lkLNH308I8sAABpZSURBVB59XymVW7drI7HXlPHqrd+dn9NeNPuyIdsuEXkSuEYpNSyyjDnr25aMytRF/Zv2zzi+bBYTp0x0J0hlYm8Aa9uD5CufOba6vOfbhhiX+cgu2BlRiiXKI8NbbIokyq6MyGjONioL8VpsaqwiHw8//ApLY+lqM5CvfKlgcdaRR/C3514A5eV1dJDkm3cublzb3qUOR5x4uPcG2TYJy+b3/3nTc/3p6ykPfE4iNoqY4adStXNNh48zh8mgTBmSofYYTcuDrFvRjbLBMaC1HB46JMjrM1qYGLK4Kk+CQzbxiMWzty/1LDzdVB3nrO/k7sucloVcW1aN2zcp77XDNcF2zq8trObeI4sX8O76ECE/LJ8c5Lu+UUNuCDhKsWO4kfYcj7XN2ZFuzyz9rYG1Szv58JkGbOUmmsX8Dr6RimNOnYbhUXO1eWWQ155cSUk819O8YKduLpv7q5z29HtJ57x5fLxsBURN4pUJztl1X06adXpGrGi2AR23bfZ98GFWN3Umw3scBMWplQluO+vHPdP15UX+b1uQi+PtrKzwYSqbcn8jN3QW8e1kSba+4sf7q1KQTiGe7L5qqHrN+4eWhVxTPgKQnvABs6iVu58pQ5bGMhKfwPX+/v47X/DfimN62vIZlYXsw1eiLXyivMIPHKj7kLZg34mcWwLbiFF5M27h80dxYyp7HntKqSuHYh3pbJPD35dW7+jKNKYlsWyosdckCWzlJ7u6pSmJnsQatyWVZLPhRJVipZMgmvSeGGJRbylq/KXU2Q7NPQkoAmJjGDHGxYsGPASfjlXky9BMz0dbtDDd8g0l3B1iaczAezg5F79lsMsb6zEtwc7ZfPfGnv9YuAWK3gsrJjz5KjNO8EgLMMHvc8hfk7+XYHknlx/TGwf5nT48SoMhEbV57v5PSQQBpSiyDCRZxMVwYHQXnPNUGd/zFzF7uz0KDkuwLYVjKPAwKs08BYQvqp1OefPHXFtlEzRKqXBCXNlpcnZd3yWB0pm1ywxmDXPo1kJl0eF5SpncW2Zwo9dP/dCobAQYu4Eyi8ONbTl8+GwDYkvPA6A4YRBtdXj8nY+ZuV/uMVLehx+AqOkdY5gZV7oD1O/Q+7UFzxJA6dyZCNGQ6MTKKlX276DFEddf16NPn28ZjUs6CT7bwFWOwlQGcZ+Dr6yMI8/YpaDrrq8Er1SMbGo5hYShDLSG6s9qpzO2aT5X1ARpLfExJt7NdS11VLUKQY97jmUqwpJ5MqeXa/Lah7624zxfGT9OtGWN9DhQ1MXEYJYQu2ZzJgA8kvw8LGWE0tmmjMqMizop05hiQ429ektY5bdQTm9XimFRn5BBGXPZWCiWKgsnbTjOUT5W+WyMRJjx/lJKE2EafRYJU1HkqIKThPLpERda8+/GxoXUFCWHadIM0JShOa5sUr/L6I/V4VY3/TcnCzaVBdDbL4at2Ht5grr/vsbVYwyuPLYCJanjkzIEC3ngGzzT1Uw+n6JpGATMNiJ2Dd7GrgP+EPVhx01IsG18ccszPi6dDfGCADzz1GJUp1DsUd8yhW0ongi2Zxaw7oeSch/BUpuarszlJgyHT7cP5p3vB3W7uZJWKeoGsNKNhI2r7OJ1A4gNUBrvEyfBN8LrWJu8BvwS4apgmPMK9MxuLNobIsSM3GL3JQmDpY3eL4cj60tzSmmBO/y9ZMdujzkGz30ZtW97UY6fK2qbOLGPeW3LYf7zruGcyjwvsgxiIYenXv+EEw4b/DHZGAljp43ag9PALaxnAKNg0YR1dLRHc0YOTEeQ4qHLvTjNLOGRYJTniwPJe6+AP0yg9HOuWj30sfKa4UEplavrO4xsU0ZlJgql1KAVFqr9pUgiTKM/TNwQ15hLFGbMDYRW5V2gGmXQ4IszIrkt1dAr2+hh1LpJLopL4p284ySYYvi4wFfGdI8yEYXeNK/IU3NyVNLQsoKretq9PJ+FGJ8jK8o9DEpwrQEnaVqaFMcVZXHF6W9GKLYMxq13OLmhjUcnBoiLj3LpYAf/WBZEPAL4cxAipkFjaKXnr+PKJvHtkXXc0daJY5WR8nC6szogNiWlnzOzOGmWmiZWILnvdu+bfnaGq1f8k+lR6zMdx1Gw2sCfz53Uu0s0lQ/sFUpEKNtXEXvFwXBc3eao3yEUsNlrh6E9zzc2u4sPQ6nca0tsqlULru5C/3QphyOjzYRNH6lzIKFKuby8iJFN8zl1M0pqMJJJbV50lXi/RJp+AznAJv46bqi2LcT9ig93CvKN8pHDsp19naVryxX0kbPV1Rwj5qESVWwZrFmbW9JtOIkoxUtOjIjtsPsXCRJrIpRU+Bi3cxVvBxwWOBaTDJOjjGKKCngebb/PSFYuasOyVI9hGfU7PH5QK79snzAgY69J2VyfCPKUHaVEhO+apfzYV4ZfBBHh3yN24O/NH3F9TRvNFXEmhqNctXr4a5sONwOtorClIiL+VJa3iBxE5kPvDaU84xsGxTZhVJoTpuS0+dubaBs5kprSkoIMSzvhEI/YKKXwF5v4i80e+2GEv5QRlPZpzA2WSB8xnwnDKMjVqpSiKRzl9ZbV/NUKY4uwwI7zsB3iwnAnV4wsTAovm75rTub3eKaMp3Tjs0frN0nK4CoCphfbLIxlexkdDmMNnetKqG6pZIdmh/0+j1OcvFSKEsKItUF+fkFvgkZXJM5HT72X1WUew9hiU0Mbo/LUCLSCq6j7yr6c/9JL/Du8iKaiYsriBkoVES6JMT7ewTWVX+GkWad7zl+oUktqmKrPITblFkbvD0MJzWMGnkE9aze33MlrjSFKg37WjYlwZF0Vs8d7P1yUUjzuxLjPCmMB3zQDzDZLMDezos2mCBeHu7mxtIqelwJxMMwgv20PFPyAnmtHiUh2tr8bT3p5TYhTh3zLN5zqcQFsM/dkifodFu7SlXe+mXvuztyR83mhtYsYwvqxEb5njGL26OExML5pBrjC6shNtDMSTAjF+ow6iXbH8Vne12172cYbun3DjnNyrAXHtrn80TDS4RBIuPGPC95sZs4xpXwyzg/iYCqH64MdXPiLy9x96OOe6Tt0PJU3vop/eYyWSos392xn6vTJrDjssJy6o/my67vjcfb5+/2E7Lj7Wq4U11qd3CcdfOuEA9Om3I4feixrS9RXTzHUqlubIyJyLnAAcGay6TmgNfm5FPg5cNeQr3dbSNTZe++91fMHZ4YS2MWltB04i0T1KPqLibMSDomo3WN2KAADAmX+fuYcOrpQdHpm4oEpCcZRUsBSFB+3NnD+vL/SFss0UcSIckdnR0+cUjpv2nF+FFnvKsOIRZW5jt+1+4elpER2di70Gly2Uvyo4zPmlpTg4GoZX9Id58La6TQs7uTteasJZCUSxE2HBw9r5R+7HZzRPqdlIddVlqLsZL+ZYbAD9CaW2Bi+ILe2RzY7Sbd83Hr/B0xYW5KlXKJwxK0JaCi4ffZavl9UO+yehvPjnTxshYglhy8FmxmJBC9WbLfZ6S+/Zcc5NbqWbiMZG+3r5tsda/hjXZ4kLQ+uj3fzO9srac+B8jW02fvmzPOKHeM2K0yLcjjGLOZ7vlIqPYZ7h4NHFi/AfslEFIgSDAUv79nJwVNKh81IHChxpTgkuIolvmRJMBwQRXHFp9zckP8cXv5uC5++0ZSsbJabrf7A0ev41w6emhuDIjtjP5ywmHzb34kqOO7DCCe+F6U4y55tKxV+emZVssqIg+ELcm61n4ojjsgbyz7Q+PWaEm91sPeXNPDSu8uwcs5ZmxOrYtR+7ZD8y7FtLq3NTWLbEgzNlJPDvvPJrTpRR0TeBH6klFqQ/N6ulKpOft4DuEUptf9g1uHFNuGp9MKMhamb989+p4tHLF64fSni5N6cjC/bzNyn8MSDDSF1AbRFohx+171EVbo3xDV8zq/0U3VY/hp36dz4wnvEErlv6sop4spRDaw8ZmZG+7qOEPfMW5gmdean0xrHubXNfBRY3rPevmrNDeQm09e0pgh3VO/EHemNyVyr0VMqYF7uPI4BKyfnxnxdVDudyU3zuapuMWsqbSZ2w5dbqnmmsoxuv49ap4PftFZuUbXYxuxpEn3BwbRdRY6Y3yHmc3hl73Yaa2zWjQtxSVf9sBuUHzsJHrLCGfFwCpP5frihbRG/GJlfnnJjs9KxmBVrIW6kFeG2yrm3agKHDEDKby/Tj9hOrldNFKPioZwQ3psSIa5NdPb00ftWlFtjHbxbNo6KjWBYztplBnOr5vNQsI2IGLTVhflpfNyAzo037DiXJ7pYrCzqxOBis4xv+0qH7KWhSIQ3yifym7bF3FEZpjMQpz7Rzq8a8pcqiwYTfPpGU879WqGwDZi3d/ugh+vzlgZa+1HvSItpsmRVCzFlAyYHfhbPMSgBSuOKce0ODTUmYOBY5cwNfcAPir6dd/3jPIS+CiEVxpMyDtes7/QwKAGBlyJrOT97hCbiatFneyuBASUsbUpSx+7GxoXDorS1mTE5ZVAmWZT2eQGw/XCsdJs1KgulbU2YmM/JKaVRkjD4aH2ImXnmGypCdz2Oec6x1ARKeOvMb3DWAw+xIGqBOJSbzZxeXUPZkV+jqcCkmNLihcQS3pd+Y4WNr3xi7/fQSv67dC1xlT00bGLFRvGQ8SHHySHUlAT4TftnmQtLxgz64lZOMspwFDv2+Q2Mw206XlMUxw3XQ2fC7bPWclF4PJTnzpOj2lObsYtbXCD6rJ1mMLdkPi+t66ays4jWkVG+NqqKm+vTvLSFOLQHyX/tOHHxyoo3uLUiyi+GfxMK5g4rTDznuWrg2KVcVruy4ISmI4xitrMdVpopTzeAjWGGuL61OuNc6lIO1yS6SGQZ3U2mzf90LOO26p02fIcGwOxxewwoYSudd504p8TbSPnM1iiHi6wOXg82cPsQbr+I8MuRu/JLcJNVhD6vy5YvQsRNh2In836tgDendXH49uWDrnPaV63J3vhoi0Q80ZMEZnmUaQJ3d7JH6Rs30Gjsj9SzoTG0kpqSADVVpbiparke0fayaEGOgk1tRPYnKgBZx2jtR8O9SRsNETkK+BPuAbxTKfXbrEnKRaRMKRUCUEqlxzSUAsNypmmjsh9Mv+FZSsMWRWv5xonNSZWF2OXs43nnnLMHlhSTxd47jeKFD5Z5qKu0Uh+CaLyxp3WUMmhuy1OHUxwaA3433jD5Blso2dJzKVL71ZfiRF/M2mUGc2vmc6dqpCUAiYoYV7RM5ORfXpaz7mz6krEbrLLHxiSlyLEpGSF5dPlQdAWslOTOZsFSlUqrzUIU60qKocCcDlOE18rqOa9zGU+V+LEMqJJmbmj354SUfOgksMQm9/Zr8lgp3LYhOzIMZIeihO56vKftt488SWRN5vQKkwdLyvj6yHZOTZMSzUe2nvlQXF+mz/t+rQS6yu0h99Jn3zfS7y9TRvYmF87bpYhxb0YoSUuLcIDWMoP1Val+UG61iJBDY2jlkFTN8CK13C9PreSNj1dkXakOmDHGx0I5joIfzzgIFQvB+mBP/ctNfW9MX6+XsAH04cQ4e3f4w6PDt3HDiIiYwP8DvgasAd4VkceUUuneyIXA14G5Hos4CvhkOLZtmzEqq+c8QvtFswY838gJZV5KWVg+xeKp+YPah4N8F24+N75XfGL4gKmcsnQVLwQTvSV6irsIBL7g+tJDODUrWWdBZD6PeyWxKIP6cKJf/eq+yK6TlmIwb7+zR2d6X8ouPT5DZ7kQsofsN/XbeH94HedNyamxOD+9468eZqVivN3W80DaHDjg3fm8+NY75HhrlMG4eGRA21oB/KOA6WqbW1H3P+TxiyLmTwxr/wxI3CBtOLdnxCHZ9nZzc97Zrmx9m+XtX877O5BR/SBj+YNEDrOY/PzqnHbLVCyd0s2cwa4j1Sf5avcGintjHgM+9ilN8G7Yx8u7+NmtwWKPVQlQCtt0sAyTPx4VABHABnEoKVvOiSX7UTNMBmU6lWUBTqnx8Z+OEMpJDmEUdREo+5yTivfLiN2sKQlw0wIPlb/UiFSefi1Ecz4fA33pGKhhu7nf1/thX2CZUmo5gIjcD8wkc4j7j8DNIqKAx5KSjUZyupvouxTrBrNNJOqISDewZEPnLw8wMVRFXbpxKQrKOmkORliVf87Nl/IAE2MV1CVM8NtQ3J1/X/Ltf1Er3bEESzfWNm9j1AItm3ojNpTN+JrJ6ddNsa3+UeyV8LBL/DYkmnh/ONY55Ixlr57PYdwBtRRrN90+bG7nXvq91ky+39pG8r4bIxIrJtDPfXhY7wUDeRZsZdQCZUqpTVZBV0SeITPwKkUJEE37frtS6va0+U4GjlJKnZP8fibwZaXUj9MXIiIXA7/CLaDSklxXDPi1UmpDtB36ZVvxVC7ZlBleWysi8p7u1+FB9+3woPt1eBCR91SH7tfhQJ+zw0OyXydtym1QSh21gbN6a0PnLv/3InIHsD+uQdkKvKmUGpxWdB9sK0alRqPRaDQazdbAGmBC2vd6oNFrQqVUF/DsxtgoKFRIWaPRaDQajUazOfAusKOITBaRIuA04LFNvE3AtuOpvL3/STQbgO7X4UP37fCg+3V40P06fOi+HR622H5VSlki8mNcD6QJ/FUpNSzZ3ANlm0jU0Wg0Go1Go9EML3r4W6PRaDQajUYzaLRRqdFoNBqNRqMZNFu1USkiR4nIEhFZJiKbkzrcZo+ITBCRl0RksYh8IiIXJNtrROR5Efks+b86bZ5Lk329RESO3HRbv/kjIqaIfCgiTyS/634dAkRkhIg8KCKfJs/d/XXfDg0i8rPkvWChiPxLREp03w4cEfmriDSJyMK0tgH3o4jsJSIfJ3/7swyV6PoWTJ6+vTF5P/hIROaKyIi033TfDjFbrVGZJmN0NLAr8E0R2bXvuTRpWMDFSqldgP2A85P99wvgRaXUjsCLye8kfzsNmIYrAXVz8hhovLkAWJz2Xffr0PAn4Bml1M7ADNw+1n07SERkPPBTYG+l1HTc5IDT0H27IfwNt0/S2ZB+vAX4AbBj8m9Dax5uTfyN3H54HpiulNodWApcCrpvh4ut1qgkTcZIKRUHUjJGmgJQSq1VSn2Q/NyN+3Aej9uHf09O9ncgpX05E7hfKRVTSq0AluEeA00WIlIPHAvcmdas+3WQiEglcDBwF4BSKq6U6kD37VDhAwIi4sPVz2lE9+2AUUr9F2jLah5QP4rIWKBSKfWmcrNt70mbZ5vFq2+VUs8ppVKq62/h1nQE3bfDwtZsVI4H0kVg1yTbNANERCYBXwLeBkYrpdaCa3gCo5KT6f4unD8CP4cMUXLdr4Nne6AZuDsZWnCniJSh+3bQKKUagN8Bq4C1QKdS6jl03w4VA+3H8cnP2e2avvke8HTys+7bYWBrNioLkjHS9I2IlAMPARcmK/PnndSjTfd3FiJyHNCklCpUG1n3a+H4gD2BW5RSXwJCJIcR86D7tkCSMX4zgcnAOKBMRM7oaxaPNt23AydfP+r+HSAichluWNd9qSaPyXTfDpKt2agsWMZI442I+HENyvuUUg8nm9cnhwdI/m9Ktuv+LowDgRNEZCVuSMbhInIvul+HgjXAGqXU28nvD+IambpvB88RwAqlVLNSKgE8DByA7tuhYqD9uIbeYdz0do0HInIWcBxwuuotzq37dhjYmo3KzVbGaEsgme12F7BYKTUn7afHgLOSn88CHk1rP01EikVkMm5w8zsba3u3FJRSlyql6pVSk3DPyXlKqTPQ/TpolFLrgNUiMjXZ9FVgEbpvh4JVwH4iUpq8N3wVN85a9+3QMKB+TA6Rd4vIfsnj8e20eTRpiMhRwCXACUqpcNpPum+Hga1WpnFzljHaQjgQOBP4WETmJ9t+CfwWeEBEzsZ90JwCoJT6REQewH2IW8D5Sil742/2Fovu16HhJ8B9yRfJ5cB3cV+edd8OAqXU2yLyIPABbl99iCtzV47u2wEhIv8CDgVqRWQNcBUbdv2fi5vtHMCNE3yabZw8fXspUAw8n6wM9JZS6ke6b4cHLdOo0Wg0Go1Goxk0W/Pwt0aj0Wg0Go1mI6GNSo1Go9FoNBrNoNFGpUaj0Wg0Go1m0GijUqPRaDQajUYzaLRRqdFoNBqNRqMZNNqo1Gg0Wy0i8hURWTIEy3lZRM4Zim3SaDSarZWttk6lRqPRKKVeBab2O6FGo9FoBo32VGo0Go1Go9FoBo02KjUazWaFiOwgIm0ismfy+zgRaRGRQ/NMv1JELhWRRSLSLiJ3i0hJ8rdDk8oa/S43Kcv2hoh0iMiCPtY3RUReEZHO5Pz/HvJO0Gg0mi0QbVRqNJrNCqXU57havfeJSClwN/A3pdTLfcx2OnAksAOwE3D5QJYrIuOBJ4FrgRrgf4CHRKTOY13XAM8B1UA98JcN2U+NRqPZ2tBGpUaj2exQSt0BfAa8DYwFLutnlpuUUquVUm3AdcA3B7jcM4CnlFJPKaUcpdTzwHvAMR6LSQDbAeOUUlGl1GsD2zuNRqPZOtFGpUaj2Vy5A5gO/EUpFetn2tVpn78Axg1wudsBpySHvjtEpAM4CNfwzObngADviMgnIvK9AvZFo9Fotnq0UanRaDY7RKQc+CNwF3C1iNT0M8uEtM8TgcYBLnc18A+l1Ii0vzKl1G+zl6GUWqeU+r5SahzwQ+BmEZkyoB3UaDSarRBtVGo0ms2RPwHvK6XOwY11vLWf6c8XkfqkkfhLIF/yTL7l3gscLyJHiogpIiXJJJ/67AWIyClp7e2AAuwB7Z1Go9FshWijUqPRbFaIyEzgKOBHyaaLgD1F5PQ+ZvsnbvLM8uTftQNZrlJqNTAT1yBtxvVc/i/e98h9gLdFJAg8BlyglFoxoJ3UaDSarRBRSm3qbdBoNJoNRkRWAucopV7Y1Nui0Wg02zLaU6nRaDQajUajGTTaqNRoNBqNRqPRDBo9/K3RaDQajUajGTTaU6nRaDQajUajGTTaqNRoNBqNRqPRDBptVGo0Go1Go9FoBo02KjUajUaj0Wg0g0YblRqNRqPRaDSaQfP/AYS6ssn91SpCAAAAAElFTkSuQmCC\n",
            "text/plain": [
              "<Figure size 720x360 with 4 Axes>"
            ]
          },
          "metadata": {
            "tags": [],
            "needs_background": "light"
          }
        }
      ]
    }
  ]
}
>>>>>>> d0cb1cd61e8eedb70c9a7f2751df8ca99387b9c0
